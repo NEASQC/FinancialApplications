{
 "cells": [
  {
   "cell_type": "markdown",
   "id": "7612c2a4-9e5e-4c08-8c27-24e761b10478",
   "metadata": {},
   "source": [
    "# Noise Model Test Bank (only on QLM)\n",
    "\n",
    "The module **model_noise** from **QQuantLib.qpu** package allows to create in an easy way noise model for simulation. The following noisy channels can be added to the noisy model in an easy way.\n",
    "\n",
    "1. Depolarizing channel.\n",
    "2. Amplitude Damping.\n",
    "3. Dephasing (only if there is Amplitude Damping).\n",
    "4. Measurement Channel.\n",
    "\n",
    "In order to configure a noisy model an input dictionary with the following format should ben provided:\n",
    "\n",
    "{\n",
    "\n",
    "    'qpu': \"noisy\",# ideal or noisy\n",
    "    \n",
    "    't_gate_1qb': 35,# ns\n",
    "    \n",
    "    't_gate_2qbs': 660,# ns\n",
    "    \n",
    "    't_readout': 4000, # ns\n",
    "    \n",
    "    'depol_channel': {\n",
    "        'active': True, # True or False\n",
    "        'error_gate_1qb': 1.0e-4,# float\n",
    "        'error_gate_2qbs': 1.0e-3 # float\n",
    "    },\n",
    "    \n",
    "    'idle': {\n",
    "        'amplitude_damping': True, # True or False\n",
    "        'dephasing_channel': True, # True or False\n",
    "        't1': 0.2e6, #ns\n",
    "        't2': 0.1e6 #ns\n",
    "    },\n",
    "    \n",
    "    'meas': {\n",
    "        'active': True, # True or False\n",
    "        'readout_error': 1.370e-2# float\n",
    "    }\n",
    "}\n",
    "\n",
    "The implemented noise modle in **model_noise** module have the following assumptions:\n",
    "\n",
    "1. The time for 1-qubit gates will be the same for all the possible 1-qubit gates: **t_gate_1qb**. Hardware model set all the 1-qubit gates (used or not) to this value.\n",
    "2. The time for 2-qubit gates will be the same for all the possible 2-qubit gates: **t_gate_2qbs**. Hardware model set all the 2-qubit gates (used or not) to this value.\n",
    "3. Times for 3-qubits gates (or more) **WON'T BE FIXED**. A rewritter plugin is recomended to use (in the module a toffoli rewritter is added to the final qpu).\n",
    "4. Amplitude Damping channels and  Dephasing channel should be enabled under the *idle* key of the dictionary:\n",
    "    * Dephasing channel will be enabled only applied if Amplitude Damping channel was enabled too. This is because $T_1$ and $T_2$ are needed for generating paramented $T_{\\varphi}$ for Dephasing channel.\n",
    "    * $T_{\\varphi} = \\frac{1}{\\frac{1}{T_2} - \\frac{1}{2 T_1}}$\n",
    "6. Depolarizing channel should be enabled and configured under the *depol_channel* key:\n",
    "    * In the *Depolarizing channel* each time an ideal gate is applied then the depolarizing channel is applied\n",
    "    * The *Depolarizing channel* will be the same for the 1 and 2 qubit gates.\n",
    "    * The error asociated to all the 1-qubit gates will be the same: **error_gate_1qb**\n",
    "    * The error asociated to all the 2-qubit gates will be the same: : **error_gate_2qbs**\n",
    "7. Only default gates in Qaptiva **DefaultHardwareModel** can be used. If *hw_model* is a **DefaultHardwareModel** object the default Qaptiva gates can be listed in the following dictionaries:\n",
    "    * hw_model.gates_specification.quantum_channels: Gates and corresponding definitions. Gates can be of the following type: \n",
    "        * QuantumChannelKraus. Using *arity* attribute e can know if they are of 1, 2 or more qubits.\n",
    "        * _ParametricChannel (paramétric gates of 1 qubit)\n",
    "        * _CtrlParametricChannel (controlled parametric gates: 2 qubits)\n",
    "    * hw_model.gates_specification.gate_times: dictionary with pair key (gate name) value (execution time of the gate)"
   ]
  },
  {
   "cell_type": "markdown",
   "id": "3f4f50c7-cf3f-467c-8ac3-6e2e3d12ada2",
   "metadata": {},
   "source": [
    "### Toshiko\n",
    "\n",
    "T1 = 50 # us\n",
    "T2= 30 # us\n",
    "F1 = 99.9 # %\n",
    "F2 = 92 # %\n",
    "F_ro = 90 # %"
   ]
  },
  {
   "cell_type": "code",
   "execution_count": null,
   "id": "df1a3ee8",
   "metadata": {
    "tags": []
   },
   "outputs": [],
   "source": [
    "import sys\n",
    "sys.path.append(\"../../\")"
   ]
  },
  {
   "cell_type": "code",
   "execution_count": null,
   "id": "dd9e1b0b",
   "metadata": {
    "tags": []
   },
   "outputs": [],
   "source": [
    "import numpy as np\n",
    "import pandas as pd\n",
    "import matplotlib.pyplot as plt\n",
    "import qat.lang.AQASM as qlm\n",
    "import json\n",
    "%matplotlib inline"
   ]
  },
  {
   "cell_type": "code",
   "execution_count": null,
   "id": "fd3ff415-c947-4c00-b497-02a964ce1b46",
   "metadata": {
    "tags": []
   },
   "outputs": [],
   "source": [
    "from qat.qpus import LinAlg"
   ]
  },
  {
   "cell_type": "code",
   "execution_count": null,
   "id": "e44fb05f-b1fa-49d2-a738-80973049fe25",
   "metadata": {
    "tags": []
   },
   "outputs": [],
   "source": [
    "ideal_qpu = LinAlg()"
   ]
  },
  {
   "cell_type": "markdown",
   "id": "97a6ba69-74cf-4638-8883-fa0d5f50b4d1",
   "metadata": {},
   "source": [
    "## List of gates"
   ]
  },
  {
   "cell_type": "code",
   "execution_count": null,
   "id": "cf7ac396-03bc-46f7-8ac3-b17f2da07d54",
   "metadata": {
    "tags": []
   },
   "outputs": [],
   "source": [
    "from qat.hardware import DefaultHardwareModel"
   ]
  },
  {
   "cell_type": "code",
   "execution_count": null,
   "id": "3f0a3029-a74f-4d0b-854e-a2b43948e10e",
   "metadata": {
    "tags": []
   },
   "outputs": [],
   "source": [
    "hw_md = DefaultHardwareModel()"
   ]
  },
  {
   "cell_type": "code",
   "execution_count": null,
   "id": "9dd490a3-6688-4d24-ae5b-0e632bbee898",
   "metadata": {
    "tags": []
   },
   "outputs": [],
   "source": [
    "# Gates and asociated quantum channels\n",
    "hw_md.gates_specification.quantum_channels"
   ]
  },
  {
   "cell_type": "code",
   "execution_count": null,
   "id": "1ff0da3c-2d00-42e4-836c-89360ae9e0e3",
   "metadata": {
    "tags": []
   },
   "outputs": [],
   "source": [
    "# The Kraus operator is the ideal gate\n",
    "hw_md.gates_specification.quantum_channels[\"H\"].kraus_operators"
   ]
  },
  {
   "cell_type": "code",
   "execution_count": null,
   "id": "c544156a-8e53-48fb-8b07-9906bd3e8a51",
   "metadata": {
    "tags": []
   },
   "outputs": [],
   "source": [
    "# time of the gates\n",
    "hw_md.gates_specification.gate_times"
   ]
  },
  {
   "cell_type": "markdown",
   "id": "8bf3980f",
   "metadata": {},
   "source": [
    "## 1. Price Option Problem\n",
    "\n",
    "We are going to use a price estimation problem for playing with the noise models."
   ]
  },
  {
   "cell_type": "markdown",
   "id": "9c0d1868-12d8-4d33-960a-605439b9c3c8",
   "metadata": {},
   "source": [
    "### 1. Price Estimation Configuration"
   ]
  },
  {
   "cell_type": "code",
   "execution_count": null,
   "id": "1e76e75f",
   "metadata": {
    "tags": []
   },
   "outputs": [],
   "source": [
    "from QQuantLib.utils.benchmark_utils import create_pe_problem, combination_for_list, create_ae_pe_solution"
   ]
  },
  {
   "cell_type": "code",
   "execution_count": null,
   "id": "eb71f7eb",
   "metadata": {
    "tags": []
   },
   "outputs": [],
   "source": [
    "folder = \"/home/gferro/FinancialApplications/benchmark/q_ae_price/jsons/\""
   ]
  },
  {
   "cell_type": "code",
   "execution_count": null,
   "id": "8f2042e4",
   "metadata": {
    "tags": []
   },
   "outputs": [],
   "source": [
    "with open(folder + \"domain_configuration.json\") as json_file:\n",
    "    domain_cfg = json.load(json_file)\n",
    "with open(folder + \"density_probability.json\") as json_file:\n",
    "    density_cfg = json.load(json_file)\n",
    "with open(folder+ \"european_untracked.json\") as json_file:\n",
    "    payoff_cfg = json.load(json_file)"
   ]
  },
  {
   "cell_type": "code",
   "execution_count": null,
   "id": "70230003",
   "metadata": {
    "tags": []
   },
   "outputs": [],
   "source": [
    "pe_problem = create_pe_problem(domain_cfg, payoff_cfg, density_cfg)"
   ]
  },
  {
   "cell_type": "code",
   "execution_count": null,
   "id": "aac9bcd2-39dc-4d31-a8f3-a86ff5cf4740",
   "metadata": {
    "tags": []
   },
   "outputs": [],
   "source": [
    "pe_problem"
   ]
  },
  {
   "cell_type": "code",
   "execution_count": null,
   "id": "87d1213c",
   "metadata": {
    "tags": []
   },
   "outputs": [],
   "source": [
    "price_problem = pe_problem[0]"
   ]
  },
  {
   "cell_type": "code",
   "execution_count": null,
   "id": "3ac3dec1-6e87-4781-a256-3dbc9b5f5ab8",
   "metadata": {
    "scrolled": true,
    "tags": []
   },
   "outputs": [],
   "source": [
    "price_problem"
   ]
  },
  {
   "cell_type": "markdown",
   "id": "58b12979-ea13-44ab-8d12-707ae1d7c978",
   "metadata": {},
   "source": [
    "### 2. Create associated arrays"
   ]
  },
  {
   "cell_type": "code",
   "execution_count": null,
   "id": "bf512636-c034-47dd-95bb-e2636436805b",
   "metadata": {
    "tags": []
   },
   "outputs": [],
   "source": [
    "from noise_test_bank_functions import create_arrays"
   ]
  },
  {
   "cell_type": "code",
   "execution_count": null,
   "id": "fff75a1b-58e5-4c2c-97c1-51e8dbd0ab51",
   "metadata": {
    "tags": []
   },
   "outputs": [],
   "source": [
    "domain, norm_pay_off, norm_p_x, pay_off_normalisation, p_x_normalisation = create_arrays(price_problem)"
   ]
  },
  {
   "cell_type": "code",
   "execution_count": null,
   "id": "8b7006d4-cbc4-4908-96c2-1062ee202a5f",
   "metadata": {
    "tags": []
   },
   "outputs": [],
   "source": [
    "plt.plot(domain, norm_p_x, '-o')"
   ]
  },
  {
   "cell_type": "code",
   "execution_count": null,
   "id": "dd62d4ca-e52f-426a-8098-140e8ce5089d",
   "metadata": {
    "tags": []
   },
   "outputs": [],
   "source": [
    "plt.plot(domain, norm_pay_off, '-o')"
   ]
  },
  {
   "cell_type": "code",
   "execution_count": null,
   "id": "1968a832-9441-47f9-a227-b07ea4b8b41e",
   "metadata": {
    "tags": []
   },
   "outputs": [],
   "source": [
    "integral = np.sum(norm_p_x * norm_pay_off)\n",
    "integral"
   ]
  },
  {
   "cell_type": "markdown",
   "id": "b1eadc50-0226-4fa4-88f4-68dc299500f8",
   "metadata": {},
   "source": [
    "### 3. Load arrays in an Quantum circuit "
   ]
  },
  {
   "cell_type": "code",
   "execution_count": null,
   "id": "54736c01-03cb-4e8a-940d-2ae51c2886ba",
   "metadata": {
    "tags": []
   },
   "outputs": [],
   "source": [
    "from QQuantLib.DL.encoding_protocols import Encoding"
   ]
  },
  {
   "cell_type": "code",
   "execution_count": null,
   "id": "fec08a26-54e7-4e48-a3bb-ec613efdc663",
   "metadata": {
    "tags": []
   },
   "outputs": [],
   "source": [
    "encode_class = Encoding(\n",
    "    array_function=norm_pay_off,\n",
    "    array_probability=norm_p_x,\n",
    "    encoding=2\n",
    ")\n",
    "encode_class.run()"
   ]
  },
  {
   "cell_type": "code",
   "execution_count": null,
   "id": "282a5d13-8a07-4f8e-831a-ca474e9e544f",
   "metadata": {
    "tags": []
   },
   "outputs": [],
   "source": [
    "c = encode_class.oracle\n",
    "%qatdisplay c"
   ]
  },
  {
   "cell_type": "markdown",
   "id": "c2112421-55e1-4293-bd26-592fce05e626",
   "metadata": {},
   "source": [
    "### 4. Amplitude Estimation Algorithm\n",
    "\n",
    "We are going to use a **AE** algorithm."
   ]
  },
  {
   "cell_type": "code",
   "execution_count": null,
   "id": "33cbac17-b9d3-469b-9c56-b4f6273b7a82",
   "metadata": {
    "tags": []
   },
   "outputs": [],
   "source": [
    "# primero carga la configuración del algoritmo AE\n",
    "with open(folder+ \"rqae_configuration_untracked.json\") as json_file:\n",
    "    ae_cfg = json.load(json_file)\n",
    "ae_solver_rqae = combination_for_list(ae_cfg)\n",
    "ae_problem = ae_solver_rqae[0]\n",
    "ae_problem.update({\"qpu\": ideal_qpu})"
   ]
  },
  {
   "cell_type": "code",
   "execution_count": null,
   "id": "b14ca52f-82a5-406d-bc20-0e7a678301cc",
   "metadata": {
    "tags": []
   },
   "outputs": [],
   "source": [
    "ae_problem"
   ]
  },
  {
   "cell_type": "code",
   "execution_count": null,
   "id": "b5f6b7aa-0bb3-4f53-9038-a10c2b830696",
   "metadata": {
    "tags": []
   },
   "outputs": [],
   "source": [
    "from QQuantLib.AE.real_quantum_ae import RQAE"
   ]
  },
  {
   "cell_type": "code",
   "execution_count": null,
   "id": "ee808ef5-3b34-48b0-93f8-a39d9af4f239",
   "metadata": {
    "tags": []
   },
   "outputs": [],
   "source": [
    "rqae_object = RQAE(\n",
    "    oracle=encode_class.oracle,\n",
    "    target=encode_class.target,\n",
    "    index=encode_class.index,\n",
    "    **ae_problem\n",
    ")"
   ]
  },
  {
   "cell_type": "markdown",
   "id": "15deb90f-5e23-4c74-9709-f8528a6b9f86",
   "metadata": {
    "tags": []
   },
   "source": [
    "### 5. First circuit\n",
    "\n",
    "We are going to use **RQAE**. Some typical **RQAE** parameters are needed. "
   ]
  },
  {
   "cell_type": "code",
   "execution_count": null,
   "id": "4ed9e561-e9b2-49e8-b4aa-a13b24da6865",
   "metadata": {
    "tags": []
   },
   "outputs": [],
   "source": [
    "from noise_test_bank_functions import first_step"
   ]
  },
  {
   "cell_type": "code",
   "execution_count": null,
   "id": "9483f21b-1b54-458a-aa2c-377daef9ba1e",
   "metadata": {
    "tags": []
   },
   "outputs": [],
   "source": [
    "rqae_object.epsilon, rqae_object.ratio, rqae_object.gamma"
   ]
  },
  {
   "cell_type": "code",
   "execution_count": null,
   "id": "7aa70353-6986-4a02-831c-25317e18a659",
   "metadata": {
    "tags": []
   },
   "outputs": [],
   "source": [
    "shift, n_i, gamma_i, theoretical_epsilon = first_step(rqae_object.epsilon, rqae_object.ratio, rqae_object.gamma)"
   ]
  },
  {
   "cell_type": "code",
   "execution_count": null,
   "id": "2c6d19b6-36f6-4e49-8067-8cdccb323bc2",
   "metadata": {
    "tags": []
   },
   "outputs": [],
   "source": [
    "shift"
   ]
  },
  {
   "cell_type": "code",
   "execution_count": null,
   "id": "9b39b1fc-e327-4dd4-85d6-691d7b58d900",
   "metadata": {
    "tags": []
   },
   "outputs": [],
   "source": [
    "# Setting the shift for the first circuit in RQAE\n",
    "rqae_object.shifted_oracle = 2.0 * shift\n",
    "routine = rqae_object._shifted_oracle"
   ]
  },
  {
   "cell_type": "code",
   "execution_count": null,
   "id": "e7779a28-d2ca-4bf4-91d4-1cf569459628",
   "metadata": {
    "tags": []
   },
   "outputs": [],
   "source": [
    "%qatdisplay routine"
   ]
  },
  {
   "cell_type": "markdown",
   "id": "60bc3bdf",
   "metadata": {
    "tags": []
   },
   "source": [
    "### 6. Solving the problem Problema\n",
    "\n",
    "The following code is used for solving first step of RQAE"
   ]
  },
  {
   "cell_type": "code",
   "execution_count": null,
   "id": "4484019a-09cf-4aeb-adb6-1891a927a113",
   "metadata": {
    "tags": []
   },
   "outputs": [],
   "source": [
    "from QQuantLib.utils.data_extracting import get_results\n",
    "from QQuantLib.utils.utils import measure_state_probability\n",
    "\n",
    "def first_step(rutina, qpu, shots, target, shift, gamma, rqae_object):\n",
    "    \"\"\"\n",
    "    This function implements the first step of the RQAE paper. The result\n",
    "    is a first estimation of the desired amplitude.\n",
    "                                                                          \n",
    "    Parameters\n",
    "    ----------\n",
    "    shift : float\n",
    "        shift for the first iteration\n",
    "    shots : int\n",
    "        number of measurements\n",
    "    gamma : float\n",
    "        accuracy\n",
    "                                                                          \n",
    "    Returns\n",
    "    ----------\n",
    "    amplitude_min : float\n",
    "       lower bound for the amplitude to be estimated\n",
    "    amplitude_max : float\n",
    "       upper bound for the amplitude to be estimated\n",
    "                                                                          \n",
    "    \"\"\"\n",
    "                                                                          \n",
    "    results, circuit, _, _ = get_results(\n",
    "        rutina, qpu, shots=shots\n",
    "    )\n",
    "                                                                          \n",
    "                                                                          \n",
    "    probability_sum = measure_state_probability(\n",
    "        results, [0] + list(target)\n",
    "    )\n",
    "                                                                          \n",
    "    #probability_diff = results[\"Probability\"].iloc[\n",
    "    #    bitfield_to_int([1] + list(self.target))\n",
    "    #]\n",
    "    probability_diff = measure_state_probability(\n",
    "        results, [1] + list(target)\n",
    "    )\n",
    "    \n",
    "    return (probability_sum - probability_diff) / (4 * shift)\n",
    "    "
   ]
  },
  {
   "cell_type": "markdown",
   "id": "89406be8-c081-46b3-aee7-4cb067713eeb",
   "metadata": {},
   "source": [
    "## 7. Ideal Solution\n",
    "\n",
    "In order to get the ideal solution we need to instantiate a ideal qpu. For loading a ideal qpu we can use the typical **get_qpu** from **QQuantLib.qpu** package. In order to have a better integration between ideal QPUs and noisy QPUs a wrapper function called *select_qpu* inside of the  **QQuantLib.qpu.select_qpu** module was implemented. \n",
    "\n",
    "The input of the *select_qpu* function is a dictionary like the used for configuring a noise model:\n"
   ]
  },
  {
   "cell_type": "code",
   "execution_count": null,
   "id": "590614bf-994c-41c7-8ca9-115038de0cef",
   "metadata": {
    "tags": []
   },
   "outputs": [],
   "source": [
    "from QQuantLib.qpu.select_qpu import select_qpu"
   ]
  },
  {
   "cell_type": "code",
   "execution_count": null,
   "id": "0fce1c0b-3369-4981-81b4-59caec0d42f2",
   "metadata": {
    "tags": []
   },
   "outputs": [],
   "source": [
    "qpus = [\"c\", \"python\", \"linalg\", \"mps\", \"qlmass_linalg\", \"qlmass_mps\"]\n",
    "conf_ideal = [{\n",
    "    \"qpu_type\": [qpus[2]],\n",
    "    \"t_gate_1qb\" : [None],\n",
    "    \"t_gate_2qbs\" : [None],\n",
    "    \"t_readout\": [None],\n",
    "    \"depol_channel\" : [{\n",
    "        \"active\": False,\n",
    "        \"error_gate_1qb\" : None,\n",
    "        \"error_gate_2qbs\" : None\n",
    "    }],\n",
    "    \"idle\" : [{\n",
    "        \"amplitude_damping\": False,\n",
    "        \"dephasing_channel\": False,\n",
    "        \"t1\" : None,\n",
    "        \"t2\" : None\n",
    "    }],\n",
    "    \"meas\": [{\n",
    "        \"active\":False,\n",
    "        \"readout_error\": None\n",
    "    }]\n",
    "}]\n",
    "\n",
    "# We use the combination_for_list for getting the proper format for the dictionary\n",
    "ideal_qpu_conf = combination_for_list(conf_ideal)[0]\n",
    "print(ideal_qpu_conf)"
   ]
  },
  {
   "cell_type": "code",
   "execution_count": null,
   "id": "4e3ab16e-c5a6-4cd5-8112-b62db34561b1",
   "metadata": {
    "tags": []
   },
   "outputs": [],
   "source": [
    "ideal_qpu = select_qpu(ideal_qpu_conf)"
   ]
  },
  {
   "cell_type": "code",
   "execution_count": null,
   "id": "4fa48787-6dce-4cf4-a366-62c802a5c9ac",
   "metadata": {
    "tags": []
   },
   "outputs": [],
   "source": [
    "# Ideal Solution\n",
    "ideal_meas = first_step(routine, ideal_qpu, 0, rqae_object.target, shift, gamma_i, rqae_object)"
   ]
  },
  {
   "cell_type": "code",
   "execution_count": null,
   "id": "cbaac171-a8d3-4799-ac66-cdd1a1d8378a",
   "metadata": {
    "tags": []
   },
   "outputs": [],
   "source": [
    "ideal_meas"
   ]
  },
  {
   "cell_type": "markdown",
   "id": "0d6b09c7-3f49-42f0-a9ee-d75ff81b7a1a",
   "metadata": {},
   "source": [
    "## 8. Solution with Noisy hardware\n",
    "\n",
    "For simulating the noisy hardware we need to configure the noisy hardware model and create a noisy QPU. This can be done with the *create_qpu* from **QQuantLib.qpu.model_noise**. However we recommend to use the wrapper function *select_qpu* from **QQuantLib.qpu.select_qpu** module "
   ]
  },
  {
   "cell_type": "markdown",
   "id": "27f44a1d-74d4-451c-aed4-cc48b9e1bffd",
   "metadata": {},
   "source": [
    "### 8.1 No Noise and Toffoli rewritter\n",
    "\n",
    "We can use an ideal qpu but ask for a rewritting of toffolis to 1 and 2 qubits gates. This can be by configuring the noise dictionary in the following way:"
   ]
  },
  {
   "cell_type": "code",
   "execution_count": null,
   "id": "6b0425ee-21e5-4254-a014-362b7f22fc33",
   "metadata": {
    "tags": []
   },
   "outputs": [],
   "source": [
    "ideal_toffoli_rewritter = [{\n",
    "    \"qpu_type\": [\"ideal\"],\n",
    "    \"t_gate_1qb\" : [None],\n",
    "    \"t_gate_2qbs\" : [None],\n",
    "    \"t_readout\": [None],\n",
    "    \"depol_channel\" : [{\n",
    "        \"active\": False,\n",
    "        \"error_gate_1qb\" : None,\n",
    "        \"error_gate_2qbs\" : None\n",
    "    }],\n",
    "    \"idle\" : [{\n",
    "        \"amplitude_damping\": False,\n",
    "        \"dephasing_channel\": False,\n",
    "        \"t1\" : None,\n",
    "        \"t2\" : None\n",
    "    }],\n",
    "    \"meas\": [{\n",
    "        \"active\":False,\n",
    "        \"readout_error\": None\n",
    "    }]\n",
    "}]\n",
    "conf_ideal_no_toffoli = combination_for_list(ideal_toffoli_rewritter)[0]\n",
    "conf_ideal_no_toffoli"
   ]
  },
  {
   "cell_type": "code",
   "execution_count": null,
   "id": "79f439dc-951f-496e-a44d-ddfd055b0aaf",
   "metadata": {
    "tags": []
   },
   "outputs": [],
   "source": [
    "ideal_qpu_toffoli_rew = select_qpu(conf_ideal_no_toffoli)"
   ]
  },
  {
   "cell_type": "code",
   "execution_count": null,
   "id": "6fb8b186-beb9-40df-84e5-33bc6651f705",
   "metadata": {
    "tags": []
   },
   "outputs": [],
   "source": [
    "# Original Circuit has Toffolis\n",
    "%qatdisplay routine --depth"
   ]
  },
  {
   "cell_type": "code",
   "execution_count": null,
   "id": "e633d778-383e-4f88-a1e6-ac114e176167",
   "metadata": {
    "tags": []
   },
   "outputs": [],
   "source": [
    "# Compile circuit for rewrite toffolis\n",
    "from qat.core import Job, Batch\n",
    "batch = Batch(jobs=[routine.to_circ().to_job()])\n",
    "new_circ = ideal_qpu_toffoli_rew.compile(batch).jobs[0].circuit"
   ]
  },
  {
   "cell_type": "code",
   "execution_count": null,
   "id": "21623c0e-487f-4656-bb35-1dfd9deaa675",
   "metadata": {
    "tags": []
   },
   "outputs": [],
   "source": [
    "# New circuit has not Toffolis\n",
    "%qatdisplay new_circ --svg"
   ]
  },
  {
   "cell_type": "code",
   "execution_count": null,
   "id": "7c5554fe-b4cb-4b47-b023-515d6c995f2a",
   "metadata": {
    "tags": []
   },
   "outputs": [],
   "source": [
    "# deal soltuion. No Toffoli circuit\n",
    "ideal_no_toffoli_meas = first_step(routine, ideal_qpu_toffoli_rew, 0, rqae_object.target, shift, gamma_i, rqae_object)"
   ]
  },
  {
   "cell_type": "code",
   "execution_count": null,
   "id": "934dcc88-611a-4fb5-b627-2e83a02dfa51",
   "metadata": {
    "tags": []
   },
   "outputs": [],
   "source": [
    "#Shoud be simmilar\n",
    "ideal_no_toffoli_meas, ideal_meas"
   ]
  },
  {
   "cell_type": "code",
   "execution_count": null,
   "id": "aeff7dc0-24cd-4e40-8d4e-097fba17d919",
   "metadata": {
    "tags": []
   },
   "outputs": [],
   "source": [
    "np.abs(ideal_no_toffoli_meas-ideal_meas)"
   ]
  },
  {
   "cell_type": "markdown",
   "id": "8e193c8c-bff8-4dcc-8276-28e38a817027",
   "metadata": {
    "jp-MarkdownHeadingCollapsed": true,
    "tags": []
   },
   "source": [
    "### 8.2 Depolarizing channel"
   ]
  },
  {
   "cell_type": "markdown",
   "id": "2961c7cd-5500-45b5-82d2-f22716506b6c",
   "metadata": {
    "tags": []
   },
   "source": [
    "### Toshiko\n",
    "\n",
    "T1 = 50 # us\n",
    "T2= 30 # us\n",
    "F1 = 99.9 # %\n",
    "F2 = 92 # %\n",
    "F_ro = 90 # %"
   ]
  },
  {
   "cell_type": "code",
   "execution_count": null,
   "id": "99a831f2-bbc6-4182-a2f0-0afd7ca59a54",
   "metadata": {
    "tags": []
   },
   "outputs": [],
   "source": [
    "# Configuring test for Deploarizing channel\n",
    "conf_noise = [{\n",
    "    \"qpu_type\": [\"noisy\"],\n",
    "    \"t_gate_1qb\" : [35],\n",
    "    \"t_gate_2qbs\" : [660],\n",
    "    \"t_readout\": [0],\n",
    "    \"depol_channel\" : [\n",
    "        {\n",
    "            \"active\": True,\n",
    "            \"error_gate_1qb\" : 1.0e-9,\n",
    "            \"error_gate_2qbs\" : 1.0e-8\n",
    "        },\n",
    "        {\n",
    "            \"active\": True,\n",
    "            \"error_gate_1qb\" : 1.0e-8,\n",
    "            \"error_gate_2qbs\" : 1.0e-7\n",
    "        },       \n",
    "        {\n",
    "            \"active\": True,\n",
    "            \"error_gate_1qb\" : 1.0e-7,\n",
    "            \"error_gate_2qbs\" : 1.0e-6\n",
    "        },               \n",
    "        {\n",
    "            \"active\": True,\n",
    "            \"error_gate_1qb\" : 1.0e-6,\n",
    "            \"error_gate_2qbs\" : 1.0e-5\n",
    "        },   \n",
    "        {\n",
    "            \"active\": True,\n",
    "            \"error_gate_1qb\" : 1.0e-5,\n",
    "            \"error_gate_2qbs\" : 1.0e-4\n",
    "        },  \n",
    "        {\n",
    "            \"active\": True,\n",
    "            \"error_gate_1qb\" : 2.27e-4, # brisbane\n",
    "            \"error_gate_2qbs\" : 7.741e-3 # brisbane\n",
    "        },        \n",
    "        {\n",
    "            \"active\": True,\n",
    "            \"error_gate_1qb\" : 0.001, # Toshiko\n",
    "            \"error_gate_2qbs\" : 0.08 # Toshiko\n",
    "        },            \n",
    "    ],\n",
    "    \"idle\" : [{\n",
    "        \"amplitude_damping\": False,\n",
    "        \"dephasing_channel\": False,\n",
    "        \"t1\" : None,\n",
    "        \"t2\" : None\n",
    "    }],\n",
    "    \"meas\": [{\n",
    "        \"active\":False,\n",
    "        \"readout_error\": None\n",
    "    }]\n",
    "}]\n",
    "# Now we have a list with different dictionaries\n",
    "noisy_conf_list = combination_for_list(conf_noise)"
   ]
  },
  {
   "cell_type": "code",
   "execution_count": null,
   "id": "bb06c24d-d5af-45e2-8cb8-bef0cd3ecdd1",
   "metadata": {
    "tags": []
   },
   "outputs": [],
   "source": [
    "# Now we are going to solve the circuit with all the different depolarising channel configurations\n",
    "a_depol = []\n",
    "\n",
    "error1 = []\n",
    "for hw_m in noisy_conf_list:\n",
    "    print(hw_m)        \n",
    "    error1.append(hw_m[\"depol_channel\"][\"error_gate_1qb\"])\n",
    "    #error1.append(hw_m[\"depol_channel\"][\"error_gate_2qbs\"])\n",
    "    my_noisy_qpu = select_qpu(hw_m)\n",
    "    step = first_step(routine, my_noisy_qpu, 0, rqae_object.target, shift, gamma_i, rqae_object)\n",
    "    a_depol.append(step)"
   ]
  },
  {
   "cell_type": "code",
   "execution_count": null,
   "id": "076a85f2-b44f-42bc-8aa6-7ea311797d21",
   "metadata": {
    "tags": []
   },
   "outputs": [],
   "source": [
    "plt.plot(error1, np.abs(a_depol - ideal_no_toffoli_meas), '-o')\n",
    "#plt.axhline(medida_no_toffoli, c='r')\n",
    "plt.yscale(\"log\")\n",
    "plt.xscale(\"log\")\n",
    "plt.xlabel(\"Error 1 qubit gate\")\n",
    "plt.ylabel(r\"$\\hat{a}-a_{ideal}$\")\n",
    "plt.title(\"k=0. Only depolarizing channel. No iddle qubit\")"
   ]
  },
  {
   "cell_type": "code",
   "execution_count": null,
   "id": "81227266-0c70-47c3-ba07-14202946a850",
   "metadata": {
    "tags": []
   },
   "outputs": [],
   "source": [
    "plt.plot(error1, a_depol, '-o')\n",
    "plt.axhline(ideal_no_toffoli_meas, c='r')\n",
    "#plt.yscale(\"log\")\n",
    "plt.xscale(\"log\")\n",
    "plt.xlabel(\"Error 1 qubit gate\")\n",
    "plt.ylabel(r\"$\\hat{a}$\")\n",
    "plt.title(\"k=0. Only depolarizing channel. No iddle qubit\")"
   ]
  },
  {
   "attachments": {
    "11124bbf-758a-41fb-856f-0d0f0f6cf53e.png": {
     "image/png": "[encoded data removed]"
    }
   },
   "cell_type": "markdown",
   "id": "1e592e2c-61e0-4006-94d4-c502b4cea3cc",
   "metadata": {},
   "source": [
    "##### Performance with depolarizing channel\n",
    "\n",
    "![image.png](attachment:11124bbf-758a-41fb-856f-0d0f0f6cf53e.png)"
   ]
  },
  {
   "cell_type": "markdown",
   "id": "454696a9-f71d-4538-8657-b314d81ebd98",
   "metadata": {
    "tags": []
   },
   "source": [
    "### 8.3 Amplitude Damping Channel (No Dephasing)"
   ]
  },
  {
   "cell_type": "markdown",
   "id": "a23ba314-384a-4a34-b275-980eeef96edc",
   "metadata": {
    "tags": []
   },
   "source": [
    "### Toshiko\n",
    "\n",
    "T1 = 50 # us\n",
    "T2= 30 # us\n",
    "F1 = 99.9 # %\n",
    "F2 = 92 # %\n",
    "F_ro = 90 # %"
   ]
  },
  {
   "cell_type": "code",
   "execution_count": null,
   "id": "bf63f1dd-64a8-4dc5-884e-139d8da60d19",
   "metadata": {
    "tags": []
   },
   "outputs": [],
   "source": [
    "conf_noise = [{\n",
    "    \"qpu_type\": [\"noisy\"],\n",
    "    \"t_gate_1qb\" : [35],\n",
    "    \"t_gate_2qbs\" : [660],\n",
    "    \"t_readout\": [0],\n",
    "    \"depol_channel\" : [\n",
    "        {\n",
    "            \"active\": False,\n",
    "            \"error_gate_1qb\" : None,\n",
    "            \"error_gate_2qbs\" : None\n",
    "        }          \n",
    "    ],\n",
    "    \"idle\" : [\n",
    "        {\n",
    "            \"amplitude_damping\": True,\n",
    "            \"dephasing_channel\": False,\n",
    "            \"t1\" : 1000e6,\n",
    "            \"t2\" : None\n",
    "        },\n",
    "        {\n",
    "            \"amplitude_damping\": True,\n",
    "            \"dephasing_channel\": False,\n",
    "            \"t1\" : 100e6,\n",
    "            \"t2\" : None\n",
    "        },        \n",
    "        {\n",
    "            \"amplitude_damping\": True,\n",
    "            \"dephasing_channel\": False,\n",
    "            \"t1\" : 10e6,\n",
    "            \"t2\" : None\n",
    "        },     \n",
    "        {\n",
    "            \"amplitude_damping\": True,\n",
    "            \"dephasing_channel\": False,\n",
    "            \"t1\" : 1e6,\n",
    "            \"t2\" : None\n",
    "        },  \n",
    "        {\n",
    "            \"amplitude_damping\": True,\n",
    "            \"dephasing_channel\": False,\n",
    "            \"t1\" : 0.231e6, # brisbane\n",
    "            \"t2\" : None \n",
    "        },       \n",
    "        {\n",
    "            \"amplitude_damping\": True,\n",
    "            \"dephasing_channel\": False,\n",
    "            \"t1\" : 50e3, # Toshiko: 50 us\n",
    "            \"t2\" : None \n",
    "        }        \n",
    "    ],\n",
    "    \"meas\": [{\n",
    "        \"active\":False,\n",
    "        \"readout_error\": None\n",
    "    }]\n",
    "}]\n",
    "noisy_conf_list = combination_for_list(conf_noise)"
   ]
  },
  {
   "cell_type": "code",
   "execution_count": null,
   "id": "2979c3a6-65a0-4960-8b85-83322e9284e0",
   "metadata": {
    "tags": []
   },
   "outputs": [],
   "source": [
    "a_ad = []\n",
    "\n",
    "error1 = []\n",
    "for hw_m in noisy_conf_list:\n",
    "    my_noisy_qpu = select_qpu(hw_m)\n",
    "    print(hw_m)\n",
    "    error1.append(hw_m[\"idle\"][\"t1\"])\n",
    "    step = first_step(routine, my_noisy_qpu, 0, rqae_object.target, shift, gamma_i, rqae_object)\n",
    "    a_ad.append(step)"
   ]
  },
  {
   "cell_type": "code",
   "execution_count": null,
   "id": "d89c25d7-1871-43c6-8973-5235c3c62fab",
   "metadata": {
    "tags": []
   },
   "outputs": [],
   "source": [
    "%matplotlib inline\n",
    "plt.plot(error1, ideal_no_toffoli_meas - a_ad, '-o')\n",
    "#plt.axhline(medida_no_toffoli, c='r')\n",
    "#plt.yscale(\"log\")\n",
    "plt.xscale(\"log\")\n",
    "plt.xlabel(\"T1 (ns)\")\n",
    "plt.ylabel(r\"$\\hat{a}-a_{ideal}$\")\n",
    "plt.title(\"k=0. Only Amplitude Damping. Ideal Gates\")"
   ]
  },
  {
   "cell_type": "code",
   "execution_count": null,
   "id": "e257a2da-c2c0-472b-b18a-c9089e9d2ef8",
   "metadata": {
    "tags": []
   },
   "outputs": [],
   "source": [
    "plt.plot(error1, a_ad, '-o')\n",
    "plt.axhline(ideal_no_toffoli_meas, c='r')\n",
    "#plt.yscale(\"log\")\n",
    "plt.xscale(\"log\")\n",
    "plt.xlabel(\"T1 (ns)\")\n",
    "plt.ylabel(r\"$\\hat{a}$\")\n",
    "plt.title(\"k=0. Only depolarizing channel. No iddle qubit\")"
   ]
  },
  {
   "attachments": {
    "56be745f-5fb9-48be-ac53-08094aeadb1f.png": {
     "image/png": "[encoded data removed]"
    }
   },
   "cell_type": "markdown",
   "id": "abfee64a-884e-47c9-be93-87f4f7171771",
   "metadata": {},
   "source": [
    "#### Performance under Amplitude Damping\n",
    "\n",
    "![image.png](attachment:56be745f-5fb9-48be-ac53-08094aeadb1f.png)"
   ]
  },
  {
   "cell_type": "markdown",
   "id": "a11ee806-27d9-4cd9-bf8e-668f6320b014",
   "metadata": {},
   "source": [
    "### 8.4 Amplitude Damping and Dephasing Channels"
   ]
  },
  {
   "cell_type": "markdown",
   "id": "80d46c0e-771b-4d7a-9fba-09175c4fc204",
   "metadata": {
    "tags": []
   },
   "source": [
    "### Toshiko\n",
    "\n",
    "T1 = 50 # us\n",
    "T2= 30 # us\n",
    "F1 = 99.9 # %\n",
    "F2 = 92 # %\n",
    "F_ro = 90 # %"
   ]
  },
  {
   "cell_type": "code",
   "execution_count": null,
   "id": "8100dd84-bd6b-47b0-91fc-dd682fee3e41",
   "metadata": {
    "tags": []
   },
   "outputs": [],
   "source": [
    "conf_noise = [{\n",
    "    \"qpu_type\": [\"noisy\"],# Palabara para generar qpus ruidosas\n",
    "    \"t_gate_1qb\" : [35],\n",
    "    \"t_gate_2qbs\" : [660],\n",
    "    \"t_readout\": [0],\n",
    "    \"depol_channel\" : [\n",
    "        {\n",
    "            \"active\": False,\n",
    "            \"error_gate_1qb\" : None,\n",
    "            \"error_gate_2qbs\" : None\n",
    "        }          \n",
    "    ],\n",
    "    \"idle\" : [\n",
    "        {\n",
    "            \"amplitude_damping\": True,\n",
    "            \"dephasing_channel\": True,\n",
    "            \"t1\" : 1000e6,\n",
    "            \"t2\" : 500e6\n",
    "        },\n",
    "        {\n",
    "            \"amplitude_damping\": True,\n",
    "            \"dephasing_channel\": True,\n",
    "            \"t1\" : 100e6,\n",
    "            \"t2\" : 50e6\n",
    "        },        \n",
    "        {\n",
    "            \"amplitude_damping\": True,\n",
    "            \"dephasing_channel\": True,\n",
    "            \"t1\" : 10e6,\n",
    "            \"t2\" : 5e6\n",
    "        },     \n",
    "        {\n",
    "            \"amplitude_damping\": True,\n",
    "            \"dephasing_channel\": True,\n",
    "            \"t1\" : 1e6,\n",
    "            \"t2\" : 0.5e6\n",
    "        },  \n",
    "        {\n",
    "            \"amplitude_damping\": True,\n",
    "            \"dephasing_channel\": True,\n",
    "            \"t1\" : 0.231e6, # brisbane\n",
    "            \"t2\" : 0.132e6 # brisbane\n",
    "        }, \n",
    "        {\n",
    "            \"amplitude_damping\": True,\n",
    "            \"dephasing_channel\": True,\n",
    "            \"t1\" : 50e3,  # Toshiko: 50 us\n",
    "            \"t2\" : 30e3 # Toshiko: 30 us\n",
    "        },              \n",
    "    ],\n",
    "    \"meas\": [{\n",
    "        \"active\":False,\n",
    "        \"readout_error\": None\n",
    "    }]\n",
    "}]\n",
    "noisy_conf_list = combination_for_list(conf_noise)"
   ]
  },
  {
   "cell_type": "code",
   "execution_count": null,
   "id": "323612f8-466b-4779-a646-2f847b4bc76a",
   "metadata": {
    "tags": []
   },
   "outputs": [],
   "source": [
    "a_ad_d = []\n",
    "\n",
    "error1 = []\n",
    "for hw_m in noisy_conf_list:\n",
    "    my_noisy_qpu = select_qpu(hw_m)\n",
    "    print(hw_m)\n",
    "    error1.append(hw_m[\"idle\"][\"t1\"])\n",
    "    step = first_step(routine, my_noisy_qpu, 0, rqae_object.target, shift, gamma_i, rqae_object)\n",
    "    a_ad_d.append(step)"
   ]
  },
  {
   "cell_type": "code",
   "execution_count": null,
   "id": "730e9c40-9819-4939-b6a1-13c4bdb14d72",
   "metadata": {
    "tags": []
   },
   "outputs": [],
   "source": [
    "plt.plot(error1, np.abs(a_ad_d - ideal_no_toffoli_meas), '-o')\n",
    "#plt.axhline(medida_no_toffoli, c='r')\n",
    "plt.yscale(\"log\")\n",
    "plt.xscale(\"log\")\n",
    "plt.xlabel(\"T1 (ns)\")\n",
    "plt.ylabel(r\"$\\hat{a}-a_{ideal}$\")\n",
    "plt.title(\"k=0. Amplitude Damping and Dephasing. Ideal Gates\")"
   ]
  },
  {
   "cell_type": "code",
   "execution_count": null,
   "id": "5625c9d1-0409-4508-8e8f-a0e1e8ea0d5f",
   "metadata": {
    "tags": []
   },
   "outputs": [],
   "source": [
    "plt.plot(error1, a_ad_d, '-o')\n",
    "plt.axhline(ideal_no_toffoli_meas, c='r')\n",
    "plt.yscale(\"log\")\n",
    "plt.xscale(\"log\")\n",
    "plt.xlabel(\"T1 (ns)\")\n",
    "plt.ylabel(r\"$\\hat{a}$\")\n",
    "plt.title(\"k=0. Amplitude Damping and Dephasing. Ideal Gates\")"
   ]
  },
  {
   "attachments": {
    "9999ae3e-fcae-44c9-8835-d4bd30103d32.png": {
     "image/png": "[encoded data removed]"
    }
   },
   "cell_type": "markdown",
   "id": "9cb54959-37d9-4708-96f0-ed98e550a363",
   "metadata": {},
   "source": [
    "#### Performance with Amplitude Damping and Dephaising\n",
    "\n",
    "![image.png](attachment:9999ae3e-fcae-44c9-8835-d4bd30103d32.png)"
   ]
  },
  {
   "cell_type": "markdown",
   "id": "849971a3-1a1c-4cab-9098-bfe03524a10b",
   "metadata": {},
   "source": [
    "### 8.5 Redout error"
   ]
  },
  {
   "cell_type": "markdown",
   "id": "421b48d3-a4cd-4b8f-83bb-92d60bc3b120",
   "metadata": {
    "tags": []
   },
   "source": [
    "### Toshiko\n",
    "\n",
    "T1 = 50 # us\n",
    "T2= 30 # us\n",
    "F1 = 99.9 # %\n",
    "F2 = 92 # %\n",
    "F_ro = 90 # %"
   ]
  },
  {
   "cell_type": "code",
   "execution_count": null,
   "id": "2594a2fe-d13d-4a17-867d-c70944d8ff36",
   "metadata": {
    "tags": []
   },
   "outputs": [],
   "source": [
    "conf_noise = [{\n",
    "    \"qpu_type\": [\"noisy\"],\n",
    "    \"t_gate_1qb\" : [35],\n",
    "    \"t_gate_2qbs\" : [660],\n",
    "    \"t_readout\": [0],\n",
    "    \"depol_channel\" : [\n",
    "        {\n",
    "            \"active\": False,\n",
    "            \"error_gate_1qb\" : None,\n",
    "            \"error_gate_2qbs\" : None\n",
    "        }          \n",
    "    ],\n",
    "    \"idle\" : [\n",
    "        {\n",
    "            \"amplitude_damping\": False,\n",
    "            \"dephasing_channel\": False,\n",
    "            \"t1\" : None,\n",
    "            \"t2\" : None\n",
    "        }          \n",
    "    ],\n",
    "    \"meas\": [\n",
    "        {\n",
    "            \"active\":True,\n",
    "            \"readout_error\": 1e-6\n",
    "        },\n",
    "        {\n",
    "            \"active\":True,\n",
    "            \"readout_error\": 1e-5\n",
    "        },\n",
    "        {\n",
    "            \"active\":True,\n",
    "            \"readout_error\": 1e-4\n",
    "        },        \n",
    "        {\n",
    "            \"active\":True,\n",
    "            \"readout_error\": 1e-3\n",
    "        }, \n",
    "        {\n",
    "            \"active\":True,\n",
    "            \"readout_error\": 1.300e-2 # brisbane\n",
    "        },\n",
    "        {\n",
    "            \"active\":True,\n",
    "            \"readout_error\": 0.1 #Toshiko\n",
    "        }        \n",
    "    ]\n",
    "}]\n",
    "noisy_conf_list = combination_for_list(conf_noise)"
   ]
  },
  {
   "cell_type": "code",
   "execution_count": null,
   "id": "9207b9c8-4f92-4eb3-8383-833c9c87d839",
   "metadata": {
    "tags": []
   },
   "outputs": [],
   "source": [
    "a_read = []\n",
    "\n",
    "error1 = []\n",
    "for hw_m in noisy_conf_list:\n",
    "    my_noisy_qpu = select_qpu(hw_m)\n",
    "    print(hw_m)\n",
    "    error1.append(hw_m[\"meas\"][\"readout_error\"])\n",
    "    step = first_step(routine, my_noisy_qpu, 0, rqae_object.target, shift, gamma_i, rqae_object)\n",
    "    a_read.append(step)"
   ]
  },
  {
   "cell_type": "code",
   "execution_count": null,
   "id": "5c7e5e23-a03b-49b2-bf91-bc83f41cca54",
   "metadata": {
    "tags": []
   },
   "outputs": [],
   "source": [
    "plt.plot(error1, np.abs(a_read - ideal_no_toffoli_meas), '-o')\n",
    "#plt.axhline(medida_no_toffoli, c='r')\n",
    "plt.yscale(\"log\")\n",
    "plt.xscale(\"log\")\n",
    "plt.xlabel(\"Readout Error\")\n",
    "plt.ylabel(r\"$\\hat{a}-a_{ideal}$\")\n",
    "plt.title(\"k=0. Only Readout Error.\")"
   ]
  },
  {
   "cell_type": "code",
   "execution_count": null,
   "id": "a3edd547-1dde-4880-8097-b348fe8b2b12",
   "metadata": {
    "tags": []
   },
   "outputs": [],
   "source": [
    "plt.plot(error1, a_read, '-o')\n",
    "plt.axhline(ideal_no_toffoli_meas, c='r')\n",
    "#plt.yscale(\"log\")\n",
    "plt.xscale(\"log\")\n",
    "plt.xlabel(\"Readout Error\")\n",
    "plt.ylabel(r\"$\\hat{a}$\")\n",
    "plt.title(\"k=0. Only Readout Error.\")"
   ]
  },
  {
   "attachments": {
    "a9c04b8c-ef83-471e-8964-eb3cdce54f2f.png": {
     "image/png": "[encoded data removed]"
    }
   },
   "cell_type": "markdown",
   "id": "99c32445-ca58-4375-b081-104219d28dec",
   "metadata": {},
   "source": [
    "#### Performance with Readout Error\n",
    "\n",
    "![image.png](attachment:a9c04b8c-ef83-471e-8964-eb3cdce54f2f.png)"
   ]
  }
 ],
 "metadata": {
  "kernelspec": {
   "display_name": "Python 3 (ipykernel)",
   "language": "python",
   "name": "python3"
  },
  "language_info": {
   "codemirror_mode": {
    "name": "ipython",
    "version": 3
   },
   "file_extension": ".py",
   "mimetype": "text/x-python",
   "name": "python",
   "nbconvert_exporter": "python",
   "pygments_lexer": "ipython3",
   "version": "3.9.16"
  }
 },
 "nbformat": 4,
 "nbformat_minor": 5
}
