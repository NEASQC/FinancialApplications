{
 "cells": [
  {
   "cell_type": "markdown",
   "id": "f2f524c6",
   "metadata": {},
   "source": [
    "# Compare AE algorithms on pure probability\n",
    "\n",
    "To compare the performance of Amplitude Estimation (**AE**) algorithms we have developed the module **benchmark.compare_ae_probability.probabiliy_estimation.py**. In this module, a pre-defined **Black Scholes** probability density in an input domain is loaded in a Quantum state and the probability of a fixed input state can be obtained using the different **AE** algorithms, developed in the **QQuantLib.AE** package."
   ]
  },
  {
   "cell_type": "code",
   "execution_count": null,
   "id": "5445f31d",
   "metadata": {},
   "outputs": [],
   "source": [
    "import sys\n",
    "sys.path.append(\"../../\")"
   ]
  },
  {
   "cell_type": "code",
   "execution_count": null,
   "id": "f15b8dbd",
   "metadata": {},
   "outputs": [],
   "source": [
    "import json\n",
    "import numpy as np\n",
    "import pandas as pd\n",
    "import matplotlib.pyplot as plt\n",
    "import qat.lang.AQASM as qlm\n",
    "#This cell loads the QLM solver. QPU = [qlmass, python, c]\n",
    "from QQuantLib.qpu.get_qpu import get_qpu\n",
    "from QQuantLib.utils.benchmark_utils import combination_for_list\n",
    "QPU = [\"qlmass\", \"python\", \"c\"]\n",
    "linalg_qpu = get_qpu(QPU[2])"
   ]
  },
  {
   "cell_type": "code",
   "execution_count": null,
   "id": "16f7160e",
   "metadata": {},
   "outputs": [],
   "source": [
    "%matplotlib inline"
   ]
  },
  {
   "cell_type": "markdown",
   "id": "390d210c-f976-45bd-b59b-c20996061396",
   "metadata": {},
   "source": [
    "## 1. Domain of Probability density function.\n",
    "\n",
    "The domain where the probability density function will be defined can be configurated using a Python dictionary with the following keys:\n",
    "\n",
    "* *x0* : domain initial point.\n",
    "* *xf* : domain ending point.\n",
    "* *n_qbits* : number of qubits for discretizing the interval (2^n_qubits bins intervals will be used for discretizing the domain)\n",
    "\n",
    "This dictionary can be provided as a JSON file. The *jsons/domain_configuration.json* file shows an example of a domain configuration dictionary.\n",
    "\n",
    "The *get_domain* from **probability_estimation** module creates the corresponding domain in *numpy* array format.\n"
   ]
  },
  {
   "cell_type": "code",
   "execution_count": null,
   "id": "1340a607",
   "metadata": {},
   "outputs": [],
   "source": [
    "folder = \"./jsons/\"\n",
    "\n",
    "with open(folder+\"domain_configuration.json\") as json_file:\n",
    "    domain_cfg = json.load(json_file)\n",
    "conf_domain = combination_for_list(domain_cfg)[0]"
   ]
  },
  {
   "cell_type": "code",
   "execution_count": null,
   "id": "fd9811f1",
   "metadata": {},
   "outputs": [],
   "source": [
    "# COnfiguration for the domain\n",
    "print(conf_domain)"
   ]
  },
  {
   "cell_type": "code",
   "execution_count": null,
   "id": "76db36fa",
   "metadata": {},
   "outputs": [],
   "source": [
    "from probability_estimation import get_domain"
   ]
  },
  {
   "cell_type": "code",
   "execution_count": null,
   "id": "7c6bc0a4",
   "metadata": {},
   "outputs": [],
   "source": [
    "domain, n_qbits = get_domain(**conf_domain)\n",
    "print(\"n_qbits: {}\".format(n_qbits))\n",
    "print(domain)"
   ]
  },
  {
   "cell_type": "markdown",
   "id": "85caef56",
   "metadata": {},
   "source": [
    "## 2. Probability density Configuration\n",
    "\n",
    "The probability density function we are going to use is a **Black-Scholes** one (which has the form of a log-normal distribution).  For configuring it a Python dictionary with the following parameters will be used:\n",
    "\n",
    "* *s_0*: this is the value of the asset, modelled by the **Black-Scholes** probability density.\n",
    "* *risk_free_rate*:  risk-free rate of the market, mandatory input of the **Black-Scholes** probability density.\n",
    "* *maturity*:  time when we want to compute the the **Black-Scholes** probability density.\n",
    "* *volatility*: volatility of the asset,  mandatory input of the **Black-Scholes** probability density.\n",
    "\n",
    "This dictionary can be provided as a JSON file. The *jsons/density_probability.json* file shows an example of a possible probability density configuration.\n",
    "\n",
    "The *get_probability_density* function, from **probabiliy_estimation** module, creates the numpy array with the **Black-Scholes** probability density. The mandatory inputs are the configuration dictionary for the probability density and the desired domain provided as a numpy "
   ]
  },
  {
   "cell_type": "code",
   "execution_count": null,
   "id": "5db727ff",
   "metadata": {},
   "outputs": [],
   "source": [
    "from probability_estimation import get_probability_density"
   ]
  },
  {
   "cell_type": "code",
   "execution_count": null,
   "id": "d20607f9",
   "metadata": {},
   "outputs": [],
   "source": [
    "with open(folder+\"density_probability.json\") as json_file:\n",
    "    density_cfg = json.load(json_file)\n",
    "conf_density = combination_for_list(density_cfg)[0]"
   ]
  },
  {
   "cell_type": "code",
   "execution_count": null,
   "id": "968ce768",
   "metadata": {},
   "outputs": [],
   "source": [
    "# Configuration for the probability density\n",
    "print(conf_density)"
   ]
  },
  {
   "cell_type": "code",
   "execution_count": null,
   "id": "2205d965",
   "metadata": {},
   "outputs": [],
   "source": [
    "p_x = get_probability_density(domain, **conf_density)"
   ]
  },
  {
   "cell_type": "code",
   "execution_count": null,
   "id": "384873ba",
   "metadata": {},
   "outputs": [],
   "source": [
    "# For example we want the probability of the bin 21\n",
    "state = 21\n",
    "plt.plot(domain, p_x, 'o')\n",
    "plt.axhline(p_x[state])"
   ]
  },
  {
   "cell_type": "markdown",
   "id": "b52cc739-4685-4d6b-a660-68806aea1424",
   "metadata": {},
   "source": [
    "## 3. Amplitude Estimation algorithm selection and configuration.\n",
    "\n",
    "The main idea is to load this probability density in a quantum circuit and estimate the amplitude of a desired state (for example the corresponding state to interval 21, using  different **AE** algorithms. Then we can use this code to evaluate the performance of different **AE** algorithms.\n",
    "\n",
    "We need to provide the **AE** algorithm and its corresponding configuration. A Python configuration with the following format is used for selecting and configuring the **AE** algorithm:\n",
    "\n",
    "* *ae_type*: string with the AE algorithm. Valid strings are the same that the provided ones for the **AE** class of module **QQuantLib/AE/ae_class**\n",
    "    * see FinancialApplications/misc/notebooks/08_AmplitudeEstimation_Class.ipynb\n",
    "* *schedule*: list of 2 lists with the schedule for the **MLAE** algorithm \n",
    "    * see misc/notebooks/03_Maximum_Likelihood_Amplitude_Estimation_Class.ipynb\n",
    "* *delta*: configuration of the delta for the brute-force optimizer when used **MLAE** algorithm \n",
    "    * see misc/notebooks/03_Maximum_Likelihood_Amplitude_Estimation_Class.ipynb\n",
    "* *ns*: number of samples for brute-force optimizer when used **MLAE** algorithm \n",
    "    * see misc/notebooks/03_Maximum_Likelihood_Amplitude_Estimation_Class.ipynb\n",
    "* *auxiliar_qbits_number*: number of auxiliar qubits used for **CQPEAE** algorithms.\n",
    "    * see misc/notebooks/04_Classical_Phase_Estimation_Class.ipynb\n",
    "* *cbits_number*: number fo classical bits used in **IQPAE** algorithm.\n",
    "    * see misc/notebooks/05_Iterative_Quantum_Phase_Estimation_Class.ipynb\n",
    "* *epsilon*: desired epsilon (semi-diference between lower and higher bounds) in different **AE** algorithms like **IQAE** (or **mIQAE**) or **RQAE** and their variants\n",
    "    * see misc/notebooks/06_Iterative_Quantum_Amplitude_Estimation_class.ipynb\n",
    "    * see misc/notebooks/07_Real_Quantum_Amplitude_Estimation_class.ipynb\n",
    "    * see misc/notebooks/07-02_Improvements_on_Real_Quantum_Amplitude_Estimation.ipynb\n",
    "* *alpha*: Failure probability for **IQAE** type algorithms.\n",
    "    * see misc/notebooks/06_Iterative_Quantum_Amplitude_Estimation_class.ipynb\n",
    "* *shots*: number of shots used. It can be applied for different **AE** algorithms like **CQPEAE**, **IQPEAE**, **IQAE**, **mIQAE** or **sIQAE**\n",
    "* *gamma*: Failure probability for **RQAE** type algorithms.\n",
    "    * see misc/notebooks/07_Real_Quantum_Amplitude_Estimation_class.ipynb\n",
    "    * see misc/notebooks/07-02_Improvements_on_Real_Quantum_Amplitude_Estimation.ipynb\n",
    "* *q*: Amplification factor for **RQAE** algorithms\n",
    "    * see misc/notebooks/07_Real_Quantum_Amplitude_Estimation_class.ipynb\n",
    "    * see misc/notebooks/07-02_Improvements_on_Real_Quantum_Amplitude_Estimation.ipynb\n",
    "* *erqae_schedule* : dictionary for configuring the scheduling of the **eRQAE** algorithm.\n",
    "    * see misc/notebooks/07-02_Improvements_on_Real_Quantum_Amplitude_Estimation.ipynb\n",
    "* *multiplexor*: Boolean. If True Shende multiplexors instead of brute-force implementations of Rotations controlled by state are used.\n",
    "* mcz_qlm*: Boolean. If True multicontrolled Z mandatory for Grover operator will be built using QLM syntax. If False we use a multiplexor implementation.\n",
    "\n",
    "This dictionary can be provided as a JSON file. The *jsons/ae_configuration.json* file shows an example of a possible **AE** configuration.\n"
   ]
  },
  {
   "cell_type": "code",
   "execution_count": null,
   "id": "5eec9a3e",
   "metadata": {},
   "outputs": [],
   "source": [
    "# Configuration for MLAE\n",
    "with open(folder+\"ae_configuration_mlae.json\") as json_file:\n",
    "    ae_cfg = json.load(json_file)\n",
    "ae_solver = combination_for_list(ae_cfg)[0]"
   ]
  },
  {
   "cell_type": "code",
   "execution_count": null,
   "id": "dcc2e414",
   "metadata": {},
   "outputs": [],
   "source": [
    "ae_solver"
   ]
  },
  {
   "cell_type": "markdown",
   "id": "21c14dfe",
   "metadata": {},
   "source": [
    "## 4. Complete Problem\n",
    "\n",
    "The complete AE problem is executed by the function *get_amplitude_estimation* from **probabiliy_estimation** module. The workflow is the following:\n",
    "\n",
    "1. Configure the domain array from the domain configuration Python dictionary.\n",
    "2. Configure the probability density array from the probability density configuration Python dictionary and the domain computed in step 1.\n",
    "3. Select and configure the **AE** algorithm from the corresponding Python dictionary.\n",
    "4. Create the quantum circuit that loads the probability density array computed in step 2 into the amplitudes of the quantum state (we use the *load_probability* function from **QQuantLib.DL.data_loading** module).\n",
    "5. Provide the quantum circuit as the oracle of the **AE** algorithm (selected and configured in step 4). Additionally, the desired state should be provided to the **AE** algorithm.\n",
    "6. Run the **AE** algorithm properly configured. The **AE** will return the estimation of the desired state.\n",
    "7. Post-process the results and return a pandas DataFrame with all the complete information\n",
    "\n",
    "\n",
    "The input of the *get_amplitude_estimation* function will be a big Python dictionary with the 3 different mandatory dictionaries: the domain, the  probability density and the **AE** selection and configuration ones. \n",
    "\n",
    "In addition to this big input dictionary the following keys should be added:\n",
    "\n",
    "* **qpu**: the qpu used for solving the problem.\n",
    "* **target_id**: integer with the state we want the amplitude estimation."
   ]
  },
  {
   "cell_type": "code",
   "execution_count": null,
   "id": "d8875afc",
   "metadata": {},
   "outputs": [],
   "source": [
    "from probability_estimation import get_amplitude_estimation"
   ]
  },
  {
   "cell_type": "code",
   "execution_count": null,
   "id": "c887ed44",
   "metadata": {},
   "outputs": [],
   "source": [
    "# We use ae_solver as the base dictionary and we add the other two dictionaries\n",
    "#first add domain configuration dictionary\n",
    "ae_solver.update(conf_domain)\n",
    "# Now the probability density configuration dictionary\n",
    "ae_solver.update(conf_density)\n",
    "# Now the desired state for getting the probability\n",
    "ae_solver.update({\"target_id\": 21})\n",
    "# Finally we provide the qpu\n",
    "ae_solver.update({\"qpu\": linalg_qpu})"
   ]
  },
  {
   "cell_type": "code",
   "execution_count": null,
   "id": "9c119150",
   "metadata": {},
   "outputs": [],
   "source": [
    "pdf = get_amplitude_estimation(**ae_solver)"
   ]
  },
  {
   "cell_type": "markdown",
   "id": "2a49e66a",
   "metadata": {},
   "source": [
    "The output of the *get_amplitude_estimation* is a pandas DataFrame with the complete information and the results"
   ]
  },
  {
   "cell_type": "code",
   "execution_count": null,
   "id": "55879d79",
   "metadata": {},
   "outputs": [],
   "source": [
    "# Domain Info\n",
    "domain_info = ['x0', 'xf','n_qbits',]\n",
    "pdf[domain_info]"
   ]
  },
  {
   "cell_type": "code",
   "execution_count": null,
   "id": "11c08ac9",
   "metadata": {},
   "outputs": [],
   "source": [
    "# Probability Density Info\n",
    "density_info = ['probability_type', 's_0', 'risk_free_rate', 'maturity', 'volatility']\n",
    "pdf[density_info]"
   ]
  },
  {
   "cell_type": "code",
   "execution_count": null,
   "id": "548ebfc7",
   "metadata": {},
   "outputs": [],
   "source": [
    "# ae confgiguration info\n",
    "\n",
    "ae_info = [\n",
    "    'ae_type', 'schedule', 'delta', 'ns', 'auxiliar_qbits_number',\n",
    "    'cbits_number', 'epsilon', 'alpha', 'shots', 'gamma', 'q',\n",
    "    'erqae_schedule', 'multiplexor', 'mcz_qlm'\n",
    "]\n",
    "pdf[ae_info]"
   ]
  },
  {
   "cell_type": "code",
   "execution_count": null,
   "id": "3e56fae6",
   "metadata": {},
   "outputs": [],
   "source": [
    "# Obtained results \n",
    "results_info = ['target_id', 'Value', 'ae', 'ae_l', 'ae_u', 'absolute_error']\n",
    "pdf[results_info]"
   ]
  },
  {
   "cell_type": "markdown",
   "id": "5a71158d",
   "metadata": {},
   "source": [
    "We can change the state for example"
   ]
  },
  {
   "cell_type": "code",
   "execution_count": null,
   "id": "c31fc5c0",
   "metadata": {
    "scrolled": true
   },
   "outputs": [],
   "source": [
    "ae_solver.update({\"target_id\": 6})\n",
    "pdf = get_amplitude_estimation(**ae_solver)\n",
    "pdf[results_info]"
   ]
  },
  {
   "cell_type": "markdown",
   "id": "67384c33",
   "metadata": {},
   "source": [
    "## 5. Command line usage\n",
    "\n",
    "The idea of the **benchmark.compare_ae_probability.probabiliy_estimation** is to execute easily a comparison of different **AE** algorithms on the same problem. To do this the recommended way is to invoke the script from the command line and provide different arguments."
   ]
  },
  {
   "cell_type": "markdown",
   "id": "5c9b9b2e",
   "metadata": {},
   "source": [
    "### 5.1 The help argument\n",
    "\n",
    "Providing the -h the *probabiliy_estimation.py* a list with the different arguments that can be provided is showed:\n",
    "\n",
    "    python probabiliy_estimation -h\n",
    "    \n",
    "* usage: probabiliy_estimation.py [-h] [--count] [--all] [-id ID] [--print] [--save] [--exe]\n",
    "                                [-repetitions REPETITIONS] [-name BASE_NAME] [-qpu QPU]\n",
    "                                [-json_domain JSON_DOMAIN] [-json_density JSON_DENSITY]\n",
    "                                [-json_ae JSON_AE] [-folder FOLDER_PATH] [-target TARGET]\n",
    "\n",
    "* optional arguments:\n",
    "  * -h, --help            show this help message and exit\n",
    "  * --count               For counting elements on the list\n",
    "  * --all                 For executing a complete list\n",
    "  * -id ID                For executing only one element of the list\n",
    "  * --print               For printing the AE algorithm configuration.\n",
    "  * --save                For saving staff\n",
    "  * --exe                 For executing program\n",
    "  * -repetitions REPETITIONS\n",
    "                        Number of repetitions of the integral will be computed. Default: 1\n",
    "  * -name BASE_NAME       Additional name for the generated files\n",
    "  * -qpu QPU              QPU for simulation: See function get_qpu in get_qpu module\n",
    "  * -json_domain JSON_DOMAIN\n",
    "                        JSON with the domain configuration\n",
    "  * -json_density JSON_DENSITY\n",
    "                        JSON with the probability density configuration\n",
    "  * -json_ae JSON_AE      JSON AE algorithm configuration\n",
    "  * -folder FOLDER_PATH   Path for storing folder\n",
    "  * -target TARGET        Target State. The default will be 21. "
   ]
  },
  {
   "cell_type": "markdown",
   "id": "45d20946",
   "metadata": {},
   "source": [
    "### 5.2 Giving the JSON files\n",
    "\n",
    "The more important information that should be provided to *probabiliy_estimation.py* is the configuration of the problem to solve, this is the *domain*, the *probability density* configuration and the selection and configuration of the *AE* algorithm. This is provided in the form of JSON files:\n",
    "\n",
    "* *domain configuration*: this configuration is provided with the **-json_domain** argument. This argument should be accompanied  by the location of the corresponding JSON file that holds the configuration. An example of JSON for this configuration can be seen in the **jsons/domain_configuration.json** file. \n",
    "* *probability density configuration*: this configuration is provided with the **-json_density** argument. This argument should be accompanied  by the location of the corresponding JSON file that holds the configuration. An example of JSON for this configuration can be seen in the **jsons/density_probability.json** file.  \n",
    "* *AE selection and configuration*: this configuration is provided with the **-json_ae** argument. This argument should be accompanied  by the location of the corresponding JSON file that holds the configuration. An example of JSON for this configuration can be seen in the **jsons/ae_configuration.json** file. \n",
    "\n",
    "All the JSON configuration files have the same schema: a key and a list with values. For each value of the list, a complete probability estimation problem will be created and executed.\n",
    "\n",
    "Example:  imagine that the provided JSON for the domain has the following form:\n"
   ]
  },
  {
   "cell_type": "code",
   "execution_count": null,
   "id": "8e9f8ef3",
   "metadata": {},
   "outputs": [],
   "source": [
    "domain = [\n",
    "    {\n",
    "        \"x0\": [0.01],\n",
    "        \"xf\": [4.0],\n",
    "        \"n_qbits\": [5, 6, 7]\n",
    "    }\n",
    "]"
   ]
  },
  {
   "cell_type": "markdown",
   "id": "45f8879b",
   "metadata": {},
   "source": [
    "The idea is that we are going to execute 3 different cases: the same domain but with 3 different qubits discretization (one for 5, another for 6 and another for 7 qubits).\n",
    "\n",
    "This is applied too to the configuration of the probability density. \n",
    "\n",
    "Example: we provide the before domain configuration and the following probability density configuration:"
   ]
  },
  {
   "cell_type": "code",
   "execution_count": null,
   "id": "28e39436",
   "metadata": {},
   "outputs": [],
   "source": [
    "density = [\n",
    "    {\n",
    "        \"probability_type\": [\"Black-Scholes\"],\n",
    "        \"s_0\": [1],\n",
    "        \"risk_free_rate\": [0.05, 0.01, 0.001],\n",
    "        \"maturity\": [1.0],\n",
    "        \"volatility\": [0.5]\n",
    "    }\n",
    "]"
   ]
  },
  {
   "cell_type": "markdown",
   "id": "e6d39e4b",
   "metadata": {},
   "source": [
    "Then we have 3 different domains and 3 different probability density configurations (1 for each desired *risk_free_rate*). In this case, the idea is to execute 9 different cases exploiting all the possible combinations of domains and density configurations.\n",
    "\n",
    "Finally, the same trick can be used for the configurations of the *AE algorithms* and again the idea is to test all the possible combinations of domain, probability density and AE configurations.\n",
    "\n",
    "All the possible configurations of the problems will be managed by the code as a Python list where each element is a complete configuration Python dictionary. "
   ]
  },
  {
   "cell_type": "markdown",
   "id": "f1c72ca5",
   "metadata": {},
   "source": [
    "### 5.3 Getting the number of cases to execute.\n",
    "\n",
    "As explained before the user can configure the JSONs in such a way that can create different configurations of domain, probability density, AE algorithms and configurations of AE algorithms. To know the total number of experiments to execute the user can  provide the argument **--count**.\n",
    "\n",
    "For example the following command:\n",
    "\n",
    "    python probabiliy_estimation.py -json_domain jsons/domain_configuration.json -json_density jsons/density_probability.json -json_ae jsons/ae_configuration.json --count \n",
    " \n",
    " \n",
    "should provide the following output:\n",
    "\n",
    "Number of elements: 35\n",
    "\n",
    "**BE AWARE** \n",
    "This will be true if the user does not modify the following JSON files: *domain_configuration.json*, *density_probability.json* and *ae_configuration.json*"
   ]
  },
  {
   "cell_type": "markdown",
   "id": "6d28d847",
   "metadata": {},
   "source": [
    "### 5.4 Print the info for the case\n",
    "\n",
    "The **--print** argument allows the user to print the configuration of the problem to solve. It can be used with two additional commands:\n",
    "\n",
    "* --all: In this case, the complete list of dictionaries is printed:\n",
    "\n",
    "        python probabiliy_estimation.py -json_domain jsons/domain_configuration.json -json_density jsons/density_probability.json -json_ae jsons/ae_configuration.json --all --print\n",
    "\n",
    "-id 5: In this case, the element (configuration dictionary) 5 of the list of dictionaries will be printed:\n",
    "\n",
    "        python probabiliy_estimation.py -json_domain jsons/domain_configuration.json -json_density jsons/density_probability.json -json_ae jsons/ae_configuration.json -id 5 --print"
   ]
  },
  {
   "cell_type": "markdown",
   "id": "7410653f",
   "metadata": {},
   "source": [
    "## 5.5 Execution of the case\n",
    "\n",
    "For executing a selected case the **--exe** argument should be provided in combination with the element of the list of dictionaries to be executed. \n",
    "\n",
    "The following command will execute the 5 probability estimation problem of the input list of dictionaries.\n",
    "\n",
    "    python probabiliy_estimation.py -json_domain jsons/domain_configuration.json -json_density jsons/density_probability.json -json_ae jsons/ae_configuration.json -id 5 --exe"
   ]
  },
  {
   "cell_type": "markdown",
   "id": "e051ea20",
   "metadata": {},
   "source": [
    "### 4.6 Other arguments\n",
    "\n",
    "Other arguments that can be provided are:\n",
    "\n",
    "* -repetitions REPETITIONS: for executing one case REPETITIONS times\n",
    "* -qpu: for providing the QPU to use for solving the case:\n",
    "    * c : CLinalg\n",
    "    * python : PyLinalg\n",
    "    * linalg : LinAlg\n",
    "    * mps : MPS\n",
    "    * qlmass_linalg : LinAlg (needed qlmaas)\n",
    "    * qlmass_mps : MPS (needed qlmaas)\n",
    "* --save: For saving the obtained Pandas DataFrame\n",
    "* -folder: Path with folder where the Pandas DataFrames will be saved\n",
    "* -name: for providing an additional name to the saved pdf\n",
    "* -target: for providing the desired state for getting the probability"
   ]
  }
 ],
 "metadata": {
  "kernelspec": {
   "display_name": "Python 3 (ipykernel)",
   "language": "python",
   "name": "python3"
  },
  "language_info": {
   "codemirror_mode": {
    "name": "ipython",
    "version": 3
   },
   "file_extension": ".py",
   "mimetype": "text/x-python",
   "name": "python",
   "nbconvert_exporter": "python",
   "pygments_lexer": "ipython3",
   "version": "3.9.9"
  }
 },
 "nbformat": 4,
 "nbformat_minor": 5
}
