{
 "cells": [
  {
   "attachments": {
    "image.png": {
     "image/png": "[encoded data removed]"
    }
   },
   "cell_type": "markdown",
   "id": "437c6cf9",
   "metadata": {},
   "source": [
    "# Floored cliquet options\n",
    "\n",
    "Let $T$ be a future point in time, and divide the interval $\\left[0, T\\right]$ into $N$ subintervals, called reset periods, of length $\\Delta_n = T_n − T_{n−1}$, where $\\{ T_n \\}^ N_{n=0}$, $T_0 = 0$, $T_N = T$ are referred to as the reset days. \n",
    "\n",
    "The return of an asset with price process $S_t$ over a reset period $\\left[T_{n−1}, T_n\\right)$ is then defined as\n",
    "\n",
    "$$R_n = \\frac{S_{T_n}}{S_{T_{n-1}}} - 1$$\n",
    "\n",
    "Additionally the *truncated returns* is defined as:\n",
    "\n",
    "$$\\bar{R_n} = \\max \\left( \\min \\left(R_n, C\\right), F\\right)$$\n",
    "\n",
    "where $F$ and $C$ are the floor and cap levels respectively (the absence of floor and caps corresponds to $F=-1$ and $C=+\\infty$).\n",
    "\n",
    "The  *truncated returns* is represented by:\n",
    "\n",
    "![image.png](attachment:image.png)\n",
    "\n",
    "\n",
    "An option with this configuration is called a **Cliquet Option**. A general Cliquet option has a payoff $Y$ at time $T$ of:\n",
    "\n",
    "$$Y = \\min\\left( \\max \\left(\\sum_{n=1}^N \\bar{R_n}, F_g\\right), C_g \\right)$$\n",
    "\n",
    "where $F_g$ and $C_g$ are the global floor and global cap, representing the minimum and maximum returns, respectively.\n",
    "\n",
    "We can use the **QQuantLib** library for obtaining the payoff of a **Cliquet Option** using various **Quantum Amplitude Estimation** algorithms."
   ]
  },
  {
   "cell_type": "code",
   "execution_count": null,
   "id": "492b1972",
   "metadata": {},
   "outputs": [],
   "source": [
    "import sys\n",
    "sys.path.append(\"../../\")\n",
    "import numpy as np\n",
    "import pandas as pd\n",
    "import matplotlib.pyplot as plt\n",
    "import qat.lang.AQASM as qlm\n",
    "from copy import deepcopy\n",
    "%matplotlib inline"
   ]
  },
  {
   "cell_type": "code",
   "execution_count": null,
   "id": "fafa419d",
   "metadata": {},
   "outputs": [],
   "source": [
    "#This cell loads the QLM solver. See notebook: 00_AboutTheNotebooksAndQPUs.ipynb\n",
    "from QQuantLib.qpu.get_qpu import get_qpu\n",
    "# myqlm qpus: python, c\n",
    "# QLM qpus accessed using Qaptiva Access library: qlmass_linalg, qlmass_mps\n",
    "# QLM qpus: Only in local Quantum Learning Machine: linalg, mps\n",
    "my_qpus = [\"python\", \"c\", \"qlmass_linalg\", \"qlmass_mps\", \"linalg\", \"mps\"]\n",
    "\n",
    "linalg_qpu = get_qpu(my_qpus[1])"
   ]
  },
  {
   "cell_type": "markdown",
   "id": "06a1543a",
   "metadata": {},
   "source": [
    "## 1. Getting the Paths\n",
    "\n",
    "To evaluate the final payoff of a Cliquet option, the first step is to build the possible paths the asset can follow from one reset day to the next (for all reset days under evaluation). These paths will be constructed using the **Black-Scholes** model.\n",
    "\n",
    "For each possible reset day, we define a domain discretization of the asset as follows:\n",
    "\n",
    "* **Initial reset date**: We only need the initial value of the asset.\n",
    "* **Second reset date**: We compute $N$ possible paths starting from the initial reset day.\n",
    "* **Third reset date**: We generate $N$ possible paths for each asset value at the second reset day, resulting in $N^2$ possible paths at this point.\n",
    "\n",
    "For each subsequent reset day, $N$ new paths are generated for each possible value from the preceding reset day. If there are $m$ reset days, then at the final reset day, we will have $N^m$ possible paths.\n",
    "\n",
    "To implement this scheme, the *bs_tree* function from the **QQuantLib.finance.classical_finance** module is used. The function takes the following inputs:\n",
    "\n",
    "\n",
    "* s_0: Initial value of the asset\n",
    "* risk_free_rate: Risk-free required to model the **Black-Scholes** evolution of the asset.\n",
    "* volatility: Volatility of the asset required to model the **Black-Scholes** evolution.\n",
    "* times: A list of reset days to evaluate\n",
    "* discretization: Number of points for domain discretization.\n",
    "* bounds: Bounds for truncating the probability density.\n",
    "\n",
    "\n",
    "The *bs_tree* returns two objects:\n",
    "\n",
    "* s_t: A list containing all possible discretized values of the asset for each reset day (in tree format).\n",
    "* p_t: A list containing the probabilities of all the distinct paths generated between the initial and final reset days.\n",
    "\n"
   ]
  },
  {
   "cell_type": "code",
   "execution_count": null,
   "id": "80e8425f",
   "metadata": {},
   "outputs": [],
   "source": [
    "from QQuantLib.finance.classical_finance import bs_tree"
   ]
  },
  {
   "cell_type": "code",
   "execution_count": null,
   "id": "b43f6725",
   "metadata": {},
   "outputs": [],
   "source": [
    "#Initial value for the asset\n",
    "s_0 = 1.0\n",
    "risk_free_rate = 0.03\n",
    "volatility = 0.4\n",
    "reset_dates = np.array([0.0, 1.0, 2.0])\n",
    "\n",
    "#Discretization: 2^n_qbits\n",
    "n_qbits = 5\n",
    "\n",
    "tree_s, bs_path_prob = bs_tree(\n",
    "    s_0=s_0,\n",
    "    risk_free_rate=risk_free_rate, \n",
    "    volatility=volatility,\n",
    "    times=reset_dates,\n",
    "    discretization= 2**n_qbits,\n",
    "    bounds = 7\n",
    ")"
   ]
  },
  {
   "cell_type": "markdown",
   "id": "379292f9",
   "metadata": {},
   "source": [
    "The first output of *bs_tree* (stored in the variable *tree_s*) contains the possible values of the asset for each reset day.\n",
    "\n",
    "* The first element of *tree_s* represents the initial value of the asset.\n",
    "* The second element contains the possible asset values at the second reset day.\n",
    "* The third element has the values of the asset at the third reset day for each posible value of the second reset day. So it has $2^{n\\_qbits}$ * $2^{n\\_qbits}$ values"
   ]
  },
  {
   "cell_type": "code",
   "execution_count": null,
   "id": "e1e5594e",
   "metadata": {
    "scrolled": true
   },
   "outputs": [],
   "source": [
    "# First reset day \n",
    "tree_s[0]"
   ]
  },
  {
   "cell_type": "code",
   "execution_count": null,
   "id": "83884ca6",
   "metadata": {},
   "outputs": [],
   "source": [
    "# Second reset day: MUST have 2^n_qbits values\n",
    "print(len(tree_s[1]))"
   ]
  },
  {
   "cell_type": "code",
   "execution_count": null,
   "id": "cfab3bf1",
   "metadata": {},
   "outputs": [],
   "source": [
    "# Third reset day: MUST have 2^n_qbits * 2^n_qbits values\n",
    "print(len(tree_s[2]))"
   ]
  },
  {
   "cell_type": "markdown",
   "id": "7c5b02a6",
   "metadata": {},
   "source": [
    "The first $2^n$ values of the third element of the *tree_s* contains the posible asset values corresponding to the first asset value of the second reset day, and so on."
   ]
  },
  {
   "cell_type": "code",
   "execution_count": null,
   "id": "551f8d9f",
   "metadata": {},
   "outputs": [],
   "source": [
    "print(\"Possible asset values in third reset day: \\n{}\".format(\n",
    "    tree_s[2][:2**n_qbits]))\n",
    "print(\"for first asset value {} in second reset day: \".format(tree_s[1][0]))"
   ]
  },
  {
   "cell_type": "code",
   "execution_count": null,
   "id": "a3fb7029",
   "metadata": {},
   "outputs": [],
   "source": [
    "print(\"Possible asset values in third reset day: \\n{}\".format(\n",
    "    tree_s[2][2**n_qbits: 2*2**n_qbits]))\n",
    "print(\"for second asset value {} in second reset day: \".format(tree_s[1][1]))"
   ]
  },
  {
   "cell_type": "markdown",
   "id": "654c98d6",
   "metadata": {},
   "source": [
    "The *tree_to_paths* function from **QQuantLib.finance.classical_finance** module transforms the *tree_s* variable into a table format, where all the possible paths of the asset are stored for each reset day.\n"
   ]
  },
  {
   "cell_type": "code",
   "execution_count": null,
   "id": "53043dd2",
   "metadata": {},
   "outputs": [],
   "source": [
    "from QQuantLib.finance.classical_finance import tree_to_paths"
   ]
  },
  {
   "cell_type": "code",
   "execution_count": null,
   "id": "93bb2c4f",
   "metadata": {},
   "outputs": [],
   "source": [
    "# Posible path of the assets along the three reset days\n",
    "paths_s = tree_to_paths(tree_s)\n",
    "pdf = pd.DataFrame(paths_s, index=[\"reset_day0\", \"reset_day1\", \"reset_day2\"])"
   ]
  },
  {
   "cell_type": "code",
   "execution_count": null,
   "id": "6aecc85b",
   "metadata": {},
   "outputs": [],
   "source": [
    "pdf"
   ]
  },
  {
   "cell_type": "code",
   "execution_count": null,
   "id": "6992dc40",
   "metadata": {},
   "outputs": [],
   "source": [
    "# Possible paths for the asset\n",
    "for i in range(len(pdf.columns)):\n",
    "    plt.plot(pdf[i], 'o-')"
   ]
  },
  {
   "cell_type": "markdown",
   "id": "93c4b194",
   "metadata": {},
   "source": [
    "The variable *bs_path_prob* (the second output of the *bs_tree*) is a list where each element contains the probability of the built paths for each reset day. The last element contains the probability of all the built paths from the initial reset day to the final one."
   ]
  },
  {
   "cell_type": "code",
   "execution_count": null,
   "id": "67facfdf",
   "metadata": {},
   "outputs": [],
   "source": [
    "bs_path_prob"
   ]
  },
  {
   "cell_type": "code",
   "execution_count": null,
   "id": "8d454798",
   "metadata": {},
   "outputs": [],
   "source": [
    "# Probabilities for all the built paths from initial to last reset day\n",
    "plt.plot(bs_path_prob[-1])\n",
    "plt.xlabel(\"Paths\")\n",
    "plt.ylabel(\"Probability\")"
   ]
  },
  {
   "cell_type": "markdown",
   "id": "c950e841",
   "metadata": {},
   "source": [
    "## 2. Getting the Cliquet Option payoff\n",
    "\n",
    "For each built path, we need to compute the associated payoff of the Cliquet option. This can be done using the *cliquet_cashflows* function from **QQuantLib.finance.classical_finance**. The inputs are:\n",
    "\n",
    "* local_cap: $C$\n",
    "* local_floor: $F$\n",
    "* global_cap: $C_g$\n",
    "* global_floor: $F_g$\n",
    "* paths: The built paths from *tree_to_paths* function\n",
    "\n",
    "The output is the Cliquet payoff for each possible path from the initial reset day to the final one.\n"
   ]
  },
  {
   "cell_type": "code",
   "execution_count": null,
   "id": "70a5089a",
   "metadata": {},
   "outputs": [],
   "source": [
    "from QQuantLib.finance.classical_finance import cliquet_cashflows"
   ]
  },
  {
   "cell_type": "code",
   "execution_count": null,
   "id": "2c7dd39f",
   "metadata": {},
   "outputs": [],
   "source": [
    "local_cap = 0.1\n",
    "local_floor = -0.1\n",
    "global_cap = 0.2\n",
    "global_floor = -0.2"
   ]
  },
  {
   "cell_type": "code",
   "execution_count": null,
   "id": "1fbd2398",
   "metadata": {},
   "outputs": [],
   "source": [
    "cliqet_payoffs = cliquet_cashflows(\n",
    "    local_cap = local_cap,\n",
    "    local_floor = local_floor,\n",
    "    global_cap = global_cap,\n",
    "    global_floor = global_floor,\n",
    "    paths=paths_s\n",
    ")"
   ]
  },
  {
   "cell_type": "code",
   "execution_count": null,
   "id": "4f8e11f3",
   "metadata": {},
   "outputs": [],
   "source": [
    "# Cliquet Pay Off for each built path\n",
    "plt.plot(cliqet_payoffs)\n",
    "plt.xlabel(\"Paths\")\n",
    "plt.ylabel(\"Cliquet PayOffs\")"
   ]
  },
  {
   "cell_type": "markdown",
   "id": "fc7eb274",
   "metadata": {},
   "source": [
    "## 3. The return of the Cliquet option\n",
    "\n",
    "\n",
    "Now, we can compute the return of the Cliquet option by calculating the expected value of the probability of all the paths and their corresponding payoff."
   ]
  },
  {
   "cell_type": "code",
   "execution_count": null,
   "id": "e829c6b8",
   "metadata": {},
   "outputs": [],
   "source": [
    "cliquet_return = np.dot(bs_path_prob[-1], cliqet_payoffs)\n",
    "\n",
    "print(\"Expected return of the cliquet at the last reset day: {}\".format(\n",
    "    cliquet_return\n",
    "))"
   ]
  },
  {
   "cell_type": "markdown",
   "id": "924819db",
   "metadata": {},
   "source": [
    "We need to discount the risk-free rate, as usual, to determine the return at the initial day."
   ]
  },
  {
   "cell_type": "code",
   "execution_count": null,
   "id": "e0d1d7f0",
   "metadata": {},
   "outputs": [],
   "source": [
    "final_return = np.exp(-risk_free_rate * reset_dates[-1]) * cliquet_return\n",
    "\n",
    "print(\"Final Return: {}\".format(final_return))"
   ]
  },
  {
   "cell_type": "markdown",
   "id": "82168401",
   "metadata": {},
   "source": [
    "## 4. Cliquet Option using *q_solve_integral*\n",
    "\n",
    "The *Cliquet* option return can be computed easily using the *q_solve_integral* function from **QQuantLib.finance.quantum_integration** (see *misc/notebooks/10_ApplicationTo_Finance_01_IntegralComputing.ipynb*).\n",
    "\n",
    "We only need to provide the probability and payoff arrays and properly configure the **AE** algorithm."
   ]
  },
  {
   "cell_type": "code",
   "execution_count": null,
   "id": "fccbb797",
   "metadata": {},
   "outputs": [],
   "source": [
    "from QQuantLib.finance.quantum_integration import q_solve_integral"
   ]
  },
  {
   "cell_type": "code",
   "execution_count": null,
   "id": "db5bc920",
   "metadata": {},
   "outputs": [],
   "source": [
    "#probability definition\n",
    "p_x = bs_path_prob[-1]\n",
    "#probability normalisation\n",
    "p_x_normalisation = np.sum(p_x)\n",
    "norm_p_x = p_x / p_x_normalisation\n",
    "\n",
    "#Function definition\n",
    "f_x = cliqet_payoffs\n",
    "f_x_normalisation = np.max(np.abs(f_x))\n",
    "norm_f_x = f_x / f_x_normalisation"
   ]
  },
  {
   "cell_type": "code",
   "execution_count": null,
   "id": "9e79d9f4",
   "metadata": {},
   "outputs": [],
   "source": [
    "ae_dict = {\n",
    "    #QPU\n",
    "    'qpu': linalg_qpu,\n",
    "    #Multi controlled decomposition\n",
    "    'mcz_qlm': False, \n",
    "    \n",
    "    #shots\n",
    "    'shots': None,\n",
    "    \n",
    "    #MLAE\n",
    "    'schedule': None,\n",
    "    'delta' : None,\n",
    "    'ns' : None,\n",
    "    \n",
    "    #CQPEAE\n",
    "    'auxiliar_qbits_number': None,\n",
    "    \"window\" : None,  \n",
    "    \"kaiser_alpha\" : None,\n",
    "    #IQPEAE\n",
    "    'cbits_number': None,\n",
    "    #IQAE & RQAQE\n",
    "    'epsilon': None,\n",
    "    #IQAE\n",
    "    'alpha': None,\n",
    "    #RQAE\n",
    "    'gamma': None,\n",
    "    'q': None,\n",
    "    #For encoding class\n",
    "    \"multiplexor\": True\n",
    "}"
   ]
  },
  {
   "cell_type": "code",
   "execution_count": null,
   "id": "c91fc07e",
   "metadata": {},
   "outputs": [],
   "source": [
    "ae_dict.update({\n",
    "    \"array_function\":norm_f_x,\n",
    "    \"array_probability\": norm_p_x,\n",
    "})\n",
    "\n",
    "# PayOff can be positive and negative so better use encoding 2\n",
    "ae_dict.update({\"encoding\" : 2})"
   ]
  },
  {
   "cell_type": "markdown",
   "id": "4404c11a",
   "metadata": {},
   "source": [
    "### 4.1 IQAE"
   ]
  },
  {
   "cell_type": "code",
   "execution_count": null,
   "id": "68e5e612",
   "metadata": {},
   "outputs": [],
   "source": [
    "ae_dict.update({\n",
    "    \"ae_type\" : \"IQAE\",\n",
    "    \"epsilon\" : 0.01,\n",
    "    \"alpha\" : 0.05,\n",
    "    \"shots\" : 100\n",
    "})"
   ]
  },
  {
   "cell_type": "code",
   "execution_count": null,
   "id": "a6f210d0",
   "metadata": {},
   "outputs": [],
   "source": [
    "%%time\n",
    "iqae_solution, iqae_object = q_solve_integral(**ae_dict)"
   ]
  },
  {
   "cell_type": "code",
   "execution_count": null,
   "id": "f571313b",
   "metadata": {},
   "outputs": [],
   "source": [
    "iqae_cliquet_return = iqae_solution * f_x_normalisation * p_x_normalisation"
   ]
  },
  {
   "cell_type": "code",
   "execution_count": null,
   "id": "8533d5c8",
   "metadata": {
    "scrolled": true
   },
   "outputs": [],
   "source": [
    "print(\"Cliquet Return computed using IQAE: {}\".format(iqae_cliquet_return[\"ae\"].iloc[0]))\n",
    "print(\"True Cliquet return: {}\".format(cliquet_return))"
   ]
  },
  {
   "cell_type": "markdown",
   "id": "04141d57",
   "metadata": {},
   "source": [
    "As can be seen, **IQAE** algorithm only returns positive values, so it can not be use for this *Cliquet option* configuration"
   ]
  },
  {
   "cell_type": "markdown",
   "id": "be1c46f5",
   "metadata": {},
   "source": [
    "### 4.2 RQAE"
   ]
  },
  {
   "cell_type": "code",
   "execution_count": null,
   "id": "5c1c1168",
   "metadata": {},
   "outputs": [],
   "source": [
    "%%time\n",
    "ae_dict.update({\n",
    "    \"ae_type\" : \"RQAE\",\n",
    "    \"epsilon\" : 0.01,\n",
    "    \"gamma\" : 0.05,\n",
    "    \"q\" : 1.2\n",
    "})\n",
    "rqae_solution, rqae_object = q_solve_integral(**ae_dict)"
   ]
  },
  {
   "cell_type": "code",
   "execution_count": null,
   "id": "655cae38",
   "metadata": {},
   "outputs": [],
   "source": [
    "q_cliquet_return = rqae_solution * f_x_normalisation * p_x_normalisation"
   ]
  },
  {
   "cell_type": "code",
   "execution_count": null,
   "id": "517b4143",
   "metadata": {},
   "outputs": [],
   "source": [
    "q_cliquet_return"
   ]
  },
  {
   "cell_type": "code",
   "execution_count": null,
   "id": "2eced7b3",
   "metadata": {},
   "outputs": [],
   "source": [
    "(cliquet_return < q_cliquet_return[\"ae_u\"]) & (cliquet_return > q_cliquet_return[\"ae_l\"])"
   ]
  },
  {
   "cell_type": "markdown",
   "id": "207ca5e5",
   "metadata": {},
   "source": [
    "**RQAE** algorithm can return both positive and negative values, so it can be used for this *Cliquet option* configuration."
   ]
  },
  {
   "cell_type": "markdown",
   "id": "9c42ba7c",
   "metadata": {},
   "source": [
    "## 5. ae_cliquet_estimation\n",
    "\n",
    "The *ae_cliquet_estimation* function allows the user to compute a Cliquet option by configuring an input dictionary:\n"
   ]
  },
  {
   "cell_type": "code",
   "execution_count": null,
   "id": "c9379aec",
   "metadata": {},
   "outputs": [],
   "source": [
    "from QQuantLib.finance.cliquet_return_estimation import ae_cliquet_estimation"
   ]
  },
  {
   "cell_type": "code",
   "execution_count": null,
   "id": "d2617d9f",
   "metadata": {},
   "outputs": [],
   "source": [
    "#Base AE configuration dictionary\n",
    "ae_dict = {\n",
    "    #QPU\n",
    "    'qpu': linalg_qpu,\n",
    "    #Multi controlled decomposition\n",
    "    'mcz_qlm': False, \n",
    "    \n",
    "    #shots\n",
    "    'shots': None,\n",
    "    \n",
    "    #MLAE\n",
    "    'schedule': None,\n",
    "    'delta' : None,\n",
    "    'ns' : None,\n",
    "    \n",
    "    #CQPEAE\n",
    "    'auxiliar_qbits_number': None,\n",
    "    \"window\" : None,  \n",
    "    \"kaiser_alpha\" : None,\n",
    "    #IQPEAE\n",
    "    'cbits_number': None,\n",
    "    #IQAE & RQAQE\n",
    "    'epsilon': None,\n",
    "    #IQAE\n",
    "    'alpha': None,\n",
    "    #RQAE\n",
    "    'gamma': None,\n",
    "    'q': None,\n",
    "    #For encoding class\n",
    "    \"multiplexor\": True\n",
    "}"
   ]
  },
  {
   "cell_type": "code",
   "execution_count": null,
   "id": "37e40095",
   "metadata": {},
   "outputs": [],
   "source": [
    "# Asset configuration\n",
    "asset_config = {\n",
    "    \"n_qbits\" : n_qbits,\n",
    "    \"s_0\": s_0,\n",
    "    \"risk_free_rate\" : risk_free_rate,\n",
    "    \"volatility\" : volatility,\n",
    "    \"reset_dates\" : [0.0, 1.0, 2.0],\n",
    "    \"bounds\": 7\n",
    "}\n",
    "\n",
    "#Cliquet option configuration\n",
    "option_config = {\n",
    "    \"local_cap\" : local_cap,\n",
    "    \"local_floor\" : local_floor,\n",
    "    \"global_cap\" : global_cap,\n",
    "    \"global_floor\": global_floor\n",
    "}\n",
    "\n",
    "other_configuration = {\n",
    "    'qpu': linalg_qpu,\n",
    "    \"save\": False,\n",
    "    \"file_name\": \"./ae_problem.csv\",\n",
    "    \"number_of_tests\": 1\n",
    "}\n",
    "\n",
    "ae_dict.update(asset_config)\n",
    "ae_dict.update(option_config)\n",
    "ae_dict.update(other_configuration)\n",
    "ae_dict.update({\"encoding\" : 2})"
   ]
  },
  {
   "cell_type": "code",
   "execution_count": null,
   "id": "3e50d2d0",
   "metadata": {},
   "outputs": [],
   "source": [
    "ae_dict.update({\n",
    "    \"ae_type\" : \"IQAE\",\n",
    "    \"epsilon\" : 0.01,\n",
    "    \"alpha\" : 0.05,\n",
    "    \"shots\" : 100\n",
    "})"
   ]
  },
  {
   "cell_type": "code",
   "execution_count": null,
   "id": "f39d4280",
   "metadata": {},
   "outputs": [],
   "source": [
    "pdf = ae_cliquet_estimation(**ae_dict)"
   ]
  },
  {
   "cell_type": "markdown",
   "id": "161db166",
   "metadata": {},
   "source": [
    "The output of the *ae_cliquet_estimation* function is a pandas DataFrame containing various information, including:\n",
    "\n",
    "* Asset configuration\n",
    "* AE algorithm configuration\n",
    "* Normalization of payoff and probability\n",
    "* AE estimation of the integral (including Riemman integral and absolute error)\n",
    "* Financial results (including the discount of the risk-free rate)"
   ]
  },
  {
   "cell_type": "code",
   "execution_count": null,
   "id": "ac3ff3af",
   "metadata": {},
   "outputs": [],
   "source": [
    "# Asset configuration\n",
    "pdf[[\n",
    "    \"n_qbits\", \"s_0\", \"risk_free_rate\", \"volatility\",\"bounds\",\n",
    "    \"reset_dates\", \"local_cap\", \"local_floor\", \"global_cap\", \"global_floor\"\n",
    "]]"
   ]
  },
  {
   "cell_type": "code",
   "execution_count": null,
   "id": "9497d4a2",
   "metadata": {},
   "outputs": [],
   "source": [
    "# AE algorithm configuration\n",
    "pdf[[\n",
    "    'ae_type','schedule', 'delta', 'ns', \n",
    "    'auxiliar_qbits_number', 'cbits_number',\n",
    "    'epsilon', 'alpha', 'gamma', 'q', 'shots',\n",
    "    'mcz_qlm', 'encoding','multiplexor',\n",
    "]]"
   ]
  },
  {
   "cell_type": "code",
   "execution_count": null,
   "id": "af495818",
   "metadata": {},
   "outputs": [],
   "source": [
    "# Normalisation of payoff and probability\n",
    "pdf[['payoff_normalisation', 'p_x_normalisation']]"
   ]
  },
  {
   "cell_type": "code",
   "execution_count": null,
   "id": "b988a875",
   "metadata": {},
   "outputs": [],
   "source": [
    "# AE estimation of the integral Including Riemman expectations and absolute error\n",
    "pdf[[\n",
    "    \"ae_l_expectation\", \"ae_expectation\", \n",
    "    \"ae_u_expectation\", \"riemann_expectation\", \"absolute_error\", \"measured_epsilon\"\n",
    "]]"
   ]
  },
  {
   "cell_type": "code",
   "execution_count": null,
   "id": "9e0cab85",
   "metadata": {},
   "outputs": [],
   "source": [
    "# Financial results (including the discount of the risk-free rate)\n",
    "pdf[['finance_exact_price', 'finance_riemann_price', \n",
    "     'finance_price_estimation', 'finance_error_riemann', 'finance_error_exact'\n",
    "]]"
   ]
  },
  {
   "cell_type": "code",
   "execution_count": null,
   "id": "1397a146",
   "metadata": {},
   "outputs": [],
   "source": [
    "ae_dict.update({\n",
    "    \"ae_type\" : \"RQAE\",\n",
    "    \"epsilon\" : 0.001,\n",
    "    \"gamma\" : 0.05,\n",
    "    \"q\" : 1.2\n",
    "})\n",
    "pdf = ae_cliquet_estimation(**ae_dict)"
   ]
  },
  {
   "cell_type": "code",
   "execution_count": null,
   "id": "2b79069f",
   "metadata": {},
   "outputs": [],
   "source": [
    "pdf[[\n",
    "    \"ae_l_expectation\", \"ae_expectation\", \n",
    "    \"ae_u_expectation\", \"riemann_expectation\", \"absolute_error\"\n",
    "]]"
   ]
  },
  {
   "cell_type": "code",
   "execution_count": null,
   "id": "82d245a2",
   "metadata": {},
   "outputs": [],
   "source": [
    "pdf[\"riemann_expectation\"] > pdf[\"ae_l_expectation\"]"
   ]
  },
  {
   "cell_type": "code",
   "execution_count": null,
   "id": "58979dcf",
   "metadata": {
    "scrolled": true
   },
   "outputs": [],
   "source": [
    "pdf[\"riemann_expectation\"] < pdf[\"ae_u_expectation\"]"
   ]
  },
  {
   "cell_type": "markdown",
   "id": "eef51689",
   "metadata": {},
   "source": [
    "## 6. cliquet_return_estimation_step_payoff \n",
    "\n",
    "\n",
    "Cliquet options can have both positive and negative returns, so only **RQAE-like** algorithm can provide the correct estimation if the sign is unknown. Other **AE** algorithms can also be used for providing the correct estimation, but the following workaround should be applied:\n",
    "\n",
    "* The payoff should be split into two parts: a positive and a negative part.\n",
    "* The *q_solve_integral function* should be executed over both parts.\n",
    "* The results should be post-processed to return the correct evaluation.\n",
    "\n",
    "This can be done straightforwardly using the *ae_cliquet_estimation_step_payoff* function.\n"
   ]
  },
  {
   "cell_type": "code",
   "execution_count": null,
   "id": "16da3f08",
   "metadata": {},
   "outputs": [],
   "source": [
    "from QQuantLib.finance.cliquet_return_estimation_step_payoff import ae_cliquet_estimation_step_po"
   ]
  },
  {
   "cell_type": "code",
   "execution_count": null,
   "id": "f0ef85a7",
   "metadata": {},
   "outputs": [],
   "source": [
    "ae_dict.update({\"encoding\" : 0})\n",
    "ae_dict.update({\n",
    "    \"ae_type\" : \"IQAE\",\n",
    "    \"epsilon\" : 0.01,\n",
    "    \"alpha\" : 0.05,\n",
    "    \"shots\" : 100\n",
    "})\n",
    "\n",
    "pdf_parts = ae_cliquet_estimation_step_po(**ae_dict)"
   ]
  },
  {
   "cell_type": "code",
   "execution_count": null,
   "id": "30d820d7",
   "metadata": {},
   "outputs": [],
   "source": [
    "pdf_parts[[\n",
    "    \"ae_expectation\", \n",
    "    \"riemann_expectation\", \"absolute_error\", \"measured_epsilon\"\n",
    "]]"
   ]
  },
  {
   "cell_type": "code",
   "execution_count": null,
   "id": "bb43a2d7",
   "metadata": {},
   "outputs": [],
   "source": [
    "ae_dict.update({\n",
    "    \"ae_type\" : \"BAYESQAE\",\n",
    "})"
   ]
  },
  {
   "cell_type": "code",
   "execution_count": null,
   "id": "19b93006",
   "metadata": {},
   "outputs": [],
   "source": [
    "pdf_parts = ae_cliquet_estimation_step_po(**ae_dict)"
   ]
  },
  {
   "cell_type": "markdown",
   "id": "2e4a2494",
   "metadata": {},
   "source": [
    "With this workaround, the typical **AE** algorithms return the correct estimation!"
   ]
  },
  {
   "cell_type": "markdown",
   "id": "d8276e7f",
   "metadata": {},
   "source": [
    "## 7. Command Line Utilities\n",
    "\n",
    "Inside the **benchmark/q_ae_cliquet/** folder, the following scripts allow the user to compute the return of a *Cliquet option* from the command line using an AE algorithm:\n",
    "\n",
    "* benchmark_cliquet.py\n",
    "* benchmark_cliquet_step_po.py (in this case, the splitting payoff workaround is used)\n",
    "\n",
    "To get a list of the arguments, the following commands should be used:\n",
    "\n",
    "* python benchmark_cliquet.py -h\n",
    "* python benchmark_cliquet_step_po.py -h\n",
    "\n",
    "The output is (for both commands):\n",
    "\n",
    "    usage: benchmark_cliquet.py [-h] [--count] [--print] [--all] [--exe] [--save] [-folder FOLDER_PATH] [-name FILE_NAME] [-id ID] [-repetitions REPETITIONS]\n",
    "                                [-json_asset JSON_ASSET] [-json_cliquet JSON_CLIQUET] [-json_ae JSON_AE] [-json_qpu JSON_QPU]\n",
    "\n",
    "    optional arguments:\n",
    "      -h, --help            show this help message and exit\n",
    "      --count               For counting elements on the list\n",
    "      --print               For printing\n",
    "      --all                 For executing complete list\n",
    "      --exe                 For executing program\n",
    "      --save                For saving results\n",
    "      -folder FOLDER_PATH   Path for storing folder\n",
    "      -name FILE_NAME       Name for storing csv. Only applies for --all\n",
    "      -id ID                For executing only one element of the list\n",
    "      -repetitions REPETITIONS\n",
    "                            Number of repetitions the integral will be computed.Default: 1\n",
    "      -json_asset JSON_ASSET\n",
    "                            JSON with the asset configuration\n",
    "      -json_cliquet JSON_CLIQUET\n",
    "                            JSON with the payoff configuration\n",
    "      -json_ae JSON_AE      JSON AE algorithm configuration\n",
    "      -json_qpu JSON_QPU    JSON with the qpu configuration\n",
    "      \n",
    "\n",
    "\n",
    "The complete configuration for the computations should be provided using *JSON* files:\n",
    "\n",
    "#### -json_asset JSON_ASSET\n",
    "\n",
    "Here, the asset configuration is provided using a JSON file. The *asset_configuration.json* presents an example of a valid asset configuration for a *Cliquet Option*.\n",
    "\n",
    "#### -json_cliquet JSON_CLIQUET\n",
    "\n",
    "Here, the configuration of the *Cliquet Option* is provided as a JSON file (this includes the different caps and floors of the option). The *cliquet_configuration.json* presents an example of a valid Cliquet option configuration.\n",
    "\n",
    "#### -json_ae JSON_AE\n",
    "\n",
    "Here, the configuration of the *AE* algorithm to use is provided as a JSON file. The *miqae_configuration.json* and *mrqae_configuration.json* present examples of valid AE configurations.\n",
    "\n",
    "#### -json_qpu JSON_QPU\n",
    "\n",
    "Here, the configuration of the QPU is provided as a JSON file. The *qpu_ideal.json* presents an example of a QPU configuration file. Noisy simulation can be used by properly modifying the JSON file."
   ]
  },
  {
   "cell_type": "markdown",
   "id": "b0ba2a8e",
   "metadata": {},
   "source": [
    "### 7.1 Getting the number of cases to execute.\n",
    "\n",
    "Providing to the command line execution the argument **--count**, the scripts will return the total number of executions it should be done for complete execution of the configured problem using the different **JSON** files.\n",
    "\n",
    "So for example:\n",
    "\n",
    "    python benchmark_cliquet_step_po.py -json_asset asset_configuration.json -json_cliquet cliquet_configuration.json  -json_ae miqae_configuration.json  -json_qpu qpu_ideal.json --count\n",
    "\n",
    "should provide: 8\n"
   ]
  },
  {
   "cell_type": "markdown",
   "id": "2fdd03b3",
   "metadata": {},
   "source": [
    "### 7.2 Print the info for the case\n",
    "\n",
    "The **--print** argument allows the user to print the configuration of the problem to solve. It can be used with two additional commands:\n",
    "\n",
    "* --all: In this case, the complete list of dictionaries is printed.\n",
    "* -id 5: In this case, the complete configuration of the 5th price estimation problem (with the corresponding **AE** algorithm configuration) will be printed. \n"
   ]
  },
  {
   "cell_type": "markdown",
   "id": "8af600b1",
   "metadata": {},
   "source": [
    "### 7.5 Execution of the case\n",
    "\n",
    "For executing a selected case the **--exe** argument should be provided in combination with the element of the list of dictionaries to be executed. \n",
    "\n",
    "The following command will execute the number 3 estimation Cliquet problem.\n",
    "\n",
    "    python benchmark_cliquet_step_po.py -json_asset asset_configuration.json -json_cliquet cliquet_configuration.json  -json_ae miqae_configuration.json  -json_qpu qpu_ideal.json -id 3 --print --exe"
   ]
  },
  {
   "cell_type": "markdown",
   "id": "a2482f9d",
   "metadata": {},
   "source": [
    "### 7.6 Other arguments\n",
    "\n",
    "Other arguments that can be provided are:\n",
    "\n",
    "* -repetitions REPETITIONS: for executing one case REPETITIONS times\n",
    "* -folder: Path with folder where the Pandas DataFrames will be saved\n",
    "* -name: for providing an additional name to the saved pdf\n",
    "* --save: For saving the obtained Pandas DataFrame"
   ]
  },
  {
   "attachments": {
    "image.png": {
     "image/png": "[encoded data removed]"
    }
   },
   "cell_type": "markdown",
   "id": "bf3c61cc",
   "metadata": {},
   "source": [
    "## 8. Results\n",
    "\n",
    "\n",
    "Here, we provide the performance results of different **AE** algorithms for a Cliquet option. These results were obtained by executing the *benchmark_cliquet_step_po.py* and *benchmark_cliquet.py* scripts from the command line and providing properly configured JSON files.\n",
    "\n",
    "### Asset Configuration\n",
    "\n",
    "The asset configuration for the *Cliquet Option* is presented in the following table:\n",
    "\n",
    "<table border=\"1\" class=\"dataframe\">  <thead>    <tr style=\"text-align: right;\">      <th></th>      <th></th>      <th></th>      <th></th>      <th></th>      <th></th>         </tr>    <tr>      <th>n_qbits</th>      <th>s_0</th>      <th>risk_free_rate</th>      <th>volatility</th>      <th>bounds</th>      <th>reset_dates</th>      </tr>  </thead>  <tbody>    <tr>      <th>6</th>      <th>1</th>      <th>0.05</th>      <th>0.5</th>      <th>7.0</th>      <th>[0.0, 1.0, 2.0]</th>      </tr>  </tbody></table>\n",
    "\n",
    "### Cliquet Option Configuration\n",
    "\n",
    "The configuration of the *Cliquet option* is presented in the following table:\n",
    "\n",
    "<table border=\"1\" class=\"dataframe\">  <thead>    <tr style=\"text-align: right;\">      <th></th>      <th></th>      <th></th>      <th></th>      <th></th>        </tr>    <tr>      <th>reset_dates</th>      <th>local_cap</th>      <th>local_floor</th>      <th>global_cap</th>      <th>global_floor</th>     </tr>  </thead>  <tbody>    <tr>      <th>[0.0, 1.0, 2.0]</th>      <th>0.1</th>      <th>-0.1</th>      <th>0.2</th>      <th>-0.2</th>       </tr>  </tbody></table>\n",
    "\n",
    "\n",
    "### AE algorithms\n",
    "\n",
    "We have used the 2 following **AE** algorithm configurations:\n",
    "\n",
    "* **mRQAE**:\n",
    "    *  $\\epsilon = 10^{-2},  10^{-3},  10^{-4},  10^{-5}$\n",
    "    * $q$: 2\n",
    "    * $\\gamma$: 0.05\n",
    "    * Encoding Pay Off: Direct.\n",
    "    * Script used: *benchmark_cliquet.py*\n",
    "    * QPU: c or LinAlg\n",
    "* **mIQAE**:\n",
    "    * $\\epsilon = 10^{-2},  10^{-3},  10^{-4},  10^{-5}$\n",
    "    * $\\alpha$: 0.05\n",
    "    * Encoding Pay Off: Direct and Square.\n",
    "    * Script used: *benchmark_cliquet_step_po.py*\n",
    "    * QPU: c or LinAlg    \n",
    "    \n",
    "\n",
    "The return of the configured *Cliquet Option* for the asset configuration, calculated using the Riemann integral, is **-0.021686**. Meanwhile, the discounted value is **-0.019622**.\n",
    "\n",
    "The performance comparison is presented in the following figure, where the *Number of Oracle Calls* is plotted against the *Absolute Error* (in this case, the error is computed relative to the pure Riemann integral value: **-0.021686**):\n",
    "\n",
    "![image.png](attachment:image.png)\n",
    "\n",
    "\n",
    "\n",
    "As can be seen, the performance of *mRQAE* is comparable to that of *mIQAE* for both types of payoff encodings (direct and square).\n"
   ]
  }
 ],
 "metadata": {
  "kernelspec": {
   "display_name": "Python 3 (ipykernel)",
   "language": "python",
   "name": "python3"
  },
  "language_info": {
   "codemirror_mode": {
    "name": "ipython",
    "version": 3
   },
   "file_extension": ".py",
   "mimetype": "text/x-python",
   "name": "python",
   "nbconvert_exporter": "python",
   "pygments_lexer": "ipython3",
   "version": "3.9.9"
  }
 },
 "nbformat": 4,
 "nbformat_minor": 5
}
