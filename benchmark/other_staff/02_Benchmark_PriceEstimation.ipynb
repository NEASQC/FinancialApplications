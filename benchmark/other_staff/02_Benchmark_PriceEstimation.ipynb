{
 "cells": [
  {
   "cell_type": "markdown",
   "id": "8a7c7412",
   "metadata": {},
   "source": [
    "# Finance Benchmark"
   ]
  },
  {
   "cell_type": "code",
   "execution_count": null,
   "id": "21f88f27",
   "metadata": {},
   "outputs": [],
   "source": [
    "import sys\n",
    "sys.path.append(\"../../\")\n",
    "import numpy as np\n",
    "import pandas as pd\n",
    "import itertools as it\n",
    "import matplotlib.pyplot as plt\n",
    "import json"
   ]
  },
  {
   "cell_type": "markdown",
   "id": "76df5476",
   "metadata": {},
   "source": [
    "As explained in notebook: **01_Benchamark_Finanzas** the **PriceEstimation** class from **finance_benchmark.py** module solves a complete estimation price problem. The input of the class is large python dictionary where the estimation problem and the solver is configured.\n",
    "\n",
    "For automatize the execution of different estimation problems and different solvers the module **dictionary_combination.py** was created.\n",
    "\n",
    "Following sections explains how to use the functions of the module."
   ]
  },
  {
   "cell_type": "markdown",
   "id": "d99427b3",
   "metadata": {},
   "source": [
    "## 1. Definitions.\n",
    "\n",
    "We are going to use the following definitions:\n",
    "\n",
    "* **Price Problem** (**PriceP** from now): this will be a complete and properly configured price estimation of a pay off, under a probability density for a domain. It will be a python dictionary. \n",
    "\n",
    "Following cell we give an example of a  **PriceP** dictionary,\n"
   ]
  },
  {
   "cell_type": "code",
   "execution_count": null,
   "id": "ec165f06",
   "metadata": {},
   "outputs": [],
   "source": [
    "price_p = {\n",
    "    #Pay Off Configuration\n",
    "    'pay_off_type': 'European_Put_Option',\n",
    "    'strike': 1.5,\n",
    "    'coupon': None,\n",
    "    #Probability density configuration\n",
    "    'probability_type': 'Black-Scholes',\n",
    "    's_0': 1,\n",
    "    'risk_free_rate': 0.05,\n",
    "    'maturity': 1.0,\n",
    "    'volatility': 0.1,\n",
    "    #Domain Configuration\n",
    "    'x0': 0.01,\n",
    "    'xf': 3.0,\n",
    "    'n_qbits': 7,\n",
    "}"
   ]
  },
  {
   "cell_type": "markdown",
   "id": "463ccec5",
   "metadata": {},
   "source": [
    "Other important definition will be \n",
    "* **Amplitude Estimation Price Problem** (**AE_PriceP** from now): this will be a price problem (**PriceP**)  with a properly configurated amplitude estimation method for solving the problem. It will be a python dictionary.\n",
    "\n",
    "This is a complete dictionary for given to the **Price Estimation** class explained in the notebook: **01_Benchamark_Finanzas**.\n",
    "\n",
    "Following cell shows an example of a **AE_PriceP**"
   ]
  },
  {
   "cell_type": "code",
   "execution_count": null,
   "id": "ad8ad96d",
   "metadata": {},
   "outputs": [],
   "source": [
    "#Example of complete dictionary\n",
    "ae_price_p = {\n",
    "    #Amplitude Estimation selection\n",
    "    'ae_type': 'MLAE',\n",
    "    #Amplitude Estimation configuration\n",
    "    'schedule': None,\n",
    "    'mcz_qlm': False,\n",
    "    'delta' : 1.0e-6,\n",
    "    'ns' : 10000,\n",
    "    'auxiliar_qbits_number': None,\n",
    "    'cbits_number': None,\n",
    "    'alpha': None,\n",
    "    'gamma': None,\n",
    "    'epsilon': None,\n",
    "    'shots': None,\n",
    "    'probability_loading': False,\n",
    "    #Numbe of problem to solve\n",
    "    'number_of_tests': 1,\n",
    "    #PayOff Configuration\n",
    "    'pay_off_type': 'European_Call_Option',\n",
    "    'strike': 0.5,\n",
    "    'coupon': None,\n",
    "    #Domain configuration\n",
    "    'x0': 0.01,\n",
    "    'xf': 3.5,\n",
    "    'n_qbits': 5,\n",
    "    #Probability density configuration\n",
    "    'probability_type': 'Black-Scholes',\n",
    "    's_0': 1,\n",
    "    'risk_free_rate': 0.05,\n",
    "    'maturity': 1.0,\n",
    "    'volatility': 0.5\n",
    "}"
   ]
  },
  {
   "cell_type": "markdown",
   "id": "0d819e18",
   "metadata": {},
   "source": [
    "## 2 Creating Amplitude Estimation Price Problem.\n",
    "\n",
    "For generating, in an easy way, different **AE_PriceP** dictionaries, several functions were programmed in the **dictionary_combination.py**.\n",
    "\n",
    "The functions programmed for this will be:\n",
    "\n",
    "1. combination_for_dictionary\n",
    "2. combination_for_list\n",
    "3. create_pep_list\n",
    "4. create_pricep_list_from_jsons\n",
    "5. create_ae_pricep_list"
   ]
  },
  {
   "cell_type": "markdown",
   "id": "ca3fd5a3",
   "metadata": {},
   "source": [
    "### 2.1 combination_for_dictionary function\n",
    "\n",
    "The input of this function is a python dictionary where for each key the values **MUST BE**  a list.\n",
    "\n",
    "For a given key the correspondient list can be one ore more elements. For each element of the list a different output dictionary will be generated. If different keys have list with more than one element all posible combinations will be returned by the function.\n",
    "\n",
    "In the following cells we give an example of how this work:"
   ]
  },
  {
   "cell_type": "code",
   "execution_count": null,
   "id": "499577dc",
   "metadata": {},
   "outputs": [],
   "source": [
    "from benchmark.benchmark_utils import combination_for_dictionary"
   ]
  },
  {
   "cell_type": "markdown",
   "id": "6229f6c5",
   "metadata": {},
   "source": [
    "We are going to start with a *probability_dictionary* configuration where we have following list with more than one element:\n",
    "\n",
    "* *risk_free_rate*  with 2 posible values\n",
    "* *volatility*: with 3 posible values.\n",
    "\n",
    "The **combination_for_dictionary** will create a list of python dictionaries wwhere all the posibilities will be exhausted: in this case we will have *risk_free_rate*volatility* number of dictionaries: 2*3=6"
   ]
  },
  {
   "cell_type": "code",
   "execution_count": null,
   "id": "c75e519c",
   "metadata": {},
   "outputs": [],
   "source": [
    "probability_dictionary = {\n",
    "    'probability_type': ['Black-Scholes'],\n",
    "    's_0': [1],\n",
    "    'risk_free_rate': [0.02, 0.05],\n",
    "    'maturity': [1.0],\n",
    "    'volatility': [0.1, 0.3, 0.5]\n",
    "}\n",
    "list_of_probabilities = combination_for_dictionary(probability_dictionary)\n",
    "print(len(list_of_probabilities))"
   ]
  },
  {
   "cell_type": "code",
   "execution_count": null,
   "id": "17587bea",
   "metadata": {},
   "outputs": [],
   "source": [
    "list_of_probabilities[3]"
   ]
  },
  {
   "cell_type": "markdown",
   "id": "a04fc2da",
   "metadata": {},
   "source": [
    "### 2.2 combination_for_list function\n",
    "\n",
    "The input of this function is a list of python dictionaries. Each python dictionary have a key value pair where the value is a python list. This function iterate over each dictionary of the input list and get all the posible combinations of the dictionary (using the *combination_for_dictionary* function) and finally concatenates all the lists.\n",
    "\n",
    "Following cells show how this function works."
   ]
  },
  {
   "cell_type": "code",
   "execution_count": null,
   "id": "d3e8ab12",
   "metadata": {},
   "outputs": [],
   "source": [
    "from benchmark.benchmark_utils import combination_for_list"
   ]
  },
  {
   "cell_type": "markdown",
   "id": "a01b159b",
   "metadata": {},
   "source": [
    "In the following case we will have 2 different payoffs (an *European_Put_Option* and a *Futures*) and we want to test several *strikes*. So the *combination_for_list* will create all the posible configuration for each dictionary of the list and concatenate them.\n",
    "\n",
    "So we will have 2 posible dictionaries from the *European_Put_Option* one and 3 combinations from the *futures* one. So our final list will have 5 posible dictionaries."
   ]
  },
  {
   "cell_type": "code",
   "execution_count": null,
   "id": "22734f1a",
   "metadata": {},
   "outputs": [],
   "source": [
    "payoffs = [\n",
    "    {\n",
    "        'pay_off_type': ['European_Put_Option', 'European_Call_Option'],\n",
    "        'strike': [1.5, 2.0],\n",
    "        'coupon': [None]\n",
    "    },\n",
    "    {\n",
    "        'pay_off_type': ['Futures'],\n",
    "        'strike': [0.5, 1.0, 1.5], \n",
    "        'coupon': [None]}\n",
    "]\n",
    "list_for_payoffs = combination_for_list(payoffs)\n",
    "len(list_for_payoffs)"
   ]
  },
  {
   "cell_type": "code",
   "execution_count": null,
   "id": "0b738018",
   "metadata": {},
   "outputs": [],
   "source": [
    "list_for_payoffs[0]"
   ]
  },
  {
   "cell_type": "markdown",
   "id": "6bafd554",
   "metadata": {},
   "source": [
    "### 2.3. create_pe_problem\n",
    "\n",
    "This function will create a list of different **PriceP**. The function creates a list of dictionaries where each one is a **PriceP**. The inputs of the function will be:\n",
    "\n",
    "* probability_list: list with different dictionaries for configure a density destribution\n",
    "* payoff_list: list with different dictionaries for configure a pay off function\n",
    "* domain_list: list with different dictionaries for configure a domain.\n",
    "\n",
    "The function exhaust all the dictionaries for each input (using *combination_for_list*) and then create all the posible combinations of each input, taking into account that for define a *PriceP* we need:\n",
    "1. Probability density\n",
    "2. Payoff\n",
    "3. Domain\n",
    "\n",
    "So the output list will be the combination of the all posible density, payoff and domains configurations.\n",
    "\n",
    "Following cells show how this work"
   ]
  },
  {
   "cell_type": "code",
   "execution_count": null,
   "id": "0a9b8493",
   "metadata": {},
   "outputs": [],
   "source": [
    "from benchmark.benchmark_utils import create_pe_problem"
   ]
  },
  {
   "cell_type": "code",
   "execution_count": null,
   "id": "163efec7",
   "metadata": {},
   "outputs": [],
   "source": [
    "#Probability\n",
    "prob_list = [{\n",
    "    'probability_type': ['Black-Scholes'],\n",
    "    's_0': [1],\n",
    "    'risk_free_rate': [0.05, 0.01],\n",
    "    'maturity': [1.0],\n",
    "    'volatility': [0.1, 0.3, 0.5]\n",
    "}]\n",
    "\n",
    "#Pay off\n",
    "po_list =[\n",
    "    {'pay_off_type': ['European_Call_Option'],\n",
    "    'strike': [0.5],\n",
    "    'coupon': [None]},\n",
    "     {'pay_off_type': ['Futures'],\n",
    "      'strike': [0.5, 1.0, 1.5],\n",
    "      'coupon': [None]\n",
    "     }\n",
    "]\n",
    "\n",
    "#Domain\n",
    "do_list = [{\n",
    "    'x0': [0.01], 'xf': [3.0], 'n_qbits': [5]\n",
    "}]"
   ]
  },
  {
   "cell_type": "code",
   "execution_count": null,
   "id": "46333127",
   "metadata": {},
   "outputs": [],
   "source": [
    "#From the prob_list we will have following elements\n",
    "print('List for probability list:', len(combination_for_list(prob_list)))\n",
    "#From the po_list we will have following elements\n",
    "print('List for payoffs list:', len(combination_for_list(po_list)))\n",
    "#From the do_list we will have following elements\n",
    "print('List for domain list:', len(combination_for_list(do_list)))"
   ]
  },
  {
   "cell_type": "markdown",
   "id": "fe00c3a7",
   "metadata": {},
   "source": [
    "The **create_pe_problem** will create all the posible combinations from *probability list*, *payoffs list* and *domain list*. So the final list will have $6*4*1 = 24$ elements"
   ]
  },
  {
   "cell_type": "code",
   "execution_count": null,
   "id": "576dea72",
   "metadata": {},
   "outputs": [],
   "source": [
    "price_p = create_pe_problem(prob_list, po_list, do_list)"
   ]
  },
  {
   "cell_type": "code",
   "execution_count": null,
   "id": "903ff6a1",
   "metadata": {},
   "outputs": [],
   "source": [
    "len(price_p)"
   ]
  },
  {
   "cell_type": "code",
   "execution_count": null,
   "id": "bd6c7f21",
   "metadata": {},
   "outputs": [],
   "source": [
    "price_p[16]"
   ]
  },
  {
   "cell_type": "markdown",
   "id": "211ab558",
   "metadata": {},
   "source": [
    "### 2.4 create_ae_pe_solution\n",
    "This function creates a list of *AE_PriceP*. Each element will be a dictionary that can be given as input to the **PriceEstimation** class. The inputs are:\n",
    "\n",
    "* ae_list: list of dictionaries with the properly configuration of amplitude estimation method.\n",
    "* problem_list: list with *PriceP* problems. In general should be a list from *create_pe_problem*.\n",
    "\n",
    "The result will be all possible combinations of an amplitude estimation method and a *PriceP* problem.\n"
   ]
  },
  {
   "cell_type": "code",
   "execution_count": null,
   "id": "fdd325f5",
   "metadata": {},
   "outputs": [],
   "source": [
    "from benchmark.benchmark_utils import create_ae_pe_solution"
   ]
  },
  {
   "cell_type": "markdown",
   "id": "6d7df9c8",
   "metadata": {},
   "source": [
    "Folowing cell shows a posible creation workflow of a **ae_list**. In this case qe are going to use two different *amplitude estimation* methods (**MLAE** y **IQAE**). Additionally for the **MLAE** one we are going to use 2 different *delta*. Using *combination_for_list* function we can exhasut all *amplitude amplification* configurations (3 in total)"
   ]
  },
  {
   "cell_type": "code",
   "execution_count": null,
   "id": "d2ad7b1c",
   "metadata": {},
   "outputs": [],
   "source": [
    "mlae_list = [\n",
    "    {\n",
    "        'ae_type': ['MLAE'],\n",
    "        \"mcz_qlm\": [False],\n",
    "        'probability_loading': [True],\n",
    "        'schedule': [[[1, 100, 110, 120, 125, 130, 135, 140, 145, 150, 155],\n",
    "        [100, 100, 100, 100, 100, 100, 100, 100, 100, 100, 100]]],\n",
    "        'delta': [1e-09, 1e-06],\n",
    "        'auxiliar_qbits_number': [None],\n",
    "        'cbits_number': [None],\n",
    "        'alpha': [None],\n",
    "        'gamma': [None],\n",
    "        'epsilon': [None],\n",
    "        'shots': [None],\n",
    "        'number_of_tests': [1]\n",
    "    },\n",
    "    {\n",
    "        'ae_type': ['IQAE'],\n",
    "        \"mcz_qlm\": [False],\n",
    "        'probability_loading': [True],\n",
    "        'schedule': [None],\n",
    "        'delta': [None],\n",
    "        'auxiliar_qbits_number': [None],\n",
    "        'cbits_number': [None],\n",
    "        'alpha': [0.05],\n",
    "        'gamma': [None],\n",
    "        'epsilon': [0.0001],\n",
    "        'shots': [100],\n",
    "        'number_of_tests': [1]\n",
    "    }\n",
    "]"
   ]
  },
  {
   "cell_type": "code",
   "execution_count": null,
   "id": "9e33b23c",
   "metadata": {},
   "outputs": [],
   "source": [
    "ae_list = combination_for_list(mlae_list)\n",
    "len(ae_list)"
   ]
  },
  {
   "cell_type": "markdown",
   "id": "c1ca9726",
   "metadata": {},
   "source": [
    "For the **PriceP** problems we are going top use the section2.3 results\n",
    "\n",
    "In this case we are going to have 3 amplitude estimation methods that will be applied over 24 **PriceP** problems. So we will have 72 **AE_priceP** problems"
   ]
  },
  {
   "cell_type": "code",
   "execution_count": null,
   "id": "e123cca0",
   "metadata": {},
   "outputs": [],
   "source": [
    "print(len(price_p))"
   ]
  },
  {
   "cell_type": "code",
   "execution_count": null,
   "id": "9d86d16f",
   "metadata": {},
   "outputs": [],
   "source": [
    "final_list = create_ae_pe_solution(ae_list, price_p)\n",
    "len(final_list)"
   ]
  },
  {
   "cell_type": "markdown",
   "id": "b7cde354",
   "metadata": {},
   "source": [
    "Each element of final_list is a complete **AE_priceP** dictionaqry that can be given to the **EstimationPrice** class"
   ]
  },
  {
   "cell_type": "code",
   "execution_count": null,
   "id": "4535036e",
   "metadata": {},
   "outputs": [],
   "source": [
    "final_list[0]"
   ]
  }
 ],
 "metadata": {
  "kernelspec": {
   "display_name": "Python 3 (ipykernel)",
   "language": "python",
   "name": "python3"
  },
  "language_info": {
   "codemirror_mode": {
    "name": "ipython",
    "version": 3
   },
   "file_extension": ".py",
   "mimetype": "text/x-python",
   "name": "python",
   "nbconvert_exporter": "python",
   "pygments_lexer": "ipython3",
   "version": "3.9.9"
  }
 },
 "nbformat": 4,
 "nbformat_minor": 5
}
