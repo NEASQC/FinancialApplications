{
 "cells": [
  {
   "cell_type": "markdown",
   "id": "e5066a31",
   "metadata": {},
   "source": [
    "# Finance Benchmark"
   ]
  },
  {
   "cell_type": "markdown",
   "id": "a1ec127e",
   "metadata": {},
   "source": [
    "This Notebook was design for explaining the benchmark part of the finances packages. The benchamark is composed of the following code:\n",
    "\n",
    "1. **probability_class.py**: Code for dealing with diffierent probability densities. \n",
    "2. **payoff_class.py**: Code for dealing with different pay  offs\n",
    "3. **finance_benchamark.py**:  Code for solving a specific finance problem using a specific *amplitude estimation* algorithm"
   ]
  },
  {
   "cell_type": "code",
   "execution_count": null,
   "id": "0126de34",
   "metadata": {},
   "outputs": [],
   "source": [
    "import sys\n",
    "sys.path.append(\"../\")"
   ]
  },
  {
   "cell_type": "code",
   "execution_count": null,
   "id": "9aa51764",
   "metadata": {},
   "outputs": [],
   "source": [
    "import numpy as np\n",
    "import pandas as pd\n",
    "import matplotlib.pyplot as plt"
   ]
  },
  {
   "cell_type": "code",
   "execution_count": null,
   "id": "493a9333",
   "metadata": {},
   "outputs": [],
   "source": [
    "%matplotlib inline"
   ]
  },
  {
   "cell_type": "code",
   "execution_count": null,
   "id": "b42f0b40",
   "metadata": {},
   "outputs": [],
   "source": [
    "import ast\n",
    "def get_circuit_staff(input_string):\n",
    "    \n",
    "    circuit_stats = pd.DataFrame(ast.literal_eval(input_string)).T\n",
    "    \n",
    "    circuit_stats = pd.concat(\n",
    "        [\n",
    "            circuit_stats, \n",
    "            pd.DataFrame(list(circuit_stats[\"gates\"].values), index=circuit_stats[\"gates\"].index)\n",
    "        ],\n",
    "        axis=1\n",
    "    )\n",
    "    circuit_stats.drop(['gates'], axis=1, inplace=True)\n",
    "    circuit_stats.rename(columns = {'nbqbits': 'total_n_qbits'}, inplace=True)\n",
    "    return circuit_stats"
   ]
  },
  {
   "cell_type": "markdown",
   "id": "22861b77",
   "metadata": {},
   "source": [
    "## 1. probability_class.py\n",
    "\n",
    "In this script the **DensityProbability** class is defined. The only mandatory input for this class is:\n",
    "\n",
    "* *probability_type*: string with the type of probability density to load. (*Black-Scholes*)\n",
    "\n",
    "The different parameters for the probability density should be provided as a dictionary. The parameters should be defined according to the definition of the probability density function desired.\n",
    "\n",
    "Additionally the main atribute of the class will be the **probability**. This property is the desired probability density where the parameters provided to the class are fixed."
   ]
  },
  {
   "cell_type": "code",
   "execution_count": null,
   "id": "7d5d803b",
   "metadata": {},
   "outputs": [],
   "source": [
    "from probability_class import DensityProbability"
   ]
  },
  {
   "cell_type": "code",
   "execution_count": null,
   "id": "f64bf561",
   "metadata": {},
   "outputs": [],
   "source": [
    "#Configuration  of a probability density\n",
    "probability_type = \"Black-Scholes\"\n",
    "\n",
    "density_dict = {\n",
    "    \"s_0\": 2.0,\n",
    "    \"risk_free_rate\": 0.05,\n",
    "    \"maturity\": 0.5,\n",
    "    \"volatility\": 0.5    \n",
    "}\n"
   ]
  },
  {
   "cell_type": "code",
   "execution_count": null,
   "id": "64826dc7",
   "metadata": {},
   "outputs": [],
   "source": [
    "bs_pdf = DensityProbability(probability_type, **density_dict)"
   ]
  },
  {
   "cell_type": "markdown",
   "id": "43255405",
   "metadata": {},
   "source": [
    "As can be seen the the *probability* property of the class is a function (in fact is a python partial function of the probability density desired)."
   ]
  },
  {
   "cell_type": "code",
   "execution_count": null,
   "id": "aa64ebc7",
   "metadata": {},
   "outputs": [],
   "source": [
    "type(bs_pdf.probability)"
   ]
  },
  {
   "cell_type": "markdown",
   "id": "d0e5180d",
   "metadata": {},
   "source": [
    "In the case of the example we have configured a **Black-Scholes** probability density with the parameters povided in the *density_dict*. Now we can plot the distribution over a domain!"
   ]
  },
  {
   "cell_type": "code",
   "execution_count": null,
   "id": "b40fb968",
   "metadata": {},
   "outputs": [],
   "source": [
    "x = np.linspace(0.1, 6.0, 2**9)\n",
    "plt.plot(x, bs_pdf.probability(x))"
   ]
  },
  {
   "cell_type": "code",
   "execution_count": null,
   "id": "a1f9b8b4",
   "metadata": {
    "scrolled": true
   },
   "outputs": [],
   "source": [
    "#Playing with Black-Scholes\n",
    "\n",
    "list_of_functions = []\n",
    "#Lista = [1.0, 2.0, 3.0] #for s_0\n",
    "#Lista = [0.2, 0.4, 0.6, 0.8, 1.0, 1.2] #for maturity\n",
    "#Lista = [0.01, 0.02, 0.03, 0.04, 0.05] #for risk_free_rate\n",
    "Lista = [0.05, 0.1, 0.15, 0.2, 0.25, 0.3, 0.35, 0.4, 0.45, 0.5] #for volatility\n",
    "\n",
    "for i in Lista:\n",
    "    step_dict = density_dict\n",
    "    #step_dict.update({\"s_0\": i})\n",
    "    #step_dict.update({\"maturity\": i})\n",
    "    step_dict.update({\"volatility\": i})\n",
    "    #step_dict.update({\"risk_free_rate\": i})\n",
    "    step_c = DensityProbability(probability_type, **step_dict) \n",
    "    list_of_functions.append(step_c.probability)\n",
    "x = np.linspace(0.1, 3.0, 100)\n",
    "for func in list_of_functions:\n",
    "    plt.plot(x, func(x))\n",
    "plt.legend(Lista)    "
   ]
  },
  {
   "cell_type": "code",
   "execution_count": null,
   "id": "8823b55b",
   "metadata": {},
   "outputs": [],
   "source": [
    "rfr_factor = np.exp(-density_dict['risk_free_rate']*density_dict['maturity'])\n",
    "print(\"Factor form risk free rate: \", rfr_factor)"
   ]
  },
  {
   "cell_type": "markdown",
   "id": "29a08c40",
   "metadata": {},
   "source": [
    "## 2. payoff_class.py\n",
    "\n",
    "In this script the  **PayOff** class is defined. For this class the input is a dictionary where different keys can be provided. Most important one is:\n",
    "\n",
    "* *pay_off_type*: string with the type of payoff desired. The options are:\n",
    "    * European_Call_Option\n",
    "    * European_Put_Option\n",
    "    * Digital_Call_Option\n",
    "    * Digital_Put_Option\n",
    "    * Futures\n",
    "\n",
    "The other keys of the dictionary are used for configuring the desired payoff. The payoffs are obtained from **QQuantLib/utils/classical_finance** module. So the keys of the input dictionary should be the same keys needed for configuring the payoffs in the before module.\n",
    "\n",
    "The class created the following 2 properties:\n",
    "\n",
    "* **pay_off**: function with the desired payoff and the propper pay off configuration given by the input dictionary\n",
    "* **pay_off_bs**: gives the exact price of the payoff under the **Black-Scholes** model\n"
   ]
  },
  {
   "cell_type": "code",
   "execution_count": null,
   "id": "0ff8d1fd",
   "metadata": {},
   "outputs": [],
   "source": [
    "from payoff_class import PayOff"
   ]
  },
  {
   "cell_type": "markdown",
   "id": "ee6c2ad9",
   "metadata": {},
   "source": [
    "### 2.1 European_Call_Option"
   ]
  },
  {
   "cell_type": "code",
   "execution_count": null,
   "id": "78aac938",
   "metadata": {},
   "outputs": [],
   "source": [
    "eco_payoff = {\n",
    "    \"pay_off_type\": \"European_Call_Option\",\n",
    "    \"strike\": 0.5,\n",
    "}\n",
    "\n",
    "eco = PayOff(**eco_payoff)"
   ]
  },
  {
   "cell_type": "markdown",
   "id": "0792d693",
   "metadata": {},
   "source": [
    "As can be seen the two properties are python partial functions where the payoff parameters are fixed"
   ]
  },
  {
   "cell_type": "code",
   "execution_count": null,
   "id": "6686c4de",
   "metadata": {},
   "outputs": [],
   "source": [
    "print(type(eco.pay_off))\n",
    "print(type(eco.pay_off_bs))"
   ]
  },
  {
   "cell_type": "code",
   "execution_count": null,
   "id": "bef906aa",
   "metadata": {},
   "outputs": [],
   "source": [
    "x = np.linspace(0.1, 7.0, 2**9)\n",
    "plt.plot(x, eco.pay_off(x))"
   ]
  },
  {
   "cell_type": "code",
   "execution_count": null,
   "id": "9ef8a6ae",
   "metadata": {
    "scrolled": true
   },
   "outputs": [],
   "source": [
    "plt.plot(x, bs_pdf.probability(x))"
   ]
  },
  {
   "cell_type": "markdown",
   "id": "b5c3a1f2",
   "metadata": {},
   "source": [
    "For using the *pay_off_bs* function we need to provided the **Black-Scholes** configuration."
   ]
  },
  {
   "cell_type": "code",
   "execution_count": null,
   "id": "982014cd",
   "metadata": {},
   "outputs": [],
   "source": [
    "print(\"Pay Off price unde BS model: \", eco.pay_off_bs(**density_dict))\n",
    "print(\"Classical pay Off: \", np.sum(eco.pay_off(x, **density_dict)*bs_pdf.probability(x))*rfr_factor)"
   ]
  },
  {
   "cell_type": "markdown",
   "id": "b6e30062",
   "metadata": {},
   "source": [
    "### 2.2 European_Put_Option"
   ]
  },
  {
   "cell_type": "code",
   "execution_count": null,
   "id": "4c5ccb13",
   "metadata": {},
   "outputs": [],
   "source": [
    "epo_payoff = {\n",
    "    \"pay_off_type\": \"European_Put_Option\",\n",
    "    \"strike\": 1.5,\n",
    "}\n",
    "\n",
    "epo = PayOff(**epo_payoff)"
   ]
  },
  {
   "cell_type": "markdown",
   "id": "994270bd",
   "metadata": {},
   "source": [
    "As can be seen the two properties are python partial functions where the payoff parameters are fixed"
   ]
  },
  {
   "cell_type": "code",
   "execution_count": null,
   "id": "01c839a5",
   "metadata": {
    "scrolled": true
   },
   "outputs": [],
   "source": [
    "x = np.linspace(0.1, 5.5, 2**7)\n",
    "plt.plot(x, epo.pay_off(x))"
   ]
  },
  {
   "cell_type": "code",
   "execution_count": null,
   "id": "bbf597f3",
   "metadata": {},
   "outputs": [],
   "source": [
    "plt.plot(x, bs_pdf.probability(x))"
   ]
  },
  {
   "cell_type": "code",
   "execution_count": null,
   "id": "7e3bbf97",
   "metadata": {},
   "outputs": [],
   "source": [
    "print(\"Pay Off price unde BS model: \", epo.pay_off_bs(**density_dict))\n",
    "print(\"Classical pay Off: \", np.sum(epo.pay_off(x, **density_dict)*bs_pdf.probability(x))*rfr_factor)"
   ]
  },
  {
   "cell_type": "markdown",
   "id": "774af12c",
   "metadata": {},
   "source": [
    "### 2.3 Digital_Call_Option"
   ]
  },
  {
   "cell_type": "code",
   "execution_count": null,
   "id": "981ee18e",
   "metadata": {},
   "outputs": [],
   "source": [
    "dco_payoff = {\n",
    "    \"pay_off_type\": \"Digital_Call_Option\",\n",
    "    \"strike\": 0.5,\n",
    "    \"coupon\": 1.0\n",
    "}\n",
    "\n",
    "dco = PayOff(**dco_payoff)"
   ]
  },
  {
   "cell_type": "markdown",
   "id": "1ba36f9e",
   "metadata": {},
   "source": [
    "As can be seen the two properties are python partial functions where the payoff parameters are fixed"
   ]
  },
  {
   "cell_type": "code",
   "execution_count": null,
   "id": "5b66837b",
   "metadata": {},
   "outputs": [],
   "source": [
    "x = np.linspace(0.1, 4.0, 2**7)\n",
    "plt.plot(x, dco.pay_off(x))"
   ]
  },
  {
   "cell_type": "code",
   "execution_count": null,
   "id": "8594b6cd",
   "metadata": {},
   "outputs": [],
   "source": [
    "plt.plot(x, bs_pdf.probability(x))"
   ]
  },
  {
   "cell_type": "code",
   "execution_count": null,
   "id": "32a2b83b",
   "metadata": {},
   "outputs": [],
   "source": [
    "print(\"Pay Off price unde BS model: \", dco.pay_off_bs(**density_dict))\n",
    "print(\"Classical pay Off: \", np.sum(dco.pay_off(x, **density_dict)*bs_pdf.probability(x))*rfr_factor)"
   ]
  },
  {
   "cell_type": "markdown",
   "id": "853118a0",
   "metadata": {},
   "source": [
    "### 2.4 Digital_Put_Option"
   ]
  },
  {
   "cell_type": "code",
   "execution_count": null,
   "id": "0a941fed",
   "metadata": {},
   "outputs": [],
   "source": [
    "dpo_payoff = {\n",
    "    \"pay_off_type\": \"Digital_Put_Option\",\n",
    "    \"strike\": 1.5,\n",
    "    \"coupon\": 1.0    \n",
    "}\n",
    "\n",
    "dpo = PayOff(**dpo_payoff)"
   ]
  },
  {
   "cell_type": "markdown",
   "id": "75f72f99",
   "metadata": {},
   "source": [
    "As can be seen the two properties are python partial functions where the payoff parameters are fixed"
   ]
  },
  {
   "cell_type": "code",
   "execution_count": null,
   "id": "e16b59da",
   "metadata": {},
   "outputs": [],
   "source": [
    "x = np.linspace(0.1, 5.5, 2**9)\n",
    "plt.plot(x, dpo.pay_off(x))"
   ]
  },
  {
   "cell_type": "code",
   "execution_count": null,
   "id": "8e42d0d4",
   "metadata": {},
   "outputs": [],
   "source": [
    "plt.plot(x, bs_pdf.probability(x))"
   ]
  },
  {
   "cell_type": "code",
   "execution_count": null,
   "id": "2812055b",
   "metadata": {},
   "outputs": [],
   "source": [
    "print(\"Pay Off price unde BS model: \", dpo.pay_off_bs(**density_dict))\n",
    "print(\"Classical pay Off: \", np.sum(dpo.pay_off(x)*bs_pdf.probability(x))*rfr_factor)"
   ]
  },
  {
   "cell_type": "markdown",
   "id": "ef045e59",
   "metadata": {},
   "source": [
    "### 2.5 Futures"
   ]
  },
  {
   "cell_type": "code",
   "execution_count": null,
   "id": "df34f3e2",
   "metadata": {},
   "outputs": [],
   "source": [
    "future_po_dict = {\n",
    "    \"pay_off_type\": \"Futures\",\n",
    "    \"strike\": 1.5,   \n",
    "}\n",
    "\n",
    "future = PayOff(**future_po_dict)"
   ]
  },
  {
   "cell_type": "code",
   "execution_count": null,
   "id": "a0b7273b",
   "metadata": {},
   "outputs": [],
   "source": [
    "x = np.linspace(0.1, 5.5, 2**9)\n",
    "plt.plot(x, future.pay_off(x))"
   ]
  },
  {
   "cell_type": "code",
   "execution_count": null,
   "id": "37398c7e",
   "metadata": {},
   "outputs": [],
   "source": [
    "plt.plot(x, bs_pdf.probability(x))"
   ]
  },
  {
   "cell_type": "code",
   "execution_count": null,
   "id": "9a0ea7f1",
   "metadata": {},
   "outputs": [],
   "source": [
    "print(\"Pay Off price unde BS model: \", future.pay_off_bs(**density_dict))\n",
    "print(\"Classical pay Off: \", np.sum(future.pay_off(x)*bs_pdf.probability(x))*rfr_factor)"
   ]
  },
  {
   "cell_type": "markdown",
   "id": "cac9f4b6",
   "metadata": {},
   "source": [
    "## 3. finance_benchmark.py\n",
    "\n",
    "The finance_benchmark.py script creates the **PriceEstimation** class. This class will solve what we call an **Amplitude Estimation Price Problem** (**AE_PriceP** from now). This is: it will compute the price of a input payoff, under a probability density for a domain input using a properly configured amplitude estimation method (using one of the different **amplitude estimation** algorithm available from package **QQuantLib/AE**).\n",
    "\n",
    "The input of the class will be a python dictionary (that we will call **AE_PriceP** dictionary or problem from now) where the configuration of the price problem (payoff, probability density and domain) and the desired **amplitude estimation** algorithm should be provided. The input dictionary will be a big dictionary with a lot of keys. The key for selecting the *amplitude estimation* algorithm is:\n",
    "\n",
    "* **ae_type**: posible values will be:\n",
    "    * *MLAE*\n",
    "    * *CQPEAE*\n",
    "    * *IQPEAE*\n",
    "    * *IQAE*\n",
    "    * *RQAE*\n",
    "\n",
    "When the class is instantiated following steps are followed:\n",
    "\n",
    "1. Create a domain (x) using the corresponding keys of the input dictionary. The domain will be the x, so we are going to define an interval between $[x_0, x_f]$ divide en $N=2^{n_{qbits}}$ parts. For configurate a domain following keys are used:\n",
    "    * x0: initial value of the domain \n",
    "    * xf: final value of the domain\n",
    "    * n_qbits: for setting the number of parts the domain interval will be splited: $2^{n\\_qbits}$\n",
    "2. Created a density probability class using: **DensityPobability** from *probability_class* module and the corresponding keys of the input dicitionary. Using the class and the domain from step 1 the probability numpy array is created (property **probability**)\n",
    "3. Create a payoff class using: **PayOff** from *payoff_class* module and the corresponding keys of the input dicitionary. Using the class and the domain from step 1 the payoff numpy array is created (property **pay_off**)\n",
    "4. If necesary the class populates the *pay_off_normalised* atribute used for doing payoff normalisation.\n",
    "\n",
    "The class have a **run** method for solving the input **AE_PriceP** problem. The main steps of this method are:\n",
    "\n",
    "1. Execution of the *create_oracle* method. This method creates the mandatory quantum oracle (property: **derivative_oracle**) needed by the **amplitude estimation** algorithm. The *create_oracle* method can implement two types of probability density loading depending on the input dictionary key: **probability_loading**:\n",
    "    1. probability_loading: True. The probability density will be loading as a pure probability density (the uniform distribution will be replaced by the input probability density).\n",
    "    2. probability_loading: False. The probability density will be loading as a function over an extra qbit.\n",
    "2. method: *run_ae*: execute a *amplitude estimation* algorithm using the **derivative_oracle**. The executed algorithm will be defined by the key *ae_type* of the input dictionaty. For the configuration of the *amplitude estiamtion* methods will be used the different keys of the input dictionary. For each method the keys sholud be consulted in the propper algorithm module of the **QQuantLib/AE/** package\n",
    "\n",
    "The **run** method execute the desired *amplitude estimation* algorithm over the created price estimation problem a defined number of times (key: *number_of_tests* from the input dictionary).\n",
    "\n",
    "Finally the **run** methdos stores the important information from the solution in the **pdf** property"
   ]
  },
  {
   "cell_type": "markdown",
   "id": "68f2d02d",
   "metadata": {},
   "source": [
    "### 3.1 Example-01"
   ]
  },
  {
   "cell_type": "code",
   "execution_count": null,
   "id": "3aa03602",
   "metadata": {},
   "outputs": [],
   "source": [
    "#Example of AE_PriceP dictionary\n",
    "m_k = [1, 100, 150, 200, 250, 300, 310, 320]\n",
    "ae_pricep = {\n",
    "    #Amplitude Estimation selection\n",
    "    'ae_type': 'MLAE',\n",
    "    \n",
    "    #Amplitude Estimation configuration\n",
    "    'schedule': [\n",
    "        m_k,\n",
    "        [100 for i in m_k]\n",
    "    ],\n",
    "    'mcz_qlm': False,\n",
    "    'delta' : 1.0e-6,\n",
    "    'ns' : 10000,\n",
    "    'auxiliar_qbits_number': None,\n",
    "    'cbits_number': None,\n",
    "    'alpha': None,\n",
    "    'gamma': None,\n",
    "    'epsilon': None,\n",
    "    'shots': None,\n",
    "    \n",
    "    #Loading Probability\n",
    "    'probability_loading': False,\n",
    "    \n",
    "    #Numbe of problem to solve\n",
    "    'number_of_tests': 1,\n",
    "    \n",
    "    #PayOff Configuration\n",
    "    'pay_off_type': 'European_Call_Option',\n",
    "    'strike': 0.5,\n",
    "    'coupon': None,\n",
    "    #Domain configuration\n",
    "    'x0': 0.01,\n",
    "    'xf': 3.5,\n",
    "    'n_qbits': 5,\n",
    "    #Probability density configuration\n",
    "    'probability_type': 'Black-Scholes',\n",
    "    's_0': 1,\n",
    "    'risk_free_rate': 0.05,\n",
    "    'maturity': 1.0,\n",
    "    'volatility': 0.5,\n",
    "    'save': False\n",
    "}"
   ]
  },
  {
   "cell_type": "code",
   "execution_count": null,
   "id": "627dfab2",
   "metadata": {},
   "outputs": [],
   "source": [
    "from finance_benchmark import PriceEstimation"
   ]
  },
  {
   "cell_type": "code",
   "execution_count": null,
   "id": "027ee2a0",
   "metadata": {
    "scrolled": true
   },
   "outputs": [],
   "source": [
    "price_estimation = PriceEstimation(**ae_pricep)"
   ]
  },
  {
   "cell_type": "code",
   "execution_count": null,
   "id": "7ae0e630",
   "metadata": {},
   "outputs": [],
   "source": [
    "%%time\n",
    "price_estimation.run()"
   ]
  },
  {
   "cell_type": "code",
   "execution_count": null,
   "id": "0538662a",
   "metadata": {},
   "outputs": [],
   "source": [
    "price_estimation.pdf"
   ]
  },
  {
   "cell_type": "code",
   "execution_count": null,
   "id": "91287f5a",
   "metadata": {
    "scrolled": true
   },
   "outputs": [],
   "source": [
    "Columnas = [\"ae_type\", \"pay_off_type\", \"probability_type\", \"s_0\", \"maturity\", \"volatility\", \"n_qbits\",\n",
    "    \"classical_price_rfr\", \"derivative_price_rfr_ae\", \"exact_solution\"]\n",
    "price_estimation.pdf[Columnas]"
   ]
  },
  {
   "cell_type": "code",
   "execution_count": null,
   "id": "42f5e106",
   "metadata": {
    "scrolled": false
   },
   "outputs": [],
   "source": [
    "Columnas = [\"ae_type\", \"pay_off_type\", \"probability_type\", \"s_0\", \"maturity\", \"volatility\", \"n_qbits\",\n",
    "    \"relative_error_classical\", \"relative_error_exact\"]\n",
    "price_estimation.pdf[Columnas]"
   ]
  },
  {
   "cell_type": "code",
   "execution_count": null,
   "id": "b4742212",
   "metadata": {
    "scrolled": true
   },
   "outputs": [],
   "source": [
    "stats_for_circuit = pd.concat(list(price_estimation.pdf[\"circuit_stasts\"].apply(\n",
    "    lambda x: get_circuit_staff(str(x))\n",
    ")))\n"
   ]
  },
  {
   "cell_type": "code",
   "execution_count": null,
   "id": "e9216a4e",
   "metadata": {},
   "outputs": [],
   "source": [
    "stats_for_circuit"
   ]
  },
  {
   "cell_type": "markdown",
   "id": "f4f49bf5",
   "metadata": {},
   "source": [
    "## 4. The epsilon problem."
   ]
  },
  {
   "cell_type": "markdown",
   "id": "f1600f9a",
   "metadata": {},
   "source": [
    "For **IQAE** and **RQAE** an input **epsilon** for create upper and lower limits of the **amplitude estimation** is mandatory.\n",
    "\n",
    "Main problem is that the **epsilon** only affects to the amplitude estimation problem, not to the final price value. It can happen that we provide a low **epsilon** for the amplitude estimation problem but the final price obtained has a bigger error than the desired one.\n",
    "\n",
    "Foloowing subsections explain the problem\n"
   ]
  },
  {
   "cell_type": "markdown",
   "id": "b5128952",
   "metadata": {},
   "source": [
    "### 4.1 Error propagation in RQAE \n",
    "\n",
    "For the **RQAE** algorithm we have: \n",
    "\n",
    "$$\\sum_{i=0}^{2^{n}-1}p(i)f(i) = 2^n * a$$\n",
    "\n",
    "where $a$ is the value estimated by the algorithm and $\\sum_{i=0}^{2^{n}-1}p(i)f(i) = z$ is the desired quantity we want to compute. The RQAE give us two limits for the $a$ value so:\n",
    "\n",
    "$$a \\in [a_l, a_u]$$\n",
    "\n",
    "If we define the error in the estimation as:\n",
    "\n",
    "$$\\epsilon = \\frac{a_u-a_l}{2} \\$$\n",
    "\n",
    "Then we can propagate the error in $a$ to the error in z:\n",
    "\n",
    "$$\\delta z = 2^n *\\epsilon$$\n",
    "\n",
    "Additionally we know that the pay_off must to be normalised so for getting the True result from z:\n",
    "\n",
    "$$PriceEstimation = z*payoff_{normalisation}$$\n",
    "\n",
    "So we need to propagate the $\\delta z$:\n",
    "\n",
    "$$\\delta_{PriceEstimation} = \\delta z * payoff_{normalisation}$$\n",
    "\n",
    "And finally if we want to take into account the **risk free rate**:\n",
    "\n",
    "$$Price_{derivative} = PriceEstimation * e^{-r*maturity}$$\n",
    "\n",
    "So propagating again:\n",
    "\n",
    "$$\\delta Price_{derivative} = \\delta_{PriceEstimation} * e^{-r*maturity} $$\n",
    "\n",
    "We can create following final formula:\n",
    "\n",
    "\n",
    "$$\\delta Price_{derivative} = payoff_{normalisation} * e^{-r*maturity} \\delta z= payoff_{normalisation} * e^{-r*maturity} *2^n *\\epsilon$$\n",
    "\n",
    "\n",
    "For example:\n",
    "* n=5\n",
    "* $e^{-r*maturity}=0.95$\n",
    "* $payoff_{normalisation}=3$ \n",
    "* $\\epsilon=0.01$ \n",
    "\n",
    "The error on the derivative price due to the esitmation intervals will be:\n",
    "\n",
    "$\\delta Price_{derivative} = 0.9$\n",
    "\n",
    "So in this case an a priori low $\\epsilon$ give us a high indetermination in the price estimation.\n",
    "\n",
    "if we want a fixed error in the price derivative we need to invert the last equation so the $\\epsilon$ we need to provide to the **RQAE** will be:\n",
    "\n",
    "$$\\epsilon = \\frac{\\delta Price_{derivative}}{payoff_{normalisation} * e^{-r*maturity} *2^n} \\quad (1)$$ \n"
   ]
  },
  {
   "cell_type": "markdown",
   "id": "84effb17",
   "metadata": {},
   "source": [
    "### 4.2 Error propagation in IQAE \n",
    "\n",
    "#### Density loading as an array\n",
    "\n",
    "When the probability density is loaded as an array instead as probability for the amplitude estimation algorithms we have: \n",
    "\n",
    "\n",
    "$$\\sum_{i=0}^{2^{n}-1}p(i)f(i) = 2^n * \\sqrt{a}$$\n",
    "\n",
    "where $a$ is the value estimated by the algorithm and $\\sum_{i=0}^{2^{n}-1}p(i)f(i) = z$ is the desired quantity we want to compute. The IQAE give us two limits for the $a$ value so:\n",
    "\n",
    "$$a \\in [a_l, a_u]$$\n",
    "\n",
    "If we define the error in the estimation as:\n",
    "\n",
    "$$\\epsilon = \\frac{a_u-a_l}{2} \\$$\n",
    "\n",
    "We can propagate the $\\epsilon$ for get an error for $z$:\n",
    "\n",
    "$$\\delta z = \\frac{2^n}{2\\sqrt{a}} *\\epsilon$$\n",
    "\n",
    "The payoff normalisation and the risk free rate part is the same that in the 4.1 subsection so for **IQAE** when probability density is loaded as an array  the error in the final price will be:\n",
    "\n",
    "$$\\delta Price_{derivative} = payoff_{normalisation} * e^{-r*maturity} \\delta z = payoff_{normalisation} * e^{-r*maturity} \\frac{2^n}{2\\sqrt{a}} *\\epsilon$$\n",
    "\n",
    "So if we want a fixed error in the price derivative we need to invert the last equation so the $\\epsilon$ we need to provide to the **IQAE** will be:\n",
    "\n",
    "$$\\epsilon = \\frac{\\delta Price_{derivative}}{payoff_{normalisation} * e^{-r*maturity}} * \\frac{2\\sqrt{a}}{2^n} \\quad (2)$$\n",
    "\n",
    "\n",
    "#### Density loading as probability density\n",
    "\n",
    "When the probability density is loaded as a pure density for the amplitude estimation algorithms we have:\n",
    "\n",
    "$$ a = \\sum_{i=0}^{2^{n}-1}\\left|\\sqrt{p(x_i)f(x_i)}\\right|^2 = \\sum_{i=0}^{2^{n}-1}\\left|p(x_i)f(x_i)\\right|$$\n",
    "\n",
    "where $a$ is the value estimated by the algorithm and $\\sum_{i=0}^{2^{n}-1}\\left|p(x_i)f(x_i)\\right| = z$ is the desired quantity we want to compute. The IQAE give us two limits for the $a$ value so:\n",
    "\n",
    "$$a \\in [a_l, a_u]$$\n",
    "\n",
    "If we define:\n",
    "\n",
    "$$\\epsilon = \\frac{a_u-a_l}{2} \\$$\n",
    "\n",
    "We can propagate the $\\epsilon$ for get an error for $z$:\n",
    "\n",
    "$$\\delta z = \\epsilon$$\n",
    "\n",
    "The payoff normalisation and the risk free rate part is the same that in the 4.1 subsection so for **IQAE** when probability density is loaded as a purde density the error in the final price will be:\n",
    "\n",
    "$$\\delta Price_{derivative} = payoff_{normalisation} * e^{-r*maturity} * \\delta z = payoff_{normalisation} * e^{-r*maturity} * \\epsilon$$\n",
    "\n",
    "So if we want a fixed error in the price derivative we need to invert the last equation so the $\\epsilon$ we need to provide to the **IQAE** will be:\n",
    "\n",
    "$$\\epsilon = \\frac{\\delta Price_{derivative}}{payoff_{normalisation} * e^{-r*maturity}} \\quad (3)$$"
   ]
  },
  {
   "cell_type": "markdown",
   "id": "1a58e6a6",
   "metadata": {},
   "source": [
    "The **PriceEStimation** class use the **epsilon** for amplitude estimation. Additionally computes the propagated error for price derivative that will be accesible using **delta_price**.\n",
    "\n",
    "\n",
    "The **PriceEStimation** class do this error propagation. So the input **epsilon** will be in fact the $\\delta Price_{derivative}$. In fact in the pdf attribute of the class there will be the following columns:\n"
   ]
  },
  {
   "cell_type": "code",
   "execution_count": null,
   "id": "1f04cc8f",
   "metadata": {},
   "outputs": [],
   "source": [
    "#This cell loads the QLM solver.\n",
    "#QLMaaS == False -> uses PyLinalg\n",
    "#QLMaaS == True -> try to use LinAlg (for using QPU as CESGA QLM one)\n",
    "from QQuantLib.utils.qlm_solver import get_qpu\n",
    "QLMaaS = False\n",
    "linalg_qpu = get_qpu(QLMaaS)"
   ]
  },
  {
   "cell_type": "code",
   "execution_count": null,
   "id": "03afbea6",
   "metadata": {},
   "outputs": [],
   "source": [
    "from finance_benchmark import PriceEstimation"
   ]
  },
  {
   "cell_type": "markdown",
   "id": "d3bb11fa",
   "metadata": {},
   "source": [
    "## RQAE"
   ]
  },
  {
   "cell_type": "code",
   "execution_count": null,
   "id": "f6048383",
   "metadata": {},
   "outputs": [],
   "source": [
    "#Example of complete dictionary\n",
    "problem_dict = {\n",
    "    #Amplitude Estimation selection\n",
    "    'ae_type': 'RQAE',\n",
    "    \n",
    "    #Amplitude Estimation configuration\n",
    "    'mcz_qlm': False,    \n",
    "    'schedule': None,\n",
    "    'delta' : None,\n",
    "    'auxiliar_qbits_number': None,\n",
    "    'cbits_number': None,\n",
    "    'alpha': None,\n",
    "    'gamma': 0.05,\n",
    "    'epsilon': 0.001,\n",
    "    'q':2,\n",
    "    'shots': 100,\n",
    "    \n",
    "    #Loading Probability\n",
    "    'probability_loading': False,\n",
    "    \n",
    "    #Numbe of problem to solve\n",
    "    'number_of_tests': 1,\n",
    "    \n",
    "    #PayOff Configuration\n",
    "    'pay_off_type': 'European_Call_Option',\n",
    "    'strike': 0.5,\n",
    "    'coupon': None,\n",
    "    \n",
    "    #Domain configuration\n",
    "    'x0': 0.01,\n",
    "    'xf': 3.5,\n",
    "    'n_qbits': 5,\n",
    "    \n",
    "    #Probability density configuration\n",
    "    'probability_type': 'Black-Scholes',\n",
    "    's_0': 1,\n",
    "    'risk_free_rate': 0.05,\n",
    "    'maturity': 1.0,\n",
    "    'volatility': 0.5,\n",
    "    \n",
    "    'save': False\n",
    "}"
   ]
  },
  {
   "cell_type": "code",
   "execution_count": null,
   "id": "0bb6b648",
   "metadata": {},
   "outputs": [],
   "source": [
    "price_estimation = PriceEstimation(**problem_dict)"
   ]
  },
  {
   "cell_type": "code",
   "execution_count": null,
   "id": "e46db32a",
   "metadata": {},
   "outputs": [],
   "source": [
    "#Expected maximum error for the price derivative\n",
    "print(\"delta Price derivative: \", str(price_estimation.pdf['delta_price'].iloc[0]))\n",
    "#Pure epsilon for the amplitude estimation\n",
    "print(\"Epsilon for AE algorithm : \", str(price_estimation.pdf['epsilon'].iloc[0]))"
   ]
  },
  {
   "cell_type": "code",
   "execution_count": null,
   "id": "4bf16bb9",
   "metadata": {
    "scrolled": false
   },
   "outputs": [],
   "source": [
    "price_estimation.run()"
   ]
  },
  {
   "cell_type": "code",
   "execution_count": null,
   "id": "47154dbc",
   "metadata": {
    "scrolled": true
   },
   "outputs": [],
   "source": [
    "#Comparison should be respect classical_price not to exact solution\n",
    "np.abs(\n",
    "    price_estimation.pdf['classical_price_rfr'] - price_estimation.pdf['derivative_price_rfr_ae']\n",
    ")/2.0 < price_estimation.pdf['delta_price'] "
   ]
  },
  {
   "cell_type": "code",
   "execution_count": null,
   "id": "d8796141",
   "metadata": {},
   "outputs": [],
   "source": [
    "price_estimation.pdf['classical_price_rfr'] - price_estimation.pdf['derivative_price_rfr_ae']"
   ]
  },
  {
   "cell_type": "code",
   "execution_count": null,
   "id": "857c3f78",
   "metadata": {},
   "outputs": [],
   "source": [
    "#Original epsilon for amplitude estimation\n",
    "(price_estimation.pdf['ae_u']-price_estimation.pdf['ae_l'])/2.0"
   ]
  },
  {
   "cell_type": "code",
   "execution_count": null,
   "id": "c07ab45d",
   "metadata": {},
   "outputs": [],
   "source": [
    "price_estimation.pdf['epsilon']"
   ]
  },
  {
   "cell_type": "code",
   "execution_count": null,
   "id": "edc2713d",
   "metadata": {},
   "outputs": [],
   "source": [
    "(price_estimation.pdf['derivative_price_rfr_ae_u']-price_estimation.pdf['derivative_price_rfr_ae_l'])/2.0"
   ]
  },
  {
   "cell_type": "code",
   "execution_count": null,
   "id": "9de72943",
   "metadata": {},
   "outputs": [],
   "source": [
    "price_estimation.pdf['delta_price']"
   ]
  },
  {
   "cell_type": "markdown",
   "id": "cf81321a",
   "metadata": {},
   "source": [
    "## IQAE"
   ]
  },
  {
   "cell_type": "code",
   "execution_count": null,
   "id": "e72a9ab2",
   "metadata": {},
   "outputs": [],
   "source": [
    "#Example of complete dictionary\n",
    "problem_dict = {\n",
    "    #Amplitude Estimation selection\n",
    "    'ae_type': 'IQAE',\n",
    "    \n",
    "    #Amplitude Estimation configuration\n",
    "    'mcz_qlm': False,    \n",
    "    'schedule': None,\n",
    "    'delta' : None,\n",
    "    'auxiliar_qbits_number': None,\n",
    "    'cbits_number': None,\n",
    "    'alpha': 0.05,\n",
    "    'gamma': None,\n",
    "    'epsilon': 0.05,\n",
    "    'shots': 100,\n",
    "    \n",
    "    #Loading Probability\n",
    "    'probability_loading': True,\n",
    "    \n",
    "    #Numbe of problem to solve\n",
    "    'number_of_tests': 1,\n",
    "    \n",
    "    #PayOff Configuration\n",
    "    'pay_off_type': 'European_Call_Option',\n",
    "    'strike': 0.5,\n",
    "    'coupon': None,\n",
    "    \n",
    "    #Domain configuration\n",
    "    'x0': 0.01,\n",
    "    'xf': 5.0,\n",
    "    'n_qbits': 5,\n",
    "    \n",
    "    #Probability density configuration\n",
    "    'probability_type': 'Black-Scholes',\n",
    "    's_0': 1,\n",
    "    'risk_free_rate': 0.05,\n",
    "    'maturity': 1.0,\n",
    "    'volatility': 0.5,\n",
    "    \n",
    "    'save': False    \n",
    "}"
   ]
  },
  {
   "cell_type": "code",
   "execution_count": null,
   "id": "f57cfa0d",
   "metadata": {},
   "outputs": [],
   "source": [
    "price_estimation = PriceEstimation(**problem_dict)"
   ]
  },
  {
   "cell_type": "code",
   "execution_count": null,
   "id": "c80716c4",
   "metadata": {},
   "outputs": [],
   "source": [
    "price_estimation.run()"
   ]
  },
  {
   "cell_type": "code",
   "execution_count": null,
   "id": "934ae366",
   "metadata": {},
   "outputs": [],
   "source": [
    "#Expected maximum error for the price derivative\n",
    "print(\"delta Price derivative: \", str(price_estimation.pdf['delta_price'].iloc[0]))\n",
    "#Pure epsilon for the amplitude estimation\n",
    "print(\"Epsilon for AE algorithm : \", str(price_estimation.pdf['epsilon'].iloc[0]))"
   ]
  },
  {
   "cell_type": "code",
   "execution_count": null,
   "id": "2fec2ed2",
   "metadata": {},
   "outputs": [],
   "source": [
    "#Original epsilon for amplitude estimation\n",
    "(price_estimation.pdf['ae_u']-price_estimation.pdf['ae_l'])/2.0"
   ]
  },
  {
   "cell_type": "code",
   "execution_count": null,
   "id": "60ed3c76",
   "metadata": {},
   "outputs": [],
   "source": [
    "price_estimation.pdf['epsilon']"
   ]
  },
  {
   "cell_type": "code",
   "execution_count": null,
   "id": "1a3aa726",
   "metadata": {},
   "outputs": [],
   "source": [
    "(price_estimation.pdf['derivative_price_rfr_ae_u']-price_estimation.pdf['derivative_price_rfr_ae_l'])/2.0"
   ]
  },
  {
   "cell_type": "code",
   "execution_count": null,
   "id": "b21d9ca0",
   "metadata": {},
   "outputs": [],
   "source": [
    "price_estimation.pdf['delta_price']"
   ]
  },
  {
   "cell_type": "code",
   "execution_count": null,
   "id": "f3567c5a",
   "metadata": {},
   "outputs": [],
   "source": [
    "stats_for_circuit = pd.concat(list(price_estimation.pdf[\"circuit_stasts\"].apply(\n",
    "    lambda x: get_circuit_staff(str(x))\n",
    ")))\n",
    "stats_for_circuit"
   ]
  },
  {
   "cell_type": "markdown",
   "id": "c6f235df",
   "metadata": {},
   "source": [
    "### Loading probability as an array"
   ]
  },
  {
   "cell_type": "code",
   "execution_count": null,
   "id": "c84bf4fe",
   "metadata": {},
   "outputs": [],
   "source": [
    "#Example of complete dictionary\n",
    "problem_dict = {\n",
    "    #Amplitude Estimation selection\n",
    "    'ae_type': 'IQAE',\n",
    "    \n",
    "    #Amplitude Estimation configuration\n",
    "    'mcz_qlm': False,    \n",
    "    'schedule': None,\n",
    "    'delta' : None,\n",
    "    'auxiliar_qbits_number': None,\n",
    "    'cbits_number': None,\n",
    "    'alpha': 0.05,\n",
    "    'gamma': None,\n",
    "    'epsilon': 0.0005,\n",
    "    'shots': 100,\n",
    "    \n",
    "    #Loading Probability\n",
    "    'probability_loading': False,\n",
    "    \n",
    "    #Numbe of problem to solve\n",
    "    'number_of_tests': 1,\n",
    "    \n",
    "    #PayOff Configuration\n",
    "    'pay_off_type': 'European_Call_Option',\n",
    "    'strike': 0.5,\n",
    "    'coupon': None,\n",
    "    \n",
    "    #Domain configuration\n",
    "    'x0': 0.01,\n",
    "    'xf': 5.0,\n",
    "    'n_qbits': 5,\n",
    "    \n",
    "    #Probability density configuration\n",
    "    'probability_type': 'Black-Scholes',\n",
    "    's_0': 1,\n",
    "    'risk_free_rate': 0.05,\n",
    "    'maturity': 1.0,\n",
    "    'volatility': 0.5,\n",
    "\n",
    "    'save': False \n",
    "}\n",
    "\n",
    "#problem_dict.update({\"qpu\": linalg_qpu})"
   ]
  },
  {
   "cell_type": "code",
   "execution_count": null,
   "id": "eb741040",
   "metadata": {},
   "outputs": [],
   "source": [
    "price_estimation = PriceEstimation(**problem_dict)"
   ]
  },
  {
   "cell_type": "code",
   "execution_count": null,
   "id": "4f183b99",
   "metadata": {
    "scrolled": false
   },
   "outputs": [],
   "source": [
    "price_estimation.run()"
   ]
  },
  {
   "cell_type": "code",
   "execution_count": null,
   "id": "40dd6d6e",
   "metadata": {},
   "outputs": [],
   "source": [
    "#Expected maximum error for the price derivative\n",
    "print(\"delta Price derivative: \", str(price_estimation.pdf['delta_price'].iloc[0]))\n",
    "#Pure epsilon for the amplitude estimation\n",
    "print(\"Epsilon for AE algorithm : \", str(price_estimation.pdf['epsilon'].iloc[0]))"
   ]
  },
  {
   "cell_type": "code",
   "execution_count": null,
   "id": "0e6b6e28",
   "metadata": {},
   "outputs": [],
   "source": [
    "#Original epsilon for amplitude estimation\n",
    "(price_estimation.pdf['ae_u']-price_estimation.pdf['ae_l'])/2.0"
   ]
  },
  {
   "cell_type": "code",
   "execution_count": null,
   "id": "e2b0a8a4",
   "metadata": {},
   "outputs": [],
   "source": [
    "price_estimation.pdf['epsilon']"
   ]
  },
  {
   "cell_type": "code",
   "execution_count": null,
   "id": "12112d80",
   "metadata": {},
   "outputs": [],
   "source": [
    "(price_estimation.pdf['derivative_price_rfr_ae_u']-price_estimation.pdf['derivative_price_rfr_ae_l'])/2.0"
   ]
  },
  {
   "cell_type": "code",
   "execution_count": null,
   "id": "5aef183a",
   "metadata": {},
   "outputs": [],
   "source": [
    "price_estimation.pdf['delta_price']"
   ]
  },
  {
   "cell_type": "code",
   "execution_count": null,
   "id": "e836202d",
   "metadata": {},
   "outputs": [],
   "source": [
    "price_estimation.pdf[['derivative_price_rfr_ae', 'classical_price_rfr']]"
   ]
  },
  {
   "cell_type": "code",
   "execution_count": null,
   "id": "f91c656f",
   "metadata": {},
   "outputs": [],
   "source": [
    "stats_for_circuit = pd.concat(list(price_estimation.pdf[\"circuit_stasts\"].apply(\n",
    "    lambda x: get_circuit_staff(str(x))\n",
    ")))\n",
    "stats_for_circuit"
   ]
  },
  {
   "cell_type": "code",
   "execution_count": null,
   "id": "9bfcecb2",
   "metadata": {},
   "outputs": [],
   "source": [
    "price_estimation.pdf['relative_error_classical']"
   ]
  },
  {
   "cell_type": "code",
   "execution_count": null,
   "id": "56aba028",
   "metadata": {},
   "outputs": [],
   "source": []
  },
  {
   "cell_type": "code",
   "execution_count": null,
   "id": "1dd09cdb",
   "metadata": {},
   "outputs": [],
   "source": []
  },
  {
   "cell_type": "code",
   "execution_count": null,
   "id": "a472b2eb",
   "metadata": {},
   "outputs": [],
   "source": []
  }
 ],
 "metadata": {
  "kernelspec": {
   "display_name": "Python 3 (ipykernel)",
   "language": "python",
   "name": "python3"
  },
  "language_info": {
   "codemirror_mode": {
    "name": "ipython",
    "version": 3
   },
   "file_extension": ".py",
   "mimetype": "text/x-python",
   "name": "python",
   "nbconvert_exporter": "python",
   "pygments_lexer": "ipython3",
   "version": "3.9.13"
  }
 },
 "nbformat": 4,
 "nbformat_minor": 5
}
