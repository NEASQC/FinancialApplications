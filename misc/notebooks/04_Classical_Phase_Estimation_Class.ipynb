{
 "cells": [
  {
   "cell_type": "markdown",
   "id": "91740961",
   "metadata": {},
   "source": [
    "# Classical Phase Estimation (with QFT) module"
   ]
  },
  {
   "cell_type": "markdown",
   "id": "c4f4d8f0",
   "metadata": {},
   "source": [
    "The present notebook reviews the classical **Quantum Phase Estimation Algorithm**, which using the inverse of **Quantum Fourier Transform** ($\\mathcal{QFT}^{\\dagger}$), allows the estimation of the self values (phases) of a unitary operator. We will call this algorithm **CQPE** from now. The **CQPE** was developed into module *classical_qpe.py* of the package *PE*  of the present library *QQuantLib* (**QQuantLib/PE/classical_pe.py**). \n",
    "\n",
    "This algorithm was developed as a Python class called: *CQPE* inside the **QQuantLib/PE/classical_qpe.py**."
   ]
  },
  {
   "cell_type": "markdown",
   "id": "f57f5478",
   "metadata": {},
   "source": [
    "The present notebook and module are based on the following references:\n",
    "\n",
    "* *Brassard, G., Hoyer, P., Mosca, M., & Tapp, A. (2000). Quantum amplitude amplification and estimation.AMS Contemporary Mathematics Series, 305. https://arxiv.org/abs/quant-ph/0005055v1*\n",
    "* NEASQC deliverable: *D5.1: Review of state-of-the-art for Pricing and Computation of VaR https://www.neasqc.eu/wp-content/uploads/2021/06/NEASQC_D5.1_Review-of-state-of-the-art-for-Pricing-and-Computation-of-VaR_R2.0_Final.pdf*\n"
   ]
  },
  {
   "cell_type": "code",
   "execution_count": null,
   "id": "3f6029d9",
   "metadata": {},
   "outputs": [],
   "source": [
    "import sys\n",
    "sys.path.append(\"../../\")"
   ]
  },
  {
   "cell_type": "code",
   "execution_count": null,
   "id": "56c42b50",
   "metadata": {},
   "outputs": [],
   "source": [
    "import numpy as np\n",
    "import pandas as pd\n",
    "import matplotlib.pyplot as plt\n",
    "import qat.lang.AQASM as qlm"
   ]
  },
  {
   "cell_type": "code",
   "execution_count": null,
   "id": "67d69543",
   "metadata": {
    "scrolled": true
   },
   "outputs": [],
   "source": [
    "%matplotlib inline"
   ]
  },
  {
   "cell_type": "code",
   "execution_count": null,
   "id": "8e8cf3ca",
   "metadata": {
    "scrolled": true
   },
   "outputs": [],
   "source": [
    "#This cell loads the QLM solver. See notebook: 00_AboutTheNotebooksAndQPUs.ipynb\n",
    "from QQuantLib.qpu.get_qpu import get_qpu\n",
    "# myqlm qpus\n",
    "myqlm_qpus = [\"python\", \"c\"]\n",
    "# QLM qpus accessed using Qaptiva Access library\n",
    "qlmass_qpus = [\"qlmass_linalg\", \"qlmass_mps\"]\n",
    "# QLM qpus: Only in local Quantum Learning Machine\n",
    "qlm_qpus = [\"linalg\", \"mps\"]\n",
    "\n",
    "linalg_qpu = get_qpu(myqlm_qpus[1])"
   ]
  },
  {
   "cell_type": "code",
   "execution_count": null,
   "id": "b937e234",
   "metadata": {},
   "outputs": [],
   "source": [
    "#See 01_DataLoading_Module_Use for the use of this function\n",
    "from QQuantLib.utils.data_extracting import get_results"
   ]
  },
  {
   "cell_type": "markdown",
   "id": "d3c17b2d",
   "metadata": {},
   "source": [
    "## 1. Initial Inputs"
   ]
  },
  {
   "cell_type": "markdown",
   "id": "c7cdcc17",
   "metadata": {},
   "source": [
    "For using the *ClassicalPE* python class inside the **QQuantLib/PE/classical_pe** module 2 mandatory inputs should be provided:\n",
    "\n",
    "* 1. Initial State: this will be the initial quantum state needed for applying the Unitary Operator.\n",
    "* 2. Unitary operator: the operator whose phase we want to estimate.\n",
    "\n",
    "To explain how the *ClassicalPE* class works we are going to use the **IQPE** example from the Qiskit textbook:\n",
    "\n",
    "https://qiskit.org/textbook/ch-labs/Lab04_IterativePhaseEstimation.html\n",
    "\n",
    "https://github.com/Qiskit/qiskit-tutorials/blob/master/tutorials/algorithms/09_IQPE.ipynb\n",
    "\n",
    "We are going to reproduce the section **IPE example with a 1-qubit gate for U** from the Qiskit example.\n",
    "\n",
    "In this section, we are going to create these two mandatory inputs!"
   ]
  },
  {
   "cell_type": "code",
   "execution_count": null,
   "id": "020cdbc6",
   "metadata": {},
   "outputs": [],
   "source": [
    "#Number Of Qubits\n",
    "n_qbits = 1"
   ]
  },
  {
   "cell_type": "markdown",
   "id": "ea46b380",
   "metadata": {},
   "source": [
    "### 1.1 Initial State"
   ]
  },
  {
   "cell_type": "markdown",
   "id": "47b0209a",
   "metadata": {},
   "source": [
    "Initial State can be:\n",
    "1. QLM QRoutine\n",
    "2. QLM gate (or abstract gate)\n",
    "\n",
    "In the Qiskit example, the initial state will be $|1\\rangle$. \n",
    "\n",
    "The following cell creates this initial state:"
   ]
  },
  {
   "cell_type": "code",
   "execution_count": null,
   "id": "b532fe74",
   "metadata": {},
   "outputs": [],
   "source": [
    "initial_state = qlm.QRoutine()\n",
    "q_bits = initial_state.new_wires(n_qbits)\n",
    "for i in range(n_qbits):\n",
    "    initial_state.apply(qlm.X, q_bits[i])"
   ]
  },
  {
   "cell_type": "code",
   "execution_count": null,
   "id": "7ea6baae",
   "metadata": {
    "scrolled": true
   },
   "outputs": [],
   "source": [
    "%qatdisplay initial_state --svg"
   ]
  },
  {
   "cell_type": "markdown",
   "id": "131043e7",
   "metadata": {},
   "source": [
    "### 1.2 Unitary operator."
   ]
  },
  {
   "cell_type": "markdown",
   "id": "3e2c5873",
   "metadata": {},
   "source": [
    "The unitary operator can be:\n",
    "\n",
    "1. QLM QRoutine\n",
    "2. QLM gate (or abstract gate)\n",
    "\n",
    "In the Qiskit example, the unitary operator is the $\\mathcal{S}$ gate. So the application of the unitary operator over the initial state will be:\n",
    "\n",
    "$$\\mathcal{S}|1\\rangle = e^{i\\frac{\\pi}{2}}|1\\rangle$$"
   ]
  },
  {
   "cell_type": "code",
   "execution_count": null,
   "id": "43667149",
   "metadata": {},
   "outputs": [],
   "source": [
    "unitary_operator = qlm.PH(np.pi/2.0)  "
   ]
  },
  {
   "cell_type": "code",
   "execution_count": null,
   "id": "8daa3929",
   "metadata": {},
   "outputs": [],
   "source": [
    "%qatdisplay unitary_operator --svg"
   ]
  },
  {
   "cell_type": "markdown",
   "id": "0d586763",
   "metadata": {},
   "source": [
    "## 2. Class CQPE: classical Quantum Phase Estimation algorithm step by step "
   ]
  },
  {
   "cell_type": "markdown",
   "id": "cf18d7f8",
   "metadata": {},
   "source": [
    "The problem of phase estimation can be stated as follows. Given an initial state $\\left|\\Psi \\right\\rangle$ and a phase operator $\\mathcal{Q}$ such that:\n",
    "\n",
    "$$\\mathcal{Q}\\left|\\Psi \\right\\rangle = e^{2\\pi i\\lambda}\\left|\\Psi \\right\\rangle,$$\n",
    "\n",
    "our goal is estimating $\\lambda$."
   ]
  },
  {
   "cell_type": "markdown",
   "id": "493af5b5",
   "metadata": {},
   "source": [
    "So far we have the initial state $\\left|\\Psi \\right\\rangle = |1\\rangle$ and the unitary operator whose phase we want to estimate $\\mathcal{Q} = \\mathcal{S}$. In this section, we are going to describe the class step by step and explain the basics of the **CQPE** algorithm.\n"
   ]
  },
  {
   "cell_type": "markdown",
   "id": "e914b883",
   "metadata": {},
   "source": [
    "### 2.1 Calling the *CQPE* class\n",
    "\n",
    "The *CQPE* is inside **QQuantLib/PE/classical_qpe** module. \n",
    "\n",
    "In order to instantiate the class we need to provide a Python dictionary. Mandatory keys that the user should provide are, as explained in Section 1:\n",
    "\n",
    "* initial_state : QLM routine or gate with an initial state $|\\Psi\\rangle$ was loaded (created in Section 1).\n",
    "* unitary_operator :  QLM gate or routine with a Unitary operator ready to be applied to initial state $|\\Psi\\rangle$ (created in Section 1)\n",
    "\n",
    "Additionally, there are other keys that are important for configuring the method:\n",
    "\n",
    "* auxiliar_qbits_number : int. The number of auxiliary qubits ($m$) that are used for phase estimation (default 8). This number of qubits provided the precision of the phase estimation returned by the **QPE**: $\\frac{1}{2^m}$\n",
    "* qpu : QLM solver. If not provided class try to create a PyLinalg solver. It is recommended to give this key to the class.\n",
    "* shots: int number of shots for the quantum job (default 10).\n",
    "* complete : for shots different from zero all the possible states will be returned. "
   ]
  },
  {
   "cell_type": "code",
   "execution_count": null,
   "id": "09816d49",
   "metadata": {},
   "outputs": [],
   "source": [
    "#Load Class\n",
    "from QQuantLib.PE.classical_qpe import CQPE"
   ]
  },
  {
   "cell_type": "code",
   "execution_count": null,
   "id": "c9f37f79",
   "metadata": {},
   "outputs": [],
   "source": [
    "auxiliar_qbits_number = 2\n",
    "#We create a python dictionary for configuration of class\n",
    "qft_pe_dict = {\n",
    "    'initial_state': initial_state,\n",
    "    'unitary_operator': unitary_operator,\n",
    "    'qpu' : linalg_qpu,\n",
    "    'auxiliar_qbits_number' : auxiliar_qbits_number,\n",
    "    #'complete': True,\n",
    "    'shots':10\n",
    "}\n",
    "qft_pe = CQPE(**qft_pe_dict)"
   ]
  },
  {
   "cell_type": "markdown",
   "id": "3e8af83a",
   "metadata": {},
   "source": [
    "When the class is instantiated the properties *initial_state* and *q_gate* are overwritten with the given keys **initial_state** and **unitary_operator** respectively"
   ]
  },
  {
   "cell_type": "code",
   "execution_count": null,
   "id": "720f6786",
   "metadata": {},
   "outputs": [],
   "source": [
    "c = qft_pe.initial_state\n",
    "%qatdisplay c --svg"
   ]
  },
  {
   "cell_type": "code",
   "execution_count": null,
   "id": "f5349a22",
   "metadata": {},
   "outputs": [],
   "source": [
    "a = qft_pe.q_gate\n",
    "%qatdisplay a --depth 2 --svg"
   ]
  },
  {
   "cell_type": "markdown",
   "id": "c3ba441c",
   "metadata": {},
   "source": [
    "### 2.2 Classical Quantum Phase Estimation algorithm\n",
    "\n",
    "The classical quantum phase estimation algorithm (**QPE**) is composed of the following steps:\n",
    "\n",
    "1. Allocate a number of qubits equal to the number of qubits needed by the initial state operator $\\mathcal{Q}$-\n",
    "2. Allocate $m$ additional qubits where the phase will be codified.\n",
    "3. Apply a Hadamard gate to each auxiliary qubit\n",
    "4. Each auxiliary qubit will apply a controlled $2^{i}$ power of the unitary operator to the initial state. The $i$ will be related to the position of the auxiliary qubit.\n",
    "5. Apply the inverse of the Quantum Fourier Transform $\\mathcal{QFT}^{\\dagger}$ to the auxiliary qbits.\n",
    "6. Measure the auxiliary qubits and transform the measurement to an integer value $y$.\n",
    "7. Compute the angle using: $\\lambda = \\frac{y}{2^m}$\n",
    "\n",
    "For executing this workflow the **run** method of the class should be executed. The corresponding measurements are stored as a pandas DataFrame into the class attribute **result** which has the following columns:\n",
    "\n",
    "* **States**: Possible quantum states of the auxiliary qubits\n",
    "* **Int_lsb**:  conversion from the quantum state to an integer following **lsb** (bit farthest to the right will be least significant)\n",
    "* **Probability**: Computed frequency of the quantum state.\n",
    "* **Int**: conversion from the quantum state to an integer (the bit farthest to the right will be most significant)\n",
    "* **lambda**: is the estimated obtained phase.\n",
    "\n",
    "Depending on the values of the input variables *shots* and *complete* the results showed in the **result** DataFrame can contain all the possible quantum states or only the measured states."
   ]
  },
  {
   "cell_type": "code",
   "execution_count": null,
   "id": "f5d85fbc",
   "metadata": {},
   "outputs": [],
   "source": [
    "qft_pe.run()"
   ]
  },
  {
   "cell_type": "code",
   "execution_count": null,
   "id": "61548f69",
   "metadata": {},
   "outputs": [],
   "source": [
    "c = qft_pe.circuit\n",
    "%qatdisplay c --svg"
   ]
  },
  {
   "cell_type": "code",
   "execution_count": null,
   "id": "ddb755ac",
   "metadata": {
    "scrolled": true
   },
   "outputs": [],
   "source": [
    "qft_pe.result"
   ]
  },
  {
   "cell_type": "markdown",
   "id": "d80f484e",
   "metadata": {},
   "source": [
    "In the case of the used *Qiskit* example:\n",
    "\n",
    "$$i\\frac{\\pi}{2} = 2 \\pi i \\lambda$$\n",
    "\n",
    "So the desired solution will be: $\\lambda = \\frac{1}{4}$\n",
    "\n",
    "In the before case we have fixed the *complete* variable to **True**, so all the possible states are returned. In this case the $\\lambda$ value will be the one with the higher probability: $\\lambda = 0.25$\n"
   ]
  },
  {
   "cell_type": "code",
   "execution_count": null,
   "id": "57a98653",
   "metadata": {},
   "outputs": [],
   "source": [
    "qft_pe.result.sort_values('Probability', ascending=False).iloc[0]['lambda']"
   ]
  },
  {
   "cell_type": "markdown",
   "id": "f935db20",
   "metadata": {},
   "source": [
    "If *shots* is different of zero and  *complete* is set to **False** only the measured states will be returned!!"
   ]
  },
  {
   "cell_type": "code",
   "execution_count": null,
   "id": "6b54177d",
   "metadata": {},
   "outputs": [],
   "source": [
    "auxiliar_qbits_number = 2\n",
    "#We create a python dictionary for configuration of class\n",
    "qft_pe_dict = {\n",
    "    'initial_state': initial_state,\n",
    "    'unitary_operator': unitary_operator,\n",
    "    'qpu' : linalg_qpu,\n",
    "    'auxiliar_qbits_number' : auxiliar_qbits_number,\n",
    "    'complete': False,\n",
    "    'shots':100\n",
    "}\n",
    "qft_pe = CQPE(**qft_pe_dict)\n",
    "qft_pe.run()\n",
    "qft_pe.result"
   ]
  },
  {
   "cell_type": "markdown",
   "id": "9bdd8b0b",
   "metadata": {},
   "source": [
    "Addtitionally the attribute **quantum_times** measures the time for the quantum part of the algorithm (or simulated)"
   ]
  },
  {
   "cell_type": "code",
   "execution_count": null,
   "id": "0727d1de",
   "metadata": {},
   "outputs": [],
   "source": [
    "qft_pe.quantum_times"
   ]
  },
  {
   "cell_type": "markdown",
   "id": "d0665fbc",
   "metadata": {},
   "source": [
    "## Another example\n",
    "\n",
    "We are going to reproduce now the Qiskit example under the section *IPE example with a 2-qubit gate* (in https://github.com/Qiskit/qiskit-tutorials/blob/master/tutorials/algorithms/09_IQPE.ipynb). \n",
    "\n",
    "In this case, they use 2 qubits and want to estimate the phase for a unitary operator $\\mathcal{cT}$ operator. This operator adds a $\\frac{\\pi}{4}$ phase to state $|11\\rangle$ and leaves unchanged other states. \n",
    "\n",
    "In this case:\n",
    "\n",
    "$$\\mathcal{cT} |11\\rangle = e^{i\\frac{\\pi}{4}} |11\\rangle$$\n",
    "\n",
    "So:\n",
    "\n",
    "$$i\\frac{\\pi}{4} = 2 \\pi i \\lambda$$\n",
    "\n",
    "So $\\lambda = \\frac{1}{8}$"
   ]
  },
  {
   "cell_type": "code",
   "execution_count": null,
   "id": "1524fd8a",
   "metadata": {},
   "outputs": [],
   "source": [
    "#create initial state\n",
    "n_qbits = 2\n",
    "initial_state = qlm.QRoutine()\n",
    "q_bits = initial_state.new_wires(n_qbits)\n",
    "for i in range(n_qbits):\n",
    "    initial_state.apply(qlm.X, q_bits[i])"
   ]
  },
  {
   "cell_type": "code",
   "execution_count": null,
   "id": "c188515c",
   "metadata": {},
   "outputs": [],
   "source": [
    "%qatdisplay initial_state --svg"
   ]
  },
  {
   "cell_type": "code",
   "execution_count": null,
   "id": "01c1fc84",
   "metadata": {},
   "outputs": [],
   "source": [
    "#Create cT operator\n",
    "unitary_operator = qlm.QRoutine()\n",
    "uq_qbits = unitary_operator.new_wires(n_qbits)\n",
    "unitary_operator.apply(qlm.PH(np.pi/4.0).ctrl(), 0, 1)"
   ]
  },
  {
   "cell_type": "code",
   "execution_count": null,
   "id": "732f8090",
   "metadata": {},
   "outputs": [],
   "source": [
    "%qatdisplay unitary_operator --svg"
   ]
  },
  {
   "cell_type": "code",
   "execution_count": null,
   "id": "33a6a0c6",
   "metadata": {},
   "outputs": [],
   "source": [
    "#now PE with QFT!!\n",
    "n_cbits = 3\n",
    "#We create a python dictionary for configuration of class\n",
    "qft_pe_dict = {\n",
    "    'initial_state': initial_state,\n",
    "    'unitary_operator': unitary_operator,\n",
    "    'qpu' : linalg_qpu,\n",
    "    'auxiliar_qbits_number' : n_cbits,  \n",
    "    'shots': 100,\n",
    "    'complete': False\n",
    "}\n",
    "qft_pe = CQPE(**qft_pe_dict)"
   ]
  },
  {
   "cell_type": "code",
   "execution_count": null,
   "id": "d84185ca",
   "metadata": {},
   "outputs": [],
   "source": [
    "qft_pe.run()"
   ]
  },
  {
   "cell_type": "code",
   "execution_count": null,
   "id": "0610d16e",
   "metadata": {},
   "outputs": [],
   "source": [
    "qft_pe.result.sort_values('Probability', ascending = False)"
   ]
  },
  {
   "cell_type": "markdown",
   "id": "bb62d2ee",
   "metadata": {},
   "source": [
    "The result for $\\varphi=0.125$ that is the value obtained in the Qiskit example."
   ]
  },
  {
   "cell_type": "markdown",
   "id": "c5624363",
   "metadata": {},
   "source": [
    "## 3. Application to Amplitude Estimation"
   ]
  },
  {
   "cell_type": "markdown",
   "id": "542adf13",
   "metadata": {},
   "source": [
    "The problem of *Amplitude Estimation* is the following: given an oracle operator $\\mathcal{A}$ with the following behaviour:\n",
    "\n",
    "$$|\\Psi\\rangle= \\mathcal{A}|0\\rangle = \\sqrt{a}|\\Psi_0\\rangle +\\sqrt{1-a}|\\Psi_1\\rangle,$$\n",
    "\n",
    "where $|\\Psi_0\\rangle$ and $|\\Psi_1\\rangle$ are orthogonal states, we want to estimate $\\sqrt{a}$. One naive solution will be measuring $N$ times and getting the probabilities of obtaining $|\\Psi_0\\rangle$. In this case the error in the estimation of $\\sqrt{a}$ will scale with: $\\epsilon_{a} \\sim \\frac{1}{\\sqrt{N}}$. Usually, it is useful to express this error in function of the number of oracle calls: $N_{\\mathcal{A}}$. In this naive case, it can be demonstrated that:\n",
    "\n",
    "$$\\epsilon_{a} \\sim \\frac{1}{\\sqrt{N_{\\mathcal{A}}}}$$\n",
    "\n",
    "Classical *Phase Estimation* algorithm with *QFT* can be used for obtaining a quadratic speed up in *Amplitude Estimation* problems. \n",
    "\n",
    "To apply this algorithm to *Amplitude Estimation* problems following steps should be done:\n",
    "\n",
    "1. Doing the following substitution:\n",
    "\n",
    "$$\\sqrt{a} = \\sin\\left(\\theta\\right)$$\n",
    "\n",
    "2. The action of the oracle operator will be now:\n",
    "\n",
    "$$|\\Psi\\rangle= \\mathcal{A}|0\\rangle  = \\sqrt{a} |\\Psi_0\\rangle  + \\sqrt{1-a}|\\Psi_1\\rangle = \\sin\\left(\\theta\\right) |\\Psi_0\\rangle + \\cos\\left(\\theta\\right) |\\Psi_1\\rangle \\tag{1}$$\n",
    "\n",
    "3. Creation of the Grover-like operator of the oracle operator $\\mathcal{A}$:\n",
    "\n",
    "$$\\mathbf{G}(\\mathcal{A}) = \\mathcal{A} \\left(\\hat{I} - 2|0\\rangle\\langle 0|\\right) \\mathcal{A}^{\\dagger}\\left(\\hat{I} - 2|\\Psi_0\\rangle\\langle \\Psi_0|\\right)$$\n",
    "\n",
    "Now the classical *Phase Estimation* algorithm can be used straightforward by doing the following substitutions:\n",
    "\n",
    "$$\n",
    "    \\begin{array}{l}\n",
    "    & |\\Psi\\rangle \\longrightarrow \\mathcal{A}|0\\rangle \\\\\n",
    "    & \\mathcal{Q} \\longrightarrow \\mathbf{G}(\\mathcal{A})\n",
    "    \\end{array}\n",
    "$$\n",
    "\n",
    "It can be demonstrated that the $\\mathbf{G}(\\mathcal{A})$ operator can be expressed as a rotation in the plane of an angle $\\theta$, this is:\n",
    "\n",
    "$$\n",
    "\\mathbf{G}(\\mathcal{A}) = \n",
    "\\begin{pmatrix}\n",
    "\\cos 2\\theta & -\\sin 2\\theta\\\\\n",
    "\\sin 2\\theta & \\cos 2\\theta \\\\\n",
    "\\end{pmatrix}\n",
    "$$\n",
    "\n",
    "So the autovalues of the $\\mathbf{G}(\\mathcal{A})$ will be $e^{\\pm i2\\theta}$\n",
    "\n",
    "So using our phase estimation convention:\n",
    "\n",
    "$$i2\\theta = 2 \\pi i \\lambda$$\n",
    "\n",
    "We arrive to: $\\theta = \\pi \\lambda$.\n",
    "\n",
    "It can be demostrated that using the classical *Phase Estimation* algorithm the error of the estimation in $\\theta$ (and in $\\sqrt{a}$) will scale as:\n",
    "\n",
    "$$\\epsilon_{\\theta} \\sim \\frac{1}{N_{\\mathcal{A}}}$$\n",
    "\n",
    "So a quadratic speed up is obtained with respect to a naive solution!!"
   ]
  },
  {
   "cell_type": "markdown",
   "id": "99f806e2",
   "metadata": {},
   "source": [
    "### 3.1 Using *CQPE* class for *Amplitude Estimation*"
   ]
  },
  {
   "cell_type": "markdown",
   "id": "699dcf0b",
   "metadata": {},
   "source": [
    "In this section, we explain how to use the **CQPE** class for solving *Amplitude Estimation* problems. \n",
    "\n",
    "First, we will define the following amplitude estimation problem:\n",
    "\n",
    "$$|\\Psi\\rangle = \\mathcal{A}|0\\rangle = \\dfrac{1}{\\sqrt{0+1+2+3+4+5+6+7+8}}\\left[\\sqrt{0}|0\\rangle+\\sqrt{1}|1\\rangle+\\sqrt{2}|2\\rangle+\\sqrt{3}|3\\rangle+\\sqrt{4}|4\\rangle+\\sqrt{5}|5\\rangle+\\sqrt{6}|6\\rangle+\\sqrt{7}|7\\rangle\\right] \\tag{2}$$\n",
    "\n",
    "So comparing (2) with (1):\n",
    "\n",
    "$$\\sqrt{a}|\\Psi_0\\rangle = \\sin(\\theta)|\\Psi_0\\rangle = \\dfrac{\\sqrt{1}}{\\sqrt{0+1+2+3+4+5+6+7+8}}|1\\rangle$$\n",
    "\n",
    "and \n",
    "\n",
    "$$\\sqrt{1-a}|\\Psi_1\\rangle = \\cos(\\theta)|\\Psi_1\\rangle = \\dfrac{1}{\\sqrt{0+1+2+3+4+5+6+7+8}}\\left[\\sqrt{0}|0\\rangle+\\sqrt{2}|2\\rangle+\\sqrt{3}|3\\rangle+\\sqrt{4}|4\\rangle+\\sqrt{5}|5\\rangle+\\sqrt{6}|6\\rangle+\\sqrt{7}|7\\rangle\\right].$$\n",
    "\n",
    "Following cells creates the initial state $|\\Psi\\rangle = \\mathcal{A}|0\\rangle$"
   ]
  },
  {
   "cell_type": "code",
   "execution_count": null,
   "id": "91ee7f59",
   "metadata": {},
   "outputs": [],
   "source": [
    "from QQuantLib.DL.data_loading import load_probability\n",
    "from QQuantLib.AA.amplitude_amplification import grover"
   ]
  },
  {
   "cell_type": "code",
   "execution_count": null,
   "id": "d30744a3",
   "metadata": {},
   "outputs": [],
   "source": [
    "n = 3\n",
    "N = 2**n\n",
    "x = np.arange(N)\n",
    "probability = x/np.sum(x)\n",
    "oracle = load_probability(probability)\n",
    "\n",
    "%qatdisplay oracle --depth 0 --svg"
   ]
  },
  {
   "cell_type": "markdown",
   "id": "6bff697c",
   "metadata": {},
   "source": [
    "Now we need to compute the Grover-like operator from the oracle operator $\\mathcal{A}$. The functions from *AA* module will be used (see notebook **02_Amplitude_Amplification_Operators.ipynb** for more information)"
   ]
  },
  {
   "cell_type": "code",
   "execution_count": null,
   "id": "9c97df50",
   "metadata": {},
   "outputs": [],
   "source": [
    "target = [0, 0, 1]\n",
    "index = range(oracle.arity)\n",
    "grover_gate = grover(oracle, target, index)\n",
    "#Comment before line and uncomment following for For multiplexor implementation of multi-controlled Z gate\n",
    "#grover_gate = grover(oracle, target, index, mcz_qlm=False)\n",
    "%qatdisplay grover_gate --depth 2 --svg"
   ]
  },
  {
   "cell_type": "markdown",
   "id": "13a39fd4",
   "metadata": {},
   "source": [
    "Now that we have translated our amplitude amplification problem to an phase estimation problem we proceed to use our class normally. We provide the *oracle* as the **initial_state** and the correspondent Grover-like operator as the **unitary_operator**. Additionally auxiliar_qbits_number for estimating the phase should be provided."
   ]
  },
  {
   "cell_type": "code",
   "execution_count": null,
   "id": "fee4a72c",
   "metadata": {},
   "outputs": [],
   "source": [
    "n_cbits = 8\n",
    "#We create a python dictionary for configuration of class\n",
    "qft_pe_dict = {\n",
    "    'initial_state': oracle,\n",
    "    'unitary_operator': grover_gate,\n",
    "    'qpu' : linalg_qpu,\n",
    "    'auxiliar_qbits_number' : n_cbits,  \n",
    "    'shots': 1000,\n",
    "    'complete':True #For getting all the posible 2^n_cbits states\n",
    "}\n",
    "qft_pe = CQPE(**qft_pe_dict)\n",
    "qft_pe.run()"
   ]
  },
  {
   "cell_type": "code",
   "execution_count": null,
   "id": "01e4234c",
   "metadata": {},
   "outputs": [],
   "source": [
    "#Using the circuit attribute for draw the complete routine\n",
    "c = qft_pe.circuit\n",
    "%qatdisplay c --svg"
   ]
  },
  {
   "cell_type": "code",
   "execution_count": null,
   "id": "20c9dfa6",
   "metadata": {},
   "outputs": [],
   "source": [
    "#We can plot the obtained the frequency vs the theta\n",
    "qft_pe.result.sort_values('lambda', inplace=True)\n",
    "plt.plot(qft_pe.result['lambda'], qft_pe.result['Probability'], 'o-')\n",
    "plt.xlabel(r'$\\lambda$')\n",
    "plt.ylabel('Probability')"
   ]
  },
  {
   "cell_type": "markdown",
   "id": "9c1dc59a",
   "metadata": {},
   "source": [
    "Now we can compute $\\theta = \\pi \\lambda$."
   ]
  },
  {
   "cell_type": "code",
   "execution_count": null,
   "id": "3ce88998",
   "metadata": {},
   "outputs": [],
   "source": [
    "qft_pe.result['theta'] = np.pi * qft_pe.result['lambda']"
   ]
  },
  {
   "cell_type": "code",
   "execution_count": null,
   "id": "8260efc0",
   "metadata": {},
   "outputs": [],
   "source": [
    "#We can plot the obtained the frequency vs the theta in the [0, pì/2] range\n",
    "qft_pe.result.sort_values('theta', inplace=True)\n",
    "plt.plot(qft_pe.result['theta'], qft_pe.result['Probability'], 'o-')\n",
    "plt.xlabel(r'$\\theta$')\n",
    "plt.ylabel('Probability')"
   ]
  },
  {
   "cell_type": "markdown",
   "id": "34ce7ca3",
   "metadata": {},
   "source": [
    "In this case, the 2 obtained maximums reflect the 2 *eigenvalues* of $\\mathbf{G}(\\mathcal{A})$: $\\pm\\theta$. In general it is useful to restrict $\\theta$ to the interval $(0, \\frac{\\pi}{2}$). This can be done in the following cell:"
   ]
  },
  {
   "cell_type": "code",
   "execution_count": null,
   "id": "487b13c3",
   "metadata": {},
   "outputs": [],
   "source": [
    "qft_pe.result['theta_90'] = qft_pe.result['theta']\n",
    "qft_pe.result['theta_90'].where(\n",
    "    qft_pe.result[\"theta_90\"] < 0.5 * np.pi,\n",
    "    np.pi - qft_pe.result[\"theta_90\"],\n",
    "    inplace=True,\n",
    ")"
   ]
  },
  {
   "cell_type": "code",
   "execution_count": null,
   "id": "5937647f",
   "metadata": {},
   "outputs": [],
   "source": [
    "#We can plot the obtained the frequency vs the theta in the [0, pì/2] range\n",
    "qft_pe.result.sort_values('theta_90', inplace=True)\n",
    "plt.plot(qft_pe.result['theta_90'], qft_pe.result['Probability'], 'o-')\n",
    "plt.xlabel(r'$\\theta$')\n",
    "plt.ylabel('Probability')\n",
    "plt.title(r'$\\theta \\in [0, \\frac{\\pi}{2}]$')"
   ]
  },
  {
   "cell_type": "markdown",
   "id": "2f66f32f",
   "metadata": {},
   "source": [
    "Finally, we need to compute the desired value of $a$. Following the equations presented in the notebook this can be done by $a =\\sin(\\theta)^2$.\n",
    "\n",
    "**In our implementation of the QPE the convention is changed and the following relationship MUST BE used**:\n",
    "\n",
    "$$a = \\cos(\\theta)^2$$"
   ]
  },
  {
   "cell_type": "code",
   "execution_count": null,
   "id": "9fd69606",
   "metadata": {},
   "outputs": [],
   "source": [
    "qft_pe.result['a']=np.cos(qft_pe.result['theta_90'])**2"
   ]
  },
  {
   "cell_type": "code",
   "execution_count": null,
   "id": "4b285c43",
   "metadata": {},
   "outputs": [],
   "source": [
    "#We can plot the obtained a vs the theta in the [0, pì/2] range\n",
    "plt.plot(qft_pe.result['a'], qft_pe.result['Probability'], 'o-')\n",
    "plt.xlabel(r'$a$')\n",
    "plt.ylabel('Probability')\n",
    "plt.title(r'$a \\in [0, 1]$')"
   ]
  },
  {
   "cell_type": "markdown",
   "id": "5a4c894a",
   "metadata": {},
   "source": [
    "### What *a* should be returned?\n",
    "\n",
    "From the point of view of the **QPE** algorithm for **AE** one possible solution would be to return the most frequently $a$ measured. But from an actual computer perspective this question is tricky because the computer used could not be perfect (actual quantum computers are far away from being good) and the **QPE** algorithm can not be executed properly and the results can be different from the expected result of the bare algorithm. \n",
    "\n",
    "We are going to use the mean of the probability distribution obtained from the measures. This is:\n",
    "\n",
    "$$\\tilde{a} = \\int a * p(a) * da = \\sum_{i} a[i] * P(a[i])$$\n",
    "\n",
    "where $p(a)$ will be the probability of obtaining $a$ (experimentally this will be the number of times the $a$ value was obtained divided by the number of shots executed)."
   ]
  },
  {
   "cell_type": "code",
   "execution_count": null,
   "id": "9bbb5f5e",
   "metadata": {},
   "outputs": [],
   "source": [
    "qft_pe.result.sort_values('Probability', inplace=True, ascending=False)\n",
    "mean_a = qft_pe.result['Probability'] @ qft_pe.result['a']"
   ]
  },
  {
   "cell_type": "code",
   "execution_count": null,
   "id": "1342c332",
   "metadata": {},
   "outputs": [],
   "source": [
    "print(\"Most frequent value of a: {}\".format(qft_pe.result['a'].iloc[0]))\n",
    "print(\"Mean value of a: {}\".format(mean_a))\n",
    "print(\"Classical result: \",probability[1])\n",
    "print('Test OK. Most Frequent Value: ', probability[1]- qft_pe.result['a'].iloc[0] < 0.005)\n",
    "print('Test OK. Mean Value: ', probability[1] - qft_pe.result['Probability'] @ qft_pe.result['a'] < 0.005)"
   ]
  },
  {
   "cell_type": "markdown",
   "id": "b4a4c253",
   "metadata": {},
   "source": [
    "### Asociated error of *a*\n",
    "\n",
    "Additionally, we can compute an error associated with the estimator of $\\tilde{a}$, $\\epsilon_a$. For the **QPE** algorithm in an ideal quantum computer the error will depend on the number of auxiliary qubits, $m$:\n",
    "\n",
    "$$\\epsilon_a^{QPE} \\lt \\frac{2\\pi}{2 ^ m}$$\n",
    "\n",
    "But in an actual quantum computer, the errors will be greater. For this case, the most direct way for computing it will be to use the square root of the variance of the probability density measured (this will be the experimental error):\n",
    "\n",
    "$$\\epsilon_a^{P(a)} = \\sqrt{\\int p(a) (a-\\tilde{a}) ^2 * da} = \\sqrt{\\sum_{i} (a[i] -\\tilde{a})^2 * P(a[i])}$$\n",
    "\n",
    "In order to deal with all the situations, a perfect quantum computer (i.e. noiseless simulation) or an actual quantum computer the best approach is taking the maximum of these two errors:\n",
    "\n",
    "$$\\epsilon_a = \\max (\\epsilon_a^{QPE}, \\epsilon_a^{P(a)} )$$"
   ]
  },
  {
   "cell_type": "code",
   "execution_count": null,
   "id": "df1e3b13",
   "metadata": {},
   "outputs": [],
   "source": [
    "eps_a_pa = (qft_pe.result['Probability'] @ ((qft_pe.result['a'] - mean_a) ** 2))**0.5\n",
    "eps_qpe = 2 * np.pi / 2 ** qft_pe.auxiliar_qbits_number\n",
    "epsilon = max([eps_a_pa, eps_qpe])\n",
    "print('QPE error: {} . Probability Density Error: {}'.format(eps_qpe, eps_a_pa))\n",
    "print('Total Error: {}'.format(epsilon))"
   ]
  },
  {
   "cell_type": "markdown",
   "id": "0c4e48cc",
   "metadata": {},
   "source": [
    "## 4. Amplitude Estimation with classical Quantum Phase Estimation"
   ]
  },
  {
   "cell_type": "markdown",
   "id": "1e5bd569",
   "metadata": {},
   "source": [
    "In order to simplify **Amplitude Estimation** calculations done with the **CQPE** class (see Section 3) the **CQPEAE** (stands for **C**lassical **Q**uantum **P**hase **E**stimation **A**mplitude **Estimation**) class was created. The idea behind this class is dealing with the initial overheating shown in Section 3 for using **CQPE** in a straightforward way for *Amplitude Estimation* calculations. The class is under the module **ae_classical_qpe.py** of the *Amplitude Estimation* package of the *QQuantLib* library  (**QQuantLib/AE/ae_classical_qpe**)\n",
    "\n",
    "**Note**\n",
    "\n",
    "The idea is that the **CQPEAE** have a similar scheme like the **MLAE class** from **QQuantLib/AE/maximum_likelihood_ae** module"
   ]
  },
  {
   "cell_type": "markdown",
   "id": "0abf5bb5",
   "metadata": {},
   "source": [
    "To create **CQPEAE** associated object following inputs are mandatory:\n",
    "\n",
    "1. Oracle: QLM AbstractGate or QRoutine with the implementation of the Oracle for creating the Grover operator.\n",
    "2. target: this is the marked state in binary representation as a Python list\n",
    "3. index: list of the qubits affected by the Grover operator."
   ]
  },
  {
   "cell_type": "code",
   "execution_count": null,
   "id": "da5c7edf",
   "metadata": {},
   "outputs": [],
   "source": [
    "from QQuantLib.DL.data_loading import load_probability"
   ]
  },
  {
   "cell_type": "code",
   "execution_count": null,
   "id": "ad51087e",
   "metadata": {},
   "outputs": [],
   "source": [
    "#Here we created the mandatory oracle\n",
    "n = 3\n",
    "N = 2**n\n",
    "x = np.arange(N)\n",
    "probability = x/np.sum(x)\n",
    "oracle = load_probability(probability)\n",
    "\n",
    "%qatdisplay oracle --depth 0 --svg\n",
    "\n",
    "#This will be the target state for grover and the list of qubits affected by Grover operator\n",
    "target = [0, 0, 1]\n",
    "index = range(oracle.arity)"
   ]
  },
  {
   "cell_type": "markdown",
   "id": "ada6702c",
   "metadata": {},
   "source": [
    "Now we have all mandatory inputs so we created the *CQPEAE* object. Following **MLAE class** convention other parameters can be provided with a Python dictionary. In this case, the following keys can be provided:\n",
    "\n",
    "* *auxiliar_qbits_number*: number of qubits for doing phase estimation (default: 8)\n",
    "* *shots*: number of shots (default: 100)\n",
    "* *qpu*: qpu solver\n",
    "* mcz_qlm: for using QLM multi-controlled Z gate (True, default) or using multiplexor implementation (False)"
   ]
  },
  {
   "cell_type": "code",
   "execution_count": null,
   "id": "e7eff22a",
   "metadata": {
    "scrolled": true
   },
   "outputs": [],
   "source": [
    "from QQuantLib.AE.ae_classical_qpe import CQPEAE"
   ]
  },
  {
   "cell_type": "code",
   "execution_count": null,
   "id": "23a80ef7",
   "metadata": {},
   "outputs": [],
   "source": [
    "ae_pe_qft_dict = {\n",
    "    'qpu': linalg_qpu,\n",
    "    'auxiliar_qbits_number': 4,\n",
    "    'shots': 1000,\n",
    "    'mcz_qlm': False    \n",
    "}\n",
    "\n",
    "ae_pe_qft = CQPEAE(\n",
    "    oracle=oracle,\n",
    "    target=target,\n",
    "    index=index, \n",
    "    **ae_pe_qft_dict\n",
    ")"
   ]
  },
  {
   "cell_type": "markdown",
   "id": "d10c338c",
   "metadata": {},
   "source": [
    "When instantiated the *CQPEAE* class the *Grover* operator associated to the oracle operator is created. It can be access using attribute *_grover_oracle*."
   ]
  },
  {
   "cell_type": "code",
   "execution_count": null,
   "id": "a3208213",
   "metadata": {},
   "outputs": [],
   "source": [
    "grover_circ = ae_pe_qft._grover_oracle\n",
    "%qatdisplay grover_circ --depth 2 --svg"
   ]
  },
  {
   "cell_type": "markdown",
   "id": "260676b3",
   "metadata": {},
   "source": [
    "Now the *ae_pe_qft* object has all mandatory inputs for calling the *CQPE* class and executing the algorithm. The **run** method from the **CQPEAE** class does this step. Additionally when the *run* method is executed following properties from the **CQPEAE** class are populated:\n",
    "\n",
    "* *cqpe*: this property is an object from the **CQPE** class that was initialized with corresponding arguments created by the **CQPEAE** class.\n",
    "* *final_results*: this is the final_results obtained from the *pe_qft* method of the property object *cqpe* (see section 2.3).\n",
    "* *theta*: estimated $\\theta$ obtained from **CQPE** algorithm (used the meanb of the probability distribution)\n",
    "* *ae* amplitude estimated solution based on  $a=cos^2 \\theta$\n",
    "* *run_time*: elapsed time of a complete execution of the **run** method\n",
    "\n",
    "Additionally, the different computed errors for $a$ can be accessed with the following attributes:\n",
    "\n",
    "* *epsilon_qpe* : error due  to the **QPE** algorithm\n",
    "* *epsilon_prob*: statistical error of the measurements performed\n",
    "* *epsilon*: final error resulting in the maximum of the two aforementioned errors.\n"
   ]
  },
  {
   "cell_type": "code",
   "execution_count": null,
   "id": "2a26fe7d",
   "metadata": {},
   "outputs": [],
   "source": [
    "a_estimated = ae_pe_qft.run()"
   ]
  },
  {
   "cell_type": "code",
   "execution_count": null,
   "id": "588a555c",
   "metadata": {},
   "outputs": [],
   "source": [
    "print('a_estimated = ',a_estimated) \n",
    "print('ae_pe_withQFT.theta= ', ae_pe_qft.final_results)\n",
    "print('ae_pe_withQFT.theta= ', ae_pe_qft.theta)\n",
    "print('ae_pe_withQFT.a= ', ae_pe_qft.ae)\n",
    "print(\"Classical result: \",probability[1])\n",
    "\n",
    "print('QPE error: ', ae_pe_qft.epsilon_qpe)\n",
    "print('Experimental error: ', ae_pe_qft.epsilon_prob)\n",
    "print('Final error: ', ae_pe_qft.epsilon)"
   ]
  },
  {
   "cell_type": "code",
   "execution_count": null,
   "id": "74adc62f",
   "metadata": {},
   "outputs": [],
   "source": [
    "print('Test OK: ',np.abs(ae_pe_qft.ae-probability[1])< 0.005)"
   ]
  },
  {
   "cell_type": "code",
   "execution_count": null,
   "id": "af7ce4e8",
   "metadata": {},
   "outputs": [],
   "source": [
    "print('Elapsed time for run method: ',ae_pe_qft.run_time)"
   ]
  },
  {
   "cell_type": "markdown",
   "id": "78aae604",
   "metadata": {},
   "source": [
    "Of course the configuration of the algorithm can be changed by setting the attributes of the class an calling the *run* method again!!"
   ]
  },
  {
   "cell_type": "code",
   "execution_count": null,
   "id": "4569e6da",
   "metadata": {
    "scrolled": true
   },
   "outputs": [],
   "source": [
    "print(ae_pe_qft.auxiliar_qbits_number)"
   ]
  },
  {
   "cell_type": "code",
   "execution_count": null,
   "id": "9d016c26",
   "metadata": {},
   "outputs": [],
   "source": [
    "ae_pe_qft.auxiliar_qbits_number = 10\n",
    "print(ae_pe_qft.auxiliar_qbits_number)"
   ]
  },
  {
   "cell_type": "code",
   "execution_count": null,
   "id": "5d4eee54",
   "metadata": {},
   "outputs": [],
   "source": [
    "#run method again\n",
    "a_estimated = ae_pe_qft.run()"
   ]
  },
  {
   "cell_type": "code",
   "execution_count": null,
   "id": "70fd2c10",
   "metadata": {},
   "outputs": [],
   "source": [
    "print('a_estimated = ',a_estimated) \n",
    "print('ae_pe_withQFT.theta= ', ae_pe_qft.theta)\n",
    "print('ae_pe_withQFT.a= ', ae_pe_qft.ae)\n",
    "print(\"Classical result: \",probability[1])\n",
    "\n",
    "print('QPE error: ', ae_pe_qft.epsilon_qpe)\n",
    "print('Experimental error: ', ae_pe_qft.epsilon_prob)\n",
    "print('Final error: ', ae_pe_qft.epsilon)"
   ]
  },
  {
   "cell_type": "code",
   "execution_count": null,
   "id": "ee35acea",
   "metadata": {},
   "outputs": [],
   "source": [
    "print('Elapsed time for run method: ',ae_pe_qft.run_time)"
   ]
  },
  {
   "cell_type": "markdown",
   "id": "6eeb8d8f",
   "metadata": {},
   "source": [
    "As explained before, the **cqpe** attribute from *CQPEAE* class is an object created from class **CQPE** so all the methods and attributes of this class can be accessed using the **cqpe** attribute (**NOT RECOMMENDED**).\n",
    "\n",
    "We can access to the quantum circuit used by the **CQPE**"
   ]
  },
  {
   "cell_type": "code",
   "execution_count": null,
   "id": "3f4c4fff",
   "metadata": {},
   "outputs": [],
   "source": [
    "#First we access to the attribute they stores the CQPE object\n",
    "attribute_pewqtf = ae_pe_qft.cqpe\n",
    "#Then we take the circuit attribute from the PhaseEstimationwQFT object (see above in the notebook)\n",
    "c=attribute_pewqtf.circuit\n",
    "%qatdisplay c --svg --depth 0"
   ]
  },
  {
   "cell_type": "markdown",
   "id": "a34faccc",
   "metadata": {},
   "source": [
    "When the *run* method is executed following class attributes are populated:\n",
    "\n",
    "* *circuit_statistics*: python dictionary with the complete statistical information of the circuit.\n",
    "* *oracle_calls*: number of total oracle calls for a complete execution of the algorithm\n",
    "* *max_oracle_depth*: maximum number of applications of the oracle for the complete execution of the algorithm."
   ]
  },
  {
   "cell_type": "code",
   "execution_count": null,
   "id": "d2f1ce04",
   "metadata": {
    "scrolled": true
   },
   "outputs": [],
   "source": [
    "ae_pe_qft.circuit_statistics"
   ]
  },
  {
   "cell_type": "code",
   "execution_count": null,
   "id": "8bad9c7c",
   "metadata": {},
   "outputs": [],
   "source": [
    "#Total number of oracle calls\n",
    "print(\"The total number of the oracle calls for the CQPEAE was: {}\".format(ae_pe_qft.oracle_calls))"
   ]
  },
  {
   "cell_type": "code",
   "execution_count": null,
   "id": "ed51f7c4",
   "metadata": {},
   "outputs": [],
   "source": [
    "#Number of maximum oracle applications\n",
    "ae_pe_qft.max_oracle_depth"
   ]
  },
  {
   "cell_type": "code",
   "execution_count": null,
   "id": "1416ba07",
   "metadata": {},
   "outputs": [],
   "source": [
    "ae_pe_qft.quantum_times"
   ]
  },
  {
   "cell_type": "code",
   "execution_count": null,
   "id": "eb71226e",
   "metadata": {},
   "outputs": [],
   "source": [
    "ae_pe_qft.quantum_time"
   ]
  }
 ],
 "metadata": {
  "kernelspec": {
   "display_name": "Python 3 (ipykernel)",
   "language": "python",
   "name": "python3"
  },
  "language_info": {
   "codemirror_mode": {
    "name": "ipython",
    "version": 3
   },
   "file_extension": ".py",
   "mimetype": "text/x-python",
   "name": "python",
   "nbconvert_exporter": "python",
   "pygments_lexer": "ipython3",
   "version": "3.9.9"
  }
 },
 "nbformat": 4,
 "nbformat_minor": 5
}
