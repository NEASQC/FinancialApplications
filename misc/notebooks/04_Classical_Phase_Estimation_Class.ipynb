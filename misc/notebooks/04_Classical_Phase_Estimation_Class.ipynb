{
 "cells": [
  {
   "cell_type": "markdown",
   "id": "91740961",
   "metadata": {},
   "source": [
    "# Classical Phase Estimation (with QFT) module"
   ]
  },
  {
   "cell_type": "markdown",
   "id": "c4f4d8f0",
   "metadata": {},
   "source": [
    "Present notebook reviews the classical **Quantum Phase Estimation Algorithm**, which using the inverse of **Quantum Fourier Transform** ($\\mathcal{QFT}^{\\dagger}$), allows the estimation of the self values (phases) of an unitary operator. From now we will call this algorithm **CQPE** from now. The **CQPE** was developed into module *classical_qpe.py* of the package *PE*  of present library *QQuantLib* (**QQuantLib/PE/classical_pe.py**). \n",
    "\n",
    "\n",
    "This algorithm was the developed as a python class called: *CQPE* inside the **QQuantLib/PE/classical_qpe.py**."
   ]
  },
  {
   "cell_type": "markdown",
   "id": "f57f5478",
   "metadata": {},
   "source": [
    "Present notebook and module are based on the following references:\n",
    "\n",
    "* *Brassard, G., Hoyer, P., Mosca, M., & Tapp, A. (2000). Quantum amplitude amplification and estimation.AMS Contemporary Mathematics Series, 305. https://arxiv.org/abs/quant-ph/0005055v1*\n",
    "* NEASQC deliverable: *D5.1: Review of state-of-the-art for Pricing and Computation of VaR https://www.neasqc.eu/wp-content/uploads/2021/06/NEASQC_D5.1_Review-of-state-of-the-art-for-Pricing-and-Computation-of-VaR_R2.0_Final.pdf*\n"
   ]
  },
  {
   "cell_type": "code",
   "execution_count": null,
   "id": "3f6029d9",
   "metadata": {},
   "outputs": [],
   "source": [
    "import sys\n",
    "sys.path.append(\"../../\")"
   ]
  },
  {
   "cell_type": "code",
   "execution_count": null,
   "id": "56c42b50",
   "metadata": {},
   "outputs": [],
   "source": [
    "import numpy as np\n",
    "import pandas as pd\n",
    "import matplotlib.pyplot as plt\n",
    "import qat.lang.AQASM as qlm"
   ]
  },
  {
   "cell_type": "code",
   "execution_count": null,
   "id": "67d69543",
   "metadata": {
    "scrolled": true
   },
   "outputs": [],
   "source": [
    "%matplotlib inline"
   ]
  },
  {
   "cell_type": "code",
   "execution_count": null,
   "id": "8e8cf3ca",
   "metadata": {
    "scrolled": true
   },
   "outputs": [],
   "source": [
    "#This cell loads the QLM solver.\n",
    "#QLMaaS == False -> uses PyLinalg\n",
    "#QLMaaS == True -> try to use LinAlg (for using QPU as CESGA QLM one)\n",
    "from QQuantLib.utils.qlm_solver import get_qpu\n",
    "QLMaaS = False\n",
    "linalg_qpu = get_qpu(QLMaaS)"
   ]
  },
  {
   "cell_type": "code",
   "execution_count": null,
   "id": "b937e234",
   "metadata": {},
   "outputs": [],
   "source": [
    "#See 01_DataLoading_Module_Use for the use of this function\n",
    "from QQuantLib.utils.data_extracting import get_results"
   ]
  },
  {
   "cell_type": "markdown",
   "id": "d3c17b2d",
   "metadata": {},
   "source": [
    "## 1. Initial Inputs"
   ]
  },
  {
   "cell_type": "markdown",
   "id": "c7cdcc17",
   "metadata": {},
   "source": [
    "For using the *ClassicalPE* python class inside the **QQuantLib/PE/classical_pe** module 2 mandatory inputs should be provided:\n",
    "\n",
    "* 1. Initial State: this will be the initial quantum state needed for applying the Unitary Operator.\n",
    "* 2. Unitary operator: the operator whose phase we want to estimate.\n",
    "\n",
    "For explain how the *ClassicalPE* class works we are going to use the **IQPE** example from Qiskit textbook:\n",
    "\n",
    "https://qiskit.org/textbook/ch-labs/Lab04_IterativePhaseEstimation.html\n",
    "\n",
    "https://github.com/Qiskit/qiskit-tutorials/blob/master/tutorials/algorithms/09_IQPE.ipynb\n",
    "\n",
    "We are going to reproduce the section **IPE example with a 1-qubit gate for U** from Qiskit example.\n",
    "\n",
    "In this section we are going to create this two mandatory inputs!"
   ]
  },
  {
   "cell_type": "code",
   "execution_count": null,
   "id": "020cdbc6",
   "metadata": {},
   "outputs": [],
   "source": [
    "#Number Of Qubits\n",
    "n_qbits = 1"
   ]
  },
  {
   "cell_type": "markdown",
   "id": "ea46b380",
   "metadata": {},
   "source": [
    "### 1.1 Initial State"
   ]
  },
  {
   "cell_type": "markdown",
   "id": "47b0209a",
   "metadata": {},
   "source": [
    "Initial State can be:\n",
    "1. QLM QRoutine\n",
    "2. QLM gate (or abstract gate)\n",
    "\n",
    "In the qiskit example the initial state will be $|1\\rangle$. \n",
    "\n",
    "Following cell creates this initial state:"
   ]
  },
  {
   "cell_type": "code",
   "execution_count": null,
   "id": "b532fe74",
   "metadata": {},
   "outputs": [],
   "source": [
    "initial_state = qlm.QRoutine()\n",
    "q_bits = initial_state.new_wires(n_qbits)\n",
    "for i in range(n_qbits):\n",
    "    initial_state.apply(qlm.X, q_bits[i])"
   ]
  },
  {
   "cell_type": "code",
   "execution_count": null,
   "id": "7ea6baae",
   "metadata": {
    "scrolled": true
   },
   "outputs": [],
   "source": [
    "%qatdisplay initial_state --svg"
   ]
  },
  {
   "cell_type": "markdown",
   "id": "131043e7",
   "metadata": {},
   "source": [
    "### 1.2 Unitary operator."
   ]
  },
  {
   "cell_type": "markdown",
   "id": "3e2c5873",
   "metadata": {},
   "source": [
    "Unitary operator can be:\n",
    "\n",
    "1. QLM QRoutine\n",
    "2. QLM gate (or abstract gate)\n",
    "\n",
    "In the qiskit example the unitary operator is the $\\mathcal{S}$ gate. So the application of the unitary operator over the initial state will be:\n",
    "\n",
    "$$\\mathcal{S}|1\\rangle = e^{i\\frac{\\pi}{2}}|1\\rangle$$"
   ]
  },
  {
   "cell_type": "code",
   "execution_count": null,
   "id": "43667149",
   "metadata": {},
   "outputs": [],
   "source": [
    "unitary_operator = qlm.PH(np.pi/2.0)  "
   ]
  },
  {
   "cell_type": "code",
   "execution_count": null,
   "id": "8daa3929",
   "metadata": {},
   "outputs": [],
   "source": [
    "%qatdisplay unitary_operator --svg"
   ]
  },
  {
   "cell_type": "markdown",
   "id": "0d586763",
   "metadata": {},
   "source": [
    "## 2. Class CQPE: classical Quantum Phase Estimation algorithm step by step "
   ]
  },
  {
   "cell_type": "markdown",
   "id": "cf18d7f8",
   "metadata": {},
   "source": [
    "The problem of phase estimation can be stated as follows. Given an initial state $\\left|\\Psi \\right\\rangle$ and a phase operator $\\mathcal{P}$ such that:\n",
    "\n",
    "$$\\mathcal{P}\\left|\\Psi \\right\\rangle = e^{2\\pi i\\lambda}\\left|\\Psi \\right\\rangle,$$\n",
    "\n",
    "our goal is estimating $\\lambda$."
   ]
  },
  {
   "cell_type": "markdown",
   "id": "493af5b5",
   "metadata": {},
   "source": [
    "So far we have the initial state $\\left|\\Psi \\right\\rangle = |1\\rangle$ and the unitary operator whose phase we want to estimate $\\mathcal{P} = \\mathcal{S}$. In this section we are going to describe the class step by step and explain the basics of the **CQPE** algorithm"
   ]
  },
  {
   "cell_type": "markdown",
   "id": "e914b883",
   "metadata": {},
   "source": [
    "### 2.1 Calling the *CQPE* class\n",
    "\n",
    "The *CQPE* is inside **QQuantLib/PE/classical_qpe** module. \n",
    "\n",
    "In order to instantiate the class we need to provide a Python dictionary. Mandatory keys that user should provide are, as explained in section 1:\n",
    "\n",
    "* initial_state : QLM routine or gate with an initial state $|\\Psi\\rangle$ was loaded (created in Section 1).\n",
    "* unitary_operator :  QLM gate or routine with an Unitary operator ready for be applied to initial state $|\\Psi\\rangle$ (created in Section 1)\n",
    "\n",
    "Additionally there are other keys that are important in order for configuring the method:\n",
    "\n",
    "* auxiliar_qbits_number : int. Number of auxiliary qbits used for phase estimation (default 8).\n",
    "* qpu : QLM solver. If not provided class try to creates a PyLinalg solver. It is recommended give this key to the class.\n",
    "* shots : int number of shots for quantum job (default 10)."
   ]
  },
  {
   "cell_type": "code",
   "execution_count": null,
   "id": "93dc78fd",
   "metadata": {},
   "outputs": [],
   "source": [
    "#Load Class\n",
    "from QQuantLib.PE.classical_qpe import CQPE"
   ]
  },
  {
   "cell_type": "code",
   "execution_count": null,
   "id": "c558b074",
   "metadata": {},
   "outputs": [],
   "source": [
    "auxiliar_qbits_number = 2\n",
    "#We create a python dictionary for configuration of class\n",
    "qft_pe_dict = {\n",
    "    'initial_state': initial_state,\n",
    "    'unitary_operator': unitary_operator,\n",
    "    'qpu' : linalg_qpu,\n",
    "    'auxiliar_qbits_number' : auxiliar_qbits_number,\n",
    "}\n",
    "qft_pe = CQPE(**qft_pe_dict)"
   ]
  },
  {
   "cell_type": "markdown",
   "id": "3e8af83a",
   "metadata": {},
   "source": [
    "When the class is instantiated the properties *initial_state* and *q_gate* are overwritten with the given keys **initial_state** and **unitary_operator** respectively"
   ]
  },
  {
   "cell_type": "code",
   "execution_count": null,
   "id": "720f6786",
   "metadata": {},
   "outputs": [],
   "source": [
    "c = qft_pe.initial_state\n",
    "%qatdisplay c --svg"
   ]
  },
  {
   "cell_type": "code",
   "execution_count": null,
   "id": "f5349a22",
   "metadata": {},
   "outputs": [],
   "source": [
    "a = qft_pe.q_gate\n",
    "%qatdisplay a --depth 2 --svg"
   ]
  },
  {
   "cell_type": "markdown",
   "id": "c3ba441c",
   "metadata": {},
   "source": [
    "### 2.2 Classical Quantum Phase Estimation algorithm: step by step\n",
    "\n",
    "Now we are going to review step by step the **CQPE** algorithm using different programmed methods of the **CQPE** class"
   ]
  },
  {
   "cell_type": "markdown",
   "id": "383ffac5",
   "metadata": {},
   "source": [
    "#### 2.2.1. Initialize the quantum program.\n",
    "\n",
    "First thing is calling the method **init_pe**. Following actions are done by this method:\n",
    "1. Creation of QLM program from *initial_state* QLM routine (or AbstractGate). The QLM program is stored in *q_prog* property.\n",
    "2. Allocation of the auxiliary qubits mandatory for the **CQPE** algorithm. It is stored in the *q_aux* property."
   ]
  },
  {
   "cell_type": "code",
   "execution_count": null,
   "id": "31b2b0b3",
   "metadata": {},
   "outputs": [],
   "source": [
    "#Initialize the quantum program\n",
    "qft_pe.init_pe()"
   ]
  },
  {
   "cell_type": "code",
   "execution_count": null,
   "id": "57d9c3ba",
   "metadata": {},
   "outputs": [],
   "source": [
    "#Now we have the initial quantum program stored in the property q_prog\n",
    "#Additionally a auxiliary qbit bits was allocated\n",
    "circuit = qft_pe.q_prog.to_circ(submatrices_only=True)\n",
    "\n",
    "%qatdisplay circuit --depth 0 --svg"
   ]
  },
  {
   "cell_type": "markdown",
   "id": "75deafbc",
   "metadata": {},
   "source": [
    "#### 2.2.2. Classical Quantum Phase Estimation (with QFT) Algorithm:"
   ]
  },
  {
   "cell_type": "markdown",
   "id": "074648fc",
   "metadata": {},
   "source": [
    "We are going to decomposed the **CQPE** algorithm in 2 parts.\n",
    "\n",
    "1. Application of controlled powers of the Unitary Operator\n",
    "2. Application of the inverse of the *QFT*."
   ]
  },
  {
   "cell_type": "markdown",
   "id": "ef97032c",
   "metadata": {},
   "source": [
    "#### Application of controlled powers of the Unitary Operator\n",
    "\n",
    "The first part will done following steps:\n",
    "1. Apply a Hadamard gate to each auxiliary qubit\n",
    "2. Each auxiliary qubit will apply a controlled power of the unitary operator to the initial state.\n",
    "\n",
    "\n",
    "This can be done by calling the *apply_controlled_operations* method with following arguments:\n",
    "\n",
    "* Quantum Program with initial_state\n",
    "* Quantum Routine or AbstractGate with phase operator $\\mathcal{P}$\n",
    "* Auxiliary Qubits\n",
    "\n",
    "This methods return the quantum program with the operations explained in this part."
   ]
  },
  {
   "cell_type": "code",
   "execution_count": null,
   "id": "34f48dbe",
   "metadata": {},
   "outputs": [],
   "source": [
    "prog = qft_pe.apply_controlled_operations(qft_pe.q_prog, qft_pe.q_gate, qft_pe.q_aux)"
   ]
  },
  {
   "cell_type": "code",
   "execution_count": null,
   "id": "1b1069ff",
   "metadata": {},
   "outputs": [],
   "source": [
    "c = prog.to_circ()\n",
    "%qatdisplay c --depth 1 --svg"
   ]
  },
  {
   "cell_type": "markdown",
   "id": "41e20eba",
   "metadata": {},
   "source": [
    "#### Application of the inverse of the *QFT*\n",
    "\n",
    "In this part of the algorithm the $\\mathcal{QFT}^{\\dagger}$ will be applied to the auxiliary qbits.\n",
    "\n",
    "This is done by the *apply_inv_qft* method with following arguments:\n",
    "\n",
    "* Quantum program with the first part of the algorithm implemented\n",
    "* Auxiliary Qubits for applying the $\\mathcal{QFT}^{\\dagger}$"
   ]
  },
  {
   "cell_type": "code",
   "execution_count": null,
   "id": "e41a7336",
   "metadata": {},
   "outputs": [],
   "source": [
    "prog = qft_pe.apply_inv_qft(prog, qft_pe.q_aux)"
   ]
  },
  {
   "cell_type": "markdown",
   "id": "47f01e1a",
   "metadata": {},
   "source": [
    "Now we can plot the circuit we have until the moment"
   ]
  },
  {
   "cell_type": "code",
   "execution_count": null,
   "id": "df898a7b",
   "metadata": {},
   "outputs": [],
   "source": [
    "c = prog.to_circ()\n",
    "%qatdisplay c --svg"
   ]
  },
  {
   "cell_type": "markdown",
   "id": "1efbc6bf",
   "metadata": {},
   "source": [
    "####  Complete algorithm\n",
    "\n",
    "The complete algorithm is executed by the *apply_pe_wqft* that need as arguments.\n",
    "\n",
    "* Quantum Program with initial_state\n",
    "* Quantum Routine or AbstractGate with phase operator $\\mathcal{P}$\n",
    "* Auxiliary Qubits\n"
   ]
  },
  {
   "cell_type": "code",
   "execution_count": null,
   "id": "51cdbbb3",
   "metadata": {},
   "outputs": [],
   "source": [
    "prog = qft_pe.apply_pe_wqft(qft_pe.q_prog, qft_pe.q_gate, qft_pe.q_aux)"
   ]
  },
  {
   "cell_type": "code",
   "execution_count": null,
   "id": "9d74cd00",
   "metadata": {},
   "outputs": [],
   "source": [
    "c = prog.to_circ()\n",
    "%qatdisplay c --svg"
   ]
  },
  {
   "cell_type": "markdown",
   "id": "a45755a0",
   "metadata": {},
   "source": [
    "#### 2.2.3. Classical QPE Algorithm execution\n",
    "\n",
    "Once the QLM program is constructed the algorithm should be executed. For this the *run_qprogram* method from the class allow to execute it. Following arguments should  be provided:\n",
    "\n",
    "* q_prog : with the complete *CQPE* algorithm\n",
    "* q_aux : auxiliary qbits \n",
    "* shots \n",
    "* linalg_qpu: QLM solver\n",
    "\n",
    "This method creates the circuit, the associated job and execute it. The returns of this method are:\n",
    "\n",
    "* results : DataFrame with the results of the simulation.\n",
    "* circuit : QLM circuit"
   ]
  },
  {
   "cell_type": "code",
   "execution_count": null,
   "id": "5583d001",
   "metadata": {},
   "outputs": [],
   "source": [
    "results, circuit = qft_pe.run_qprogram(prog, qft_pe.q_aux, 100, linalg_qpu=linalg_qpu)"
   ]
  },
  {
   "cell_type": "code",
   "execution_count": null,
   "id": "ddb755ac",
   "metadata": {
    "scrolled": true
   },
   "outputs": [],
   "source": [
    "results"
   ]
  },
  {
   "cell_type": "markdown",
   "id": "d80f484e",
   "metadata": {},
   "source": [
    "The results DataFrame has the following columns: \n",
    "\n",
    "* **States**: Possible quantum states of the auxiliary qubits\n",
    "* **Int_lsb**:  conversion from the quantum state to a integer following **lsb** (bit farthest to the right will be least significant)\n",
    "* **Probability**: Computed frequency of the quantum state.\n",
    "* **Int**: conversion from the quantum state to a integer (bit farthest to the right will be most significant)\n",
    "* **Phi**: is the estimated obtained phase and it is computed as: $\\frac{Int}{2^{m}}$ where $m$ is the number of qubits used for phase estimation\n"
   ]
  },
  {
   "cell_type": "code",
   "execution_count": null,
   "id": "ffa997db",
   "metadata": {},
   "outputs": [],
   "source": [
    "%qatdisplay circuit --svg"
   ]
  },
  {
   "cell_type": "markdown",
   "id": "147a56c6",
   "metadata": {},
   "source": [
    "From *results* pdf the important column is **Phi**. Following the Qiskit example this column is $\\varphi$ and the searched phase is: $\\phi=2\\pi\\varphi$. In the qiskit example $\\varphi=0.25$. \n",
    "\n",
    "We can sort the DataFrame by the **Probability** column and the desired $\\phi$ will be the most probable one that should be the Qiskit result: $\\varphi=0.25$ (this can be seen in following cell)"
   ]
  },
  {
   "cell_type": "code",
   "execution_count": null,
   "id": "57a98653",
   "metadata": {},
   "outputs": [],
   "source": [
    "results.sort_values('Probability', ascending=False).iloc[0]['Phi']"
   ]
  },
  {
   "cell_type": "markdown",
   "id": "f749c91c",
   "metadata": {},
   "source": [
    "#### 2.2.4. CQPE: post processing\n",
    "\n",
    "Typically the phase in radians is provide in this kind of phase estimation problems. For getting this result we use the *post_proccess*. The *results* DataFrame should be provided and the output will be another DataFrame where following columns were add to the input DataFrame:\n",
    "\n",
    "* **Phi**: is the estimated obtained phase and it is computed as: $\\frac{BitInt}{2^{c_b}}$ where $c_b$ is the number of classical bits \n",
    "* **2*theta**: this is the phase of the unitary operator in radians:$2\\theta = 2\\pi\\varphi$. In this case we calculate the phase of the unitary operator as the double of an angle $\\theta$.\n",
    "* **theta**: this is the halve of the phase of the unitary operator: $\\theta = \\pi\\varphi$\n",
    "* **theta_90**: is the $\\theta$ between $(0, \\frac{\\pi}{2}$)\n",
    "\n",
    "In this module our convention when $|\\Psi\\rangle $ is an eigenvalue of an unitary operator $\\mathcal{Q}$ is:\n",
    "\n",
    "$$\\mathcal{Q}|\\Psi\\rangle = e^{2i\\theta}|\\Psi\\rangle$$"
   ]
  },
  {
   "cell_type": "code",
   "execution_count": null,
   "id": "588c4f3e",
   "metadata": {},
   "outputs": [],
   "source": [
    "final_results = qft_pe.post_proccess(results)"
   ]
  },
  {
   "cell_type": "code",
   "execution_count": null,
   "id": "ef4e256f",
   "metadata": {
    "scrolled": true
   },
   "outputs": [],
   "source": [
    "final_results"
   ]
  },
  {
   "cell_type": "code",
   "execution_count": null,
   "id": "e581a895",
   "metadata": {},
   "outputs": [],
   "source": [
    "final_results.sort_values('Probability', ascending=False)"
   ]
  },
  {
   "cell_type": "markdown",
   "id": "aeedbf15",
   "metadata": {},
   "source": [
    "### 2.3. Class CQPE: complete execution"
   ]
  },
  {
   "cell_type": "markdown",
   "id": "c004c1e3",
   "metadata": {},
   "source": [
    "In section 2.2 the complete algorithm step by step was explained. The methods shown in this sub section were shown only for pedagogical purposes but users **SHOULD NOT** use these methods. Instead user **SHOULD USE** the **pe_qft** were all the steps explained in secion 2.2 are executed. When using this *method* following properties are populated:\n",
    "\n",
    "* *final_results*: the DataFrame with the result of the *post_proccess* method.\n",
    "* *results*: with the QLM results\n",
    "* *circuit*: with the QLM circuit\n",
    "* *post_proccess*: time with post process for the classical QPE algorithm (elapsed time of the 2.2.4 subsection)"
   ]
  },
  {
   "cell_type": "code",
   "execution_count": null,
   "id": "49cafd3f",
   "metadata": {},
   "outputs": [],
   "source": [
    "n_cbits = 2\n",
    "#We create a python dictionary for configuration of class\n",
    "pe_qft_dict = {\n",
    "    'initial_state': initial_state,\n",
    "    'unitary_operator': unitary_operator,\n",
    "    'qpu' : linalg_qpu,\n",
    "    'auxiliar_qbits_number' : n_cbits,  \n",
    "    'shots': 100\n",
    "}\n",
    "qft_pe = CQPE(**pe_qft_dict)"
   ]
  },
  {
   "cell_type": "code",
   "execution_count": null,
   "id": "faf94a5b",
   "metadata": {},
   "outputs": [],
   "source": [
    "qft_pe.pe_qft()"
   ]
  },
  {
   "cell_type": "code",
   "execution_count": null,
   "id": "f210e00d",
   "metadata": {},
   "outputs": [],
   "source": [
    "qft_pe.final_results"
   ]
  },
  {
   "cell_type": "code",
   "execution_count": null,
   "id": "c307c626",
   "metadata": {},
   "outputs": [],
   "source": [
    "qft_pe.final_results.sort_values('Probability', ascending = False)"
   ]
  },
  {
   "cell_type": "code",
   "execution_count": null,
   "id": "35e9238e",
   "metadata": {},
   "outputs": [],
   "source": [
    "qft_pe.final_results.iloc[\n",
    "    qft_pe.final_results['Probability'].idxmax()\n",
    "]['Phi']"
   ]
  },
  {
   "cell_type": "code",
   "execution_count": null,
   "id": "e3626a52",
   "metadata": {},
   "outputs": [],
   "source": [
    "qft_pe.time_qpe_post_procces"
   ]
  },
  {
   "cell_type": "markdown",
   "id": "c90ad5ba",
   "metadata": {},
   "source": [
    "## Another example\n",
    "\n",
    "We are going to reproduce now the qiskit example under the section *IPE example with a 2-qubit gate* (in https://github.com/Qiskit/qiskit-tutorials/blob/master/tutorials/algorithms/09_IQPE.ipynb). \n",
    "\n",
    "In this case they use 2 qubits and want to estimate the phase for a unitary operator $\\mathcal{cT}$ operator. This operator adds a $\\frac{\\pi}{4}$ phase to state $|11\\rangle$ and leave unchanged other states. \n"
   ]
  },
  {
   "cell_type": "code",
   "execution_count": null,
   "id": "a78f9cd6",
   "metadata": {},
   "outputs": [],
   "source": [
    "#create initial state\n",
    "n_qbits = 2\n",
    "initial_state = qlm.QRoutine()\n",
    "q_bits = initial_state.new_wires(n_qbits)\n",
    "for i in range(n_qbits):\n",
    "    initial_state.apply(qlm.X, q_bits[i])"
   ]
  },
  {
   "cell_type": "code",
   "execution_count": null,
   "id": "57d75dca",
   "metadata": {},
   "outputs": [],
   "source": [
    "%qatdisplay initial_state --svg"
   ]
  },
  {
   "cell_type": "code",
   "execution_count": null,
   "id": "2d7d3ae7",
   "metadata": {},
   "outputs": [],
   "source": [
    "#Create cT operator\n",
    "unitary_operator = qlm.QRoutine()\n",
    "uq_qbits = unitary_operator.new_wires(n_qbits)\n",
    "unitary_operator.apply(qlm.PH(np.pi/4.0).ctrl(), 0, 1)"
   ]
  },
  {
   "cell_type": "code",
   "execution_count": null,
   "id": "663ee89d",
   "metadata": {},
   "outputs": [],
   "source": [
    "%qatdisplay unitary_operator --svg"
   ]
  },
  {
   "cell_type": "code",
   "execution_count": null,
   "id": "03baa3d8",
   "metadata": {},
   "outputs": [],
   "source": [
    "#now PE with QFT!!\n",
    "n_cbits = 3\n",
    "#We create a python dictionary for configuration of class\n",
    "qft_pe_dict = {\n",
    "    'initial_state': initial_state,\n",
    "    'unitary_operator': unitary_operator,\n",
    "    'qpu' : linalg_qpu,\n",
    "    'auxiliar_qbits_number' : n_cbits,  \n",
    "    'shots': 100\n",
    "}\n",
    "qft_pe = CQPE(**qft_pe_dict)"
   ]
  },
  {
   "cell_type": "code",
   "execution_count": null,
   "id": "2f45fc13",
   "metadata": {},
   "outputs": [],
   "source": [
    "qft_pe.pe_qft()"
   ]
  },
  {
   "cell_type": "code",
   "execution_count": null,
   "id": "354efd9b",
   "metadata": {},
   "outputs": [],
   "source": [
    "qft_pe.final_results.sort_values('Probability', ascending = False)"
   ]
  },
  {
   "cell_type": "code",
   "execution_count": null,
   "id": "a87d45ab",
   "metadata": {},
   "outputs": [],
   "source": [
    "qft_pe.time_qpe_post_procces"
   ]
  },
  {
   "cell_type": "code",
   "execution_count": null,
   "id": "e59ca550",
   "metadata": {},
   "outputs": [],
   "source": [
    "qft_pe.time_pdf"
   ]
  },
  {
   "cell_type": "markdown",
   "id": "52dbd6d6",
   "metadata": {},
   "source": [
    "The result for $\\varphi=0.125$ that is the value obtained in the Qiskit example."
   ]
  },
  {
   "cell_type": "markdown",
   "id": "c5624363",
   "metadata": {},
   "source": [
    "## 3. Application to Amplitude Estimation"
   ]
  },
  {
   "cell_type": "markdown",
   "id": "542adf13",
   "metadata": {},
   "source": [
    "The problem of *Amplitude Estimation* is the following. Given an oracle:\n",
    "\n",
    "$$\\mathcal{0}|0\\rangle = |\\Psi\\rangle = \\sqrt{a}|\\Psi_0\\rangle +\\sqrt{1-a}|\\Psi_1\\rangle,$$\n",
    "\n",
    "where $|\\Psi_0\\rangle$ and $|\\Psi_1\\rangle$ are orthogonal states, we want to estimate $\\sqrt{a}$.\n",
    "\n",
    "In order to solve the *Amplitude Estimation* problem the classical *Phase Estimation* algorithm with *QFT* can be used. So we can take advantage of our **CQPE** class for doing this. This section explains the procedure.\n",
    "\n",
    "\n",
    "First we will define the following amplitude estimation problem:\n",
    "$$\n",
    "    \\begin{array}{l}\n",
    "    & |\\Psi\\rangle \\longrightarrow \\scriptstyle \\dfrac{1}{\\sqrt{0+1+2+3+4+5+6+7+8}}\\left[\\sqrt{0}|0\\rangle+\\sqrt{1}|1\\rangle+\\sqrt{2}|2\\rangle+\\sqrt{3}|3\\rangle+\\sqrt{4}|4\\rangle+\\sqrt{5}|5\\rangle+\\sqrt{6}|6\\rangle+\\sqrt{7}|7\\rangle\\right].\\\\\n",
    "    & \\sqrt{a}|\\Psi_0\\rangle \\longrightarrow \\dfrac{\\sqrt{1}}{\\sqrt{0+1+2+3+4+5+6+7+8}}|1\\rangle.\\\\\n",
    "    & \\sqrt{1-a}|\\Psi_1\\rangle \\longrightarrow \\scriptstyle \\dfrac{1}{\\sqrt{0+1+2+3+4+5+6+7+8}}\\left[\\sqrt{0}|0\\rangle+\\sqrt{2}|2\\rangle+\\sqrt{3}|3\\rangle+\\sqrt{4}|4\\rangle+\\sqrt{5}|5\\rangle+\\sqrt{6}|6\\rangle+\\sqrt{7}|7\\rangle\\right].\\\\\n",
    "    \\end{array}\n",
    "$$\n",
    "\n",
    "Following cells creates the initial state $|\\Psi\\rangle$\n"
   ]
  },
  {
   "cell_type": "code",
   "execution_count": null,
   "id": "91ee7f59",
   "metadata": {},
   "outputs": [],
   "source": [
    "from QQuantLib.DL.data_loading import load_probability\n",
    "from QQuantLib.AA.amplitude_amplification import grover"
   ]
  },
  {
   "cell_type": "code",
   "execution_count": null,
   "id": "d30744a3",
   "metadata": {},
   "outputs": [],
   "source": [
    "n = 3\n",
    "N = 2**n\n",
    "x = np.arange(N)\n",
    "probability = x/np.sum(x)\n",
    "oracle = load_probability(probability)\n",
    "\n",
    "%qatdisplay oracle --depth 0 --svg"
   ]
  },
  {
   "cell_type": "markdown",
   "id": "6bff697c",
   "metadata": {},
   "source": [
    "Next we will show how the Phase Estimation problem relates to the Amplitude Estimation problem:\n",
    "$$\n",
    "    \\begin{array}{l}\n",
    "    & |\\Psi\\rangle \\longrightarrow |\\Psi\\rangle\\\\\n",
    "    & \\mathcal{P} \\longrightarrow \\mathcal{G}\n",
    "    \\end{array}\n",
    "$$\n",
    "The first equation means that, in the phase estimation context, the initial state is $|\\Psi\\rangle$ and the phase operator is $\\mathcal{G}$, the Grover operator corresponding to our amplitude estimation problem. \n",
    "\n",
    "In the next cell we define the grover operator for our problem.  "
   ]
  },
  {
   "cell_type": "code",
   "execution_count": null,
   "id": "9c97df50",
   "metadata": {},
   "outputs": [],
   "source": [
    "target = [0, 0, 1]\n",
    "index = range(oracle.arity)\n",
    "grover_gate = grover(oracle, target, index)\n",
    "#Comment before line and uncomment following for For multiplexor implementation of multi-controlled Z gate\n",
    "#grover_gate = grover(oracle, target, index, mcz_qlm=False)\n",
    "%qatdisplay grover_gate --depth 3 --svg"
   ]
  },
  {
   "cell_type": "markdown",
   "id": "a013c0f9",
   "metadata": {},
   "source": [
    "Here we have used that our target state $|1\\rangle$ in binary representation is $001$. See notebook *02_AmplitudeAmplification_Operators* for more information about building Grover operators."
   ]
  },
  {
   "cell_type": "markdown",
   "id": "13a39fd4",
   "metadata": {},
   "source": [
    "Now that we have translated our amplitude amplification problem to an phase estimation problem we proceed to use our class normally. We provide the *oracle* as the **initial_state** and the correspondent Grover-like operator as the **unitary_operator**. Additionally auxiliar_qbits_number for estimating the phase should be provided."
   ]
  },
  {
   "cell_type": "code",
   "execution_count": null,
   "id": "fee4a72c",
   "metadata": {},
   "outputs": [],
   "source": [
    "n_cbits = 6\n",
    "#We create a python dictionary for configuration of class\n",
    "qft_pe_dict = {\n",
    "    'initial_state': oracle,\n",
    "    'unitary_operator': grover_gate,\n",
    "    'qpu' : linalg_qpu,\n",
    "    'auxiliar_qbits_number' : n_cbits,  \n",
    "    'shots': 100\n",
    "}\n",
    "qft_pe = CQPE(**qft_pe_dict)\n",
    "qft_pe.pe_qft()"
   ]
  },
  {
   "cell_type": "code",
   "execution_count": null,
   "id": "6016d8f3",
   "metadata": {
    "scrolled": true
   },
   "outputs": [],
   "source": [
    "qft_pe.final_results.sort_values('Probability', ascending = False)"
   ]
  },
  {
   "cell_type": "code",
   "execution_count": null,
   "id": "20c9dfa6",
   "metadata": {},
   "outputs": [],
   "source": [
    "#We can plot the obtained the frequency vs the theta\n",
    "qft_pe.final_results.sort_values('theta', inplace=True)\n",
    "plt.plot(qft_pe.final_results['theta'], qft_pe.final_results['Probability'], 'o-')\n",
    "plt.xlabel(r'$\\theta$')\n",
    "plt.ylabel('Probability')"
   ]
  },
  {
   "cell_type": "code",
   "execution_count": null,
   "id": "8260efc0",
   "metadata": {},
   "outputs": [],
   "source": [
    "#We can plot the obtained the frequency vs the theta in the [0, pì/2] range\n",
    "qft_pe.final_results.sort_values('theta_90', inplace=True)\n",
    "plt.plot(qft_pe.final_results['theta_90'], qft_pe.final_results['Probability'], 'o-')\n",
    "plt.xlabel(r'$\\theta$')\n",
    "plt.ylabel('Probability')\n",
    "plt.title(r'$\\theta \\in [0, \\frac{\\pi}{2}]$')"
   ]
  },
  {
   "cell_type": "markdown",
   "id": "2f66f32f",
   "metadata": {},
   "source": [
    "Last, we use the mapping $a = \\cos(\\theta)^2$ to obtain the result of our amplitude estimation problem."
   ]
  },
  {
   "cell_type": "code",
   "execution_count": null,
   "id": "9fd69606",
   "metadata": {},
   "outputs": [],
   "source": [
    "qft_pe.final_results['P_Psi_1']=np.cos(qft_pe.final_results['theta_90'])**2"
   ]
  },
  {
   "cell_type": "code",
   "execution_count": null,
   "id": "08a19d0b",
   "metadata": {},
   "outputs": [],
   "source": [
    "qft_pe.final_results.sort_values('Probability', inplace=True, ascending=False)"
   ]
  },
  {
   "cell_type": "code",
   "execution_count": null,
   "id": "32d68791",
   "metadata": {},
   "outputs": [],
   "source": [
    "qft_pe.final_results"
   ]
  },
  {
   "cell_type": "code",
   "execution_count": null,
   "id": "3ee570c2",
   "metadata": {},
   "outputs": [],
   "source": [
    "print(\"Classical result: \",probability[1])\n",
    "print(\"Quantum result: \",qft_pe.final_results['P_Psi_1'].iloc[0])"
   ]
  },
  {
   "cell_type": "markdown",
   "id": "a55d77dc",
   "metadata": {},
   "source": [
    "In order to improve the Quantum results more qubits for estimation should be added!"
   ]
  },
  {
   "cell_type": "code",
   "execution_count": null,
   "id": "3e2e4dd5",
   "metadata": {},
   "outputs": [],
   "source": [
    "print('Test OK: ', probability[1]- qft_pe.final_results['P_Psi_1'].iloc[0] < 0.005)"
   ]
  },
  {
   "cell_type": "markdown",
   "id": "0c4e48cc",
   "metadata": {},
   "source": [
    "## 4. Amplitude Estimation with classical Quantum Phase Estimation"
   ]
  },
  {
   "cell_type": "markdown",
   "id": "1e5bd569",
   "metadata": {},
   "source": [
    "In order to simplify **Amplitude Estimation** calculations done with the **CQPE** class (see Section 3) the **CQPEAE** (stands for **C**lassical **Q**uantum **P**hase **E**stimation **A**mplitude **Estimation**) class was created. The idea behind this class is dealing wiht the initial overheating showed in Section 3 for using **CQPE** in a straightforward way for *Amplitude Estimation* calculations. The class is under the module **ae_classical_qpe.py** of the *Amplitude Estimation* package of the *QQuantLib* library  (**QQuantLib/AE/ae_classical_qpe**)\n",
    "\n",
    "**Note**\n",
    "\n",
    "The idea is that the **CQPEAE** have a similar scheme like the **MLAE class** from **QQuantLib/AE/maximum_likelihood_ae** module"
   ]
  },
  {
   "cell_type": "markdown",
   "id": "0abf5bb5",
   "metadata": {},
   "source": [
    "In order to create **CQPEAE** associated object following inputs are mandatory:\n",
    "\n",
    "1. Oracle: QLM AbstractGate or QRoutine with the implementation of the Oracle for creating the Grover operator.\n",
    "2. target: this is the marked state in binary representation as a python list\n",
    "3. index: list of the qubits affected by the Grover operator."
   ]
  },
  {
   "cell_type": "code",
   "execution_count": null,
   "id": "da5c7edf",
   "metadata": {},
   "outputs": [],
   "source": [
    "from QQuantLib.DL.data_loading import load_probability"
   ]
  },
  {
   "cell_type": "code",
   "execution_count": null,
   "id": "ad51087e",
   "metadata": {},
   "outputs": [],
   "source": [
    "#Here we created the mandatory oracle\n",
    "n = 3\n",
    "N = 2**n\n",
    "x = np.arange(N)\n",
    "probability = x/np.sum(x)\n",
    "oracle = load_probability(probability)\n",
    "\n",
    "%qatdisplay oracle --depth 0 --svg\n",
    "\n",
    "#This will be the target state for grover and the list of qubits affected by Grover operator\n",
    "target = [0, 0, 1]\n",
    "index = range(oracle.arity)"
   ]
  },
  {
   "cell_type": "markdown",
   "id": "ada6702c",
   "metadata": {},
   "source": [
    "Now we have all mandatory inputs so we created the *CQPEAE* object. Following **MLAE class** convention other parameters can be provided with a python dictionary. In this case the following keys can be provided:\n",
    "\n",
    "* *auxiliar_qbits_number*: number of qubits for doing phase estimation (default: 8)\n",
    "* *shots*: number of shots (default: 100)\n",
    "* *qpu*: qpu solver\n",
    "* mcz_qlm: for using QLM multi-controlled Z gate (True, default) or using multiplexor implementation (False)"
   ]
  },
  {
   "cell_type": "code",
   "execution_count": null,
   "id": "e7eff22a",
   "metadata": {
    "scrolled": true
   },
   "outputs": [],
   "source": [
    "from QQuantLib.AE.ae_classical_qpe import CQPEAE"
   ]
  },
  {
   "cell_type": "code",
   "execution_count": null,
   "id": "23a80ef7",
   "metadata": {},
   "outputs": [],
   "source": [
    "ae_pe_qft_dict = {\n",
    "    'qpu': linalg_qpu,\n",
    "    'auxiliar_qbits_number': 4,\n",
    "    'shots': 10,\n",
    "    'mcz_qlm': False    \n",
    "}\n",
    "\n",
    "ae_pe_qft = CQPEAE(\n",
    "    oracle=oracle,\n",
    "    target=target,\n",
    "    index=index, \n",
    "    **ae_pe_qft_dict\n",
    ")"
   ]
  },
  {
   "cell_type": "markdown",
   "id": "d10c338c",
   "metadata": {},
   "source": [
    "When instantiated the *CQPEAE* class the *Grover* operator associated to the oracle operator is created. It can be access using attribute *_grover_oracle*."
   ]
  },
  {
   "cell_type": "code",
   "execution_count": null,
   "id": "a3208213",
   "metadata": {},
   "outputs": [],
   "source": [
    "grover_circ = ae_pe_qft._grover_oracle\n",
    "%qatdisplay grover_circ --depth 3 --svg"
   ]
  },
  {
   "cell_type": "markdown",
   "id": "260676b3",
   "metadata": {},
   "source": [
    "Now the *ae_pe_qft* object have all mandatory inputs for calling the *CQPE* class and executing the algorithm. The **run** method from **CQPEAE** class do this steps. Additionally when the *run* method is executed following properties from **CQPEAE** class are populated:\n",
    "\n",
    "* *cqpe*: this property is an object from the **CQPE** class that was initialized with corresponding arguments created by the **CQPEAE** class.\n",
    "* *final_results*: this is the final_results obtained from the *pe_qft* method of the property object *cqpe* (see section 2.3).\n",
    "* *theta*: estimated $\\theta$ obtained from **CQPE** algorithm\n",
    "* *ae* amplitude estimated solution based on  $a=cos^2 \\theta$\n",
    "* *run_time*: elapsed time of a complete execution of the **run** method\n",
    "\n"
   ]
  },
  {
   "cell_type": "code",
   "execution_count": null,
   "id": "2a26fe7d",
   "metadata": {},
   "outputs": [],
   "source": [
    "a_estimated = ae_pe_qft.run()"
   ]
  },
  {
   "cell_type": "code",
   "execution_count": null,
   "id": "588a555c",
   "metadata": {},
   "outputs": [],
   "source": [
    "print('a_estimated = ',a_estimated) \n",
    "print('ae_pe_withQFT.theta= ', ae_pe_qft.final_results)\n",
    "print('ae_pe_withQFT.theta= ', ae_pe_qft.theta)\n",
    "print('ae_pe_withQFT.a= ', ae_pe_qft.ae)\n",
    "print(\"Classical result: \",probability[1])"
   ]
  },
  {
   "cell_type": "code",
   "execution_count": null,
   "id": "74adc62f",
   "metadata": {},
   "outputs": [],
   "source": [
    "print('Test OK: ',np.abs(ae_pe_qft.ae-probability[1])< 0.005)"
   ]
  },
  {
   "cell_type": "code",
   "execution_count": null,
   "id": "af7ce4e8",
   "metadata": {},
   "outputs": [],
   "source": [
    "print('Elapsed time for run method: ',ae_pe_qft.run_time)"
   ]
  },
  {
   "cell_type": "markdown",
   "id": "78aae604",
   "metadata": {},
   "source": [
    "Of course the configuration of the algorithm can be changed by setting the attributes of the class an calling the *run* method again!!"
   ]
  },
  {
   "cell_type": "code",
   "execution_count": null,
   "id": "4569e6da",
   "metadata": {
    "scrolled": true
   },
   "outputs": [],
   "source": [
    "print(ae_pe_qft.auxiliar_qbits_number)"
   ]
  },
  {
   "cell_type": "code",
   "execution_count": null,
   "id": "9d016c26",
   "metadata": {},
   "outputs": [],
   "source": [
    "ae_pe_qft.auxiliar_qbits_number = 10\n",
    "print(ae_pe_qft.auxiliar_qbits_number)"
   ]
  },
  {
   "cell_type": "code",
   "execution_count": null,
   "id": "5d4eee54",
   "metadata": {},
   "outputs": [],
   "source": [
    "#run method again\n",
    "a_estimated = ae_pe_qft.run()"
   ]
  },
  {
   "cell_type": "code",
   "execution_count": null,
   "id": "70fd2c10",
   "metadata": {},
   "outputs": [],
   "source": [
    "print('a_estimated = ',a_estimated) \n",
    "print('ae_pe_withQFT.theta= ', ae_pe_qft.theta)\n",
    "print('ae_pe_withQFT.a= ', ae_pe_qft.ae)\n",
    "print(\"Classical result: \",probability[1])"
   ]
  },
  {
   "cell_type": "code",
   "execution_count": null,
   "id": "ee35acea",
   "metadata": {},
   "outputs": [],
   "source": [
    "print('Elapsed time for run method: ',ae_pe_qft.run_time)"
   ]
  },
  {
   "cell_type": "markdown",
   "id": "6eeb8d8f",
   "metadata": {},
   "source": [
    "As explained before, **cqpe** attribute from *CQPEAE* class is an object created from class **CQPE** so all the methods and attributes of this class can be accessed using the **cqpe** attribute (**NOT RECOMMENDED**).\n",
    "\n",
    "We can acces to the quantum circuit used by the **CQPE**"
   ]
  },
  {
   "cell_type": "code",
   "execution_count": null,
   "id": "3f4c4fff",
   "metadata": {},
   "outputs": [],
   "source": [
    "#First we access to the attribute they stores the CQPE object\n",
    "attribute_pewqtf = ae_pe_qft.cqpe\n",
    "#Then we take the circuit attribute from the PhaseEstimationwQFT object (see above in the notebook)\n",
    "c=attribute_pewqtf.circuit\n",
    "%qatdisplay c --svg --depth 0"
   ]
  },
  {
   "cell_type": "markdown",
   "id": "a34faccc",
   "metadata": {},
   "source": [
    "When the *run* method is executed following class attributes are populated:\n",
    "\n",
    "* *circuit_statistics*: python dictionary with the complete statistical information of the circuit.\n",
    "* *oracle_calls*: number of total oracle calls for a complete execution of the algorithm\n",
    "* *max_oracle_depth*: maximum number of applications of the oracle for the complete execution of the algorithm."
   ]
  },
  {
   "cell_type": "code",
   "execution_count": null,
   "id": "d2f1ce04",
   "metadata": {
    "scrolled": true
   },
   "outputs": [],
   "source": [
    "ae_pe_qft.circuit_statistics"
   ]
  },
  {
   "cell_type": "code",
   "execution_count": null,
   "id": "8bad9c7c",
   "metadata": {},
   "outputs": [],
   "source": [
    "#Total number of oracle calls\n",
    "print(\"The total number of the oracle calls for the CQPEAE was: {}\".format(ae_pe_qft.oracle_calls))"
   ]
  },
  {
   "cell_type": "code",
   "execution_count": null,
   "id": "ed51f7c4",
   "metadata": {},
   "outputs": [],
   "source": [
    "#Number of maximum oracle applications\n",
    "ae_pe_qft.max_oracle_depth"
   ]
  },
  {
   "cell_type": "code",
   "execution_count": null,
   "id": "1416ba07",
   "metadata": {},
   "outputs": [],
   "source": [
    "ae_pe_qft.quantum_times"
   ]
  },
  {
   "cell_type": "code",
   "execution_count": null,
   "id": "eb71226e",
   "metadata": {},
   "outputs": [],
   "source": [
    "ae_pe_qft.quantum_time"
   ]
  },
  {
   "cell_type": "code",
   "execution_count": null,
   "id": "e16461da",
   "metadata": {},
   "outputs": [],
   "source": []
  }
 ],
 "metadata": {
  "kernelspec": {
   "display_name": "Python 3 (ipykernel)",
   "language": "python",
   "name": "python3"
  },
  "language_info": {
   "codemirror_mode": {
    "name": "ipython",
    "version": 3
   },
   "file_extension": ".py",
   "mimetype": "text/x-python",
   "name": "python",
   "nbconvert_exporter": "python",
   "pygments_lexer": "ipython3",
   "version": "3.9.9"
  }
 },
 "nbformat": 4,
 "nbformat_minor": 5
}
