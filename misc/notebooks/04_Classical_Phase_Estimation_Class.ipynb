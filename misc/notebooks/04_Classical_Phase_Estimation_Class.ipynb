{
 "cells": [
  {
   "cell_type": "markdown",
   "id": "2f1c9d88",
   "metadata": {},
   "source": [
    "# Classical Phase Estimation (with QFT) Module\n",
    "\n",
    "The present notebook reviews the classical **Quantum Phase Estimation Algorithm**, which utilizes the inverse of the **Quantum Fourier Transform** ($\\mathcal{QFT}^\\dagger$) to estimate the eigenvalues (phases) of a unitary operator. From now on, we will refer to this algorithm as **CQPE**. The **CQPE** algorithm is implemented in the module `classical_qpe.py` of the package `PE` within the *QQuantLib* library (**QQuantLib/PE/classical_qpe.py**).\n",
    "\n",
    "This algorithm was developed as a Python class named `CQPE` inside the file **QQuantLib/PE/classical_qpe.py**.\n",
    "\n",
    "---\n",
    "\n",
    "## References\n",
    "\n",
    "The content of this notebook and its associated module are based on the following references:\n",
    "\n",
    "- **Brassard, G., Hoyer, P., Mosca, M., & Tapp, A. (2000).** Quantum amplitude amplification and estimation. AMS Contemporary Mathematics Series, 305. [arXiv:quant-ph/0005055v1](https://arxiv.org/abs/quant-ph/0005055v1)\n",
    "  \n",
    "- **NEASQC Deliverable:** D5.1: Review of state-of-the-art for Pricing and Computation of VaR. [PDF](https://www.neasqc.eu/wp-content/uploads/2021/06/NEASQC_D5.1_Review-of-state-of-the-art-for-Pricing-and-Computation-of-VaR_R2.0_Final.pdf)"
   ]
  },
  {
   "cell_type": "code",
   "execution_count": null,
   "id": "3f6029d9",
   "metadata": {},
   "outputs": [],
   "source": [
    "import sys\n",
    "sys.path.append(\"../../\")"
   ]
  },
  {
   "cell_type": "code",
   "execution_count": null,
   "id": "56c42b50",
   "metadata": {},
   "outputs": [],
   "source": [
    "import numpy as np\n",
    "import pandas as pd\n",
    "import matplotlib.pyplot as plt\n",
    "import qat.lang.AQASM as qlm"
   ]
  },
  {
   "cell_type": "code",
   "execution_count": null,
   "id": "67d69543",
   "metadata": {
    "scrolled": true
   },
   "outputs": [],
   "source": [
    "%matplotlib inline"
   ]
  },
  {
   "cell_type": "code",
   "execution_count": null,
   "id": "8e8cf3ca",
   "metadata": {
    "scrolled": true
   },
   "outputs": [],
   "source": [
    "#This cell loads the QLM solver. See notebook: 00_AboutTheNotebooksAndQPUs.ipynb\n",
    "from QQuantLib.qpu.get_qpu import get_qpu\n",
    "# myqlm qpus: python, c\n",
    "# QLM qpus accessed using Qaptiva Access library: qlmass_linalg, qlmass_mps\n",
    "# QLM qpus: Only in local Quantum Learning Machine: linalg, mps\n",
    "my_qpus = [\"python\", \"c\", \"qlmass_linalg\", \"qlmass_mps\", \"linalg\", \"mps\"]\n",
    "\n",
    "linalg_qpu = get_qpu(my_qpus[1])"
   ]
  },
  {
   "cell_type": "code",
   "execution_count": null,
   "id": "b937e234",
   "metadata": {},
   "outputs": [],
   "source": [
    "#See 01_DataLoading_Module_Use for the use of this function\n",
    "from QQuantLib.utils.data_extracting import get_results"
   ]
  },
  {
   "cell_type": "markdown",
   "id": "b3ded3e0",
   "metadata": {},
   "source": [
    "## 1. Example to use\n",
    "\n",
    "To illustrate how the `CQPE` class works, we will use the **Iterative Quantum Phase Estimation (IQPE)** example from the Qiskit textbook:\n",
    "\n",
    "- [Qiskit Tutorial: IQPE](https://github.com/Qiskit/qiskit-tutorials/blob/master/tutorials/algorithms/09_IQPE.ipynb)\n",
    "\n",
    "This notebook contains 2 different examples:\n",
    "- **IPE example with a 1-qubit gate for U**\n",
    "- **IPE example with a 2-qubit gate**\n",
    "\n",
    "The sections 2 and 3 will explain, step by step, how to use the `CQPE` class for solve the **IPE example with a 1-qubit gate for U** example. \n",
    "\n",
    "Section 4 will explain how to use the library solve the **IPE example with a 2-qubit gate**."
   ]
  },
  {
   "cell_type": "markdown",
   "id": "22dbece5",
   "metadata": {},
   "source": [
    "## 2. State and Unitary operator.\n",
    "\n",
    "In the **IPE example with a 1-qubit gate for U** from the Qiskit textbook, the main problem is to find the phase for the 1-qubit unitary operator. They use the  $\\mathcal{S}$ gate that has the following behaviour:\n",
    "\n",
    "$$\n",
    "\\mathcal{S}|1\\rangle = e^{i\\frac{\\pi}{2}}|1\\rangle.\n",
    "$$\n",
    "\n",
    "This means that the $\\mathcal{S}$ gate introduces a phase shift of $\\frac{\\pi}{2}$ radians to the state $|1\\rangle$, leaving it unchanged otherwise.\n",
    "\n",
    "To use the `CQPE` Python class from the module **QQuantLib/PE/classical_pe**, two mandatory inputs must be provided:\n",
    "\n",
    "1. **Initial State**: This is the initial quantum state required for applying the unitary operator ($|1\\rangle$ in the Qiskit example). The initial state can be provided as:\n",
    "    - A QLM QRoutine.\n",
    "    - A QLM gate (or abstract gate).\n",
    "2. **Unitary Operator**: This is the operator whose phase we aim to estimate ($\\mathcal{S}$ gate in the Qiskit example). The unitary operator can be provided as:\n",
    "    - A QLM QRoutine.\n",
    "    - A QLM gate (or abstract gate).    \n",
    "\n"
   ]
  },
  {
   "cell_type": "code",
   "execution_count": null,
   "id": "3367bb1f",
   "metadata": {},
   "outputs": [],
   "source": [
    "# Initial quantum state\n",
    "#Number Of Qubits\n",
    "n_qbits = 1\n",
    "initial_state = qlm.QRoutine()\n",
    "q_bits = initial_state.new_wires(n_qbits)\n",
    "for i in range(n_qbits):\n",
    "    initial_state.apply(qlm.X, q_bits[i])"
   ]
  },
  {
   "cell_type": "code",
   "execution_count": null,
   "id": "4b499f06",
   "metadata": {
    "scrolled": false
   },
   "outputs": [],
   "source": [
    "%qatdisplay initial_state --svg"
   ]
  },
  {
   "cell_type": "code",
   "execution_count": null,
   "id": "b30c1e91",
   "metadata": {},
   "outputs": [],
   "source": [
    "# unitary operator\n",
    "unitary_operator = qlm.PH(np.pi/2.0)  "
   ]
  },
  {
   "cell_type": "code",
   "execution_count": null,
   "id": "c096de02",
   "metadata": {},
   "outputs": [],
   "source": [
    "%qatdisplay unitary_operator --svg"
   ]
  },
  {
   "cell_type": "markdown",
   "id": "f047e0c8",
   "metadata": {},
   "source": [
    "## 3. Class CQPE: Classical Quantum Phase Estimation Algorithm Step by Step\n",
    "\n",
    "The problem of phase estimation can be formulated as follows. Given an initial state $|\\Psi\\rangle$ and a phase operator $\\mathcal{Q}$ such that:\n",
    "\n",
    "$$\n",
    "\\mathcal{Q}|\\Psi\\rangle = e^{2\\pi i \\lambda}|\\Psi\\rangle,\n",
    "$$\n",
    "\n",
    "our objective is to estimate the value of $\\lambda$.\n",
    "\n",
    "So far, we have the initial state $|\\Psi\\rangle = |1\\rangle$ and the unitary operator whose phase we aim to estimate, $\\mathcal{Q} = \\mathcal{S}$. In this section, we will describe the class step by step and explain the fundamentals of the **CQPE** algorithm.\n",
    "\n",
    "---\n",
    "\n",
    "### 3.1 Calling the `CQPE` Class\n",
    "\n",
    "The `CQPE` class is located in the **QQuantLib/PE/classical_qpe** module.\n",
    "\n",
    "To instantiate the class, the user must provide a Python dictionary with the following mandatory keys:\n",
    "\n",
    "- `initial_state`: A QLM routine or gate with an initial state $|\\Psi\\rangle$ (created in Section 1).\n",
    "- `unitary_operator`: A QLM gate or routine representing the unitary operator to be applied to the initial state $|\\Psi\\rangle$ (also created in Section 1).\n",
    "\n",
    "Additionally, the following optional keys can be used to configure the method:\n",
    "\n",
    "- `auxiliar_qbits_number`: The number of auxiliary qubits ($m$) used for phase estimation (default: 8). This determines the precision of the phase estimation, which scales as $\\frac{1}{2^m}$.\n",
    "- `qpu`: myQLM or QLM QPU. If not provided, the class attempts to create a PyLinalg solver. It is highly recommended to specify this key.\n",
    "- `shots`: The number of measurement shots for the quantum job (default: 10).\n",
    "- `complete`: If set to `True`, all possible states will be returned when `shots` is greater than zero.\n",
    "\n",
    "These parameters allow users to customize the behavior of the algorithm according to their specific requirements."
   ]
  },
  {
   "cell_type": "code",
   "execution_count": null,
   "id": "09816d49",
   "metadata": {},
   "outputs": [],
   "source": [
    "#Load Class\n",
    "from QQuantLib.PE.classical_qpe import CQPE"
   ]
  },
  {
   "cell_type": "code",
   "execution_count": null,
   "id": "c9f37f79",
   "metadata": {},
   "outputs": [],
   "source": [
    "auxiliar_qbits_number = 2\n",
    "#We create a python dictionary for configuration of class\n",
    "qft_pe_dict = {\n",
    "    'initial_state': initial_state,\n",
    "    'unitary_operator': unitary_operator,\n",
    "    'qpu' : linalg_qpu,\n",
    "    'auxiliar_qbits_number' : auxiliar_qbits_number,\n",
    "    #'complete': True,\n",
    "    'shots':10\n",
    "}\n",
    "qft_pe = CQPE(**qft_pe_dict)"
   ]
  },
  {
   "cell_type": "markdown",
   "id": "3e8af83a",
   "metadata": {},
   "source": [
    "When the class is instantiated the properties *initial_state* and *q_gate* are overwritten with the given keys **initial_state** and **unitary_operator** respectively"
   ]
  },
  {
   "cell_type": "code",
   "execution_count": null,
   "id": "720f6786",
   "metadata": {},
   "outputs": [],
   "source": [
    "c = qft_pe.initial_state\n",
    "%qatdisplay c --svg"
   ]
  },
  {
   "cell_type": "code",
   "execution_count": null,
   "id": "f5349a22",
   "metadata": {},
   "outputs": [],
   "source": [
    "a = qft_pe.q_gate\n",
    "%qatdisplay a --depth 2 --svg"
   ]
  },
  {
   "cell_type": "markdown",
   "id": "47d54163",
   "metadata": {},
   "source": [
    "### 3.2 Classical Quantum Phase Estimation Algorithm\n",
    "\n",
    "The classical **QPE** algorithm consists of the following steps:\n",
    "\n",
    "1. **Allocate State Qubits**: Determine the number of qubits required for the initial state operator $\\mathcal{Q}$.\n",
    "2. **Allocate Auxiliary Qubits**: Allocate $m$ additional qubits, where the phase information will be encoded.\n",
    "3. **Apply Hadamard Gates**: Apply a Hadamard gate to each auxiliary qubit to create a superposition of states.\n",
    "4. **Controlled Unitary Operations**: Each auxiliary qubit applies a controlled $2^i$ power of the unitary operator to the initial state. Here, $i$ corresponds to the position of the auxiliary qubit.\n",
    "5. **Inverse Quantum Fourier Transform**: Apply the inverse of the Quantum Fourier Transform ($\\mathcal{QFT}^\\dagger$) to the auxiliary qubits.\n",
    "6. **Measurement**: Measure the auxiliary qubits and convert the measurement outcomes into an integer value $y$.\n",
    "7. **Compute Phase**: Calculate the estimated phase using the formula:\n",
    "   $$\n",
    "   \\lambda = \\frac{y}{2^m}.\n",
    "   $$\n",
    "\n",
    "To execute this workflow, the **run** method of the class should be invoked. The resulting measurements are stored in a pandas DataFrame within the class attribute `result`, which includes the following columns:\n",
    "\n",
    "- `States`: Possible quantum states of the auxiliary qubits.\n",
    "- `Int_lsb`: Conversion of the quantum state to an integer following the **least significant bit (LSB)** convention (the rightmost bit is the least significant).\n",
    "- `Probability`: Computed frequency of each quantum state.\n",
    "- `Int`: Conversion of the quantum state to an integer following the **most significant bit (MSB)** convention (the rightmost bit is the most significant).\n",
    "- `lambda`: The estimated phase obtained from the measurements.\n",
    "\n",
    "The contents of the `result` DataFrame depend on the values of the input variables `shots` and `complete`:\n",
    "- If `shots` is set to zero or `complete` is `True`, the DataFrame will include all possible quantum states.\n",
    "- If `shots` is greater than zero and `complete` is `False`, only the measured states will be included in the results."
   ]
  },
  {
   "cell_type": "code",
   "execution_count": null,
   "id": "f5d85fbc",
   "metadata": {},
   "outputs": [],
   "source": [
    "qft_pe.run()"
   ]
  },
  {
   "cell_type": "code",
   "execution_count": null,
   "id": "61548f69",
   "metadata": {},
   "outputs": [],
   "source": [
    "c = qft_pe.circuit\n",
    "%qatdisplay c --svg"
   ]
  },
  {
   "cell_type": "code",
   "execution_count": null,
   "id": "ddb755ac",
   "metadata": {
    "scrolled": true
   },
   "outputs": [],
   "source": [
    "qft_pe.result"
   ]
  },
  {
   "cell_type": "markdown",
   "id": "d80f484e",
   "metadata": {},
   "source": [
    "In the case of the *Qiskit* example provided:\n",
    "\n",
    "$$\n",
    "i\\frac{\\pi}{2} = 2\\pi i \\lambda,\n",
    "$$\n",
    "\n",
    "the desired solution corresponds to:\n",
    "\n",
    "$$\n",
    "\\lambda = \\frac{1}{4}.\n",
    "$$\n",
    "\n",
    "In the previous scenario, we set the *complete* variable to **True**, ensuring that all possible states are returned. In this context, the $\\lambda$ value is determined by selecting the state with the highest probability, yielding:\n",
    "\n",
    "$$\n",
    "\\lambda = 0.25.\n",
    "$$\n",
    "\n",
    "This result aligns with the expected outcome from the *Qiskit* example, confirming the accuracy of our phase estimation process."
   ]
  },
  {
   "cell_type": "code",
   "execution_count": null,
   "id": "57a98653",
   "metadata": {},
   "outputs": [],
   "source": [
    "qft_pe.result.sort_values('Probability', ascending=False).iloc[0]['lambda']"
   ]
  },
  {
   "cell_type": "markdown",
   "id": "f935db20",
   "metadata": {},
   "source": [
    "If `shots` is different of zero and  `complete` is set to `False` only the measured states will be returned!!"
   ]
  },
  {
   "cell_type": "code",
   "execution_count": null,
   "id": "6b54177d",
   "metadata": {},
   "outputs": [],
   "source": [
    "auxiliar_qbits_number = 2\n",
    "#We create a python dictionary for configuration of class\n",
    "qft_pe_dict = {\n",
    "    'initial_state': initial_state,\n",
    "    'unitary_operator': unitary_operator,\n",
    "    'qpu' : linalg_qpu,\n",
    "    'auxiliar_qbits_number' : auxiliar_qbits_number,\n",
    "    'complete': False,\n",
    "    'shots':100\n",
    "}\n",
    "qft_pe = CQPE(**qft_pe_dict)\n",
    "qft_pe.run()\n",
    "qft_pe.result"
   ]
  },
  {
   "cell_type": "markdown",
   "id": "9bdd8b0b",
   "metadata": {},
   "source": [
    "Addtitionally the attribute `quantum_times` measures the time for the quantum part of the algorithm (or simulated)"
   ]
  },
  {
   "cell_type": "code",
   "execution_count": null,
   "id": "0727d1de",
   "metadata": {},
   "outputs": [],
   "source": [
    "qft_pe.quantum_times"
   ]
  },
  {
   "cell_type": "markdown",
   "id": "d0665fbc",
   "metadata": {},
   "source": [
    "## 4.  IPE example with a 2-qubit gate\n",
    "\n",
    "We will now reproduce the Qiskit example from the section **IPE example with a 2-qubit gate** (available in [Qiskit Tutorials](https://github.com/Qiskit/qiskit-tutorials/blob/master/tutorials/algorithms/09_IQPE.ipynb)).\n",
    "\n",
    "In this scenario, the example uses **2 qubits** to estimate the phase of a unitary operator $\\mathcal{cT}$. This operator introduces a phase shift of $\\frac{\\pi}{4}$ radians specifically to the state $|11\\rangle$, leaving all other states unchanged. Mathematically, this behavior is expressed as:\n",
    "\n",
    "$$\n",
    "\\mathcal{cT} |11\\rangle = e^{i\\frac{\\pi}{4}} |11\\rangle.\n",
    "$$\n",
    "\n",
    "From the phase estimation convention, we can derive the relationship between the phase shift and the parameter $\\lambda$:\n",
    "\n",
    "$$\n",
    "i\\frac{\\pi}{4} = 2\\pi i \\lambda.\n",
    "$$\n",
    "\n",
    "Solving for $\\lambda$, we obtain:\n",
    "\n",
    "$$\n",
    "\\lambda = \\frac{1}{8}.\n",
    "$$\n",
    "\n",
    "This value of $\\lambda$ represents the desired solution for the phase estimation problem in this example."
   ]
  },
  {
   "cell_type": "code",
   "execution_count": null,
   "id": "1524fd8a",
   "metadata": {},
   "outputs": [],
   "source": [
    "#create initial state\n",
    "n_qbits = 2\n",
    "initial_state = qlm.QRoutine()\n",
    "q_bits = initial_state.new_wires(n_qbits)\n",
    "for i in range(n_qbits):\n",
    "    initial_state.apply(qlm.X, q_bits[i])"
   ]
  },
  {
   "cell_type": "code",
   "execution_count": null,
   "id": "c188515c",
   "metadata": {},
   "outputs": [],
   "source": [
    "%qatdisplay initial_state --svg"
   ]
  },
  {
   "cell_type": "code",
   "execution_count": null,
   "id": "01c1fc84",
   "metadata": {},
   "outputs": [],
   "source": [
    "#Create cT operator\n",
    "unitary_operator = qlm.QRoutine()\n",
    "uq_qbits = unitary_operator.new_wires(n_qbits)\n",
    "unitary_operator.apply(qlm.PH(np.pi/4.0).ctrl(), 0, 1)"
   ]
  },
  {
   "cell_type": "code",
   "execution_count": null,
   "id": "732f8090",
   "metadata": {},
   "outputs": [],
   "source": [
    "%qatdisplay unitary_operator --svg"
   ]
  },
  {
   "cell_type": "code",
   "execution_count": null,
   "id": "33a6a0c6",
   "metadata": {},
   "outputs": [],
   "source": [
    "#now PE with QFT!!\n",
    "n_cbits = 3\n",
    "#We create a python dictionary for configuration of class\n",
    "qft_pe_dict = {\n",
    "    'initial_state': initial_state,\n",
    "    'unitary_operator': unitary_operator,\n",
    "    'qpu' : linalg_qpu,\n",
    "    'auxiliar_qbits_number' : n_cbits,  \n",
    "    'shots': 100,\n",
    "    'complete': False\n",
    "}\n",
    "qft_pe = CQPE(**qft_pe_dict)"
   ]
  },
  {
   "cell_type": "code",
   "execution_count": null,
   "id": "d84185ca",
   "metadata": {},
   "outputs": [],
   "source": [
    "qft_pe.run()"
   ]
  },
  {
   "cell_type": "code",
   "execution_count": null,
   "id": "0610d16e",
   "metadata": {},
   "outputs": [],
   "source": [
    "qft_pe.result.sort_values('Probability', ascending = False)"
   ]
  },
  {
   "cell_type": "markdown",
   "id": "bb62d2ee",
   "metadata": {},
   "source": [
    "The result for $\\varphi=0.125$ that is the value obtained in the Qiskit example."
   ]
  },
  {
   "cell_type": "markdown",
   "id": "4786981c",
   "metadata": {},
   "source": [
    "## 5. Application to Amplitude Estimation\n",
    "\n",
    "The problem of **Amplitude Estimation** can be formulated as follows: Given an oracle operator $\\mathcal{A}$ with the following behavior:\n",
    "\n",
    "$$\n",
    "|\\Psi\\rangle = \\mathcal{A}|0\\rangle = \\sqrt{a}|\\Psi_0\\rangle + \\sqrt{1-a}|\\Psi_1\\rangle,\n",
    "$$\n",
    "\n",
    "where $|\\Psi_0\\rangle$ and $|\\Psi_1\\rangle$ are orthogonal states, our goal is to estimate $\\sqrt{a}$. \n",
    "\n",
    "A naive solution involves measuring the system $N$ times to estimate the probability of obtaining $|\\Psi_0\\rangle$. In this case, the error in estimating $\\sqrt{a}$ scales as:\n",
    "\n",
    "$$\n",
    "\\epsilon_a \\sim \\frac{1}{\\sqrt{N}}.\n",
    "$$\n",
    "\n",
    "It is often useful to express this error in terms of the number of oracle calls, $N_{\\mathcal{A}}$. For the naive approach, it can be shown that:\n",
    "\n",
    "$$\n",
    "\\epsilon_a \\sim \\frac{1}{\\sqrt{N_{\\mathcal{A}}}}.\n",
    "$$\n",
    "\n",
    "However, the classical **Phase Estimation** algorithm with **QFT** can achieve a quadratic speedup in solving **Amplitude Estimation** problems.\n",
    "\n",
    "To apply the **Phase Estimation** algorithm to **Amplitude Estimation**, the following steps should be followed:\n",
    "\n",
    "1. **Substitution**: Replace $\\sqrt{a}$ with $\\sin(\\theta)$:\n",
    "   $$\n",
    "   \\sqrt{a} = \\sin(\\theta).\n",
    "   $$\n",
    "\n",
    "2. **Rewriting the Oracle Operator**: The action of the oracle operator becomes:\n",
    "   $$\n",
    "   |\\Psi\\rangle = \\mathcal{A}|0\\rangle = \\sqrt{a}|\\Psi_0\\rangle + \\sqrt{1-a}|\\Psi_1\\rangle = \\sin(\\theta)|\\Psi_0\\rangle + \\cos(\\theta)|\\Psi_1\\rangle. \\tag{1}\n",
    "   $$\n",
    "\n",
    "3. **Creating the Grover-like Operator**: Construct the Grover-like operator for the oracle operator $\\mathcal{A}$:\n",
    "   $$\n",
    "   \\mathbf{G}(\\mathcal{A}) = \\mathcal{A} \\left(\\hat{I} - 2|0\\rangle\\langle 0|\\right) \\mathcal{A}^\\dagger \\left(\\hat{I} - 2|\\Psi_0\\rangle\\langle \\Psi_0|\\right).\n",
    "   $$\n",
    "\n",
    "With these substitutions, the classical **Phase Estimation** algorithm can now be applied directly by replacing:\n",
    "\n",
    "$$\n",
    "\\begin{aligned}\n",
    "& |\\Psi\\rangle \\longrightarrow \\mathcal{A}|0\\rangle, \\\\\n",
    "& \\mathcal{Q} \\longrightarrow \\mathbf{G}(\\mathcal{A}).\n",
    "\\end{aligned}\n",
    "$$\n",
    "\n",
    "It can be demonstrated that the $\\mathbf{G}(\\mathcal{A})$ operator represents a rotation in the plane by an angle $2\\theta$, expressed as:\n",
    "\n",
    "$$\n",
    "\\mathbf{G}(\\mathcal{A}) =\n",
    "\\begin{pmatrix}\n",
    "\\cos(2\\theta) & -\\sin(2\\theta) \\\\\n",
    "\\sin(2\\theta) & \\cos(2\\theta)\n",
    "\\end{pmatrix}.\n",
    "$$\n",
    "\n",
    "Thus, the eigenvalues of $\\mathbf{G}(\\mathcal{A})$ are given by $e^{\\pm i2\\theta}$.\n",
    "\n",
    "Using the phase estimation convention:\n",
    "\n",
    "$$\n",
    "i2\\theta = 2\\pi i \\lambda,\n",
    "$$\n",
    "\n",
    "we arrive at:\n",
    "\n",
    "$$\n",
    "\\theta = \\pi \\lambda.\n",
    "$$\n",
    "\n",
    "It can be shown that when using the classical **Phase Estimation** algorithm, the error in estimating $\\theta$ (and consequently $\\sqrt{a}$) scales as:\n",
    "\n",
    "$$\n",
    "\\epsilon_\\theta \\sim \\frac{1}{N_{\\mathcal{A}}}.\n",
    "$$\n",
    "\n",
    "This quadratic improvement in error scaling demonstrates the significant advantage of the **Phase Estimation** algorithm over the naive solution."
   ]
  },
  {
   "cell_type": "markdown",
   "id": "c9ec3665",
   "metadata": {},
   "source": [
    "### 5.1 Using *CQPE* class for *Amplitude Estimation*\n",
    "\n",
    "In this section, we will demonstrate how to use the **CQPE** class to solve **Amplitude Estimation** problems.\n",
    "\n",
    "#### Defining the Amplitude Estimation Problem\n",
    "\n",
    "We begin by defining the following amplitude estimation problem:\n",
    "\n",
    "$$\n",
    "|\\Psi\\rangle = \\mathcal{A}|0\\rangle = \\frac{1}{\\sqrt{0+1+2+3+4+5+6+7+8}} \\left[\\sqrt{0}|0\\rangle + \\sqrt{1}|1\\rangle + \\sqrt{2}|2\\rangle + \\sqrt{3}|3\\rangle + \\sqrt{4}|4\\rangle + \\sqrt{5}|5\\rangle + \\sqrt{6}|6\\rangle + \\sqrt{7}|7\\rangle \\right]. \\tag{2}\n",
    "$$\n",
    "\n",
    "By comparing equation (2) with the general form of the state in equation (1):\n",
    "\n",
    "$$\n",
    "\\sqrt{a}|\\Psi_0\\rangle = \\sin(\\theta)|\\Psi_0\\rangle = \\frac{\\sqrt{1}}{\\sqrt{0+1+2+3+4+5+6+7+8}}|1\\rangle,\n",
    "$$\n",
    "\n",
    "and\n",
    "\n",
    "$$\n",
    "\\sqrt{1-a}|\\Psi_1\\rangle = \\cos(\\theta)|\\Psi_1\\rangle = \\frac{1}{\\sqrt{0+1+2+3+4+5+6+7+8}} \\left[\\sqrt{0}|0\\rangle + \\sqrt{2}|2\\rangle + \\sqrt{3}|3\\rangle + \\sqrt{4}|4\\rangle + \\sqrt{5}|5\\rangle + \\sqrt{6}|6\\rangle + \\sqrt{7}|7\\rangle \\right].\n",
    "$$\n",
    "\n",
    "Here:\n",
    "- The target state $|\\Psi_0\\rangle$ corresponds to $|1\\rangle$, and its amplitude is proportional to $\\sin(\\theta)$.\n",
    "- The remaining states collectively form $|\\Psi_1\\rangle$, with an amplitude proportional to $\\cos(\\theta)$.\n",
    "\n",
    "#### Creating the Initial State\n",
    "\n",
    "The subsequent cells will construct the initial state $|\\Psi\\rangle = \\mathcal{A}|0\\rangle$, which serves as the starting point for our amplitude estimation process. This involves loading the specified probability distribution into a quantum state using the appropriate functions from the library."
   ]
  },
  {
   "cell_type": "code",
   "execution_count": null,
   "id": "91ee7f59",
   "metadata": {},
   "outputs": [],
   "source": [
    "from QQuantLib.DL.data_loading import load_probability\n",
    "from QQuantLib.AA.amplitude_amplification import grover"
   ]
  },
  {
   "cell_type": "code",
   "execution_count": null,
   "id": "d30744a3",
   "metadata": {},
   "outputs": [],
   "source": [
    "n = 3\n",
    "N = 2**n\n",
    "x = np.arange(N)\n",
    "probability = x/np.sum(x)\n",
    "oracle = load_probability(probability)\n",
    "\n",
    "%qatdisplay oracle --depth 0 --svg"
   ]
  },
  {
   "cell_type": "markdown",
   "id": "6bff697c",
   "metadata": {},
   "source": [
    "Now we need to compute the Grover-like operator from the oracle operator $\\mathcal{A}$. The functions from `AA` module will be used (see notebook **02_Amplitude_Amplification_Operators.ipynb** for more information)"
   ]
  },
  {
   "cell_type": "code",
   "execution_count": null,
   "id": "9c97df50",
   "metadata": {},
   "outputs": [],
   "source": [
    "target = [0, 0, 1]\n",
    "index = range(oracle.arity)\n",
    "grover_gate = grover(oracle, target, index)\n",
    "#Comment before line and uncomment following for For multiplexor implementation of multi-controlled Z gate\n",
    "#grover_gate = grover(oracle, target, index, mcz_qlm=False)\n",
    "%qatdisplay grover_gate --depth 2 --svg"
   ]
  },
  {
   "cell_type": "markdown",
   "id": "13a39fd4",
   "metadata": {},
   "source": [
    "Now that we have translated our amplitude amplification problem to an phase estimation problem we proceed to use our class normally. We provide the *oracle* as the **initial_state** and the correspondent Grover-like operator as the **unitary_operator**. Additionally `auxiliar_qbits_number` for estimating the phase should be provided."
   ]
  },
  {
   "cell_type": "code",
   "execution_count": null,
   "id": "fee4a72c",
   "metadata": {},
   "outputs": [],
   "source": [
    "n_cbits = 8\n",
    "#We create a python dictionary for configuration of class\n",
    "qft_pe_dict = {\n",
    "    'initial_state': oracle,\n",
    "    'unitary_operator': grover_gate,\n",
    "    'qpu' : linalg_qpu,\n",
    "    'auxiliar_qbits_number' : n_cbits,  \n",
    "    'shots': 1000,\n",
    "    'complete':True #For getting all the posible 2^n_cbits states\n",
    "}\n",
    "qft_pe = CQPE(**qft_pe_dict)\n",
    "qft_pe.run()"
   ]
  },
  {
   "cell_type": "code",
   "execution_count": null,
   "id": "01e4234c",
   "metadata": {},
   "outputs": [],
   "source": [
    "#Using the circuit attribute for draw the complete routine\n",
    "c = qft_pe.circuit\n",
    "%qatdisplay c --svg"
   ]
  },
  {
   "cell_type": "code",
   "execution_count": null,
   "id": "20c9dfa6",
   "metadata": {},
   "outputs": [],
   "source": [
    "#We can plot the obtained the frequency vs the theta\n",
    "qft_pe.result.sort_values('lambda', inplace=True)\n",
    "plt.plot(qft_pe.result['lambda'], qft_pe.result['Probability'], 'o-')\n",
    "plt.xlabel(r'$\\lambda$')\n",
    "plt.ylabel('Probability')"
   ]
  },
  {
   "cell_type": "markdown",
   "id": "9c1dc59a",
   "metadata": {},
   "source": [
    "Now we can compute $\\theta = \\pi \\lambda$."
   ]
  },
  {
   "cell_type": "code",
   "execution_count": null,
   "id": "3ce88998",
   "metadata": {},
   "outputs": [],
   "source": [
    "qft_pe.result['theta'] = np.pi * qft_pe.result['lambda']"
   ]
  },
  {
   "cell_type": "code",
   "execution_count": null,
   "id": "8260efc0",
   "metadata": {},
   "outputs": [],
   "source": [
    "#We can plot the obtained the frequency vs the theta in the [0, pì/2] range\n",
    "qft_pe.result.sort_values('theta', inplace=True)\n",
    "plt.plot(qft_pe.result['theta'], qft_pe.result['Probability'], 'o-')\n",
    "plt.xlabel(r'$\\theta$')\n",
    "plt.ylabel('Probability')"
   ]
  },
  {
   "cell_type": "markdown",
   "id": "34ce7ca3",
   "metadata": {},
   "source": [
    "In this case, the 2 obtained maximums reflect the 2 *eigenvalues* of $\\mathbf{G}(\\mathcal{A})$: $\\pm\\theta$. In general it is useful to restrict $\\theta$ to the interval $(0, \\frac{\\pi}{2}$). This can be done in the following cell:"
   ]
  },
  {
   "cell_type": "code",
   "execution_count": null,
   "id": "487b13c3",
   "metadata": {},
   "outputs": [],
   "source": [
    "qft_pe.result['theta_90'] = qft_pe.result['theta']\n",
    "qft_pe.result['theta_90'].where(\n",
    "    qft_pe.result[\"theta_90\"] < 0.5 * np.pi,\n",
    "    np.pi - qft_pe.result[\"theta_90\"],\n",
    "    inplace=True,\n",
    ")"
   ]
  },
  {
   "cell_type": "code",
   "execution_count": null,
   "id": "5937647f",
   "metadata": {},
   "outputs": [],
   "source": [
    "#We can plot the obtained the frequency vs the theta in the [0, pì/2] range\n",
    "qft_pe.result.sort_values('theta_90', inplace=True)\n",
    "plt.plot(qft_pe.result['theta_90'], qft_pe.result['Probability'], 'o-')\n",
    "plt.xlabel(r'$\\theta$')\n",
    "plt.ylabel('Probability')\n",
    "plt.title(r'$\\theta \\in [0, \\frac{\\pi}{2}]$')"
   ]
  },
  {
   "cell_type": "markdown",
   "id": "2f66f32f",
   "metadata": {},
   "source": [
    "Finally, we need to compute the desired value of $a$. Based on the equations presented in the notebook, this can typically be calculated as:\n",
    "\n",
    "$$\n",
    "a = \\sin(\\theta)^2.\n",
    "$$\n",
    "\n",
    "**However, in our implementation of the Quantum Phase Estimation (QPE) algorithm, the convention has been modified. The following relationship MUST BE USED instead:**\n",
    "\n",
    "$$\n",
    "a = \\cos(\\theta)^2.\n",
    "$$\n",
    "\n",
    "This adjustment ensures consistency with the internal logic and conventions adopted in the implementation of the **CQPE** class. By using this modified relationship, we align the estimated amplitude $a$ with the expected results from the algorithm."
   ]
  },
  {
   "cell_type": "code",
   "execution_count": null,
   "id": "9fd69606",
   "metadata": {},
   "outputs": [],
   "source": [
    "qft_pe.result['a']=np.cos(qft_pe.result['theta_90'])**2"
   ]
  },
  {
   "cell_type": "code",
   "execution_count": null,
   "id": "4b285c43",
   "metadata": {},
   "outputs": [],
   "source": [
    "#We can plot the obtained a vs the theta in the [0, pì/2] range\n",
    "plt.plot(qft_pe.result['a'], qft_pe.result['Probability'], 'o-')\n",
    "plt.xlabel(r'$a$')\n",
    "plt.ylabel('Probability')\n",
    "plt.title(r'$a \\in [0, 1]$')"
   ]
  },
  {
   "cell_type": "markdown",
   "id": "28dc4916",
   "metadata": {},
   "source": [
    "### What *a* Should Be Returned?\n",
    "\n",
    "From the perspective of the **QPE** algorithm applied to **AE**, one straightforward solution would be to return the most frequently measured value of $a$. However, in practice, this approach can be problematic due to imperfections in actual quantum computers. Current quantum hardware is prone to noise and errors, which may prevent the **QPE** algorithm from executing perfectly. As a result, the measured outcomes might deviate from the expected results of the ideal algorithm.\n",
    "\n",
    "To address this challenge, we propose using the **mean** of the probability distribution obtained from the measurements. This approach provides a more robust estimate of $a$, even in the presence of experimental uncertainties. The mean value $\\tilde{a}$ is computed as follows:\n",
    "\n",
    "$$\n",
    "\\tilde{a} = \\int a \\cdot p(a) \\, da = \\sum_{i} a[i] \\cdot P(a[i]),\n",
    "$$\n",
    "\n",
    "where:\n",
    "- $p(a)$ represents the probability of obtaining the value $a$.\n",
    "- Experimentally, $P(a[i])$ corresponds to the frequency with which each value $a[i]$ was observed, normalized by the total number of measurement shots executed.\n",
    "\n",
    "By calculating the mean of the measured distribution, we obtain a more reliable estimate of the amplitude $a$, accounting for potential inaccuracies introduced by the quantum hardware."
   ]
  },
  {
   "cell_type": "code",
   "execution_count": null,
   "id": "9bbb5f5e",
   "metadata": {},
   "outputs": [],
   "source": [
    "qft_pe.result.sort_values('Probability', inplace=True, ascending=False)\n",
    "mean_a = qft_pe.result['Probability'] @ qft_pe.result['a']"
   ]
  },
  {
   "cell_type": "code",
   "execution_count": null,
   "id": "1342c332",
   "metadata": {},
   "outputs": [],
   "source": [
    "print(\"Most frequent value of a: {}\".format(qft_pe.result['a'].iloc[0]))\n",
    "print(\"Mean value of a: {}\".format(mean_a))\n",
    "print(\"Classical result: \",probability[1])\n",
    "print('Test OK. Most Frequent Value: ', probability[1]- qft_pe.result['a'].iloc[0] < 0.005)\n",
    "print('Test OK. Mean Value: ', probability[1] - qft_pe.result['Probability'] @ qft_pe.result['a'] < 0.005)"
   ]
  },
  {
   "cell_type": "markdown",
   "id": "7b636409",
   "metadata": {},
   "source": [
    "### Associated Error of $a$\n",
    "\n",
    "In addition to estimating the value of $a$, we can compute an error associated with the estimator $\\tilde{a}$, denoted as $\\epsilon_a$. This error accounts for uncertainties in the estimation process and helps assess the reliability of the result.\n",
    "\n",
    "#### Ideal Quantum Computer:\n",
    "For the **Quantum Phase Estimation (QPE)** algorithm executed on an ideal quantum computer, the error depends on the number of auxiliary qubits ($m$) used for phase estimation. Specifically, the error is bounded by:\n",
    "\n",
    "$$\n",
    "\\epsilon_a^{QPE} < \\frac{2\\pi}{2^m}.\n",
    "$$\n",
    "\n",
    "This bound reflects the precision achievable with $m$ auxiliary qubits, where the phase estimation resolution improves exponentially with $m$.\n",
    "\n",
    "#### Actual Quantum Computer:\n",
    "On real quantum hardware, errors are more pronounced due to noise and imperfections. In such cases, the most straightforward approach to estimate the experimental error is to calculate the square root of the variance of the measured probability density. This experimental error, $\\epsilon_a^{P(a)}$, is given by:\n",
    "\n",
    "$$\n",
    "\\epsilon_a^{P(a)} = \\sqrt{\\int p(a) (a - \\tilde{a})^2 \\, da} = \\sqrt{\\sum_{i} (a[i] - \\tilde{a})^2 \\cdot P(a[i])},\n",
    "$$\n",
    "\n",
    "where:\n",
    "- $p(a)$ represents the probability density function of $a$,\n",
    "- $\\tilde{a}$ is the estimated value of $a$,\n",
    "- $P(a[i])$ is the experimentally measured frequency of each value $a[i]$.\n",
    "\n",
    "#### Combined Error:\n",
    "To account for both theoretical and experimental sources of error, the best approach is to take the maximum of the two errors:\n",
    "\n",
    "$$\n",
    "\\epsilon_a = \\max(\\epsilon_a^{QPE}, \\epsilon_a^{P(a)}).\n",
    "$$\n",
    "\n",
    "This ensures that the computed error $\\epsilon_a$ captures the worst-case scenario, whether it arises from limitations in the algorithm (ideal case) or noise in the quantum hardware (realistic case). By using this combined error metric, we can provide a robust estimate of the uncertainty in our amplitude estimation results."
   ]
  },
  {
   "cell_type": "code",
   "execution_count": null,
   "id": "df1e3b13",
   "metadata": {},
   "outputs": [],
   "source": [
    "eps_a_pa = (qft_pe.result['Probability'] @ ((qft_pe.result['a'] - mean_a) ** 2))**0.5\n",
    "eps_qpe = 2 * np.pi / 2 ** qft_pe.auxiliar_qbits_number\n",
    "epsilon = max([eps_a_pa, eps_qpe])\n",
    "print('QPE error: {} . Probability Density Error: {}'.format(eps_qpe, eps_a_pa))\n",
    "print('Total Error: {}'.format(epsilon))"
   ]
  },
  {
   "cell_type": "markdown",
   "id": "0abf5bb5",
   "metadata": {},
   "source": [
    "## 6. Amplitude Estimation with classical Quantum Phase Estimation\n",
    "\n",
    "In order to simplify **Amplitude Estimation** calculations performed with the **CQPE** class (see Section 3), the **CQPEAE** class (which stands for **C**lassical **Q**uantum **P**hase **E**stimation **A**mplitude **Estimation**) was developed. This class addresses the initial complexities outlined in Section 5, enabling a more streamlined approach for using **CQPE** in *Amplitude Estimation* calculations. The `CQPEAE` class is implemented in the module **ae_classical_qpe** of the *Amplitude Estimation* package within the *QQuantLib* library (**QQuantLib/AE/ae_classical_qpe**).\n",
    "\n",
    "#### Note:\n",
    "The design of the `CQPEAE` class follows a similar structure to the `MLAE` class from the **QQuantLib/AE/maximum_likelihood_ae** module.\n",
    "\n",
    "To create an instance of the `CQPEAE` class, the following inputs are mandatory:\n",
    "\n",
    "1. `oracle`: A QLM `AbstractGate` or `QRoutine` that implements the oracle required for constructing the Grover operator.\n",
    "2. `target`: The marked state in its binary representation, specified as a Python list.\n",
    "3. `index`: A list of qubits that will be affected by the Grover operator.\n",
    "\n",
    "These inputs ensure that the class is properly configured for executing amplitude estimation tasks efficiently and accurately."
   ]
  },
  {
   "cell_type": "code",
   "execution_count": null,
   "id": "da5c7edf",
   "metadata": {},
   "outputs": [],
   "source": [
    "from QQuantLib.DL.data_loading import load_probability"
   ]
  },
  {
   "cell_type": "code",
   "execution_count": null,
   "id": "ad51087e",
   "metadata": {},
   "outputs": [],
   "source": [
    "#Here we created the mandatory oracle\n",
    "n = 3\n",
    "N = 2**n\n",
    "x = np.arange(N)\n",
    "probability = x/np.sum(x)\n",
    "oracle = load_probability(probability)\n",
    "\n",
    "%qatdisplay oracle --depth 0 --svg\n",
    "\n",
    "#This will be the target state for grover and the list of qubits affected by Grover operator\n",
    "target = [0, 0, 1]\n",
    "index = range(oracle.arity)"
   ]
  },
  {
   "cell_type": "markdown",
   "id": "8f07a06f",
   "metadata": {},
   "source": [
    "Now that we have all the mandatory inputs, we can create the `CQPEAE` object. Following the conventions of the `MLAE` class, additional parameters can be provided through a Python dictionary. In this case, the following keys are available for configuration:\n",
    "\n",
    "- `auxiliar_qbits_number`: The number of qubits used for phase estimation (default: 8).\n",
    "- `shots`: The number of measurement shots to execute (default: 100).\n",
    "- `qpu`: The QPU solver to be used.\n",
    "- `mcz_qlm`: A boolean flag indicating whether to use the QLM multi-controlled Z gate (`True`, default) or the multiplexor implementation (`False`).\n",
    "\n",
    "These parameters allow users to customize the behavior of the `CQPEAE` class according to their specific requirements and computational resources."
   ]
  },
  {
   "cell_type": "code",
   "execution_count": null,
   "id": "e7eff22a",
   "metadata": {
    "scrolled": true
   },
   "outputs": [],
   "source": [
    "from QQuantLib.AE.ae_classical_qpe import CQPEAE"
   ]
  },
  {
   "cell_type": "code",
   "execution_count": null,
   "id": "23a80ef7",
   "metadata": {},
   "outputs": [],
   "source": [
    "ae_pe_qft_dict = {\n",
    "    'qpu': linalg_qpu,\n",
    "    'auxiliar_qbits_number': 4,\n",
    "    'shots': 1000,\n",
    "    'mcz_qlm': False    \n",
    "}\n",
    "\n",
    "ae_pe_qft = CQPEAE(\n",
    "    oracle=oracle,\n",
    "    target=target,\n",
    "    index=index, \n",
    "    **ae_pe_qft_dict\n",
    ")"
   ]
  },
  {
   "cell_type": "markdown",
   "id": "d10c338c",
   "metadata": {},
   "source": [
    "When instantiated the `CQPEAE` class the *Grover* operator associated to the oracle operator is created. It can be access using attribute `_grover_oracle`."
   ]
  },
  {
   "cell_type": "code",
   "execution_count": null,
   "id": "a3208213",
   "metadata": {},
   "outputs": [],
   "source": [
    "grover_circ = ae_pe_qft._grover_oracle\n",
    "%qatdisplay grover_circ --depth 2 --svg"
   ]
  },
  {
   "cell_type": "markdown",
   "id": "2dc6cee4",
   "metadata": {},
   "source": [
    "Now the `ae_pe_qft` object has all the mandatory inputs required to call the `CQPE` class and execute the algorithm. The `run` method of the `CQPEAE` class performs this step. Additionally, when the `run` method is executed, the following properties of the `CQPEAE` class are populated:\n",
    "\n",
    "- `cqpe`: This property is an object from the **CQPE** class, initialized with the corresponding arguments created by the **CQPEAE** class.\n",
    "- `final_results`: These are the final results obtained from the `pe_qft` method of the `cqpe` object (see Section 2.3).\n",
    "- `theta`: The estimated value of $\\theta$ obtained from the **CQPE** algorithm, computed as the mean of the probability distribution.\n",
    "- `ae`: The amplitude estimation solution based on $a = \\cos^2(\\theta)$.\n",
    "- `run_time`: The elapsed time for a complete execution of the **`run`** method.\n",
    "\n",
    "Additionally, the computed errors for $a$ can be accessed using the following attributes:\n",
    "\n",
    "- `epsilon_qpe`: Error due to the **QPE** algorithm.\n",
    "- `epsilon_prob`: Statistical error derived from the performed measurements.\n",
    "- `epsilon`: Final error, defined as the maximum of the two aforementioned errors ($\\epsilon_qpe$ and $\\epsilon_prob$)."
   ]
  },
  {
   "cell_type": "code",
   "execution_count": null,
   "id": "2a26fe7d",
   "metadata": {},
   "outputs": [],
   "source": [
    "a_estimated = ae_pe_qft.run()"
   ]
  },
  {
   "cell_type": "code",
   "execution_count": null,
   "id": "588a555c",
   "metadata": {},
   "outputs": [],
   "source": [
    "print('a_estimated = ',a_estimated) \n",
    "print('ae_pe_withQFT.theta= ', ae_pe_qft.final_results)\n",
    "print('ae_pe_withQFT.theta= ', ae_pe_qft.theta)\n",
    "print('ae_pe_withQFT.a= ', ae_pe_qft.ae)\n",
    "print(\"Classical result: \",probability[1])\n",
    "\n",
    "print('QPE error: ', ae_pe_qft.epsilon_qpe)\n",
    "print('Experimental error: ', ae_pe_qft.epsilon_prob)\n",
    "print('Final error: ', ae_pe_qft.epsilon)"
   ]
  },
  {
   "cell_type": "code",
   "execution_count": null,
   "id": "74adc62f",
   "metadata": {},
   "outputs": [],
   "source": [
    "print('Test OK: ',np.abs(ae_pe_qft.ae-probability[1])< 0.005)"
   ]
  },
  {
   "cell_type": "code",
   "execution_count": null,
   "id": "af7ce4e8",
   "metadata": {},
   "outputs": [],
   "source": [
    "print('Elapsed time for run method: ',ae_pe_qft.run_time)"
   ]
  },
  {
   "cell_type": "markdown",
   "id": "78aae604",
   "metadata": {},
   "source": [
    "Of course the configuration of the algorithm can be changed by setting the attributes of the class an calling the *run* method again!!"
   ]
  },
  {
   "cell_type": "code",
   "execution_count": null,
   "id": "4569e6da",
   "metadata": {
    "scrolled": true
   },
   "outputs": [],
   "source": [
    "print(ae_pe_qft.auxiliar_qbits_number)"
   ]
  },
  {
   "cell_type": "code",
   "execution_count": null,
   "id": "9d016c26",
   "metadata": {},
   "outputs": [],
   "source": [
    "ae_pe_qft.auxiliar_qbits_number = 10\n",
    "print(ae_pe_qft.auxiliar_qbits_number)"
   ]
  },
  {
   "cell_type": "code",
   "execution_count": null,
   "id": "5d4eee54",
   "metadata": {},
   "outputs": [],
   "source": [
    "#run method again\n",
    "a_estimated = ae_pe_qft.run()"
   ]
  },
  {
   "cell_type": "code",
   "execution_count": null,
   "id": "70fd2c10",
   "metadata": {},
   "outputs": [],
   "source": [
    "print('a_estimated = ',a_estimated) \n",
    "print('ae_pe_withQFT.theta= ', ae_pe_qft.theta)\n",
    "print('ae_pe_withQFT.a= ', ae_pe_qft.ae)\n",
    "print(\"Classical result: \",probability[1])\n",
    "\n",
    "print('QPE error: ', ae_pe_qft.epsilon_qpe)\n",
    "print('Experimental error: ', ae_pe_qft.epsilon_prob)\n",
    "print('Final error: ', ae_pe_qft.epsilon)"
   ]
  },
  {
   "cell_type": "code",
   "execution_count": null,
   "id": "ee35acea",
   "metadata": {},
   "outputs": [],
   "source": [
    "print('Elapsed time for run method: ',ae_pe_qft.run_time)"
   ]
  },
  {
   "cell_type": "markdown",
   "id": "6eeb8d8f",
   "metadata": {},
   "source": [
    "As explained before, the `cqpe` attribute from `CQPEAE` class is an object created from class `CQPE` so all the methods and attributes of this class can be accessed using the **cqpe** attribute (**NOT RECOMMENDED**).\n",
    "\n",
    "We can access to the quantum circuit used by the **CQPE**"
   ]
  },
  {
   "cell_type": "code",
   "execution_count": null,
   "id": "3f4c4fff",
   "metadata": {},
   "outputs": [],
   "source": [
    "#First we access to the attribute they stores the CQPE object\n",
    "attribute_pewqtf = ae_pe_qft.cqpe\n",
    "#Then we take the circuit attribute from the PhaseEstimationwQFT object (see above in the notebook)\n",
    "c=attribute_pewqtf.circuit\n",
    "%qatdisplay c --svg --depth 0"
   ]
  },
  {
   "cell_type": "markdown",
   "id": "a34faccc",
   "metadata": {},
   "source": [
    "When the `run` method is executed following class attributes are populated:\n",
    "\n",
    "* `circuit_statistics`: python dictionary with the complete statistical information of the circuit.\n",
    "* `oracle_calls`: number of total oracle calls for a complete execution of the algorithm\n",
    "* `max_oracle_depth`: maximum number of applications of the oracle for the complete execution of the algorithm."
   ]
  },
  {
   "cell_type": "code",
   "execution_count": null,
   "id": "d2f1ce04",
   "metadata": {
    "scrolled": true
   },
   "outputs": [],
   "source": [
    "ae_pe_qft.circuit_statistics"
   ]
  },
  {
   "cell_type": "code",
   "execution_count": null,
   "id": "8bad9c7c",
   "metadata": {},
   "outputs": [],
   "source": [
    "#Total number of oracle calls\n",
    "print(\"The total number of the oracle calls for the CQPEAE was: {}\".format(ae_pe_qft.oracle_calls))"
   ]
  },
  {
   "cell_type": "code",
   "execution_count": null,
   "id": "ed51f7c4",
   "metadata": {},
   "outputs": [],
   "source": [
    "#Number of maximum oracle applications\n",
    "ae_pe_qft.max_oracle_depth"
   ]
  },
  {
   "cell_type": "code",
   "execution_count": null,
   "id": "1416ba07",
   "metadata": {},
   "outputs": [],
   "source": [
    "ae_pe_qft.quantum_times"
   ]
  },
  {
   "cell_type": "code",
   "execution_count": null,
   "id": "eb71226e",
   "metadata": {},
   "outputs": [],
   "source": [
    "ae_pe_qft.quantum_time"
   ]
  }
 ],
 "metadata": {
  "kernelspec": {
   "display_name": "Python 3 (ipykernel)",
   "language": "python",
   "name": "python3"
  },
  "language_info": {
   "codemirror_mode": {
    "name": "ipython",
    "version": 3
   },
   "file_extension": ".py",
   "mimetype": "text/x-python",
   "name": "python",
   "nbconvert_exporter": "python",
   "pygments_lexer": "ipython3",
   "version": "3.9.9"
  }
 },
 "nbformat": 4,
 "nbformat_minor": 5
}
