{
 "cells": [
  {
   "cell_type": "markdown",
   "id": "43d8bde7",
   "metadata": {},
   "source": [
    "# Data Loading Module"
   ]
  },
  {
   "cell_type": "markdown",
   "id": "663cbbc4",
   "metadata": {},
   "source": [
    "The present notebook reviews the **dataloading** module from the *DL* package of the **QQuantLib** library (**QQuantLib/DL/data_loading.py**). This module focuses on loading data into quantum states or circuits, enabling the preparation of quantum states that correspond to specific probability distributions.\n",
    "\n",
    "The content of this notebook and the associated module are based on the following references:\n",
    "\n",
    "- **Grover, Lov, and Rudolph, Terry**. *Creating superpositions that correspond to efficiently integrable probability distributions*. arXiv (2002).  \n",
    "  [https://arxiv.org/abs/quant-ph/0208112](https://arxiv.org/abs/quant-ph/0208112)\n",
    "\n",
    "- **V.V. Shende, S.S. Bullock, and I.L. Markov**. *Synthesis of quantum-logic circuits*. IEEE Transactions on Computer-Aided Design of Integrated Circuits and Systems, 25(6):1000–1010, Jun 2006.  \n",
    "  [https://arxiv.org/abs/quant-ph/0406176v5](https://arxiv.org/abs/quant-ph/0406176v5)\n",
    "\n",
    "- **NEASQC Deliverable**: *D5.1: Review of state-of-the-art for Pricing and Computation of VaR*.  \n",
    "  [https://www.neasqc.eu/wp-content/uploads/2021/06/NEASQC_D5.1_Review-of-state-of-the-art-for-Pricing-and-Computation-of-VaR_R2.0_Final.pdf](https://www.neasqc.eu/wp-content/uploads/2021/06/NEASQC_D5.1_Review-of-state-of-the-art-for-Pricing-and-Computation-of-VaR_R2.0_Final.pdf)"
   ]
  },
  {
   "cell_type": "code",
   "execution_count": null,
   "id": "4465353b",
   "metadata": {},
   "outputs": [],
   "source": [
    "import sys\n",
    "sys.path.append(\"../../\")"
   ]
  },
  {
   "cell_type": "code",
   "execution_count": null,
   "id": "2321437e",
   "metadata": {},
   "outputs": [],
   "source": [
    "import numpy as np\n",
    "import pandas as pd\n",
    "import matplotlib.pyplot as plt\n",
    "import qat.lang.AQASM as qlm"
   ]
  },
  {
   "cell_type": "code",
   "execution_count": null,
   "id": "53ec8e0a",
   "metadata": {},
   "outputs": [],
   "source": [
    "#This cell loads the QLM solver. QPU = [qlmass, python, c]\n",
    "from QQuantLib.qpu.get_qpu import get_qpu\n",
    "# myqlm qpus: python, c\n",
    "# QLM qpus accessed using Qaptiva Access library: qlmass_linalg, qlmass_mps\n",
    "# QLM qpus: Only in local Quantum Learning Machine: linalg, mps\n",
    "my_qpus = [\"python\", \"c\", \"qlmass_linalg\", \"qlmass_mps\", \"linalg\", \"mps\"]\n",
    "\n",
    "linalg_qpu = get_qpu(my_qpus[1])"
   ]
  },
  {
   "cell_type": "markdown",
   "id": "0877b2d7",
   "metadata": {},
   "source": [
    "The following cell loads the `get_results` function from **QQuantLib/utils/data_extracting**. This function is frequently used in the current library, so we will explain its purpose, inputs, and outputs.\n",
    "\n",
    "The `get_results` function accepts a QLM object (a QLM Gate, QRoutine, or Program) and creates the associated QLM program, circuit, and job. It then simulates the quantum program, retrieves the results, and post-processes them.\n",
    "\n",
    "---\n",
    "\n",
    "### Inputs for `get_results`:\n",
    "- `quantum_object`: A QLM Gate, Routine, or Program.\n",
    "- `linalg_qpu`: A QLM solver (e.g., a Quantum Processing Unit).\n",
    "- `shots`: An integer specifying the number of shots for the generated job.\n",
    "- `qubits`: A list of qubits to measure during simulation.\n",
    "- `complete`: A boolean flag. If `True`, returns the complete basis states, which is useful when `shots` is not zero and all possible basis states are required.\n",
    "\n",
    "---\n",
    "\n",
    "### Outputs of `get_results`:\n",
    "- `pdf`: A Pandas DataFrame containing the results of the simulation.\n",
    "- `circuit`: The QLM circuit corresponding to the input QLM object.\n",
    "- `q_prog`: The QLM Program corresponding to the input QLM object.\n",
    "- `job`: The QLM Job corresponding to the input QLM object.\n",
    "\n",
    "The primary output of this function is the Pandas DataFrame (`pdf`). The columns provided in the DataFrame are as follows:\n",
    "\n",
    "- `States`: Possible quantum states resulting from measurements on the circuit.\n",
    "- `Int_lsb`: Conversion of the quantum state to an integer using **lsb** encoding (the bit farthest to the right is the least significant).\n",
    "- `Probability`: Computed frequency of the quantum state when `shots` is not zero. When `shots` is zero, theoretical probabilities are provided.\n",
    "- `Amplitude`: Amplitude of the quantum states (only provided if `shots` is zero).\n",
    "- `Int`: Conversion of the quantum state to an integer using standard encoding (the bit farthest to the right is the most significant).\n",
    "\n",
    "This function simplifies the process of simulating quantum circuits and extracting meaningful results, making it a valuable tool for analyzing quantum computations."
   ]
  },
  {
   "cell_type": "code",
   "execution_count": null,
   "id": "ce0fb0af",
   "metadata": {},
   "outputs": [],
   "source": [
    "from QQuantLib.utils.data_extracting import get_results"
   ]
  },
  {
   "cell_type": "markdown",
   "id": "321fdf1f",
   "metadata": {},
   "source": [
    "## 1. Loading Data"
   ]
  },
  {
   "cell_type": "markdown",
   "id": "eac27931",
   "metadata": {},
   "source": [
    "Typically, when loading data into a quantum circuit, the goal is to encode a discrete probability distribution $ p_d $ and an array $ f $. The first step is to define the dimension of the circuit and specify the data to be loaded. Here, $ n $ represents the number of qubits, and $ N = 2^n $ denotes the size of the discretized probability distribution as well as the size of the array.\n",
    "\n",
    "In this specific example, we set $ n = 3 $, which results in $ N = 8 $. This means the circuit will consist of 3 qubits, and both the probability distribution and the array will have 8 elements."
   ]
  },
  {
   "cell_type": "code",
   "execution_count": null,
   "id": "c5d5112b",
   "metadata": {},
   "outputs": [],
   "source": [
    "n = 3\n",
    "N = 2**n\n",
    "x = np.arange(N)"
   ]
  },
  {
   "cell_type": "markdown",
   "id": "adc340ac",
   "metadata": {},
   "source": [
    "Next, we define a discrete probability distribution:\n",
    "$$\n",
    "p_d = \\left(p_0, p_1, p_2, p_3, p_4, p_5, p_6, p_7\\right).\n",
    "$$\n",
    "\n",
    "In this specific example, we generate the following probability distribution:\n",
    "$$\n",
    "p_d = \\frac{1}{0 + 1 + 2 + 3 + 4 + 5 + 6 + 7} \\left(0, 1, 2, 3, 4, 5, 6, 7\\right),\n",
    "$$\n",
    "which is stored in the variable `probability`."
   ]
  },
  {
   "cell_type": "code",
   "execution_count": null,
   "id": "2e846a51",
   "metadata": {},
   "outputs": [],
   "source": [
    "probability = x/np.sum(x)"
   ]
  },
  {
   "cell_type": "markdown",
   "id": "4bb7c7e3",
   "metadata": {},
   "source": [
    "Finally, we define an array:\n",
    "$$\n",
    "f = \\left(f_0, f_1, f_2, f_3, f_4, f_5, f_6, f_7\\right).\n",
    "$$\n",
    "\n",
    "Later, it will be useful to work with a normalized version of this function, denoted as $\\hat{f}$. The key characteristic of $\\hat{f}$ is that its maximum absolute value is scaled to 1, i.e., $||\\hat{f}||_{\\infty} = 1$:\n",
    "$$\n",
    "\\hat{f} = \\frac{f}{||f||_{\\infty}} = \\left(\\hat{f}_0, \\hat{f}_1, \\hat{f}_2, \\hat{f}_3, \\hat{f}_4, \\hat{f}_5, \\hat{f}_6, \\hat{f}_7\\right).\n",
    "$$\n",
    "\n",
    "In the code, this normalization is implemented using the variable `normalization_constant`, which corresponds to $||f||_{\\infty}$.\n",
    "\n",
    "In this specific example, we choose $f$ to be:\n",
    "$$\n",
    "f = \\left(0, 1, 2, 3, 4, 5, 6, 7\\right).\n",
    "$$\n",
    "\n",
    "Thus, the normalized function $\\hat{f}$ becomes:\n",
    "$$\n",
    "\\hat{f} = \\frac{f}{||f||_{\\infty}} = \\frac{1}{7} \\left(0, 1, 2, 3, 4, 5, 6, 7\\right).\n",
    "$$"
   ]
  },
  {
   "cell_type": "code",
   "execution_count": null,
   "id": "8be4d5a2",
   "metadata": {},
   "outputs": [],
   "source": [
    "normalization_constant = np.max(x)\n",
    "f = x\n",
    "f_normalised = x/normalization_constant"
   ]
  },
  {
   "cell_type": "code",
   "execution_count": null,
   "id": "e9123374",
   "metadata": {},
   "outputs": [],
   "source": [
    "%matplotlib inline\n",
    "plt.plot(x, probability, 'o')\n",
    "plt.plot(x, f_normalised, 'o')\n",
    "plt.grid()\n",
    "plt.legend(['Probability', 'Array to load'])"
   ]
  },
  {
   "cell_type": "markdown",
   "id": "cc32a4e2",
   "metadata": {},
   "source": [
    "### 1.1 Loading Probability"
   ]
  },
  {
   "cell_type": "code",
   "execution_count": null,
   "id": "436f895d",
   "metadata": {},
   "outputs": [],
   "source": [
    "from QQuantLib.DL.data_loading import load_probability"
   ]
  },
  {
   "cell_type": "markdown",
   "id": "a4389c9d",
   "metadata": {},
   "source": [
    "To load a discrete probability distribution into a quantum state, the function `load_probability` from the **DL/data_loading** module can be used. The inputs to this function are as follows:\n",
    "\n",
    "- **Probability Distribution (mandatory)**: A NumPy array containing the probability distribution to be loaded into the quantum state. In this case, the variable `probability` holds the desired probability distribution.\n",
    "- `id_name`: A string that provides a name for the Abstract Gate created by the function. If no name is specified, the current CPU time will be appended to the gate's name.\n",
    "- `method`: A string that specifies the internal implementation for the controlled rotation by state, which forms the basis of the data loading method. Two options are available:\n",
    "  - `multiplexor`: Uses quantum multiplexors for data loading. This is the default option.\n",
    "  - `brute_force`: Implements the controlled rotation by state directly, resulting in longer circuits.\n",
    "\n",
    "The output of the function is a **qlm** `AbstractGate` with arity *n*, where *n* is the number of qubits in the circuit."
   ]
  },
  {
   "cell_type": "code",
   "execution_count": null,
   "id": "55bce45d",
   "metadata": {
    "scrolled": true
   },
   "outputs": [],
   "source": [
    "#No id_name provided\n",
    "routine = load_probability(probability)\n",
    "#Display circuit representation\n",
    "%qatdisplay routine --depth 0 --svg"
   ]
  },
  {
   "cell_type": "markdown",
   "id": "1940147a",
   "metadata": {},
   "source": [
    "Now, the quantum state has the following form:\n",
    "$$\n",
    "\\sqrt{p_0}|0\\rangle + \\sqrt{p_1}|1\\rangle + \\sqrt{p_2}|2\\rangle + \\sqrt{p_3}|3\\rangle + \\sqrt{p_4}|4\\rangle + \\sqrt{p_5}|5\\rangle + \\sqrt{p_6}|6\\rangle + \\sqrt{p_7}|7\\rangle\n",
    "$$\n",
    "\n",
    "Finally, we use the function `get_results` from the **data_extracting** module to retrieve the probabilities loaded into the quantum circuit. Due to the properties of quantum mechanics, the measurement outcomes correspond to the squared amplitudes of the quantum state:\n",
    "\n",
    "$$\n",
    "\\left(\\sqrt{p_0}^2, \\sqrt{p_1}^2, \\sqrt{p_2}^2, \\sqrt{p_3}^2, \\sqrt{p_4}^2, \\sqrt{p_5}^2, \\sqrt{p_6}^2, \\sqrt{p_7}^2\\right) = \\left(p_0, p_1, p_2, p_3, p_4, p_5, p_6, p_7\\right)\n",
    "$$\n",
    "\n",
    "This confirms that the original probability distribution $ \\{p_0, p_1, \\dots, p_7\\} $ has been successfully encoded into the quantum state."
   ]
  },
  {
   "cell_type": "code",
   "execution_count": null,
   "id": "7f9e1528",
   "metadata": {},
   "outputs": [],
   "source": [
    "results,_,_,_ = get_results(routine, linalg_qpu=linalg_qpu)\n",
    "quantum_probabilities = results[\"Probability\"].values\n",
    "print(\"Quantum probabilities: \",quantum_probabilities)\n",
    "print(\"Classical probabilities: \",probability)\n",
    "#Test\n",
    "np.isclose(quantum_probabilities, probability).all()"
   ]
  },
  {
   "cell_type": "markdown",
   "id": "ec1a351c",
   "metadata": {},
   "source": [
    "### brute-force implementation"
   ]
  },
  {
   "cell_type": "code",
   "execution_count": null,
   "id": "7a0c035f",
   "metadata": {
    "scrolled": true
   },
   "outputs": [],
   "source": [
    "#With id_name provided\n",
    "routine_bf = load_probability(probability, id_name='brute_force', method = 'brute_force')\n",
    "#Display circuit representation\n",
    "%qatdisplay routine_bf --depth  --svg"
   ]
  },
  {
   "cell_type": "code",
   "execution_count": null,
   "id": "2e53fe7a",
   "metadata": {
    "scrolled": true
   },
   "outputs": [],
   "source": [
    "results,_,_,_ = get_results(routine_bf, linalg_qpu=linalg_qpu)\n",
    "quantum_probabilities = results[\"Probability\"].values\n",
    "print(\"Quantum probabilities: \",quantum_probabilities)\n",
    "print(\"Classical probabilities: \",probability)\n",
    "#Test\n",
    "np.isclose(quantum_probabilities, probability).all()"
   ]
  },
  {
   "cell_type": "markdown",
   "id": "e149d3dc",
   "metadata": {},
   "source": [
    "### quantum multiplexors implementation"
   ]
  },
  {
   "cell_type": "code",
   "execution_count": null,
   "id": "f569cbb6",
   "metadata": {
    "scrolled": true
   },
   "outputs": [],
   "source": [
    "#With id_name provided\n",
    "routine_mp = load_probability(probability, id_name='multiplexors', method = 'multiplexor')\n",
    "#Display circuit representation\n",
    "%qatdisplay routine_mp --depth  --svg"
   ]
  },
  {
   "cell_type": "code",
   "execution_count": null,
   "id": "1b4a5f53",
   "metadata": {
    "scrolled": true
   },
   "outputs": [],
   "source": [
    "results,_,_,_ = get_results(routine_mp, linalg_qpu=linalg_qpu)\n",
    "quantum_probabilities = results[\"Probability\"].values\n",
    "print(\"Quantum probabilities: \",quantum_probabilities)\n",
    "print(\"Classical probabilities: \",probability)\n",
    "#Test\n",
    "np.isclose(quantum_probabilities, probability).all()"
   ]
  },
  {
   "cell_type": "markdown",
   "id": "48d7ddad",
   "metadata": {},
   "source": [
    "As can be observed, the quantum multiplexors implementation results in a circuit with lower depth compared to alternative methods. This efficiency makes it a preferred choice for loading probability distributions into quantum states.\n",
    "\n",
    "To ensure proper functionality, the `load_probabilities` function must be the first gate applied in the entire circuit. "
   ]
  },
  {
   "cell_type": "markdown",
   "id": "c8f13706",
   "metadata": {},
   "source": [
    "### 1.2 Loading Function"
   ]
  },
  {
   "cell_type": "markdown",
   "id": "ae5c6477",
   "metadata": {},
   "source": [
    "To load an array into a quantum circuit, additional steps are required compared to loading a probability distribution alone. First, a probability distribution must be loaded into the quantum state, and an extra qubit must be reserved for encoding the array values.\n",
    "\n",
    "In this context, we will not delve into the details of loading a probability distribution, as it has already been covered in the previous subsection. Instead, we will use the `uniform_distribution` function from the **DL/data_loading** module to simplify this step. This function allows us to focus on the process of loading the array while assuming a uniform probability distribution for the quantum state."
   ]
  },
  {
   "cell_type": "code",
   "execution_count": null,
   "id": "b3ac303a",
   "metadata": {},
   "outputs": [],
   "source": [
    "from QQuantLib.DL.data_loading import uniform_distribution"
   ]
  },
  {
   "cell_type": "code",
   "execution_count": null,
   "id": "ea462c4f",
   "metadata": {},
   "outputs": [],
   "source": [
    "routine = qlm.QRoutine()\n",
    "register = routine.new_wires(n+1)\n",
    "routine.apply(uniform_distribution(n),register[:n])"
   ]
  },
  {
   "cell_type": "markdown",
   "id": "9ae54d06",
   "metadata": {},
   "source": [
    "Our circuit has the form:"
   ]
  },
  {
   "cell_type": "code",
   "execution_count": null,
   "id": "96629eb2",
   "metadata": {},
   "outputs": [],
   "source": [
    "%qatdisplay routine --depth 1 --svg"
   ]
  },
  {
   "cell_type": "markdown",
   "id": "72571a1c",
   "metadata": {},
   "source": [
    "The state currently loaded into the circuit is:\n",
    "$$\n",
    "\\frac{1}{\\sqrt{N}} |0\\rangle \\left[ |0\\rangle + |1\\rangle + |2\\rangle + |3\\rangle + |4\\rangle + |5\\rangle + |6\\rangle + |7\\rangle \\right]\n",
    "$$\n",
    "\n",
    "The next step is to load the array into the quantum state. For this purpose, the function `load_array` from the **DL/data_loading** module can be used. This function accepts the following arguments:\n",
    "\n",
    "1. **Normalized Array**: An array with an infinity norm ($||f||_{\\infty}$) equal to or less than $1$. This ensures that the array values are scaled appropriately for encoding into the quantum state.\n",
    "   \n",
    "2. **`method`**: Specifies the implementation approach for loading the array. By default, this argument is set to `multiplexors`, which is more efficient in terms of quantum gates. Alternatively, the value `brute_force` can be used, though it is significantly less efficient.\n",
    "\n",
    "3. **`id_name`**: A string used to assign a name to the Abstract Gate created by the function. If no name is provided, the current CPU time will be appended to the gate's name.\n",
    "\n",
    "This function enables the efficient encoding of the array into the quantum state, building upon the uniform probability distribution already loaded into the circuit."
   ]
  },
  {
   "cell_type": "code",
   "execution_count": null,
   "id": "297756e1",
   "metadata": {},
   "outputs": [],
   "source": [
    "from QQuantLib.DL.data_loading import load_array"
   ]
  },
  {
   "cell_type": "code",
   "execution_count": null,
   "id": "780d7469",
   "metadata": {},
   "outputs": [],
   "source": [
    "#Not Providing id_name\n",
    "load_gate = load_array(f_normalised)\n",
    "%qatdisplay load_gate --depth 0 --svg"
   ]
  },
  {
   "cell_type": "code",
   "execution_count": null,
   "id": "b8411534",
   "metadata": {},
   "outputs": [],
   "source": [
    "#Providing id_name\n",
    "load_gate = load_array(f_normalised, id_name='f')\n",
    "%qatdisplay load_gate --depth 0 --svg"
   ]
  },
  {
   "cell_type": "code",
   "execution_count": null,
   "id": "253f68ae",
   "metadata": {},
   "outputs": [],
   "source": [
    "#Now apply the gate to the routine\n",
    "routine.apply(load_gate, register)"
   ]
  },
  {
   "cell_type": "markdown",
   "id": "abdc2459",
   "metadata": {},
   "source": [
    "\n",
    "$$\\dfrac{1}{\\sqrt{N}}|0\\rangle\\left[\\hat{f}_0|0\\rangle+\\hat{f}_1|1\\rangle+\\hat{f}_2|2\\rangle+\\hat{f}_3|3\\rangle+\\hat{f}_4|4\\rangle+\\hat{f}_5|5\\rangle+\\hat{f}_6|6\\rangle+\\hat{f}_7|7\\rangle\\right]+...$$\n",
    "The associated circuit is:"
   ]
  },
  {
   "cell_type": "code",
   "execution_count": null,
   "id": "4095d04f",
   "metadata": {},
   "outputs": [],
   "source": [
    "%qatdisplay routine --depth 0 --svg"
   ]
  },
  {
   "cell_type": "markdown",
   "id": "0628cce3",
   "metadata": {},
   "source": [
    "Finally, we measure the probabilities that we have loaded using `get_results`function."
   ]
  },
  {
   "cell_type": "code",
   "execution_count": null,
   "id": "c7160383",
   "metadata": {},
   "outputs": [],
   "source": [
    "results,_,_,_ = get_results(routine, linalg_qpu=linalg_qpu)\n",
    "quantum_probabilities = results[\"Probability\"].values"
   ]
  },
  {
   "cell_type": "markdown",
   "id": "9bf9dd01",
   "metadata": {},
   "source": [
    "By the properties of quantum mechanics, the result stored in the variable `quantum_probabilities` corresponds to the absolute square of the normalized array $\\hat{f}$, divided by $N$. Specifically, it is given by:\n",
    "$$\n",
    "p = \\frac{1}{N} \\left( \\hat{f}_0^2, \\hat{f}_1^2, \\hat{f}_2^2, \\hat{f}_3^2, \\hat{f}_4^2, \\hat{f}_5^2, \\hat{f}_6^2, \\hat{f}_7^2, \\dots \\right)\n",
    "$$\n",
    "\n",
    "While additional information may be stored in the variable, it is not required for the current analysis.\n",
    "\n",
    "To recover the original function $ f $ from the probabilities stored in the variable `quantum_probabilities`, we need to compute the square root of each probability $ p_i $, multiply it by $ N $ (the size of the array), and scale it by the normalization constant $ ||f||_{\\infty} $. The formula is as follows:\n",
    "\n",
    "$$\n",
    "f_i = N \\cdot ||f||_{\\infty} \\cdot \\sqrt{p_i}\n",
    "$$\n",
    "\n",
    "This process reverses the normalization applied during the encoding of $ f $ into the quantum state, allowing us to reconstruct the original array."
   ]
  },
  {
   "cell_type": "code",
   "execution_count": null,
   "id": "a0c39f69",
   "metadata": {},
   "outputs": [],
   "source": [
    "quantum_f = np.sqrt(quantum_probabilities)*np.sqrt(N)*normalization_constant\n",
    "print(\"Array loaded in the quantum state: \",quantum_f[:N])\n",
    "print(\"Original array: \",f)\n",
    "#Test\n",
    "np.isclose(quantum_f[:N], f).all()"
   ]
  },
  {
   "cell_type": "markdown",
   "id": "8bbc8c3e",
   "metadata": {},
   "source": [
    "### 1.3 Loading a function upon a non trivial probability distribution"
   ]
  },
  {
   "cell_type": "markdown",
   "id": "e5d165df",
   "metadata": {},
   "source": [
    "Now, we will load both a discrete probability distribution $ p_d $ and an array $ f $ simultaneously. This case combines the approaches from the two previous examples. \n",
    "\n",
    "First, we begin by loading the discrete probability distribution $ p_d $. Note that when loading the normalized array $ \\hat{f} $, an additional qubit is required. The probability distribution $ p_d $ is encoded only in the first three registers of the quantum state."
   ]
  },
  {
   "cell_type": "code",
   "execution_count": null,
   "id": "c00fdf11",
   "metadata": {},
   "outputs": [],
   "source": [
    "routine = qlm.QRoutine()\n",
    "register = routine.new_wires(n+1)\n",
    "routine.apply(load_probability(probability, id_name='p(x)'),register[:n])\n",
    "%qatdisplay routine --depth 0 --svg"
   ]
  },
  {
   "cell_type": "markdown",
   "id": "6de331bf",
   "metadata": {},
   "source": [
    "At this stage, our quantum state is represented as:\n",
    "$$\n",
    "|0\\rangle \\left[ \\sqrt{p_0}|0\\rangle + \\sqrt{p_1}|1\\rangle + \\sqrt{p_2}|2\\rangle + \\sqrt{p_3}|3\\rangle + \\sqrt{p_4}|4\\rangle + \\sqrt{p_5}|5\\rangle + \\sqrt{p_6}|6\\rangle + \\sqrt{p_7}|7\\rangle \\right]\n",
    "$$\n",
    "\n",
    "Next, we compute the necessary angles and proceed to load the function into the quantum state. Instead of loading the normalized array $ \\hat{f} $, we will load $ \\sqrt{\\hat{f}} $. This adjustment ensures that all components are consistently encoded within the same framework."
   ]
  },
  {
   "cell_type": "code",
   "execution_count": null,
   "id": "7a78eb54",
   "metadata": {},
   "outputs": [],
   "source": [
    "f_root = np.sqrt(f_normalised)\n",
    "routine.apply(load_array(f_root, id_name='f(x)'),register)\n",
    "%qatdisplay routine --depth 0 --svg"
   ]
  },
  {
   "cell_type": "markdown",
   "id": "ee1e58f7",
   "metadata": {},
   "source": [
    "At this point, our quantum state is represented as:\n",
    "$$\n",
    "|0\\rangle \\left[ \\sqrt{p_0 \\hat{f}_0}|0\\rangle + \\sqrt{p_1 \\hat{f}_1}|1\\rangle + \\sqrt{p_2 \\hat{f}_2}|2\\rangle + \\sqrt{p_3 \\hat{f}_3}|3\\rangle + \\sqrt{p_4 \\hat{f}_4}|4\\rangle + \\sqrt{p_5 \\hat{f}_5}|5\\rangle + \\sqrt{p_6 \\hat{f}_6}|6\\rangle + \\sqrt{p_7 \\hat{f}_7}|7\\rangle \\right] + \\dots\n",
    "$$\n",
    "\n",
    "If we perform a measurement on this state, the resulting probabilities can be compared to the element-wise product of the probability distribution $ p_d $ and the normalized array $ \\hat{f} $. "
   ]
  },
  {
   "cell_type": "code",
   "execution_count": null,
   "id": "8b3dd270",
   "metadata": {},
   "outputs": [],
   "source": [
    "results,_,_,_ = get_results(routine, linalg_qpu=linalg_qpu)\n",
    "quantum_probabilities = results[\"Probability\"].values"
   ]
  },
  {
   "cell_type": "code",
   "execution_count": null,
   "id": "5f610c33",
   "metadata": {},
   "outputs": [],
   "source": [
    "quantum_result = quantum_probabilities*normalization_constant\n",
    "print(\"Quantum result: \",quantum_result[0:N])\n",
    "print(\"Classical result: \",probability*f)\n",
    "np.isclose(quantum_result[0:N], probability*f).all()"
   ]
  },
  {
   "cell_type": "markdown",
   "id": "0dac70a0",
   "metadata": {},
   "source": [
    "If we wish to compute the scalar product using the previous technique, there is an elegant approach we can employ. By measuring only the last qubit (the one furthest to the left in the quantum state representation or at the bottom of the circuit), we effectively calculate the following quantity:"
   ]
  },
  {
   "cell_type": "code",
   "execution_count": null,
   "id": "e6c01db3",
   "metadata": {},
   "outputs": [],
   "source": [
    "results,_,_,_ = get_results(routine, linalg_qpu=linalg_qpu,qubits = [n])\n",
    "quantum_probabilities = results[\"Probability\"].values"
   ]
  },
  {
   "cell_type": "code",
   "execution_count": null,
   "id": "d7684a9e",
   "metadata": {},
   "outputs": [],
   "source": [
    "quantum_result = quantum_probabilities*normalization_constant\n",
    "print(\"Quantum result: \",quantum_result[0])\n",
    "print(\"Classical result: \",np.dot(probability,f))\n",
    "#Test\n",
    "np.isclose(quantum_result[0], np.dot(probability,f))"
   ]
  },
  {
   "cell_type": "markdown",
   "id": "24eeb1e0",
   "metadata": {},
   "source": [
    "### 1.4 Loading two arrays"
   ]
  },
  {
   "cell_type": "markdown",
   "id": "e8645ad2",
   "metadata": {},
   "source": [
    "In our final example, we will load two arrays, $ f $ and $ g = p_d $. To encode two arrays into the quantum state, we require two additional qubits: one for the first array ($ f $) and another for the second array ($ g $). \n",
    "\n",
    "We begin by defining a base routine with a size of $ n + 2 $, where $ n $ is the number of qubits required to represent the original state. Since a base probability distribution must always be loaded, we initialize the state with a uniform probability distribution."
   ]
  },
  {
   "cell_type": "code",
   "execution_count": null,
   "id": "e2f957d7",
   "metadata": {},
   "outputs": [],
   "source": [
    "g = probability\n",
    "routine = qlm.QRoutine()\n",
    "register = routine.new_wires(n+2)\n",
    "routine.apply(uniform_distribution(n),register[:n])\n",
    "%qatdisplay routine --depth 0 --svg"
   ]
  },
  {
   "cell_type": "markdown",
   "id": "5f7bb32d",
   "metadata": {},
   "source": [
    "We have already defined the normalized version of $ f $, denoted as $ \\hat{f} $, which is stored in the variable `f_normalised`. However, the discrete probability distribution $ p_d $ (denoted as $ g $) is not yet normalized. To address this, we define its normalized version as follows:\n",
    "\n",
    "$$\n",
    "\\hat{g} = \\frac{g}{||g||_{\\infty}},\n",
    "$$\n",
    "\n",
    "where $ ||g||_{\\infty} $ represents the infinity norm of $ g $, ensuring that the maximum absolute value of $ \\hat{g} $ is equal to 1."
   ]
  },
  {
   "cell_type": "code",
   "execution_count": null,
   "id": "82709478",
   "metadata": {},
   "outputs": [],
   "source": [
    "g_normalised = g/np.max(g)"
   ]
  },
  {
   "cell_type": "markdown",
   "id": "13a41959",
   "metadata": {},
   "source": [
    "Now we have to load the normalised arrays in the circuit. Because we have two arrays instead of one, we are going to load the first array in the first reserved register and the second one in the second reserved register."
   ]
  },
  {
   "cell_type": "code",
   "execution_count": null,
   "id": "7b5f3c5f",
   "metadata": {},
   "outputs": [],
   "source": [
    "routine.apply(load_array(f_normalised,id_name= '1'),register[0:n],register[n])\n",
    "routine.apply(load_array(g_normalised,id_name= '2'),register[0:n],register[n+1])"
   ]
  },
  {
   "cell_type": "code",
   "execution_count": null,
   "id": "1be10613",
   "metadata": {},
   "outputs": [],
   "source": [
    "%qatdisplay routine --depth 0 --svg"
   ]
  },
  {
   "cell_type": "markdown",
   "id": "96708476",
   "metadata": {},
   "source": [
    "Now our quantum state is:\n",
    "$$\\dfrac{1}{\\sqrt{N}}|0\\rangle|0\\rangle\\left[f_0 g_0|0\\rangle+f_1 g_1|1\\rangle+f_2 g_2|2\\rangle+f_3 g_3|3\\rangle+f_4 g_4|4\\rangle+f_5 g_5|5\\rangle+f_6 g_6|6\\rangle+f_7 g_7|7\\rangle\\right]+...$$\n",
    "If we measure again, we can compare our result with the element-wise product of $g$ and $f$"
   ]
  },
  {
   "cell_type": "code",
   "execution_count": null,
   "id": "fc9ca8e1",
   "metadata": {},
   "outputs": [],
   "source": [
    "results,_,_,_ = get_results(routine, linalg_qpu=linalg_qpu)\n",
    "quantum_probabilities = results[\"Probability\"].values"
   ]
  },
  {
   "cell_type": "code",
   "execution_count": null,
   "id": "b5117470",
   "metadata": {},
   "outputs": [],
   "source": [
    "quantum_result = np.sqrt(quantum_probabilities*N)*np.max(f)*np.max(g)\n",
    "classical_result = f*g\n",
    "print(\"Quantum result: \",quantum_result[:N])\n",
    "print(\"Classical result: \",classical_result)\n",
    "np.isclose(quantum_result[:N], classical_result).all()"
   ]
  },
  {
   "cell_type": "markdown",
   "id": "dc8b9146",
   "metadata": {},
   "source": [
    "To compute the scalar product from our quantum state, we can apply a Hadamard transform. The first coefficient of the Hadamard transform corresponds to the sum of the input vector, which represents our previous state:\n",
    "\n",
    "$$\n",
    "\\frac{1}{\\sqrt{N}} |0\\rangle |0\\rangle \\left[ f_0 g_0 |0\\rangle + f_1 g_1 |1\\rangle + f_2 g_2 |2\\rangle + f_3 g_3 |3\\rangle + f_4 g_4 |4\\rangle + f_5 g_5 |5\\rangle + f_6 g_6 |6\\rangle + f_7 g_7 |7\\rangle \\right] + \\dots\n",
    "$$\n",
    "\n",
    "After applying the Hadamard transform, this state transforms into:\n",
    "\n",
    "$$\n",
    "\\frac{1}{N} |0\\rangle |0\\rangle \\left[ f_0 g_0 + f_1 g_1 + f_2 g_2 + f_3 g_3 + f_4 g_4 + f_5 g_5 + f_6 g_6 + f_7 g_7 \\right] |0\\rangle + \\dots\n",
    "$$\n",
    "\n",
    "The remaining coefficients depend on the specific transformation being applied, as there are three distinct versions of this transformation. Note that, instead of the factor $\\frac{1}{\\sqrt{N}}$ present in the original state, the resulting state now includes a factor of $\\frac{1}{N}$."
   ]
  },
  {
   "cell_type": "code",
   "execution_count": null,
   "id": "ee4e3020",
   "metadata": {},
   "outputs": [],
   "source": [
    "routine.apply(uniform_distribution(n),register[:n])\n",
    "%qatdisplay routine --depth 0 --svg"
   ]
  },
  {
   "cell_type": "code",
   "execution_count": null,
   "id": "72c63d51",
   "metadata": {},
   "outputs": [],
   "source": [
    "results,_,_,_ = get_results(routine, linalg_qpu=linalg_qpu)\n",
    "quantum_probabilities = results[\"Probability\"].values"
   ]
  },
  {
   "cell_type": "code",
   "execution_count": null,
   "id": "9ed2976a",
   "metadata": {},
   "outputs": [],
   "source": [
    "quantum_result = np.sqrt(quantum_probabilities)*N*np.max(f)*np.max(g)\n",
    "classical_result = np.dot(f,g)\n",
    "print(\"Quantum result: \",quantum_result[0])\n",
    "print(\"Classical result: \",classical_result)\n",
    "#Test\n",
    "np.isclose(quantum_result[0], classical_result)"
   ]
  },
  {
   "cell_type": "markdown",
   "id": "e2623070",
   "metadata": {},
   "source": [
    "### 1.5 Ordering conventions"
   ]
  },
  {
   "cell_type": "markdown",
   "id": "34032086",
   "metadata": {},
   "source": [
    "In this context, we are following the qubit ordering convention $ |q_n \\dots q_1 q_0\\rangle $, where $ q_0 $ represents the least significant qubit. However, in the **QLM** framework, the opposite convention is used, where the state is represented as $ |q_0 q_1 \\dots q_n\\rangle $. Below, we demonstrate how to adapt our functions to align with the **QLM** convention, which is relatively straightforward.\n",
    "\n",
    "To load a distribution while adhering to the **QLM** qubit ordering:"
   ]
  },
  {
   "cell_type": "code",
   "execution_count": null,
   "id": "02303e89",
   "metadata": {},
   "outputs": [],
   "source": [
    "routine = qlm.QRoutine()\n",
    "register = routine.new_wires(n)\n",
    "routine.apply(load_probability(probability),register[::-1])\n",
    "%qatdisplay routine --depth 1 --svg"
   ]
  },
  {
   "cell_type": "markdown",
   "id": "7754bb1c",
   "metadata": {},
   "source": [
    "To get the results we do the same as always."
   ]
  },
  {
   "cell_type": "code",
   "execution_count": null,
   "id": "85b09a2f",
   "metadata": {},
   "outputs": [],
   "source": [
    "results,_,_,_ = get_results(routine, linalg_qpu=linalg_qpu)"
   ]
  },
  {
   "cell_type": "markdown",
   "id": "ccd42abc",
   "metadata": {},
   "source": [
    "Now we use the QLM ordering to get the probabilities: for this we can use the *Int* column from the *results* DataFrame"
   ]
  },
  {
   "cell_type": "code",
   "execution_count": null,
   "id": "e0ee5db8",
   "metadata": {},
   "outputs": [],
   "source": [
    "quantum_probabilities = results.sort_values(\"Int\")[\"Probability\"].values\n",
    "print(\"Quantum probabilities: \",quantum_probabilities)\n",
    "print(\"Classical probabilities: \",probability)\n",
    "np.isclose(quantum_probabilities, probability).all()"
   ]
  },
  {
   "cell_type": "markdown",
   "id": "d9edd4b0",
   "metadata": {},
   "source": [
    "If we have to deal with the loading of functions it can be a little bit more tricky:"
   ]
  },
  {
   "cell_type": "code",
   "execution_count": null,
   "id": "704b25f6",
   "metadata": {},
   "outputs": [],
   "source": [
    "routine = qlm.QRoutine()\n",
    "register = routine.new_wires(n+1)\n",
    "control = register[:n]\n",
    "target = register[n]\n",
    "routine.apply(uniform_distribution(n),register[:n])\n",
    "routine.apply(load_array(f_normalised),[control[::-1],target])\n",
    "%qatdisplay routine --depth 0 --svg"
   ]
  },
  {
   "cell_type": "markdown",
   "id": "88c7bdce",
   "metadata": {},
   "source": [
    "To retrieve the results it is less convenient as now the result is not in order "
   ]
  },
  {
   "cell_type": "code",
   "execution_count": null,
   "id": "323af777",
   "metadata": {},
   "outputs": [],
   "source": [
    "results,_,_,_ = get_results(routine, linalg_qpu=linalg_qpu)\n",
    "results.sort_values(\"Int\",inplace = True)\n",
    "results[\"Function\"] = np.sqrt(results[\"Probability\"]*N)*normalization_constant\n",
    "results"
   ]
  },
  {
   "cell_type": "markdown",
   "id": "1df62e1a",
   "metadata": {},
   "source": [
    "See that now the information is stored in all qubits marked with a zero in the leftmost qubit. That provoques that the information is stored only in the odd positions (with respect to the int convention).\n",
    "Another possibility is applying everything in reverse:"
   ]
  },
  {
   "cell_type": "code",
   "execution_count": null,
   "id": "ba5d554c",
   "metadata": {},
   "outputs": [],
   "source": [
    "routine = qlm.QRoutine()\n",
    "register = routine.new_wires(n+1)\n",
    "control = register[1:n+1]\n",
    "target = register[0]\n",
    "routine.apply(uniform_distribution(n),register[1:n+1])\n",
    "routine.apply(load_array(f_normalised),[control[::-1],target])\n",
    "%qatdisplay routine --depth 0 --svg"
   ]
  },
  {
   "cell_type": "code",
   "execution_count": null,
   "id": "be5b4b91",
   "metadata": {},
   "outputs": [],
   "source": [
    "results,_,_,_ = get_results(routine, linalg_qpu=linalg_qpu)\n",
    "results.sort_values(\"Int\",inplace = True)\n",
    "results[\"Function\"] = np.sqrt(results[\"Probability\"]*N)*normalization_constant\n",
    "results"
   ]
  },
  {
   "cell_type": "markdown",
   "id": "a0c70bc3",
   "metadata": {},
   "source": [
    "In this case the results are naturally stored in the order of QLM (the int order). "
   ]
  },
  {
   "cell_type": "markdown",
   "id": "9ffea34b",
   "metadata": {},
   "source": [
    "## Appendix 1: Loading array with angles"
   ]
  },
  {
   "cell_type": "markdown",
   "id": "f47a1bda",
   "metadata": {},
   "source": [
    "In this appendix, we explain how to use the angles to load a properly normalized array $\\hat{f}$ into a quantum circuit. Under the hood, loading an array involves encoding specific angles into the quantum state. As with previous examples, we begin by loading a base discrete probability distribution."
   ]
  },
  {
   "cell_type": "code",
   "execution_count": null,
   "id": "6c3db403",
   "metadata": {},
   "outputs": [],
   "source": [
    "routine = qlm.QRoutine()\n",
    "register = routine.new_wires(n+1)\n",
    "routine.apply(uniform_distribution(n),register[:n])"
   ]
  },
  {
   "cell_type": "markdown",
   "id": "5094e688",
   "metadata": {},
   "source": [
    "To load the normalized array $\\hat{f}$ into the quantum circuit using angles, we first need to compute the associated angles. These angles are calculated as follows:\n",
    "\n",
    "$$\n",
    "\\theta = \\left(\\theta_0, \\theta_1, \\theta_2, \\theta_3, \\theta_4, \\theta_5, \\theta_6, \\theta_7\\right) = 2 \\arccos\\left(\\hat{f}\\right)\n",
    "$$\n",
    "\n",
    "Explicitly, this corresponds to:\n",
    "$$\n",
    "\\theta = \\left(2 \\arccos\\left(\\hat{f}_0\\right), 2 \\arccos\\left(\\hat{f}_1\\right), 2 \\arccos\\left(\\hat{f}_2\\right), 2 \\arccos\\left(\\hat{f}_3\\right), 2 \\arccos\\left(\\hat{f}_4\\right), 2 \\arccos\\left(\\hat{f}_5\\right), 2 \\arccos\\left(\\hat{f}_6\\right), 2 \\arccos\\left(\\hat{f}_7\\right)\\right)\n",
    "$$\n",
    "\n",
    "This step highlights the importance of working with the normalized version of the function $f$, as it ensures that the computed angles are well-defined and suitable for encoding into the quantum state."
   ]
  },
  {
   "cell_type": "code",
   "execution_count": null,
   "id": "3822a1f6",
   "metadata": {},
   "outputs": [],
   "source": [
    "angles = 2*np.arccos(f_normalised)"
   ]
  },
  {
   "cell_type": "markdown",
   "id": "fe49207f",
   "metadata": {},
   "source": [
    "To load the angles into the quantum circuit, we use the function `load_angles` from the **data_loading** module. This function requires a NumPy array containing the angles associated with the normalized function $\\hat{f}$ as input. In this case, the probability distribution is stored in the variable `probability`. The output of the function is a **qlm** `AbstractGate` with arity *n*, where *n* is the number of qubits in the circuit.\n",
    "\n",
    "The `load_angles` function also accepts a second argument called `method`, which determines the implementation approach:\n",
    "- By default, the `method` is set to `multiplexors`, which is more efficient in terms of quantum gates.\n",
    "- Alternatively, the `method` can be set to `brute_force`, though this option is significantly less efficient and results in longer circuits."
   ]
  },
  {
   "cell_type": "code",
   "execution_count": null,
   "id": "0fc0612b",
   "metadata": {},
   "outputs": [],
   "source": [
    "from QQuantLib.DL.data_loading import load_angles"
   ]
  },
  {
   "cell_type": "code",
   "execution_count": null,
   "id": "3de58854",
   "metadata": {},
   "outputs": [],
   "source": [
    "routine.apply(load_angles(angles),register)"
   ]
  },
  {
   "cell_type": "markdown",
   "id": "feac78c3",
   "metadata": {},
   "source": [
    "Now, the quantum state has the following form:\n",
    "\n",
    "$$\n",
    "\\frac{1}{\\sqrt{N}} |0\\rangle \\left[ \\cos\\left(\\frac{\\theta_0}{2}\\right)|0\\rangle + \\cos\\left(\\frac{\\theta_1}{2}\\right)|1\\rangle + \\cos\\left(\\frac{\\theta_2}{2}\\right)|2\\rangle + \\cos\\left(\\frac{\\theta_3}{2}\\right)|3\\rangle + \\cos\\left(\\frac{\\theta_4}{2}\\right)|4\\rangle + \\cos\\left(\\frac{\\theta_5}{2}\\right)|5\\rangle + \\cos\\left(\\frac{\\theta_6}{2}\\right)|6\\rangle + \\cos\\left(\\frac{\\theta_7}{2}\\right)|7\\rangle \\right] + \\dots\n",
    "$$\n",
    "\n",
    "By substituting the computed values of the angles $\\theta_i = 2 \\arccos(\\hat{f}_i)$, the state simplifies to:\n",
    "\n",
    "$$\n",
    "\\frac{1}{\\sqrt{N}} |0\\rangle \\left[ \\hat{f}_0|0\\rangle + \\hat{f}_1|1\\rangle + \\hat{f}_2|2\\rangle + \\hat{f}_3|3\\rangle + \\hat{f}_4|4\\rangle + \\hat{f}_5|5\\rangle + \\hat{f}_6|6\\rangle + \\hat{f}_7|7\\rangle \\right] + \\dots\n",
    "$$\n",
    "\n",
    "The corresponding quantum circuit for this state preparation is as follows:"
   ]
  },
  {
   "cell_type": "code",
   "execution_count": null,
   "id": "184d8fc4",
   "metadata": {},
   "outputs": [],
   "source": [
    "%qatdisplay routine --depth 0 --svg"
   ]
  },
  {
   "cell_type": "code",
   "execution_count": null,
   "id": "58481659",
   "metadata": {},
   "outputs": [],
   "source": [
    "results,_,_,_ = get_results(routine, linalg_qpu=linalg_qpu)\n",
    "quantum_probabilities = results[\"Probability\"].values"
   ]
  },
  {
   "cell_type": "markdown",
   "id": "cd567140",
   "metadata": {},
   "source": [
    "Finally, we measure the probabilities that we have loaded and see that is the same as using the function **load_array**"
   ]
  },
  {
   "cell_type": "code",
   "execution_count": null,
   "id": "200a7de2",
   "metadata": {},
   "outputs": [],
   "source": [
    "quantum_f = np.sqrt(quantum_probabilities)*np.sqrt(N)*normalization_constant\n",
    "print(\"Array loaded in the quantum state: \",quantum_f[:N])\n",
    "print(\"Original array: \",f)\n",
    "np.isclose(quantum_f[:N], f).all()"
   ]
  },
  {
   "cell_type": "markdown",
   "id": "c6596721",
   "metadata": {},
   "source": [
    "## Appendix 2: Quantum Multiplexors"
   ]
  },
  {
   "cell_type": "markdown",
   "id": "7c8755f6",
   "metadata": {},
   "source": [
    "Implementation of data loading routines using the *Lov Grover and Terry Rudolph* routines directly, using controlled rotations by state, is highly inefficient. In general, the use of controlled rotations generates highly deep quantum circuits prone to errors. A more efficient approach is the use of Quantum Multiplexors."
   ]
  },
  {
   "cell_type": "markdown",
   "id": "df872cd2",
   "metadata": {},
   "source": [
    "A Quantum Multiplexor in our case is a routine that applies a quantum gate depending on a control register. To simplify things, we are interested in Quantum Multiplexed Ry gates. Specifically, a Quantum Multiplexed Ry gate applies a $Ry$ rotation to a specific qubit depending on a control register. \n",
    "To give an example we are going to focus on a register with four qubits, the first three ones are the controls and the fourth one is the target qubit:\n",
    "$$\n",
    "\\begin{array}{l}\n",
    "&|0000\\rangle\\longrightarrow |0\\rangle|0\\rangle\\\\\n",
    "&|0001\\rangle\\longrightarrow |0\\rangle|1\\rangle\\\\\n",
    "&|0010\\rangle\\longrightarrow |0\\rangle|2\\rangle\\\\\n",
    "&|0011\\rangle\\longrightarrow |0\\rangle|3\\rangle\\\\\n",
    "&|0100\\rangle\\longrightarrow |0\\rangle|4\\rangle\\\\\n",
    "&|0101\\rangle\\longrightarrow |0\\rangle|5\\rangle\\\\\n",
    "&|0110\\rangle\\longrightarrow |0\\rangle|6\\rangle\\\\\n",
    "&|0111\\rangle\\longrightarrow |0\\rangle|7\\rangle\\\\\n",
    "\\end{array}\n",
    "$$\n",
    "A quantum Quantum Multiplexed Ry gate applies a $Ry$ gate to the target register with angles $(\\theta_0,\\theta_1,\\theta_2,\\theta_3,\\theta_4,\\theta_5,\\theta_6,\\theta_7)$. It is easier to visualize it:\n",
    "$$\n",
    "\\begin{array}{l}\n",
    "&|0\\rangle|0\\rangle\\longrightarrow \\cos(\\theta_0)|0\\rangle|0\\rangle+\\sin(\\theta_0)|1\\rangle|0\\rangle\\\\\n",
    "&|0\\rangle|1\\rangle\\longrightarrow \\cos(\\theta_1)|0\\rangle|1\\rangle+\\sin(\\theta_1)|1\\rangle|1\\rangle\\\\\n",
    "&|0\\rangle|2\\rangle\\longrightarrow \\cos(\\theta_2)|0\\rangle|2\\rangle+\\sin(\\theta_2)|1\\rangle|2\\rangle\\\\\n",
    "&|0\\rangle|3\\rangle\\longrightarrow \\cos(\\theta_3)|0\\rangle|3\\rangle+\\sin(\\theta_3)|1\\rangle|3\\rangle\\\\\n",
    "&|0\\rangle|4\\rangle\\longrightarrow \\cos(\\theta_4)|0\\rangle|4\\rangle+\\sin(\\theta_4)|1\\rangle|4\\rangle\\\\\n",
    "&|0\\rangle|5\\rangle\\longrightarrow \\cos(\\theta_5)|0\\rangle|5\\rangle+\\sin(\\theta_5)|1\\rangle|5\\rangle\\\\\n",
    "&|0\\rangle|6\\rangle\\longrightarrow \\cos(\\theta_6)|0\\rangle|6\\rangle+\\sin(\\theta_6)|1\\rangle|6\\rangle\\\\\n",
    "&|0\\rangle|7\\rangle\\longrightarrow \\cos(\\theta_7)|0\\rangle|7\\rangle+\\sin(\\theta_7)|1\\rangle|7\\rangle\\\\\n",
    "\\end{array}\n",
    "$$\n",
    "This is the idea. Now, to implement this operator in the original paper they propose a recursive way. We prefer to propose a new method to do it without the need of recursion. In this way, it is easier to analyse the computational cost.\n",
    "\n",
    "To do the implementation we just need to ingredients, CNOT gates and single rotations. The CNOT gates and the RY rotations have to be applied in an alternating order. See the image below."
   ]
  },
  {
   "cell_type": "code",
   "execution_count": null,
   "id": "1f8893e8",
   "metadata": {},
   "outputs": [],
   "source": [
    "m = 3\n",
    "angles = np.arange(2**m)\n",
    "angles = angles/np.max(angles)\n",
    "routine = qlm.QRoutine()\n",
    "register = routine.new_wires(m+1)\n",
    "routine.apply(load_angles(angles),register)\n",
    "%qatdisplay routine --depth 0 --svg"
   ]
  },
  {
   "cell_type": "markdown",
   "id": "03135e44",
   "metadata": {},
   "source": [
    "See that the CNOT gates have always as a target the target register. The controls simply have $2^i$ periodicity with a certain $i$ depending on the position. In simpler words, the first CNOT (in the image above the one controlling in $q_2$, in the image below it controls) is in the positions $(0,2,4,6...)$. The second one is going to be in positions $(1+0,1+4,1+8,...)$. In the image below we can see a more extensive example:"
   ]
  },
  {
   "cell_type": "code",
   "execution_count": null,
   "id": "c6946574",
   "metadata": {},
   "outputs": [],
   "source": [
    "m = 4\n",
    "angles = np.arange(2**m)\n",
    "angles = angles/np.max(angles)\n",
    "routine = qlm.QRoutine()\n",
    "register = routine.new_wires(m+1)\n",
    "routine.apply(load_angles(angles),register)\n",
    "%qatdisplay routine --depth 0 --svg"
   ]
  },
  {
   "cell_type": "markdown",
   "id": "60360aef",
   "metadata": {},
   "source": [
    "Finally, the angles for the rotations are the Hadamard transform in sequence order of the angles that we want to load. For the circuit above it is possible to check it using the fast Walsh Hadamard transform:"
   ]
  },
  {
   "cell_type": "code",
   "execution_count": null,
   "id": "bd855d8c",
   "metadata": {},
   "outputs": [],
   "source": [
    "from QQuantLib.utils.utils import fwht"
   ]
  },
  {
   "cell_type": "code",
   "execution_count": null,
   "id": "1158ec7a",
   "metadata": {},
   "outputs": [],
   "source": [
    "fwht(angles)/2**m"
   ]
  }
 ],
 "metadata": {
  "kernelspec": {
   "display_name": "Python 3 (ipykernel)",
   "language": "python",
   "name": "python3"
  },
  "language_info": {
   "codemirror_mode": {
    "name": "ipython",
    "version": 3
   },
   "file_extension": ".py",
   "mimetype": "text/x-python",
   "name": "python",
   "nbconvert_exporter": "python",
   "pygments_lexer": "ipython3",
   "version": "3.9.9"
  }
 },
 "nbformat": 4,
 "nbformat_minor": 5
}
