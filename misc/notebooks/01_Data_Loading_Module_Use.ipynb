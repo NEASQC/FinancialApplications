{
 "cells": [
  {
   "cell_type": "markdown",
   "id": "43d8bde7",
   "metadata": {},
   "source": [
    "# Data Loading Module"
   ]
  },
  {
   "cell_type": "markdown",
   "id": "663cbbc4",
   "metadata": {},
   "source": [
    "The present notebook reviews the *dataloading* module from the package *DL* of the library *QQuantLib*  (**QQuantLib/DL/data_loading.py**). \n",
    "\n",
    "This module deals with loading the data into the quantum states (or circuits). \n",
    "\n",
    "The present notebook and module are based on the following references:\n",
    "\n",
    "* *Grover, Lov and Rudolph, Terry*. Creating superposition that correspond to efficiently integrable probability distributions. arXiv (2002). https://arxiv.org/abs/quant-ph/0208112\n",
    "\n",
    "* *V.V. Shende, S.S. Bullock, and I.L. Markov*. Synthesis of quantum-logic circuits. IEEE Transactions on Computer-Aided Design of Integrated Circuits and Systems, 25(6):1000–1010, Jun 2006. https://arxiv.org/abs/quant-ph/0406176v5\n",
    "\n",
    "* NEASQC deliverable: *D5.1: Review of state-of-the-art for Pricing and Computation of VaR https://www.neasqc.eu/wp-content/uploads/2021/06/NEASQC_D5.1_Review-of-state-of-the-art-for-Pricing-and-Computation-of-VaR_R2.0_Final.pdf*"
   ]
  },
  {
   "cell_type": "code",
   "execution_count": null,
   "id": "4465353b",
   "metadata": {},
   "outputs": [],
   "source": [
    "import sys\n",
    "sys.path.append(\"../../\")"
   ]
  },
  {
   "cell_type": "code",
   "execution_count": null,
   "id": "2321437e",
   "metadata": {},
   "outputs": [],
   "source": [
    "import numpy as np\n",
    "import pandas as pd\n",
    "import matplotlib.pyplot as plt\n",
    "import qat.lang.AQASM as qlm"
   ]
  },
  {
   "cell_type": "code",
   "execution_count": null,
   "id": "53ec8e0a",
   "metadata": {},
   "outputs": [],
   "source": [
    "#This cell loads the QLM solver. QPU = [qlmass, python, c]\n",
    "from QQuantLib.utils.get_qpu import get_qpu\n",
    "QPU = [\"qlmass\", \"python\", \"c\"]\n",
    "linalg_qpu = get_qpu(QPU[2])"
   ]
  },
  {
   "cell_type": "markdown",
   "id": "a77c4bbe",
   "metadata": {},
   "source": [
    "The following cell loads the *get_results* function from **QQuantLib/utils/data_extracting**. The present library uses this function frequently so here we explain the use, the input and the outputs.\n",
    "\n",
    "*get_results* function receives a QLM object (a QLM gate, QRoutine or Program), and creates the associated QLM program, circuit and job. Additionally runs the QLM job (simulates the quantum program), gets the results and post-processes them.\n",
    "\n",
    "Inputs for *get_results*:\n",
    "\n",
    "* quantum_object : QLM Gate, Routine or Program\n",
    "* linalg_qpu : QLM solver\n",
    "* shots : int (number of shots for the generated job)\n",
    "* qubits : list (list with the qubits for doing the measurement when simulating)\n",
    "* complete : bool. For returning the complete basis state. Useful when shots are not 0 and all the possible basis states are required\n",
    "\n",
    "The outputs of *get_results* will be:\n",
    "* pdf : pandas DataFrame. DataFrame with the results of the simulation\n",
    "* circuit : QLM circuit of the QLM input object\n",
    "* q_prog : QLM Program of the QLM input object\n",
    "* job : QLM job of the QLM input object\n",
    "\n",
    "The main output of this function is the pandas DataFrame. The columns provided in the DataFrame are:\n",
    "\n",
    "* **States**: Possible quantum states of the measurements done on the circuit\n",
    "* **Int_lsb**: conversion from the quantum state to an integer following **lsb** (bit farthest to the right will be least significant)\n",
    "* **Probability**: Computed frequency of the quantum state when *shots* is not zero. When *shots* is zero computed probabilities are providing\n",
    "* **Amplitude**: Amplitude of the quantum states. Only providing if *shots* is zero.\n",
    "* **Int**: conversion from the quantum state to an integer (the bit farthest to the right will be most significant)\n"
   ]
  },
  {
   "cell_type": "code",
   "execution_count": null,
   "id": "ce0fb0af",
   "metadata": {},
   "outputs": [],
   "source": [
    "from QQuantLib.utils.data_extracting import get_results"
   ]
  },
  {
   "cell_type": "markdown",
   "id": "321fdf1f",
   "metadata": {},
   "source": [
    "## 1. Loading Data"
   ]
  },
  {
   "cell_type": "markdown",
   "id": "eac27931",
   "metadata": {},
   "source": [
    "Typically, when we want to load some data into the quantum circuit, we will want to load a discrete probability distribution $p_d$ and an array $f$. First thing we need to define the dimension of the circuit and what we want to load. Here $n$ is the number of qubits and $N = 2^n$ is the size of the discretized probability distribution and the size of the array. In this specific example $n = 3$ and $N = 8$."
   ]
  },
  {
   "cell_type": "code",
   "execution_count": null,
   "id": "c5d5112b",
   "metadata": {},
   "outputs": [],
   "source": [
    "n = 3\n",
    "N = 2**n\n",
    "x = np.arange(N)"
   ]
  },
  {
   "cell_type": "markdown",
   "id": "adc340ac",
   "metadata": {},
   "source": [
    "Next, we define a discrete probability distribution:\n",
    "\n",
    "$$p_d = \\left(p_0,p_1,p_2,p_3,p_4,p_5,p_6,p_7\\right).$$\n",
    "\n",
    "In this specific example we are going to generate the following probability distribution:\n",
    "\n",
    "$$p_d = \\dfrac{1}{0+1+2+3+4+5+6+7}\\left(0,1,2,3,4,5,6,7\\right),$$\n",
    "which is saved in the variable *probability*."
   ]
  },
  {
   "cell_type": "code",
   "execution_count": null,
   "id": "2e846a51",
   "metadata": {},
   "outputs": [],
   "source": [
    "probability = x/np.sum(x)"
   ]
  },
  {
   "cell_type": "markdown",
   "id": "4bb7c7e3",
   "metadata": {},
   "source": [
    "Finally, we define an array:\n",
    "$$f = \\left(f_0,f_1,f_2,f_3,f_4,f_5,f_6,f_7\\right).$$\n",
    "Later, it will become useful to have a normalised version of this function that we will call $\\hat{f}$. This new function $\\hat{f}$ has the main characteristic that where the maximum absolute value of the function is one $||\\hat{f}||_{\\infty} = 1$:\n",
    "$$\\hat{f} = \\dfrac{f}{||f||_{\\infty}} = \\left(\\hat{f}_0,\\hat{f}_1,\\hat{f}_2,\\hat{f}_3,\\hat{f}_4,\\hat{f}_5,\\hat{f}_6,\\hat{f}_7\\right).$$\n",
    "In the code, this is the reason why we introduce the variable *normalization_constant* $=||f||_{\\infty}$.\n",
    "\n",
    "In this specific example, we choose $f$ to simply be:\n",
    "$$f = \\left(0,1,2,3,4,5,6,7\\right).$$\n",
    "Hence, $\\hat{f}$ is:\n",
    "$$\\hat{f} = \\dfrac{f}{||f||_{\\infty}} = \\dfrac{1}{7}\\left(0,1,2,3,4,5,6,7\\right).$$\n"
   ]
  },
  {
   "cell_type": "code",
   "execution_count": null,
   "id": "8be4d5a2",
   "metadata": {},
   "outputs": [],
   "source": [
    "normalization_constant = np.max(x)\n",
    "f = x\n",
    "f_normalised = x/normalization_constant"
   ]
  },
  {
   "cell_type": "code",
   "execution_count": null,
   "id": "e9123374",
   "metadata": {},
   "outputs": [],
   "source": [
    "%matplotlib inline\n",
    "plt.plot(x, probability, 'o')\n",
    "plt.plot(x, f_normalised, 'o')\n",
    "plt.grid()\n",
    "plt.legend(['Probability', 'Array to load'])"
   ]
  },
  {
   "cell_type": "markdown",
   "id": "cc32a4e2",
   "metadata": {},
   "source": [
    "### 1.1 Loading Probability"
   ]
  },
  {
   "cell_type": "code",
   "execution_count": null,
   "id": "436f895d",
   "metadata": {},
   "outputs": [],
   "source": [
    "from QQuantLib.DL.data_loading import load_probability"
   ]
  },
  {
   "cell_type": "markdown",
   "id": "8ca4a398",
   "metadata": {},
   "source": [
    "To load a discrete probability distribution we just need the function *load_probability*, which is inside the **DL/data_loading** module. The inputs are:\n",
    "\n",
    "* numpy array with the probability distribution that we want to load into the quantum state (**MANDATORY**). In this case, the probability distribution is the variable *probability*.\n",
    "* id_name: string for giving a name to the Abstract Gate created by the function. If no name is provided then the CPU time will be added to the name.\n",
    "* method: string for selecting the internal implementation for the controlled rotation by state (which is the basis of our data loading method). Two possible values:\n",
    "    * multiplexor: using quantum multiplexors for the data loading. This is the default value.\n",
    "    * brute_force: using a direct implementation of the controlled rotation by state (longer circuits)\n",
    "\n",
    "The output of the function is a **qlm** *AbstractGate* with arity *n*. "
   ]
  },
  {
   "cell_type": "code",
   "execution_count": null,
   "id": "55bce45d",
   "metadata": {
    "scrolled": true
   },
   "outputs": [],
   "source": [
    "#No id_name provided\n",
    "routine = load_probability(probability)\n",
    "#Display circuit representation\n",
    "%qatdisplay routine --depth 0 --svg"
   ]
  },
  {
   "cell_type": "markdown",
   "id": "9f2d5768",
   "metadata": {},
   "source": [
    "Now, our quantum state has the form:\n",
    "\n",
    "$$\\left[\\sqrt{p_0}|0\\rangle+\\sqrt{p_1}|1\\rangle+\\sqrt{p_2}|2\\rangle+\\sqrt{p_3}|3\\rangle+\\sqrt{p_4}|4\\rangle+\\sqrt{p_5}|5\\rangle+\\sqrt{p_6}|6\\rangle+\\sqrt{p_7}|7\\rangle\\right]$$\n",
    "\n",
    "Last, we use the function *get_results* from **data_extracting** to obtain the probabilities loaded into the quantum circuit. By the quantum properties, what we are measuring is:\n",
    "\n",
    "\n",
    "$$\\left(\\sqrt{p_0}^2,\\sqrt{p_1}^2,\\sqrt{p_2}^2,\\sqrt{p_3}^2,\\sqrt{p_4}^2,\\sqrt{p_5}^2,\\sqrt{p_6}^2,\\sqrt{p_7}^2\\right) = \\left(p_0,p_1,p_2,p_3,p_4,p_5,p_6,p_7\\right)$$"
   ]
  },
  {
   "cell_type": "code",
   "execution_count": null,
   "id": "7f9e1528",
   "metadata": {},
   "outputs": [],
   "source": [
    "results,_,_,_ = get_results(routine, linalg_qpu=linalg_qpu)\n",
    "quantum_probabilities = results[\"Probability\"].values\n",
    "print(\"Quantum probabilities: \",quantum_probabilities)\n",
    "print(\"Classical probabilities: \",probability)\n",
    "#Test\n",
    "np.isclose(quantum_probabilities, probability).all()"
   ]
  },
  {
   "cell_type": "markdown",
   "id": "ec1a351c",
   "metadata": {},
   "source": [
    "### brute-force implementation"
   ]
  },
  {
   "cell_type": "code",
   "execution_count": null,
   "id": "7a0c035f",
   "metadata": {
    "scrolled": true
   },
   "outputs": [],
   "source": [
    "#With id_name provided\n",
    "routine_bf = load_probability(probability, id_name='brute_force', method = 'brute_force')\n",
    "#Display circuit representation\n",
    "%qatdisplay routine_bf --depth  --svg"
   ]
  },
  {
   "cell_type": "code",
   "execution_count": null,
   "id": "2e53fe7a",
   "metadata": {
    "scrolled": true
   },
   "outputs": [],
   "source": [
    "results,_,_,_ = get_results(routine_bf, linalg_qpu=linalg_qpu)\n",
    "quantum_probabilities = results[\"Probability\"].values\n",
    "print(\"Quantum probabilities: \",quantum_probabilities)\n",
    "print(\"Classical probabilities: \",probability)\n",
    "#Test\n",
    "np.isclose(quantum_probabilities, probability).all()"
   ]
  },
  {
   "cell_type": "markdown",
   "id": "e149d3dc",
   "metadata": {},
   "source": [
    "### quantum multiplexors implementation"
   ]
  },
  {
   "cell_type": "code",
   "execution_count": null,
   "id": "f569cbb6",
   "metadata": {
    "scrolled": true
   },
   "outputs": [],
   "source": [
    "#With id_name provided\n",
    "routine_mp = load_probability(probability, id_name='multiplexors')\n",
    "#Display circuit representation\n",
    "%qatdisplay routine_mp --depth  --svg"
   ]
  },
  {
   "cell_type": "code",
   "execution_count": null,
   "id": "1b4a5f53",
   "metadata": {
    "scrolled": true
   },
   "outputs": [],
   "source": [
    "results,_,_,_ = get_results(routine_mp, linalg_qpu=linalg_qpu)\n",
    "quantum_probabilities = results[\"Probability\"].values\n",
    "print(\"Quantum probabilities: \",quantum_probabilities)\n",
    "print(\"Classical probabilities: \",probability)\n",
    "#Test\n",
    "np.isclose(quantum_probabilities, probability).all()"
   ]
  },
  {
   "cell_type": "markdown",
   "id": "48d7ddad",
   "metadata": {},
   "source": [
    "As can be seen the Quantum multiplexors implementation is lower in depth."
   ]
  },
  {
   "cell_type": "markdown",
   "id": "b88b6c28",
   "metadata": {},
   "source": [
    "In order to work properly, the function *load_probabilities* has to be the first gate of the whole circuit."
   ]
  },
  {
   "cell_type": "markdown",
   "id": "c8f13706",
   "metadata": {},
   "source": [
    "### 1.2 Loading Function"
   ]
  },
  {
   "cell_type": "markdown",
   "id": "ae5c6477",
   "metadata": {},
   "source": [
    "To load an array we need more steps than in the previous example. We first need to load a probability distribution in the state and reserve an extra qubit for loading the function. Here we don't want to focus on the part of loading a probability distribution as it has been already treated in the previous subsection, for that reason we will simply call the function *uniform_distribution* **DL/data_loading** module"
   ]
  },
  {
   "cell_type": "code",
   "execution_count": null,
   "id": "b3ac303a",
   "metadata": {},
   "outputs": [],
   "source": [
    "from QQuantLib.DL.data_loading import uniform_distribution"
   ]
  },
  {
   "cell_type": "code",
   "execution_count": null,
   "id": "ea462c4f",
   "metadata": {},
   "outputs": [],
   "source": [
    "routine = qlm.QRoutine()\n",
    "register = routine.new_wires(n+1)\n",
    "routine.apply(uniform_distribution(n),register[:n])"
   ]
  },
  {
   "cell_type": "markdown",
   "id": "9ae54d06",
   "metadata": {},
   "source": [
    "Our circuit has the form:"
   ]
  },
  {
   "cell_type": "code",
   "execution_count": null,
   "id": "96629eb2",
   "metadata": {},
   "outputs": [],
   "source": [
    "%qatdisplay routine --depth 1 --svg"
   ]
  },
  {
   "cell_type": "markdown",
   "id": "439ae5a2",
   "metadata": {},
   "source": [
    "The state now loaded in the circuit is:\n",
    "\n",
    "$$\\dfrac{1}{\\sqrt{N}}|0\\rangle\\left[|0\\rangle+|1\\rangle+|2\\rangle+|3\\rangle+|4\\rangle+|5\\rangle+|6\\rangle+|7\\rangle\\right]$$\n",
    "\n",
    "The next step is loading our array.  For that we have the function *load_array* inside **DL/data_loading** module, this function takes following arguments:\n",
    "\n",
    "1. Normalised array, one which has norm infinity equal to or less than $1$. \n",
    "2. Argument called *method*. By default, this second argument is set to *multiplexors*, but it can also have the value *brute_force*. This second option is much less efficient in terms of quantum gates.\n",
    "3. id_name: string for giving a name to the Abstract Gate created by the function. If no name is provided then the CPU time will be added to the name."
   ]
  },
  {
   "cell_type": "code",
   "execution_count": null,
   "id": "297756e1",
   "metadata": {},
   "outputs": [],
   "source": [
    "from QQuantLib.DL.data_loading import load_array"
   ]
  },
  {
   "cell_type": "code",
   "execution_count": null,
   "id": "780d7469",
   "metadata": {},
   "outputs": [],
   "source": [
    "#Not Providing id_name\n",
    "load_gate = load_array(f_normalised)\n",
    "%qatdisplay load_gate --depth 0 --svg"
   ]
  },
  {
   "cell_type": "code",
   "execution_count": null,
   "id": "b8411534",
   "metadata": {},
   "outputs": [],
   "source": [
    "#Providing id_name\n",
    "load_gate = load_array(f_normalised, id_name='f')\n",
    "%qatdisplay load_gate --depth 0 --svg"
   ]
  },
  {
   "cell_type": "code",
   "execution_count": null,
   "id": "253f68ae",
   "metadata": {},
   "outputs": [],
   "source": [
    "#Now apply the gate to the routine\n",
    "routine.apply(load_gate, register)"
   ]
  },
  {
   "cell_type": "markdown",
   "id": "abdc2459",
   "metadata": {},
   "source": [
    "\n",
    "$$\\dfrac{1}{\\sqrt{N}}|0\\rangle\\left[\\hat{f}_0|0\\rangle+\\hat{f}_1|1\\rangle+\\hat{f}_2|2\\rangle+\\hat{f}_3|3\\rangle+\\hat{f}_4|4\\rangle+\\hat{f}_5|5\\rangle+\\hat{f}_6|6\\rangle+\\hat{f}_7|7\\rangle\\right]+...$$\n",
    "The associated circuit is:"
   ]
  },
  {
   "cell_type": "code",
   "execution_count": null,
   "id": "4095d04f",
   "metadata": {},
   "outputs": [],
   "source": [
    "%qatdisplay routine --depth 0 --svg"
   ]
  },
  {
   "cell_type": "markdown",
   "id": "0628cce3",
   "metadata": {},
   "source": [
    "Finally, we measure the probabilities that we have loaded."
   ]
  },
  {
   "cell_type": "code",
   "execution_count": null,
   "id": "c7160383",
   "metadata": {},
   "outputs": [],
   "source": [
    "results,_,_,_ = get_results(routine, linalg_qpu=linalg_qpu)\n",
    "quantum_probabilities = results[\"Probability\"].values"
   ]
  },
  {
   "cell_type": "markdown",
   "id": "77d50f66",
   "metadata": {},
   "source": [
    "By the quantum properties, the result stored in the variable *quantum_probabilities* is the absolute value of the square of $\\hat{f}$ divided by $N$, that is:\n",
    "$$p = \\dfrac{1}{N}\\left(\\hat{f}_0^2,\\hat{f}_1^2,\\hat{f}_2^2,\\hat{f}_3^2,\\hat{f}_4^2,\\hat{f}_5^2,\\hat{f}_6^2,\\hat{f}_7^2,...\\right)$$\n",
    "There is more information stored in the variable, but we don't need it."
   ]
  },
  {
   "cell_type": "markdown",
   "id": "67715d00",
   "metadata": {},
   "source": [
    "If we want to recover the function $f$ we need to compute the square root of the probabilities and multiplicate by $N$ and by the normalization constant:\n",
    "$$f_i = N||f||_{\\infty}\\sqrt{p_i}$$"
   ]
  },
  {
   "cell_type": "code",
   "execution_count": null,
   "id": "a0c39f69",
   "metadata": {},
   "outputs": [],
   "source": [
    "quantum_f = np.sqrt(quantum_probabilities)*np.sqrt(N)*normalization_constant\n",
    "print(\"Array loaded in the quantum state: \",quantum_f[:N])\n",
    "print(\"Original array: \",f)\n",
    "#Test\n",
    "np.isclose(quantum_f[:N], f).all()"
   ]
  },
  {
   "cell_type": "markdown",
   "id": "8bbc8c3e",
   "metadata": {},
   "source": [
    "### 1.3 Loading a function upon a non trivial probability distribution"
   ]
  },
  {
   "cell_type": "markdown",
   "id": "13d6b494",
   "metadata": {},
   "source": [
    "Now we are going to load a discrete probability distribution $p_d$ and an array $f$ altogether. This case is a combination of the two previous cases. First, we start by loading the discrete probability distribution $p_d$. Note that, for loading the normalised array $\\hat{f}$ we need an extra qubit. The probability function is loaded just in the first three registers: \n"
   ]
  },
  {
   "cell_type": "code",
   "execution_count": null,
   "id": "c00fdf11",
   "metadata": {},
   "outputs": [],
   "source": [
    "routine = qlm.QRoutine()\n",
    "register = routine.new_wires(n+1)\n",
    "routine.apply(load_probability(probability, id_name='p(x)'),register[:n])\n",
    "%qatdisplay routine --depth 0 --svg"
   ]
  },
  {
   "cell_type": "markdown",
   "id": "bfb5f0c0",
   "metadata": {},
   "source": [
    "Now our quantum state is:\n",
    "$$|0\\rangle\\left[\\sqrt{p_0}|0\\rangle+\\sqrt{p_1}|1\\rangle+\\sqrt{p_2}|2\\rangle+\\sqrt{p_3}|3\\rangle+\\sqrt{p_4}|4\\rangle+\\sqrt{p_5}|5\\rangle+\\sqrt{p_6}|6\\rangle+\\sqrt{p_7}|7\\rangle\\right]$$"
   ]
  },
  {
   "cell_type": "markdown",
   "id": "225d9d40",
   "metadata": {},
   "source": [
    "Next, we compute the angles and load the function. Instead of loading $\\hat{f}$ we are going to load $\\sqrt{\\hat{f}}$ to have everything at the same place."
   ]
  },
  {
   "cell_type": "code",
   "execution_count": null,
   "id": "7a78eb54",
   "metadata": {},
   "outputs": [],
   "source": [
    "f_root = np.sqrt(f_normalised)\n",
    "routine.apply(load_array(f_root, id_name='f(x)'),register)\n",
    "%qatdisplay routine --depth 0 --svg"
   ]
  },
  {
   "cell_type": "markdown",
   "id": "617f923c",
   "metadata": {},
   "source": [
    "Now our quantum state is:\n",
    "$$|0\\rangle\\left[\\sqrt{p_0\\hat{f}_0}|0\\rangle+\\sqrt{p_1\\hat{f}_1}|1\\rangle+\\sqrt{p_2\\hat{f}_2}|2\\rangle+\\sqrt{p_3\\hat{f}_3}|3\\rangle+\\sqrt{p_4\\hat{f}_4}|4\\rangle+\\sqrt{p_5\\hat{f}_5}|5\\rangle+\\sqrt{p_6\\hat{f}_6}|6\\rangle+\\sqrt{p_7\\hat{f}_7}|7\\rangle\\right]+...$$\n",
    "If we measure again, we can compare our result with the element-wise product of $p_d$ and $f$"
   ]
  },
  {
   "cell_type": "code",
   "execution_count": null,
   "id": "8b3dd270",
   "metadata": {},
   "outputs": [],
   "source": [
    "results,_,_,_ = get_results(routine, linalg_qpu=linalg_qpu)\n",
    "quantum_probabilities = results[\"Probability\"].values"
   ]
  },
  {
   "cell_type": "code",
   "execution_count": null,
   "id": "5f610c33",
   "metadata": {},
   "outputs": [],
   "source": [
    "quantum_result = quantum_probabilities*normalization_constant\n",
    "print(\"Quantum result: \",quantum_result[0:N])\n",
    "print(\"Classical result: \",probability*f)\n",
    "np.isclose(quantum_result[0:N], probability*f).all()"
   ]
  },
  {
   "cell_type": "markdown",
   "id": "0dac70a0",
   "metadata": {},
   "source": [
    "If we wanted to compute the scalar product from the previous technique, we can use a neat trick. If we just measure the last qubit (the one that is more on the left in the state or the one that is at the bottom of the circuit) we are effectively computing this amount:"
   ]
  },
  {
   "cell_type": "code",
   "execution_count": null,
   "id": "e6c01db3",
   "metadata": {},
   "outputs": [],
   "source": [
    "results,_,_,_ = get_results(routine, linalg_qpu=linalg_qpu,qubits = [n])\n",
    "quantum_probabilities = results[\"Probability\"].values"
   ]
  },
  {
   "cell_type": "code",
   "execution_count": null,
   "id": "d7684a9e",
   "metadata": {},
   "outputs": [],
   "source": [
    "quantum_result = quantum_probabilities*normalization_constant\n",
    "print(\"Quantum result: \",quantum_result[0])\n",
    "print(\"Classical result: \",np.dot(probability,f))\n",
    "#Test\n",
    "np.isclose(quantum_result[0], np.dot(probability,f))"
   ]
  },
  {
   "cell_type": "markdown",
   "id": "24eeb1e0",
   "metadata": {},
   "source": [
    "### 1.4 Loading two arrays"
   ]
  },
  {
   "cell_type": "markdown",
   "id": "16a5adb9",
   "metadata": {},
   "source": [
    "In our final example, we are going to load two arrays $f$ and $g = p_d$. To load two arrays we need two extra qubits, one for the first array and another for the second one. We start again by defining our base routine with size $n+2$. As we always need to load a base distribution we load a uniform probability distribution."
   ]
  },
  {
   "cell_type": "code",
   "execution_count": null,
   "id": "e2f957d7",
   "metadata": {},
   "outputs": [],
   "source": [
    "g = probability\n",
    "routine = qlm.QRoutine()\n",
    "register = routine.new_wires(n+2)\n",
    "routine.apply(uniform_distribution(n),register[:n])\n",
    "%qatdisplay routine --depth 0 --svg"
   ]
  },
  {
   "cell_type": "markdown",
   "id": "ba3174e6",
   "metadata": {},
   "source": [
    "We already have defined the normalised version of $f$, $\\hat{f}$ which is stored in the variable *f_normalised*. However the discrete probability distribution $p_d$ is not normalised. For this reason, we define the normalised version as:\n",
    "$$\\hat{g} = \\dfrac{g}{||g||_{\\infty}}.$$"
   ]
  },
  {
   "cell_type": "code",
   "execution_count": null,
   "id": "82709478",
   "metadata": {},
   "outputs": [],
   "source": [
    "g_normalised = g/np.max(g)"
   ]
  },
  {
   "cell_type": "markdown",
   "id": "13a41959",
   "metadata": {},
   "source": [
    "Now we have to load the normalised arrays in the circuit. Because we have two arrays instead of one, we are going to load the first array in the first reserved register and the second one in the second reserved register."
   ]
  },
  {
   "cell_type": "code",
   "execution_count": null,
   "id": "7b5f3c5f",
   "metadata": {},
   "outputs": [],
   "source": [
    "routine.apply(load_array(f_normalised,id_name= '1'),register[0:n],register[n])\n",
    "routine.apply(load_array(g_normalised,id_name= '2'),register[0:n],register[n+1])"
   ]
  },
  {
   "cell_type": "code",
   "execution_count": null,
   "id": "1be10613",
   "metadata": {},
   "outputs": [],
   "source": [
    "%qatdisplay routine --depth 0 --svg"
   ]
  },
  {
   "cell_type": "markdown",
   "id": "96708476",
   "metadata": {},
   "source": [
    "Now our quantum state is:\n",
    "$$\\dfrac{1}{\\sqrt{N}}|0\\rangle|0\\rangle\\left[f_0 g_0|0\\rangle+f_1 g_1|1\\rangle+f_2 g_2|2\\rangle+f_3 g_3|3\\rangle+f_4 g_4|4\\rangle+f_5 g_5|5\\rangle+f_6 g_6|6\\rangle+f_7 g_7|7\\rangle\\right]+...$$\n",
    "If we measure again, we can compare our result with the element-wise product of $g$ and $f$"
   ]
  },
  {
   "cell_type": "code",
   "execution_count": null,
   "id": "fc9ca8e1",
   "metadata": {},
   "outputs": [],
   "source": [
    "results,_,_,_ = get_results(routine, linalg_qpu=linalg_qpu)\n",
    "quantum_probabilities = results[\"Probability\"].values"
   ]
  },
  {
   "cell_type": "code",
   "execution_count": null,
   "id": "b5117470",
   "metadata": {},
   "outputs": [],
   "source": [
    "quantum_result = np.sqrt(quantum_probabilities*N)*np.max(f)*np.max(g)\n",
    "classical_result = f*g\n",
    "print(\"Quantum result: \",quantum_result[:N])\n",
    "print(\"Classical result: \",classical_result)\n",
    "np.isclose(quantum_result[:N], classical_result).all()"
   ]
  },
  {
   "cell_type": "markdown",
   "id": "ce80fe2b",
   "metadata": {},
   "source": [
    "If we want to compute the scalar product from our state we simply need to do a Hadamard transform. The first coefficient of the Hadamard transform is the sum of the input vector, in other words, our previous state:\n",
    "\n",
    "$$\\dfrac{1}{\\sqrt{N}}|0\\rangle|0\\rangle\\left[f_0 g_0|0\\rangle+f_1 g_1|1\\rangle+f_2 g_2|2\\rangle+f_3 g_3|3\\rangle+f_4 g_4|4\\rangle+f_5 g_5|5\\rangle+f_6 g_6|6\\rangle+f_7 g_7|7\\rangle\\right]+...,$$\n",
    "transforms to:\n",
    "$$\\dfrac{1}{N}|0\\rangle|0\\rangle\\left[f_0 g_0+f_1 g_1+f_2 g_2+f_3 g_3+f_4 g_4+f_5 g_5+f_6 g_6+f_7 g_7\\right|0\\rangle+...]+...$$\n",
    "The rest of the coefficients depend on which specific transformation we are doing, as there are three different versions of this transformation. Note that instead of a factor $\\dfrac{1}{\\sqrt{N}}$ now we have a factor $\\dfrac{1}{N}$."
   ]
  },
  {
   "cell_type": "code",
   "execution_count": null,
   "id": "ee4e3020",
   "metadata": {},
   "outputs": [],
   "source": [
    "routine.apply(uniform_distribution(n),register[:n])\n",
    "%qatdisplay routine --depth 0 --svg"
   ]
  },
  {
   "cell_type": "code",
   "execution_count": null,
   "id": "72c63d51",
   "metadata": {},
   "outputs": [],
   "source": [
    "results,_,_,_ = get_results(routine, linalg_qpu=linalg_qpu)\n",
    "quantum_probabilities = results[\"Probability\"].values"
   ]
  },
  {
   "cell_type": "code",
   "execution_count": null,
   "id": "9ed2976a",
   "metadata": {},
   "outputs": [],
   "source": [
    "quantum_result = np.sqrt(quantum_probabilities)*N*np.max(f)*np.max(g)\n",
    "classical_result = np.dot(f,g)\n",
    "print(\"Quantum result: \",quantum_result[0])\n",
    "print(\"Classical result: \",classical_result)\n",
    "#Test\n",
    "np.isclose(quantum_result[0], classical_result)"
   ]
  },
  {
   "cell_type": "markdown",
   "id": "e2623070",
   "metadata": {},
   "source": [
    "### 1.5 Ordering conventions"
   ]
  },
  {
   "cell_type": "markdown",
   "id": "abd03a2f",
   "metadata": {},
   "source": [
    "Here we are following the ordering convention $|q_n...q_1q_0\\rangle$ with $q_0$ being the least significant qubit. However, in plain QLM they follow the opposite convention where $|q_0q_1...q_n\\rangle$. Here we show how to use our functions to follow the QLM convention, indeed it is not difficult.\n",
    "\n",
    "First, for loading a distribution we just need to apply the loading gate in opposite order:"
   ]
  },
  {
   "cell_type": "code",
   "execution_count": null,
   "id": "02303e89",
   "metadata": {},
   "outputs": [],
   "source": [
    "routine = qlm.QRoutine()\n",
    "register = routine.new_wires(n)\n",
    "routine.apply(load_probability(probability),register[::-1])\n",
    "%qatdisplay routine --depth 1 --svg"
   ]
  },
  {
   "cell_type": "markdown",
   "id": "7754bb1c",
   "metadata": {},
   "source": [
    "To get the results we do the same as always."
   ]
  },
  {
   "cell_type": "code",
   "execution_count": null,
   "id": "85b09a2f",
   "metadata": {},
   "outputs": [],
   "source": [
    "results,_,_,_ = get_results(routine, linalg_qpu=linalg_qpu)"
   ]
  },
  {
   "cell_type": "markdown",
   "id": "ccd42abc",
   "metadata": {},
   "source": [
    "Now we use the QLM ordering to get the probabilities: for this we can use the *Int* column from the *results* DataFrame"
   ]
  },
  {
   "cell_type": "code",
   "execution_count": null,
   "id": "e0ee5db8",
   "metadata": {},
   "outputs": [],
   "source": [
    "quantum_probabilities = results.sort_values(\"Int\")[\"Probability\"].values\n",
    "print(\"Quantum probabilities: \",quantum_probabilities)\n",
    "print(\"Classical probabilities: \",probability)\n",
    "np.isclose(quantum_probabilities, probability).all()"
   ]
  },
  {
   "cell_type": "markdown",
   "id": "d9edd4b0",
   "metadata": {},
   "source": [
    "If we have to deal with the loading of functions it can be a little bit more tricky:"
   ]
  },
  {
   "cell_type": "code",
   "execution_count": null,
   "id": "704b25f6",
   "metadata": {},
   "outputs": [],
   "source": [
    "routine = qlm.QRoutine()\n",
    "register = routine.new_wires(n+1)\n",
    "control = register[:n]\n",
    "target = register[n]\n",
    "routine.apply(uniform_distribution(n),register[:n])\n",
    "routine.apply(load_array(f_normalised),[control[::-1],target])\n",
    "%qatdisplay routine --depth 0 --svg"
   ]
  },
  {
   "cell_type": "markdown",
   "id": "88c7bdce",
   "metadata": {},
   "source": [
    "To retrieve the results it is less convenient as now the result is not in order "
   ]
  },
  {
   "cell_type": "code",
   "execution_count": null,
   "id": "323af777",
   "metadata": {},
   "outputs": [],
   "source": [
    "results,_,_,_ = get_results(routine, linalg_qpu=linalg_qpu)\n",
    "results.sort_values(\"Int\",inplace = True)\n",
    "results[\"Function\"] = np.sqrt(results[\"Probability\"]*N)*normalization_constant\n",
    "results"
   ]
  },
  {
   "cell_type": "markdown",
   "id": "1df62e1a",
   "metadata": {},
   "source": [
    "See that now the information is stored in all qubits marked with a zero in the leftmost qubit. That provoques that the information is stored only in the odd positions (with respect to the int convention).\n",
    "Another possibility is applying everything in reverse:"
   ]
  },
  {
   "cell_type": "code",
   "execution_count": null,
   "id": "ba5d554c",
   "metadata": {},
   "outputs": [],
   "source": [
    "routine = qlm.QRoutine()\n",
    "register = routine.new_wires(n+1)\n",
    "control = register[1:n+1]\n",
    "target = register[0]\n",
    "routine.apply(uniform_distribution(n),register[1:n+1])\n",
    "routine.apply(load_array(f_normalised),[control[::-1],target])\n",
    "%qatdisplay routine --depth 0 --svg"
   ]
  },
  {
   "cell_type": "code",
   "execution_count": null,
   "id": "be5b4b91",
   "metadata": {},
   "outputs": [],
   "source": [
    "results,_,_,_ = get_results(routine, linalg_qpu=linalg_qpu)\n",
    "results.sort_values(\"Int\",inplace = True)\n",
    "results[\"Function\"] = np.sqrt(results[\"Probability\"]*N)*normalization_constant\n",
    "results"
   ]
  },
  {
   "cell_type": "markdown",
   "id": "a0c70bc3",
   "metadata": {},
   "source": [
    "In this case the results are naturally stored in the order of QLM (the int order). "
   ]
  },
  {
   "cell_type": "markdown",
   "id": "9ffea34b",
   "metadata": {},
   "source": [
    "## Appendix 1: Loading array with angles"
   ]
  },
  {
   "cell_type": "markdown",
   "id": "3b39cab4",
   "metadata": {},
   "source": [
    "When we load an array, under the hood we are really loading some angles into the quantum circuit. In this appendix, we show how to use the angles to load a properly normalised array $\\hat{f}$. As always we start by loading a base discrete probability distribution."
   ]
  },
  {
   "cell_type": "code",
   "execution_count": null,
   "id": "6c3db403",
   "metadata": {},
   "outputs": [],
   "source": [
    "routine = qlm.QRoutine()\n",
    "register = routine.new_wires(n+1)\n",
    "routine.apply(uniform_distribution(n),register[:n])"
   ]
  },
  {
   "cell_type": "markdown",
   "id": "df451af8",
   "metadata": {},
   "source": [
    " If we want to load the array $\\hat{f}$ using angles, we first have to compute the associated angles:\n",
    "$$ \\left(\\theta_0,\\theta_1,\\theta_2,\\theta_3,\\theta_4,\\theta_5,\\theta_6,\\theta_7\\right)= \\theta =2\\arccos\\left(\\hat{f}\\right)=\\left(2\\arccos\\left(\\hat{f}_0\\right),2\\arccos\\left(\\hat{f}_1\\right),2\\arccos\\left(\\hat{f}_2\\right),2\\arccos\\left(\\hat{f}_3\\right),2\\arccos\\left(\\hat{f}_4\\right),2\\arccos\\left(\\hat{f}_5\\right),2\\arccos\\left(\\hat{f}_6\\right),2\\arccos\\left(\\hat{f}_7\\right)\\right)$$\n",
    "This is the reason why we need to work with the normalised version of function $f$."
   ]
  },
  {
   "cell_type": "code",
   "execution_count": null,
   "id": "3822a1f6",
   "metadata": {},
   "outputs": [],
   "source": [
    "angles = 2*np.arccos(f_normalised)"
   ]
  },
  {
   "cell_type": "markdown",
   "id": "d45fb917",
   "metadata": {},
   "source": [
    "To load angles we will use the function **load_angles**, which is inside the **data_loading** module. The input should be a numpy array with the angles associated to the normalised function $\\hat{f}$. In this case, the probability distribution is the variable *probability*. The output of the function is a **qlm** *AbstractGate* with arity *n*."
   ]
  },
  {
   "cell_type": "markdown",
   "id": "6247e3de",
   "metadata": {},
   "source": [
    "Next, we load the angles into the quantum state. For that, we have the function *load_angles*, these function admits a second argument called *method*. By default, it is set to *multiplexors*, but it can also have the value *brute_force*. The second option is much less efficient in terms of quantum gates."
   ]
  },
  {
   "cell_type": "code",
   "execution_count": null,
   "id": "0fc0612b",
   "metadata": {},
   "outputs": [],
   "source": [
    "from QQuantLib.DL.data_loading import load_angles"
   ]
  },
  {
   "cell_type": "code",
   "execution_count": null,
   "id": "3de58854",
   "metadata": {},
   "outputs": [],
   "source": [
    "routine.apply(load_angles(angles),register)"
   ]
  },
  {
   "cell_type": "markdown",
   "id": "926c474a",
   "metadata": {},
   "source": [
    "Now, our quantum state has the form:\n",
    "$$\\dfrac{1}{\\sqrt{N}}|0\\rangle\\left[\\cos\\left(\\dfrac{\\theta_0}{2}\\right)|0\\rangle+\\cos\\left(\\dfrac{\\theta_1}{2}\\right)|1\\rangle+\\cos\\left(\\dfrac{\\theta_2}{2}\\right)|2\\rangle+\\cos\\left(\\dfrac{\\theta_3}{2}\\right)|3\\rangle+\\cos\\left(\\dfrac{\\theta_4}{2}\\right)|4\\rangle+\\cos\\left(\\dfrac{\\theta_5}{2}\\right)|5\\rangle+\\cos\\left(\\dfrac{\\theta_6}{2}\\right)|6\\rangle+\\cos\\left(\\dfrac{\\theta_7}{2}\\right)|7\\rangle\\right]+...,$$\n",
    "substituting the value of the angles we have the state\n",
    "$$\\dfrac{1}{\\sqrt{N}}|0\\rangle\\left[\\hat{f}_0|0\\rangle+\\hat{f}_1|1\\rangle+\\hat{f}_2|2\\rangle+\\hat{f}_3|3\\rangle+\\hat{f}_4|4\\rangle+\\hat{f}_5|5\\rangle+\\hat{f}_6|6\\rangle+\\hat{f}_7|7\\rangle\\right]+...$$\n",
    "The associated circuit is:"
   ]
  },
  {
   "cell_type": "code",
   "execution_count": null,
   "id": "184d8fc4",
   "metadata": {},
   "outputs": [],
   "source": [
    "%qatdisplay routine --depth 0 --svg"
   ]
  },
  {
   "cell_type": "code",
   "execution_count": null,
   "id": "58481659",
   "metadata": {},
   "outputs": [],
   "source": [
    "results,_,_,_ = get_results(routine, linalg_qpu=linalg_qpu)\n",
    "quantum_probabilities = results[\"Probability\"].values"
   ]
  },
  {
   "cell_type": "markdown",
   "id": "cd567140",
   "metadata": {},
   "source": [
    "Finally, we measure the probabilities that we have loaded and see that is the same as using the function **load_array**"
   ]
  },
  {
   "cell_type": "code",
   "execution_count": null,
   "id": "200a7de2",
   "metadata": {},
   "outputs": [],
   "source": [
    "quantum_f = np.sqrt(quantum_probabilities)*np.sqrt(N)*normalization_constant\n",
    "print(\"Array loaded in the quantum state: \",quantum_f[:N])\n",
    "print(\"Original array: \",f)\n",
    "np.isclose(quantum_f[:N], f).all()"
   ]
  },
  {
   "cell_type": "markdown",
   "id": "c6596721",
   "metadata": {},
   "source": [
    "## Appendix 2: Quantum Multiplexors"
   ]
  },
  {
   "cell_type": "markdown",
   "id": "7c8755f6",
   "metadata": {},
   "source": [
    "Implementation of data loading routines using the *Lov Grover and Terry Rudolph* routines directly, using controlled rotations by state, is highly inefficient. In general, the use of controlled rotations generates highly deep quantum circuits prone to errors. A more efficient approach is the use of Quantum Multiplexors."
   ]
  },
  {
   "cell_type": "markdown",
   "id": "df872cd2",
   "metadata": {},
   "source": [
    "A Quantum Multiplexor in our case is a routine that applies a quantum gate depending on a control register. To simplify things, we are interested in Quantum Multiplexed Ry gates. Specifically, a Quantum Multiplexed Ry gate applies a $Ry$ rotation to a specific qubit depending on a control register. \n",
    "To give an example we are going to focus on a register with four qubits, the first three ones are the controls and the fourth one is the target qubit:\n",
    "$$\n",
    "\\begin{array}{l}\n",
    "&|0000\\rangle\\longrightarrow |0\\rangle|0\\rangle\\\\\n",
    "&|0001\\rangle\\longrightarrow |0\\rangle|1\\rangle\\\\\n",
    "&|0010\\rangle\\longrightarrow |0\\rangle|2\\rangle\\\\\n",
    "&|0011\\rangle\\longrightarrow |0\\rangle|3\\rangle\\\\\n",
    "&|0100\\rangle\\longrightarrow |0\\rangle|4\\rangle\\\\\n",
    "&|0101\\rangle\\longrightarrow |0\\rangle|5\\rangle\\\\\n",
    "&|0110\\rangle\\longrightarrow |0\\rangle|6\\rangle\\\\\n",
    "&|0111\\rangle\\longrightarrow |0\\rangle|7\\rangle\\\\\n",
    "\\end{array}\n",
    "$$\n",
    "A quantum Quantum Multiplexed Ry gate applies a $Ry$ gate to the target register with angles $(\\theta_0,\\theta_1,\\theta_2,\\theta_3,\\theta_4,\\theta_5,\\theta_6,\\theta_7)$. It is easier to visualize it:\n",
    "$$\n",
    "\\begin{array}{l}\n",
    "&|0\\rangle|0\\rangle\\longrightarrow \\cos(\\theta_0)|0\\rangle|0\\rangle+\\sin(\\theta_0)|1\\rangle|0\\rangle\\\\\n",
    "&|0\\rangle|1\\rangle\\longrightarrow \\cos(\\theta_1)|0\\rangle|1\\rangle+\\sin(\\theta_1)|1\\rangle|1\\rangle\\\\\n",
    "&|0\\rangle|2\\rangle\\longrightarrow \\cos(\\theta_2)|0\\rangle|2\\rangle+\\sin(\\theta_2)|1\\rangle|2\\rangle\\\\\n",
    "&|0\\rangle|3\\rangle\\longrightarrow \\cos(\\theta_3)|0\\rangle|3\\rangle+\\sin(\\theta_3)|1\\rangle|3\\rangle\\\\\n",
    "&|0\\rangle|4\\rangle\\longrightarrow \\cos(\\theta_4)|0\\rangle|4\\rangle+\\sin(\\theta_4)|1\\rangle|4\\rangle\\\\\n",
    "&|0\\rangle|5\\rangle\\longrightarrow \\cos(\\theta_5)|0\\rangle|5\\rangle+\\sin(\\theta_5)|1\\rangle|5\\rangle\\\\\n",
    "&|0\\rangle|6\\rangle\\longrightarrow \\cos(\\theta_6)|0\\rangle|6\\rangle+\\sin(\\theta_6)|1\\rangle|6\\rangle\\\\\n",
    "&|0\\rangle|7\\rangle\\longrightarrow \\cos(\\theta_7)|0\\rangle|7\\rangle+\\sin(\\theta_7)|1\\rangle|7\\rangle\\\\\n",
    "\\end{array}\n",
    "$$\n",
    "This is the idea. Now, to implement this operator in the original paper they propose a recursive way. We prefer to propose a new method to do it without the need of recursion. In this way, it is easier to analyse the computational cost.\n",
    "\n",
    "To do the implementation we just need to ingredients, CNOT gates and single rotations. The CNOT gates and the RY rotations have to be applied in an alternating order. See the image below."
   ]
  },
  {
   "cell_type": "code",
   "execution_count": null,
   "id": "1f8893e8",
   "metadata": {},
   "outputs": [],
   "source": [
    "m = 3\n",
    "angles = np.arange(2**m)\n",
    "angles = angles/np.max(angles)\n",
    "routine = qlm.QRoutine()\n",
    "register = routine.new_wires(m+1)\n",
    "routine.apply(load_angles(angles),register)\n",
    "%qatdisplay routine --depth 0 --svg"
   ]
  },
  {
   "cell_type": "markdown",
   "id": "03135e44",
   "metadata": {},
   "source": [
    "See that the CNOT gates have always as a target the target register. The controls simply have $2^i$ periodicity with a certain $i$ depending on the position. In simpler words, the first CNOT (in the image above the one controlling in $q_2$, in the image below it controls) is in the positions $(0,2,4,6...)$. The second one is going to be in positions $(1+0,1+4,1+8,...)$. In the image below we can see a more extensive example:"
   ]
  },
  {
   "cell_type": "code",
   "execution_count": null,
   "id": "c6946574",
   "metadata": {},
   "outputs": [],
   "source": [
    "m = 4\n",
    "angles = np.arange(2**m)\n",
    "angles = angles/np.max(angles)\n",
    "routine = qlm.QRoutine()\n",
    "register = routine.new_wires(m+1)\n",
    "routine.apply(load_angles(angles),register)\n",
    "%qatdisplay routine --depth 0 --svg"
   ]
  },
  {
   "cell_type": "markdown",
   "id": "60360aef",
   "metadata": {},
   "source": [
    "Finally, the angles for the rotations are the Hadamard transform in sequence order of the angles that we want to load. For the circuit above it is possible to check it using the fast Walsh Hadamard transform:"
   ]
  },
  {
   "cell_type": "code",
   "execution_count": null,
   "id": "bd855d8c",
   "metadata": {},
   "outputs": [],
   "source": [
    "from QQuantLib.utils.utils import fwht"
   ]
  },
  {
   "cell_type": "code",
   "execution_count": null,
   "id": "1158ec7a",
   "metadata": {},
   "outputs": [],
   "source": [
    "fwht(angles)/2**m"
   ]
  },
  {
   "cell_type": "code",
   "execution_count": null,
   "id": "4095ab59",
   "metadata": {},
   "outputs": [],
   "source": []
  },
  {
   "cell_type": "code",
   "execution_count": null,
   "id": "debad547",
   "metadata": {},
   "outputs": [],
   "source": []
  }
 ],
 "metadata": {
  "kernelspec": {
   "display_name": "Python 3 (ipykernel)",
   "language": "python",
   "name": "python3"
  },
  "language_info": {
   "codemirror_mode": {
    "name": "ipython",
    "version": 3
   },
   "file_extension": ".py",
   "mimetype": "text/x-python",
   "name": "python",
   "nbconvert_exporter": "python",
   "pygments_lexer": "ipython3",
   "version": "3.11.7"
  }
 },
 "nbformat": 4,
 "nbformat_minor": 5
}
