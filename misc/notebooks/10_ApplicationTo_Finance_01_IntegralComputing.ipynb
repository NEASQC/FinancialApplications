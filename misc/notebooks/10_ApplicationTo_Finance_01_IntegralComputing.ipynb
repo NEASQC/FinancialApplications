{
 "cells": [
  {
   "cell_type": "markdown",
   "id": "a90446e8",
   "metadata": {},
   "source": [
    "# Application of Amplitude Estimation to Finance: Computing Integrals\n",
    "\n",
    "The reference for this notebook is:\n",
    "\n",
    "* NEASQC Deliverable: *D5.1: Review of State-of-the-Art for Pricing and Computation of VaR*  \n",
    "  [https://www.neasqc.eu/wp-content/uploads/2021/06/NEASQC_D5.1_Review-of-state-of-the-art-for-Pricing-and-Computation-of-VaR_R2.0_Final.pdf](https://www.neasqc.eu/wp-content/uploads/2021/06/NEASQC_D5.1_Review-of-state-of-the-art-for-Pricing-and-Computation-of-VaR_R2.0_Final.pdf)\n",
    "\n",
    "In finance, one of the most critical tasks is calculating the \"fair\" price of a **derivative contract**, which can be defined as follows (per Investopedia):\n",
    "*A derivative is a contract between two or more parties whose value is based on an agreed-upon underlying financial asset (e.g., a security) or set of assets (e.g., an index).*\n",
    "\n",
    "Typically, the problem of pricing a **derivative contract** can be reduced to computing the expectation of a given function $ f(x) $, where $ x $ follows a probability density $ p(x) $:\n",
    "$$\n",
    "\\mathbb{E}[f] = \\int_a^b p(x)f(x)dx.\n",
    "$$\n",
    "\n",
    "This integral can be approximated using the Riemann sum:\n",
    "$$\n",
    "\\mathbb{E}[f] \\approx \\sum_{i=0}^{2^n-1} p(x_i)f(x_i)\\Delta x,\n",
    "$$\n",
    "where $ \\Delta x $ represents the width of each interval.\n",
    "\n",
    "This value can be computed using **Amplitude Estimation (AE)** techniques. In this notebook, we review the function `q_solve_integral` from the module *quantum_integration* in the package **finance** of the `QQuantLib` library (**QQuantLib/finance/quantum_integration**).\n",
    "\n",
    "The `q_solve_integral` function leverages the `Encoding` class from **QQuantLib.DL.encoding_protocols** and the `AE` class from **QQuantLib/AE/ae_class** to load an input probability distribution $ p(x) $ and a function $ f(x) $. It then computes the aforementioned integral using the various **AE** algorithms implemented in **QQuantLib**.\n"
   ]
  },
  {
   "cell_type": "code",
   "execution_count": null,
   "id": "ddb6a0fd",
   "metadata": {},
   "outputs": [],
   "source": [
    "import sys\n",
    "sys.path.append(\"../../\")"
   ]
  },
  {
   "cell_type": "code",
   "execution_count": null,
   "id": "903ccf00",
   "metadata": {},
   "outputs": [],
   "source": [
    "import numpy as np\n",
    "import pandas as pd\n",
    "import matplotlib.pyplot as plt\n",
    "import qat.lang.AQASM as qlm\n",
    "from copy import deepcopy"
   ]
  },
  {
   "cell_type": "code",
   "execution_count": null,
   "id": "2e6667ab",
   "metadata": {},
   "outputs": [],
   "source": [
    "%matplotlib inline"
   ]
  },
  {
   "cell_type": "code",
   "execution_count": null,
   "id": "3e2761d3",
   "metadata": {},
   "outputs": [],
   "source": [
    "#This cell loads the QLM solver. See notebook: 00_AboutTheNotebooksAndQPUs.ipynb\n",
    "from QQuantLib.qpu.get_qpu import get_qpu\n",
    "# myqlm qpus: python, c\n",
    "# QLM qpus accessed using Qaptiva Access library: qlmass_linalg, qlmass_mps\n",
    "# QLM qpus: Only in local Quantum Learning Machine: linalg, mps\n",
    "my_qpus = [\"python\", \"c\", \"qlmass_linalg\", \"qlmass_mps\", \"linalg\", \"mps\"]\n",
    "\n",
    "linalg_qpu = get_qpu(my_qpus[1])"
   ]
  },
  {
   "cell_type": "code",
   "execution_count": null,
   "id": "0ef7577c",
   "metadata": {},
   "outputs": [],
   "source": [
    "#See 01_DataLoading_Module_Use for the use of this function\n",
    "from QQuantLib.utils.data_extracting import get_results"
   ]
  },
  {
   "cell_type": "markdown",
   "id": "d2193465",
   "metadata": {},
   "source": [
    "## 1. Defining the Problem\n",
    "\n",
    "The first step in transforming our expectation computation into an **Amplitude Estimation** problem is to define the probability density $ p(x) $ and the function $ f(x) $. Since we cannot work with continuous variables, we must discretize both $ p(x) $ and $ f(x) $.\n",
    "\n",
    "We will define the following toy problem:\n",
    "\n",
    "- **Domain**: Our variable $ x $ will be a set of $ 2^n $ integer numbers:\n",
    "  $$\n",
    "  x \\in \\{0, 1, 2, \\dots, 2^n - 1\\}.\n",
    "  $$\n",
    "\n",
    "- **$ p(x) $**: Over this domain, we define a properly normalized probability distribution in the form:\n",
    "  $$\n",
    "  p(x) = \\frac{x}{\\sum_{i=0}^{2^n - 1} i}.\n",
    "  $$\n",
    "\n",
    "- **$ f(x) $**: Over the same domain, we define the following properly normalized function:\n",
    "  $$\n",
    "  f(x) = \\frac{x}{2^n - 1}.\n",
    "  $$\n",
    "\n",
    "---\n",
    "\n",
    "### **BE AWARE**\n",
    "\n",
    "It is **MANDATORY** that both $ p(x) $ and $ f(x) $ are properly normalized. The following conditions **must** be satisfied:\n",
    "\n",
    "- For $ p(x) $, it is mandatory that:\n",
    "  $$\n",
    "  \\sum_{i=0}^{2^n - 1} p(x_i) = 1.\n",
    "  $$\n",
    "\n",
    "- For $ f(x) $, it is mandatory that:\n",
    "  $$\n",
    "  f(x_i) \\leq 1 \\quad \\forall i.\n",
    "  $$"
   ]
  },
  {
   "cell_type": "code",
   "execution_count": null,
   "id": "0ed1fa24",
   "metadata": {},
   "outputs": [],
   "source": [
    "a = 0.0\n",
    "\n",
    "b = np.pi / 4.0\n",
    "\n",
    "#n will define the maximum numbers of our domain\n",
    "n = 3\n",
    "x = np.linspace(a, b, 2 ** n)\n",
    "\n",
    "#function definition\n",
    "f_x = np.sin(x)\n",
    "#function normalisation\n",
    "f_x_normalisation = np.max(np.abs(f_x)) + 1e-8\n",
    "norm_f_x = f_x / f_x_normalisation\n",
    "\n",
    "#probability definition\n",
    "p_x = x\n",
    "#probability normalisation\n",
    "p_x_normalisation = np.sum(p_x) + 1e-8\n",
    "norm_p_x = p_x / p_x_normalisation\n",
    "\n",
    "#Desired Integral\n",
    "riemman = np.sum(p_x * f_x)"
   ]
  },
  {
   "cell_type": "code",
   "execution_count": null,
   "id": "6e065db0",
   "metadata": {},
   "outputs": [],
   "source": [
    "riemman"
   ]
  },
  {
   "cell_type": "code",
   "execution_count": null,
   "id": "4ce74d0f",
   "metadata": {},
   "outputs": [],
   "source": [
    "#Testing normalised conditions!\n",
    "\n",
    "print('p(x) condition: {}'.format(np.sum(norm_p_x) <= 1))\n",
    "print('f(x) condition: {}'.format(np.max(np.abs(norm_f_x)) <= 1))"
   ]
  },
  {
   "cell_type": "code",
   "execution_count": null,
   "id": "44acaebc",
   "metadata": {},
   "outputs": [],
   "source": [
    "fig, ax1 = plt.subplots()\n",
    "ax1.plot(x, norm_p_x, label='p(x)')\n",
    "ax1.set_ylabel('p(x)', color = 'b')\n",
    "ax1.tick_params(axis='y', labelcolor='b')\n",
    "ax2 = ax1.twinx()\n",
    "ax2.plot(x, norm_f_x, color='r', label = 'f(x)')\n",
    "ax2.set_ylabel('f(x)', color='r')\n",
    "ax2.tick_params(axis='y', labelcolor='r')\n",
    "fig.legend(['p(x)', 'f(x)'])"
   ]
  },
  {
   "cell_type": "markdown",
   "id": "3e9ef3b0",
   "metadata": {},
   "source": [
    "## 2. q_solve_integral Function\n",
    "\n",
    "The `q_solve_integral` function from **QQuantLib.finance.quantum_integration** requires a Python dictionary as input, containing various keys for configuration. This function relies on the following classes:\n",
    "\n",
    "- The `AE` class from **QQuantLib.AE.ae_class** (see Notebook **08_AmplitudeEstimation_Class**).\n",
    "- The `Encoding` class from **QQuantLib.DL.encoding_protocols** (see Notebook **09_DataEncodingClass**).\n",
    "\n",
    "Thus, all keys used to configure these classes can also be used as keys in the input dictionary for the `q_solve_integral` function.\n",
    "\n",
    "### Mandatory Keys\n",
    "\n",
    "Additionally, the following keys are mandatory for the input dictionary:\n",
    "\n",
    "- `array_function`: A NumPy array representing the function $ f(x) $ to be encoded.\n",
    "- `array_probability`: A NumPy array representing the probability distribution $ p(x) $. If set to `None`, a uniform distribution will be used.\n",
    "- `encoding`: An integer specifying the encoding procedure to use (see Notebook **09_DataEncodingClass**).\n",
    "- `ae_type`: A string indicating the Amplitude Estimation (AE) algorithm to use for solving the integral (see Notebook **08_AmplitudeEstimation_Class**).\n",
    "\n",
    "The following cell creates a base Python dictionary to serve as input for the `q_solve_integral` function.\n",
    "\n",
    "### Return Values\n",
    "\n",
    "The `q_solve_integral` function returns the following:\n",
    "\n",
    "- `ae_estimation`: A pandas DataFrame containing the computed integral using **AE** techniques. The function automatically manages normalization due to the encoding procedures, ensuring the desired integral is returned transparently. The DataFrame has three columns:\n",
    "  - `ae`: The computed integral value.\n",
    "  - `ae_l`: The lower bound of the integral value (applicable only for **IQAE** and **RQAE**).\n",
    "  - `ae_u`: The upper bound of the integral value (applicable only for **IQAE** and **RQAE**).\n",
    "\n",
    "- `solver_ae`: An object created from the **AE** class, properly configured for the computation.\n",
    "- `encode_class`: An object created from the **Encoding** class, properly configured for data encoding."
   ]
  },
  {
   "cell_type": "code",
   "execution_count": null,
   "id": "cc288aff",
   "metadata": {},
   "outputs": [],
   "source": [
    "#typical AE input dictionary\n",
    "m_k = [i for i in range(18)]\n",
    "ae_dict = {\n",
    "    #QPU\n",
    "    'qpu': linalg_qpu,\n",
    "    #Multi controlled decomposition\n",
    "    'mcz_qlm': False, \n",
    "    \n",
    "    #shots\n",
    "    'shots': 100,\n",
    "    \n",
    "    #MLAE\n",
    "    'schedule': [\n",
    "        m_k,\n",
    "        [100]*len(m_k)\n",
    "    ],\n",
    "    'delta' : 1.0e-7,\n",
    "    'ns' : 10000,\n",
    "    \n",
    "    #CQPEAE\n",
    "    'auxiliar_qbits_number': 14,\n",
    "    \"window\" : None,  \n",
    "    \"kaiser_alpha\" : None,\n",
    "    #IQPEAE\n",
    "    'cbits_number': 10,\n",
    "    #IQAE & RQAQE\n",
    "    'epsilon': 0.0001,\n",
    "    #IQAE\n",
    "    'alpha': 0.05,\n",
    "    #RQAE\n",
    "    'gamma': 0.05,\n",
    "    'q': 1.2,\n",
    "    #For encoding class\n",
    "    \"multiplexor\": True\n",
    "}\n",
    "\n",
    "#Now we add the data for encoding and the typw of AE\n",
    "\n",
    "ae_dict.update({\n",
    "    \"array_function\":norm_f_x,\n",
    "    \"array_probability\": norm_p_x,\n",
    "})"
   ]
  },
  {
   "cell_type": "code",
   "execution_count": null,
   "id": "c5c28e23",
   "metadata": {},
   "outputs": [],
   "source": [
    "from QQuantLib.finance.quantum_integration import q_solve_integral"
   ]
  },
  {
   "cell_type": "markdown",
   "id": "87fd217d",
   "metadata": {},
   "source": [
    "The goal of the `q_solve_integral` function is to transform the desired integral computation into an amplitude estimation (**AE**) problem and solve it using the various **AE** techniques available in **QQuantLib**.\n",
    "\n",
    "In general, an **AE** problem can be described as follows: given an oracle $\\mathcal{O}$ in the form:\n",
    "$$\n",
    "\\mathcal{O}|0\\rangle = |\\Psi\\rangle = \\sin(\\theta) |\\Psi_0\\rangle + \\cos(\\theta)|\\Psi_1\\rangle, \\tag{1}\n",
    "$$\n",
    "where $|\\Psi_0\\rangle$ and $|\\Psi_1\\rangle$ are orthogonal states, the objective is to estimate $\\sin^2(\\theta)$ by measuring the probability of obtaining the state $|\\Psi_0\\rangle$.\n",
    "\n",
    "While **Phase Estimation** algorithms (such as **CQPEAE** and **IQPEAE**) can directly compute $\\sin^2(\\theta)$, they typically require the use of the **Quantum Fourier Transform (QFT)**, which leads to more complex quantum circuits. In contrast, **AE** algorithms aim to leverage the Grover-like operator $\\mathcal{G}$ associated with the oracle, which acts as:\n",
    "$$\n",
    "\\mathcal{G}^{m_k}|\\Psi\\rangle = |\\Psi\\rangle = \\sin\\left((2m_k+1)\\theta\\right)|\\Psi_0\\rangle + \\cos\\left((2m_k+1)\\theta\\right)|\\Psi_1\\rangle.\n",
    "$$\n",
    "\n",
    "If $m_k$ is chosen such that $(2m_k+1)\\theta \\sim \\frac{\\pi}{2}$, the measurement probability of the $|\\Psi_0\\rangle$ state approaches 1. However, the optimal value of $m_k$ depends on $\\theta$, which is unknown a priori. To address this, **AE** algorithms employ systematic strategies for selecting $m_k$ to achieve the best possible estimation of $\\sin^2(\\theta)$."
   ]
  },
  {
   "cell_type": "markdown",
   "id": "76cb4039",
   "metadata": {},
   "source": [
    "## 3. Encoding protocol 0\n",
    "\n",
    "First, we are going to use the first encoding protocol (*encoding=0*) as explained in Notebook **09_DataEncodingClass**) and then we are going to test all the possible implemented **AE** algorithms.\n",
    "\n",
    "In this encoding protocol the Riemann sum:\n",
    "\n",
    "$$\\mathbb{E}[f] = \\sum_{i=0}^{2^n-1} p(x_i)f(x_i)$$\n",
    "\n",
    "will be codified as:\n",
    "\n",
    "$$|\\Psi\\rangle \n",
    "= \\sum_{i=0}^{2^{n}-1}\\sqrt{p(x_i)f(x_i)}|i\\rangle_{n}\\otimes|0\\rangle +  \\sum_{i=0}^{2^{n}-1} \\sqrt{p(x_i)(1-f(x_i))}|i\\rangle_{n}\\otimes|1\\rangle \\tag{2}$$\n",
    "\n",
    "So comparing $(2)$ with $(1)$ we can define:\n",
    "\n",
    "$$\\sin(\\theta)|\\Psi_{0}\\rangle = \\sum_{i=0}^{2^{n}-1}\\sqrt{p(x_i)f(x_i)}|i\\rangle_{n} \\otimes |0\\rangle $$\n",
    "\n",
    "and \n",
    "\n",
    "$$\\sin^2(\\theta) = \\sum_{i=0}^{2^{n}-1}|p(x_i)f(x_i)|$$\n",
    "\n",
    "In this case the *q_solve_integral* function will return the desired Riemann sum: $\\sum_{i=0}^{2^{n}-1}|p(x_i)f(x_i)|$"
   ]
  },
  {
   "cell_type": "code",
   "execution_count": null,
   "id": "51cde7ab",
   "metadata": {},
   "outputs": [],
   "source": [
    "ae_dict.update({\"encoding\" : 0})"
   ]
  },
  {
   "cell_type": "markdown",
   "id": "d15f9fe1",
   "metadata": {},
   "source": [
    "### 3.1 MLAE\n",
    "\n",
    "Now we are going to use **MLAE** for solving the complete problem"
   ]
  },
  {
   "cell_type": "code",
   "execution_count": null,
   "id": "3294f625",
   "metadata": {},
   "outputs": [],
   "source": [
    "ae_dict.update({\"ae_type\" : \"MLAE\"})"
   ]
  },
  {
   "cell_type": "code",
   "execution_count": null,
   "id": "2bf0d7be",
   "metadata": {
    "scrolled": true
   },
   "outputs": [],
   "source": [
    "%%time\n",
    "mlae_solution, mlae_object = q_solve_integral(**ae_dict)"
   ]
  },
  {
   "cell_type": "code",
   "execution_count": null,
   "id": "ae136b53",
   "metadata": {},
   "outputs": [],
   "source": [
    "mlae_solution"
   ]
  },
  {
   "cell_type": "code",
   "execution_count": null,
   "id": "2408e981",
   "metadata": {
    "scrolled": true
   },
   "outputs": [],
   "source": [
    "mlae_rieman = mlae_solution*f_x_normalisation*p_x_normalisation\n",
    "print(\"MLAE Riemann :{}. Riemann: {}\".format(mlae_rieman['ae'].iloc[0], riemman))\n",
    "print(\"Absolute Error: {}\".format(np.abs(mlae_rieman['ae'].iloc[0] - riemman)))"
   ]
  },
  {
   "cell_type": "code",
   "execution_count": null,
   "id": "e9988cc3",
   "metadata": {
    "scrolled": true
   },
   "outputs": [],
   "source": [
    "#we can access to different properties of the configured AE class used for doing the computations\n",
    "mlae_object.schedule_pdf"
   ]
  },
  {
   "cell_type": "code",
   "execution_count": null,
   "id": "a38f8d1b",
   "metadata": {
    "scrolled": true
   },
   "outputs": [],
   "source": [
    "c = mlae_object.oracle \n",
    "%qatdisplay c --svg"
   ]
  },
  {
   "cell_type": "markdown",
   "id": "af7af6fe",
   "metadata": {},
   "source": [
    "### 3.2 IQAE\n",
    "\n",
    "Now we are going to use **IQAE** for solving the complete problem"
   ]
  },
  {
   "cell_type": "code",
   "execution_count": null,
   "id": "13edd17c",
   "metadata": {},
   "outputs": [],
   "source": [
    "ae_dict.update({\"ae_type\" : \"IQAE\"})\n",
    "ae_dict.update({\"epsilon\" : 0.001})"
   ]
  },
  {
   "cell_type": "code",
   "execution_count": null,
   "id": "4ae682e7",
   "metadata": {},
   "outputs": [],
   "source": [
    "%%time\n",
    "iqae_solution, iqae_object = q_solve_integral(**ae_dict)"
   ]
  },
  {
   "cell_type": "code",
   "execution_count": null,
   "id": "34c73430",
   "metadata": {},
   "outputs": [],
   "source": [
    "iqae_rieman = iqae_solution*f_x_normalisation*p_x_normalisation\n",
    "print(\"IQAE Riemann :{}. Riemann: {}\".format(iqae_rieman['ae'].iloc[0], riemman))\n",
    "print(\"Absolute Error: {}\".format(np.abs(iqae_rieman['ae'].iloc[0] - riemman)))"
   ]
  },
  {
   "cell_type": "markdown",
   "id": "3aff71fc",
   "metadata": {},
   "source": [
    "### 3.3 RQAE\n",
    "\n",
    "Now we are going to use **RQAE** for solving the complete problem. Encoding 0 is not compatible with this **AE**. Instead of an error a warning is provided and an empty pandas DataFrame and a None will be returned."
   ]
  },
  {
   "cell_type": "code",
   "execution_count": null,
   "id": "ccc1bd33",
   "metadata": {},
   "outputs": [],
   "source": [
    "ae_dict.update({\"ae_type\" : \"RQAE\"})\n",
    "ae_dict.update({\"epsilon\" : 0.001})"
   ]
  },
  {
   "cell_type": "code",
   "execution_count": null,
   "id": "48eefddf",
   "metadata": {},
   "outputs": [],
   "source": [
    "%%time\n",
    "rqae_solution, rqae_object = q_solve_integral(**ae_dict)"
   ]
  },
  {
   "cell_type": "code",
   "execution_count": null,
   "id": "3119652b",
   "metadata": {
    "scrolled": true
   },
   "outputs": [],
   "source": [
    "rqae_solution"
   ]
  },
  {
   "cell_type": "code",
   "execution_count": null,
   "id": "67c7dd23",
   "metadata": {},
   "outputs": [],
   "source": [
    "rqae_object"
   ]
  },
  {
   "cell_type": "markdown",
   "id": "8e7f884d",
   "metadata": {},
   "source": [
    "### 3.4 MCAE\n",
    "\n",
    "We are going to use **MCAE** procedure for computing integrals."
   ]
  },
  {
   "cell_type": "code",
   "execution_count": null,
   "id": "fd25250c",
   "metadata": {},
   "outputs": [],
   "source": [
    "%%time\n",
    "ae_dict.update({\"ae_type\" : \"MCAE\"})\n",
    "ae_dict.update({\"shots\" : 100000})\n",
    "mcae_solution, mcae_object = q_solve_integral(**ae_dict)"
   ]
  },
  {
   "cell_type": "code",
   "execution_count": null,
   "id": "fdd77dcb",
   "metadata": {},
   "outputs": [],
   "source": [
    "mcae_rieman = mcae_solution*f_x_normalisation*p_x_normalisation\n",
    "print(\"MCAE Riemann :{}. Riemann: {}\".format(mcae_rieman['ae'].iloc[0], riemman))\n",
    "print(\"Absolute Error: {}\".format(np.abs(mcae_rieman['ae'].iloc[0] - riemman)))"
   ]
  },
  {
   "cell_type": "markdown",
   "id": "711d97c6",
   "metadata": {},
   "source": [
    "### 3.4 CQPEAE & IQPEAE\n",
    "\n",
    "The **CQPEAE** and **IQPEAE** algorithms can be used for solving integrals too. But they are very demanding computing requirements. The cells will be left as comments. If the user wants to use will need only to transform in code cells. \n",
    "\n",
    "These methods can be executed in a reasonable time when **Eviden Quantum Learning Machine** can be used. At **CESGA** a **QLM** is deployed and It can be used (if you have a CESGA account) using the **qlmass** library. \n",
    "\n",
    "CESGA users can obtain more information at the following link: \n",
    "\n",
    "https://cesga-docs.gitlab.io/qlm-user-guide/qlm.html"
   ]
  },
  {
   "cell_type": "markdown",
   "id": "0ec47532",
   "metadata": {},
   "source": [
    "#### CQPEAE"
   ]
  },
  {
   "cell_type": "markdown",
   "id": "ce92c4d9",
   "metadata": {},
   "source": [
    "#This cell loads the QLM solver. QPU = [qlmass, python, c]\n",
    "from QQuantLib.qpu.get_qpu import get_qpu\n",
    "my_qpus = [\"python\", \"c\", \"qlmass_linalg\", \"qlmass_mps\", \"linalg\", \"mps\"]\n",
    "\n",
    "linalg_qpu = get_qpu(my_qpus[])"
   ]
  },
  {
   "cell_type": "markdown",
   "id": "1cbcceb9",
   "metadata": {},
   "source": [
    "ae_dict.update({\"ae_type\" : \"CQPEAE\"})\n",
    "ae_dict.update({\"qpu\" : linalg_qpu})\n",
    "#When bigger more precision and more computing demand\n",
    "ae_dict.update({\n",
    "    \"auxiliar_qbits_number\" : 12,\n",
    "    \"window\": \"sine\"\n",
    "})"
   ]
  },
  {
   "cell_type": "markdown",
   "id": "e898bf28",
   "metadata": {},
   "source": [
    "cqpeae_solution, cqpeae_object = q_solve_integral(**ae_dict)"
   ]
  },
  {
   "cell_type": "markdown",
   "id": "050cc159",
   "metadata": {},
   "source": [
    "cqpeae_rieman = cqpeae_solution*f_x_normalisation*p_x_normalisation\n",
    "print(\"CQPEAE Riemann :{}. Riemann: {}\".format(cqpeae_rieman['ae'].iloc[0], riemman))\n",
    "print(\"Absolute Error: {}\".format(np.abs(cqpeae_rieman['ae'].iloc[0] - riemman)))"
   ]
  },
  {
   "cell_type": "markdown",
   "id": "2dbbc531",
   "metadata": {},
   "source": [
    "#### IQPEAE"
   ]
  },
  {
   "cell_type": "markdown",
   "id": "37ae5c0d",
   "metadata": {},
   "source": [
    "ae_dict.update({\"ae_type\" : \"IQPEAE\"})\n",
    "#When bigger more precision and more computing demand\n",
    "ae_dict.update({\"cbits_number\" : 10})"
   ]
  },
  {
   "cell_type": "markdown",
   "id": "2766fea8",
   "metadata": {},
   "source": [
    "iqpeae_solution, iqpeae_object = q_solve_integral(**ae_dict)"
   ]
  },
  {
   "cell_type": "markdown",
   "id": "039d713e",
   "metadata": {},
   "source": [
    "iqpeae_rieman = iqpeae_solution*f_x_normalisation*p_x_normalisation\n",
    "print(\"IQPEAE Riemann :{}. Riemann: {}\".format(iqpeae_rieman['ae'].iloc[0], riemman))\n",
    "print(\"Absolute Error: {}\".format(np.abs(iqpeae_rieman['ae'].iloc[0] - riemman)))"
   ]
  },
  {
   "cell_type": "markdown",
   "id": "ac82e94a",
   "metadata": {},
   "source": [
    "### 3.6 Encoding Protocol 0 issues\n",
    "\n",
    "As explained in the Notebook **09_DataEncodingClass** this encoding procedure can only codified properly strictly positive functions $f(x)$. So if we try to use this encoding procedure with a non-strictly positive function the **returned integral WILL BE INCORRECT!!**"
   ]
  },
  {
   "cell_type": "code",
   "execution_count": null,
   "id": "4231eee5",
   "metadata": {},
   "outputs": [],
   "source": [
    "#Non strict define positive f(x)\n",
    "\n",
    "a = np.pi - np.pi / 4.0\n",
    "\n",
    "b = np.pi + np.pi / 8.0\n",
    "\n",
    "#n will define the maximum numbers of our domain\n",
    "n = 5\n",
    "x = np.linspace(a, b, 2 ** n)\n",
    "\n",
    "#function definition\n",
    "f_x = np.sin(x)\n",
    "#function normalisation\n",
    "f_x_normalisation = np.max(np.abs(f_x)) + 1e-8\n",
    "norm_f_x = f_x / f_x_normalisation\n",
    "\n",
    "#probability definition\n",
    "p_x = x\n",
    "#probability normalisation\n",
    "p_x_normalisation = np.sum(p_x) + 1e-8\n",
    "norm_p_x = p_x / p_x_normalisation\n",
    "\n",
    "#Desired Integral\n",
    "riemman = np.sum(p_x * f_x)"
   ]
  },
  {
   "cell_type": "code",
   "execution_count": null,
   "id": "88041539",
   "metadata": {},
   "outputs": [],
   "source": [
    "riemman"
   ]
  },
  {
   "cell_type": "code",
   "execution_count": null,
   "id": "94206635",
   "metadata": {},
   "outputs": [],
   "source": [
    "#Testing normalised conditions!\n",
    "\n",
    "print('p(x) condition: {}'.format(np.sum(norm_p_x) <= 1))\n",
    "print('f(x) condition: {}'.format(np.max(np.abs(norm_f_x)) <= 1))"
   ]
  },
  {
   "cell_type": "code",
   "execution_count": null,
   "id": "dc632f55",
   "metadata": {},
   "outputs": [],
   "source": [
    "fig, ax1 = plt.subplots()\n",
    "ax1.plot(x, norm_p_x, label='p(x)')\n",
    "ax1.set_ylabel('p(x)', color = 'b')\n",
    "ax1.tick_params(axis='y', labelcolor='b')\n",
    "ax2 = ax1.twinx()\n",
    "ax2.plot(x, norm_f_x, color='r', label = 'f(x)')\n",
    "ax2.set_ylabel('f(x)', color='r')\n",
    "ax2.tick_params(axis='y', labelcolor='r')\n",
    "fig.legend(['p(x)', 'f(x)'])"
   ]
  },
  {
   "cell_type": "code",
   "execution_count": null,
   "id": "fbdce121",
   "metadata": {},
   "outputs": [],
   "source": [
    "#New function will be encoded!!! Not strictly definite positive function\n",
    "ae_dict.update({\n",
    "    \"array_function\":norm_f_x,\n",
    "    \"array_probability\": norm_p_x,\n",
    "})\n",
    "ae_dict.update({\"qpu\" : linalg_qpu})"
   ]
  },
  {
   "cell_type": "code",
   "execution_count": null,
   "id": "e2ff6624",
   "metadata": {},
   "outputs": [],
   "source": [
    "%%time\n",
    "#We are going to select one AE algorithm\n",
    "ae_dict.update({\"ae_type\" : \"IQAE\", 'epsilon' : 0.001})\n",
    "iqae_solution, iqae_object = q_solve_integral(**ae_dict)"
   ]
  },
  {
   "cell_type": "code",
   "execution_count": null,
   "id": "30c0da56",
   "metadata": {},
   "outputs": [],
   "source": [
    "#Now the integral WILL BE WRONG because encoding procedure\n",
    "iqae_rieman = iqae_solution*f_x_normalisation*p_x_normalisation\n",
    "print(\"IQAE Riemann :{}. Riemann: {}\".format(iqae_rieman['ae'].iloc[0], riemman))\n",
    "print(\"Absolute Error: {}\".format(np.abs(iqae_rieman['ae'].iloc[0] - riemman)))"
   ]
  },
  {
   "cell_type": "markdown",
   "id": "7d5821c8",
   "metadata": {},
   "source": [
    "## 4. Encoding Protocol 1\n",
    "\n",
    "We will now use the second encoding protocol (`encoding=1`), as explained in Notebook **09_DataEncodingClass**, and test all the implemented **AE** algorithms.\n",
    "\n",
    "As described in Notebook *09_DataEncodingClass*, the desired integral is encoded following equation $(3)$:\n",
    "\n",
    "$$\n",
    "|\\Psi\\rangle = \\frac{1}{2^n} \\sum_{i=0}^{2^n-1} p(x_i)f(x_i) |0\\rangle \\otimes |0\\rangle \\otimes |0\\rangle_n \\; + \\; \\dots \\tag{3}\n",
    "$$\n",
    "\n",
    "By comparing $(3)$ with $(1)$, we can identify:\n",
    "$$\n",
    "|\\Psi_0\\rangle = |0\\rangle \\otimes |0\\rangle \\otimes |0\\rangle_n\n",
    "$$\n",
    "and\n",
    "$$\n",
    "\\mathbf{P}_{|\\Psi_0\\rangle} = \\sin^2(\\theta) = \\left| \\frac{1}{2^n} \\sum_{i=0}^{2^n-1} p(x_i)f(x_i) \\right|^2.\n",
    "$$\n",
    "\n",
    "The output of the procedure will automatically handle the normalization introduced by the encoding process, ensuring that the pure Riemann sum is returned.\n",
    "\n",
    "This approach allows for functions that are not strictly positive definite (within the defined domain, of course). \n",
    "\n",
    "The following cells will demonstrate the use of this new non-strictly positive definite function with `encoding=1` and the various **AE** algorithms."
   ]
  },
  {
   "cell_type": "code",
   "execution_count": null,
   "id": "811b26cd",
   "metadata": {},
   "outputs": [],
   "source": [
    "ae_dict.update({\"encoding\" : 1})"
   ]
  },
  {
   "cell_type": "markdown",
   "id": "5ac94710",
   "metadata": {},
   "source": [
    "### 4.1 MLAE\n",
    "\n",
    "Now we are going to use **MLAE** to solve the complete problem"
   ]
  },
  {
   "cell_type": "code",
   "execution_count": null,
   "id": "6da8c8e8",
   "metadata": {},
   "outputs": [],
   "source": [
    "m_k = [2**i for i in range(12)]\n",
    "ae_dict.update({\n",
    "    \"ae_type\" : \"MLAE\", \n",
    "    'schedule': [m_k, [100]*len(m_k)]\n",
    "})"
   ]
  },
  {
   "cell_type": "code",
   "execution_count": null,
   "id": "bfe92208",
   "metadata": {},
   "outputs": [],
   "source": [
    "%%time\n",
    "mlae_solution, mlae_object = q_solve_integral(**ae_dict)"
   ]
  },
  {
   "cell_type": "code",
   "execution_count": null,
   "id": "79416b5c",
   "metadata": {
    "scrolled": true
   },
   "outputs": [],
   "source": [
    "mlae_rieman = mlae_solution*f_x_normalisation*p_x_normalisation\n",
    "print(\"MLAE Riemann :{}. Riemann: {}\".format(mlae_rieman['ae'].iloc[0], riemman))\n",
    "print(\"Absolute Error: {}\".format(np.abs(mlae_rieman['ae'].iloc[0] - riemman)))"
   ]
  },
  {
   "cell_type": "code",
   "execution_count": null,
   "id": "d23afee7",
   "metadata": {},
   "outputs": [],
   "source": [
    "mlae_object.schedule_pdf"
   ]
  },
  {
   "cell_type": "markdown",
   "id": "e92b277b",
   "metadata": {},
   "source": [
    "### 4.2 IQAE\n",
    "\n",
    "Now we are going to use **IQAE** to solve the complete problem"
   ]
  },
  {
   "cell_type": "code",
   "execution_count": null,
   "id": "f65d3106",
   "metadata": {},
   "outputs": [],
   "source": [
    "ae_dict.update({\"ae_type\" : \"IQAE\"})\n",
    "ae_dict.update({\"epsilon\" : 0.0001})"
   ]
  },
  {
   "cell_type": "code",
   "execution_count": null,
   "id": "aa5cad6a",
   "metadata": {},
   "outputs": [],
   "source": [
    "%%time\n",
    "iqae_solution, iqae_object = q_solve_integral(**ae_dict)"
   ]
  },
  {
   "cell_type": "code",
   "execution_count": null,
   "id": "f15f9f88",
   "metadata": {},
   "outputs": [],
   "source": [
    "iqae_rieman = iqae_solution*f_x_normalisation*p_x_normalisation\n",
    "print(\"IQAE Riemann :{}. Riemann: {}\".format(iqae_rieman['ae'].iloc[0], riemman))\n",
    "print(\"Absolute Error: {}\".format(np.abs(iqae_rieman['ae'].iloc[0] - riemman)))"
   ]
  },
  {
   "cell_type": "markdown",
   "id": "5cfd786c",
   "metadata": {},
   "source": [
    "### 4.3 RQAE\n",
    "\n",
    "Now we are going to use **RQAE** for solving the complete problem. In the case of the **RQAE** algorithm the amplitude of the $|\\Psi_{0}\\rangle$ is computed instead of its probability (so it can be negative). Again all the normalisations and internal computations are doing by the *q_solve_integral* function so the desired integral is returned to the user!!\n",
    "\n",
    "All the **RQAE** variations can be used with this encoding (**sRQAE**, **mRQAE**, **eRQAE**)"
   ]
  },
  {
   "cell_type": "markdown",
   "id": "79d32b8c",
   "metadata": {},
   "source": [
    "#### Original RQAE"
   ]
  },
  {
   "cell_type": "code",
   "execution_count": null,
   "id": "6b2736f5",
   "metadata": {},
   "outputs": [],
   "source": [
    "ae_dict.update({\"ae_type\" : \"RQAE\", 'epsilon': 0.0005})"
   ]
  },
  {
   "cell_type": "code",
   "execution_count": null,
   "id": "a03f78a6",
   "metadata": {
    "scrolled": true
   },
   "outputs": [],
   "source": [
    "%%time\n",
    "rqae_solution, rqae_object = q_solve_integral(**ae_dict)"
   ]
  },
  {
   "cell_type": "code",
   "execution_count": null,
   "id": "1a3e893b",
   "metadata": {},
   "outputs": [],
   "source": [
    "rqae_rieman = rqae_solution*f_x_normalisation*p_x_normalisation\n",
    "print(\"RQAE Riemann :{}. Riemann: {}\".format(rqae_rieman['ae'].iloc[0], riemman))\n",
    "print(\"Absolute Error: {}\".format(np.abs(rqae_rieman['ae'].iloc[0] - riemman)))"
   ]
  },
  {
   "cell_type": "markdown",
   "id": "15e049b1",
   "metadata": {},
   "source": [
    "#### mRQAE"
   ]
  },
  {
   "cell_type": "code",
   "execution_count": null,
   "id": "4edbbe6a",
   "metadata": {},
   "outputs": [],
   "source": [
    "%%time\n",
    "ae_dict.update({\"ae_type\" : \"mRQAE\", 'epsilon': 0.0005})\n",
    "m_rqae_solution, m_rqae_object = q_solve_integral(**ae_dict)\n",
    "m_rqae_rieman = m_rqae_solution*f_x_normalisation*p_x_normalisation\n",
    "print(\"mRQAE Riemann :{}. Riemann: {}\".format(m_rqae_rieman['ae'].iloc[0], riemman))\n",
    "print(\"Absolute Error: {}\".format(np.abs(m_rqae_rieman['ae'].iloc[0] - riemman)))"
   ]
  },
  {
   "cell_type": "markdown",
   "id": "9442312e",
   "metadata": {},
   "source": [
    "#### sRQAE (RQAE with shots)"
   ]
  },
  {
   "cell_type": "code",
   "execution_count": null,
   "id": "fad9ef62",
   "metadata": {},
   "outputs": [],
   "source": [
    "%%time\n",
    "# Now shots should be provided\n",
    "ae_dict.update({\"ae_type\" : \"sRQAE\", 'epsilon': 0.0005, 'shots': 500})\n",
    "s_rqae_solution, s_rqae_object = q_solve_integral(**ae_dict)\n",
    "s_rqae_rieman = s_rqae_solution*f_x_normalisation*p_x_normalisation\n",
    "print(\"sRQAE Riemann :{}. Riemann: {}\".format(s_rqae_rieman['ae'].iloc[0], riemman))\n",
    "print(\"Absolute Error: {}\".format(np.abs(s_rqae_rieman['ae'].iloc[0] - riemman)))"
   ]
  },
  {
   "cell_type": "markdown",
   "id": "b8885184",
   "metadata": {},
   "source": [
    "#### eRQAE"
   ]
  },
  {
   "cell_type": "code",
   "execution_count": null,
   "id": "63ea1e02",
   "metadata": {},
   "outputs": [],
   "source": [
    "%%time\n",
    "# Now we need to configure the scheduling function\n",
    "schedule = {\n",
    "    \"type\": \"linear_linear\",\n",
    "    \"ratio_slope_k\": 3.5,\n",
    "    \"ratio_slope_gamma\": -2.5\n",
    "}\n",
    "ae_dict.update({\"ae_type\" : \"eRQAE\", 'epsilon': 0.0005, 'erqae_schedule': schedule})\n",
    "e_rqae_solution, e_rqae_object = q_solve_integral(**ae_dict)\n",
    "e_rqae_rieman = e_rqae_solution*f_x_normalisation*p_x_normalisation\n",
    "print(\"eRQAE Riemann :{}. Riemann: {}\".format(e_rqae_rieman['ae'].iloc[0], riemman))\n",
    "print(\"Absolute Error: {}\".format(np.abs(e_rqae_rieman['ae'].iloc[0] - riemman)))"
   ]
  },
  {
   "cell_type": "code",
   "execution_count": null,
   "id": "d8bb646b",
   "metadata": {},
   "outputs": [],
   "source": [
    "# we can acces to the schedules:\n",
    "print(e_rqae_object.solver_ae.schedule_gamma)\n",
    "print(e_rqae_object.solver_ae.schedule_k)"
   ]
  },
  {
   "cell_type": "markdown",
   "id": "64d505ef",
   "metadata": {},
   "source": [
    "### 4.4 MCAE\n",
    "We are going to use MCAE"
   ]
  },
  {
   "cell_type": "code",
   "execution_count": null,
   "id": "49afd822",
   "metadata": {},
   "outputs": [],
   "source": [
    "%%time\n",
    "ae_dict.update({\"ae_type\" : \"MCAE\"})\n",
    "ae_dict.update({\"shots\" : 100000})\n",
    "mcae_solution, mcae_object = q_solve_integral(**ae_dict)"
   ]
  },
  {
   "cell_type": "code",
   "execution_count": null,
   "id": "3fc0d22f",
   "metadata": {},
   "outputs": [],
   "source": [
    "mcae_rieman = mcae_solution*f_x_normalisation*p_x_normalisation\n",
    "print(\"MCAE Riemann :{}. Riemann: {}\".format(mcae_rieman['ae'].iloc[0], riemman))\n",
    "print(\"Absolute Error: {}\".format(np.abs(mcae_rieman['ae'].iloc[0] - riemman)))"
   ]
  },
  {
   "cell_type": "markdown",
   "id": "79a69b2a",
   "metadata": {},
   "source": [
    "## 5. Encoding Protocol 2\n",
    "\n",
    "We will now use the third encoding protocol (`encoding=2`), as explained in Notebook **09_DataEncodingClass**, and test all the implemented **AE** algorithms. \n",
    "\n",
    "In this encoding, the desired integral is encoded in the following manner:\n",
    "$$\n",
    "|\\Psi \\rangle = \\sum_{i=0}^{2^n-1} p(x_i) f(x_i) |0\\rangle \\otimes |0\\rangle_n \\; + \\; \\dots \\tag{4}\n",
    "$$\n",
    "\n",
    "By comparing $(4)$ with $(1)$, we can identify:\n",
    "$$\n",
    "|\\Psi_0\\rangle = |0\\rangle \\otimes |0\\rangle_n\n",
    "$$\n",
    "and\n",
    "$$\n",
    "\\mathbf{P}_{|\\Psi_0\\rangle} = \\sin^2(\\theta) = \\left| \\sum_{i=0}^{2^n-1} p(x_i)f(x_i) \\right|^2.\n",
    "$$\n",
    "\n",
    "The output of the procedure will automatically handle the normalization introduced by the encoding process, ensuring that the pure Riemann sum is returned.\n",
    "\n",
    "This approach allows for functions that are not strictly positive definite (within the defined domain, of course). \n",
    "\n",
    "The following cells will demonstrate the use of this new non-strictly positive definite function with `encoding=2` and the various **AE** algorithms."
   ]
  },
  {
   "cell_type": "code",
   "execution_count": null,
   "id": "05356775",
   "metadata": {},
   "outputs": [],
   "source": [
    "ae_dict.update({\"encoding\" : 2})"
   ]
  },
  {
   "cell_type": "markdown",
   "id": "c4f219a6",
   "metadata": {},
   "source": [
    "### 5.1 MLAE\n",
    "\n",
    "Now we are going to use **MLAE** to solve the complete problem"
   ]
  },
  {
   "cell_type": "code",
   "execution_count": null,
   "id": "0a588398",
   "metadata": {},
   "outputs": [],
   "source": [
    "m_k = [i for i in range(12)]\n",
    "ae_dict.update({\n",
    "    \"ae_type\" : \"MLAE\", \n",
    "    'schedule': [m_k, [100]*len(m_k)]\n",
    "})"
   ]
  },
  {
   "cell_type": "code",
   "execution_count": null,
   "id": "40f1b48a",
   "metadata": {},
   "outputs": [],
   "source": [
    "%%time\n",
    "mlae_solution, mlae_object = q_solve_integral(**ae_dict)"
   ]
  },
  {
   "cell_type": "code",
   "execution_count": null,
   "id": "86e99302",
   "metadata": {
    "scrolled": true
   },
   "outputs": [],
   "source": [
    "mlae_rieman = mlae_solution*f_x_normalisation*p_x_normalisation\n",
    "print(\"MLAE Riemann :{}. Riemann: {}\".format(mlae_rieman['ae'].iloc[0], riemman))\n",
    "print(\"Absolute Error: {}\".format(np.abs(mlae_rieman['ae'].iloc[0] - riemman)))"
   ]
  },
  {
   "cell_type": "code",
   "execution_count": null,
   "id": "0fabe1e2",
   "metadata": {
    "scrolled": true
   },
   "outputs": [],
   "source": [
    "mlae_object.schedule_pdf"
   ]
  },
  {
   "cell_type": "markdown",
   "id": "8fab238c",
   "metadata": {},
   "source": [
    "### 5.2 IQAE\n",
    "\n",
    "Now we are going to use **IQAE** to solve the complete problem"
   ]
  },
  {
   "cell_type": "code",
   "execution_count": null,
   "id": "df632fc1",
   "metadata": {},
   "outputs": [],
   "source": [
    "ae_dict.update({\"ae_type\" : \"IQAE\"})\n",
    "ae_dict.update({\"epsilon\" : 0.001})"
   ]
  },
  {
   "cell_type": "code",
   "execution_count": null,
   "id": "e7a580ab",
   "metadata": {},
   "outputs": [],
   "source": [
    "%%time\n",
    "iqae_solution, iqae_object = q_solve_integral(**ae_dict)"
   ]
  },
  {
   "cell_type": "code",
   "execution_count": null,
   "id": "cf141ae2",
   "metadata": {},
   "outputs": [],
   "source": [
    "iqae_rieman = iqae_solution*f_x_normalisation*p_x_normalisation\n",
    "print(\"IQAE Riemann :{}. Riemann: {}\".format(iqae_rieman['ae'].iloc[0], riemman))\n",
    "print(\"Absolute Error: {}\".format(np.abs(iqae_rieman['ae'].iloc[0] - riemman)))"
   ]
  },
  {
   "cell_type": "markdown",
   "id": "b05f7215",
   "metadata": {},
   "source": [
    "### 5.3 RQAE\n",
    "\n",
    "Now we are going to use **RQAE** to solve the complete problem.  In the case of the **RQAE** algorithm the amplitude of the $|\\Psi_{0}\\rangle$ is computed instead of its probability (so it can be negative). Again all the normalisations and internal computations are done by the *q_solve_integral* function so the desired integral is returned to the user!!\n",
    "\n",
    "All the **RQAE** variations can be used with this encoding (**sRQAE**, **mRQAE**, **eRQAE**)"
   ]
  },
  {
   "cell_type": "code",
   "execution_count": null,
   "id": "fff804a2",
   "metadata": {},
   "outputs": [],
   "source": [
    "ae_dict.update({\"ae_type\" : \"RQAE\", 'epsilon': 0.001})"
   ]
  },
  {
   "cell_type": "code",
   "execution_count": null,
   "id": "e2ddb058",
   "metadata": {
    "scrolled": true
   },
   "outputs": [],
   "source": [
    "%%time\n",
    "rqae_solution, rqae_object = q_solve_integral(**ae_dict)"
   ]
  },
  {
   "cell_type": "code",
   "execution_count": null,
   "id": "0f50877b",
   "metadata": {},
   "outputs": [],
   "source": [
    "rqae_rieman = rqae_solution*f_x_normalisation*p_x_normalisation\n",
    "print(\"RQAE Riemann :{}. Riemann: {}\".format(rqae_rieman['ae'].iloc[0], riemman))\n",
    "print(\"Absolute Error: {}\".format(np.abs(rqae_rieman['ae'].iloc[0] - riemman)))"
   ]
  },
  {
   "cell_type": "code",
   "execution_count": null,
   "id": "873c950b",
   "metadata": {
    "scrolled": true
   },
   "outputs": [],
   "source": [
    "rqae_object.schedule_pdf"
   ]
  },
  {
   "cell_type": "markdown",
   "id": "bd1e086b",
   "metadata": {},
   "source": [
    "#### mRQAE"
   ]
  },
  {
   "cell_type": "code",
   "execution_count": null,
   "id": "93e16e42",
   "metadata": {},
   "outputs": [],
   "source": [
    "%%time\n",
    "ae_dict.update({\"ae_type\" : \"mRQAE\", 'epsilon': 0.001})\n",
    "m_rqae_solution, m_rqae_object = q_solve_integral(**ae_dict)\n",
    "m_rqae_rieman = m_rqae_solution*f_x_normalisation*p_x_normalisation\n",
    "print(\"mRQAE Riemann :{}. Riemann: {}\".format(m_rqae_rieman['ae'].iloc[0], riemman))\n",
    "print(\"Absolute Error: {}\".format(np.abs(m_rqae_rieman['ae'].iloc[0] - riemman)))"
   ]
  },
  {
   "cell_type": "code",
   "execution_count": null,
   "id": "216ea83e",
   "metadata": {},
   "outputs": [],
   "source": [
    "m_rqae_object.schedule_pdf"
   ]
  },
  {
   "cell_type": "markdown",
   "id": "71e58026",
   "metadata": {},
   "source": [
    "#### sRQAE (RQAE with shots)"
   ]
  },
  {
   "cell_type": "code",
   "execution_count": null,
   "id": "c8b98bc8",
   "metadata": {},
   "outputs": [],
   "source": [
    "%%time\n",
    "# Now shots should be provided\n",
    "ae_dict.update({\"ae_type\" : \"sRQAE\", 'epsilon': 0.001, 'shots': 500})\n",
    "s_rqae_solution, s_rqae_object = q_solve_integral(**ae_dict)\n",
    "s_rqae_rieman = s_rqae_solution*f_x_normalisation*p_x_normalisation\n",
    "print(\"sRQAE Riemann :{}. Riemann: {}\".format(s_rqae_rieman['ae'].iloc[0], riemman))\n",
    "print(\"Absolute Error: {}\".format(np.abs(s_rqae_rieman['ae'].iloc[0] - riemman)))"
   ]
  },
  {
   "cell_type": "markdown",
   "id": "25b57dbb",
   "metadata": {},
   "source": [
    "#### eRQAE"
   ]
  },
  {
   "cell_type": "code",
   "execution_count": null,
   "id": "d3469b7e",
   "metadata": {},
   "outputs": [],
   "source": [
    "%%time\n",
    "# Now we need to configure the scheduling function\n",
    "schedule = {\n",
    "    \"type\": \"linear_linear\",\n",
    "    \"ratio_slope_k\": 3.5,\n",
    "    \"ratio_slope_gamma\": -2.5\n",
    "}\n",
    "ae_dict.update({\"ae_type\" : \"eRQAE\", 'epsilon': 0.001, 'erqae_schedule': schedule})\n",
    "e_rqae_solution, e_rqae_object = q_solve_integral(**ae_dict)\n",
    "e_rqae_rieman = e_rqae_solution*f_x_normalisation*p_x_normalisation\n",
    "print(\"eRQAE Riemann :{}. Riemann: {}\".format(e_rqae_rieman['ae'].iloc[0], riemman))\n",
    "print(\"Absolute Error: {}\".format(np.abs(e_rqae_rieman['ae'].iloc[0] - riemman)))"
   ]
  },
  {
   "cell_type": "markdown",
   "id": "192edec4",
   "metadata": {},
   "source": [
    "### 5.4 MCAE\n",
    "We are going to use MCAE"
   ]
  },
  {
   "cell_type": "code",
   "execution_count": null,
   "id": "0d8e6fb9",
   "metadata": {},
   "outputs": [],
   "source": [
    "%%time\n",
    "ae_dict.update({\"ae_type\" : \"MCAE\"})\n",
    "ae_dict.update({\"shots\" : 100000})\n",
    "mcae_solution, mcae_object = q_solve_integral(**ae_dict)"
   ]
  },
  {
   "cell_type": "code",
   "execution_count": null,
   "id": "f294e514",
   "metadata": {},
   "outputs": [],
   "source": [
    "mcae_rieman = mcae_solution*f_x_normalisation*p_x_normalisation\n",
    "print(\"MCAE Riemann :{}. Riemann: {}\".format(mcae_rieman['ae'].iloc[0], riemman))\n",
    "print(\"Absolute Error: {}\".format(np.abs(mcae_rieman['ae'].iloc[0] - riemman)))"
   ]
  },
  {
   "cell_type": "markdown",
   "id": "f3143d13",
   "metadata": {},
   "source": [
    "## 6. Issues of AE Algorithms\n",
    "\n",
    "In general, **AE** algorithms estimate the probability of the state $ |\\Psi_0\\rangle $ (e.g., in **MLAE** or **IQAE**), and as such, they only provide positive values as outputs. Consequently, if the integral to be computed is negative, these algorithms will return an incorrect value, leading to an inaccurate result for the integral returned by the `q_solve_integral` function. This issue arises regardless of the encoding procedure used.\n",
    "\n",
    "This limitation can be observed in the following cells, where a negative Riemann sum is encoded into the quantum states."
   ]
  },
  {
   "cell_type": "code",
   "execution_count": null,
   "id": "a5b52e5f",
   "metadata": {},
   "outputs": [],
   "source": [
    "#Negative Riemann sum!!\n",
    "\n",
    "a = np.pi\n",
    "\n",
    "b = np.pi + np.pi / 4.0\n",
    "\n",
    "#n will define the maximum numbers of our domain\n",
    "n = 5\n",
    "x = np.linspace(a, b, 2 ** n)\n",
    "\n",
    "#function definition\n",
    "f_x = np.sin(x)\n",
    "#function normalisation\n",
    "f_x_normalisation = np.max(np.abs(f_x)) + 1e-8\n",
    "norm_f_x = f_x / f_x_normalisation\n",
    "\n",
    "#probability definition\n",
    "p_x = x\n",
    "#probability normalisation\n",
    "p_x_normalisation = np.sum(p_x) + 1e-8\n",
    "norm_p_x = p_x / p_x_normalisation\n",
    "\n",
    "#Desired Integral\n",
    "riemman = np.sum(p_x * f_x)"
   ]
  },
  {
   "cell_type": "code",
   "execution_count": null,
   "id": "6c6cccda",
   "metadata": {},
   "outputs": [],
   "source": [
    "riemman"
   ]
  },
  {
   "cell_type": "code",
   "execution_count": null,
   "id": "2a2b2927",
   "metadata": {},
   "outputs": [],
   "source": [
    "#Testing normalised conditions!\n",
    "\n",
    "print('p(x) condition: {}'.format(np.sum(norm_p_x) <= 1))\n",
    "print('f(x) condition: {}'.format(np.max(np.abs(norm_f_x)) <= 1))"
   ]
  },
  {
   "cell_type": "code",
   "execution_count": null,
   "id": "b8cc0564",
   "metadata": {},
   "outputs": [],
   "source": [
    "fig, ax1 = plt.subplots()\n",
    "ax1.plot(x, norm_p_x, label='p(x)')\n",
    "ax1.set_ylabel('p(x)', color = 'b')\n",
    "ax1.tick_params(axis='y', labelcolor='b')\n",
    "ax2 = ax1.twinx()\n",
    "ax2.plot(x, norm_f_x, color='r', label = 'f(x)')\n",
    "ax2.set_ylabel('f(x)', color='r')\n",
    "ax2.tick_params(axis='y', labelcolor='r')\n",
    "fig.legend(['p(x)', 'f(x)'])"
   ]
  },
  {
   "cell_type": "code",
   "execution_count": null,
   "id": "72f38dc0",
   "metadata": {},
   "outputs": [],
   "source": [
    "#New function will be encoded!!! Not strictly definite positive function\n",
    "ae_dict.update({\n",
    "    \"array_function\":norm_f_x,\n",
    "    \"array_probability\": norm_p_x,\n",
    "})"
   ]
  },
  {
   "cell_type": "markdown",
   "id": "d80da63d",
   "metadata": {},
   "source": [
    "### encoding 1"
   ]
  },
  {
   "cell_type": "code",
   "execution_count": null,
   "id": "68827284",
   "metadata": {},
   "outputs": [],
   "source": [
    "#Riemann sum negative!! Integration fails!\n",
    "ae_dict.update(\n",
    "    {\"encoding\" : 1,\n",
    "     \"ae_type\" : \"IQAE\"\n",
    "    })\n",
    "iqae_solution, iqae_object = q_solve_integral(**ae_dict)\n",
    "iqae_rieman = iqae_solution*f_x_normalisation*p_x_normalisation\n",
    "print(\"IQAE Riemann :{}. Riemann: {}\".format(iqae_rieman['ae'].iloc[0], riemman))\n",
    "print(\"Absolute Error: {}\".format(np.abs(iqae_rieman['ae'].iloc[0] - riemman)))"
   ]
  },
  {
   "cell_type": "markdown",
   "id": "c223a57d",
   "metadata": {},
   "source": [
    "### encoding 2"
   ]
  },
  {
   "cell_type": "code",
   "execution_count": null,
   "id": "d437f79c",
   "metadata": {},
   "outputs": [],
   "source": [
    "#Riemann sum negative!!  Integration fails!\n",
    "ae_dict.update(\n",
    "    {\"encoding\" : 2,\n",
    "     \"ae_type\" : \"IQAE\",\n",
    "     'epsilon': 0.001\n",
    "    })\n",
    "iqae_solution, iqae_object = q_solve_integral(**ae_dict)\n",
    "iqae_rieman = iqae_solution*f_x_normalisation*p_x_normalisation\n",
    "print(\"IQAE Riemann :{}. Riemann: {}\".format(iqae_rieman['ae'].iloc[0], riemman))\n",
    "print(\"Absolute Error: {}\".format(np.abs(iqae_rieman['ae'].iloc[0] - riemman)))"
   ]
  },
  {
   "cell_type": "markdown",
   "id": "f9b9334f",
   "metadata": {},
   "source": [
    "## 7. RQAE algorithm saves the day\n",
    "\n",
    "As explained the **RQAE** algorithm computes the amplitude of the  $|\\Psi_{0}\\rangle$ instead of its probability so it can detect the sign of the codified integral (always using encodings 1 and 2).\n",
    "\n",
    "All the variations of **RQAE** algorithm will work too (**mRQAE**, **sRQAE**, **eRQAE**)"
   ]
  },
  {
   "cell_type": "markdown",
   "id": "2e945656",
   "metadata": {},
   "source": [
    "### encoding 1"
   ]
  },
  {
   "cell_type": "code",
   "execution_count": null,
   "id": "10e2da6a",
   "metadata": {},
   "outputs": [],
   "source": [
    "%%time\n",
    "#Riemman sum negative!! \n",
    "ae_dict.update(\n",
    "    {\"encoding\" : 1,\n",
    "     \"ae_type\" : \"RQAE\",\n",
    "     'epsilon': 0.0005\n",
    "    })\n",
    "rqae_solution, iqae_object = q_solve_integral(**ae_dict)\n",
    "rqae_rieman = rqae_solution*f_x_normalisation*p_x_normalisation\n",
    "print(\"RQAE Riemann :{}. Riemann: {}\".format(rqae_rieman['ae'].iloc[0], riemman))\n",
    "print(\"Absolute Error: {}\".format(np.abs(rqae_rieman['ae'].iloc[0] - riemman)))"
   ]
  },
  {
   "cell_type": "markdown",
   "id": "fd48e22b",
   "metadata": {},
   "source": [
    "### encoding 2"
   ]
  },
  {
   "cell_type": "code",
   "execution_count": null,
   "id": "0eff37c3",
   "metadata": {},
   "outputs": [],
   "source": [
    "%%time\n",
    "#Riemman sum negative!! \n",
    "ae_dict.update(\n",
    "    {\"encoding\" : 2,\n",
    "     \"ae_type\" : \"RQAE\",\n",
    "     'epsilon': 0.001\n",
    "    })\n",
    "rqae_solution, iqae_object = q_solve_integral(**ae_dict)\n",
    "rqae_rieman = rqae_solution*f_x_normalisation*p_x_normalisation\n",
    "print(\"RQAE Riemann :{}. Riemann: {}\".format(rqae_rieman['ae'].iloc[0], riemman))\n",
    "print(\"Absolute Error: {}\".format(np.abs(rqae_rieman['ae'].iloc[0] - riemman)))"
   ]
  },
  {
   "cell_type": "markdown",
   "id": "b7892c48",
   "metadata": {},
   "source": [
    "#### mRQAE"
   ]
  },
  {
   "cell_type": "code",
   "execution_count": null,
   "id": "d637fa23",
   "metadata": {},
   "outputs": [],
   "source": [
    "%%time\n",
    "#Riemman sum negative!! \n",
    "ae_dict.update(\n",
    "    {\"encoding\" : 2,\n",
    "     \"ae_type\" : \"mRQAE\",\n",
    "     'epsilon': 0.001\n",
    "    })\n",
    "m_rqae_solution, mrqae_object = q_solve_integral(**ae_dict)\n",
    "m_rqae_rieman = m_rqae_solution*f_x_normalisation*p_x_normalisation\n",
    "print(\"mRQAE Riemann :{}. Riemann: {}\".format(m_rqae_rieman['ae'].iloc[0], riemman))\n",
    "print(\"Absolute Error: {}\".format(np.abs(m_rqae_rieman['ae'].iloc[0] - riemman)))"
   ]
  },
  {
   "cell_type": "markdown",
   "id": "17ac4064",
   "metadata": {},
   "source": [
    "#### sRQAE"
   ]
  },
  {
   "cell_type": "code",
   "execution_count": null,
   "id": "f29891da",
   "metadata": {},
   "outputs": [],
   "source": [
    "%%time\n",
    "#Riemman sum negative!! \n",
    "ae_dict.update(\n",
    "    {\"encoding\" : 2,\n",
    "     \"ae_type\" : \"sRQAE\",\n",
    "     'epsilon': 0.001,\n",
    "     'shots': 425,\n",
    "    })\n",
    "s_rqae_solution, srqae_object = q_solve_integral(**ae_dict)\n",
    "s_rqae_rieman = s_rqae_solution*f_x_normalisation*p_x_normalisation\n",
    "print(\"sRQAE Riemann :{}. Riemann: {}\".format(s_rqae_rieman['ae'].iloc[0], riemman))\n",
    "print(\"Absolute Error: {}\".format(np.abs(s_rqae_rieman['ae'].iloc[0] - riemman)))"
   ]
  },
  {
   "cell_type": "markdown",
   "id": "28118b17",
   "metadata": {},
   "source": [
    "#### eRQAE"
   ]
  },
  {
   "cell_type": "code",
   "execution_count": null,
   "id": "d13e0be6",
   "metadata": {},
   "outputs": [],
   "source": [
    "%%time\n",
    "#Riemman sum negative!! \n",
    "schedule = {\n",
    "    \"type\": \"exp_exp\",\n",
    "    \"ratio_slope_k\": 3.5,\n",
    "    \"ratio_slope_gamma\": -4\n",
    "}\n",
    "ae_dict.update(\n",
    "    {\"encoding\" : 2,\n",
    "     \"ae_type\" : \"eRQAE\",\n",
    "     'epsilon': 0.001,\n",
    "     'erqae_schedule': schedule,\n",
    "    })\n",
    "e_rqae_solution, e_rqae_object = q_solve_integral(**ae_dict)\n",
    "e_rqae_rieman = e_rqae_solution*f_x_normalisation*p_x_normalisation\n",
    "print(\"eRQAE Riemann :{}. Riemann: {}\".format(e_rqae_rieman['ae'].iloc[0], riemman))\n",
    "print(\"Absolute Error: {}\".format(np.abs(e_rqae_rieman['ae'].iloc[0] - riemman)))"
   ]
  }
 ],
 "metadata": {
  "kernelspec": {
   "display_name": "Python 3 (ipykernel)",
   "language": "python",
   "name": "python3"
  },
  "language_info": {
   "codemirror_mode": {
    "name": "ipython",
    "version": 3
   },
   "file_extension": ".py",
   "mimetype": "text/x-python",
   "name": "python",
   "nbconvert_exporter": "python",
   "pygments_lexer": "ipython3",
   "version": "3.9.9"
  }
 },
 "nbformat": 4,
 "nbformat_minor": 5
}
