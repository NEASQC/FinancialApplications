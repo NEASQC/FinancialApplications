{
 "cells": [
  {
   "cell_type": "markdown",
   "id": "140c4007",
   "metadata": {},
   "source": [
    "# Application of Amplitude Estimation to Finances: Computing Integrals"
   ]
  },
  {
   "cell_type": "markdown",
   "id": "8c15c443",
   "metadata": {},
   "source": [
    "The reference for this notebook will be:\n",
    "\n",
    "* NEASQC deliverable: *D5.1: Review of state-of-the-art for Pricing and Computation of VaR https://www.neasqc.eu/wp-content/uploads/2021/06/NEASQC_D5.1_Review-of-state-of-the-art-for-Pricing-and-Computation-of-VaR_R2.0_Final.pdf*"
   ]
  },
  {
   "cell_type": "markdown",
   "id": "89c063a9",
   "metadata": {},
   "source": [
    "In finance one of the most important tasks is computing the \"fair\" price of a **derivative contract** whose definition (following Investopedia) is the following:\n",
    "\n",
    "*A derivative is a contract between two or more parties whose value is based on an agreed-upon underlying financial asset (like a security) or set of assets (like an index).*\n",
    "\n",
    "Usually, the problem of computing the price of a **derivative contract** can be reduced to computing an expectation of a given input function $f(x)$ when $x$ follows a probability density $p(x)$. \n",
    "\n",
    "$$\\mathbb{E}[f]=\\int_a^bp(x)f(x)dx$$\n",
    "\n",
    "This integral can be approximated by the Riemann sum:\n",
    "\n",
    "$$\\mathbb{E}[f] = \\sum_{i=0}^{2^n-1} p(x_i)f(x_i)dx$$\n",
    "\n",
    "This value can be computed using **AE** techniques. In this notebook, we are going to review the function **q_solve_integral** from the module *quantum_integration* of the package *finance* of the *QQuantLib* library(**QQuantLib/finance/quantum_integration.py**).\n",
    "\n",
    "This **q_solve_integral** uses the **Encoding** class from **QQuantLib.DL.encoding_protocols** and the **AE** class from **QQuantLib/AE/ae_class** for loading an input probability distribution $p(x)$ and a function $f(x)$ and computing the before integral using the different **AE** algorithms implemented in the **QQuantLib**."
   ]
  },
  {
   "cell_type": "code",
   "execution_count": null,
   "id": "ddb6a0fd",
   "metadata": {},
   "outputs": [],
   "source": [
    "import sys\n",
    "sys.path.append(\"../../\")"
   ]
  },
  {
   "cell_type": "code",
   "execution_count": null,
   "id": "903ccf00",
   "metadata": {},
   "outputs": [],
   "source": [
    "import numpy as np\n",
    "import pandas as pd\n",
    "import matplotlib.pyplot as plt\n",
    "import qat.lang.AQASM as qlm\n",
    "from copy import deepcopy"
   ]
  },
  {
   "cell_type": "code",
   "execution_count": null,
   "id": "2e6667ab",
   "metadata": {},
   "outputs": [],
   "source": [
    "%matplotlib inline"
   ]
  },
  {
   "cell_type": "code",
   "execution_count": null,
   "id": "3e2761d3",
   "metadata": {},
   "outputs": [],
   "source": [
    "#This cell loads the QLM solver. See notebook: 00_AboutTheNotebooksAndQPUs.ipynb\n",
    "from QQuantLib.qpu.get_qpu import get_qpu\n",
    "# myqlm qpus\n",
    "myqlm_qpus = [\"python\", \"c\"]\n",
    "# QLM qpus accessed using Qaptiva Access library\n",
    "qlmass_qpus = [\"qlmass_linalg\", \"qlmass_mps\"]\n",
    "# QLM qpus: Only in local Quantum Learning Machine\n",
    "qlm_qpus = [\"linalg\", \"mps\"]\n",
    "\n",
    "linalg_qpu = get_qpu(myqlm_qpus[1])"
   ]
  },
  {
   "cell_type": "code",
   "execution_count": null,
   "id": "0ef7577c",
   "metadata": {},
   "outputs": [],
   "source": [
    "#See 01_DataLoading_Module_Use for the use of this function\n",
    "from QQuantLib.utils.data_extracting import get_results"
   ]
  },
  {
   "cell_type": "markdown",
   "id": "20303f08",
   "metadata": {},
   "source": [
    "## 1. Defining the problem\n",
    "\n",
    "The first thing we need to do, for transforming our expectation computation in an **amplitude estimation** problem, is to define the density probability $p(x)$ and the function to evaluate $f(x)$. We cannot work with continuous variables so we need to discretise $p(x)$ and $f(x)$. \n",
    "\n",
    "We are going to define the following toy problem:\n",
    "\n",
    "* Domain: our $x$ will be a set of $2^{n}$ integers numbers.\n",
    "\n",
    "$$x \\in \\{0, 1, 2, ..., 2^n-1\\}$$\n",
    "\n",
    "* $p(x)$: Over our domain, we are going to define a properly normalised density distribution in the form:\n",
    "\n",
    "$$p(x)=\\frac{x}{\\sum_{i=0}^{2^{n}-1}i}$$\n",
    "\n",
    "* $f(x)$: Over our domain, we are going to define the following properly normalised function:\n",
    "\n",
    "$$f(x) = \\frac{x}{2^n-1}$$\n",
    "\n",
    "\n",
    "**BE AWARE**\n",
    "\n",
    "Is **MANDATORY** that $p(x)$ and $f(x)$ are properly normalised. Following conditions **must be** satisfied:\n",
    "\n",
    "* For $p(x)$ is mandatory that: $\\sum_{i=0}^{2^{n}} p(x_i) = 1$\n",
    "* For $f(x)$ is mandatory that: $f(x_i) \\leq 1 \\forall i$"
   ]
  },
  {
   "cell_type": "code",
   "execution_count": null,
   "id": "0ed1fa24",
   "metadata": {},
   "outputs": [],
   "source": [
    "a = 0.0\n",
    "\n",
    "b = np.pi / 4.0\n",
    "\n",
    "#n will define the maximum numbers of our domain\n",
    "n = 3\n",
    "x = np.linspace(a, b, 2 ** n)\n",
    "\n",
    "#function definition\n",
    "f_x = np.sin(x)\n",
    "#function normalisation\n",
    "f_x_normalisation = np.max(np.abs(f_x)) + 1e-8\n",
    "norm_f_x = f_x / f_x_normalisation\n",
    "\n",
    "#probability definition\n",
    "p_x = x\n",
    "#probability normalisation\n",
    "p_x_normalisation = np.sum(p_x) + 1e-8\n",
    "norm_p_x = p_x / p_x_normalisation\n",
    "\n",
    "#Desired Integral\n",
    "riemman = np.sum(p_x * f_x)"
   ]
  },
  {
   "cell_type": "code",
   "execution_count": null,
   "id": "6e065db0",
   "metadata": {},
   "outputs": [],
   "source": [
    "riemman"
   ]
  },
  {
   "cell_type": "code",
   "execution_count": null,
   "id": "4ce74d0f",
   "metadata": {},
   "outputs": [],
   "source": [
    "#Testing normalised conditions!\n",
    "\n",
    "print('p(x) condition: {}'.format(np.sum(norm_p_x) <= 1))\n",
    "print('f(x) condition: {}'.format(np.max(np.abs(norm_f_x)) <= 1))"
   ]
  },
  {
   "cell_type": "code",
   "execution_count": null,
   "id": "44acaebc",
   "metadata": {},
   "outputs": [],
   "source": [
    "fig, ax1 = plt.subplots()\n",
    "ax1.plot(x, norm_p_x, label='p(x)')\n",
    "ax1.set_ylabel('p(x)', color = 'b')\n",
    "ax1.tick_params(axis='y', labelcolor='b')\n",
    "ax2 = ax1.twinx()\n",
    "ax2.plot(x, norm_f_x, color='r', label = 'f(x)')\n",
    "ax2.set_ylabel('f(x)', color='r')\n",
    "ax2.tick_params(axis='y', labelcolor='r')\n",
    "fig.legend(['p(x)', 'f(x)'])"
   ]
  },
  {
   "cell_type": "markdown",
   "id": "8ee530b6",
   "metadata": {},
   "source": [
    "## 2. q_solve_integral function\n",
    "\n",
    "The *q_solve_integral* function from **QQuantLib.finance.quantum_integration** needs as input a Python dictionary with different keys. The function needs the following classes:\n",
    "\n",
    "* *AE* class from **QQuantLib.AE.ae_class** (see Notebook **08_AmplitudeEstimation_Class**)\n",
    "* *Encoding* class from **QQuantLib.AE.ae_class** (see Notebook **09_DataEncodingClass**)\n",
    "\n",
    "So all the keys for configuring these classes can be used as keys of the input dictionary for the *q_solve_integral* function. \n",
    "\n",
    "Additionally, some keys are mandatory:\n",
    "\n",
    "* *array_function*: numpy array with the desired function for encoding (this is $f(x)$).\n",
    "* *array_probability*: numpy array with the desired probability (this is $p(x)$). This can be None (in this case a uniform distribution will be used).\n",
    "* *encoding*: integer for selecting the encoding procedure to use (see Notebook **09_DataEncodingClass**).\n",
    "* *ae_type*: string for selecting the AE algorithm to use for solving integral (see Notebook **08_AmplitudeEstimation_Class**)\n",
    "\n",
    "The following cell creates a base Python dictionary for given to the *q_solve_integral* function\n",
    "\n",
    "The return of the *q_solve_integral* function will be:\n",
    "\n",
    "* *ae_estimation*: pandas DataFrame with the desired integral computed using **AE** techniques. In this case, normalisation due to the different encodes are managed by the function and the desired integral is returned transparently. There are 3 columns:\n",
    "    * *ae*: integral value\n",
    "    * *ae_l*: lower bound of the integral value (only **IQAE** and **RQAE**)\n",
    "    * *ae_u*: upper bound of the integral value (only **IQAE** and **RQAE**)\n",
    "* *solver_ae*: object created from the *AE* class and properly configured.\n",
    "* *encode_class* : object created from the *Encode* class and properly configured."
   ]
  },
  {
   "cell_type": "code",
   "execution_count": null,
   "id": "cc288aff",
   "metadata": {},
   "outputs": [],
   "source": [
    "#typical AE input dictionary\n",
    "m_k = [i for i in range(18)]\n",
    "ae_dict = {\n",
    "    #QPU\n",
    "    'qpu': linalg_qpu,\n",
    "    #Multi controlled decomposition\n",
    "    'mcz_qlm': False, \n",
    "    \n",
    "    #shots\n",
    "    'shots': 100,\n",
    "    \n",
    "    #MLAE\n",
    "    'schedule': [\n",
    "        m_k,\n",
    "        [100]*len(m_k)\n",
    "    ],\n",
    "    'delta' : 1.0e-7,\n",
    "    'ns' : 10000,\n",
    "    \n",
    "    #CQPEAE\n",
    "    'auxiliar_qbits_number': 14,\n",
    "    #IQPEAE\n",
    "    'cbits_number': 10,\n",
    "    #IQAE & RQAQE\n",
    "    'epsilon': 0.0001,\n",
    "    #IQAE\n",
    "    'alpha': 0.05,\n",
    "    #RQAE\n",
    "    'gamma': 0.05,\n",
    "    'q': 1.2,\n",
    "    #For encoding class\n",
    "    \"multiplexor\": True\n",
    "}\n",
    "\n",
    "#Now we add the data for encoding and the typw of AE\n",
    "\n",
    "ae_dict.update({\n",
    "    \"array_function\":norm_f_x,\n",
    "    \"array_probability\": norm_p_x,\n",
    "})"
   ]
  },
  {
   "cell_type": "code",
   "execution_count": null,
   "id": "c5c28e23",
   "metadata": {},
   "outputs": [],
   "source": [
    "from QQuantLib.finance.quantum_integration import q_solve_integral"
   ]
  },
  {
   "cell_type": "markdown",
   "id": "5fa9f4a1",
   "metadata": {},
   "source": [
    "The idea of the *q_solve_integral* function is converting the desired integral computation in an amplitude estimation (**AE**) problem and solving it with the different available **AE** techniques in **QQuantLib**.\n",
    "\n",
    "In a general, an **AE** problem is the following, given an oracle $\\mathcal{O}$ in the form:\n",
    "\n",
    "$$\\mathcal{O}|0\\rangle = |\\Psi\\rangle = \\sin(\\theta) |\\Psi_0\\rangle +\\cos(\\theta)|\\Psi_1\\rangle,\\tag{1}$$\n",
    "\n",
    "where $|\\Psi_0\\rangle$ and $|\\Psi_1\\rangle$ we want an estimation of $\\sin^2(\\theta)$ by making measurements of the $|\\Psi_0\\rangle$ state. \n",
    "\n",
    "In general **Phase Estimation** algorithms (like **CQPEAE** and **IQPEAE**) allow to compute the $\\sin^2(\\theta)$ straightforwardly, but **QFT** is needed and quantum circuits become very complex. **AE** algorithms try to take advantage of the corresponding oracle Grover-like operator, $\\mathcal{G}$, that acts:\n",
    "\n",
    "$$\\mathcal{G}^{m_k}|\\Psi\\rangle = |\\Psi \\rangle = \\sin\\left((2m_k+1)\\theta\\right)|\\Psi_0\\rangle +\\cos\\left((2m_k+1)\\theta\\right)|\\Psi_1\\rangle,$$\n",
    "\n",
    "If $m_k$ is selected in such a way than $(2m_k+1)\\theta \\sim \\frac{\\pi}{2}$ then the measurement probability of $|\\Psi_0\\rangle$ state is near 1. The main problem is that the optimal $m_k$ depends on $\\theta$. **AE** algorithms create systematic strategies for selecting $m_k$ for obtaining best $\\sin^2(\\theta)$.\n"
   ]
  },
  {
   "cell_type": "markdown",
   "id": "76cb4039",
   "metadata": {},
   "source": [
    "## 3. Encoding protocol 0\n",
    "\n",
    "First, we are going to use the first encoding protocol (*encoding=0*) as explained in Notebook **09_DataEncodingClass**) and then we are going to test all the possible implemented **AE** algorithms.\n",
    "\n",
    "In this encoding protocol the Riemann sum:\n",
    "\n",
    "$$\\mathbb{E}[f] = \\sum_{i=0}^{2^n-1} p(x_i)f(x_i)$$\n",
    "\n",
    "will be codified as:\n",
    "\n",
    "$$|\\Psi\\rangle \n",
    "= \\sum_{i=0}^{2^{n}-1}\\sqrt{p(x_i)f(x_i)}|i\\rangle_{n}\\otimes|0\\rangle +  \\sum_{i=0}^{2^{n}-1} \\sqrt{p(x_i)(1-f(x_i))}|i\\rangle_{n}\\otimes|1\\rangle \\tag{2}$$\n",
    "\n",
    "So comparing $(2)$ with $(1)$ we can define:\n",
    "\n",
    "$$\\sin(\\theta)|\\Psi_{0}\\rangle = \\sum_{i=0}^{2^{n}-1}\\sqrt{p(x_i)f(x_i)}|i\\rangle_{n} \\otimes |0\\rangle $$\n",
    "\n",
    "and \n",
    "\n",
    "$$\\sin^2(\\theta) = \\sum_{i=0}^{2^{n}-1}|p(x_i)f(x_i)|$$\n",
    "\n",
    "In this case the *q_solve_integral* function will return the desired Riemann sum: $\\sum_{i=0}^{2^{n}-1}|p(x_i)f(x_i)|$"
   ]
  },
  {
   "cell_type": "code",
   "execution_count": null,
   "id": "51cde7ab",
   "metadata": {},
   "outputs": [],
   "source": [
    "ae_dict.update({\"encoding\" : 0})"
   ]
  },
  {
   "cell_type": "markdown",
   "id": "d15f9fe1",
   "metadata": {},
   "source": [
    "### 3.1 MLAE\n",
    "\n",
    "Now we are going to use **MLAE** for solving the complete problem"
   ]
  },
  {
   "cell_type": "code",
   "execution_count": null,
   "id": "3294f625",
   "metadata": {},
   "outputs": [],
   "source": [
    "ae_dict.update({\"ae_type\" : \"MLAE\"})"
   ]
  },
  {
   "cell_type": "code",
   "execution_count": null,
   "id": "2bf0d7be",
   "metadata": {
    "scrolled": true
   },
   "outputs": [],
   "source": [
    "%%time\n",
    "mlae_solution, mlae_object = q_solve_integral(**ae_dict)"
   ]
  },
  {
   "cell_type": "code",
   "execution_count": null,
   "id": "ae136b53",
   "metadata": {},
   "outputs": [],
   "source": [
    "mlae_solution"
   ]
  },
  {
   "cell_type": "code",
   "execution_count": null,
   "id": "2408e981",
   "metadata": {
    "scrolled": true
   },
   "outputs": [],
   "source": [
    "mlae_rieman = mlae_solution*f_x_normalisation*p_x_normalisation\n",
    "print(\"MLAE Riemann :{}. Riemann: {}\".format(mlae_rieman['ae'].iloc[0], riemman))\n",
    "print(\"Absolute Error: {}\".format(np.abs(mlae_rieman['ae'].iloc[0] - riemman)))"
   ]
  },
  {
   "cell_type": "code",
   "execution_count": null,
   "id": "e9988cc3",
   "metadata": {
    "scrolled": true
   },
   "outputs": [],
   "source": [
    "#we can access to different properties of the configured AE class used for doing the computations\n",
    "mlae_object.schedule_pdf"
   ]
  },
  {
   "cell_type": "code",
   "execution_count": null,
   "id": "a38f8d1b",
   "metadata": {
    "scrolled": true
   },
   "outputs": [],
   "source": [
    "c = mlae_object.oracle \n",
    "%qatdisplay c --svg"
   ]
  },
  {
   "cell_type": "markdown",
   "id": "af7af6fe",
   "metadata": {},
   "source": [
    "### 3.2 IQAE\n",
    "\n",
    "Now we are going to use **IQAE** for solving the complete problem"
   ]
  },
  {
   "cell_type": "code",
   "execution_count": null,
   "id": "13edd17c",
   "metadata": {},
   "outputs": [],
   "source": [
    "ae_dict.update({\"ae_type\" : \"IQAE\"})\n",
    "ae_dict.update({\"epsilon\" : 0.001})"
   ]
  },
  {
   "cell_type": "code",
   "execution_count": null,
   "id": "4ae682e7",
   "metadata": {},
   "outputs": [],
   "source": [
    "%%time\n",
    "iqae_solution, iqae_object = q_solve_integral(**ae_dict)"
   ]
  },
  {
   "cell_type": "code",
   "execution_count": null,
   "id": "34c73430",
   "metadata": {},
   "outputs": [],
   "source": [
    "iqae_rieman = iqae_solution*f_x_normalisation*p_x_normalisation\n",
    "print(\"IQAE Riemann :{}. Riemann: {}\".format(iqae_rieman['ae'].iloc[0], riemman))\n",
    "print(\"Absolute Error: {}\".format(np.abs(iqae_rieman['ae'].iloc[0] - riemman)))"
   ]
  },
  {
   "cell_type": "markdown",
   "id": "3aff71fc",
   "metadata": {},
   "source": [
    "### 3.3 RQAE\n",
    "\n",
    "Now we are going to use **RQAE** for solving the complete problem. Encoding 0 is not compatible with this **AE**. Instead of an error a warning is provided and an empty pandas DataFrame and a None will be returned."
   ]
  },
  {
   "cell_type": "code",
   "execution_count": null,
   "id": "ccc1bd33",
   "metadata": {},
   "outputs": [],
   "source": [
    "ae_dict.update({\"ae_type\" : \"RQAE\"})\n",
    "ae_dict.update({\"epsilon\" : 0.001})"
   ]
  },
  {
   "cell_type": "code",
   "execution_count": null,
   "id": "48eefddf",
   "metadata": {},
   "outputs": [],
   "source": [
    "%%time\n",
    "rqae_solution, rqae_object = q_solve_integral(**ae_dict)"
   ]
  },
  {
   "cell_type": "code",
   "execution_count": null,
   "id": "3119652b",
   "metadata": {
    "scrolled": true
   },
   "outputs": [],
   "source": [
    "rqae_solution"
   ]
  },
  {
   "cell_type": "code",
   "execution_count": null,
   "id": "67c7dd23",
   "metadata": {},
   "outputs": [],
   "source": [
    "rqae_object"
   ]
  },
  {
   "cell_type": "markdown",
   "id": "8e7f884d",
   "metadata": {},
   "source": [
    "### 3.4 MCAE\n",
    "\n",
    "We are going to use **MCAE** procedure for computing integrals."
   ]
  },
  {
   "cell_type": "code",
   "execution_count": null,
   "id": "fd25250c",
   "metadata": {},
   "outputs": [],
   "source": [
    "%%time\n",
    "ae_dict.update({\"ae_type\" : \"MCAE\"})\n",
    "ae_dict.update({\"shots\" : 100000})\n",
    "mcae_solution, mcae_object = q_solve_integral(**ae_dict)"
   ]
  },
  {
   "cell_type": "code",
   "execution_count": null,
   "id": "fdd77dcb",
   "metadata": {},
   "outputs": [],
   "source": [
    "mcae_rieman = mcae_solution*f_x_normalisation*p_x_normalisation\n",
    "print(\"MCAE Riemann :{}. Riemann: {}\".format(mcae_rieman['ae'].iloc[0], riemman))\n",
    "print(\"Absolute Error: {}\".format(np.abs(mcae_rieman['ae'].iloc[0] - riemman)))"
   ]
  },
  {
   "cell_type": "markdown",
   "id": "711d97c6",
   "metadata": {},
   "source": [
    "### 3.4 CQPEAE & IQPEAE\n",
    "\n",
    "The **CQPEAE** and **IQPEAE** algorithms can be used for solving integrals too. But they are very demanding computing requirements. The cells will be left as comments. If the user wants to use will need only to transform in code cells. \n",
    "\n",
    "These methods can be executed in a reasonable time when **Eviden Quantum Learning Machine** can be used. At **CESGA** a **QLM** is deployed and It can be used (if you have a CESGA account) using the **qlmass** library. \n",
    "\n",
    "CESGA users can obtain more information at the following link: \n",
    "\n",
    "https://cesga-docs.gitlab.io/qlm-user-guide/qlm.html"
   ]
  },
  {
   "cell_type": "markdown",
   "id": "0ec47532",
   "metadata": {},
   "source": [
    "#### CQPEAE"
   ]
  },
  {
   "cell_type": "markdown",
   "id": "989cf468-69a8-4741-8098-b7d51cd4a4f8",
   "metadata": {},
   "source": [
    "#This cell loads the QLM solver. QPU = [qlmass, python, c]\n",
    "from QQuantLib.qpu.get_qpu import get_qpu\n",
    "QPU = [\"qlmass\", \"python\", \"c\"]\n",
    "linalg_qpu = get_qpu(QPU[0])"
   ]
  },
  {
   "cell_type": "code",
   "execution_count": null,
   "id": "ec374263",
   "metadata": {},
   "outputs": [],
   "source": [
    "ae_dict.update({\"ae_type\" : \"CQPEAE\"})\n",
    "ae_dict.update({\"qpu\" : linalg_qpu})\n",
    "#When bigger more precision and more computing demand\n",
    "ae_dict.update({\"auxiliar_qbits_number\" : 14})"
   ]
  },
  {
   "cell_type": "code",
   "execution_count": null,
   "id": "743a9e88",
   "metadata": {},
   "outputs": [],
   "source": [
    "cqpeae_solution, cqpeae_object = q_solve_integral(**ae_dict)"
   ]
  },
  {
   "cell_type": "code",
   "execution_count": null,
   "id": "8d2ab149",
   "metadata": {},
   "outputs": [],
   "source": [
    "cqpeae_rieman = cqpeae_solution*f_x_normalisation*p_x_normalisation\n",
    "print(\"CQPEAE Riemann :{}. Riemann: {}\".format(cqpeae_rieman['ae'].iloc[0], riemman))\n",
    "print(\"Absolute Error: {}\".format(np.abs(cqpeae_rieman['ae'].iloc[0] - riemman)))"
   ]
  },
  {
   "cell_type": "markdown",
   "id": "2dbbc531",
   "metadata": {},
   "source": [
    "#### IQPEAE"
   ]
  },
  {
   "cell_type": "markdown",
   "id": "98c97966-6c02-45de-af2b-e357559e90ba",
   "metadata": {},
   "source": [
    "ae_dict.update({\"ae_type\" : \"IQPEAE\"})\n",
    "#When bigger more precision and more computing demand\n",
    "ae_dict.update({\"cbits_number\" : 10})"
   ]
  },
  {
   "cell_type": "markdown",
   "id": "cbb2d839-a0a5-4e50-9aed-e432896a7183",
   "metadata": {},
   "source": [
    "iqpeae_solution, iqpeae_object = q_solve_integral(**ae_dict)"
   ]
  },
  {
   "cell_type": "markdown",
   "id": "de2350fa-d331-408f-9cab-5d438730cc48",
   "metadata": {
    "scrolled": true
   },
   "source": [
    "iqpeae_rieman = iqpeae_solution*f_x_normalisation*p_x_normalisation\n",
    "print(\"IQPEAE Riemann :{}. Riemann: {}\".format(iqpeae_rieman['ae'].iloc[0], riemman))\n",
    "print(\"Absolute Error: {}\".format(np.abs(iqpeae_rieman['ae'].iloc[0] - riemman)))"
   ]
  },
  {
   "cell_type": "markdown",
   "id": "ac82e94a",
   "metadata": {},
   "source": [
    "### 3.6 Encoding Protocol 0 issues\n",
    "\n",
    "As explained in the Notebook **09_DataEncodingClass** this encoding procedure can only codified properly strictly positive functions $f(x)$. So if we try to use this encoding procedure with a non-strictly positive function the **returned integral WILL BE INCORRECT!!**"
   ]
  },
  {
   "cell_type": "code",
   "execution_count": null,
   "id": "f07dc68d-9cdc-4e89-a9c9-dd6707b3afee",
   "metadata": {},
   "outputs": [],
   "source": [
    "#This cell loads the QLM solver. See notebook: 00_AboutTheNotebooksAndQPUs.ipynb\n",
    "from QQuantLib.qpu.get_qpu import get_qpu\n",
    "# myqlm qpus\n",
    "myqlm_qpus = [\"python\", \"c\"]\n",
    "# QLM qpus accessed using Qaptiva Access library\n",
    "qlmass_qpus = [\"qlmass_linalg\", \"qlmass_mps\"]\n",
    "# QLM qpus: Only in local Quantum Learning Machine\n",
    "qlm_qpus = [\"linalg\", \"mps\"]\n",
    "\n",
    "linalg_qpu = get_qpu(myqlm_qpus[1])"
   ]
  },
  {
   "cell_type": "code",
   "execution_count": null,
   "id": "4231eee5",
   "metadata": {},
   "outputs": [],
   "source": [
    "#Non strict define positive f(x)\n",
    "\n",
    "a = np.pi - np.pi / 4.0\n",
    "\n",
    "b = np.pi + np.pi / 8.0\n",
    "\n",
    "#n will define the maximum numbers of our domain\n",
    "n = 5\n",
    "x = np.linspace(a, b, 2 ** n)\n",
    "\n",
    "#function definition\n",
    "f_x = np.sin(x)\n",
    "#function normalisation\n",
    "f_x_normalisation = np.max(np.abs(f_x)) + 1e-8\n",
    "norm_f_x = f_x / f_x_normalisation\n",
    "\n",
    "#probability definition\n",
    "p_x = x\n",
    "#probability normalisation\n",
    "p_x_normalisation = np.sum(p_x) + 1e-8\n",
    "norm_p_x = p_x / p_x_normalisation\n",
    "\n",
    "#Desired Integral\n",
    "riemman = np.sum(p_x * f_x)"
   ]
  },
  {
   "cell_type": "code",
   "execution_count": null,
   "id": "88041539",
   "metadata": {},
   "outputs": [],
   "source": [
    "riemman"
   ]
  },
  {
   "cell_type": "code",
   "execution_count": null,
   "id": "94206635",
   "metadata": {},
   "outputs": [],
   "source": [
    "#Testing normalised conditions!\n",
    "\n",
    "print('p(x) condition: {}'.format(np.sum(norm_p_x) <= 1))\n",
    "print('f(x) condition: {}'.format(np.max(np.abs(norm_f_x)) <= 1))"
   ]
  },
  {
   "cell_type": "code",
   "execution_count": null,
   "id": "dc632f55",
   "metadata": {},
   "outputs": [],
   "source": [
    "fig, ax1 = plt.subplots()\n",
    "ax1.plot(x, norm_p_x, label='p(x)')\n",
    "ax1.set_ylabel('p(x)', color = 'b')\n",
    "ax1.tick_params(axis='y', labelcolor='b')\n",
    "ax2 = ax1.twinx()\n",
    "ax2.plot(x, norm_f_x, color='r', label = 'f(x)')\n",
    "ax2.set_ylabel('f(x)', color='r')\n",
    "ax2.tick_params(axis='y', labelcolor='r')\n",
    "fig.legend(['p(x)', 'f(x)'])"
   ]
  },
  {
   "cell_type": "code",
   "execution_count": null,
   "id": "fbdce121",
   "metadata": {},
   "outputs": [],
   "source": [
    "#New function will be encoded!!! Not strictly definite positive function\n",
    "ae_dict.update({\n",
    "    \"array_function\":norm_f_x,\n",
    "    \"array_probability\": norm_p_x,\n",
    "})\n",
    "ae_dict.update({\"qpu\" : linalg_qpu})"
   ]
  },
  {
   "cell_type": "code",
   "execution_count": null,
   "id": "e2ff6624",
   "metadata": {},
   "outputs": [],
   "source": [
    "%%time\n",
    "#We are going to select one AE algorithm\n",
    "ae_dict.update({\"ae_type\" : \"IQAE\", 'epsilon' : 0.001})\n",
    "iqae_solution, iqae_object = q_solve_integral(**ae_dict)"
   ]
  },
  {
   "cell_type": "code",
   "execution_count": null,
   "id": "30c0da56",
   "metadata": {},
   "outputs": [],
   "source": [
    "#Now the integral WILL BE WRONG because encoding procedure\n",
    "iqae_rieman = iqae_solution*f_x_normalisation*p_x_normalisation\n",
    "print(\"IQAE Riemann :{}. Riemann: {}\".format(iqae_rieman['ae'].iloc[0], riemman))\n",
    "print(\"Absolute Error: {}\".format(np.abs(iqae_rieman['ae'].iloc[0] - riemman)))"
   ]
  },
  {
   "cell_type": "markdown",
   "id": "e38748d6",
   "metadata": {},
   "source": [
    "## 4. Encoding protocol 1\n",
    "\n",
    "We are going to use the second encoding protocol (*encoding=1*) as explained in Notebook **09_DataEncodingClass**) and then we are going to test all the possible implemented **AE** algorithms.\n",
    "\n",
    "As explained in the notebook *09_DataEncodingClass* the desired integral is codified following ($3)$\n",
    "\n",
    "\n",
    "$$|\\Psi\\rangle = \\frac{1}{2^n} \\sum_{i=0}^{2^{n}-1} p(x_i)f(x_i) |0\\rangle \\otimes |0\\rangle \\otimes |0\\rangle_n \\; + \\; ... \\tag{3}$$\n",
    "\n",
    "So comparing $(3)$ and $(1)$\n",
    "\n",
    "$$|\\Psi_{0}\\rangle = |0\\rangle \\otimes |0\\rangle \\otimes |0\\rangle_n $$\n",
    "\n",
    "and \n",
    "\n",
    "$$\\mathbf{P}_{|\\Psi_{0}\\rangle} = \\sin^2(\\theta) = \\left| \\frac{1}{2^n} \\sum_{i=0}^{2^{n}-1} p(x_i)f(x_i) \\right|^2$$\n",
    "\n",
    "Again the output will take care of the encoding normalisation and the pure Riemman sum will be returned.\n",
    "\n",
    "This procedure allows functions that are not strictly positive definite (into the domain, of  course). \n",
    "\n",
    "The following cells will use the new non-strictly positive define function with the encoding 1 and the different **AE** algorithms"
   ]
  },
  {
   "cell_type": "code",
   "execution_count": null,
   "id": "811b26cd",
   "metadata": {},
   "outputs": [],
   "source": [
    "ae_dict.update({\"encoding\" : 1})"
   ]
  },
  {
   "cell_type": "markdown",
   "id": "5ac94710",
   "metadata": {},
   "source": [
    "### 4.1 MLAE\n",
    "\n",
    "Now we are going to use **MLAE** to solve the complete problem"
   ]
  },
  {
   "cell_type": "code",
   "execution_count": null,
   "id": "6da8c8e8",
   "metadata": {},
   "outputs": [],
   "source": [
    "m_k = [2**i for i in range(12)]\n",
    "ae_dict.update({\n",
    "    \"ae_type\" : \"MLAE\", \n",
    "    'schedule': [m_k, [100]*len(m_k)]\n",
    "})"
   ]
  },
  {
   "cell_type": "code",
   "execution_count": null,
   "id": "bfe92208",
   "metadata": {},
   "outputs": [],
   "source": [
    "%%time\n",
    "mlae_solution, mlae_object = q_solve_integral(**ae_dict)"
   ]
  },
  {
   "cell_type": "code",
   "execution_count": null,
   "id": "79416b5c",
   "metadata": {
    "scrolled": true
   },
   "outputs": [],
   "source": [
    "mlae_rieman = mlae_solution*f_x_normalisation*p_x_normalisation\n",
    "print(\"MLAE Riemann :{}. Riemann: {}\".format(mlae_rieman['ae'].iloc[0], riemman))\n",
    "print(\"Absolute Error: {}\".format(np.abs(mlae_rieman['ae'].iloc[0] - riemman)))"
   ]
  },
  {
   "cell_type": "code",
   "execution_count": null,
   "id": "d23afee7",
   "metadata": {},
   "outputs": [],
   "source": [
    "mlae_object.schedule_pdf"
   ]
  },
  {
   "cell_type": "markdown",
   "id": "e92b277b",
   "metadata": {},
   "source": [
    "### 4.2 IQAE\n",
    "\n",
    "Now we are going to use **IQAE** to solve the complete problem"
   ]
  },
  {
   "cell_type": "code",
   "execution_count": null,
   "id": "f65d3106",
   "metadata": {},
   "outputs": [],
   "source": [
    "ae_dict.update({\"ae_type\" : \"IQAE\"})\n",
    "ae_dict.update({\"epsilon\" : 0.0001})"
   ]
  },
  {
   "cell_type": "code",
   "execution_count": null,
   "id": "aa5cad6a",
   "metadata": {},
   "outputs": [],
   "source": [
    "%%time\n",
    "iqae_solution, iqae_object = q_solve_integral(**ae_dict)"
   ]
  },
  {
   "cell_type": "code",
   "execution_count": null,
   "id": "f15f9f88",
   "metadata": {},
   "outputs": [],
   "source": [
    "iqae_rieman = iqae_solution*f_x_normalisation*p_x_normalisation\n",
    "print(\"IQAE Riemann :{}. Riemann: {}\".format(iqae_rieman['ae'].iloc[0], riemman))\n",
    "print(\"Absolute Error: {}\".format(np.abs(iqae_rieman['ae'].iloc[0] - riemman)))"
   ]
  },
  {
   "cell_type": "markdown",
   "id": "5cfd786c",
   "metadata": {},
   "source": [
    "### 4.3 RQAE\n",
    "\n",
    "Now we are going to use **RQAE** for solving the complete problem. In the case of the **RQAE** algorithm the amplitude of the $|\\Psi_{0}\\rangle$ is computed instead of its probability (so it can be negative). Again all the normalisations and internal computations are doing by the *q_solve_integral* function so the desired integral is returned to the user!!\n",
    "\n",
    "All the **RQAE** variations can be used with this encoding (**sRQAE**, **mRQAE**, **eRQAE**)"
   ]
  },
  {
   "cell_type": "markdown",
   "id": "79d32b8c",
   "metadata": {},
   "source": [
    "#### Original RQAE"
   ]
  },
  {
   "cell_type": "code",
   "execution_count": null,
   "id": "6b2736f5",
   "metadata": {},
   "outputs": [],
   "source": [
    "ae_dict.update({\"ae_type\" : \"RQAE\", 'epsilon': 0.0005})"
   ]
  },
  {
   "cell_type": "code",
   "execution_count": null,
   "id": "a03f78a6",
   "metadata": {
    "scrolled": true
   },
   "outputs": [],
   "source": [
    "%%time\n",
    "rqae_solution, rqae_object = q_solve_integral(**ae_dict)"
   ]
  },
  {
   "cell_type": "code",
   "execution_count": null,
   "id": "1a3e893b",
   "metadata": {},
   "outputs": [],
   "source": [
    "rqae_rieman = rqae_solution*f_x_normalisation*p_x_normalisation\n",
    "print(\"RQAE Riemann :{}. Riemann: {}\".format(rqae_rieman['ae'].iloc[0], riemman))\n",
    "print(\"Absolute Error: {}\".format(np.abs(rqae_rieman['ae'].iloc[0] - riemman)))"
   ]
  },
  {
   "cell_type": "markdown",
   "id": "15e049b1",
   "metadata": {},
   "source": [
    "#### mRQAE"
   ]
  },
  {
   "cell_type": "code",
   "execution_count": null,
   "id": "4edbbe6a",
   "metadata": {},
   "outputs": [],
   "source": [
    "%%time\n",
    "ae_dict.update({\"ae_type\" : \"mRQAE\", 'epsilon': 0.0005})\n",
    "m_rqae_solution, m_rqae_object = q_solve_integral(**ae_dict)\n",
    "m_rqae_rieman = m_rqae_solution*f_x_normalisation*p_x_normalisation\n",
    "print(\"mRQAE Riemann :{}. Riemann: {}\".format(m_rqae_rieman['ae'].iloc[0], riemman))\n",
    "print(\"Absolute Error: {}\".format(np.abs(m_rqae_rieman['ae'].iloc[0] - riemman)))"
   ]
  },
  {
   "cell_type": "markdown",
   "id": "9442312e",
   "metadata": {},
   "source": [
    "#### sRQAE (RQAE with shots)"
   ]
  },
  {
   "cell_type": "code",
   "execution_count": null,
   "id": "fad9ef62",
   "metadata": {},
   "outputs": [],
   "source": [
    "%%time\n",
    "# Now shots should be provided\n",
    "ae_dict.update({\"ae_type\" : \"sRQAE\", 'epsilon': 0.0005, 'shots': 500})\n",
    "s_rqae_solution, s_rqae_object = q_solve_integral(**ae_dict)\n",
    "s_rqae_rieman = s_rqae_solution*f_x_normalisation*p_x_normalisation\n",
    "print(\"sRQAE Riemann :{}. Riemann: {}\".format(s_rqae_rieman['ae'].iloc[0], riemman))\n",
    "print(\"Absolute Error: {}\".format(np.abs(s_rqae_rieman['ae'].iloc[0] - riemman)))"
   ]
  },
  {
   "cell_type": "markdown",
   "id": "b8885184",
   "metadata": {},
   "source": [
    "#### eRQAE"
   ]
  },
  {
   "cell_type": "code",
   "execution_count": null,
   "id": "63ea1e02",
   "metadata": {},
   "outputs": [],
   "source": [
    "%%time\n",
    "# Now we need to configure the scheduling function\n",
    "schedule = {\n",
    "    \"type\": \"linear_linear\",\n",
    "    \"ratio_slope_k\": 3.5,\n",
    "    \"ratio_slope_gamma\": -2.5\n",
    "}\n",
    "ae_dict.update({\"ae_type\" : \"eRQAE\", 'epsilon': 0.0005, 'erqae_schedule': schedule})\n",
    "e_rqae_solution, e_rqae_object = q_solve_integral(**ae_dict)\n",
    "e_rqae_rieman = e_rqae_solution*f_x_normalisation*p_x_normalisation\n",
    "print(\"eRQAE Riemann :{}. Riemann: {}\".format(e_rqae_rieman['ae'].iloc[0], riemman))\n",
    "print(\"Absolute Error: {}\".format(np.abs(e_rqae_rieman['ae'].iloc[0] - riemman)))"
   ]
  },
  {
   "cell_type": "code",
   "execution_count": null,
   "id": "d8bb646b",
   "metadata": {},
   "outputs": [],
   "source": [
    "# we can acces to the schedules:\n",
    "print(e_rqae_object.solver_ae.schedule_gamma)\n",
    "print(e_rqae_object.solver_ae.schedule_k)"
   ]
  },
  {
   "cell_type": "markdown",
   "id": "64d505ef",
   "metadata": {},
   "source": [
    "### 4.4 MCAE\n",
    "We are going to use MCAE"
   ]
  },
  {
   "cell_type": "code",
   "execution_count": null,
   "id": "49afd822",
   "metadata": {},
   "outputs": [],
   "source": [
    "%%time\n",
    "ae_dict.update({\"ae_type\" : \"MCAE\"})\n",
    "ae_dict.update({\"shots\" : 100000})\n",
    "mcae_solution, mcae_object = q_solve_integral(**ae_dict)"
   ]
  },
  {
   "cell_type": "code",
   "execution_count": null,
   "id": "3fc0d22f",
   "metadata": {},
   "outputs": [],
   "source": [
    "mcae_rieman = mcae_solution*f_x_normalisation*p_x_normalisation\n",
    "print(\"MCAE Riemann :{}. Riemann: {}\".format(mcae_rieman['ae'].iloc[0], riemman))\n",
    "print(\"Absolute Error: {}\".format(np.abs(mcae_rieman['ae'].iloc[0] - riemman)))"
   ]
  },
  {
   "cell_type": "markdown",
   "id": "7ae48c1d",
   "metadata": {},
   "source": [
    "## 5. Encoding protocol 2\n",
    "\n",
    "We are going to use the third encoding protocol (*encoding=2*) as explained in Notebook **09_DataEncodingClass**) and then we are going to test all the possible implemented **AE** algorithms. In this encoding the desired integral is codified in the following way:\n",
    "\n",
    "$$|\\Psi \\rangle = \\sum_{i=0}^{2^{n}-1} p(x_i) f(x_i) |0\\rangle \\otimes |0\\rangle_{n} \\; + \\; ... \\tag{4}$$\n",
    "\n",
    "So comparing $(4)$ and $(1)$\n",
    "\n",
    "$$|\\Psi_{0}\\rangle = |0\\rangle \\otimes |0\\rangle_n $$\n",
    "\n",
    "and \n",
    "\n",
    "$$\\mathbf{P}_{|\\Psi_{0}\\rangle} = \\sin^2(\\theta) = \\left| \\sum_{i=0}^{2^{n}-1} p(x_i)f(x_i) \\right|^2$$\n",
    "\n",
    "Again the output will take care of the encoding normalisation and the pure Riemann sum will be returned.\n",
    "\n",
    "This procedure allows functions that are not strictly positive definite (into the domain, of  course). \n",
    "\n",
    "The following cells will use the new non-strictly positive define function with the encoding 1 and the different **AE** algorithms"
   ]
  },
  {
   "cell_type": "code",
   "execution_count": null,
   "id": "05356775",
   "metadata": {},
   "outputs": [],
   "source": [
    "ae_dict.update({\"encoding\" : 2})"
   ]
  },
  {
   "cell_type": "markdown",
   "id": "c4f219a6",
   "metadata": {},
   "source": [
    "### 5.1 MLAE\n",
    "\n",
    "Now we are going to use **MLAE** to solve the complete problem"
   ]
  },
  {
   "cell_type": "code",
   "execution_count": null,
   "id": "0a588398",
   "metadata": {},
   "outputs": [],
   "source": [
    "m_k = [i for i in range(12)]\n",
    "ae_dict.update({\n",
    "    \"ae_type\" : \"MLAE\", \n",
    "    'schedule': [m_k, [100]*len(m_k)]\n",
    "})"
   ]
  },
  {
   "cell_type": "code",
   "execution_count": null,
   "id": "40f1b48a",
   "metadata": {},
   "outputs": [],
   "source": [
    "%%time\n",
    "mlae_solution, mlae_object = q_solve_integral(**ae_dict)"
   ]
  },
  {
   "cell_type": "code",
   "execution_count": null,
   "id": "86e99302",
   "metadata": {
    "scrolled": true
   },
   "outputs": [],
   "source": [
    "mlae_rieman = mlae_solution*f_x_normalisation*p_x_normalisation\n",
    "print(\"MLAE Riemann :{}. Riemann: {}\".format(mlae_rieman['ae'].iloc[0], riemman))\n",
    "print(\"Absolute Error: {}\".format(np.abs(mlae_rieman['ae'].iloc[0] - riemman)))"
   ]
  },
  {
   "cell_type": "code",
   "execution_count": null,
   "id": "0fabe1e2",
   "metadata": {
    "scrolled": true
   },
   "outputs": [],
   "source": [
    "mlae_object.schedule_pdf"
   ]
  },
  {
   "cell_type": "markdown",
   "id": "8fab238c",
   "metadata": {},
   "source": [
    "### 5.2 IQAE\n",
    "\n",
    "Now we are going to use **IQAE** to solve the complete problem"
   ]
  },
  {
   "cell_type": "code",
   "execution_count": null,
   "id": "df632fc1",
   "metadata": {},
   "outputs": [],
   "source": [
    "ae_dict.update({\"ae_type\" : \"IQAE\"})\n",
    "ae_dict.update({\"epsilon\" : 0.001})"
   ]
  },
  {
   "cell_type": "code",
   "execution_count": null,
   "id": "e7a580ab",
   "metadata": {},
   "outputs": [],
   "source": [
    "%%time\n",
    "iqae_solution, iqae_object = q_solve_integral(**ae_dict)"
   ]
  },
  {
   "cell_type": "code",
   "execution_count": null,
   "id": "cf141ae2",
   "metadata": {},
   "outputs": [],
   "source": [
    "iqae_rieman = iqae_solution*f_x_normalisation*p_x_normalisation\n",
    "print(\"IQAE Riemann :{}. Riemann: {}\".format(iqae_rieman['ae'].iloc[0], riemman))\n",
    "print(\"Absolute Error: {}\".format(np.abs(iqae_rieman['ae'].iloc[0] - riemman)))"
   ]
  },
  {
   "cell_type": "markdown",
   "id": "b05f7215",
   "metadata": {},
   "source": [
    "### 5.3 RQAE\n",
    "\n",
    "Now we are going to use **RQAE** to solve the complete problem.  In the case of the **RQAE** algorithm the amplitude of the $|\\Psi_{0}\\rangle$ is computed instead of its probability (so it can be negative). Again all the normalisations and internal computations are done by the *q_solve_integral* function so the desired integral is returned to the user!!\n",
    "\n",
    "All the **RQAE** variations can be used with this encoding (**sRQAE**, **mRQAE**, **eRQAE**)"
   ]
  },
  {
   "cell_type": "code",
   "execution_count": null,
   "id": "fff804a2",
   "metadata": {},
   "outputs": [],
   "source": [
    "ae_dict.update({\"ae_type\" : \"RQAE\", 'epsilon': 0.001})"
   ]
  },
  {
   "cell_type": "code",
   "execution_count": null,
   "id": "e2ddb058",
   "metadata": {
    "scrolled": true
   },
   "outputs": [],
   "source": [
    "%%time\n",
    "rqae_solution, rqae_object = q_solve_integral(**ae_dict)"
   ]
  },
  {
   "cell_type": "code",
   "execution_count": null,
   "id": "0f50877b",
   "metadata": {},
   "outputs": [],
   "source": [
    "rqae_rieman = rqae_solution*f_x_normalisation*p_x_normalisation\n",
    "print(\"RQAE Riemann :{}. Riemann: {}\".format(rqae_rieman['ae'].iloc[0], riemman))\n",
    "print(\"Absolute Error: {}\".format(np.abs(rqae_rieman['ae'].iloc[0] - riemman)))"
   ]
  },
  {
   "cell_type": "code",
   "execution_count": null,
   "id": "873c950b",
   "metadata": {
    "scrolled": true
   },
   "outputs": [],
   "source": [
    "rqae_object.schedule_pdf"
   ]
  },
  {
   "cell_type": "markdown",
   "id": "bd1e086b",
   "metadata": {},
   "source": [
    "#### mRQAE"
   ]
  },
  {
   "cell_type": "code",
   "execution_count": null,
   "id": "93e16e42",
   "metadata": {},
   "outputs": [],
   "source": [
    "%%time\n",
    "ae_dict.update({\"ae_type\" : \"mRQAE\", 'epsilon': 0.001})\n",
    "m_rqae_solution, m_rqae_object = q_solve_integral(**ae_dict)\n",
    "m_rqae_rieman = m_rqae_solution*f_x_normalisation*p_x_normalisation\n",
    "print(\"mRQAE Riemann :{}. Riemann: {}\".format(m_rqae_rieman['ae'].iloc[0], riemman))\n",
    "print(\"Absolute Error: {}\".format(np.abs(m_rqae_rieman['ae'].iloc[0] - riemman)))"
   ]
  },
  {
   "cell_type": "code",
   "execution_count": null,
   "id": "216ea83e",
   "metadata": {},
   "outputs": [],
   "source": [
    "m_rqae_object.schedule_pdf"
   ]
  },
  {
   "cell_type": "markdown",
   "id": "71e58026",
   "metadata": {},
   "source": [
    "#### sRQAE (RQAE with shots)"
   ]
  },
  {
   "cell_type": "code",
   "execution_count": null,
   "id": "c8b98bc8",
   "metadata": {},
   "outputs": [],
   "source": [
    "%%time\n",
    "# Now shots should be provided\n",
    "ae_dict.update({\"ae_type\" : \"sRQAE\", 'epsilon': 0.001, 'shots': 500})\n",
    "s_rqae_solution, s_rqae_object = q_solve_integral(**ae_dict)\n",
    "s_rqae_rieman = s_rqae_solution*f_x_normalisation*p_x_normalisation\n",
    "print(\"sRQAE Riemann :{}. Riemann: {}\".format(s_rqae_rieman['ae'].iloc[0], riemman))\n",
    "print(\"Absolute Error: {}\".format(np.abs(s_rqae_rieman['ae'].iloc[0] - riemman)))"
   ]
  },
  {
   "cell_type": "markdown",
   "id": "25b57dbb",
   "metadata": {},
   "source": [
    "#### eRQAE"
   ]
  },
  {
   "cell_type": "code",
   "execution_count": null,
   "id": "d3469b7e",
   "metadata": {},
   "outputs": [],
   "source": [
    "%%time\n",
    "# Now we need to configure the scheduling function\n",
    "schedule = {\n",
    "    \"type\": \"linear_linear\",\n",
    "    \"ratio_slope_k\": 3.5,\n",
    "    \"ratio_slope_gamma\": -2.5\n",
    "}\n",
    "ae_dict.update({\"ae_type\" : \"eRQAE\", 'epsilon': 0.001, 'erqae_schedule': schedule})\n",
    "e_rqae_solution, e_rqae_object = q_solve_integral(**ae_dict)\n",
    "e_rqae_rieman = e_rqae_solution*f_x_normalisation*p_x_normalisation\n",
    "print(\"eRQAE Riemann :{}. Riemann: {}\".format(e_rqae_rieman['ae'].iloc[0], riemman))\n",
    "print(\"Absolute Error: {}\".format(np.abs(e_rqae_rieman['ae'].iloc[0] - riemman)))"
   ]
  },
  {
   "cell_type": "markdown",
   "id": "192edec4",
   "metadata": {},
   "source": [
    "### 5.4 MCAE\n",
    "We are going to use MCAE"
   ]
  },
  {
   "cell_type": "code",
   "execution_count": null,
   "id": "0d8e6fb9",
   "metadata": {},
   "outputs": [],
   "source": [
    "%%time\n",
    "ae_dict.update({\"ae_type\" : \"MCAE\"})\n",
    "ae_dict.update({\"shots\" : 100000})\n",
    "mcae_solution, mcae_object = q_solve_integral(**ae_dict)"
   ]
  },
  {
   "cell_type": "code",
   "execution_count": null,
   "id": "f294e514",
   "metadata": {},
   "outputs": [],
   "source": [
    "mcae_rieman = mcae_solution*f_x_normalisation*p_x_normalisation\n",
    "print(\"MCAE Riemann :{}. Riemann: {}\".format(mcae_rieman['ae'].iloc[0], riemman))\n",
    "print(\"Absolute Error: {}\".format(np.abs(mcae_rieman['ae'].iloc[0] - riemman)))"
   ]
  },
  {
   "cell_type": "markdown",
   "id": "04566722",
   "metadata": {},
   "source": [
    "## 6. Issues of AE algorithms\n",
    "\n",
    "In general, the **AE** algorithms compute the probability of the state $|\\Psi_{0}\\rangle$ (**MLAE** or **IQAE**) so only positive values will be provided as outputs. So if the integral to compute is negative then these algorithms will return an incorrect value and the integral returned by the *q_solve_integral* will be wrong too (this is independent of the encoding procedure used)!!! We can see this in the following cells where a negative Riemann sum will be loaded into the states "
   ]
  },
  {
   "cell_type": "code",
   "execution_count": null,
   "id": "a5b52e5f",
   "metadata": {},
   "outputs": [],
   "source": [
    "#Negative Riemann sum!!\n",
    "\n",
    "a = np.pi\n",
    "\n",
    "b = np.pi + np.pi / 4.0\n",
    "\n",
    "#n will define the maximum numbers of our domain\n",
    "n = 5\n",
    "x = np.linspace(a, b, 2 ** n)\n",
    "\n",
    "#function definition\n",
    "f_x = np.sin(x)\n",
    "#function normalisation\n",
    "f_x_normalisation = np.max(np.abs(f_x)) + 1e-8\n",
    "norm_f_x = f_x / f_x_normalisation\n",
    "\n",
    "#probability definition\n",
    "p_x = x\n",
    "#probability normalisation\n",
    "p_x_normalisation = np.sum(p_x) + 1e-8\n",
    "norm_p_x = p_x / p_x_normalisation\n",
    "\n",
    "#Desired Integral\n",
    "riemman = np.sum(p_x * f_x)"
   ]
  },
  {
   "cell_type": "code",
   "execution_count": null,
   "id": "6c6cccda",
   "metadata": {},
   "outputs": [],
   "source": [
    "riemman"
   ]
  },
  {
   "cell_type": "code",
   "execution_count": null,
   "id": "2a2b2927",
   "metadata": {},
   "outputs": [],
   "source": [
    "#Testing normalised conditions!\n",
    "\n",
    "print('p(x) condition: {}'.format(np.sum(norm_p_x) <= 1))\n",
    "print('f(x) condition: {}'.format(np.max(np.abs(norm_f_x)) <= 1))"
   ]
  },
  {
   "cell_type": "code",
   "execution_count": null,
   "id": "b8cc0564",
   "metadata": {},
   "outputs": [],
   "source": [
    "fig, ax1 = plt.subplots()\n",
    "ax1.plot(x, norm_p_x, label='p(x)')\n",
    "ax1.set_ylabel('p(x)', color = 'b')\n",
    "ax1.tick_params(axis='y', labelcolor='b')\n",
    "ax2 = ax1.twinx()\n",
    "ax2.plot(x, norm_f_x, color='r', label = 'f(x)')\n",
    "ax2.set_ylabel('f(x)', color='r')\n",
    "ax2.tick_params(axis='y', labelcolor='r')\n",
    "fig.legend(['p(x)', 'f(x)'])"
   ]
  },
  {
   "cell_type": "code",
   "execution_count": null,
   "id": "72f38dc0",
   "metadata": {},
   "outputs": [],
   "source": [
    "#New function will be encoded!!! Not strictly definite positive function\n",
    "ae_dict.update({\n",
    "    \"array_function\":norm_f_x,\n",
    "    \"array_probability\": norm_p_x,\n",
    "})"
   ]
  },
  {
   "cell_type": "markdown",
   "id": "d80da63d",
   "metadata": {},
   "source": [
    "### encoding 1"
   ]
  },
  {
   "cell_type": "code",
   "execution_count": null,
   "id": "68827284",
   "metadata": {},
   "outputs": [],
   "source": [
    "#Riemann sum negative!! Integration fails!\n",
    "ae_dict.update(\n",
    "    {\"encoding\" : 1,\n",
    "     \"ae_type\" : \"IQAE\"\n",
    "    })\n",
    "iqae_solution, iqae_object = q_solve_integral(**ae_dict)\n",
    "iqae_rieman = iqae_solution*f_x_normalisation*p_x_normalisation\n",
    "print(\"IQAE Riemann :{}. Riemann: {}\".format(iqae_rieman['ae'].iloc[0], riemman))\n",
    "print(\"Absolute Error: {}\".format(np.abs(iqae_rieman['ae'].iloc[0] - riemman)))"
   ]
  },
  {
   "cell_type": "markdown",
   "id": "c223a57d",
   "metadata": {},
   "source": [
    "### encoding 2"
   ]
  },
  {
   "cell_type": "code",
   "execution_count": null,
   "id": "d437f79c",
   "metadata": {},
   "outputs": [],
   "source": [
    "#Riemann sum negative!!  Integration fails!\n",
    "ae_dict.update(\n",
    "    {\"encoding\" : 2,\n",
    "     \"ae_type\" : \"IQAE\",\n",
    "     'epsilon': 0.001\n",
    "    })\n",
    "iqae_solution, iqae_object = q_solve_integral(**ae_dict)\n",
    "iqae_rieman = iqae_solution*f_x_normalisation*p_x_normalisation\n",
    "print(\"IQAE Riemann :{}. Riemann: {}\".format(iqae_rieman['ae'].iloc[0], riemman))\n",
    "print(\"Absolute Error: {}\".format(np.abs(iqae_rieman['ae'].iloc[0] - riemman)))"
   ]
  },
  {
   "cell_type": "markdown",
   "id": "f9b9334f",
   "metadata": {},
   "source": [
    "## 7. RQAE algorithm saves the day\n",
    "\n",
    "As explained the **RQAE** algorithm computes the amplitude of the  $|\\Psi_{0}\\rangle$ instead of its probability so it can detect the sign of the codified integral (always using encodings 1 and 2).\n",
    "\n",
    "All the variations of **RQAE** algorithm will work too (**mRQAE**, **sRQAE**, **eRQAE**)"
   ]
  },
  {
   "cell_type": "markdown",
   "id": "2e945656",
   "metadata": {},
   "source": [
    "### encoding 1"
   ]
  },
  {
   "cell_type": "code",
   "execution_count": null,
   "id": "10e2da6a",
   "metadata": {},
   "outputs": [],
   "source": [
    "%%time\n",
    "#Riemman sum negative!! \n",
    "ae_dict.update(\n",
    "    {\"encoding\" : 1,\n",
    "     \"ae_type\" : \"RQAE\",\n",
    "     'epsilon': 0.0005\n",
    "    })\n",
    "rqae_solution, iqae_object = q_solve_integral(**ae_dict)\n",
    "rqae_rieman = rqae_solution*f_x_normalisation*p_x_normalisation\n",
    "print(\"RQAE Riemann :{}. Riemann: {}\".format(rqae_rieman['ae'].iloc[0], riemman))\n",
    "print(\"Absolute Error: {}\".format(np.abs(rqae_rieman['ae'].iloc[0] - riemman)))"
   ]
  },
  {
   "cell_type": "markdown",
   "id": "fd48e22b",
   "metadata": {},
   "source": [
    "### encoding 2"
   ]
  },
  {
   "cell_type": "code",
   "execution_count": null,
   "id": "0eff37c3",
   "metadata": {},
   "outputs": [],
   "source": [
    "%%time\n",
    "#Riemman sum negative!! \n",
    "ae_dict.update(\n",
    "    {\"encoding\" : 2,\n",
    "     \"ae_type\" : \"RQAE\",\n",
    "     'epsilon': 0.001\n",
    "    })\n",
    "rqae_solution, iqae_object = q_solve_integral(**ae_dict)\n",
    "rqae_rieman = rqae_solution*f_x_normalisation*p_x_normalisation\n",
    "print(\"RQAE Riemann :{}. Riemann: {}\".format(rqae_rieman['ae'].iloc[0], riemman))\n",
    "print(\"Absolute Error: {}\".format(np.abs(rqae_rieman['ae'].iloc[0] - riemman)))"
   ]
  },
  {
   "cell_type": "markdown",
   "id": "b7892c48",
   "metadata": {},
   "source": [
    "#### mRQAE"
   ]
  },
  {
   "cell_type": "code",
   "execution_count": null,
   "id": "d637fa23",
   "metadata": {},
   "outputs": [],
   "source": [
    "%%time\n",
    "#Riemman sum negative!! \n",
    "ae_dict.update(\n",
    "    {\"encoding\" : 2,\n",
    "     \"ae_type\" : \"mRQAE\",\n",
    "     'epsilon': 0.001\n",
    "    })\n",
    "m_rqae_solution, mrqae_object = q_solve_integral(**ae_dict)\n",
    "m_rqae_rieman = m_rqae_solution*f_x_normalisation*p_x_normalisation\n",
    "print(\"mRQAE Riemann :{}. Riemann: {}\".format(m_rqae_rieman['ae'].iloc[0], riemman))\n",
    "print(\"Absolute Error: {}\".format(np.abs(m_rqae_rieman['ae'].iloc[0] - riemman)))"
   ]
  },
  {
   "cell_type": "markdown",
   "id": "17ac4064",
   "metadata": {},
   "source": [
    "#### sRQAE"
   ]
  },
  {
   "cell_type": "code",
   "execution_count": null,
   "id": "f29891da",
   "metadata": {},
   "outputs": [],
   "source": [
    "%%time\n",
    "#Riemman sum negative!! \n",
    "ae_dict.update(\n",
    "    {\"encoding\" : 2,\n",
    "     \"ae_type\" : \"sRQAE\",\n",
    "     'epsilon': 0.001,\n",
    "     'shots': 425,\n",
    "    })\n",
    "s_rqae_solution, srqae_object = q_solve_integral(**ae_dict)\n",
    "s_rqae_rieman = s_rqae_solution*f_x_normalisation*p_x_normalisation\n",
    "print(\"sRQAE Riemann :{}. Riemann: {}\".format(s_rqae_rieman['ae'].iloc[0], riemman))\n",
    "print(\"Absolute Error: {}\".format(np.abs(s_rqae_rieman['ae'].iloc[0] - riemman)))"
   ]
  },
  {
   "cell_type": "markdown",
   "id": "28118b17",
   "metadata": {},
   "source": [
    "#### eRQAE"
   ]
  },
  {
   "cell_type": "code",
   "execution_count": null,
   "id": "d13e0be6",
   "metadata": {},
   "outputs": [],
   "source": [
    "%%time\n",
    "#Riemman sum negative!! \n",
    "schedule = {\n",
    "    \"type\": \"exp_exp\",\n",
    "    \"ratio_slope_k\": 3.5,\n",
    "    \"ratio_slope_gamma\": -4\n",
    "}\n",
    "ae_dict.update(\n",
    "    {\"encoding\" : 2,\n",
    "     \"ae_type\" : \"eRQAE\",\n",
    "     'epsilon': 0.001,\n",
    "     'erqae_schedule': schedule,\n",
    "    })\n",
    "e_rqae_solution, e_rqae_object = q_solve_integral(**ae_dict)\n",
    "e_rqae_rieman = e_rqae_solution*f_x_normalisation*p_x_normalisation\n",
    "print(\"eRQAE Riemann :{}. Riemann: {}\".format(e_rqae_rieman['ae'].iloc[0], riemman))\n",
    "print(\"Absolute Error: {}\".format(np.abs(e_rqae_rieman['ae'].iloc[0] - riemman)))"
   ]
  }
 ],
 "metadata": {
  "kernelspec": {
   "display_name": "Python 3 (ipykernel)",
   "language": "python",
   "name": "python3"
  },
  "language_info": {
   "codemirror_mode": {
    "name": "ipython",
    "version": 3
   },
   "file_extension": ".py",
   "mimetype": "text/x-python",
   "name": "python",
   "nbconvert_exporter": "python",
   "pygments_lexer": "ipython3",
   "version": "3.9.9"
  }
 },
 "nbformat": 4,
 "nbformat_minor": 5
}
