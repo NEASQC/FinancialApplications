{
 "cells": [
  {
   "cell_type": "markdown",
   "id": "7a9496d2",
   "metadata": {},
   "source": [
    "# Real Quantum Amplitude Estimation (RQAE) module"
   ]
  },
  {
   "cell_type": "markdown",
   "id": "7d6cb636",
   "metadata": {},
   "source": [
    "Present notebook reviews the **Real Quantum Amplitude Estimation** (RQAE) algorithms which were implemented into the module *real_quantum_ae* within the package *AE* of library *QQuantLib* (**QQuantLib/AE/real_quantum_ae.py**)."
   ]
  },
  {
   "cell_type": "markdown",
   "id": "bcf02895",
   "metadata": {},
   "source": [
    "Present notebook and module are based on the following references:\n",
    "\n",
    "\n",
    "* *Manzano, A., Musso, D., Leitao, A., Gómez, A., Vázquez, C., Nogueiras, M. & Ordóñez, G.*. Real Quantum Amplitude Estimation. Preprint. https://arxiv.org/abs/2204.13641"
   ]
  },
  {
   "cell_type": "code",
   "execution_count": null,
   "id": "404b8ec1",
   "metadata": {},
   "outputs": [],
   "source": [
    "import sys\n",
    "sys.path.append(\"../../\")"
   ]
  },
  {
   "cell_type": "code",
   "execution_count": null,
   "id": "490d094b",
   "metadata": {},
   "outputs": [],
   "source": [
    "import numpy as np\n",
    "import pandas as pd\n",
    "import matplotlib.pyplot as plt\n",
    "import qat.lang.AQASM as qlm"
   ]
  },
  {
   "cell_type": "code",
   "execution_count": null,
   "id": "21276b3d",
   "metadata": {},
   "outputs": [],
   "source": [
    "%matplotlib inline"
   ]
  },
  {
   "cell_type": "markdown",
   "id": "29321cce",
   "metadata": {},
   "source": [
    "### BE AWARE myqlm 1.7.1 have problems with CLinalg and Controlled Abstract Gates. Please DO NOT USE CLinalg (c QPU) in this notebook."
   ]
  },
  {
   "cell_type": "code",
   "execution_count": null,
   "id": "34403ec1",
   "metadata": {
    "scrolled": true
   },
   "outputs": [],
   "source": [
    "#This cell loads the QLM solver. QPU = [qlmass, python, c]\n",
    "from QQuantLib.utils.qlm_solver import get_qpu\n",
    "QPU = [\"qlmass\", \"python\", \"c\"]\n",
    "linalg_qpu = get_qpu(QPU[1])"
   ]
  },
  {
   "cell_type": "code",
   "execution_count": null,
   "id": "3453cf5d",
   "metadata": {},
   "outputs": [],
   "source": [
    "#See 01_DataLoading_Module_Use for the use of this function\n",
    "from QQuantLib.utils.data_extracting import get_results\n",
    "from QQuantLib.utils.utils import bitfield_to_int"
   ]
  },
  {
   "cell_type": "markdown",
   "id": "55146c4c",
   "metadata": {},
   "source": [
    "## 1. Oracle generation"
   ]
  },
  {
   "cell_type": "markdown",
   "id": "71279f09",
   "metadata": {},
   "source": [
    "Before doing any amplitude estimation we want to load some data into the quantum circuit, as this step is only auxiliary to see how the algorithm works, we are just going to load a discrete probability distribution. In this case we will have a circuit with $n=3$ qubits which makes a total of $N = 2^n = 8$ states. The discrete probability distribution that we are going to load is:\n",
    "$$p_d = \\dfrac{(0,1,2,3,4,5,6,7)}{0+1+2+3+4+5+6+7+8}.$$\n"
   ]
  },
  {
   "cell_type": "code",
   "execution_count": null,
   "id": "d0b21bcf",
   "metadata": {},
   "outputs": [],
   "source": [
    "n = 3\n",
    "N = 2**n\n",
    "x = np.arange(N)\n",
    "probability = x/np.sum(x)"
   ]
  },
  {
   "cell_type": "markdown",
   "id": "716492db",
   "metadata": {},
   "source": [
    "Note that this probability distribution is properly normalised. For loading this probability into the quantum circuit we will use the function *load_probability* from **QQuantLib/DL/data_loading** module. The state that we are going to get is:\n",
    "    $$|\\Psi\\rangle = \\scriptstyle \\dfrac{1}{\\sqrt{0+1+2+3+4+5+6+7+8}}\\left[\\sqrt{0}|0\\rangle+\\sqrt{1}|1\\rangle+\\sqrt{2}|2\\rangle+\\sqrt{3}|3\\rangle+\\sqrt{4}|4\\rangle+\\sqrt{5}|5\\rangle+\\sqrt{6}|6\\rangle+\\sqrt{7}|7\\rangle\\right].$$"
   ]
  },
  {
   "cell_type": "code",
   "execution_count": null,
   "id": "b05056d1",
   "metadata": {},
   "outputs": [],
   "source": [
    "from QQuantLib.DL.data_loading import load_probability"
   ]
  },
  {
   "cell_type": "code",
   "execution_count": null,
   "id": "aab2e90d",
   "metadata": {},
   "outputs": [],
   "source": [
    "oracle = load_probability(probability)"
   ]
  },
  {
   "cell_type": "markdown",
   "id": "08b1fdf8",
   "metadata": {},
   "source": [
    "For more information about loading data into the quantum circuit see the notebook *01_DataLoading_Module_Use*."
   ]
  },
  {
   "cell_type": "markdown",
   "id": "208218b4",
   "metadata": {},
   "source": [
    "## 2. RQAE class"
   ]
  },
  {
   "cell_type": "markdown",
   "id": "e82c9c6e",
   "metadata": {},
   "source": [
    "### 2.1 The Amplitude Estimation Problem\n",
    "\n",
    "The **RQAE** algorithm solves the **amplitude estimation** problem when a little variation is added.  In this case given an oracle:\n",
    "\n",
    "$$\\mathcal{0}|0\\rangle = |\\Psi\\rangle = a|\\Psi_0\\rangle +\\sqrt{1-a^2}|\\Psi_1\\rangle, \\tag{1}$$\n",
    "\n",
    "where $|\\Psi_0\\rangle$ and $|\\Psi_1\\rangle$ are orthogonal states, *we want to estimate the real parameter $a$ (so $a$ can take values in the domain $[-1,1]$)*\n",
    "\n",
    "**BE AWARE** \n",
    "\n",
    "In Notebooks: *03_Maximum_Likelihood_Amplitude_Estimation_Class.ipynb*, *04_Classical_Phase_Estimation_Class.ipynb*, *05_Iterative_Quantum_Phase_Estimation_Class.ipynb*, *06_Iterative_Quantum_Amplitude_Estimation_class.ipynb* we want to estimate $\\sqrt{a}$ meanwhile in this new problem we want to estimate $a$\n"
   ]
  },
  {
   "cell_type": "markdown",
   "id": "6dcb170e",
   "metadata": {},
   "source": [
    "### 2.2 RQAE algorithm output\n",
    "\n",
    "Given an error $\\epsilon$ and a confident interval $\\gamma$, the **RQAE** algorithm allows to estimate the $a$, from the amplitude estimation problem presented in *Section 2.1*, satisfying:\n",
    "\n",
    "$$P\\big[a \\in [a_l, a_u]\\big] \\gt 1-\\gamma$$\n",
    "\n",
    "and\n",
    "\n",
    "$$\\frac{a_u-a_l}{2} \\leq \\epsilon$$\n"
   ]
  },
  {
   "cell_type": "markdown",
   "id": "d2da4da9",
   "metadata": {},
   "source": [
    "### 2.3 Creating object from RQAE class\n",
    "\n",
    "We have implemented and python class called **RQAE** into the **QQuantLib/AE/real_quantum_ae** module that allows us to use the **RQAE** algorithm.\n",
    "\n",
    "For creating the **RQAE** class the conventions used in **MLAE class** from **QQuantLib/AE/maximum_likelihood_ae.py** module should be followed: \n",
    "\n",
    "We have some mandatory inputs:\n",
    "\n",
    "1. Oracle: QLM AbstractGate or QRoutine with the implementation of the Oracle for creating the Grover operator.\n",
    "2. target: this is the marked state in binary representation as a python list. \n",
    "3. index: list of the qubits affected by the Grover operator. \n",
    "\n",
    "And some optional inputs, used for algorithm configuration, that can be given as a python dictionary:\n",
    "* qpu: QLM solver that will be used\n",
    "* epsilon ($\\epsilon$): the precision. Ensures that the width of the interval is (see Section 2.2), at most, $2\\epsilon$ (default: 0.01).\n",
    "* gamma ($\\gamma$): the accuracy. Ensures that the probability of $a$ not laying within the given interval (see Section 2.2) is, at most, $\\gamma$ (default: 0.05).\n",
    "* ratio: the amplification ratio (default: 2).\n",
    "* mcz_qlm: for using QLM multi-controlled Z gate (True, default) or using multiplexor implementation (False)"
   ]
  },
  {
   "cell_type": "code",
   "execution_count": null,
   "id": "c3dc1ade",
   "metadata": {},
   "outputs": [],
   "source": [
    "#import the class\n",
    "from QQuantLib.AE.real_quantum_ae import RQAE"
   ]
  },
  {
   "cell_type": "markdown",
   "id": "94fce353",
   "metadata": {},
   "source": [
    "For showing how our **RQAE** class works, we will define the following amplitude estimation problem:\n",
    "\n",
    "$$|\\Psi\\rangle = \\mathcal{A}|0\\rangle = \\dfrac{1}{\\sqrt{0+1+2+3+4+5+6+7+8}}\\left[\\sqrt{0}|0\\rangle+\\sqrt{1}|1\\rangle+\\sqrt{2}|2\\rangle+\\sqrt{3}|3\\rangle+\\sqrt{4}|4\\rangle+\\sqrt{5}|5\\rangle+\\sqrt{6}|6\\rangle+\\sqrt{7}|7\\rangle\\right] \\tag{2}$$\n",
    "\n",
    "So comparing (2) with (1):\n",
    "\n",
    "$$a|\\Psi_0\\rangle =  \\dfrac{\\sqrt{1}}{\\sqrt{0+1+2+3+4+5+6+7+8}}|1\\rangle$$\n",
    "\n",
    "and \n",
    "\n",
    "$$\\sqrt{1-a^2}|\\Psi_1\\rangle = \\dfrac{1}{\\sqrt{0+1+2+3+4+5+6+7+8}}\\left[\\sqrt{0}|0\\rangle+\\sqrt{2}|2\\rangle+\\sqrt{3}|3\\rangle+\\sqrt{4}|4\\rangle+\\sqrt{5}|5\\rangle+\\sqrt{6}|6\\rangle+\\sqrt{7}|7\\rangle\\right].$$\n",
    "\n",
    "The target state, in this case is $|1\\rangle$. It's binary representation is $001$. This has to be passed to the target variable as a list. Moreover we have to provide the list of qubits where we are acting, in this case is just $[0,1,2]$, the whole register."
   ]
  },
  {
   "cell_type": "code",
   "execution_count": null,
   "id": "62f7ee9a",
   "metadata": {},
   "outputs": [],
   "source": [
    "target = [0,0,1]\n",
    "index = [0,1,2]\n",
    "\n",
    "#We want to estimate the probability of target.\n",
    "#In the RQAE solution the $a$ is codified as an amplitude not as a probability\n",
    "a_real = np.sqrt(probability[bitfield_to_int(target)])\n",
    "\n",
    "print('We want to estimate: ', a_real)\n",
    "\n",
    "rqae_dict = {\n",
    "    'qpu': linalg_qpu,\n",
    "    'mcz_qlm': True   \n",
    "}\n",
    "\n",
    "rqae = RQAE(oracle,target = [0,0,1],index = [0,1,2], **rqae_dict)"
   ]
  },
  {
   "cell_type": "markdown",
   "id": "e5c5e726",
   "metadata": {},
   "source": [
    "### 2.4 The *rqae* method\n",
    "\n",
    "In order to execute the complete algorithm using the **RQAE** class the *rqae* method can be used. \n",
    "\n",
    " This method has the following inputs:\n",
    "* ratio: the amplification ratio\n",
    "* epsilon ($\\epsilon$): error in the estimation of $a$ (default: 0.01).\n",
    "* gamma ($\\gamma$): confidence interval for the $a$ estimation (default: 0.05).\n",
    "\n",
    "This method returns the limits for the $a$ estimation: $(a_{\\min},a_{\\max})$"
   ]
  },
  {
   "cell_type": "code",
   "execution_count": null,
   "id": "07948db6",
   "metadata": {},
   "outputs": [],
   "source": [
    "epsilon = 0.01\n",
    "gamma = 0.05\n",
    "q = 2.0\n",
    "bounds = rqae.rqae(ratio=q, epsilon=epsilon, gamma=gamma)"
   ]
  },
  {
   "cell_type": "code",
   "execution_count": null,
   "id": "df70f641",
   "metadata": {
    "scrolled": true
   },
   "outputs": [],
   "source": [
    "print('Bounds for a: [a_l, a_u] = [{}, {}]'.format(bounds[0], bounds[1]))\n",
    "a_estimated = (bounds[0]+bounds[1])/2.0\n",
    "print('a_estimated: ', a_estimated)\n",
    "print('a real: ', a_real)\n",
    "print('|a_l-a_estimated| = ', np.abs(a_estimated-a_real))\n",
    "print('Error estimation wanted: ', 0.01)"
   ]
  },
  {
   "cell_type": "code",
   "execution_count": null,
   "id": "8c3921ff",
   "metadata": {},
   "outputs": [],
   "source": [
    "if (a_real>=bounds[0])&(a_real<=bounds[1]):\n",
    "    print(\"Correct\")\n",
    "else:\n",
    "    print(\"Incorrect\")"
   ]
  },
  {
   "cell_type": "markdown",
   "id": "20021cdb",
   "metadata": {},
   "source": [
    "Additionally the **rqae** method populates the *time_pdf* property where several times for each iteration of the algorithm are stored. \n",
    "\n",
    "The **rqae_overheating** column in *time_pdf* property refers to pure **rqae** step algorithm times"
   ]
  },
  {
   "cell_type": "code",
   "execution_count": null,
   "id": "9af0fa55",
   "metadata": {},
   "outputs": [],
   "source": [
    "rqae.circuit_statistics"
   ]
  },
  {
   "cell_type": "markdown",
   "id": "d5ecd185",
   "metadata": {},
   "source": [
    "### 2.5 The *display_information* method\n",
    "\n",
    "The display method gives some information of the inner working of the **RQAE** algorithm. The inputs are the same that for the *rqae* method."
   ]
  },
  {
   "cell_type": "code",
   "execution_count": null,
   "id": "38f04c4a",
   "metadata": {},
   "outputs": [],
   "source": [
    "rqae.display_information(ratio = q,epsilon = epsilon, gamma = gamma)"
   ]
  },
  {
   "cell_type": "markdown",
   "id": "5fa049fb",
   "metadata": {},
   "source": [
    "### 2.6 The *run* method\n",
    "\n",
    "Finally a *run* method for a direct implementation of the **RQAE** algorithm was implemented. In this case the user can configure all the properties of the **RQAR** class and the *run* method will execute the method using the fixed attributes of the class. Finally the method returns the estimation of $a=\\frac{a_u+a_l}{2}$. Additionally the *run* method populates following class attributes:\n",
    "\n",
    "* *ae_l*: the lower limit for a $a_l$.\n",
    "* *ae_u*: the upper limit for a $a_u$.\n",
    "* *ae*: the amplitude estimation parameter calculated as: $a=\\frac{a_u+a_l}{2}$\n",
    "* *run_time*: elapsed time for a complete execution of the **run** method.\n"
   ]
  },
  {
   "cell_type": "code",
   "execution_count": null,
   "id": "0239ba59",
   "metadata": {},
   "outputs": [],
   "source": [
    "#First we create the class\n",
    "target = [0,0,1]\n",
    "index = [0,1,2]\n",
    "a = np.sqrt(probability[bitfield_to_int(target)])\n",
    "\n",
    "print('We want to estimate: ', a)\n",
    "\n",
    "epsilon = 0.001\n",
    "q = 2\n",
    "gamma = 0.01\n",
    "\n",
    "rqae_dict = {\n",
    "    'qpu': linalg_qpu,    \n",
    "    'epsilon': epsilon,\n",
    "    'ratio': q,\n",
    "    'gamma': gamma,\n",
    "    'mcz_qlm': False\n",
    "}\n",
    "\n",
    "rqae_ = RQAE(oracle, target = target, index = [0,1,2], **rqae_dict)"
   ]
  },
  {
   "cell_type": "code",
   "execution_count": null,
   "id": "959d0fd6",
   "metadata": {},
   "outputs": [],
   "source": [
    "a_estimated = rqae_.run()"
   ]
  },
  {
   "cell_type": "code",
   "execution_count": null,
   "id": "3ff5cd57",
   "metadata": {},
   "outputs": [],
   "source": [
    "print('a_estimated: ', a_estimated)\n",
    "print('Real Value of a: ', a_real)\n",
    "print('Bounds for a: [rqae.a_l, rqae.a_u] = [{}, {}]'.format(rqae_.ae_l, rqae_.ae_u))\n",
    "print('Estimated a: rqae.a= ', rqae_.ae)\n",
    "print('|a_l-a_estimated| = ', np.abs(a-rqae_.ae))\n",
    "print('Error estimation wanted: ', rqae_.epsilon)"
   ]
  },
  {
   "cell_type": "code",
   "execution_count": null,
   "id": "d6b0508e",
   "metadata": {},
   "outputs": [],
   "source": [
    "print(\"Elapsed time of a run method: \", rqae_.run_time)"
   ]
  },
  {
   "cell_type": "code",
   "execution_count": null,
   "id": "fefc17e0",
   "metadata": {
    "scrolled": true
   },
   "outputs": [],
   "source": [
    "grover = rqae_._grover_oracle\n",
    "\n",
    "%qatdisplay grover --depth 3 --svg"
   ]
  },
  {
   "cell_type": "code",
   "execution_count": null,
   "id": "dc9503c0",
   "metadata": {
    "scrolled": true
   },
   "outputs": [],
   "source": [
    "shift = rqae_.shifted_oracle\n",
    "%qatdisplay shift --depth 3 --svg"
   ]
  },
  {
   "cell_type": "markdown",
   "id": "1583e54c",
   "metadata": {},
   "source": [
    "When the *run* method is executed following class attributes are populated:\n",
    "\n",
    "* *circuit_statistics*: python dictionary with the statistics of each circuit used during the algorithm execution. Each key of the dictionary corresponds with a $k$ applications of the Grover-like operator used and its associated value is a python dictionary with the complete statistical information of the circuit created for each $k$ value.\n",
    "* *schedule_pdf*: pandas DataFrame withe the complete schedule used in the algorithm execution. The schedule list the number of applications Grover-like applications and the number of shots used for measurements.\n",
    "* *oracle_calls*: number of total oracle calls for a complete execution of the algorithm.\n",
    "* *max_oracle_depth*: maximum number of applications of the oracle for the complete execution of the algorithm."
   ]
  },
  {
   "cell_type": "code",
   "execution_count": null,
   "id": "453350d9",
   "metadata": {
    "scrolled": true
   },
   "outputs": [],
   "source": [
    "rqae_.circuit_statistics"
   ]
  },
  {
   "cell_type": "code",
   "execution_count": null,
   "id": "59622b23",
   "metadata": {},
   "outputs": [],
   "source": [
    "rqae_.schedule_pdf"
   ]
  },
  {
   "cell_type": "code",
   "execution_count": null,
   "id": "f74b8fed",
   "metadata": {},
   "outputs": [],
   "source": [
    "#Total number of oracle calls\n",
    "print(\"The total number of the oracle calls for the IQAE was: {}\".format(rqae_.oracle_calls))"
   ]
  },
  {
   "cell_type": "code",
   "execution_count": null,
   "id": "002b528b",
   "metadata": {},
   "outputs": [],
   "source": [
    "#Number of maximum oracle applications\n",
    "rqae_.max_oracle_depth"
   ]
  },
  {
   "cell_type": "code",
   "execution_count": null,
   "id": "4fe8183f",
   "metadata": {},
   "outputs": [],
   "source": [
    "rqae_.quantum_time"
   ]
  },
  {
   "cell_type": "code",
   "execution_count": null,
   "id": "a70130db",
   "metadata": {},
   "outputs": [],
   "source": [
    "rqae_.run_time"
   ]
  },
  {
   "cell_type": "code",
   "execution_count": null,
   "id": "1bff7200",
   "metadata": {},
   "outputs": [],
   "source": []
  }
 ],
 "metadata": {
  "kernelspec": {
   "display_name": "Python 3 (ipykernel)",
   "language": "python",
   "name": "python3"
  },
  "language_info": {
   "codemirror_mode": {
    "name": "ipython",
    "version": 3
   },
   "file_extension": ".py",
   "mimetype": "text/x-python",
   "name": "python",
   "nbconvert_exporter": "python",
   "pygments_lexer": "ipython3",
   "version": "3.9.9"
  }
 },
 "nbformat": 4,
 "nbformat_minor": 5
}
