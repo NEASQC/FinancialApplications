{
 "cells": [
  {
   "cell_type": "markdown",
   "id": "56efdb71",
   "metadata": {},
   "source": [
    "# Real Quantum Amplitude Estimation (RQAE) Module\n",
    "\n",
    "$$\\newcommand{\\braket}[2]{\\left\\langle{#1}\\middle|{#2}\\right\\rangle}$$\n",
    "$$\\newcommand{\\ket}[1]{\\left|{#1}\\right\\rangle}$$\n",
    "$$\\newcommand{\\bra}[1]{\\left\\langle{#1}\\right|}$$\n",
    "\n",
    "The present notebook reviews the **Real Quantum Amplitude Estimation (RQAE)** algorithms, which have been implemented in the *module real_quantum_ae* within the package **AE** of the library `QQuantLib` (**QQuantLib/AE/real_quantum_ae**).\n",
    "\n",
    "The present notebook and module are based on the following reference:\n",
    "* **Manzano, A., Musso, D., & Leitao, Á.** Real quantum amplitude estimation. *EPJ Quantum Technol.*, 10, 2 (2023). [https://epjquantumtechnology.springeropen.com/articles/10.1140/epjqt/s40507-023-00159-0#citeas](https://epjquantumtechnology.springeropen.com/articles/10.1140/epjqt/s40507-023-00159-0#citeas)"
   ]
  },
  {
   "cell_type": "code",
   "execution_count": null,
   "id": "404b8ec1",
   "metadata": {},
   "outputs": [],
   "source": [
    "import sys\n",
    "sys.path.append(\"../../\")"
   ]
  },
  {
   "cell_type": "code",
   "execution_count": null,
   "id": "490d094b",
   "metadata": {},
   "outputs": [],
   "source": [
    "import numpy as np\n",
    "import pandas as pd\n",
    "import matplotlib.pyplot as plt\n",
    "import qat.lang.AQASM as qlm"
   ]
  },
  {
   "cell_type": "code",
   "execution_count": null,
   "id": "21276b3d",
   "metadata": {},
   "outputs": [],
   "source": [
    "%matplotlib inline"
   ]
  },
  {
   "cell_type": "code",
   "execution_count": null,
   "id": "34403ec1",
   "metadata": {
    "scrolled": true
   },
   "outputs": [],
   "source": [
    "#This cell loads the QLM solver. See notebook: 00_AboutTheNotebooksAndQPUs.ipynb\n",
    "from QQuantLib.qpu.get_qpu import get_qpu\n",
    "# myqlm qpus: python, c\n",
    "# QLM qpus accessed using Qaptiva Access library: qlmass_linalg, qlmass_mps\n",
    "# QLM qpus: Only in local Quantum Learning Machine: linalg, mps\n",
    "my_qpus = [\"python\", \"c\", \"qlmass_linalg\", \"qlmass_mps\", \"linalg\", \"mps\"]\n",
    "\n",
    "linalg_qpu = get_qpu(my_qpus[1])"
   ]
  },
  {
   "cell_type": "code",
   "execution_count": null,
   "id": "3453cf5d",
   "metadata": {},
   "outputs": [],
   "source": [
    "#See 01_DataLoading_Module_Use for the use of this function\n",
    "from QQuantLib.utils.data_extracting import get_results\n",
    "from QQuantLib.utils.utils import bitfield_to_int"
   ]
  },
  {
   "cell_type": "markdown",
   "id": "55146c4c",
   "metadata": {},
   "source": [
    "## 1. Oracle generation"
   ]
  },
  {
   "cell_type": "markdown",
   "id": "71279f09",
   "metadata": {},
   "source": [
    "Before performing any amplitude estimation, we first need to load data into the quantum circuit. As this step is auxiliary and intended to demonstrate how the algorithm works, we will simply load a discrete probability distribution. \n",
    "\n",
    "In this example, we will use a quantum circuit with $ n = 3 $ qubits, which corresponds to a total of $ N = 2^n = 8 $ computational basis states. The discrete probability distribution we aim to load is defined as:\n",
    "\n",
    "$$\n",
    "p_d = \\frac{(0, 1, 2, 3, 4, 5, 6, 7)}{0 + 1 + 2 + 3 + 4 + 5 + 6 + 7}.\n",
    "$$\n",
    "\n",
    "This distribution assigns probabilities proportional to the integers $ 0 $ through $ 7 $, normalized by their sum to ensure that the total probability equals 1."
   ]
  },
  {
   "cell_type": "code",
   "execution_count": null,
   "id": "d0b21bcf",
   "metadata": {},
   "outputs": [],
   "source": [
    "n = 3\n",
    "N = 2**n\n",
    "x = np.arange(N)\n",
    "probability = x/np.sum(x)"
   ]
  },
  {
   "cell_type": "markdown",
   "id": "0601fe8a",
   "metadata": {},
   "source": [
    "Note that this probability distribution is properly normalised. For loading this probability into the quantum circuit we will use the function `load_probability` from **QQuantLib/DL/data_loading** module. The state that we are going to get is:\n",
    "    $$|\\Psi\\rangle = \\scriptstyle \\dfrac{1}{\\sqrt{0+1+2+3+4+5+6+7+8}}\\left[\\sqrt{0}|0\\rangle+\\sqrt{1}|1\\rangle+\\sqrt{2}|2\\rangle+\\sqrt{3}|3\\rangle+\\sqrt{4}|4\\rangle+\\sqrt{5}|5\\rangle+\\sqrt{6}|6\\rangle+\\sqrt{7}|7\\rangle\\right].$$"
   ]
  },
  {
   "cell_type": "code",
   "execution_count": null,
   "id": "b05056d1",
   "metadata": {},
   "outputs": [],
   "source": [
    "from QQuantLib.DL.data_loading import load_probability"
   ]
  },
  {
   "cell_type": "code",
   "execution_count": null,
   "id": "aab2e90d",
   "metadata": {},
   "outputs": [],
   "source": [
    "oracle = load_probability(probability)"
   ]
  },
  {
   "cell_type": "markdown",
   "id": "08b1fdf8",
   "metadata": {},
   "source": [
    "For more information about loading data into the quantum circuit see the notebook *01_DataLoading_Module_Use*."
   ]
  },
  {
   "cell_type": "markdown",
   "id": "fefc93cd",
   "metadata": {},
   "source": [
    "## 2. RQAE algorithm\n",
    "\n",
    "The **RQAE** algorithm solves the **amplitude estimation** problem when a little variation is added.  In this case, given an oracle, $\\mathcal{0}$:\n",
    "\n",
    "$$\\mathcal{0}|0\\rangle = |\\Psi\\rangle = a|\\Psi_0\\rangle +\\sqrt{1-a^2}|\\Psi_1\\rangle, \\tag{1}$$\n",
    "\n",
    "where $|\\Psi_0\\rangle$ and $|\\Psi_1\\rangle$ are orthogonal states, *we want to estimate the real parameter $a$ (so $a$ can take values in the domain $[-1,1]$)*\n",
    "\n",
    "### BE AWARE\n",
    "-----------------\n",
    "\n",
    "In Notebooks: \n",
    "- *03_Maximum_Likelihood_Amplitude_Estimation_Class.ipynb*,\n",
    "- *04_Classical_Phase_Estimation_Class.ipynb*\n",
    "- *05_Iterative_Quantum_Phase_Estimation_Class.ipynb*\n",
    "- *06_Iterative_Quantum_Amplitude_Estimation_class.ipynb* \n",
    "\n",
    "we want to estimate $\\sqrt{a}$ meanwhile in this new problem we want to estimate $a$\n",
    "\n",
    "---\n",
    "\n",
    "Given an error $\\epsilon$ and a confident interval $\\gamma$, the **RQAE** algorithm allows to estimate the $a$, from the amplitude estimation problem presented in *Section 2.1*, satisfying:\n",
    "\n",
    "$$P\\big[a \\in [a_l, a_u]\\big] \\gt 1-\\gamma$$\n",
    "\n",
    "and\n",
    "\n",
    "$$\\frac{a_u-a_l}{2} \\leq \\epsilon$$"
   ]
  },
  {
   "cell_type": "markdown",
   "id": "6ab189a2",
   "metadata": {},
   "source": [
    "### 2.1 The `RQAE` Class\n",
    "\n",
    "We have implemented a Python class called `RQAE` in the **QQuantLib/AE/real_quantum_ae** module, which allows us to use the **RQAE** algorithm. \n",
    "\n",
    "When creating the `RQAE` class, the conventions used in the **MLAE** class from the **QQuantLib/AE/maximum_likelihood_ae** module should be followed. The class has the following mandatory inputs:\n",
    "\n",
    "1. `oracle`: A QLM `AbstractGate` or `QRoutine` that implements the Oracle for constructing the Grover operator.\n",
    "2. `target`: The marked state in binary representation, provided as a Python list.\n",
    "3. `index`: A list of qubits affected by the Grover operator.\n",
    "\n",
    "Additionally, there are optional inputs for configuring the algorithm, which can be provided as a Python dictionary:\n",
    "- `qpu`: The QPU solver to be used.\n",
    "- `epsilon` ($\\epsilon$): The precision. Ensures that the width of the interval is at most $2\\epsilon$ (default: 0.01).\n",
    "- `gamma` ($\\gamma$): The confidence level. Ensures that the probability of $a$ not lying within the given interval is at most $\\gamma$ (default: 0.05).\n",
    "- `ratio`: The amplification ratio (default: 2).\n",
    "- `mcz_qlm`: A flag to use the QLM multi-controlled Z gate (`True`, default) or a multiplexor implementation (`False`).\n",
    "\n",
    "\n",
    "\n",
    "#### Example\n",
    "\n",
    "To demonstrate how the `RQAE` class and the algorithm work, consider the following amplitude estimation problem:\n",
    "\n",
    "$$\n",
    "|\\Psi\\rangle = \\mathcal{A}|0\\rangle = \\dfrac{1}{\\sqrt{0+1+2+3+4+5+6+7+8}} \\left[\\sqrt{0}|0\\rangle + \\sqrt{1}|1\\rangle + \\sqrt{2}|2\\rangle + \\sqrt{3}|3\\rangle + \\sqrt{4}|4\\rangle + \\sqrt{5}|5\\rangle + \\sqrt{6}|6\\rangle + \\sqrt{7}|7\\rangle \\right]. \\tag{2}\n",
    "$$\n",
    "\n",
    "By comparing Equation (2) with Equation (1):\n",
    "\n",
    "$$\n",
    "\\sqrt{a}|\\Psi_0\\rangle = \\sin(\\theta)|\\Psi_0\\rangle = \\dfrac{\\sqrt{1}}{\\sqrt{0+1+2+3+4+5+6+7+8}}|1\\rangle,\n",
    "$$\n",
    "\n",
    "and\n",
    "\n",
    "$$\n",
    "\\sqrt{1-a}|\\Psi_1\\rangle = \\cos(\\theta)|\\Psi_1\\rangle = \\dfrac{1}{\\sqrt{0+1+2+3+4+5+6+7+8}} \\left[\\sqrt{0}|0\\rangle + \\sqrt{2}|2\\rangle + \\sqrt{3}|3\\rangle + \\sqrt{4}|4\\rangle + \\sqrt{5}|5\\rangle + \\sqrt{6}|6\\rangle + \\sqrt{7}|7\\rangle \\right].\n",
    "$$\n",
    "\n",
    "In this case, the target state is $|1\\rangle$, whose binary representation is $001$. This must be passed to the `target` variable as a list (`[0, 0, 1]`). Additionally, we need to provide the list of qubits (`index`) where the operation is being performed. In this example, it is `[0, 1, 2]`, corresponding to the entire register."
   ]
  },
  {
   "cell_type": "code",
   "execution_count": null,
   "id": "58b34bb8",
   "metadata": {},
   "outputs": [],
   "source": [
    "#import the class\n",
    "from QQuantLib.AE.real_quantum_ae import RQAE"
   ]
  },
  {
   "cell_type": "code",
   "execution_count": null,
   "id": "62f7ee9a",
   "metadata": {},
   "outputs": [],
   "source": [
    "target = [0,0,1]\n",
    "index = [0,1,2]\n",
    "\n",
    "#We want to estimate the probability of target.\n",
    "#In the RQAE solution the $a$ is codified as an amplitude not as a probability\n",
    "a_real = np.sqrt(probability[bitfield_to_int(target)])\n",
    "\n",
    "print('We want to estimate: ', a_real)\n",
    "\n",
    "rqae_dict = {\n",
    "    'qpu': linalg_qpu,\n",
    "    'mcz_qlm': True   \n",
    "}\n",
    "\n",
    "rqae = RQAE(oracle,target = [0,0,1],index = [0,1,2], **rqae_dict)"
   ]
  },
  {
   "cell_type": "markdown",
   "id": "0e0f64d9",
   "metadata": {},
   "source": [
    "### 2.2 The `rqae` Method\n",
    "\n",
    "To execute the complete algorithm using the `RQAE` class, the `rqae` method can be used. This method accepts the following inputs:\n",
    "\n",
    "- `ratio`: The amplification ratio.\n",
    "- `epsilon` ($\\epsilon$): Error in the estimation of $a$ (default: 0.01).\n",
    "- `gamma` ($\\gamma$): Confidence interval (failure probability) for the $a$ estimation (default: 0.05).\n",
    "\n",
    "This method returns the limits for the $a$ estimation: $(a_{\\min}, a_{\\max})$."
   ]
  },
  {
   "cell_type": "code",
   "execution_count": null,
   "id": "07948db6",
   "metadata": {},
   "outputs": [],
   "source": [
    "epsilon = 0.01\n",
    "gamma = 0.05\n",
    "q = 2.0\n",
    "bounds = rqae.rqae(ratio=q, epsilon=epsilon, gamma=gamma)"
   ]
  },
  {
   "cell_type": "code",
   "execution_count": null,
   "id": "df70f641",
   "metadata": {
    "scrolled": true
   },
   "outputs": [],
   "source": [
    "print('Bounds for a: [a_l, a_u] = [{}, {}]'.format(bounds[0], bounds[1]))\n",
    "a_estimated = (bounds[0]+bounds[1])/2.0\n",
    "print('a_estimated: ', a_estimated)\n",
    "print('a real: ', a_real)\n",
    "print('|a_l-a_estimated| = ', np.abs(a_estimated-a_real))\n",
    "print('Error estimation wanted: ', 0.01)"
   ]
  },
  {
   "cell_type": "code",
   "execution_count": null,
   "id": "8c3921ff",
   "metadata": {},
   "outputs": [],
   "source": [
    "if (a_real>=bounds[0])&(a_real<=bounds[1]):\n",
    "    print(\"Correct\")\n",
    "else:\n",
    "    print(\"Incorrect\")"
   ]
  },
  {
   "cell_type": "markdown",
   "id": "d5ecd185",
   "metadata": {},
   "source": [
    "### 2.3 The *display_information* method\n",
    "\n",
    "This method provides technical information  about the **RQAE** algorithm for a fixed configuration of:\n",
    "- `ratio` ($q$ in the **RQAE** paper): amplification between steps\n",
    "- `epsilon` ($\\epsilon$): desired error in the estimation of $a$\n",
    "- `gamma` ($\\gamma$): confidence level (failure probability)"
   ]
  },
  {
   "cell_type": "code",
   "execution_count": null,
   "id": "38f04c4a",
   "metadata": {},
   "outputs": [],
   "source": [
    "rqae.display_information(ratio = q,epsilon = epsilon, gamma = gamma)"
   ]
  },
  {
   "cell_type": "markdown",
   "id": "293cbf33",
   "metadata": {},
   "source": [
    "### 2.4 The `run` Method\n",
    "\n",
    "A `run` method has been implemented for the direct execution of the **RQAE** algorithm. In this case, the user can configure all the properties of the `RQAE` class, and the `run` method will execute the algorithm using the predefined attributes of the class. \n",
    "\n",
    "The method returns the estimation of $ a = \\frac{a_u + a_l}{2} $. Additionally, the `run` method populates the following class attributes:\n",
    "\n",
    "- `ae_l`: The lower limit for $ a_l $.\n",
    "- `ae_u`: The upper limit for $ a_u $.\n",
    "- `ae`: The amplitude estimation parameter, calculated as $ a = \\frac{a_u + a_l}{2} $.\n",
    "- `run_time`: The elapsed time for the complete execution of the `run` method."
   ]
  },
  {
   "cell_type": "code",
   "execution_count": null,
   "id": "0239ba59",
   "metadata": {},
   "outputs": [],
   "source": [
    "#First we create the class\n",
    "target = [0,0,1]\n",
    "index = [0,1,2]\n",
    "a = np.sqrt(probability[bitfield_to_int(target)])\n",
    "\n",
    "print('We want to estimate: ', a)\n",
    "\n",
    "epsilon = 0.001\n",
    "q = 2\n",
    "gamma = 0.01\n",
    "\n",
    "rqae_dict = {\n",
    "    'qpu': linalg_qpu,    \n",
    "    'epsilon': epsilon,\n",
    "    'ratio': q,\n",
    "    'gamma': gamma,\n",
    "    'mcz_qlm': False\n",
    "}\n",
    "\n",
    "rqae_ = RQAE(oracle, target = target, index = [0,1,2], **rqae_dict)"
   ]
  },
  {
   "cell_type": "code",
   "execution_count": null,
   "id": "959d0fd6",
   "metadata": {},
   "outputs": [],
   "source": [
    "a_estimated = rqae_.run()"
   ]
  },
  {
   "cell_type": "code",
   "execution_count": null,
   "id": "3ff5cd57",
   "metadata": {},
   "outputs": [],
   "source": [
    "print('a_estimated: ', a_estimated)\n",
    "print('Real Value of a: ', a_real)\n",
    "print('Bounds for a: [rqae.a_l, rqae.a_u] = [{}, {}]'.format(rqae_.ae_l, rqae_.ae_u))\n",
    "print('Estimated a: rqae.a= ', rqae_.ae)\n",
    "print('|a_l-a_estimated| = ', np.abs(a-rqae_.ae))\n",
    "print('Error estimation wanted: ', rqae_.epsilon)"
   ]
  },
  {
   "cell_type": "code",
   "execution_count": null,
   "id": "d6b0508e",
   "metadata": {},
   "outputs": [],
   "source": [
    "print(\"Elapsed time of a run method: \", rqae_.run_time)"
   ]
  },
  {
   "cell_type": "code",
   "execution_count": null,
   "id": "fefc17e0",
   "metadata": {
    "scrolled": true
   },
   "outputs": [],
   "source": [
    "grover = rqae_._grover_oracle\n",
    "\n",
    "%qatdisplay grover --depth 3 --svg"
   ]
  },
  {
   "cell_type": "markdown",
   "id": "1583e54c",
   "metadata": {},
   "source": [
    "When the `run` method is executed, the following class attributes are populated:\n",
    "\n",
    "- `schedule_pdf`: A pandas DataFrame containing the complete schedule used during the algorithm's execution. The schedule lists the number of Grover-like operator applications and the number of shots used for measurements.\n",
    "- `oracle_calls`: The total number of oracle calls required for the complete execution of the algorithm.\n",
    "- `max_oracle_depth`: The maximum number of oracle applications performed during the complete execution of the algorithm.\n",
    "- `quantum_time`: The time taken to execute all the quantum routines demanded by the algorithm.\n",
    "- `run_time`: The total time taken to execute the entire **RQAE** algorithm."
   ]
  },
  {
   "cell_type": "code",
   "execution_count": null,
   "id": "59622b23",
   "metadata": {},
   "outputs": [],
   "source": [
    "rqae_.schedule_pdf"
   ]
  },
  {
   "cell_type": "code",
   "execution_count": null,
   "id": "f74b8fed",
   "metadata": {},
   "outputs": [],
   "source": [
    "#Total number of oracle calls\n",
    "print(\"The total number of the oracle calls for the IQAE was: {}\".format(rqae_.oracle_calls))"
   ]
  },
  {
   "cell_type": "code",
   "execution_count": null,
   "id": "002b528b",
   "metadata": {},
   "outputs": [],
   "source": [
    "#Number of maximum oracle applications\n",
    "rqae_.max_oracle_depth"
   ]
  },
  {
   "cell_type": "code",
   "execution_count": null,
   "id": "4fe8183f",
   "metadata": {},
   "outputs": [],
   "source": [
    "rqae_.quantum_time"
   ]
  },
  {
   "cell_type": "code",
   "execution_count": null,
   "id": "a70130db",
   "metadata": {},
   "outputs": [],
   "source": [
    "rqae_.run_time"
   ]
  },
  {
   "cell_type": "markdown",
   "id": "b58676c1",
   "metadata": {},
   "source": [
    "## 3. The RQAE Algorithm\n",
    "\n",
    "In this section, we provide insight into how the **RQAE** algorithm works. We will use the `oracle`, `target`, and `index` defined in Section 1.\n",
    "\n",
    "The **RQAE** algorithm consists of two distinct parts:\n",
    "- **First Step**: Estimation of the sign of the amplitude $ a $.\n",
    "- **Subsequent Iterations**: Use of Grover operators to refine and boost the estimation.\n",
    "\n",
    "Recall that we have an operator $\\mathcal{O}$ such that:\n",
    "$$\n",
    "\\mathcal{O}|0\\rangle = |\\Psi\\rangle = a|\\Psi_0\\rangle + \\sqrt{1-a^2}|\\Psi_1\\rangle, \\tag{1}\n",
    "$$\n",
    "where $ a \\in [-1, 1] $, and our goal is to estimate $ a $, denoted as $\\hat{a}$.\n",
    "\n",
    "To explain the algorithm, we will use the following distribution:"
   ]
  },
  {
   "cell_type": "code",
   "execution_count": null,
   "id": "ab7744eb",
   "metadata": {},
   "outputs": [],
   "source": [
    "from QQuantLib.utils.utils import bitfield"
   ]
  },
  {
   "cell_type": "code",
   "execution_count": null,
   "id": "c8855a90",
   "metadata": {
    "scrolled": true
   },
   "outputs": [],
   "source": [
    "n = 4\n",
    "N = 2**n\n",
    "x = np.arange(N)\n",
    "probability = x/np.sum(x)\n",
    "# This will be the amplitude that we want to estimate\n",
    "value = np.max(probability)\n",
    "target_id = np.argmax(probability)\n",
    "target = bitfield(target_id, n)\n",
    "index = list(range(n))\n",
    "print(\"Amplitude to estimate: \", str(value))\n",
    "print(\"Integer for the Amplitude to estimate: \", str(target_id))\n",
    "print(\"State with the desired Amplitude: \", str(target))"
   ]
  },
  {
   "cell_type": "code",
   "execution_count": null,
   "id": "0d00f77f",
   "metadata": {},
   "outputs": [],
   "source": [
    "# This is the A operator\n",
    "oracle = load_probability(probability)"
   ]
  },
  {
   "cell_type": "code",
   "execution_count": null,
   "id": "20a56bc0",
   "metadata": {
    "scrolled": true
   },
   "outputs": [],
   "source": [
    "%qatdisplay oracle --svg"
   ]
  },
  {
   "cell_type": "code",
   "execution_count": null,
   "id": "883d24c9",
   "metadata": {},
   "outputs": [],
   "source": [
    "results,_,_,_ = get_results(oracle, linalg_qpu, shots=0)"
   ]
  },
  {
   "cell_type": "code",
   "execution_count": null,
   "id": "cf0774c0",
   "metadata": {},
   "outputs": [],
   "source": [
    "#Codified value in target_id vs value to estiamte\n",
    "print(list(results[results[\"Int_lsb\"] == target_id][\"Probability\"])[0], value)"
   ]
  },
  {
   "cell_type": "markdown",
   "id": "226c97b5",
   "metadata": {},
   "source": [
    "Now we create the **RQAE** object"
   ]
  },
  {
   "cell_type": "code",
   "execution_count": null,
   "id": "d2226138",
   "metadata": {},
   "outputs": [],
   "source": [
    "epsilon = 0.001\n",
    "q = 2\n",
    "gamma = 0.01\n",
    "\n",
    "rqae_dict = {\n",
    "    'qpu': linalg_qpu,    \n",
    "    'epsilon': epsilon,\n",
    "    'ratio': q,\n",
    "    'gamma': gamma,\n",
    "    'mcz_qlm': False\n",
    "}\n",
    "rqae_obj = RQAE(oracle=oracle, target=target, index=index, **rqae_dict)"
   ]
  },
  {
   "cell_type": "markdown",
   "id": "f0f6d3dd",
   "metadata": {},
   "source": [
    "### 3.1 First Step\n",
    "\n",
    "The first iteration of the **RQAE** algorithm aims to obtain an initial estimation of the amplitude and its corresponding sign.\n",
    "\n",
    "To achieve this, instead of using the $\\mathcal{O}$ operator (the `oracle` object in the code), the **RQAE** algorithm uses a modified version of the operator, denoted as $\\mathcal{O}_b$, which depends on $\\mathcal{O}$. The parameter $b$ in $\\mathcal{O}_b$ is a number within the range $[-0.5, 0.5]$, referred to as the `shift`. While $\\mathcal{O}$ acts on $n$ qubits, $\\mathcal{O}_b$ acts on $n+1$ qubits. The circuit implementation is illustrated in the following figure:\n",
    "\n",
    "![Circuit Diagram](images/rqae.svg)\n",
    "\n",
    "This $\\mathcal{O}_b$ operator is composed of three distinct components (represented by the three boxes in the diagram):\n",
    "\n",
    "1. **$R_y(2\\theta_b)$**: A rotation around the Y-axis by an angle of $2\\theta_b$, where $\\theta_b = \\arccos(b)$. Its primary behavior is:\n",
    "   $$\n",
    "   R_y(2\\theta_b) \\ket{0} = \\cos(\\theta_b) \\ket{0} + \\sin(\\theta_b) \\ket{1}.\n",
    "   $$\n",
    "\n",
    "2. **The Mask Operator**: This operator has the following main behavior:\n",
    "   $$\n",
    "   \\text{Mask} \\; \\ket{0} \\otimes \\ket{0}^n \\rightarrow \\ket{0} \\otimes \\ket{\\Psi_0},\n",
    "   $$\n",
    "   $$\n",
    "   \\text{Mask} \\; \\ket{0} \\otimes \\ket{i \\neq 0}^n \\rightarrow \\text{any state that cannot be } \\ket{0} \\otimes \\ket{\\Psi_0}.\n",
    "   $$\n",
    "\n",
    "3. **The Oracle Operator ($\\mathcal{O}$)**: This operator is defined as:\n",
    "   $$\n",
    "   \\mathcal{O}|0\\rangle = |\\Psi\\rangle = a|\\Psi_0\\rangle + \\sqrt{1-a^2}|\\Psi_1\\rangle.\n",
    "   $$\n",
    "\n",
    "By combining these components, the $\\mathcal{O}_b$ operator enables the estimation of both the magnitude and the sign of the amplitude $a$ during the first step of the algorithm."
   ]
  },
  {
   "cell_type": "markdown",
   "id": "c7c64f04",
   "metadata": {},
   "source": [
    "\n",
    "Now we are going to analyze the complete action of the $\\mathcal{0}_b$ circuit:\n",
    "\n",
    "\n",
    "1. $\\ket{0}\\otimes \\ket{0}^n$\n",
    "2. $(H \\otimes I^n) \\ket{0}\\otimes \\ket{0}^n = \\frac{1}{\\sqrt{2}} ( \\ket{0}\\otimes \\ket{0}^n + \\ket{1}\\otimes \\ket{0}^n)$\n",
    "3. The first qubit controls a y-rotation gate over the last qubit of $\\theta_b$:\n",
    "$$\\biggl(\\ket{0}\\bra{0} \\otimes I ^{n-1} \\otimes I  + \\ket{1}\\bra{1} \\otimes I ^{n-1} \\otimes R_y(2\\theta_b) \\biggl) \\frac{1}{\\sqrt{2}} \\big( \\ket{0} +\\ket{1} \\big) \\otimes \\ket{0}^{n-1} \\otimes \\ket{0}=$$\n",
    "$$=\\frac{1}{\\sqrt{2}} \\biggl(\\ket{0} \\otimes \\ket{0}^{n} +\\cos(\\theta_b) \\ket{1} \\otimes \\ket{0}^{n} + \\sin(\\theta_b) \\ket{1} \\otimes \\ket{0}^{n-1} \\otimes \\ket{1} \\biggl)=$$\n",
    "$$=\\frac{1}{\\sqrt{2}} \\biggl(\\ket{0} \\otimes \\ket{0}^{n} +\\cos(\\theta_b) \\ket{1} \\otimes \\ket{0}^{n} + \\cdots \\biggl)$$    \n",
    "4. The first qubit controls the mask operator over the other $n$ qubits. Using the behaviour of the Mask operator we arrive to:\n",
    "\n",
    "$$ \\biggl(\\ket{0}\\bra{0} \\otimes I ^{n} + \\ket{1}\\bra{1} Mask \\biggl) \\frac{1}{\\sqrt{2}} \\biggl(\\ket{0} \\otimes \\ket{0}^{n} +\\cos(\\theta_b) \\ket{1} \\otimes \\ket{0}^{n} + \\cdots \\biggl)=$$ \n",
    "$$ = \\frac{1}{\\sqrt{2}} \\biggl(\\ket{0} \\otimes \\ket{0}^{n} + \\cos(\\theta_b) \\ket{1} \\otimes \\ket{\\Psi_0} + \\cdots \\biggl)$$\n",
    "5. The first qubit anti-control the oracle operator $\\mathcal{0}$ over the last $n$ qbits:\n",
    "\n",
    "$$\\biggl(\\ket{0}\\bra{0} \\otimes \\mathcal{0}  + \\ket{1}\\bra{1} \\otimes  I ^{n}  \\biggl) \\frac{1}{\\sqrt{2}} \\biggl(\\ket{0} \\otimes \\ket{0}^{n} + \\cos(\\theta_b) \\ket{1} \\otimes \\ket{\\Psi_0} + \\cdots \\biggl)=$$\n",
    "\n",
    "$$ = \\frac{1}{\\sqrt{2}} \\biggl( a \\ket{0} \\otimes \\ket{\\Psi_0} + \\cos(\\theta_b) \\ket{1} \\otimes \\ket{\\Psi_0} + \\cdots \\biggl)$$\n",
    "6. Now a Haddamard gate is applied over the first qubit:\n",
    "\n",
    "$$ (H \\otimes I^n) \\frac{1}{\\sqrt{2}} \\biggl( a \\ket{0} \\otimes \\ket{\\Psi_0} + \\cos(\\theta_b) \\ket{1} \\otimes \\ket{\\Psi_0} + \\cdots \\biggl) = $$\n",
    "\n",
    "$$=\\frac{1}{2} \\biggl( \\big(a + \\cos(\\theta_b)\\big) \\ket{0} \\otimes \\ket{\\Psi_0} +  \\big(a - \\cos(\\theta_b)\\big) \\ket{1} \\otimes \\ket{\\Psi_0} + \\cdots \\biggl) $$\n",
    "\n",
    "\n",
    "So the main action of the $\\mathcal{0}_b$ operator is:\n",
    "\n",
    "$$\\mathcal{0}_b \\ket{0} \\otimes \\ket{0}^n = \\left(\\frac{\\cos \\theta_b + a}{2} \\right)  \\ket{0} \\otimes \\ket{\\Psi_0} + \\left(\\frac{\\cos \\theta_b - a}{2} \\right)  \\ket{1} \\otimes \\ket{\\Psi_0} + \\cdots$$\n",
    "\n",
    "\n",
    "So the probability of getting the $\\ket{0} \\otimes \\ket{\\Psi_0}$ state is given by:\n",
    "\n",
    "$$P_{\\ket{0} \\otimes \\ket{\\Psi_0}} = \\left(\\frac{\\cos \\theta_b + a}{2} \\right) ^2$$\n",
    "\n",
    "and the probability of getting the $\\ket{1} \\otimes \\ket{\\Psi_0}$ state is given by:\n",
    "\n",
    "$$P_{\\ket{1} \\otimes \\ket{\\Psi_0}} = \\left(\\frac{\\cos \\theta_b - a}{2} \\right) ^2$$\n",
    "\n",
    "So in the first step the algorithms creates the $\\mathcal{0}_b$ and measures the states $\\ket{0} \\otimes \\ket{\\Psi_0}$ and  $\\ket{1} \\otimes \\ket{\\Psi_0}$  and a first estimation of $a$, $\\hat{a}^{1st}$ is obtained by: \n",
    "\n",
    "$$\\hat{a}^{1st} = \\frac{P_{\\ket{0} \\otimes \\ket{\\Psi_0}} - P_{\\ket{1} \\otimes \\ket{\\Psi_0}}}{\\cos \\theta_b}$$\n",
    "\n",
    "In this iteration the sign of $a$ can be recovered (if $P_{\\ket{1} \\otimes \\ket{\\Psi_0}} > P_{\\ket{0} \\otimes \\ket{\\Psi_0}}$ then $\\hat{a}^{1st} < 0$).\n",
    "\n",
    "Once the $\\hat{a}^{1st}$ is estimated the corresponding bounds, $[\\hat{a}^{1st}_L, \\hat{a}^{1st}_U]$  can be obtained by using the *Chebyshev* inequality. For this computation the desired failure probability, $\\gamma_i$ and the number of shots used for obtaining the $\\hat{a}^{1st}$ must be provided.\n",
    "\n",
    "The $\\mathcal{0}_b$, also called the *shifted oracle*, can be constructed by assigning to the `shifted_oracle` attribute a desired `shift` ($b$). For obtaining the corresponding $\\mathcal{0}_b$ we can use the attribute *_shifted_oracle*"
   ]
  },
  {
   "cell_type": "code",
   "execution_count": null,
   "id": "117a447b",
   "metadata": {
    "scrolled": true
   },
   "outputs": [],
   "source": [
    "# this is the input oracle\n",
    "c = rqae_obj.oracle\n",
    "%qatdisplay c --svg\n",
    "# Now we create the shifted oracle:\n",
    "shift = 0.5 \n",
    "rqae_obj.shifted_oracle = shift"
   ]
  },
  {
   "cell_type": "code",
   "execution_count": null,
   "id": "97194e91",
   "metadata": {},
   "outputs": [],
   "source": [
    "# The corresponding shifted oracle circuit\n",
    "c = rqae_obj._shifted_oracle\n",
    "%qatdisplay c --svg"
   ]
  },
  {
   "cell_type": "markdown",
   "id": "2c0af6f3",
   "metadata": {},
   "source": [
    "The method `first_step` allows the user to execute the first step of the algorithm by providing:\n",
    "* `shift`: the $b$ for creating the *shifted oracle*\n",
    "* `shots`: number of shots for doing the measures\n",
    "* `gamma`: desired failure probability for computing the bounds $[\\hat{a}^{1st}_L, \\hat{a}^{1st}_U]$\n",
    "\n",
    "This method returns directly the bounds:  $[\\hat{a}^{1st}_L, \\hat{a}^{1st}_U]$ and the circuit used."
   ]
  },
  {
   "cell_type": "code",
   "execution_count": null,
   "id": "7a3523e0",
   "metadata": {},
   "outputs": [],
   "source": [
    "shift = 0.2\n",
    "shots = 100\n",
    "gamma = 0.01\n",
    "[a_first_low, a_first_upper], circuit = rqae_obj.first_step(shift=shift, shots=shots, gamma=gamma)"
   ]
  },
  {
   "cell_type": "code",
   "execution_count": null,
   "id": "bb065815",
   "metadata": {},
   "outputs": [],
   "source": [
    "print(\"a_first_low: \", a_first_low)\n",
    "print(\"a_first_upper: \", a_first_upper)    "
   ]
  },
  {
   "cell_type": "code",
   "execution_count": null,
   "id": "21a29a97",
   "metadata": {},
   "outputs": [],
   "source": [
    "%qatdisplay circuit --svg"
   ]
  },
  {
   "cell_type": "markdown",
   "id": "7cc21a56",
   "metadata": {},
   "source": [
    "**NOTE**\n",
    "\n",
    "The **RQAE** algorithm sets the `shift`, the number of `shots` and the desired failure probability (`gamma`)  for the first step automatically to obtain a performance that can be compatible with other state-of-art Amplitude Estimation algorithms (like Grinko's **IQAE**)"
   ]
  },
  {
   "cell_type": "markdown",
   "id": "278259bb",
   "metadata": {},
   "source": [
    "### 3.2 Following Iterations\n",
    "\n",
    "Once the first estimation, $[\\hat{a}^{1st}_L, \\hat{a}^{1st}_U]$, is obtained, the subsequent iterations aim to reduce this interval by leveraging the amplification capabilities of the *Grover* operator.\n",
    "\n",
    "For a step $t$ in the iterative process:\n",
    "1. A *shifted oracle* is created using the lower bound of the previous step as the shift: $b = a^{t-1}_L$. This results in the operator $\\mathcal{O}_{b=a^{t-1}_L}$.\n",
    "2. Using this *shifted oracle*, the corresponding Grover operator $\\mathcal{G}(\\mathcal{O}_{b=a^{t-1}_L})$ is constructed.\n",
    "3. The following circuit is executed:\n",
    "   $$\n",
    "   \\mathcal{G}^k (\\mathcal{O}_{b=a^{t-1}_L}) \\mathcal{O}_{b=a^{t-1}_L} \\ket{0}^n \\otimes \\ket{0},\n",
    "   $$\n",
    "   where $k$ is the number of times the Grover operator should be applied, which depends on the step $t$ of the algorithm.\n",
    "\n",
    "The probability of measuring the state $\\ket{0} \\otimes \\ket{\\Psi_0}$ is then estimated. The result of step $t$ is given by:\n",
    "$$\n",
    "\\hat{a}^t = P_{\\ket{0} \\otimes \\ket{\\Psi_0}}.\n",
    "$$\n",
    "\n",
    "Using the *Chebyshev* inequality, the bounds for step $t$, $[\\hat{a}^{t}_L, \\hat{a}^{t}_U]$, can be computed.\n",
    "\n",
    "A single step $t$ is executed using the `run_step` method. The inputs to this method are:\n",
    "- `shift`: The shift value ($b = a^{t-1}_L$).\n",
    "- `shots`: The number of measurement shots.\n",
    "- `gamma`: The desired failure probability for the step.\n",
    "- `k`: The amplification factor (number of Grover operator applications).\n",
    "\n",
    "The `run_step` method returns the bounds $[\\hat{a}^{t}_L, \\hat{a}^{t}_U]$ and the quantum circuit used for the step."
   ]
  },
  {
   "cell_type": "code",
   "execution_count": null,
   "id": "f652ac6d",
   "metadata": {},
   "outputs": [],
   "source": [
    "[a_t_low, a_t_upper], circuit = rqae_obj.run_step(a_first_low, 100, 0.02, 4)"
   ]
  },
  {
   "cell_type": "code",
   "execution_count": null,
   "id": "59054a76",
   "metadata": {},
   "outputs": [],
   "source": [
    "print(\"a_t_low: \", a_t_low)\n",
    "print(\"a_t_upper: \", a_t_upper)  "
   ]
  },
  {
   "cell_type": "code",
   "execution_count": null,
   "id": "15fcad37",
   "metadata": {
    "scrolled": true
   },
   "outputs": [],
   "source": [
    "%qatdisplay circuit --svg "
   ]
  },
  {
   "cell_type": "markdown",
   "id": "23129be9",
   "metadata": {},
   "source": [
    "**NOTE**\n",
    "\n",
    "The **RQAE** algorithm sets the `shift`, the number of `shots`, the desired failure probability (`gamma`) and the amplification $k$ for each step automatically to obtain a performance that can be compatible with other state-of-art Amplitude Estimation algorithms (like Grinko's **IQAE**)"
   ]
  },
  {
   "cell_type": "markdown",
   "id": "171a0c4c",
   "metadata": {},
   "source": [
    "## 4. Other RQAE Algorithms\n",
    "\n",
    "In the **QQuantLib.AE** package, several variations of the **RQAE** algorithm have been developed. These new versions of **RQAE** may exhibit better asymptotic query behavior and can even demonstrate improved experimental performance compared to the original **RQAE** algorithm. Specifically, they may require a lower number of oracle calls for the same desired precision $\\epsilon$.\n",
    "\n",
    "These modifications to the **RQAE** algorithm are reviewed and explained in detail in the notebook:  \n",
    "*07-02_Improvements_on_Real_Quantum_Amplitude_Estimation.ipynb*."
   ]
  }
 ],
 "metadata": {
  "kernelspec": {
   "display_name": "Python 3 (ipykernel)",
   "language": "python",
   "name": "python3"
  },
  "language_info": {
   "codemirror_mode": {
    "name": "ipython",
    "version": 3
   },
   "file_extension": ".py",
   "mimetype": "text/x-python",
   "name": "python",
   "nbconvert_exporter": "python",
   "pygments_lexer": "ipython3",
   "version": "3.9.9"
  }
 },
 "nbformat": 4,
 "nbformat_minor": 5
}
