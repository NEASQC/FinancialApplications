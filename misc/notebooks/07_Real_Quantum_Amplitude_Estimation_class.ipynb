{
 "cells": [
  {
   "cell_type": "markdown",
   "id": "7a9496d2",
   "metadata": {},
   "source": [
    "# Real Quantum Amplitude Estimation (RQAE) module"
   ]
  },
  {
   "cell_type": "markdown",
   "id": "7d6cb636",
   "metadata": {},
   "source": [
    "The present notebook reviews the **Real Quantum Amplitude Estimation** (RQAE) algorithms which were implemented into the module *real_quantum_ae* within the package *AE* of the library *QQuantLib* (**QQuantLib/AE/real_quantum_ae.py**).\n",
    "\n",
    "$$\\newcommand{\\braket}[2]{\\left\\langle{#1}\\middle|{#2}\\right\\rangle}$$\n",
    "$$\\newcommand{\\ket}[1]{\\left|{#1}\\right\\rangle}$$\n",
    "$$\\newcommand{\\bra}[1]{\\left\\langle{#1}\\right|}$$"
   ]
  },
  {
   "cell_type": "markdown",
   "id": "bcf02895",
   "metadata": {},
   "source": [
    "The present notebook and module are based on the following references:\n",
    "\n",
    "* Manzano, A., Musso, D. & Leitao, Á. Real quantum amplitude estimation. EPJ Quantum Technol. 10, 2 (2023) (https://epjquantumtechnology.springeropen.com/articles/10.1140/epjqt/s40507-023-00159-0#citeas)\n"
   ]
  },
  {
   "cell_type": "code",
   "execution_count": null,
   "id": "404b8ec1",
   "metadata": {},
   "outputs": [],
   "source": [
    "import sys\n",
    "sys.path.append(\"../../\")"
   ]
  },
  {
   "cell_type": "code",
   "execution_count": null,
   "id": "490d094b",
   "metadata": {},
   "outputs": [],
   "source": [
    "import numpy as np\n",
    "import pandas as pd\n",
    "import matplotlib.pyplot as plt\n",
    "import qat.lang.AQASM as qlm"
   ]
  },
  {
   "cell_type": "code",
   "execution_count": null,
   "id": "21276b3d",
   "metadata": {},
   "outputs": [],
   "source": [
    "%matplotlib inline"
   ]
  },
  {
   "cell_type": "code",
   "execution_count": null,
   "id": "34403ec1",
   "metadata": {
    "scrolled": true
   },
   "outputs": [],
   "source": [
    "#This cell loads the QLM solver. QPU = [qlmass, python, c]\n",
    "from QQuantLib.qpu.get_qpu import get_qpu\n",
    "QPU = [\"qlmass\", \"python\", \"c\"]\n",
    "linalg_qpu = get_qpu(QPU[2])"
   ]
  },
  {
   "cell_type": "code",
   "execution_count": null,
   "id": "3453cf5d",
   "metadata": {},
   "outputs": [],
   "source": [
    "#See 01_DataLoading_Module_Use for the use of this function\n",
    "from QQuantLib.utils.data_extracting import get_results\n",
    "from QQuantLib.utils.utils import bitfield_to_int"
   ]
  },
  {
   "cell_type": "markdown",
   "id": "55146c4c",
   "metadata": {},
   "source": [
    "## 1. Oracle generation"
   ]
  },
  {
   "cell_type": "markdown",
   "id": "71279f09",
   "metadata": {},
   "source": [
    "Before doing any amplitude estimation we want to load some data into the quantum circuit, as this step is only auxiliary to see how the algorithm works, we are just going to load a discrete probability distribution. In this case, we will have a circuit with $n=3$ qubits which makes a total of $N = 2^n = 8$ states. The discrete probability distribution that we are going to load is:\n",
    "$$p_d = \\dfrac{(0,1,2,3,4,5,6,7)}{0+1+2+3+4+5+6+7+8}.$$\n"
   ]
  },
  {
   "cell_type": "code",
   "execution_count": null,
   "id": "d0b21bcf",
   "metadata": {},
   "outputs": [],
   "source": [
    "n = 3\n",
    "N = 2**n\n",
    "x = np.arange(N)\n",
    "probability = x/np.sum(x)"
   ]
  },
  {
   "cell_type": "markdown",
   "id": "716492db",
   "metadata": {},
   "source": [
    "Note that this probability distribution is properly normalised. For loading this probability into the quantum circuit we will use the function *load_probability* from **QQuantLib/DL/data_loading** module. The state that we are going to get is:\n",
    "    $$|\\Psi\\rangle = \\scriptstyle \\dfrac{1}{\\sqrt{0+1+2+3+4+5+6+7+8}}\\left[\\sqrt{0}|0\\rangle+\\sqrt{1}|1\\rangle+\\sqrt{2}|2\\rangle+\\sqrt{3}|3\\rangle+\\sqrt{4}|4\\rangle+\\sqrt{5}|5\\rangle+\\sqrt{6}|6\\rangle+\\sqrt{7}|7\\rangle\\right].$$"
   ]
  },
  {
   "cell_type": "code",
   "execution_count": null,
   "id": "b05056d1",
   "metadata": {},
   "outputs": [],
   "source": [
    "from QQuantLib.DL.data_loading import load_probability"
   ]
  },
  {
   "cell_type": "code",
   "execution_count": null,
   "id": "aab2e90d",
   "metadata": {},
   "outputs": [],
   "source": [
    "oracle = load_probability(probability)"
   ]
  },
  {
   "cell_type": "markdown",
   "id": "08b1fdf8",
   "metadata": {},
   "source": [
    "For more information about loading data into the quantum circuit see the notebook *01_DataLoading_Module_Use*."
   ]
  },
  {
   "cell_type": "markdown",
   "id": "208218b4",
   "metadata": {},
   "source": [
    "## 2. RQAE class"
   ]
  },
  {
   "cell_type": "markdown",
   "id": "e82c9c6e",
   "metadata": {},
   "source": [
    "### 2.1 The Amplitude Estimation Problem\n",
    "\n",
    "The **RQAE** algorithm solves the **amplitude estimation** problem when a little variation is added.  In this case, given an oracle:\n",
    "\n",
    "$$\\mathcal{0}|0\\rangle = |\\Psi\\rangle = a|\\Psi_0\\rangle +\\sqrt{1-a^2}|\\Psi_1\\rangle, \\tag{1}$$\n",
    "\n",
    "where $|\\Psi_0\\rangle$ and $|\\Psi_1\\rangle$ are orthogonal states, *we want to estimate the real parameter $a$ (so $a$ can take values in the domain $[-1,1]$)*\n",
    "\n",
    "**BE AWARE** \n",
    "\n",
    "In Notebooks: *03_Maximum_Likelihood_Amplitude_Estimation_Class.ipynb*, *04_Classical_Phase_Estimation_Class.ipynb*, *05_Iterative_Quantum_Phase_Estimation_Class.ipynb*, *06_Iterative_Quantum_Amplitude_Estimation_class.ipynb* we want to estimate $\\sqrt{a}$ meanwhile in this new problem we want to estimate $a$\n"
   ]
  },
  {
   "cell_type": "markdown",
   "id": "6dcb170e",
   "metadata": {},
   "source": [
    "### 2.2 RQAE algorithm output\n",
    "\n",
    "Given an error $\\epsilon$ and a confident interval $\\gamma$, the **RQAE** algorithm allows to estimate the $a$, from the amplitude estimation problem presented in *Section 2.1*, satisfying:\n",
    "\n",
    "$$P\\big[a \\in [a_l, a_u]\\big] \\gt 1-\\gamma$$\n",
    "\n",
    "and\n",
    "\n",
    "$$\\frac{a_u-a_l}{2} \\leq \\epsilon$$\n"
   ]
  },
  {
   "cell_type": "markdown",
   "id": "d2da4da9",
   "metadata": {},
   "source": [
    "### 2.3 Creating object from the RQAE class\n",
    "\n",
    "We have implemented a Python class called **RQAE** into the **QQuantLib/AE/real_quantum_ae** module that allows us to use the **RQAE** algorithm.\n",
    "\n",
    "For creating the **RQAE** class the conventions used in **MLAE class** from **QQuantLib/AE/maximum_likelihood_ae.py** module should be followed: \n",
    "\n",
    "We have some mandatory inputs:\n",
    "\n",
    "1. Oracle: QLM AbstractGate or QRoutine with the implementation of the Oracle for creating the Grover operator.\n",
    "2. target: this is the marked state in binary representation as a Python list. \n",
    "3. index: list of the qubits affected by the Grover operator. \n",
    "\n",
    "And some optional inputs, used for algorithm configuration, that can be given as a Python dictionary:\n",
    "* qpu: QLM solver that will be used\n",
    "* epsilon ($\\epsilon$): the precision. Ensures that the width of the interval is (see Section 2.2), at most, $2\\epsilon$ (default: 0.01).\n",
    "* gamma ($\\gamma$): the accuracy (or final failure probability). Ensures that the probability of $a$ not laying within the given interval (see Section 2.2) is, at most, $\\gamma$ (default: 0.05).\n",
    "* ratio: the amplification ratio (default: 2).\n",
    "* mcz_qlm: for using QLM multi-controlled Z gate (True, default) or using multiplexor implementation (False)"
   ]
  },
  {
   "cell_type": "code",
   "execution_count": null,
   "id": "c3dc1ade",
   "metadata": {},
   "outputs": [],
   "source": [
    "#import the class\n",
    "from QQuantLib.AE.real_quantum_ae import RQAE"
   ]
  },
  {
   "cell_type": "markdown",
   "id": "94fce353",
   "metadata": {},
   "source": [
    "To show how our **RQAE** class works, we will define the following amplitude estimation problem:\n",
    "\n",
    "$$|\\Psi\\rangle = \\mathcal{A}|0\\rangle = \\dfrac{1}{\\sqrt{0+1+2+3+4+5+6+7+8}}\\left[\\sqrt{0}|0\\rangle+\\sqrt{1}|1\\rangle+\\sqrt{2}|2\\rangle+\\sqrt{3}|3\\rangle+\\sqrt{4}|4\\rangle+\\sqrt{5}|5\\rangle+\\sqrt{6}|6\\rangle+\\sqrt{7}|7\\rangle\\right] \\tag{2}$$\n",
    "\n",
    "So comparing (2) with (1):\n",
    "\n",
    "$$a|\\Psi_0\\rangle =  \\dfrac{\\sqrt{1}}{\\sqrt{0+1+2+3+4+5+6+7+8}}|1\\rangle$$\n",
    "\n",
    "and \n",
    "\n",
    "$$\\sqrt{1-a^2}|\\Psi_1\\rangle = \\dfrac{1}{\\sqrt{0+1+2+3+4+5+6+7+8}}\\left[\\sqrt{0}|0\\rangle+\\sqrt{2}|2\\rangle+\\sqrt{3}|3\\rangle+\\sqrt{4}|4\\rangle+\\sqrt{5}|5\\rangle+\\sqrt{6}|6\\rangle+\\sqrt{7}|7\\rangle\\right].$$\n",
    "\n",
    "The target state, in this case, is $|1\\rangle$. Its binary representation is $001$. This has to be passed to the target variable as a list. Moreover, we have to provide the list of qubits where we are acting, in this case is just $[0,1,2]$, the whole register."
   ]
  },
  {
   "cell_type": "code",
   "execution_count": null,
   "id": "62f7ee9a",
   "metadata": {},
   "outputs": [],
   "source": [
    "target = [0,0,1]\n",
    "index = [0,1,2]\n",
    "\n",
    "#We want to estimate the probability of target.\n",
    "#In the RQAE solution the $a$ is codified as an amplitude not as a probability\n",
    "a_real = np.sqrt(probability[bitfield_to_int(target)])\n",
    "\n",
    "print('We want to estimate: ', a_real)\n",
    "\n",
    "rqae_dict = {\n",
    "    'qpu': linalg_qpu,\n",
    "    'mcz_qlm': True   \n",
    "}\n",
    "\n",
    "rqae = RQAE(oracle,target = [0,0,1],index = [0,1,2], **rqae_dict)"
   ]
  },
  {
   "cell_type": "markdown",
   "id": "e5c5e726",
   "metadata": {},
   "source": [
    "### 2.4 The *rqae* method\n",
    "\n",
    "To execute the complete algorithm using the **RQAE** class the *rqae* method can be used. \n",
    "\n",
    " This method has the following inputs:\n",
    "* ratio: the amplification ratio\n",
    "* epsilon ($\\epsilon$): error in the estimation of $a$ (default: 0.01).\n",
    "* gamma ($\\gamma$): confidence interval (failure probability) for the $a$ estimation (default: 0.05).\n",
    "\n",
    "This method returns the limits for the $a$ estimation: $(a_{\\min},a_{\\max})$"
   ]
  },
  {
   "cell_type": "code",
   "execution_count": null,
   "id": "07948db6",
   "metadata": {},
   "outputs": [],
   "source": [
    "epsilon = 0.01\n",
    "gamma = 0.05\n",
    "q = 2.0\n",
    "bounds = rqae.rqae(ratio=q, epsilon=epsilon, gamma=gamma)"
   ]
  },
  {
   "cell_type": "code",
   "execution_count": null,
   "id": "df70f641",
   "metadata": {
    "scrolled": true
   },
   "outputs": [],
   "source": [
    "print('Bounds for a: [a_l, a_u] = [{}, {}]'.format(bounds[0], bounds[1]))\n",
    "a_estimated = (bounds[0]+bounds[1])/2.0\n",
    "print('a_estimated: ', a_estimated)\n",
    "print('a real: ', a_real)\n",
    "print('|a_l-a_estimated| = ', np.abs(a_estimated-a_real))\n",
    "print('Error estimation wanted: ', 0.01)"
   ]
  },
  {
   "cell_type": "code",
   "execution_count": null,
   "id": "8c3921ff",
   "metadata": {},
   "outputs": [],
   "source": [
    "if (a_real>=bounds[0])&(a_real<=bounds[1]):\n",
    "    print(\"Correct\")\n",
    "else:\n",
    "    print(\"Incorrect\")"
   ]
  },
  {
   "cell_type": "markdown",
   "id": "20021cdb",
   "metadata": {},
   "source": [
    "Additionally, the **rqae** method populates the *time_pdf* property where several times for each iteration of the algorithm are stored. \n",
    "\n",
    "The **rqae_overheating** column in *time_pdf* property refers to pure **rqae** step algorithm times"
   ]
  },
  {
   "cell_type": "code",
   "execution_count": null,
   "id": "9af0fa55",
   "metadata": {},
   "outputs": [],
   "source": [
    "rqae.circuit_statistics"
   ]
  },
  {
   "cell_type": "markdown",
   "id": "d5ecd185",
   "metadata": {},
   "source": [
    "### 2.5 The *display_information* method\n",
    "\n",
    "This method provides technical information  about the **RQAE** algorithm for a fixed configuration of:\n",
    "* ratio ($q$ in the **RQAE** paper): amplification between steps\n",
    "* epsilon ($\\epsilon$): desired error in the estimation of $a$\n",
    "* gamma ($\\gamma$): confidence level (failure probability)"
   ]
  },
  {
   "cell_type": "code",
   "execution_count": null,
   "id": "38f04c4a",
   "metadata": {},
   "outputs": [],
   "source": [
    "rqae.display_information(ratio = q,epsilon = epsilon, gamma = gamma)"
   ]
  },
  {
   "cell_type": "markdown",
   "id": "5fa049fb",
   "metadata": {},
   "source": [
    "### 2.6 The *run* method\n",
    "\n",
    "Finally, a *run* method for direct implementation of the **RQAE** algorithm was implemented. In this case, the user can configure all the properties of the **RQAR** class and the *run* method will execute the method using the fixed attributes of the class. Finally, the method returns the estimation of $a=\\frac{a_u+a_l}{2}$. Additionally, the *run* method populates the following class attributes:\n",
    "\n",
    "* *ae_l*: the lower limit for a $a_l$.\n",
    "* *ae_u*: the upper limit for a $a_u$.\n",
    "* *ae*: the amplitude estimation parameter calculated as: $a=\\frac{a_u+a_l}{2}$\n",
    "* *run_time*: elapsed time for a complete execution of the **run** method.\n"
   ]
  },
  {
   "cell_type": "code",
   "execution_count": null,
   "id": "0239ba59",
   "metadata": {},
   "outputs": [],
   "source": [
    "#First we create the class\n",
    "target = [0,0,1]\n",
    "index = [0,1,2]\n",
    "a = np.sqrt(probability[bitfield_to_int(target)])\n",
    "\n",
    "print('We want to estimate: ', a)\n",
    "\n",
    "epsilon = 0.001\n",
    "q = 2\n",
    "gamma = 0.01\n",
    "\n",
    "rqae_dict = {\n",
    "    'qpu': linalg_qpu,    \n",
    "    'epsilon': epsilon,\n",
    "    'ratio': q,\n",
    "    'gamma': gamma,\n",
    "    'mcz_qlm': False\n",
    "}\n",
    "\n",
    "rqae_ = RQAE(oracle, target = target, index = [0,1,2], **rqae_dict)"
   ]
  },
  {
   "cell_type": "code",
   "execution_count": null,
   "id": "959d0fd6",
   "metadata": {},
   "outputs": [],
   "source": [
    "a_estimated = rqae_.run()"
   ]
  },
  {
   "cell_type": "code",
   "execution_count": null,
   "id": "3ff5cd57",
   "metadata": {},
   "outputs": [],
   "source": [
    "print('a_estimated: ', a_estimated)\n",
    "print('Real Value of a: ', a_real)\n",
    "print('Bounds for a: [rqae.a_l, rqae.a_u] = [{}, {}]'.format(rqae_.ae_l, rqae_.ae_u))\n",
    "print('Estimated a: rqae.a= ', rqae_.ae)\n",
    "print('|a_l-a_estimated| = ', np.abs(a-rqae_.ae))\n",
    "print('Error estimation wanted: ', rqae_.epsilon)"
   ]
  },
  {
   "cell_type": "code",
   "execution_count": null,
   "id": "d6b0508e",
   "metadata": {},
   "outputs": [],
   "source": [
    "print(\"Elapsed time of a run method: \", rqae_.run_time)"
   ]
  },
  {
   "cell_type": "code",
   "execution_count": null,
   "id": "fefc17e0",
   "metadata": {
    "scrolled": true
   },
   "outputs": [],
   "source": [
    "grover = rqae_._grover_oracle\n",
    "\n",
    "%qatdisplay grover --depth 3 --svg"
   ]
  },
  {
   "cell_type": "markdown",
   "id": "1583e54c",
   "metadata": {},
   "source": [
    "When the *run* method is executed the following class attributes are populated:\n",
    "\n",
    "* *circuit_statistics*: Python dictionary with the statistics of each circuit used during the algorithm execution. Each key of the dictionary corresponds with a $k$ application of the Grover-like operator used and its associated value is a Python dictionary with the complete statistical information of the circuit created for each $k$ value.\n",
    "* *schedule_pdf*: pandas DataFrame with the complete schedule used in the algorithm execution. The schedule lists the number of applications Grover-like applications and the number of shots used for measurements.\n",
    "* *oracle_calls*: number of total oracle calls for a complete algorithm's execution.\n",
    "* *max_oracle_depth*: maximum number of applications of the oracle for the complete algorithm's execution."
   ]
  },
  {
   "cell_type": "code",
   "execution_count": null,
   "id": "453350d9",
   "metadata": {
    "scrolled": true
   },
   "outputs": [],
   "source": [
    "rqae_.circuit_statistics"
   ]
  },
  {
   "cell_type": "code",
   "execution_count": null,
   "id": "59622b23",
   "metadata": {},
   "outputs": [],
   "source": [
    "rqae_.schedule_pdf"
   ]
  },
  {
   "cell_type": "code",
   "execution_count": null,
   "id": "f74b8fed",
   "metadata": {},
   "outputs": [],
   "source": [
    "#Total number of oracle calls\n",
    "print(\"The total number of the oracle calls for the IQAE was: {}\".format(rqae_.oracle_calls))"
   ]
  },
  {
   "cell_type": "code",
   "execution_count": null,
   "id": "002b528b",
   "metadata": {},
   "outputs": [],
   "source": [
    "#Number of maximum oracle applications\n",
    "rqae_.max_oracle_depth"
   ]
  },
  {
   "cell_type": "code",
   "execution_count": null,
   "id": "4fe8183f",
   "metadata": {},
   "outputs": [],
   "source": [
    "rqae_.quantum_time"
   ]
  },
  {
   "cell_type": "code",
   "execution_count": null,
   "id": "a70130db",
   "metadata": {},
   "outputs": [],
   "source": [
    "rqae_.run_time"
   ]
  },
  {
   "cell_type": "markdown",
   "id": "aef4821e",
   "metadata": {},
   "source": [
    "## 3. The RQAE Algorithm\n",
    "\n",
    "In this section, we provide an insight into how the **RQAE** algorithm works. We are going to use the *oracle*, the *target* and the *index* from section 1. \n",
    "\n",
    "The **RQAE** algorithm has 2 well different parts:\n",
    "* First step: where the sign of the amplitude $a$ can be estimated.\n",
    "* The following interactions where the Grover operators are used for boosting the estimation.\n",
    "\n",
    "You should remember that we have an operator $\\mathcal{0}$ such that:\n",
    "\n",
    "$$\\mathcal{0}|0\\rangle = |\\Psi\\rangle = a|\\Psi_0\\rangle +\\sqrt{1-a^2}|\\Psi_1\\rangle, \\tag{1}$$\n",
    "\n",
    "with $a\\in[-1, 1]$ and we want an estimation of $a$, $\\hat{a}$\n",
    "\n",
    "To explain the algorithm we are going to use the following distribution:"
   ]
  },
  {
   "cell_type": "code",
   "execution_count": null,
   "id": "ab7744eb",
   "metadata": {},
   "outputs": [],
   "source": [
    "from QQuantLib.utils.utils import bitfield"
   ]
  },
  {
   "cell_type": "code",
   "execution_count": null,
   "id": "c8855a90",
   "metadata": {
    "scrolled": true
   },
   "outputs": [],
   "source": [
    "n = 4\n",
    "N = 2**n\n",
    "x = np.arange(N)\n",
    "probability = x/np.sum(x)\n",
    "# This will be the amplitude that we want to estimate\n",
    "value = np.max(probability)\n",
    "target_id = np.argmax(probability)\n",
    "target = bitfield(target_id, n)\n",
    "index = list(range(n))\n",
    "print(\"Amplitude to estimate: \", str(value))\n",
    "print(\"Integer for the Amplitude to estimate: \", str(target_id))\n",
    "print(\"State with the desired Amplitude: \", str(target))"
   ]
  },
  {
   "cell_type": "code",
   "execution_count": null,
   "id": "0d00f77f",
   "metadata": {},
   "outputs": [],
   "source": [
    "# This is the A operator\n",
    "oracle = load_probability(probability)"
   ]
  },
  {
   "cell_type": "code",
   "execution_count": null,
   "id": "20a56bc0",
   "metadata": {
    "scrolled": true
   },
   "outputs": [],
   "source": [
    "%qatdisplay oracle --svg"
   ]
  },
  {
   "cell_type": "code",
   "execution_count": null,
   "id": "883d24c9",
   "metadata": {},
   "outputs": [],
   "source": [
    "results,_,_,_ = get_results(oracle, linalg_qpu, shots=0)"
   ]
  },
  {
   "cell_type": "code",
   "execution_count": null,
   "id": "cf0774c0",
   "metadata": {},
   "outputs": [],
   "source": [
    "#Codified value in target_id vs value to estiamte\n",
    "print(list(results[results[\"Int_lsb\"] == target_id][\"Probability\"])[0], value)"
   ]
  },
  {
   "cell_type": "markdown",
   "id": "226c97b5",
   "metadata": {},
   "source": [
    "Now we create the **RQAE** object"
   ]
  },
  {
   "cell_type": "code",
   "execution_count": null,
   "id": "d2226138",
   "metadata": {},
   "outputs": [],
   "source": [
    "epsilon = 0.001\n",
    "q = 2\n",
    "gamma = 0.01\n",
    "\n",
    "rqae_dict = {\n",
    "    'qpu': linalg_qpu,    \n",
    "    'epsilon': epsilon,\n",
    "    'ratio': q,\n",
    "    'gamma': gamma,\n",
    "    'mcz_qlm': False\n",
    "}\n",
    "rqae_obj = RQAE(oracle=oracle, target=target, index=index, **rqae_dict)"
   ]
  },
  {
   "attachments": {},
   "cell_type": "markdown",
   "id": "c34b8c95",
   "metadata": {},
   "source": [
    "### 3.1 First step\n",
    "\n",
    "The first iteration of the **RQAE** aims to get a first estimation of the amplitude and the corresponding sign. \n",
    "\n",
    "For doing this instead of using the $\\mathcal{0}$ operator (the *oracle* object in the code) the **RQAE** will use a version of the operator $\\mathcal{0}_b$ that depends on $\\mathcal{0}$. The $b$ from the $\\mathcal{0}_b$ is a number between $[-0.5, 0.5]$ that it is called the **shift**. Meanwhille the $\\mathcal{0}$ acts upon $n$ qubits the $\\mathcal{0}_b$ acts upon $n+1$ qutbits. The circuit implementation is shown in the following figure:\n",
    "\n",
    "![title](images/rqae.svg)\n",
    "\n",
    "This $\\mathcal{0}_b$ is composed of 3 different operators (the three boxes in the diagram):\n",
    "* $R_y(2 \\theta_b)$: a rotation around axis y of $2 \\theta_b$ with $\\theta_b = \\arccos(b)$. Main behaviour is: $$R_y(2\\theta_b) \\ket{0} = \\cos(\\theta_b) \\ket{0} + \\sin(\\theta_b) \\ket{1}$$\n",
    "* The *Mask* operator. This operator is an operator whose main behaviour is the following:\n",
    "\n",
    "$$Mask \\ket{0}\\otimes \\ket{0}^n \\rightarrow \\ket{0} \\otimes \\ket{\\Psi_0}$$\n",
    "$$Mask \\ket{0}\\otimes \\ket{i \\ne 0}^n \\rightarrow \\text{any state that can not be} \\ket{0} \\otimes \\ket{\\Psi_0}$$\n",
    "* The oracle operator $\\mathcal{0}$\n",
    "$$\\mathcal{0}|0\\rangle = |\\Psi\\rangle = a|\\Psi_0\\rangle +\\sqrt{1-a^2}|\\Psi_1\\rangle$$"
   ]
  },
  {
   "cell_type": "markdown",
   "id": "c7c64f04",
   "metadata": {},
   "source": [
    "\n",
    "Now we are going to analyze the complete action of the $\\mathcal{0}_b$ circuit:\n",
    "\n",
    "\n",
    "1. $\\ket{0}\\otimes \\ket{0}^n$\n",
    "2. $(H \\otimes I^n) \\ket{0}\\otimes \\ket{0}^n = \\frac{1}{\\sqrt{2}} ( \\ket{0}\\otimes \\ket{0}^n + \\ket{1}\\otimes \\ket{0}^n)$\n",
    "3. The first qubit controls a y-rotation gate over the last qubit of $\\theta_b$:\n",
    "$$\\biggl(\\ket{0}\\bra{0} \\otimes I ^{n-1} \\otimes I  + \\ket{1}\\bra{1} \\otimes I ^{n-1} \\otimes R_y(2\\theta_b) \\biggl) \\frac{1}{\\sqrt{2}} \\big( \\ket{0} +\\ket{1} \\big) \\otimes \\ket{0}^{n-1} \\otimes \\ket{0}=$$\n",
    "$$=\\frac{1}{\\sqrt{2}} \\biggl(\\ket{0} \\otimes \\ket{0}^{n} +\\cos(\\theta_b) \\ket{1} \\otimes \\ket{0}^{n} + \\sin(\\theta_b) \\ket{1} \\otimes \\ket{0}^{n-1} \\otimes \\ket{1} \\biggl)=$$\n",
    "$$=\\frac{1}{\\sqrt{2}} \\biggl(\\ket{0} \\otimes \\ket{0}^{n} +\\cos(\\theta_b) \\ket{1} \\otimes \\ket{0}^{n} + \\cdots \\biggl)$$    \n",
    "4. The first qubit controls the mask operator over the other $n$ qubits. Using the behaviour of the Mask operator we arrive to:\n",
    "\n",
    "$$ \\biggl(\\ket{0}\\bra{0} \\otimes I ^{n} + \\ket{1}\\bra{1} Mask \\biggl) \\frac{1}{\\sqrt{2}} \\biggl(\\ket{0} \\otimes \\ket{0}^{n} +\\cos(\\theta_b) \\ket{1} \\otimes \\ket{0}^{n} + \\cdots \\biggl)=$$ \n",
    "$$ = \\frac{1}{\\sqrt{2}} \\biggl(\\ket{0} \\otimes \\ket{0}^{n} + \\cos(\\theta_b) \\ket{1} \\otimes \\ket{\\Psi_0} + \\cdots \\biggl)$$\n",
    "5. The first qubit anti-control the oracle operator $\\mathcal{0}$ over the last $n$ qbits:\n",
    "\n",
    "$$\\biggl(\\ket{0}\\bra{0} \\otimes \\mathcal{0}  + \\ket{1}\\bra{1} \\otimes  I ^{n}  \\biggl) \\frac{1}{\\sqrt{2}} \\biggl(\\ket{0} \\otimes \\ket{0}^{n} + \\cos(\\theta_b) \\ket{1} \\otimes \\ket{\\Psi_0} + \\cdots \\biggl)=$$\n",
    "\n",
    "$$ = \\frac{1}{\\sqrt{2}} \\biggl( a \\ket{0} \\otimes \\ket{\\Psi_0} + \\cos(\\theta_b) \\ket{1} \\otimes \\ket{\\Psi_0} + \\cdots \\biggl)$$\n",
    "6. Now a Haddamard gate is applied over the first qubit:\n",
    "\n",
    "$$ (H \\otimes I^n) \\frac{1}{\\sqrt{2}} \\biggl( a \\ket{0} \\otimes \\ket{\\Psi_0} + \\cos(\\theta_b) \\ket{1} \\otimes \\ket{\\Psi_0} + \\cdots \\biggl) = $$\n",
    "\n",
    "$$=\\frac{1}{2} \\biggl( \\big(a + \\cos(\\theta_b)\\big) \\ket{0} \\otimes \\ket{\\Psi_0} +  \\big(a - \\cos(\\theta_b)\\big) \\ket{1} \\otimes \\ket{\\Psi_0} + \\cdots \\biggl) $$\n",
    "\n",
    "\n",
    "So the main action of the $\\mathcal{0}_b$ operator is:\n",
    "\n",
    "$$\\mathcal{0}_b \\ket{0} \\otimes \\ket{0}^n = \\left(\\frac{\\cos \\theta_b + a}{2} \\right)  \\ket{0} \\otimes \\ket{\\Psi_0} + \\left(\\frac{\\cos \\theta_b - a}{2} \\right)  \\ket{1} \\otimes \\ket{\\Psi_0} + \\cdots$$\n",
    "\n",
    "\n",
    "So the probability of getting the $\\ket{0} \\otimes \\ket{\\Psi_0}$ state is given by:\n",
    "\n",
    "$$P_{\\ket{0} \\otimes \\ket{\\Psi_0}} = \\left(\\frac{\\cos \\theta_b + a}{2} \\right) ^2$$\n",
    "\n",
    "and the probability of getting the $\\ket{1} \\otimes \\ket{\\Psi_0}$ state is given by:\n",
    "\n",
    "$$P_{\\ket{1} \\otimes \\ket{\\Psi_0}} = \\left(\\frac{\\cos \\theta_b - a}{2} \\right) ^2$$\n",
    "\n",
    "So in the first step the algorithms creates the $\\mathcal{0}_b$ and measures the states $\\ket{0} \\otimes \\ket{\\Psi_0}$ and  $\\ket{1} \\otimes \\ket{\\Psi_0}$  and a first estimation of $a$, $\\hat{a}^{1st}$ is obtained by: \n",
    "\n",
    "$$\\hat{a}^{1st} = \\frac{P_{\\ket{0} \\otimes \\ket{\\Psi_0}} - P_{\\ket{1} \\otimes \\ket{\\Psi_0}}}{\\cos \\theta_b}$$\n",
    "\n",
    "In this iteration the sign of $a$ can be recovered (if $P_{\\ket{1} \\otimes \\ket{\\Psi_0}} > P_{\\ket{0} \\otimes \\ket{\\Psi_0}}$ then $\\hat{a}^{1st} < 0$).\n",
    "\n",
    "Once the $\\hat{a}^{1st}$ is estimated the corresponding bounds, $[\\hat{a}^{1st}_L, \\hat{a}^{1st}_U]$  can be obtained by using the *Chebyshev* inequality. For this computation the desired failure probability, $\\gamma_i$ and the number of shots used for obtaining the $\\hat{a}^{1st}$ must be provided."
   ]
  },
  {
   "cell_type": "markdown",
   "id": "c152c2d6",
   "metadata": {},
   "source": [
    "The $\\mathcal{0}_b$, also called the *shifted oracle*, can be constructed by assigning to the *shifted_oracle* attribute a desired shift ($b$). For obtaining the corresponding $\\mathcal{0}_b$ we can use the attribute *_shifted_oracle*"
   ]
  },
  {
   "cell_type": "code",
   "execution_count": null,
   "id": "117a447b",
   "metadata": {
    "scrolled": true
   },
   "outputs": [],
   "source": [
    "# this is the input oracle\n",
    "c = rqae_obj.oracle\n",
    "%qatdisplay c --svg\n",
    "# Now we create the shifted oracle:\n",
    "shift = 0.5 \n",
    "rqae_obj.shifted_oracle = shift"
   ]
  },
  {
   "cell_type": "code",
   "execution_count": null,
   "id": "97194e91",
   "metadata": {},
   "outputs": [],
   "source": [
    "# The corresponding shifted oracle circuit\n",
    "c = rqae_obj._shifted_oracle\n",
    "%qatdisplay c --svg"
   ]
  },
  {
   "cell_type": "markdown",
   "id": "2c0af6f3",
   "metadata": {},
   "source": [
    "The method *first_step* allows the user to execute the first step of the algorithm by providing:\n",
    "* shift: the $b$ for creating the *shifted oracle*\n",
    "* shots: number of shots for doing the measures\n",
    "* gamma: desired failure probability for computing the bounds $[\\hat{a}^{1st}_L, \\hat{a}^{1st}_U]$\n",
    "\n",
    "This method returns directly the bounds:  $[\\hat{a}^{1st}_L, \\hat{a}^{1st}_U]$ and the circuit used."
   ]
  },
  {
   "cell_type": "code",
   "execution_count": null,
   "id": "7a3523e0",
   "metadata": {},
   "outputs": [],
   "source": [
    "shift = 0.2\n",
    "shots = 100\n",
    "gamma = 0.01\n",
    "[a_first_low, a_first_upper], circuit = rqae_obj.first_step(shift=shift, shots=shots, gamma=gamma)"
   ]
  },
  {
   "cell_type": "code",
   "execution_count": null,
   "id": "bb065815",
   "metadata": {},
   "outputs": [],
   "source": [
    "print(\"a_first_low: \", a_first_low)\n",
    "print(\"a_first_upper: \", a_first_upper)    "
   ]
  },
  {
   "cell_type": "code",
   "execution_count": null,
   "id": "21a29a97",
   "metadata": {},
   "outputs": [],
   "source": [
    "%qatdisplay circuit --svg"
   ]
  },
  {
   "cell_type": "markdown",
   "id": "7cc21a56",
   "metadata": {},
   "source": [
    "**NOTE**\n",
    "\n",
    "The **RQAE** algorithm sets the shift, the number of shots and the desired failure probability for the first step automatically to obtain a performance that can be compatible with other state-of-art Amplitude Estimation algorithms (like Grinko's **IQAE**)"
   ]
  },
  {
   "cell_type": "markdown",
   "id": "fad74d3c",
   "metadata": {},
   "source": [
    "### 3.2 Following iterations\n",
    "\n",
    "Once the first estimation, $[\\hat{a}^{1st}_L, \\hat{a}^{1st}_U]$, is obtained then the following iterations try to reduce this interval by exploiting the amplification capabilities of the *Grover* operator. \n",
    "\n",
    "For a step $t$ of the iterative process, first a *shited oracle* is created using as shift the lower bound of the last step $b=a^{t-1}_L$, using this *shited oracle* operator, $\\mathcal{O}_{b=a^{t-1}_L}$ the corresponding Grover operator $\\mathcal{G}(\\mathcal{O}_{b=a^{t-1}_L})$ is created. Then the following circuit is executed:\n",
    "\n",
    "$$\\mathcal{G}^k (\\mathcal{O}_{b=a^{t-1}_L})\\mathcal{O}_{b=a^{t-1}_L} \\ket{0}^n \\otimes \\ket{0}$$\n",
    "\n",
    "Where $k$ is the number of times the Grover operator should be applied (depends on the step $t$ of the algorithm). \n",
    "\n",
    "Then the probability of the state $\\ket{0} \\otimes \\ket{\\Psi_0}$ should be measured. The estimation of the step $t$ is then: $\\hat{a}^t = P_{\\ket{0} \\otimes \\ket{\\Psi_0}}$\n",
    "\n",
    "Again using the *Chebyshev* inequality the corresponding bounds,  $[\\hat{a}^{t}_L, \\hat{a}^{t}_U]$, can be obtained.\n",
    "\n",
    "A $t$ step is executed using the *run_step* method. The inputs are:\n",
    "* shift\n",
    "* shots\n",
    "* gamma: desired step failure probability\n",
    "* k: amplification\n",
    "\n",
    "Again the *run_step* method returns the bounds:  $[\\hat{a}^{t}_L, \\hat{a}^{t}_U]$ and the circuit used."
   ]
  },
  {
   "cell_type": "code",
   "execution_count": null,
   "id": "f652ac6d",
   "metadata": {},
   "outputs": [],
   "source": [
    "[a_t_low, a_t_upper], circuit = rqae_obj.run_step(a_first_low, 100, 0.02, 4)"
   ]
  },
  {
   "cell_type": "code",
   "execution_count": null,
   "id": "59054a76",
   "metadata": {},
   "outputs": [],
   "source": [
    "print(\"a_t_low: \", a_t_low)\n",
    "print(\"a_t_upper: \", a_t_upper)  "
   ]
  },
  {
   "cell_type": "code",
   "execution_count": null,
   "id": "15fcad37",
   "metadata": {
    "scrolled": true
   },
   "outputs": [],
   "source": [
    "%qatdisplay circuit --svg "
   ]
  },
  {
   "cell_type": "markdown",
   "id": "23129be9",
   "metadata": {},
   "source": [
    "**NOTE**\n",
    "\n",
    "The **RQAE** algorithm sets the shift, the number of shots, the desired failure probability and the amplification $k$ for each step automatically to obtain a performance that can be compatible with other state-of-art Amplitude Estimation algorithms (like Grinko's **IQAE**="
   ]
  }
 ],
 "metadata": {
  "kernelspec": {
   "display_name": "Python 3 (ipykernel)",
   "language": "python",
   "name": "python3"
  },
  "language_info": {
   "codemirror_mode": {
    "name": "ipython",
    "version": 3
   },
   "file_extension": ".py",
   "mimetype": "text/x-python",
   "name": "python",
   "nbconvert_exporter": "python",
   "pygments_lexer": "ipython3",
   "version": "3.11.7"
  }
 },
 "nbformat": 4,
 "nbformat_minor": 5
}
