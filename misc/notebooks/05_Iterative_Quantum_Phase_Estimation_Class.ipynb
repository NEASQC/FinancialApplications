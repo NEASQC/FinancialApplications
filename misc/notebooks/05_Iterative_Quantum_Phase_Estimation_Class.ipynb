{
 "cells": [
  {
   "cell_type": "markdown",
   "id": "14ca457e",
   "metadata": {},
   "source": [
    "# Iterative Quantum Phase Estimation (IQPE) module\n",
    "\n",
    "The present notebook reviews the **Iterative Quantum Phase Estimation (IQPE)** algorithm, which allows for the estimation of the phase of a unitary operator without using the **Quantum Fourier Transform (QFT)**. This **IQPE** algorithm has been implemented as the Python class `IQPE` within the module *iterative_quantum_pe* of the package **PE** in the current library `QQuantLib`(**QQuantLib/PE/iterative_quantum_pe**).\n",
    "\n",
    "This notebook and its associated module are based on the following references:\n",
    "\n",
    "- **Dobšíček, Miroslav**, **Johansson, Göran**, **Shumeiko, Vitaly**, and **Wendin, Göran**. *Arbitrary accuracy iterative quantum phase estimation algorithm using a single ancillary qubit: A two-qubit benchmark*. Physical Review A 76(3), 2007. [https://arxiv.org/abs/quant-ph/0610214](https://arxiv.org/abs/quant-ph/0610214)\n",
    "\n",
    "- **Griffiths, Robert B.** and **Niu, Chi-Sheng**. *Semiclassical Fourier Transform for Quantum Computation*. Physical Review Letters 76(17), 1996. [https://arxiv.org/abs/quant-ph/9511007](https://arxiv.org/abs/quant-ph/9511007)\n",
    "\n",
    "- **Kitaev, A. Y.**. *Quantum measurements and the Abelian stabilizer problem*. Electronic Colloquium on Computational Complexity, 3(3):1–22, 1996. [https://arxiv.org/abs/quant-ph/9511026](https://arxiv.org/abs/quant-ph/9511026)\n",
    "\n",
    "- **Monz, Thomas**, **Nigg, Daniel**, **Martinez, Esteban A.**, **Brandl, Matthias F.**, **Schindler, Philipp**, **Rines, Richard**, **Wang, Shannon X.**, **Chuang, Isaac L.**, and **Blatt, Rainer**. *Realization of a scalable Shor algorithm*. Science 351(6277), 2016. [https://arxiv.org/abs/1507.08852](https://arxiv.org/abs/1507.08852)"
   ]
  },
  {
   "cell_type": "code",
   "execution_count": null,
   "id": "3f6029d9",
   "metadata": {},
   "outputs": [],
   "source": [
    "import sys\n",
    "sys.path.append(\"../../\")"
   ]
  },
  {
   "cell_type": "code",
   "execution_count": null,
   "id": "56c42b50",
   "metadata": {},
   "outputs": [],
   "source": [
    "import numpy as np\n",
    "import pandas as pd\n",
    "import matplotlib.pyplot as plt\n",
    "import qat.lang.AQASM as qlm"
   ]
  },
  {
   "cell_type": "code",
   "execution_count": null,
   "id": "67d69543",
   "metadata": {
    "scrolled": true
   },
   "outputs": [],
   "source": [
    "%matplotlib inline"
   ]
  },
  {
   "cell_type": "code",
   "execution_count": null,
   "id": "8e8cf3ca",
   "metadata": {
    "scrolled": true
   },
   "outputs": [],
   "source": [
    "#This cell loads the QLM solver. See notebook: 00_AboutTheNotebooksAndQPUs.ipynb\n",
    "from QQuantLib.qpu.get_qpu import get_qpu\n",
    "# myqlm qpus: python, c\n",
    "# QLM qpus accessed using Qaptiva Access library: qlmass_linalg, qlmass_mps\n",
    "# QLM qpus: Only in local Quantum Learning Machine: linalg, mps\n",
    "my_qpus = [\"python\", \"c\", \"qlmass_linalg\", \"qlmass_mps\", \"linalg\", \"mps\"]\n",
    "\n",
    "linalg_qpu = get_qpu(my_qpus[1])"
   ]
  },
  {
   "cell_type": "markdown",
   "id": "55637829",
   "metadata": {},
   "source": [
    "## 1. Example to use\n",
    "\n",
    "To illustrate how the `IQPE` class works, we will use the **Iterative Quantum Phase Estimation (IQPE)** example from the Qiskit textbook:\n",
    "\n",
    "- [Qiskit Tutorial: IQPE](https://github.com/Qiskit/qiskit-tutorials/blob/master/tutorials/algorithms/09_IQPE.ipynb)\n",
    "\n",
    "This notebook contains 2 different examples:\n",
    "- **IPE example with a 1-qubit gate for U**\n",
    "- **IPE example with a 2-qubit gate**\n",
    "\n",
    "The sections 2 and 3 will explain, step by step, how to use the `IQPE` class for solve the **IPE example with a 1-qubit gate for U** example. \n",
    "\n",
    "Section 4 will explain how to use the library solve the **IPE example with a 2-qubit gate**."
   ]
  },
  {
   "cell_type": "markdown",
   "id": "b0a4bbf3",
   "metadata": {},
   "source": [
    "## 2. State and Unitary operator.\n",
    "\n",
    "In the **IPE example with a 1-qubit gate for U** from the Qiskit textbook, the main problem is to find the phase for the 1-qubit unitary operator. They use the  $\\mathcal{S}$ gate that has the following behaviour:\n",
    "\n",
    "$$\n",
    "\\mathcal{S}|1\\rangle = e^{i\\frac{\\pi}{2}}|1\\rangle.\n",
    "$$\n",
    "\n",
    "This means that the $\\mathcal{S}$ gate introduces a phase shift of $\\frac{\\pi}{2}$ radians to the state $|1\\rangle$, leaving it unchanged otherwise.\n",
    "\n",
    "To use the `IQPE` Python class from the module **QQuantLib/PE/iterative_quantum_pe**, two mandatory inputs must be provided:\n",
    "\n",
    "1. **Initial State**: This is the initial quantum state required for applying the unitary operator ($|1\\rangle$ in the Qiskit example). The initial state can be provided as:\n",
    "    - A QLM QRoutine.\n",
    "    - A QLM gate (or abstract gate).\n",
    "2. **Unitary Operator**: This is the operator whose phase we aim to estimate ($\\mathcal{S}$ gate in the Qiskit example). The unitary operator can be provided as:\n",
    "    - A QLM QRoutine.\n",
    "    - A QLM gate (or abstract gate).    \n",
    "\n"
   ]
  },
  {
   "cell_type": "code",
   "execution_count": null,
   "id": "378fc25a",
   "metadata": {},
   "outputs": [],
   "source": [
    "# Initial quantum state\n",
    "#Number Of Qubits\n",
    "n_qbits = 1\n",
    "initial_state = qlm.QRoutine()\n",
    "q_bits = initial_state.new_wires(n_qbits)\n",
    "for i in range(n_qbits):\n",
    "    initial_state.apply(qlm.X, q_bits[i])\n",
    "    \n",
    "%qatdisplay initial_state --svg"
   ]
  },
  {
   "cell_type": "code",
   "execution_count": null,
   "id": "2a19f1dd",
   "metadata": {},
   "outputs": [],
   "source": [
    "# unitary operator\n",
    "unitary_operator = qlm.PH(np.pi/2.0)  \n",
    "%qatdisplay unitary_operator --svg"
   ]
  },
  {
   "cell_type": "markdown",
   "id": "39ad47c9",
   "metadata": {},
   "source": [
    "## 3. Class `IQPE`: IQPE algorithm step by step  \n",
    "\n",
    "The problem of phase estimation can be stated as follows. Given an initial state $|\\Psi \\rangle$ and a phase operator $\\mathcal{P}$ such that:  \n",
    "$$\n",
    "\\mathcal{P} |\\Psi \\rangle = e^{2\\pi i \\lambda} |\\Psi \\rangle,\n",
    "$$  \n",
    "our goal is to estimate $\\lambda$.  \n",
    "\n",
    "So far, we have the initial state $|\\Psi \\rangle = |1\\rangle$ and the unitary operator whose phase we want to estimate, $\\mathcal{P} = \\mathcal{S}$. In this section, we will describe the class step by step and explain the basics of the **IQPE** algorithm.  \n",
    "\n",
    "### 3.1 Calling the **IQPE** class  \n",
    "\n",
    "The *IterativeQuantumPE* (`IQPE`) class is located in the **QQuantLib/PE/iterative_quantum_pe** module. To instantiate the class, you need to provide a Python dictionary. The mandatory keys are:  \n",
    "* `initial_state`: A QLM routine or gate with the initial state $|\\Psi \\rangle$ loaded.  \n",
    "* `unitary_operator`: A QLM gate or routine representing the Unitary operator to be applied to the initial state $|\\Psi \\rangle$.  \n",
    "\n",
    "Other important keys include:  \n",
    "* `cbits_number`: An integer specifying the number of classical bits needed for phase estimation.  \n",
    "* `qpu`: A QLM solver. If not provided, the class attempts to create a `PyLinalg` solver. It is recommended to explicitly provide this key when instantiating the class.  \n",
    "* `shots`: An integer specifying the number of shots for the quantum job.  "
   ]
  },
  {
   "cell_type": "code",
   "execution_count": null,
   "id": "93dc78fd",
   "metadata": {},
   "outputs": [],
   "source": [
    "#Load Class\n",
    "from QQuantLib.PE.iterative_quantum_pe import IQPE"
   ]
  },
  {
   "cell_type": "code",
   "execution_count": null,
   "id": "c558b074",
   "metadata": {},
   "outputs": [],
   "source": [
    "n_cbits = 2\n",
    "#We create a python dictionary for configuration of class\n",
    "iqpe_dict = {\n",
    "    'initial_state': initial_state,\n",
    "    'unitary_operator': unitary_operator,\n",
    "    'qpu' : linalg_qpu,\n",
    "    'cbits_number' : n_cbits,\n",
    "}\n",
    "iqpe_object = IQPE(**iqpe_dict)"
   ]
  },
  {
   "cell_type": "markdown",
   "id": "3e8af83a",
   "metadata": {},
   "source": [
    "When the class is instantiated the properties `initial_state` and `q_gate` are overwritten with the given keys *initial_state* and *unitary_operator* respectively"
   ]
  },
  {
   "cell_type": "code",
   "execution_count": null,
   "id": "720f6786",
   "metadata": {},
   "outputs": [],
   "source": [
    "c = iqpe_object.initial_state\n",
    "%qatdisplay c --svg"
   ]
  },
  {
   "cell_type": "code",
   "execution_count": null,
   "id": "f5349a22",
   "metadata": {},
   "outputs": [],
   "source": [
    "a = iqpe_object.q_gate \n",
    "%qatdisplay a --depth 2 --svg"
   ]
  },
  {
   "cell_type": "markdown",
   "id": "c3ba441c",
   "metadata": {},
   "source": [
    "### 3.2 IPE Algorithm step by step\n",
    "\n",
    "Now we are going to review step by step the **IQPE** algorithm using different programmed methods of the `IQPE` class.\n",
    "\n",
    "#### 3.2.1 Initialize the quantum program\n",
    "\n",
    "The first step is to call the method `init_iqpe`. This method performs the following actions:\n",
    "\n",
    "1. Creation of a QLM program from the `initial_state` QLM routine (or `AbstractGate`). The QLM program is stored in the `q_prog` property.\n",
    "2. Allocation of an auxiliary qubit, which is mandatory for the **IQPE** algorithm. This qubit is stored in the `q_aux` property.\n",
    "3. Allocation of the auxiliary classical bits where the estimated phase will be stored. These bits are stored in the `c_bits` property."
   ]
  },
  {
   "cell_type": "code",
   "execution_count": null,
   "id": "31b2b0b3",
   "metadata": {},
   "outputs": [],
   "source": [
    "#Initialize the quantum program\n",
    "iqpe_object.init_iqpe()"
   ]
  },
  {
   "cell_type": "code",
   "execution_count": null,
   "id": "57d9c3ba",
   "metadata": {},
   "outputs": [],
   "source": [
    "#Now we have the initial quantum program stored in the property q_prog\n",
    "#Additionally a auxiliary qubit bits was allocated\n",
    "circuit = iqpe_object.q_prog.to_circ(submatrices_only=True)\n",
    "\n",
    "%qatdisplay circuit --depth 0 --svg"
   ]
  },
  {
   "cell_type": "markdown",
   "id": "a8de4522",
   "metadata": {},
   "source": [
    "#### 3.2.2 IQPE Algorithm\n",
    "\n",
    "We are going to decompose the **IQPE** algorithm into two parts: a first part where the main variable $ l $ is 0 ($ l = 0 $), and a second recursive part where the variable $ l $ is greater than 0 ($ l > 0 $).\n",
    "\n",
    "##### First Part ($ l = 0 $)\n",
    "\n",
    "The first step of the **IQPE** algorithm ($ l = 0 $) consists of the following parts:\n",
    "\n",
    "1. Reset the auxiliary qubit.\n",
    "2. Apply a Hadamard gate to the auxiliary qubit.\n",
    "3. Apply the phase operator $\\mathcal{P}$, controlled by the auxiliary qubit, $2^{m-1}$ times ($\\mathcal{P}^{2^{m-1}}$). Here, $ m $ is the number of classical bits allocated for estimating $\\theta$.\n",
    "4. Apply a Hadamard gate to the auxiliary qubit.\n",
    "5. Measure the auxiliary qubit and store the result in a classical bit array at position $ c_l $ ($ l = 0 $).\n",
    "\n",
    "This can be achieved by calling the `step_iqpe` method with the following arguments:\n",
    "- Quantum Program with the `initial_state`.\n",
    "- Quantum Routine or `AbstractGate` with the phase operator $\\mathcal{P}$.\n",
    "- Auxiliary Qubit.\n",
    "- Auxiliary classical bits.\n",
    "- $ l = 0 $.\n",
    "\n",
    "The `step_iqpe` method returns the quantum program with the operations explained in this part."
   ]
  },
  {
   "cell_type": "code",
   "execution_count": null,
   "id": "65d4c91d",
   "metadata": {},
   "outputs": [],
   "source": [
    "q_program = iqpe_object.q_prog\n",
    "q_program = iqpe_object.step_iqpe(\n",
    "    q_program, \n",
    "    iqpe_object.q_gate,\n",
    "    iqpe_object.q_aux,\n",
    "    iqpe_object.c_bits, \n",
    "    l=0\n",
    ")"
   ]
  },
  {
   "cell_type": "markdown",
   "id": "aaa42299",
   "metadata": {},
   "source": [
    "Following cell show the first  part of the circuit"
   ]
  },
  {
   "cell_type": "code",
   "execution_count": null,
   "id": "2cccd401",
   "metadata": {},
   "outputs": [],
   "source": [
    "c = q_program.to_circ()\n",
    "%qatdisplay c --svg"
   ]
  },
  {
   "cell_type": "markdown",
   "id": "5cf938ef",
   "metadata": {},
   "source": [
    "##### Second or Iterative Part ($ l > 0 $)\n",
    "\n",
    "This part of the algorithm is recursive. The following steps will be repeated for each value of $ l = 1, 2, \\dots, m-1 $ (where $ m $ is the number of classical bits used to encode the phase):\n",
    "\n",
    "1. Reset the auxiliary qubit.\n",
    "2. Apply a Hadamard gate to the auxiliary qubit.\n",
    "3. Apply the phase operator $\\mathcal{P}$, controlled by the auxiliary qubit, $ 2^{m-1-l} $ times ($ \\mathcal{P}^{2^{m-1-l}} $). Here, $ m $ is the number of classical bits allocated for estimating $\\theta$.\n",
    "4. Apply a set of controlled rotations on the auxiliary qubit, conditioned on the classical bits $ c_j $, with angles:\n",
    "   $$\n",
    "   \\frac{\\pi}{2} \\cdot \\frac{1}{2^{l-j-1}}, \\quad \\text{for } j = 0, 1, \\dots, l-1.\n",
    "   $$\n",
    "5. Apply a Hadamard gate to the auxiliary qubit.\n",
    "6. Measure the auxiliary qubit and store the result in a classical bit array at position $ c_l $.\n",
    "\n",
    "Thus, for each step $ l $, the controlled rotations depend on the measurements performed in the previous $ l $ steps.\n",
    "\n",
    "In the following cell, we explain how to create the algorithm for the $ l = 1 $ part:"
   ]
  },
  {
   "cell_type": "code",
   "execution_count": null,
   "id": "adfe2b33",
   "metadata": {},
   "outputs": [],
   "source": [
    "#here we do the step l=1\n",
    "l=1\n",
    "q_program = iqpe_object.step_iqpe(\n",
    "    q_program, \n",
    "    iqpe_object.q_gate, \n",
    "    iqpe_object.q_aux,\n",
    "    iqpe_object.c_bits, \n",
    "    l=l)"
   ]
  },
  {
   "cell_type": "markdown",
   "id": "7c4239e5",
   "metadata": {},
   "source": [
    "Now we can plot the circuit we have until the moment"
   ]
  },
  {
   "cell_type": "code",
   "execution_count": null,
   "id": "b20cc6fb",
   "metadata": {
    "scrolled": true
   },
   "outputs": [],
   "source": [
    "#Circuit for l=0 and l=1\n",
    "c = q_program.to_circ()\n",
    "%qatdisplay c --svg"
   ]
  },
  {
   "cell_type": "markdown",
   "id": "14af963e",
   "metadata": {},
   "source": [
    "#### Complete Algorithm\n",
    "\n",
    "For a complete **IQPE** algorithm, the following steps should be performed:\n",
    "\n",
    "1. Create the first part of the algorithm for $ l = 0 $.\n",
    "2. Iterate the second part of the algorithm from $ l = 1 $ to $ l = m-1 $, where $ m $ is the number of classical bits used for estimating the phase.\n",
    "\n",
    "The measured classical bits are then used to estimate the phase of the unitary operator.\n",
    "\n",
    "The following cell creates the complete program for the **IQPE** algorithm."
   ]
  },
  {
   "cell_type": "code",
   "execution_count": null,
   "id": "90aef978",
   "metadata": {},
   "outputs": [],
   "source": [
    "#Initialize the quantum program\n",
    "iqpe_object.init_iqpe()\n",
    "q_program = iqpe_object.q_prog\n",
    "for l in range(len(iqpe_object.c_bits)):\n",
    "    q_program = iqpe_object.step_iqpe(\n",
    "        q_program, \n",
    "        iqpe_object.q_gate,\n",
    "        iqpe_object.q_aux,\n",
    "        iqpe_object.c_bits,\n",
    "        l=l)"
   ]
  },
  {
   "cell_type": "markdown",
   "id": "fc1a7b3a",
   "metadata": {},
   "source": [
    "So for the desired number of classical bits $m$ the complete circuit for *IPE* algorithm will be:"
   ]
  },
  {
   "cell_type": "code",
   "execution_count": null,
   "id": "9d74cd00",
   "metadata": {},
   "outputs": [],
   "source": [
    "c = q_program.to_circ()\n",
    "%qatdisplay c --svg"
   ]
  },
  {
   "cell_type": "markdown",
   "id": "424900cd",
   "metadata": {},
   "source": [
    "#### 3.2.3 IQPE Algorithm Execution\n",
    "\n",
    "Once the myQLM program is constructed, the algorithm should be executed. For this purpose, the `run_qprogram` method of the class allows you to execute it. The following arguments should be provided:\n",
    "\n",
    "- `q_prog`: The complete QLM program containing the **IPE** algorithm.\n",
    "- `q_aux`: The auxiliary qubit used in the algorithm.\n",
    "- `shots`: The number of shots for the quantum job.\n",
    "- `linalg_qpu`: The QLM solver (e.g., a linear algebra-based quantum processing unit).\n",
    "\n",
    "This method creates the circuit, sets up the associated job, and executes it. The raw results of the simulation, along with the circuit, are returned."
   ]
  },
  {
   "cell_type": "code",
   "execution_count": null,
   "id": "f1e48c3a",
   "metadata": {},
   "outputs": [],
   "source": [
    "raw_results, circuit = iqpe_object.run_qprogram(\n",
    "    q_program,\n",
    "    iqpe_object.q_aux, 100, linalg_qpu=linalg_qpu)"
   ]
  },
  {
   "cell_type": "code",
   "execution_count": null,
   "id": "dbd99d60",
   "metadata": {},
   "outputs": [],
   "source": [
    "%qatdisplay circuit --svg"
   ]
  },
  {
   "cell_type": "markdown",
   "id": "0ddbb862",
   "metadata": {},
   "source": [
    "#### 3.2.4 IQPE: Getting Classical Bits Measurements\n",
    "\n",
    "As explained, the phase is estimated by obtaining the measurements of the classical bits. In the class, this is achieved using the `measure_classical_bits` method. The input to this method is the `raw_results` obtained from the `run_qprogram` method. \n",
    "\n",
    "The output is a pandas DataFrame containing the aggregated measurements of the classical bits, with the following columns:\n",
    "\n",
    "- `BitString`: The result of the classical bits measurement at each step of the algorithm.\n",
    "- `BitInt`: The integer representation of the `BitString`.\n",
    "- `Phi`: The estimated phase, computed as $\\frac{\\text{BitInt}}{2^{m}}$, where $m$ is the number of classical bits used for phase estimation.\n",
    "- `Frequency`: The frequency of the obtained `BitString`, calculated as the number of times the `BitString` appears divided by the total number of `shots`."
   ]
  },
  {
   "cell_type": "code",
   "execution_count": null,
   "id": "d9d8b8f4",
   "metadata": {},
   "outputs": [],
   "source": [
    "classical_bits = iqpe_object.measure_classical_bits(raw_results)"
   ]
  },
  {
   "cell_type": "code",
   "execution_count": null,
   "id": "68bdea40",
   "metadata": {},
   "outputs": [],
   "source": [
    "classical_bits"
   ]
  },
  {
   "cell_type": "markdown",
   "id": "147a56c6",
   "metadata": {},
   "source": [
    "The most important column fro the `classical_bits` DataFrame is the `Phi`one. Following the Qiskit example, this column corresponds to $\\varphi$, and the searched phase is given by: \n",
    "\n",
    "$$\n",
    "\\phi = 2\\pi\\varphi.\n",
    "$$ \n",
    "In the Qiskit example, $\\varphi = 0.25$.\n",
    "\n",
    "The `classical_bits` DataFrame provides the aggregated results for all executions of the circuit (determined by the variable `shots`)."
   ]
  },
  {
   "cell_type": "markdown",
   "id": "d3f75d8a",
   "metadata": {},
   "source": [
    "#### 3.2.5 IQPE: Post-Processing\n",
    "\n",
    "Typically, the phase in radians is provided in this type of phase estimation problem. To obtain this result, we use the `post_process` method. The `classical_bits` DataFrame should be provided as input, and the output will be another DataFrame with the following columns:\n",
    "\n",
    "- `BitString`: The result of the classical bits measurement at each step of the algorithm.\n",
    "- `BitInt`: The integer representation of the `BitString`.\n",
    "- `Phi`: The estimated phase, computed as $\\frac{\\text{BitInt}}{2^{c_b}}$, where $c_b$ is the number of classical bits.\n",
    "- `2*theta`: The phase of the unitary operator in radians, given by $2\\theta = 2\\pi\\varphi$. In this case, the phase of the unitary operator is calculated as twice an angle $\\theta$.\n",
    "- `theta`: Half of the phase of the unitary operator, given by $\\theta = \\pi\\varphi$.\n",
    "- `theta_90`: The value of $\\theta$ constrained to the interval $(0, \\frac{\\pi}{2})$.\n",
    "- `Frequency`: The frequency of each `BitString`.\n",
    "\n",
    "The returned DataFrame from `post_process` is ordered by decreasing values of the frequency, so the first row corresponds to the most frequent `BitString`, the second row to the second most frequent value, and so on.\n",
    "\n",
    "In this module, our convention when $|\\Psi\\rangle$ is an eigenstate of a unitary operator $\\mathcal{Q}$ is:\n",
    "$$\n",
    "\\mathcal{Q}|\\Psi\\rangle = e^{2i\\theta}|\\Psi\\rangle\n",
    "$$"
   ]
  },
  {
   "cell_type": "code",
   "execution_count": null,
   "id": "588c4f3e",
   "metadata": {},
   "outputs": [],
   "source": [
    "final_results = iqpe_object.post_proccess(classical_bits)"
   ]
  },
  {
   "cell_type": "code",
   "execution_count": null,
   "id": "ef4e256f",
   "metadata": {
    "scrolled": true
   },
   "outputs": [],
   "source": [
    "final_results"
   ]
  },
  {
   "cell_type": "markdown",
   "id": "ce1d5f17",
   "metadata": {},
   "source": [
    "### 3.3 Class IQPE: Complete Execution\n",
    "\n",
    "In Section 2.3, the complete algorithm was explained step by step. The methods described in that subsection were presented for pedagogical purposes only. **Users SHOULD NOT use these methods directly.** Instead, users **SHOULD USE** the `iqpe` method, which executes all the steps outlined in Section 2.2. \n",
    "\n",
    "When using this method, the following properties are populated:\n",
    "\n",
    "- `classical_bits`: A DataFrame containing the results of the `measure_classical_bits` method.\n",
    "- `final_results`: A DataFrame containing the results of the `post_process` method.\n",
    "\n",
    "Additionally, the `iqpe` method updates the `pdf_time` property of the class, where several elapsed times are stored."
   ]
  },
  {
   "cell_type": "code",
   "execution_count": null,
   "id": "49cafd3f",
   "metadata": {},
   "outputs": [],
   "source": [
    "n_cbits = 2\n",
    "#We create a python dictionary for configuration of class\n",
    "iqpe_dict = {\n",
    "    'initial_state': initial_state,\n",
    "    'unitary_operator': unitary_operator,\n",
    "    'qpu' : linalg_qpu,\n",
    "    'cbits_number' : n_cbits,  \n",
    "    'shots': 100\n",
    "}\n",
    "iqpe_object = IQPE(**iqpe_dict)\n",
    "iqpe_object.iqpe()"
   ]
  },
  {
   "cell_type": "code",
   "execution_count": null,
   "id": "c307c626",
   "metadata": {
    "scrolled": true
   },
   "outputs": [],
   "source": [
    "#classical_bits attribute\n",
    "iqpe_object.classical_bits"
   ]
  },
  {
   "cell_type": "code",
   "execution_count": null,
   "id": "4a18aa39",
   "metadata": {},
   "outputs": [],
   "source": [
    "#final_results attribute\n",
    "iqpe_object.final_results"
   ]
  },
  {
   "cell_type": "markdown",
   "id": "78d33226",
   "metadata": {},
   "source": [
    "The attribute circuit of the class stores the myQLM circuit created"
   ]
  },
  {
   "cell_type": "code",
   "execution_count": null,
   "id": "b26fd724",
   "metadata": {},
   "outputs": [],
   "source": [
    "c = iqpe_object.circuit\n",
    "%qatdisplay c --svg"
   ]
  },
  {
   "cell_type": "markdown",
   "id": "c90ad5ba",
   "metadata": {},
   "source": [
    "## 4.  IPE example with a 2-qubit gate\n",
    "\n",
    "We will now reproduce the Qiskit example from the section **IPE example with a 2-qubit gate** (available in [Qiskit Tutorials](https://github.com/Qiskit/qiskit-tutorials/blob/master/tutorials/algorithms/09_IQPE.ipynb)).\n",
    "\n",
    "In this scenario, the example uses **2 qubits** to estimate the phase of a unitary operator $\\mathcal{cT}$. This operator introduces a phase shift of $\\frac{\\pi}{4}$ radians specifically to the state $|11\\rangle$, leaving all other states unchanged. Mathematically, this behavior is expressed as:\n",
    "\n",
    "$$\n",
    "\\mathcal{cT} |11\\rangle = e^{i\\frac{\\pi}{4}} |11\\rangle.\n",
    "$$\n",
    "\n",
    "From the phase estimation convention, we can derive the relationship between the phase shift and the parameter $\\lambda$:\n",
    "\n",
    "$$\n",
    "i\\frac{\\pi}{4} = 2\\pi i \\lambda.\n",
    "$$\n",
    "\n",
    "Solving for $\\lambda$, we obtain:\n",
    "\n",
    "$$\n",
    "\\lambda = \\frac{1}{8}.\n",
    "$$\n",
    "\n",
    "This value of $\\lambda$ represents the desired solution for the phase estimation problem in this example.\n"
   ]
  },
  {
   "cell_type": "code",
   "execution_count": null,
   "id": "a78f9cd6",
   "metadata": {},
   "outputs": [],
   "source": [
    "#create initial state\n",
    "n_qbits = 2\n",
    "initial_state = qlm.QRoutine()\n",
    "q_bits = initial_state.new_wires(n_qbits)\n",
    "for i in range(n_qbits):\n",
    "    initial_state.apply(qlm.X, q_bits[i])"
   ]
  },
  {
   "cell_type": "code",
   "execution_count": null,
   "id": "57d75dca",
   "metadata": {},
   "outputs": [],
   "source": [
    "%qatdisplay initial_state --svg"
   ]
  },
  {
   "cell_type": "code",
   "execution_count": null,
   "id": "2d7d3ae7",
   "metadata": {},
   "outputs": [],
   "source": [
    "#Create cT operator\n",
    "unitary_operator = qlm.QRoutine()\n",
    "uq_qbits = unitary_operator.new_wires(n_qbits)\n",
    "unitary_operator.apply(qlm.PH(np.pi/4.0).ctrl(), 0, 1)"
   ]
  },
  {
   "cell_type": "code",
   "execution_count": null,
   "id": "663ee89d",
   "metadata": {},
   "outputs": [],
   "source": [
    "%qatdisplay unitary_operator --svg"
   ]
  },
  {
   "cell_type": "code",
   "execution_count": null,
   "id": "03baa3d8",
   "metadata": {},
   "outputs": [],
   "source": [
    "#now IPE!!\n",
    "n_cbits = 3\n",
    "#We create a python dictionary for configuration of class\n",
    "iqpe_dict = {\n",
    "    'initial_state': initial_state,\n",
    "    'unitary_operator': unitary_operator,\n",
    "    'qpu' : linalg_qpu,\n",
    "    'cbits_number' : n_cbits,  \n",
    "    'shots': 100\n",
    "}\n",
    "iqpe_object = IQPE(**iqpe_dict)"
   ]
  },
  {
   "cell_type": "code",
   "execution_count": null,
   "id": "2f45fc13",
   "metadata": {},
   "outputs": [],
   "source": [
    "iqpe_object.iqpe()"
   ]
  },
  {
   "cell_type": "code",
   "execution_count": null,
   "id": "354efd9b",
   "metadata": {},
   "outputs": [],
   "source": [
    "iqpe_object.classical_bits"
   ]
  },
  {
   "cell_type": "markdown",
   "id": "52dbd6d6",
   "metadata": {},
   "source": [
    "The result for $\\varphi=0.125$ that is the value obtained in the Qiskit example."
   ]
  },
  {
   "cell_type": "code",
   "execution_count": null,
   "id": "19f7f8ee",
   "metadata": {},
   "outputs": [],
   "source": [
    "c = iqpe_object.circuit\n",
    "%qatdisplay c --svg"
   ]
  },
  {
   "cell_type": "code",
   "execution_count": null,
   "id": "74c13e8b",
   "metadata": {},
   "outputs": [],
   "source": [
    "iqpe_object.final_results"
   ]
  },
  {
   "cell_type": "markdown",
   "id": "c5624363",
   "metadata": {},
   "source": [
    "## 5. Application to Amplitude Estimation\n",
    "\n",
    "The problem of amplitude estimation is the following. Given an oracle:\n",
    "\n",
    "$$\\mathcal{0}|0\\rangle = |\\Psi\\rangle = \\sqrt{a}|\\Psi_0\\rangle +\\sqrt{1-a}|\\Psi_1\\rangle,$$\n",
    "\n",
    "where $|\\Psi_0\\rangle$ and $|\\Psi_1\\rangle$ are orthogonal states, we want to estimate $\\sqrt{a}$.\n",
    "\n",
    "\n",
    "\n",
    "\n",
    "The *Iterative Quantum Phase Estimation* can be applied to *Amplitude Estimation* problem. The present section explains how we can take advantage of our **IQPE** class for this.\n",
    "\n",
    "First, we will define the following amplitude estimation problem:\n",
    "$$\n",
    "    \\begin{array}{l}\n",
    "    & |\\Psi\\rangle \\longrightarrow \\scriptstyle \\dfrac{1}{\\sqrt{0+1+2+3+4+5+6+7+8}}\\left[\\sqrt{0}|0\\rangle+\\sqrt{1}|1\\rangle+\\sqrt{2}|2\\rangle+\\sqrt{3}|3\\rangle+\\sqrt{4}|4\\rangle+\\sqrt{5}|5\\rangle+\\sqrt{6}|6\\rangle+\\sqrt{7}|7\\rangle\\right].\\\\\n",
    "    & \\sqrt{a}|\\Psi_0\\rangle \\longrightarrow \\dfrac{\\sqrt{1}}{\\sqrt{0+1+2+3+4+5+6+7+8}}|1\\rangle.\\\\\n",
    "    & \\sqrt{1-a}|\\Psi_1\\rangle \\longrightarrow \\scriptstyle \\dfrac{1}{\\sqrt{0+1+2+3+4+5+6+7+8}}\\left[\\sqrt{0}|0\\rangle+\\sqrt{2}|2\\rangle+\\sqrt{3}|3\\rangle+\\sqrt{4}|4\\rangle+\\sqrt{5}|5\\rangle+\\sqrt{6}|6\\rangle+\\sqrt{7}|7\\rangle\\right].\\\\\n",
    "    \\end{array}\n",
    "$$\n",
    "\n",
    "The following cells create the initial state $|\\Psi\\rangle$"
   ]
  },
  {
   "cell_type": "markdown",
   "id": "d0f93be2",
   "metadata": {},
   "source": [
    "## 5. Application to Amplitude Estimation\n",
    "\n",
    "The problem of **Amplitude Estimation** can be formulated as follows: Given an oracle operator $\\mathcal{A}$ with the following behavior:\n",
    "\n",
    "$$\n",
    "|\\Psi\\rangle = \\mathcal{A}|0\\rangle = \\sqrt{a}|\\Psi_0\\rangle + \\sqrt{1-a}|\\Psi_1\\rangle,\n",
    "$$\n",
    "\n",
    "where $|\\Psi_0\\rangle$ and $|\\Psi_1\\rangle$ are orthogonal states, our goal is to estimate $\\sqrt{a}$. \n",
    "\n",
    "The **IQPE** can be applied to **Amplitude Estimation** problem by doing the following steps:\n",
    "\n",
    "1. **Substitution**: Replace $\\sqrt{a}$ with $\\sin(\\theta)$:\n",
    "   $$\n",
    "   \\sqrt{a} = \\sin(\\theta).\n",
    "   $$\n",
    "\n",
    "2. **Rewriting the Oracle Operator**: The action of the oracle operator becomes:\n",
    "   $$\n",
    "   |\\Psi\\rangle = \\mathcal{A}|0\\rangle = \\sqrt{a}|\\Psi_0\\rangle + \\sqrt{1-a}|\\Psi_1\\rangle = \\sin(\\theta)|\\Psi_0\\rangle + \\cos(\\theta)|\\Psi_1\\rangle. \\tag{1}\n",
    "   $$\n",
    "\n",
    "3. **Creating the Grover-like Operator**: Construct the Grover-like operator for the oracle operator $\\mathcal{A}$:\n",
    "   $$\n",
    "   \\mathbf{G}(\\mathcal{A}) = \\mathcal{A} \\left(\\hat{I} - 2|0\\rangle\\langle 0|\\right) \\mathcal{A}^\\dagger \\left(\\hat{I} - 2|\\Psi_0\\rangle\\langle \\Psi_0|\\right).\n",
    "   $$\n",
    "\n",
    "With these substitutions, the **IQPE** algorithm can now be applied directly by replacing:\n",
    "\n",
    "$$\n",
    "\\begin{aligned}\n",
    "& |\\Psi\\rangle \\longrightarrow \\mathcal{A}|0\\rangle, \\\\\n",
    "& \\mathcal{Q} \\longrightarrow \\mathbf{G}(\\mathcal{A}).\n",
    "\\end{aligned}\n",
    "$$\n",
    "\n",
    "It can be demonstrated that the $\\mathbf{G}(\\mathcal{A})$ operator represents a rotation in the plane by an angle $2\\theta$, expressed as:\n",
    "\n",
    "$$\n",
    "\\mathbf{G}(\\mathcal{A}) =\n",
    "\\begin{pmatrix}\n",
    "\\cos(2\\theta) & -\\sin(2\\theta) \\\\\n",
    "\\sin(2\\theta) & \\cos(2\\theta)\n",
    "\\end{pmatrix}.\n",
    "$$\n",
    "\n",
    "Thus, the eigenvalues of $\\mathbf{G}(\\mathcal{A})$ are given by $e^{\\pm i2\\theta}$.\n",
    "Using the phase estimation convention:\n",
    "\n",
    "$$\n",
    "i2\\theta = 2\\pi i \\lambda,\n",
    "$$\n",
    "\n",
    "we arrive at:\n",
    "\n",
    "$$\n",
    "\\theta = \\pi \\lambda.\n",
    "$$\n"
   ]
  },
  {
   "cell_type": "markdown",
   "id": "99fde3a4",
   "metadata": {},
   "source": [
    "### 5.1 Using `IQPE` class for *Amplitude Estimation*\n",
    "\n",
    "In this section, we will demonstrate how to use the `IQPE` class to solve **Amplitude Estimation** problems.\n",
    "\n",
    "#### Defining the Amplitude Estimation Problem\n",
    "\n",
    "We begin by defining the following amplitude estimation problem:\n",
    "\n",
    "$$\n",
    "|\\Psi\\rangle = \\mathcal{A}|0\\rangle = \\frac{1}{\\sqrt{0+1+2+3+4+5+6+7+8}} \\left[\\sqrt{0}|0\\rangle + \\sqrt{1}|1\\rangle + \\sqrt{2}|2\\rangle + \\sqrt{3}|3\\rangle + \\sqrt{4}|4\\rangle + \\sqrt{5}|5\\rangle + \\sqrt{6}|6\\rangle + \\sqrt{7}|7\\rangle \\right]. \\tag{2}\n",
    "$$\n",
    "\n",
    "By comparing equation (2) with the general form of the state in equation (1):\n",
    "\n",
    "$$\n",
    "\\sqrt{a}|\\Psi_0\\rangle = \\sin(\\theta)|\\Psi_0\\rangle = \\frac{\\sqrt{1}}{\\sqrt{0+1+2+3+4+5+6+7+8}}|1\\rangle,\n",
    "$$\n",
    "\n",
    "and\n",
    "\n",
    "$$\n",
    "\\sqrt{1-a}|\\Psi_1\\rangle = \\cos(\\theta)|\\Psi_1\\rangle = \\frac{1}{\\sqrt{0+1+2+3+4+5+6+7+8}} \\left[\\sqrt{0}|0\\rangle + \\sqrt{2}|2\\rangle + \\sqrt{3}|3\\rangle + \\sqrt{4}|4\\rangle + \\sqrt{5}|5\\rangle + \\sqrt{6}|6\\rangle + \\sqrt{7}|7\\rangle \\right].\n",
    "$$\n",
    "\n",
    "Here:\n",
    "- The target state $|\\Psi_0\\rangle$ corresponds to $|1\\rangle$, and its amplitude is proportional to $\\sin(\\theta)$.\n",
    "- The remaining states collectively form $|\\Psi_1\\rangle$, with an amplitude proportional to $\\cos(\\theta)$.\n",
    "\n",
    "#### Creating the Initial State\n",
    "\n",
    "The subsequent cells will construct the initial state $|\\Psi\\rangle = \\mathcal{A}|0\\rangle$, which serves as the starting point for our amplitude estimation process. This involves loading the specified probability distribution into a quantum state using the appropriate functions from the library."
   ]
  },
  {
   "cell_type": "code",
   "execution_count": null,
   "id": "91ee7f59",
   "metadata": {},
   "outputs": [],
   "source": [
    "from QQuantLib.DL.data_loading import load_probability\n",
    "from QQuantLib.AA.amplitude_amplification import grover\n",
    "from QQuantLib.PE.iterative_quantum_pe import IQPE"
   ]
  },
  {
   "cell_type": "code",
   "execution_count": null,
   "id": "d30744a3",
   "metadata": {},
   "outputs": [],
   "source": [
    "n = 3\n",
    "N = 2**n\n",
    "x = np.arange(N)\n",
    "probability = x/np.sum(x)\n",
    "oracle = load_probability(probability)\n",
    "\n",
    "%qatdisplay oracle --depth 0 --svg"
   ]
  },
  {
   "cell_type": "markdown",
   "id": "6bff697c",
   "metadata": {},
   "source": [
    "Now we need to compute the Grover-like operator from the oracle operator $\\mathcal{A}$. The functions from `AA` module will be used (see notebook **02_Amplitude_Amplification_Operators.ipynb** for more information)"
   ]
  },
  {
   "cell_type": "code",
   "execution_count": null,
   "id": "9c97df50",
   "metadata": {},
   "outputs": [],
   "source": [
    "target = [0, 0, 1]\n",
    "index = range(oracle.arity)\n",
    "grover_gate = grover(oracle, target, index)\n",
    "#Comment before line and uncomment following for For multiplexor implementation of multi-controlled Z gate\n",
    "#grover_gate = grover(oracle, target, index, mcz_qlm=False)\n",
    "%qatdisplay grover_gate --depth  --svg"
   ]
  },
  {
   "cell_type": "markdown",
   "id": "317734bf",
   "metadata": {},
   "source": [
    "Now that we have translated our amplitude amplification problem into a phase estimation problem, we can proceed to use our class in the usual way. We provide the `oracle` as the **initial_state** and the corresponding Grover-like operator as the **unitary_operator**. \n",
    "\n",
    "Additionally, the number of classical bits,  `cbits_number` required for estimating the phase should also be specified."
   ]
  },
  {
   "cell_type": "code",
   "execution_count": null,
   "id": "fee4a72c",
   "metadata": {},
   "outputs": [],
   "source": [
    "n_cbits = 6\n",
    "#We create a python dictionary for configuration of class\n",
    "iqpe_dict = {\n",
    "    'initial_state': oracle,\n",
    "    'unitary_operator': grover_gate,\n",
    "    'qpu' : linalg_qpu,\n",
    "    'cbits_number' : n_cbits,  \n",
    "    'shots': 100\n",
    "}\n",
    "iqpe_object = IQPE(**iqpe_dict)\n",
    "iqpe_object.iqpe()"
   ]
  },
  {
   "cell_type": "code",
   "execution_count": null,
   "id": "6016d8f3",
   "metadata": {},
   "outputs": [],
   "source": [
    "iqpe_object.final_results"
   ]
  },
  {
   "cell_type": "code",
   "execution_count": null,
   "id": "a061fbf8",
   "metadata": {},
   "outputs": [],
   "source": [
    "#We can plot the obtained angles vs the its frequency\n",
    "plt.plot(\n",
    "    iqpe_object.final_results['theta_90'], \n",
    "    iqpe_object.final_results['Frequency'], 'o')\n",
    "plt.xlabel(r'$\\theta$')\n",
    "plt.xlim(0, 0.5*np.pi)\n",
    "plt.ylabel('Frecuency')\n",
    "plt.title(r'$\\theta \\in [0, \\frac{\\pi}{2}]$')"
   ]
  },
  {
   "cell_type": "markdown",
   "id": "2f66f32f",
   "metadata": {},
   "source": [
    "Last, we use the mapping $a = \\cos(\\theta)^2$ to obtain the result of our amplitude estimation problem."
   ]
  },
  {
   "cell_type": "code",
   "execution_count": null,
   "id": "08a19d0b",
   "metadata": {},
   "outputs": [],
   "source": [
    "theta_estimated = iqpe_object.final_results['theta_90'].iloc[0]\n",
    "print('Quantum result, theta_estimated: ', theta_estimated)\n",
    "a_estimated = np.cos(theta_estimated)**2\n",
    "print('Quantum result, a_estimated: ', a_estimated)\n",
    "print(\"Classical result: \",probability[1])"
   ]
  },
  {
   "cell_type": "code",
   "execution_count": null,
   "id": "3e2e4dd5",
   "metadata": {},
   "outputs": [],
   "source": [
    "print('Test OK: ', abs(probability[1]- a_estimated)< 0.005)"
   ]
  },
  {
   "cell_type": "code",
   "execution_count": null,
   "id": "bb2928fa",
   "metadata": {},
   "outputs": [],
   "source": [
    "c = iqpe_object.circuit\n",
    "%qatdisplay c --svg --depth 0"
   ]
  },
  {
   "cell_type": "markdown",
   "id": "c05570df",
   "metadata": {},
   "source": [
    "In order to increase the precision of the angle estimation more classical bits can be used"
   ]
  },
  {
   "cell_type": "markdown",
   "id": "302d4e68",
   "metadata": {},
   "source": [
    "## 6. Amplitude Estimation with IQPE\n",
    "\n",
    "\n",
    "In order to simplify **Amplitude Estimation** calculations performed with the `IQPE` (see Section 3)  the `IQPEAE` class (which stands for **I**terative **Q**uantum **P**hase **E**stimation **A**mplitude **Estimation**) was developed. This class addresses the initial complexities outlined in Section 5, enabling a more streamlined approach for using **IQPE** in *Amplitude Estimation* calculations. The `IQPEAE` class is implemented in the module **ae_iterative_quantum_pe** of the *Amplitude Estimation* package within the *QQuantLib* library (**QQuantLib/AE/ae_classical_qpe**).\n",
    "\n",
    "#### Note:\n",
    "The design of the `IQPEAE` class follows a similar structure to the `MLAE` class from the **QQuantLib/AE/maximum_likelihood_ae** module.\n",
    "\n",
    "To create an instance of the `IQPEAE` class, the following inputs are mandatory:\n",
    "\n",
    "1. `oracle`: A QLM `AbstractGate` or `QRoutine` that implements the oracle required for constructing the Grover operator.\n",
    "2. `target`: The marked state in its binary representation, specified as a Python list.\n",
    "3. `index`: A list of qubits that will be affected by the Grover operator.\n",
    "\n",
    "These inputs ensure that the class is properly configured for executing amplitude estimation tasks efficiently and accurately."
   ]
  },
  {
   "cell_type": "code",
   "execution_count": null,
   "id": "c45be24b",
   "metadata": {},
   "outputs": [],
   "source": [
    "from QQuantLib.DL.data_loading import load_probability"
   ]
  },
  {
   "cell_type": "code",
   "execution_count": null,
   "id": "34d6cbe8",
   "metadata": {},
   "outputs": [],
   "source": [
    "#Here we created the mandatory oracle\n",
    "n = 3\n",
    "N = 2**n\n",
    "x = np.arange(N)\n",
    "probability = x/np.sum(x)\n",
    "oracle = load_probability(probability)\n",
    "\n",
    "%qatdisplay oracle --depth 0 --svg\n",
    "\n",
    "#This will be the target state for grover and the list of qubits affected by Grover operator\n",
    "target = [0, 0, 1]\n",
    "index = range(oracle.arity)"
   ]
  },
  {
   "cell_type": "markdown",
   "id": "3a3b0fd9",
   "metadata": {},
   "source": [
    "Now that we have all the mandatory inputs, we can create the `IQPEAE` object. Following the conventions of the `MLAE` class, additional parameters can be provided through a Python dictionary. In this case, the following keys are available for configuration:\n",
    "\n",
    "\n",
    "* `cbits_number`: An integer specifying the number of classical bits needed for phase estimation.  \n",
    "- `shots`: The number of measurement shots to execute (default: 100).\n",
    "- `qpu`: The QPU solver to be used.\n",
    "- `mcz_qlm`: A boolean flag indicating whether to use the QLM multi-controlled Z gate (`True`, default) or the multiplexor implementation (`False`).\n",
    "\n",
    "These parameters allow users to customize the behavior of the `IQPEAE` class according to their specific requirements and computational resources."
   ]
  },
  {
   "cell_type": "code",
   "execution_count": null,
   "id": "cf755967",
   "metadata": {},
   "outputs": [],
   "source": [
    "from QQuantLib.AE.ae_iterative_quantum_pe import IQPEAE"
   ]
  },
  {
   "cell_type": "code",
   "execution_count": null,
   "id": "4cecaab1",
   "metadata": {},
   "outputs": [],
   "source": [
    "ae_iqpe_dict = {\n",
    "    'qpu': linalg_qpu,\n",
    "    'cbits_number': 4,\n",
    "    'shots': 10,\n",
    "    'mcz_qlm': True      \n",
    "}\n",
    "\n",
    "ae_iqpe = IQPEAE(\n",
    "    oracle=oracle,\n",
    "    target=target,\n",
    "    index=index, \n",
    "    **ae_iqpe_dict\n",
    ")"
   ]
  },
  {
   "cell_type": "markdown",
   "id": "2955cb2b",
   "metadata": {},
   "source": [
    "When instantiated the `IQPEAE` the *Grover* operator associated to the oracle operator is created. It can be access using attribute `_grover_oracle`."
   ]
  },
  {
   "cell_type": "code",
   "execution_count": null,
   "id": "21fecd69",
   "metadata": {},
   "outputs": [],
   "source": [
    "grover_circ = ae_iqpe._grover_oracle\n",
    "%qatdisplay grover_circ --depth --svg"
   ]
  },
  {
   "cell_type": "markdown",
   "id": "c6067d05",
   "metadata": {},
   "source": [
    "Now, the `ae_iqpe` object has all the mandatory inputs required to initialize and execute the `IQPE` class. The `run` method performs this step. \n",
    "\n",
    "Additionally, when the `run` method is executed, the following properties of the `IQPEAE` class are populated:\n",
    "\n",
    "- `iqpe_object`: This property is an instance of the `IQPE` class, initialized with the corresponding arguments created by the `IQPEAE` class.\n",
    "- `final_results`: These are the results obtained from the `iqpe` method of the `iqpe_object` property (see Section 2.3).\n",
    "- `theta`: The estimated $\\theta$ value obtained from the **IQPE** algorithm.\n",
    "- `ae`: The estimated solution of the *Amplitude Estimation* problem using the **IQPE** algorithm, given by $ a = \\cos^2(\\theta) $.\n",
    "- `run_time`: The elapsed time for the complete execution of the `run`  method."
   ]
  },
  {
   "cell_type": "code",
   "execution_count": null,
   "id": "481f5d10",
   "metadata": {},
   "outputs": [],
   "source": [
    "a_estimated = ae_iqpe.run()"
   ]
  },
  {
   "cell_type": "code",
   "execution_count": null,
   "id": "6b9b6ff3",
   "metadata": {},
   "outputs": [],
   "source": [
    "print('a_estimated = ',a_estimated) \n",
    "print('ae_iqpe.final_results= ', ae_iqpe.final_results)\n",
    "print('ae_iqpe.theta= ', ae_iqpe.theta)\n",
    "print('ae_iqpe.a= ', ae_iqpe.ae)\n",
    "print(\"Classical result: \",probability[1])"
   ]
  },
  {
   "cell_type": "code",
   "execution_count": null,
   "id": "d0d58555",
   "metadata": {},
   "outputs": [],
   "source": [
    "print('Test OK: ',np.abs(ae_iqpe.ae-probability[1])< 0.005)"
   ]
  },
  {
   "cell_type": "code",
   "execution_count": null,
   "id": "5bf5483c",
   "metadata": {},
   "outputs": [],
   "source": [
    "print(\"Elapsed time of a run method: \", ae_iqpe.run_time)"
   ]
  },
  {
   "cell_type": "markdown",
   "id": "3b9c3ebc",
   "metadata": {},
   "source": [
    "Of course the configuration of the algorithm can be changed by setting the attribute of the class an calling the *run* method again!!"
   ]
  },
  {
   "cell_type": "code",
   "execution_count": null,
   "id": "fc6d8503",
   "metadata": {},
   "outputs": [],
   "source": [
    "ae_iqpe.cbits_number = 10\n",
    "print(ae_iqpe.cbits_number)"
   ]
  },
  {
   "cell_type": "code",
   "execution_count": null,
   "id": "60925af1",
   "metadata": {},
   "outputs": [],
   "source": [
    "a_estimated = ae_iqpe.run()"
   ]
  },
  {
   "cell_type": "code",
   "execution_count": null,
   "id": "3d0d132c",
   "metadata": {},
   "outputs": [],
   "source": [
    "print('a_estimated = ',a_estimated) \n",
    "print('ae_pe_withQFT.theta= ', ae_iqpe.theta)\n",
    "print('ae_pe_withQFT.a= ', ae_iqpe.ae)\n",
    "print(\"Classical result: \",probability[1])"
   ]
  },
  {
   "cell_type": "code",
   "execution_count": null,
   "id": "f5f62f15",
   "metadata": {},
   "outputs": [],
   "source": [
    "print(\"Elapsed time of a run method: \", ae_iqpe.run_time)"
   ]
  },
  {
   "cell_type": "markdown",
   "id": "feb8acc0",
   "metadata": {},
   "source": [
    "The `run` method of the `IQPEAE` class creates and configures an object from the `IQPE` class. This object is stored in the `pe_iqpe` attribute of the `IQPEAE` class. All attributes and methods of the `IQPE` class can be accessed through this `pe_iqpe` attribute. For example, you can retrieve the complete quantum circuit that was executed!\n",
    "\n",
    "As explained earlier, the `iqpe_object` attribute of the `IQPEAE` class is an instance of the `IQPE` class. Therefore, all methods and attributes of the `IQPE` class can be accessed via the **iqpe_object** attribute, although this is **not recommended**.\n",
    "\n",
    "You can also access the quantum circuit used by the **IQPE** algorithm through these attributes."
   ]
  },
  {
   "cell_type": "code",
   "execution_count": null,
   "id": "69fb401f",
   "metadata": {},
   "outputs": [],
   "source": [
    "#First we access to the atribute tha stores the IterativeQuantumPE object\n",
    "attribute_ae_iqpe = ae_iqpe.iqpe_object\n",
    "\n",
    "#Then we take the circuit attribute from the PhaseEstimationwQFT object (see above in the notebook)\n",
    "c=attribute_ae_iqpe.circuit\n",
    "%qatdisplay c --svg --depth 0"
   ]
  },
  {
   "cell_type": "markdown",
   "id": "f7d0885d",
   "metadata": {},
   "source": [
    "When the `run` method is executed following class attributes are populated:\n",
    "\n",
    "* `circuit_statistics`: python dictionary with the complete statistical information of the circuit.\n",
    "* `oracle_calls`: number of total oracle calls for a complete execution of the algorithm\n",
    "* `max_oracle_depth`: maximum number of applications of the oracle for the complete execution of the algorithm."
   ]
  },
  {
   "cell_type": "code",
   "execution_count": null,
   "id": "e880b9fb",
   "metadata": {},
   "outputs": [],
   "source": [
    "ae_iqpe.circuit_statistics"
   ]
  },
  {
   "cell_type": "code",
   "execution_count": null,
   "id": "e58dec82",
   "metadata": {},
   "outputs": [],
   "source": [
    "#Total number of oracle calls\n",
    "print(\"The total number of the oracle calls for the IQPEAE was: {}\".format(ae_iqpe.oracle_calls))"
   ]
  },
  {
   "cell_type": "code",
   "execution_count": null,
   "id": "dc197db2",
   "metadata": {},
   "outputs": [],
   "source": [
    "#Number of maximum oracle applications\n",
    "ae_iqpe.max_oracle_depth"
   ]
  },
  {
   "cell_type": "code",
   "execution_count": null,
   "id": "295f848c",
   "metadata": {},
   "outputs": [],
   "source": [
    "ae_iqpe.quantum_times"
   ]
  },
  {
   "cell_type": "code",
   "execution_count": null,
   "id": "595e01ad",
   "metadata": {},
   "outputs": [],
   "source": [
    "ae_iqpe.quantum_time"
   ]
  }
 ],
 "metadata": {
  "kernelspec": {
   "display_name": "Python 3 (ipykernel)",
   "language": "python",
   "name": "python3"
  },
  "language_info": {
   "codemirror_mode": {
    "name": "ipython",
    "version": 3
   },
   "file_extension": ".py",
   "mimetype": "text/x-python",
   "name": "python",
   "nbconvert_exporter": "python",
   "pygments_lexer": "ipython3",
   "version": "3.9.9"
  }
 },
 "nbformat": 4,
 "nbformat_minor": 5
}
