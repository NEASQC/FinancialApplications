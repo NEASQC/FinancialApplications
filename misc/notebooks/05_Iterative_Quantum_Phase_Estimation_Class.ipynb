{
 "cells": [
  {
   "cell_type": "markdown",
   "id": "91740961",
   "metadata": {},
   "source": [
    "# Iterative Quantum Phase Estimation (IQPE) module"
   ]
  },
  {
   "cell_type": "markdown",
   "id": "c4f4d8f0",
   "metadata": {},
   "source": [
    "The present notebook reviews the **Iterative Quantum Phase Estimation** (**IQPE**) algorithm which allows the estimation of the phase of a unitary operator without the use of the **Quantum Fourier Transform**. This **IQPE** was developed into module *iterative_quantum_pe* of the package *PE*  of the present library *QQuantLib* (**QQuantLib/PE/iterative_quantum_pe.py**). \n",
    "\n",
    "This **IQPE** algorithm was developed as a Python class called: *IQPE* inside the **QQuantLib/PE/iterative_quantum_pe.py**."
   ]
  },
  {
   "cell_type": "markdown",
   "id": "f57f5478",
   "metadata": {},
   "source": [
    "The present notebook and module are based on the following references:\n",
    "\n",
    "* *Dobšíček, Miroslav and Johansson, Göran and Shumeiko, Vitaly and Wendin, Göran*. Arbitrary accuracy iterative quantum phase estimation algorithm using a single ancillary qubit: A two-qubit benchmark. Physical Review A 3(76), 2007. https://arxiv.org/abs/quant-ph/0610214\n",
    "\n",
    "* *Griffiths, Robert B. and Niu, Chi-Sheng*. Semiclassical Fourier Transform for Quantum Computation. Physical Review Letters, 17 (76), 1996. https://arxiv.org/abs/quant-ph/9511007\n",
    "\n",
    "* *A. Y. Kitaev*. Quantum measurements and the Abelian stabilizer problem. Electronic Colloquium on Computational Complexity, 3(3):1–22, 1996. https://arxiv.org/abs/quant-ph/9511026\n",
    "\n",
    "* *Monz, Thomas and Nigg, Daniel and Martinez, Esteban A. and Brandl, Matthias F. and Schindler, Philipp and Rines, Richard and Wang, Shannon X. and Chuang, Isaac L. and Blatt, Rainer*. Realization of a scalable Shor algorithm. Science 6277 (351). 2016. https://arxiv.org/abs/1507.08852"
   ]
  },
  {
   "cell_type": "code",
   "execution_count": null,
   "id": "3f6029d9",
   "metadata": {},
   "outputs": [],
   "source": [
    "import sys\n",
    "sys.path.append(\"../../\")"
   ]
  },
  {
   "cell_type": "code",
   "execution_count": null,
   "id": "56c42b50",
   "metadata": {},
   "outputs": [],
   "source": [
    "import numpy as np\n",
    "import pandas as pd\n",
    "import matplotlib.pyplot as plt\n",
    "import qat.lang.AQASM as qlm"
   ]
  },
  {
   "cell_type": "code",
   "execution_count": null,
   "id": "67d69543",
   "metadata": {
    "scrolled": true
   },
   "outputs": [],
   "source": [
    "%matplotlib inline"
   ]
  },
  {
   "cell_type": "markdown",
   "id": "147202cf",
   "metadata": {},
   "source": [
    "### BE AWARE myqlm 1.7.1 have problems with CLinalg and Intermediate Measurements. Please DO NOT USE CLinalg (c QPU) in this notebook."
   ]
  },
  {
   "cell_type": "code",
   "execution_count": null,
   "id": "8e8cf3ca",
   "metadata": {
    "scrolled": true
   },
   "outputs": [],
   "source": [
    "#This cell loads the QLM solver. QPU = [qlmass, python, c]\n",
    "from QQuantLib.utils.qlm_solver import get_qpu\n",
    "QPU = [\"qlmass\", \"python\", \"c\"]\n",
    "linalg_qpu = get_qpu(QPU[2])"
   ]
  },
  {
   "cell_type": "markdown",
   "id": "d3c17b2d",
   "metadata": {},
   "source": [
    "## 1. Initial Inputs"
   ]
  },
  {
   "cell_type": "markdown",
   "id": "c7cdcc17",
   "metadata": {},
   "source": [
    "For using the *IQPE* python class inside the **QQuantLib/PE/iterative_quantum_pe** module 2 mandatory QLM objects should be provided:\n",
    "\n",
    "* 1. Initial State: this will be the initial quantum state needed for applying the Unitary Operator.\n",
    "* 2. Unitary operator: the operator whose phase we want to estimate.\n",
    "\n",
    "To explain how the *IterativeQuantumPE* class works we are going to use the **IQPE** example from the Qiskit textbook:\n",
    "\n",
    "https://qiskit.org/textbook/ch-labs/Lab04_IterativePhaseEstimation.html\n",
    "\n",
    "https://github.com/Qiskit/qiskit-tutorials/blob/master/tutorials/algorithms/09_IQPE.ipynb\n",
    "\n",
    "We are going to reproduce the section **IPE example with a 1-qubit gate for U** from the Qiskit example"
   ]
  },
  {
   "cell_type": "code",
   "execution_count": null,
   "id": "020cdbc6",
   "metadata": {},
   "outputs": [],
   "source": [
    "#Number Of Qbits\n",
    "n_qbits = 1"
   ]
  },
  {
   "cell_type": "markdown",
   "id": "ea46b380",
   "metadata": {},
   "source": [
    "### 1. Initial State"
   ]
  },
  {
   "cell_type": "markdown",
   "id": "47b0209a",
   "metadata": {},
   "source": [
    "Initial State can be:\n",
    "1. QLM QRoutine\n",
    "2. QLM gate (or abstract gate)\n",
    "\n",
    "In the Qiskit example, the initial state will be $|1\\rangle$. \n",
    "\n",
    "The following cell creates this initial state:"
   ]
  },
  {
   "cell_type": "code",
   "execution_count": null,
   "id": "b532fe74",
   "metadata": {},
   "outputs": [],
   "source": [
    "initial_state = qlm.QRoutine()\n",
    "q_bits = initial_state.new_wires(n_qbits)\n",
    "for i in range(n_qbits):\n",
    "    initial_state.apply(qlm.X, q_bits[i])"
   ]
  },
  {
   "cell_type": "code",
   "execution_count": null,
   "id": "7ea6baae",
   "metadata": {
    "scrolled": true
   },
   "outputs": [],
   "source": [
    "%qatdisplay initial_state --svg"
   ]
  },
  {
   "cell_type": "markdown",
   "id": "131043e7",
   "metadata": {},
   "source": [
    "### 2. Unitary operator."
   ]
  },
  {
   "cell_type": "markdown",
   "id": "3e2c5873",
   "metadata": {},
   "source": [
    "The unitary operator can be:\n",
    "\n",
    "1. QLM QRoutine\n",
    "2. QLM gate (or abstract gate)\n",
    "\n",
    "In the Qiskit example, the unitary operator is the $\\mathcal{S}$ gate. So the application of the unitary operator over the initial state will be:\n",
    "\n",
    "$$\\mathcal{S}|1\\rangle = e^{i\\frac{\\pi}{2}}|1\\rangle$$"
   ]
  },
  {
   "cell_type": "code",
   "execution_count": null,
   "id": "43667149",
   "metadata": {},
   "outputs": [],
   "source": [
    "unitary_operator = qlm.PH(np.pi/2.0)  "
   ]
  },
  {
   "cell_type": "code",
   "execution_count": null,
   "id": "8daa3929",
   "metadata": {},
   "outputs": [],
   "source": [
    "%qatdisplay unitary_operator --svg"
   ]
  },
  {
   "cell_type": "markdown",
   "id": "0d586763",
   "metadata": {},
   "source": [
    "## 2. Class IQPE: algorithm step by step "
   ]
  },
  {
   "cell_type": "markdown",
   "id": "cf18d7f8",
   "metadata": {},
   "source": [
    "The problem of phase estimation can be stated as follows. Given an initial state $\\left|\\Psi \\right\\rangle$ and a phase operator $\\mathcal{P}$ such that:\n",
    "\n",
    "$$\\mathcal{P}\\left|\\Psi \\right\\rangle = e^{2\\pi i\\lambda}\\left|\\Psi \\right\\rangle,$$\n",
    "\n",
    "our goal is estimating $\\lambda$."
   ]
  },
  {
   "cell_type": "markdown",
   "id": "493af5b5",
   "metadata": {},
   "source": [
    "So far we have the initial state $\\left|\\Psi \\right\\rangle = |1\\rangle$ and the unitary operator whose phase we want to estimate $\\mathcal{P} = \\mathcal{S}$. In this section, we are going to describe the class step by step and explain the basics of the **IPE** algorithm"
   ]
  },
  {
   "cell_type": "markdown",
   "id": "e914b883",
   "metadata": {},
   "source": [
    "### 2.1 Calling the **IQPE** class\n",
    "\n",
    "The *IterativeQuantumPE* is inside **QQuantLib/PE/iterative_quantum_pe** module. \n",
    "\n",
    "To instantiate the class we need to provide a Python dictionary. Mandatory keys are:\n",
    "\n",
    "* initial_state : QLM routine or gate with an initial state $|\\Psi\\rangle$ was loaded. \n",
    "* unitary_operator :  QLM gate or routine with a Unitary operator ready to be applied to initial state $|\\Psi\\rangle$.\n",
    "\n",
    "Other important keys are:\n",
    "\n",
    "* cbits_number : int with the number of classical bits needed for phase estimation\n",
    "* qpu : QLM solver. If not provided class try to create a PyLinalg solver. It is recommended to give this key to the class.\n",
    "* shots : int number of shots for the quantum job."
   ]
  },
  {
   "cell_type": "code",
   "execution_count": null,
   "id": "93dc78fd",
   "metadata": {},
   "outputs": [],
   "source": [
    "#Load Class\n",
    "from QQuantLib.PE.iterative_quantum_pe import IQPE"
   ]
  },
  {
   "cell_type": "code",
   "execution_count": null,
   "id": "c558b074",
   "metadata": {},
   "outputs": [],
   "source": [
    "n_cbits = 2\n",
    "#We create a python dictionary for configuration of class\n",
    "iqpe_dict = {\n",
    "    'initial_state': initial_state,\n",
    "    'unitary_operator': unitary_operator,\n",
    "    'qpu' : linalg_qpu,\n",
    "    'cbits_number' : n_cbits,\n",
    "}\n",
    "iqpe_object = IQPE(**iqpe_dict)"
   ]
  },
  {
   "cell_type": "markdown",
   "id": "3e8af83a",
   "metadata": {},
   "source": [
    "When the class is instantiated the properties *initial_state* and *q_gate* are overwritten with the given keys **initial_state** and **unitary_operator** respectively"
   ]
  },
  {
   "cell_type": "code",
   "execution_count": null,
   "id": "720f6786",
   "metadata": {},
   "outputs": [],
   "source": [
    "c = iqpe_object.initial_state\n",
    "%qatdisplay c --svg"
   ]
  },
  {
   "cell_type": "code",
   "execution_count": null,
   "id": "f5349a22",
   "metadata": {},
   "outputs": [],
   "source": [
    "a = iqpe_object.q_gate \n",
    "%qatdisplay a --depth 2 --svg"
   ]
  },
  {
   "cell_type": "markdown",
   "id": "c3ba441c",
   "metadata": {},
   "source": [
    "### 2.2 IPE Algorithm step by step\n",
    "\n",
    "Now we are going to review step by step the **IPE** algorithm using different programmed methods of the **IterativeQuantumPE** class"
   ]
  },
  {
   "cell_type": "markdown",
   "id": "383ffac5",
   "metadata": {},
   "source": [
    "#### 2.2.1. Initialize the quantum program.\n",
    "\n",
    "The first thing is calling the method **init_iqpe**. The following actions are done by this method:\n",
    "1. Creation of QLM program from *initial_state* QLM routine (or AbstractGate). The QLM program is stored in the *q_prog* property.\n",
    "2. Allocation of an auxiliary qubit is mandatory for the **IPE** algorithm. It is stored in the *q_aux* property.\n",
    "3. Allocation of the auxiliary classical bits where the estimated phase will be stored. Property: *c_bits*."
   ]
  },
  {
   "cell_type": "code",
   "execution_count": null,
   "id": "31b2b0b3",
   "metadata": {},
   "outputs": [],
   "source": [
    "#Initialize the quantum program\n",
    "iqpe_object.init_iqpe()"
   ]
  },
  {
   "cell_type": "code",
   "execution_count": null,
   "id": "57d9c3ba",
   "metadata": {},
   "outputs": [],
   "source": [
    "#Now we have the initial quantum program stored in the property q_prog\n",
    "#Additionally a auxiliary qubit bits was allocated\n",
    "circuit = iqpe_object.q_prog.to_circ(submatrices_only=True)\n",
    "\n",
    "%qatdisplay circuit --depth 0 --svg"
   ]
  },
  {
   "cell_type": "markdown",
   "id": "75deafbc",
   "metadata": {},
   "source": [
    "#### 2.2.2. IQPE Algorithm"
   ]
  },
  {
   "cell_type": "markdown",
   "id": "aba65dea",
   "metadata": {},
   "source": [
    "We are going to decompose the **IQPE** algorithm in 2 parts. A first part where the main variable $l$ will be 0 ($l=0$) and a second recursive part where the variable $l$ will be greater than 0 ($l\\gt 0$)."
   ]
  },
  {
   "cell_type": "markdown",
   "id": "a8de4522",
   "metadata": {},
   "source": [
    "#### First Part ($l=0$)\n",
    "\n",
    "The first step of the IPE algorithm ($l=0$) has the following parts:\n",
    "\n",
    "1. Reset the auxiliary qubit\n",
    "2. Apply a Hadamard gate to the auxiliary qubit\n",
    "3. Apply the phase operator $\\mathcal{P}$ controlled by auxiliary the qubit $2^{m-1}$ ($\\mathcal{P} ^{2^{m-1}}$) times. Here $m$ is the number of classical qubits allocated for estimating $\\theta$ \n",
    "4. Apply a Hadamard gate to the auxiliary qubit\n",
    "5. Measuring the auxiliary qubit and storing the result into a classical bit array in position $c_l$ ($l=0$)\n",
    "\n",
    "This can be done by calling the *step_iqpe* method with the following arguments:\n",
    "\n",
    "* Quantum Program with initial_state\n",
    "* Quantum Routine or AbstractGate with phase operator $\\mathcal{P}$\n",
    "* Auxiliary Qubit\n",
    "* Auxiliary classical bits\n",
    "* l=0\n",
    "\n",
    "This *step_iqpe* method returns the quantum program with the operations explained in this part."
   ]
  },
  {
   "cell_type": "code",
   "execution_count": null,
   "id": "65d4c91d",
   "metadata": {},
   "outputs": [],
   "source": [
    "q_program = iqpe_object.q_prog\n",
    "q_program = iqpe_object.step_iqpe(\n",
    "    q_program, \n",
    "    iqpe_object.q_gate,\n",
    "    iqpe_object.q_aux,\n",
    "    iqpe_object.c_bits, \n",
    "    l=0\n",
    ")"
   ]
  },
  {
   "cell_type": "markdown",
   "id": "aaa42299",
   "metadata": {},
   "source": [
    "Following cell show the first  part of the circuit"
   ]
  },
  {
   "cell_type": "code",
   "execution_count": null,
   "id": "2cccd401",
   "metadata": {},
   "outputs": [],
   "source": [
    "c = q_program.to_circ()\n",
    "%qatdisplay c --svg"
   ]
  },
  {
   "cell_type": "markdown",
   "id": "41e20eba",
   "metadata": {},
   "source": [
    "#### Second or iterative Part ($l \\gt 0$)\n",
    "\n",
    "This part of the algorithm is recursive. The following steps will be repeated for each value of $l=1,2,..m-1$ (m is the number of classical bits for codifying the phase)\n",
    "\n",
    "1. Reset the auxiliary qubit\n",
    "2. Apply a Hadamard gate to the auxiliary qubit\n",
    "3. Apply the phase operator $\\mathcal{P}$ controlled by the auxiliary qubit $2^{m-1-l}$ ($\\mathcal{Q}^{2^{m-1-l}}$) times, being $m$ is the number of classical bits allocated for estimating $\\theta$.\n",
    "4. Apply on the auxiliary qubit a set of controlled rotations by $c_j$ classical bit of angle: $\\frac{\\pi}{2}\\frac{1}{2^{l-j-1}}$ with $j=0,1,..l-1$. \n",
    "4. Apply a Hadamard gate to the auxiliary qubit\n",
    "5. Measuring the auxiliary qubit and storing the result into a classical bit array in position $c_l$\n",
    "\n",
    "So for a $l$ step de controlled by classical bits rotation will depend on the measurements done on the before $l$ steps.\n",
    "\n",
    "In the following cell we explain how to create the algorithm for the $l=1$ part:"
   ]
  },
  {
   "cell_type": "code",
   "execution_count": null,
   "id": "adfe2b33",
   "metadata": {},
   "outputs": [],
   "source": [
    "#here we do the step l=1\n",
    "l=1\n",
    "q_program = iqpe_object.step_iqpe(\n",
    "    q_program, \n",
    "    iqpe_object.q_gate, \n",
    "    iqpe_object.q_aux,\n",
    "    iqpe_object.c_bits, \n",
    "    l=l)"
   ]
  },
  {
   "cell_type": "markdown",
   "id": "7c4239e5",
   "metadata": {},
   "source": [
    "Now we can plot the circuit we have until the moment"
   ]
  },
  {
   "cell_type": "code",
   "execution_count": null,
   "id": "b20cc6fb",
   "metadata": {
    "scrolled": true
   },
   "outputs": [],
   "source": [
    "#Circuit for l=0 and l=1\n",
    "c = q_program.to_circ()\n",
    "%qatdisplay c --svg"
   ]
  },
  {
   "cell_type": "markdown",
   "id": "1efbc6bf",
   "metadata": {},
   "source": [
    "####  Complete algorithm\n",
    "\n",
    "For a complete **IPE** algorithm following steps should be done:\n",
    "\n",
    "1. Create the First part of the algorithm $l=0$.\n",
    "2. Iterate the second part of the algorithm from  $l=1$ to $l=m-1$ where m is the number of classical bits for estimating the phase\n",
    "\n",
    "The measured classical bits are used for estimating the phase of the unitary operator\n",
    "\n",
    "The following cell creates the complete program for the **IQPE** algorithm"
   ]
  },
  {
   "cell_type": "code",
   "execution_count": null,
   "id": "90aef978",
   "metadata": {},
   "outputs": [],
   "source": [
    "#Initialize the quantum program\n",
    "iqpe_object.init_iqpe()\n",
    "q_program = iqpe_object.q_prog\n",
    "for l in range(len(iqpe_object.c_bits)):\n",
    "    q_program = iqpe_object.step_iqpe(\n",
    "        q_program, \n",
    "        iqpe_object.q_gate,\n",
    "        iqpe_object.q_aux,\n",
    "        iqpe_object.c_bits,\n",
    "        l=l)"
   ]
  },
  {
   "cell_type": "markdown",
   "id": "fc1a7b3a",
   "metadata": {},
   "source": [
    "So for the desired number of classical bits $m$ the complete circuit for *IPE* algorithm will be:"
   ]
  },
  {
   "cell_type": "code",
   "execution_count": null,
   "id": "9d74cd00",
   "metadata": {},
   "outputs": [],
   "source": [
    "c = q_program.to_circ()\n",
    "%qatdisplay c --svg"
   ]
  },
  {
   "cell_type": "markdown",
   "id": "a45755a0",
   "metadata": {},
   "source": [
    "#### 2.2.3. IQPE Algorithm execution\n",
    "\n",
    "Once the QLM program is constructed the algorithm should be executed. For this the *run* method from the class allow to execute it. The following arguments should  be provided:\n",
    "\n",
    "* q_prog : with the complete *IPE* algorithm\n",
    "* q_aux : the auxiliary qubit \n",
    "* shots \n",
    "* linalg_qpu: QLM solver\n",
    "\n",
    "This method creates the circuit, and the associated job and executes it. The raw results of the simulation and the circuit are returned\n"
   ]
  },
  {
   "cell_type": "code",
   "execution_count": null,
   "id": "f1e48c3a",
   "metadata": {},
   "outputs": [],
   "source": [
    "raw_results, circuit = iqpe_object.run_qprogram(\n",
    "    q_program,\n",
    "    iqpe_object.q_aux, 100, linalg_qpu=linalg_qpu)"
   ]
  },
  {
   "cell_type": "code",
   "execution_count": null,
   "id": "dbd99d60",
   "metadata": {},
   "outputs": [],
   "source": [
    "%qatdisplay circuit --svg"
   ]
  },
  {
   "cell_type": "markdown",
   "id": "97aacc02",
   "metadata": {},
   "source": [
    "#### 2.2.4. IPE: getting classical bits measurements\n",
    "\n",
    "As explained the phase will be estimated by getting the measurements of the classical bits. In the class, this is done by the **measure_classical_bits** method. The input of this method is the *raw_results* from the *run_qprogram* method. The output will be a pandas DataFrame with the aggregated measurement of the classical bits with the following columns:\n",
    "\n",
    "* **BitString**: is the result of the classical bits measurement in each step of the algorithm\n",
    "* **BitInt**: integer representation of the **BitString**\n",
    "* **Phi**: is the estimated obtained phase and it is computed as $\\frac{BitInt}{2^{m}}$ where $m$ is the number of classical bits used for phase estimation\n",
    "* **Frequency**: frequency of the obtained **BitString** (number of times the **BitString** divide by the number of shots)"
   ]
  },
  {
   "cell_type": "code",
   "execution_count": null,
   "id": "d9d8b8f4",
   "metadata": {},
   "outputs": [],
   "source": [
    "classical_bits = iqpe_object.measure_classical_bits(raw_results)"
   ]
  },
  {
   "cell_type": "code",
   "execution_count": null,
   "id": "68bdea40",
   "metadata": {},
   "outputs": [],
   "source": [
    "classical_bits"
   ]
  },
  {
   "cell_type": "markdown",
   "id": "147a56c6",
   "metadata": {},
   "source": [
    "From *classical_bits* pdf the important column is **Phi**. Following the Qiskit example, this column is $\\varphi$ and the searched phase is: $\\phi=2\\pi\\varphi$. In the Qiskit example $\\varphi=0.25$. \n",
    "\n",
    "The *classical_bits* DataFrame gives the aggregated results for all executions of the circuit (variable *shots*). "
   ]
  },
  {
   "cell_type": "markdown",
   "id": "f749c91c",
   "metadata": {},
   "source": [
    "#### 2.2.5. IPE: post-processing\n",
    "\n",
    "Typically the phase in radians is provided in this kind of phase estimation problem. To get this result we use the *post_proccess*. The *classical_bits* should be provided and the output will be another DataFrame with the following columns:\n",
    "\n",
    "* **BitString**: is the result of the classical bits measurement in each step of the algorithm\n",
    "* **BitInt**: integer representation of the **BitString**\n",
    "* **Phi**: is the estimated obtained phase and it is computed as $\\frac{BitInt}{2^{c_b}}$ where $c_b$ is the number of classical bits \n",
    "* **2*theta**: this is the phase of the unitary operator in radians: $2\\theta = 2\\pi\\varphi$. In this case, we calculate the phase of the unitary operator as the double of an angle $\\theta$.\n",
    "* **theta**: this is the half of the phase of the unitary operator: $\\theta = \\pi\\varphi$\n",
    "* **theta_90**: is the $\\theta$ between $(0, \\frac{\\pi}{2}$)\n",
    "* **Frequency**: Frequency of each **BitString**\n",
    "\n",
    "The returned DataFrame from *post_proccess* was ordered by decreasing values of the frequency (so the first row is for the most frequent **BitString**, the second row for the second most frequent value and so on)\n",
    "\n",
    "In this module our convention when $|\\Psi\\rangle $ is an eigenvalue of an unitary operator $\\mathcal{Q}$ is:\n",
    "\n",
    "$$\\mathcal{Q}|\\Psi\\rangle = e^{2i\\theta}|\\Psi\\rangle$$"
   ]
  },
  {
   "cell_type": "code",
   "execution_count": null,
   "id": "588c4f3e",
   "metadata": {},
   "outputs": [],
   "source": [
    "final_results = iqpe_object.post_proccess(classical_bits)"
   ]
  },
  {
   "cell_type": "code",
   "execution_count": null,
   "id": "ef4e256f",
   "metadata": {
    "scrolled": true
   },
   "outputs": [],
   "source": [
    "final_results"
   ]
  },
  {
   "cell_type": "markdown",
   "id": "aeedbf15",
   "metadata": {},
   "source": [
    "### 2.3. Class IQPE: complete execution"
   ]
  },
  {
   "cell_type": "markdown",
   "id": "c004c1e3",
   "metadata": {},
   "source": [
    "In section 2.2 the complete algorithm step by step was explained. The methods shown in this sub-section were shown only for pedagogical purposes but users **SHOULD NOT** use these methods. Instead of these methods user **SHOULD USE** the **iqpe** where all the steps explained in section 2.2 are executed. When using this *method* the following properties are populated:\n",
    "\n",
    "\n",
    "* *classical_bits*: the DataFrame with the result of the *measure_classical_bits* method.\n",
    "* *final_results*: the DataFrame with the result of the *post_proccess* method.\n",
    "\n",
    "Additionally, the **iqpe** method overwrites the *pdf_time* property of the class where several elapsed times are stored"
   ]
  },
  {
   "cell_type": "code",
   "execution_count": null,
   "id": "49cafd3f",
   "metadata": {},
   "outputs": [],
   "source": [
    "n_cbits = 2\n",
    "#We create a python dictionary for configuration of class\n",
    "iqpe_dict = {\n",
    "    'initial_state': initial_state,\n",
    "    'unitary_operator': unitary_operator,\n",
    "    'qpu' : linalg_qpu,\n",
    "    'cbits_number' : n_cbits,  \n",
    "    'shots': 100\n",
    "}\n",
    "iqpe_object = IQPE(**iqpe_dict)\n",
    "iqpe_object.iqpe()"
   ]
  },
  {
   "cell_type": "code",
   "execution_count": null,
   "id": "c307c626",
   "metadata": {
    "scrolled": true
   },
   "outputs": [],
   "source": [
    "#classical_bits attribute\n",
    "iqpe_object.classical_bits"
   ]
  },
  {
   "cell_type": "code",
   "execution_count": null,
   "id": "4a18aa39",
   "metadata": {},
   "outputs": [],
   "source": [
    "#final_results attribute\n",
    "iqpe_object.final_results"
   ]
  },
  {
   "cell_type": "markdown",
   "id": "78d33226",
   "metadata": {},
   "source": [
    "The attribute circuit of the class stores the qlm circuit created"
   ]
  },
  {
   "cell_type": "code",
   "execution_count": null,
   "id": "b26fd724",
   "metadata": {},
   "outputs": [],
   "source": [
    "c = iqpe_object.circuit\n",
    "%qatdisplay c --svg"
   ]
  },
  {
   "cell_type": "markdown",
   "id": "c90ad5ba",
   "metadata": {},
   "source": [
    "## Another Example\n",
    "\n",
    "We are going to reproduce now the Qiskit example under the section *IPE example with a 2-qubit gate* (in https://github.com/Qiskit/qiskit-tutorials/blob/master/tutorials/algorithms/09_IQPE.ipynb). \n",
    "\n",
    "In this case, they use 2 qubits and want to estimate the phase for a unitary operator $\\mathcal{cT}$ operator. this operator adds a $\\frac{\\pi}{4}$ phase to state $|11\\rangle$ and leave unchanged other states. \n"
   ]
  },
  {
   "cell_type": "code",
   "execution_count": null,
   "id": "a78f9cd6",
   "metadata": {},
   "outputs": [],
   "source": [
    "#create initial state\n",
    "n_qbits = 2\n",
    "initial_state = qlm.QRoutine()\n",
    "q_bits = initial_state.new_wires(n_qbits)\n",
    "for i in range(n_qbits):\n",
    "    initial_state.apply(qlm.X, q_bits[i])"
   ]
  },
  {
   "cell_type": "code",
   "execution_count": null,
   "id": "57d75dca",
   "metadata": {},
   "outputs": [],
   "source": [
    "%qatdisplay initial_state --svg"
   ]
  },
  {
   "cell_type": "code",
   "execution_count": null,
   "id": "2d7d3ae7",
   "metadata": {},
   "outputs": [],
   "source": [
    "#Create cT operator\n",
    "unitary_operator = qlm.QRoutine()\n",
    "uq_qbits = unitary_operator.new_wires(n_qbits)\n",
    "unitary_operator.apply(qlm.PH(np.pi/4.0).ctrl(), 0, 1)"
   ]
  },
  {
   "cell_type": "code",
   "execution_count": null,
   "id": "663ee89d",
   "metadata": {},
   "outputs": [],
   "source": [
    "%qatdisplay unitary_operator --svg"
   ]
  },
  {
   "cell_type": "code",
   "execution_count": null,
   "id": "03baa3d8",
   "metadata": {},
   "outputs": [],
   "source": [
    "#now IPE!!\n",
    "n_cbits = 3\n",
    "#We create a python dictionary for configuration of class\n",
    "iqpe_dict = {\n",
    "    'initial_state': initial_state,\n",
    "    'unitary_operator': unitary_operator,\n",
    "    'qpu' : linalg_qpu,\n",
    "    'cbits_number' : n_cbits,  \n",
    "    'shots': 100\n",
    "}\n",
    "iqpe_object = IQPE(**iqpe_dict)"
   ]
  },
  {
   "cell_type": "code",
   "execution_count": null,
   "id": "2f45fc13",
   "metadata": {},
   "outputs": [],
   "source": [
    "iqpe_object.iqpe()"
   ]
  },
  {
   "cell_type": "code",
   "execution_count": null,
   "id": "354efd9b",
   "metadata": {},
   "outputs": [],
   "source": [
    "iqpe_object.classical_bits"
   ]
  },
  {
   "cell_type": "markdown",
   "id": "52dbd6d6",
   "metadata": {},
   "source": [
    "The result for $\\varphi=0.125$ that is the value obtained in the Qiskit example."
   ]
  },
  {
   "cell_type": "code",
   "execution_count": null,
   "id": "19f7f8ee",
   "metadata": {},
   "outputs": [],
   "source": [
    "c = iqpe_object.circuit\n",
    "%qatdisplay c --svg"
   ]
  },
  {
   "cell_type": "code",
   "execution_count": null,
   "id": "74c13e8b",
   "metadata": {},
   "outputs": [],
   "source": [
    "iqpe_object.final_results"
   ]
  },
  {
   "cell_type": "markdown",
   "id": "c5624363",
   "metadata": {},
   "source": [
    "## 3. Application to Amplitude Estimation"
   ]
  },
  {
   "cell_type": "markdown",
   "id": "542adf13",
   "metadata": {},
   "source": [
    "The problem of amplitude estimation is the following. Given an oracle:\n",
    "\n",
    "$$\\mathcal{0}|0\\rangle = |\\Psi\\rangle = \\sqrt{a}|\\Psi_0\\rangle +\\sqrt{1-a}|\\Psi_1\\rangle,$$\n",
    "\n",
    "where $|\\Psi_0\\rangle$ and $|\\Psi_1\\rangle$ are orthogonal states, we want to estimate $\\sqrt{a}$."
   ]
  },
  {
   "cell_type": "markdown",
   "id": "74683193",
   "metadata": {},
   "source": [
    "\n",
    "The *Iterative Quantum Phase Estimation* can be applied to *Amplitude Estimation* problem. The present section explains how we can take advantage of our **IQPE** class for this.\n",
    "\n",
    "First, we will define the following amplitude estimation problem:\n",
    "$$\n",
    "    \\begin{array}{l}\n",
    "    & |\\Psi\\rangle \\longrightarrow \\scriptstyle \\dfrac{1}{\\sqrt{0+1+2+3+4+5+6+7+8}}\\left[\\sqrt{0}|0\\rangle+\\sqrt{1}|1\\rangle+\\sqrt{2}|2\\rangle+\\sqrt{3}|3\\rangle+\\sqrt{4}|4\\rangle+\\sqrt{5}|5\\rangle+\\sqrt{6}|6\\rangle+\\sqrt{7}|7\\rangle\\right].\\\\\n",
    "    & \\sqrt{a}|\\Psi_0\\rangle \\longrightarrow \\dfrac{\\sqrt{1}}{\\sqrt{0+1+2+3+4+5+6+7+8}}|1\\rangle.\\\\\n",
    "    & \\sqrt{1-a}|\\Psi_1\\rangle \\longrightarrow \\scriptstyle \\dfrac{1}{\\sqrt{0+1+2+3+4+5+6+7+8}}\\left[\\sqrt{0}|0\\rangle+\\sqrt{2}|2\\rangle+\\sqrt{3}|3\\rangle+\\sqrt{4}|4\\rangle+\\sqrt{5}|5\\rangle+\\sqrt{6}|6\\rangle+\\sqrt{7}|7\\rangle\\right].\\\\\n",
    "    \\end{array}\n",
    "$$\n",
    "\n",
    "The following cells create the initial state $|\\Psi\\rangle$"
   ]
  },
  {
   "cell_type": "code",
   "execution_count": null,
   "id": "91ee7f59",
   "metadata": {},
   "outputs": [],
   "source": [
    "from QQuantLib.DL.data_loading import load_probability\n",
    "from QQuantLib.AA.amplitude_amplification import grover\n",
    "from QQuantLib.PE.iterative_quantum_pe import IQPE"
   ]
  },
  {
   "cell_type": "code",
   "execution_count": null,
   "id": "d30744a3",
   "metadata": {},
   "outputs": [],
   "source": [
    "n = 3\n",
    "N = 2**n\n",
    "x = np.arange(N)\n",
    "probability = x/np.sum(x)\n",
    "oracle = load_probability(probability)\n",
    "\n",
    "%qatdisplay oracle --depth 0 --svg"
   ]
  },
  {
   "cell_type": "markdown",
   "id": "6bff697c",
   "metadata": {},
   "source": [
    "Next, we will show how the Phase Estimation problem relates to the Amplitude Estimation problem:\n",
    "$$\n",
    "    \\begin{array}{l}\n",
    "    & |\\Psi\\rangle \\longrightarrow |\\Psi\\rangle\\\\\n",
    "    & \\mathcal{P} \\longrightarrow \\mathcal{G}\n",
    "    \\end{array}\n",
    "$$\n",
    "The first equation means that, in the phase estimation context, the initial state is $|\\Psi\\rangle$ and the phase operator is $\\mathcal{G}$, the Grover operator corresponding to our amplitude estimation problem. \n",
    "\n",
    "In the next cell, we define the Grover operator for our problem.  "
   ]
  },
  {
   "cell_type": "code",
   "execution_count": null,
   "id": "9c97df50",
   "metadata": {},
   "outputs": [],
   "source": [
    "target = [0, 0, 1]\n",
    "index = range(oracle.arity)\n",
    "grover_gate = grover(oracle, target, index)\n",
    "#Comment before line and uncomment following for For multiplexor implementation of multi-controlled Z gate\n",
    "#grover_gate = grover(oracle, target, index, mcz_qlm=False)\n",
    "%qatdisplay grover_gate --depth  --svg"
   ]
  },
  {
   "cell_type": "markdown",
   "id": "a013c0f9",
   "metadata": {},
   "source": [
    "Here we have used that our target state $|1\\rangle$ in binary representation is $001$. See notebook *02_AmplitudeAmplification_Operators* for more information about building Grover operators."
   ]
  },
  {
   "cell_type": "markdown",
   "id": "13a39fd4",
   "metadata": {},
   "source": [
    "Now that we have translated our amplitude amplification problem to a phase estimation problem we proceed to use our class normally. We provide the *oracle* as the **initial_state** and the correspondent Grover-like operator as the **unitary_operator**. Additionally, the number of classical bits (**cbits_number**) for estimating the phase should be provided."
   ]
  },
  {
   "cell_type": "code",
   "execution_count": null,
   "id": "fee4a72c",
   "metadata": {},
   "outputs": [],
   "source": [
    "n_cbits = 6\n",
    "#We create a python dictionary for configuration of class\n",
    "iqpe_dict = {\n",
    "    'initial_state': oracle,\n",
    "    'unitary_operator': grover_gate,\n",
    "    'qpu' : linalg_qpu,\n",
    "    'cbits_number' : n_cbits,  \n",
    "    'shots': 100\n",
    "}\n",
    "iqpe_object = IQPE(**iqpe_dict)\n",
    "iqpe_object.iqpe()"
   ]
  },
  {
   "cell_type": "code",
   "execution_count": null,
   "id": "6016d8f3",
   "metadata": {},
   "outputs": [],
   "source": [
    "iqpe_object.final_results"
   ]
  },
  {
   "cell_type": "code",
   "execution_count": null,
   "id": "a061fbf8",
   "metadata": {},
   "outputs": [],
   "source": [
    "#We can plot the obtained angles vs the its frequency\n",
    "plt.plot(\n",
    "    iqpe_object.final_results['theta_90'], \n",
    "    iqpe_object.final_results['Frequency'], 'o')\n",
    "plt.xlabel(r'$\\theta$')\n",
    "plt.xlim(0, 0.5*np.pi)\n",
    "plt.ylabel('Frecuency')\n",
    "plt.title(r'$\\theta \\in [0, \\frac{\\pi}{2}]$')"
   ]
  },
  {
   "cell_type": "markdown",
   "id": "2f66f32f",
   "metadata": {},
   "source": [
    "Last, we use the mapping $a = \\cos(\\theta)^2$ to obtain the result of our amplitude estimation problem."
   ]
  },
  {
   "cell_type": "code",
   "execution_count": null,
   "id": "08a19d0b",
   "metadata": {},
   "outputs": [],
   "source": [
    "theta_estimated = iqpe_object.final_results['theta_90'].iloc[0]\n",
    "print('Quantum result, theta_estimated: ', theta_estimated)\n",
    "a_estimated = np.cos(theta_estimated)**2\n",
    "print('Quantum result, a_estimated: ', a_estimated)\n",
    "print(\"Classical result: \",probability[1])"
   ]
  },
  {
   "cell_type": "code",
   "execution_count": null,
   "id": "3e2e4dd5",
   "metadata": {},
   "outputs": [],
   "source": [
    "print('Test OK: ', abs(probability[1]- a_estimated)< 0.005)"
   ]
  },
  {
   "cell_type": "code",
   "execution_count": null,
   "id": "bb2928fa",
   "metadata": {},
   "outputs": [],
   "source": [
    "c = iqpe_object.circuit\n",
    "%qatdisplay c --svg --depth 0"
   ]
  },
  {
   "cell_type": "markdown",
   "id": "c05570df",
   "metadata": {},
   "source": [
    "In order to increase the precision of the angle estimation more classical bits can be used"
   ]
  },
  {
   "cell_type": "markdown",
   "id": "7b313c99",
   "metadata": {},
   "source": [
    "## 4. Amplitude Estimation with IQPE"
   ]
  },
  {
   "cell_type": "markdown",
   "id": "302d4e68",
   "metadata": {},
   "source": [
    "In order to simplify **Amplitude Estimation** calculations done with **IQPE** (see Section 3) the **IQPEAE** (stands for **I**terative **Q**uantum **P**hase **E**stimation **A**mplitude **E**stimation) class was created. The idea behind this class is dealing with the initial overheating shown in Section 3  for using **IQPE** in a straightforward way for *Amplitude Estimation* calculations. The class is under the module **ae_iterative_quantum_pe.py** of the *Amplitude Estimation* package of the *QQuantLib* library  (**QQuantLib/AE/ae_iterative_quantum_pe**)\n",
    "\n",
    "This new class try to reproduce the scheme of the **MLAE class** from **QQuantLib/AE/maximum_likelihood_ae.py** module"
   ]
  },
  {
   "cell_type": "markdown",
   "id": "7b3e6cff",
   "metadata": {},
   "source": [
    "To create **IQPEAE** object following inputs are mandatory:\n",
    "\n",
    "1. Oracle: QLM AbstractGate or QRoutine with the implementation of the Oracle for creating the Grover operator.\n",
    "2. target: this is the marked state in binary representation as a Python list\n",
    "3. index: list of the qubits affected by the Grover operator."
   ]
  },
  {
   "cell_type": "code",
   "execution_count": null,
   "id": "c45be24b",
   "metadata": {},
   "outputs": [],
   "source": [
    "from QQuantLib.DL.data_loading import load_probability"
   ]
  },
  {
   "cell_type": "code",
   "execution_count": null,
   "id": "34d6cbe8",
   "metadata": {},
   "outputs": [],
   "source": [
    "#Here we created the mandatory oracle\n",
    "n = 3\n",
    "N = 2**n\n",
    "x = np.arange(N)\n",
    "probability = x/np.sum(x)\n",
    "oracle = load_probability(probability)\n",
    "\n",
    "%qatdisplay oracle --depth 0 --svg\n",
    "\n",
    "#This will be the target state for grover and the list of qubits affected by Grover operator\n",
    "target = [0, 0, 1]\n",
    "index = range(oracle.arity)"
   ]
  },
  {
   "cell_type": "markdown",
   "id": "61e464a0",
   "metadata": {},
   "source": [
    "Now we have all mandatory inputs so we created the *IQPEAE* object. Following **MLAE class** convention other parameters can be provided with a python dictionary. In this case, the following keys can be provided:\n",
    "\n",
    "* *auxiliar_qbits_number*: number of qubits for doing phase estimation (default: 8)\n",
    "* *shots*: number of shots (default: 100)\n",
    "* *qpu*: qpu solver\n",
    "* mcz_qlm: for using QLM multi-controlled Z gate (True, default) or using multiplexor implementation (False)"
   ]
  },
  {
   "cell_type": "code",
   "execution_count": null,
   "id": "cf755967",
   "metadata": {},
   "outputs": [],
   "source": [
    "from QQuantLib.AE.ae_iterative_quantum_pe import IQPEAE"
   ]
  },
  {
   "cell_type": "code",
   "execution_count": null,
   "id": "4cecaab1",
   "metadata": {},
   "outputs": [],
   "source": [
    "ae_iqpe_dict = {\n",
    "    'qpu': linalg_qpu,\n",
    "    'cbits_number': 4,\n",
    "    'shots': 10,\n",
    "    'mcz_qlm': True      \n",
    "}\n",
    "\n",
    "ae_iqpe = IQPEAE(\n",
    "    oracle=oracle,\n",
    "    target=target,\n",
    "    index=index, \n",
    "    **ae_iqpe_dict\n",
    ")"
   ]
  },
  {
   "cell_type": "markdown",
   "id": "2955cb2b",
   "metadata": {},
   "source": [
    "When instantiated the **IQPEAE** the *Grover* operator associated to the oracle operator is created. It can be access using attribute *_grover_oracle*."
   ]
  },
  {
   "cell_type": "code",
   "execution_count": null,
   "id": "21fecd69",
   "metadata": {},
   "outputs": [],
   "source": [
    "grover_circ = ae_iqpe._grover_oracle\n",
    "%qatdisplay grover_circ --depth --svg"
   ]
  },
  {
   "cell_type": "markdown",
   "id": "9eeafdcc",
   "metadata": {},
   "source": [
    "Now the *ae_iqpe* has all mandatory inputs for calling the **IQPE** class and executing it. The **run** method from **AE_PhaseEstimationwQFT** class does this step. Additionally when the *run* method is executed following properties from **PE_QFTAE** class are populated:\n",
    "\n",
    "* *iqpe_object*: this property is an object from the **IQPE** class that was initialized with corresponding arguments created by the **IQPEAE** class.\n",
    "* *final_results*: this is the final_results obtained from the *iqpe* method of the property object *iqpe_object* (see section 2.3).\n",
    "* *theta*: estimated $\\theta$ obtained from **IQPE** algorithm.\n",
    "* *ae*: estimated solution of the *Amplitude Amplification* problem using **IQPE** algorithm $a=cos^2 \\theta$\n",
    "* *run_time*: elapsed time of a complete **run** method"
   ]
  },
  {
   "cell_type": "code",
   "execution_count": null,
   "id": "481f5d10",
   "metadata": {},
   "outputs": [],
   "source": [
    "a_estimated = ae_iqpe.run()"
   ]
  },
  {
   "cell_type": "code",
   "execution_count": null,
   "id": "6b9b6ff3",
   "metadata": {},
   "outputs": [],
   "source": [
    "print('a_estimated = ',a_estimated) \n",
    "print('ae_iqpe.final_results= ', ae_iqpe.final_results)\n",
    "print('ae_iqpe.theta= ', ae_iqpe.theta)\n",
    "print('ae_iqpe.a= ', ae_iqpe.ae)\n",
    "print(\"Classical result: \",probability[1])"
   ]
  },
  {
   "cell_type": "code",
   "execution_count": null,
   "id": "d0d58555",
   "metadata": {},
   "outputs": [],
   "source": [
    "print('Test OK: ',np.abs(ae_iqpe.ae-probability[1])< 0.005)"
   ]
  },
  {
   "cell_type": "code",
   "execution_count": null,
   "id": "5bf5483c",
   "metadata": {},
   "outputs": [],
   "source": [
    "print(\"Elapsed time of a run method: \", ae_iqpe.run_time)"
   ]
  },
  {
   "cell_type": "markdown",
   "id": "3b9c3ebc",
   "metadata": {},
   "source": [
    "Of course the configuration of the algorithm can be changed by setting the attribute of the class an calling the *run* method again!!"
   ]
  },
  {
   "cell_type": "code",
   "execution_count": null,
   "id": "fc6d8503",
   "metadata": {},
   "outputs": [],
   "source": [
    "ae_iqpe.cbits_number = 10\n",
    "print(ae_iqpe.cbits_number)"
   ]
  },
  {
   "cell_type": "code",
   "execution_count": null,
   "id": "60925af1",
   "metadata": {},
   "outputs": [],
   "source": [
    "a_estimated = ae_iqpe.run()"
   ]
  },
  {
   "cell_type": "code",
   "execution_count": null,
   "id": "3d0d132c",
   "metadata": {},
   "outputs": [],
   "source": [
    "print('a_estimated = ',a_estimated) \n",
    "print('ae_pe_withQFT.theta= ', ae_iqpe.theta)\n",
    "print('ae_pe_withQFT.a= ', ae_iqpe.ae)\n",
    "print(\"Classical result: \",probability[1])"
   ]
  },
  {
   "cell_type": "code",
   "execution_count": null,
   "id": "f5f62f15",
   "metadata": {},
   "outputs": [],
   "source": [
    "print(\"Elapsed time of a run method: \", ae_iqpe.run_time)"
   ]
  },
  {
   "cell_type": "markdown",
   "id": "feb8acc0",
   "metadata": {},
   "source": [
    "The **run** method of the *IQPEAE* creates and configures an object from *IQPE* class. This object is stored on the **pe_iqpe** attribute of the *IQPEAE*. All the attributes and methods from the *IQPE* class can be accessed from this **pe_iqpe** attribute. For example, we can get the complete quantum circuit executed!!!"
   ]
  },
  {
   "cell_type": "markdown",
   "id": "a41b5f38",
   "metadata": {},
   "source": [
    "As explained before, the **iqpe_object** attribute from the *IQPEAE* class is an object created from class **IQPE** so all the methods and attributes of this class can be accessed using the **iqpe_object** attribute (**NOT RECOMMENDED**).\n",
    "\n",
    "We can access the quantum circuit used by the **IQPE**"
   ]
  },
  {
   "cell_type": "code",
   "execution_count": null,
   "id": "69fb401f",
   "metadata": {},
   "outputs": [],
   "source": [
    "#First we access to the atribute tha stores the IterativeQuantumPE object\n",
    "attribute_ae_iqpe = ae_iqpe.iqpe_object\n",
    "\n",
    "#Then we take the circuit attribute from the PhaseEstimationwQFT object (see above in the notebook)\n",
    "c=attribute_ae_iqpe.circuit\n",
    "%qatdisplay c --svg --depth 0"
   ]
  },
  {
   "cell_type": "markdown",
   "id": "f7d0885d",
   "metadata": {},
   "source": [
    "When the *run* method is executed following class attributes are populated:\n",
    "\n",
    "* *circuit_statistics*: python dictionary with the complete statistical information of the circuit.\n",
    "* *oracle_calls*: number of total oracle calls for a complete execution of the algorithm\n",
    "* *max_oracle_depth*: maximum number of applications of the oracle for the complete execution of the algorithm."
   ]
  },
  {
   "cell_type": "code",
   "execution_count": null,
   "id": "e880b9fb",
   "metadata": {},
   "outputs": [],
   "source": [
    "ae_iqpe.circuit_statistics"
   ]
  },
  {
   "cell_type": "code",
   "execution_count": null,
   "id": "e58dec82",
   "metadata": {},
   "outputs": [],
   "source": [
    "#Total number of oracle calls\n",
    "print(\"The total number of the oracle calls for the IQPEAE was: {}\".format(ae_iqpe.oracle_calls))"
   ]
  },
  {
   "cell_type": "code",
   "execution_count": null,
   "id": "dc197db2",
   "metadata": {},
   "outputs": [],
   "source": [
    "#Number of maximum oracle applications\n",
    "ae_iqpe.max_oracle_depth"
   ]
  },
  {
   "cell_type": "code",
   "execution_count": null,
   "id": "295f848c",
   "metadata": {},
   "outputs": [],
   "source": [
    "ae_iqpe.quantum_times"
   ]
  },
  {
   "cell_type": "code",
   "execution_count": null,
   "id": "595e01ad",
   "metadata": {},
   "outputs": [],
   "source": [
    "ae_iqpe.quantum_time"
   ]
  },
  {
   "cell_type": "code",
   "execution_count": null,
   "id": "b6833ed2",
   "metadata": {},
   "outputs": [],
   "source": []
  }
 ],
 "metadata": {
  "kernelspec": {
   "display_name": "Python 3 (ipykernel)",
   "language": "python",
   "name": "python3"
  },
  "language_info": {
   "codemirror_mode": {
    "name": "ipython",
    "version": 3
   },
   "file_extension": ".py",
   "mimetype": "text/x-python",
   "name": "python",
   "nbconvert_exporter": "python",
   "pygments_lexer": "ipython3",
   "version": "3.11.7"
  }
 },
 "nbformat": 4,
 "nbformat_minor": 5
}
