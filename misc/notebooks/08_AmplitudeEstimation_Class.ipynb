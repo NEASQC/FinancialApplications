{
 "cells": [
  {
   "cell_type": "markdown",
   "id": "53ef2f03",
   "metadata": {},
   "source": [
    "# Monte Carlo AE and Amplitude Estimation Class\n",
    "\n",
    "This notebook introduces two distinct Python classes:\n",
    "\n",
    "1. `MCAE` class: Implemented in the module *montecarlo_ae* of the package **AE** in the library `QQuantLib` (**QQuantLib/AE/montecarlo_ae**). This class presents a Monte Carlo approach for computing amplitudes. The procedure estimates the amplitude of a specific state for a given oracle in a straightforward manner—by performing measurements and calculating the probability of obtaining the desired state.\n",
    "\n",
    "2. `AE` class: Implemented in the module *ae_class* within the package **AE** of the library `QQuantLib` (**QQuantLib/AE/ae_class.py**). This class provides easy access to the various **Amplitude Estimation (AE)** algorithms implemented in the **AE** package."
   ]
  },
  {
   "cell_type": "code",
   "execution_count": null,
   "id": "f9bcd0b2",
   "metadata": {},
   "outputs": [],
   "source": [
    "import sys\n",
    "sys.path.append(\"../../\")"
   ]
  },
  {
   "cell_type": "code",
   "execution_count": null,
   "id": "7cdab37e",
   "metadata": {},
   "outputs": [],
   "source": [
    "import numpy as np\n",
    "import pandas as pd\n",
    "import matplotlib.pyplot as plt\n",
    "import qat.lang.AQASM as qlm"
   ]
  },
  {
   "cell_type": "code",
   "execution_count": null,
   "id": "1f6632c1",
   "metadata": {},
   "outputs": [],
   "source": [
    "#This cell loads the QLM solver. See notebook: 00_AboutTheNotebooksAndQPUs.ipynb\n",
    "from QQuantLib.qpu.get_qpu import get_qpu\n",
    "# myqlm qpus: python, c\n",
    "# QLM qpus accessed using Qaptiva Access library: qlmass_linalg, qlmass_mps\n",
    "# QLM qpus: Only in local Quantum Learning Machine: linalg, mps\n",
    "my_qpus = [\"python\", \"c\", \"qlmass_linalg\", \"qlmass_mps\", \"linalg\", \"mps\"]\n",
    "\n",
    "linalg_qpu = get_qpu(my_qpus[1])"
   ]
  },
  {
   "cell_type": "code",
   "execution_count": null,
   "id": "3f66bbb7",
   "metadata": {},
   "outputs": [],
   "source": [
    "#See 01_DataLoading_Module_Use for the use of this function\n",
    "from QQuantLib.utils.data_extracting import get_results\n",
    "from QQuantLib.utils.utils import bitfield_to_int"
   ]
  },
  {
   "cell_type": "markdown",
   "id": "a4ea6564",
   "metadata": {},
   "source": [
    "## 0. Oracle generation\n",
    "\n",
    "Before performing any amplitude estimation, we first need to load data into the quantum circuit. As this step is auxiliary and intended to demonstrate how the algorithm works, we will simply load a discrete probability distribution. \n",
    "\n",
    "In this example, we will use a quantum circuit with $ n = 3 $ qubits, which corresponds to a total of $ N = 2^n = 8 $ computational basis states. The discrete probability distribution we aim to load is defined as:\n",
    "\n",
    "$$\n",
    "p_d = \\frac{(0, 1, 2, 3, 4, 5, 6, 7)}{0 + 1 + 2 + 3 + 4 + 5 + 6 + 7}.\n",
    "$$\n",
    "\n",
    "This distribution assigns probabilities proportional to the integers $ 0 $ through $ 7 $, normalized by their sum to ensure that the total probability equals 1.\n"
   ]
  },
  {
   "cell_type": "code",
   "execution_count": null,
   "id": "2254d558",
   "metadata": {},
   "outputs": [],
   "source": [
    "n = 3\n",
    "N = 2**n\n",
    "x = np.arange(N)\n",
    "probability = x/np.sum(x)"
   ]
  },
  {
   "cell_type": "markdown",
   "id": "329f5375",
   "metadata": {},
   "source": [
    "Note that this probability distribution is properly normalised. For loading this probability into the quantum circuit we will use the function `load_probability` from **QQuantLib/DL/data_loading** module. The state that we are going to get is:\n",
    "    $$|\\Psi\\rangle = \\scriptstyle \\dfrac{1}{\\sqrt{0+1+2+3+4+5+6+7+8}}\\left[\\sqrt{0}|0\\rangle+\\sqrt{1}|1\\rangle+\\sqrt{2}|2\\rangle+\\sqrt{3}|3\\rangle+\\sqrt{4}|4\\rangle+\\sqrt{5}|5\\rangle+\\sqrt{6}|6\\rangle+\\sqrt{7}|7\\rangle\\right].$$"
   ]
  },
  {
   "cell_type": "code",
   "execution_count": null,
   "id": "7f8ce227",
   "metadata": {},
   "outputs": [],
   "source": [
    "from QQuantLib.DL.data_loading import load_probability\n",
    "oracle = load_probability(probability)"
   ]
  },
  {
   "cell_type": "code",
   "execution_count": null,
   "id": "a9812f48",
   "metadata": {},
   "outputs": [],
   "source": [
    "%qatdisplay oracle --depth --svg"
   ]
  },
  {
   "cell_type": "code",
   "execution_count": null,
   "id": "f43a6ba3",
   "metadata": {},
   "outputs": [],
   "source": [
    "#Information about the state selected by the oracle\n",
    "target = [0,0,1]\n",
    "index = [0,1,2]"
   ]
  },
  {
   "cell_type": "code",
   "execution_count": null,
   "id": "880546d1",
   "metadata": {},
   "outputs": [],
   "source": [
    "from QQuantLib.utils.utils import bitfield_to_int\n",
    "desired_result = probability[bitfield_to_int(target)]\n",
    "print(\"desired_result: {}\".format(desired_result))"
   ]
  },
  {
   "cell_type": "markdown",
   "id": "7806ce24",
   "metadata": {},
   "source": [
    "## 1. Monte Carlo Amplitude Estimation (MCAE)\n",
    "\n",
    "In general, an amplitude estimation problem can be described as follows: given an oracle:\n",
    "$$\n",
    "\\mathcal{O}|0\\rangle = |\\Psi\\rangle = \\sqrt{a}|\\Psi_0\\rangle + \\sqrt{1-a}|\\Psi_1\\rangle,\n",
    "$$\n",
    "where $|\\Psi_0\\rangle$ and $|\\Psi_1\\rangle$ are orthogonal states, our goal is to estimate $a$.\n",
    "\n",
    "The `MCAE` class computes this $a$ amplitude in a straightforward manner. It creates the corresponding quantum circuit for the oracle, performs multiple measurements, and calculates the probability of the $|\\Psi_0\\rangle$ state.\n",
    "\n",
    "### Inputs for Creating the Class\n",
    "\n",
    "1. `Oracle`: A QLM `AbstractGate` or `QRoutine` that implements the Oracle.\n",
    "2. `target`: The marked state in binary representation, provided as a Python list.\n",
    "3. `index`: A list of qubits affected by the Oracle operator.\n",
    "\n",
    "Additionally, a dictionary can be provided to configure the algorithm with the following optional keys:\n",
    "- `qpu`: The QLM solver to be used (if not provided, `PyLinalg` will be used by default).\n",
    "- `mcz_qlm`: A flag to use the QLM multi-controlled Z gate (`True`, default) or a multiplexor implementation (`False`).\n",
    "- `shots`: An integer specifying the number of measurements to be performed on the quantum circuit."
   ]
  },
  {
   "cell_type": "code",
   "execution_count": null,
   "id": "81028cb0",
   "metadata": {},
   "outputs": [],
   "source": [
    "from QQuantLib.AE.montecarlo_ae import MCAE"
   ]
  },
  {
   "cell_type": "code",
   "execution_count": null,
   "id": "5f4fbfd0",
   "metadata": {},
   "outputs": [],
   "source": [
    "mc_dict = {\n",
    "    #QPU\n",
    "    'qpu': linalg_qpu,\n",
    "    #Multicontrolate decomposition\n",
    "    'mcz_qlm': False, \n",
    "    \n",
    "    #shots\n",
    "    'shots': 50,    \n",
    "}"
   ]
  },
  {
   "cell_type": "code",
   "execution_count": null,
   "id": "e2107bce",
   "metadata": {},
   "outputs": [],
   "source": [
    "mcae_object = MCAE(\n",
    "    oracle=oracle,\n",
    "    target=target,\n",
    "    index=index,\n",
    "    **mc_dict)"
   ]
  },
  {
   "cell_type": "markdown",
   "id": "a63f1c80",
   "metadata": {},
   "source": [
    "### `run` Method\n",
    "\n",
    "To compute the amplitude of the target state, the **`run`** method should be used. This method returns the amplitude of the desired state, denoted as $ a $.\n",
    "\n",
    "Additionally, the following object attributes are populated:\n",
    "\n",
    "- `ae`: The amplitude of the desired state, $ a $.\n",
    "- `ae_l`: The lower limit for $ a $, calculated as $ a_l = a - \\frac{1}{\\sqrt{\\text{shots}}} $.\n",
    "- `ae_u`: The upper limit for $ a $, calculated as $ a_u = a + \\frac{1}{\\sqrt{\\text{shots}}} $.\n",
    "- `schedule_pdf`: A pandas DataFrame containing the schedule used by the method. In this class, it represents the number of shots used for the computation.\n",
    "- `oracle_calls`: The total number of oracle calls required for the complete execution of the algorithm.\n",
    "- `max_oracle_depth`: The maximum number of applications of the oracle during the complete execution of the algorithm."
   ]
  },
  {
   "cell_type": "code",
   "execution_count": null,
   "id": "026f0d44",
   "metadata": {},
   "outputs": [],
   "source": [
    "mcae_object.run() "
   ]
  },
  {
   "cell_type": "code",
   "execution_count": null,
   "id": "f423222f",
   "metadata": {},
   "outputs": [],
   "source": [
    "[mcae_object.ae_l, mcae_object.ae, mcae_object.ae_u]"
   ]
  },
  {
   "cell_type": "code",
   "execution_count": null,
   "id": "54092f9b",
   "metadata": {},
   "outputs": [],
   "source": [
    "# upper limit\n",
    "min(1.0, mcae_object.ae + 1.0 / np.sqrt(mc_dict[\"shots\"]))"
   ]
  },
  {
   "cell_type": "code",
   "execution_count": null,
   "id": "68280ea0",
   "metadata": {},
   "outputs": [],
   "source": [
    "# lower limit\n",
    "max(0.0, mcae_object.ae - 1.0 / np.sqrt(mc_dict[\"shots\"]))"
   ]
  },
  {
   "cell_type": "code",
   "execution_count": null,
   "id": "68e66c6e",
   "metadata": {},
   "outputs": [],
   "source": [
    "print(\"Absolute Error: {}\".format(np.abs(mcae_object.ae - desired_result)))"
   ]
  },
  {
   "cell_type": "markdown",
   "id": "63f60f0e",
   "metadata": {},
   "source": [
    "For decreasing the error of the estimation more shots should be given"
   ]
  },
  {
   "cell_type": "code",
   "execution_count": null,
   "id": "591d8a57",
   "metadata": {},
   "outputs": [],
   "source": [
    "mcae_object.shots = 100000\n",
    "mcae_object.run() \n",
    "print(\"Absolute Error: {}\".format(np.abs(mcae_object.ae - desired_result)))\n",
    "print('Bounds for a: [mcae_object.ae_l, mcae_object.ae_u] = [{}, {}]'.format(mcae_object.ae_l, mcae_object.ae_u))"
   ]
  },
  {
   "cell_type": "code",
   "execution_count": null,
   "id": "36951d85",
   "metadata": {},
   "outputs": [],
   "source": [
    "mcae_object.schedule_pdf"
   ]
  },
  {
   "cell_type": "code",
   "execution_count": null,
   "id": "075fb693",
   "metadata": {},
   "outputs": [],
   "source": [
    "mcae_object.oracle_calls"
   ]
  },
  {
   "cell_type": "code",
   "execution_count": null,
   "id": "124d18c7",
   "metadata": {},
   "outputs": [],
   "source": [
    "mcae_object.max_oracle_depth"
   ]
  },
  {
   "cell_type": "code",
   "execution_count": null,
   "id": "bb90f765",
   "metadata": {},
   "outputs": [],
   "source": [
    "mcae_object.run_time"
   ]
  },
  {
   "cell_type": "code",
   "execution_count": null,
   "id": "ac185fae",
   "metadata": {},
   "outputs": [],
   "source": [
    "mcae_object.quantum_time"
   ]
  },
  {
   "cell_type": "markdown",
   "id": "73bf5076",
   "metadata": {},
   "source": [
    "## 2. `AE` class\n",
    "\n",
    "The `AE` class allows the user to solve an **Amplitude Estimation** problem by providing and oracle and the type of **AE** algorithm user want to use."
   ]
  },
  {
   "cell_type": "markdown",
   "id": "4c87c5c3",
   "metadata": {},
   "source": [
    "### 2.1. The Amplitude Estimation Problem\n",
    "\n",
    "In a general way, an amplitude estimation problem is the following: given an oracle:\n",
    "\n",
    "$$\\mathcal{O}|0\\rangle = |\\Psi\\rangle = \\sqrt{a}|\\Psi_0\\rangle +\\sqrt{1-a}|\\Psi_1\\rangle,$$\n",
    "\n",
    "where $|\\Psi_0\\rangle$ and $|\\Psi_1\\rangle$ are orthogonal states, we want to estimate $a$.  \n",
    "\n",
    "where $|\\Psi_0\\rangle$ and $|\\Psi_1\\rangle$ are orthogonal states, we want to estimate $a$.  We can define an associated angle to $\\sqrt{a}$ as $\\sin^2{\\theta} = a$, and the problem is thus rewritten as:\n",
    "$$\\mathcal{O}|0\\rangle = |\\Psi \\rangle = \\sin(\\theta)|\\Psi_0\\rangle +\\cos(\\theta)|\\Psi_1\\rangle,$$\n",
    "\n",
    "The foundation of any amplitude estimation algorithm is the Grover operator $\\mathcal{Q}$, built onto the oracle $\\mathcal{O}$, that has the following effect over our state $|\\Psi\\rangle$:\n",
    "\n",
    "$$\\mathcal{G}^{m}|\\Psi\\rangle = |\\Psi \\rangle = \\sin\\left((2m_k+1)\\theta\\right)|\\Psi_0\\rangle +\\cos\\left((2m_k+1)\\theta\\right)|\\Psi_1\\rangle,$$\n",
    "\n"
   ]
  },
  {
   "cell_type": "markdown",
   "id": "8f5a0d10",
   "metadata": {},
   "source": [
    "### 2.2 Creating an Object from the AE Class\n",
    "\n",
    "We have implemented a Python class called `AE` in the **QQuantLib/AE/ae_class** module, which allows users to access all amplitude estimation (AE) algorithms implemented in the **QQuantLib.AE** package in a transparent and user-friendly manner.\n",
    "\n",
    "When creating an instance of the class, the following mandatory inputs **MUST** be provided:\n",
    "\n",
    "1. `oracle`: A QLM `AbstractGate` or `QRoutine` that implements the Oracle for constructing the Grover operator.\n",
    "2. `target`: The marked state in binary representation, provided as a Python list.\n",
    "3. `index`: A list of qubits affected by the Grover operator.\n",
    "4. `ae_type`: A string specifying the algorithm to use. Valid values include:\n",
    "   - **MLAE**: For using the Maximum Likelihood Amplitude Estimation algorithm (see Notebook *03_Maximum_Likelihood_Amplitude_Estimation_Class.ipynb*).\n",
    "   - **CQPEAE**: For using classical Phase Estimation with Quantum Fourier Transform (**QFT**) for Amplitude Estimation (see Notebook *04_Classical_Phase_Estimation_Class.ipynb*). It can also use windowed QPE (see Notebook *04-02_Classical_Phase_Estimation_Windows.ipynb*).\n",
    "   - **IQPEAE**: For using classical Phase Estimation with iterative Quantum Fourier Transform (**QFT**) for Amplitude Estimation (see Notebook *05_Iterative_Quantum_Phase_Estimation_Class.ipynb*).\n",
    "   - **IQAE**: For using Iterative Quantum Amplitude Estimation (see Notebook *06_Iterative_Quantum_Amplitude_Estimation_class.ipynb*). The modified **IQAE** can also be used by providing the string:\n",
    "     - **mIQAE**\n",
    "   - **RQAE**: For using Real Quantum Amplitude Estimation (see Notebook *07_Real_Quantum_Amplitude_Estimation_class.ipynb*). Variations of **RQAE** can also be used by providing the following strings:\n",
    "     - **eRQAE**: Extended RQAE (see *07-02_Improvements_on_Real_Quantum_Amplitude_Estimation.ipynb*).\n",
    "     - **mRQAE**: Modified RQAE (see *07-02_Improvements_on_Real_Quantum_Amplitude_Estimation.ipynb*).\n",
    "     - **sRQAE**: RQAE with shots (see *07-02_Improvements_on_Real_Quantum_Amplitude_Estimation.ipynb*).\n",
    "   - **MCAE**: For using the naive Monte Carlo approach for amplitude estimation (see the first part of the present notebook).\n",
    "\n",
    "If any of the mandatory inputs (`Oracle`, `target`, or `index`) are missing, a `ValueError` is raised.\n",
    "\n",
    "Additionally, other optional inputs can be provided as a Python dictionary to configure the selected algorithm. Refer to the respective notebooks for details on the parameters of each **AE** algorithm."
   ]
  },
  {
   "cell_type": "code",
   "execution_count": null,
   "id": "4dc38b53",
   "metadata": {},
   "outputs": [],
   "source": [
    "from QQuantLib.AE.ae_class import AE"
   ]
  },
  {
   "cell_type": "markdown",
   "id": "8d17d198",
   "metadata": {},
   "source": [
    "#### Example\n",
    "\n",
    "To demonstrate how the `AE` class works, consider the following amplitude estimation problem:\n",
    "\n",
    "$$\n",
    "|\\Psi\\rangle = \\mathcal{A}|0\\rangle = \\dfrac{1}{\\sqrt{0+1+2+3+4+5+6+7+8}} \\left[\\sqrt{0}|0\\rangle + \\sqrt{1}|1\\rangle + \\sqrt{2}|2\\rangle + \\sqrt{3}|3\\rangle + \\sqrt{4}|4\\rangle + \\sqrt{5}|5\\rangle + \\sqrt{6}|6\\rangle + \\sqrt{7}|7\\rangle \\right]. \\tag{2}\n",
    "$$\n",
    "\n",
    "By comparing Equation (2) with Equation (1):\n",
    "\n",
    "$$\n",
    "\\sqrt{a}|\\Psi_0\\rangle = \\sin(\\theta)|\\Psi_0\\rangle = \\dfrac{\\sqrt{1}}{\\sqrt{0+1+2+3+4+5+6+7+8}}|1\\rangle,\n",
    "$$\n",
    "\n",
    "and\n",
    "\n",
    "$$\n",
    "\\sqrt{1-a}|\\Psi_1\\rangle = \\cos(\\theta)|\\Psi_1\\rangle = \\dfrac{1}{\\sqrt{0+1+2+3+4+5+6+7+8}} \\left[\\sqrt{0}|0\\rangle + \\sqrt{2}|2\\rangle + \\sqrt{3}|3\\rangle + \\sqrt{4}|4\\rangle + \\sqrt{5}|5\\rangle + \\sqrt{6}|6\\rangle + \\sqrt{7}|7\\rangle \\right].\n",
    "$$\n",
    "\n",
    "In this case, the target state is $|1\\rangle$, whose binary representation is $001$. This must be passed to the `target` variable as a list (`[0, 0, 1]`). Additionally, we need to provide the list of qubits where the operation is being performed. In this example, it is $[0, 1, 2]$, corresponding to the entire register.\n"
   ]
  },
  {
   "cell_type": "code",
   "execution_count": null,
   "id": "16e3d00e",
   "metadata": {},
   "outputs": [],
   "source": [
    "target = [0,0,1]\n",
    "index = [0,1,2]"
   ]
  },
  {
   "cell_type": "code",
   "execution_count": null,
   "id": "19cbe867",
   "metadata": {},
   "outputs": [],
   "source": [
    "from QQuantLib.utils.utils import bitfield_to_int\n",
    "desired_result = probability[bitfield_to_int(target)]\n",
    "print(\"desired_result: {}\".format(desired_result))"
   ]
  },
  {
   "cell_type": "markdown",
   "id": "f8f835b6",
   "metadata": {},
   "source": [
    "The Python dictionary can be a very general one, allowing all parameters for configuring any algorithm to be provided. The class automatically selects the relevant parameters required by each specific algorithm. If a parameter is not provided for a particular method, the default parameter of that method will be used."
   ]
  },
  {
   "cell_type": "code",
   "execution_count": null,
   "id": "6ef02481",
   "metadata": {},
   "outputs": [],
   "source": [
    "m_k = [i for i in range(12)]\n",
    "ae_dict = {\n",
    "    #QPU\n",
    "    'qpu': linalg_qpu,\n",
    "    #Multi controlat decomposition\n",
    "    'mcz_qlm': False, \n",
    "    \n",
    "    #shots\n",
    "    'shots': 100,\n",
    "    \n",
    "    #MLAE\n",
    "    'schedule': [\n",
    "        m_k,\n",
    "        [100]*len(m_k)\n",
    "    ],\n",
    "    'delta' : 1.0e-6,\n",
    "    'ns' : 10000,\n",
    "    \n",
    "    #CQPEAE\n",
    "    'auxiliar_qbits_number': 10,\n",
    "    'window' : None,\n",
    "    'kaiser_alpha': None,\n",
    "    \n",
    "    #IQPEAE\n",
    "    'cbits_number': 6,\n",
    "    #IQAE & RQAQE\n",
    "    'epsilon': 0.001,\n",
    "    #IQAE\n",
    "    'alpha': 0.05,\n",
    "    #RQAE\n",
    "    'gamma': 0.05,\n",
    "    #'q': 1.2\n",
    "}"
   ]
  },
  {
   "cell_type": "code",
   "execution_count": null,
   "id": "94363743",
   "metadata": {},
   "outputs": [],
   "source": [
    "ae_object = AE(\n",
    "    oracle=oracle,\n",
    "    target=target,\n",
    "    index=index,\n",
    "    **ae_dict)"
   ]
  },
  {
   "cell_type": "markdown",
   "id": "df7a4658",
   "metadata": {},
   "source": [
    "The *ae_type* parameter can not be provided initially and can be set in posterior way."
   ]
  },
  {
   "cell_type": "markdown",
   "id": "72ac5243",
   "metadata": {},
   "source": [
    "### 2.3 The `create_ae_solver` Method\n",
    "\n",
    "The `create_ae_solver` method enables the user to instantiate the desired **AE** class. When this method is called, the following attributes are created:\n",
    "\n",
    "- **`solver_dict`**: A Python dictionary containing the parameters for configuring the selected **AE** class (the class is determined by the `ae_type` attribute). If the selected **AE** class requires any parameter not included in the input dictionary, the default value of the class will be used.\n",
    "  \n",
    "- **`solver_ae`**: An object instantiated from one of the **AE** classes in the **QQuantLib.AE** package (the class is determined by the `ae_type` attribute). The configuration of this object is based on the parameters provided in the `solver_dict`.\n",
    "\n",
    "If the `ae_type` attribute is set to `None`, the `create_ae_solver` method will raise an error.\n"
   ]
  },
  {
   "cell_type": "code",
   "execution_count": null,
   "id": "2f14220c",
   "metadata": {},
   "outputs": [],
   "source": [
    "#ae_type is None so this cell raises an error\n",
    "ae_object.create_ae_solver()"
   ]
  },
  {
   "cell_type": "code",
   "execution_count": null,
   "id": "ae0477ca",
   "metadata": {},
   "outputs": [],
   "source": [
    "#this is None\n",
    "ae_object.solver_dict"
   ]
  },
  {
   "cell_type": "code",
   "execution_count": null,
   "id": "111e6a70",
   "metadata": {},
   "outputs": [],
   "source": [
    "#Now we select the MLAE method\n",
    "ae_object.ae_type = 'MLAE'\n",
    "ae_object.create_ae_solver()"
   ]
  },
  {
   "cell_type": "code",
   "execution_count": null,
   "id": "1bbaf9dd",
   "metadata": {},
   "outputs": [],
   "source": [
    "#Configuration dictionary for the AE class\n",
    "ae_object.solver_dict"
   ]
  },
  {
   "cell_type": "code",
   "execution_count": null,
   "id": "c9a93d04",
   "metadata": {},
   "outputs": [],
   "source": [
    "#For configuring the parameters of the method the keys from the solver_dict will be used\n",
    "print('From the method: {}'.format(ae_object.solver_ae.schedule))\n",
    "\n",
    "print('From the solver_dict attribute: {}'.format(ae_object.solver_dict['schedule']))"
   ]
  },
  {
   "cell_type": "markdown",
   "id": "27d2d67f",
   "metadata": {},
   "source": [
    "We can change the **AE** algorithm to use"
   ]
  },
  {
   "cell_type": "code",
   "execution_count": null,
   "id": "b5a9b660",
   "metadata": {},
   "outputs": [],
   "source": [
    "ae_object.ae_type = 'IQPEAE'\n",
    "ae_object.create_ae_solver()"
   ]
  },
  {
   "cell_type": "code",
   "execution_count": null,
   "id": "aa7bf1ec",
   "metadata": {},
   "outputs": [],
   "source": [
    "ae_object.solver_ae"
   ]
  },
  {
   "cell_type": "code",
   "execution_count": null,
   "id": "1115a7a3",
   "metadata": {},
   "outputs": [],
   "source": [
    "#Configuration dictionary for the new AE selected class\n",
    "ae_object.solver_dict"
   ]
  },
  {
   "cell_type": "code",
   "execution_count": null,
   "id": "b27fa0d0",
   "metadata": {},
   "outputs": [],
   "source": [
    "ae_object.ae_type = 'RQAE'\n",
    "ae_object.create_ae_solver()\n",
    "#In this case the q parameter is not provided in the input dictionary so it doesn't appear in the solver_dict\n",
    "ae_object.solver_dict"
   ]
  },
  {
   "cell_type": "code",
   "execution_count": null,
   "id": "f35d351e",
   "metadata": {},
   "outputs": [],
   "source": [
    "#The default value for the ae class will be used instead:\n",
    "ae_object.solver_ae.ratio"
   ]
  },
  {
   "cell_type": "markdown",
   "id": "c329365e",
   "metadata": {},
   "source": [
    "### 2.4 Executing the Algorithm\n",
    "\n",
    "The `solver_ae` attribute is an object of the desired **AE** class, so its `run` method can be used directly to execute the algorithm.\n",
    "\n",
    "**BE AWARE!!**  \n",
    "This is not the recommended way to use the **AE** class. The **AE** class has its own `run` method, which is the preferred and recommended way to execute the algorithm (see Section 3). This section is included for pedagogical purposes only."
   ]
  },
  {
   "cell_type": "code",
   "execution_count": null,
   "id": "9a55dcb1",
   "metadata": {},
   "outputs": [],
   "source": [
    "m_k = [i for i in range(12)]\n",
    "ae_dict = {\n",
    "    #QPU\n",
    "    'qpu': linalg_qpu,\n",
    "    #Multi controlled decomposition\n",
    "    'mcz_qlm': False, \n",
    "    \n",
    "    #shots\n",
    "    'shots': 100,\n",
    "    \n",
    "    #MLAE\n",
    "    'schedule': [\n",
    "        m_k,\n",
    "        [100]*len(m_k)\n",
    "    ],\n",
    "    'delta' : 1.0e-6,\n",
    "    'ns' : 10000,\n",
    "    \n",
    "    #CQPEAE\n",
    "    'auxiliar_qbits_number': 10,\n",
    "    'window' : None,\n",
    "    'kaiser_alpha': None,    \n",
    "    #IQPEAE\n",
    "    'cbits_number': 6,\n",
    "    #IQAE & RQAQE\n",
    "    'epsilon': 0.001,\n",
    "    #IQAE\n",
    "    'alpha': 0.05,\n",
    "    #RQAE\n",
    "    'gamma': 0.05,\n",
    "    'q': 1.2\n",
    "}"
   ]
  },
  {
   "cell_type": "code",
   "execution_count": null,
   "id": "8633a4da",
   "metadata": {},
   "outputs": [],
   "source": [
    "ae_object = AE(\n",
    "    oracle=oracle,\n",
    "    target=target,\n",
    "    index=index,\n",
    "    **ae_dict)"
   ]
  },
  {
   "cell_type": "code",
   "execution_count": null,
   "id": "2419887b",
   "metadata": {},
   "outputs": [],
   "source": [
    "ae_object.ae_type = 'MLAE'\n",
    "ae_object.create_ae_solver()"
   ]
  },
  {
   "cell_type": "code",
   "execution_count": null,
   "id": "5969bde7",
   "metadata": {},
   "outputs": [],
   "source": [
    "ae_object.solver_ae.run()"
   ]
  },
  {
   "cell_type": "markdown",
   "id": "3741a6da",
   "metadata": {},
   "source": [
    "Additionally all the attributes of the class are available:"
   ]
  },
  {
   "cell_type": "code",
   "execution_count": null,
   "id": "eb9b14ff",
   "metadata": {},
   "outputs": [],
   "source": [
    "ae_object.solver_ae.h_k"
   ]
  },
  {
   "cell_type": "code",
   "execution_count": null,
   "id": "b9386fe0",
   "metadata": {},
   "outputs": [],
   "source": [
    "ae_object.solver_ae.oracle_calls"
   ]
  },
  {
   "cell_type": "code",
   "execution_count": null,
   "id": "9020d585",
   "metadata": {},
   "outputs": [],
   "source": [
    "ae_object.solver_ae.schedule_pdf"
   ]
  },
  {
   "cell_type": "markdown",
   "id": "b57dec77",
   "metadata": {},
   "source": [
    "We can change now the **AE** algorithm"
   ]
  },
  {
   "cell_type": "code",
   "execution_count": null,
   "id": "dec19ac7",
   "metadata": {},
   "outputs": [],
   "source": [
    "ae_object.ae_type = 'IQAE'\n",
    "ae_object.create_ae_solver()\n",
    "ae_object.solver_ae.run()"
   ]
  },
  {
   "cell_type": "markdown",
   "id": "1de35e1a",
   "metadata": {},
   "source": [
    "Again the particular attributes of the solver can be accessed in an easy way"
   ]
  },
  {
   "cell_type": "code",
   "execution_count": null,
   "id": "0cdad09e",
   "metadata": {},
   "outputs": [],
   "source": [
    "[ae_object.solver_ae.ae, ae_object.solver_ae.ae_l, ae_object.solver_ae.ae_u]"
   ]
  },
  {
   "cell_type": "code",
   "execution_count": null,
   "id": "4bbf6d32",
   "metadata": {},
   "outputs": [],
   "source": [
    "ae_object.solver_ae.oracle_calls"
   ]
  },
  {
   "cell_type": "code",
   "execution_count": null,
   "id": "7f997554",
   "metadata": {},
   "outputs": [],
   "source": [
    "ae_object.solver_ae.schedule_pdf"
   ]
  },
  {
   "cell_type": "markdown",
   "id": "d6ce7012",
   "metadata": {},
   "source": [
    "## 3. AE complete execution\n",
    "\n",
    "### BE AWARE\n",
    "-----------------\n",
    "\n",
    "In section 2 the complete **AE** class was explained in a detailed way for pedagogical purposes for understanding what is the design of the **AE** class. The users  **SHOULD NOT** use the procedures provided in section 2 for  working with the class. Instead, Section 3 shows how the user **SHOULD** interact with the **AE** class.\n",
    "\n",
    "----\n",
    "\n",
    "The **AE** class has a *run* method that executes, in a transparent way, the *run* method of the solver object and does some post-process over the obtained results. The following attributes are populated when the method is executed:\n",
    "\n",
    "* *ae_pdf*: pandas DataFrame with the direct result of the ae. This data frame has 3 columns:\n",
    "    * ae: is the desired $\\sqrt{a}$\n",
    "    * ae_l: is the lower bound for the $\\sqrt{a}$. **MLAE** does not provide upper and lower bounds so this value will be equal to *ae*.\n",
    "    * ae_u: is the upper boudn for the $\\sqrt{a}$.  **MLAE** does not provide upper and lower bounds so this value will be equal to *ae*.\n",
    "* *oracle_calls*: number of total oracle calls for a complete execution of the algorithm\n",
    "* *max_oracle_depth*: maximum number of applications of the oracle for the complete execution of the algorithm.\n",
    "* *schedule_pdf*: an attribute that depends on the AE method:\n",
    "    * CQPEAE and IQPEAE: None.\n",
    "    * IQAE, RQAE: pandas DataFrame with the times the Grover-like operator was applied (m_k column) and the correspondent number of shots (shots column)\n",
    "    * MLAE: pandas DataFrame with the times the Grover-like operator was applied (m_k column) the correspondent number of shots (n_k column) and the number of positive outcomes obtained (h_k)\n",
    "    * MCAE: pandas DataFrame with the number of shots used."
   ]
  },
  {
   "cell_type": "code",
   "execution_count": null,
   "id": "4e4c4ff9",
   "metadata": {},
   "outputs": [],
   "source": [
    "# Base Dictionary\n",
    "ae_dict = {\n",
    "    #QPU\n",
    "    'qpu': linalg_qpu,\n",
    "    #Multi controlled decomposition\n",
    "    'mcz_qlm': False, \n",
    "}"
   ]
  },
  {
   "cell_type": "markdown",
   "id": "d8cc0f48",
   "metadata": {},
   "source": [
    "### 3.1 MLAE"
   ]
  },
  {
   "cell_type": "code",
   "execution_count": null,
   "id": "a178688b",
   "metadata": {},
   "outputs": [],
   "source": [
    "# Update with MLAE configuration\n",
    "m_k = [i for i in range(12)]\n",
    "ae_dict.update({\n",
    "    \"ae_type\":'MLAE',\n",
    "    #MLAE\n",
    "    'schedule': [\n",
    "        m_k,\n",
    "        [100]*len(m_k)\n",
    "    ],\n",
    "    'delta' : 1.0e-6,\n",
    "    'ns' : 10000,    \n",
    "})\n",
    "\n",
    "ae_object = AE(\n",
    "    oracle=oracle,\n",
    "    target=target,\n",
    "    index=index,\n",
    "    **ae_dict)\n",
    "ae_object.run()"
   ]
  },
  {
   "cell_type": "code",
   "execution_count": null,
   "id": "852dff3f",
   "metadata": {},
   "outputs": [],
   "source": [
    "mlae_result = ae_object.ae_pdf\n",
    "mlae_result"
   ]
  },
  {
   "cell_type": "code",
   "execution_count": null,
   "id": "b21a7083",
   "metadata": {},
   "outputs": [],
   "source": [
    "print(\"Absolute Error for MLAE: {}\".format(np.abs(mlae_result['ae'][0] - desired_result)))"
   ]
  },
  {
   "cell_type": "code",
   "execution_count": null,
   "id": "60ba4784",
   "metadata": {},
   "outputs": [],
   "source": [
    "ae_object.oracle_calls"
   ]
  },
  {
   "cell_type": "code",
   "execution_count": null,
   "id": "a8b47bcd",
   "metadata": {},
   "outputs": [],
   "source": [
    "ae_object.max_oracle_depth"
   ]
  },
  {
   "cell_type": "code",
   "execution_count": null,
   "id": "8e8da3bf",
   "metadata": {
    "scrolled": true
   },
   "outputs": [],
   "source": [
    "ae_object.schedule_pdf"
   ]
  },
  {
   "cell_type": "code",
   "execution_count": null,
   "id": "13f42147",
   "metadata": {},
   "outputs": [],
   "source": [
    "print(ae_object.run_time)\n",
    "print(ae_object.quantum_time)"
   ]
  },
  {
   "cell_type": "markdown",
   "id": "32bd276e",
   "metadata": {},
   "source": [
    "### 3.2 CQPEAE"
   ]
  },
  {
   "cell_type": "code",
   "execution_count": null,
   "id": "e1b01924",
   "metadata": {},
   "outputs": [],
   "source": [
    "# Update with CQPEAE configuration\n",
    "ae_dict.update({\n",
    "    \"ae_type\":'CQPEAE',\n",
    "    'shots': 10000,\n",
    "    'auxiliar_qbits_number': 10,\n",
    "    'window' : None,\n",
    "    'kaiser_alpha': None,    \n",
    "})\n",
    "ae_object = AE(\n",
    "    oracle=oracle,\n",
    "    target=target,\n",
    "    index=index,\n",
    "    **ae_dict)\n",
    "ae_object.run()\n",
    "cqpeae_result = ae_object.ae_pdf"
   ]
  },
  {
   "cell_type": "code",
   "execution_count": null,
   "id": "f85341ae",
   "metadata": {},
   "outputs": [],
   "source": [
    "cqpeae_result"
   ]
  },
  {
   "cell_type": "code",
   "execution_count": null,
   "id": "53e3ec11",
   "metadata": {},
   "outputs": [],
   "source": [
    "print(\"Absolute Error for CQPEAE: {}\".format(\n",
    "    np.abs(cqpeae_result['ae'][0] - desired_result)))"
   ]
  },
  {
   "cell_type": "code",
   "execution_count": null,
   "id": "32b3803a",
   "metadata": {},
   "outputs": [],
   "source": [
    "ae_object.oracle_calls"
   ]
  },
  {
   "cell_type": "code",
   "execution_count": null,
   "id": "4239f95d",
   "metadata": {},
   "outputs": [],
   "source": [
    "ae_object.max_oracle_depth"
   ]
  },
  {
   "cell_type": "code",
   "execution_count": null,
   "id": "6b102ce3",
   "metadata": {},
   "outputs": [],
   "source": [
    "print(ae_object.run_time)\n",
    "print(ae_object.quantum_time)"
   ]
  },
  {
   "cell_type": "markdown",
   "id": "9c985bee",
   "metadata": {},
   "source": [
    "#### 3.2.1 Window QPE\n",
    "\n",
    "The window **QPE** initialization of the auxiliary qubits can be provided easily"
   ]
  },
  {
   "cell_type": "code",
   "execution_count": null,
   "id": "56d01611",
   "metadata": {},
   "outputs": [],
   "source": [
    "ae_dict.update({\n",
    "    \"ae_type\":'CQPEAE',\n",
    "    'auxiliar_qbits_number': 10,\n",
    "    'shots': 10000,\n",
    "    \"window\": \"sine\",\n",
    "    'kaiser_alpha': None,  \n",
    "})\n",
    "\n",
    "\n",
    "ae_object = AE(\n",
    "    oracle=oracle,\n",
    "    target=target,\n",
    "    index=index,\n",
    "    **ae_dict)\n",
    "ae_object.run()\n",
    "cqpeae_result = ae_object.ae_pdf\n",
    "\n",
    "print(\"Absolute Error for CQPEAE: {}\".format(\n",
    "    np.abs(cqpeae_result['ae'][0] - desired_result)))"
   ]
  },
  {
   "cell_type": "code",
   "execution_count": null,
   "id": "9c5a014f",
   "metadata": {},
   "outputs": [],
   "source": [
    "ae_dict.update({\n",
    "    \"ae_type\":'CQPEAE',\n",
    "    'auxiliar_qbits_number': 10,\n",
    "    'shots': 10000,\n",
    "    \"window\": \"Kaiser\",\n",
    "    'kaiser_alpha': 2,  \n",
    "})\n",
    "\n",
    "\n",
    "ae_object = AE(\n",
    "    oracle=oracle,\n",
    "    target=target,\n",
    "    index=index,\n",
    "    **ae_dict)\n",
    "ae_object.run()\n",
    "cqpeae_result = ae_object.ae_pdf\n",
    "\n",
    "print(\"Absolute Error for CQPEAE: {}\".format(\n",
    "    np.abs(cqpeae_result['ae'][0] - desired_result)))"
   ]
  },
  {
   "cell_type": "markdown",
   "id": "1cb5aa09",
   "metadata": {},
   "source": [
    "### 3.3 IQPEAE"
   ]
  },
  {
   "cell_type": "code",
   "execution_count": null,
   "id": "7b3e1e36",
   "metadata": {},
   "outputs": [],
   "source": [
    "ae_dict.update({\n",
    "    \"ae_type\":'IQPEAE',\n",
    "    'cbits_number': 6,\n",
    "    'shots': 10,\n",
    "})\n",
    "ae_object = AE(\n",
    "    oracle=oracle,\n",
    "    target=target,\n",
    "    index=index,\n",
    "    **ae_dict)\n",
    "ae_object.run()\n",
    "iqpeae_result = ae_object.ae_pdf"
   ]
  },
  {
   "cell_type": "code",
   "execution_count": null,
   "id": "95775ab3",
   "metadata": {},
   "outputs": [],
   "source": [
    "iqpeae_result"
   ]
  },
  {
   "cell_type": "code",
   "execution_count": null,
   "id": "16486e32",
   "metadata": {},
   "outputs": [],
   "source": [
    "print(\"Absolute Error for IQPEAE: {}\".format(np.abs(iqpeae_result['ae'][0] - desired_result)))"
   ]
  },
  {
   "cell_type": "code",
   "execution_count": null,
   "id": "a5f87e2f",
   "metadata": {},
   "outputs": [],
   "source": [
    "ae_object.oracle_calls"
   ]
  },
  {
   "cell_type": "code",
   "execution_count": null,
   "id": "6a5f3b01",
   "metadata": {},
   "outputs": [],
   "source": [
    "ae_object.max_oracle_depth"
   ]
  },
  {
   "cell_type": "code",
   "execution_count": null,
   "id": "66e302c1",
   "metadata": {},
   "outputs": [],
   "source": [
    "ae_object.schedule_pdf"
   ]
  },
  {
   "cell_type": "code",
   "execution_count": null,
   "id": "63e3d58f",
   "metadata": {},
   "outputs": [],
   "source": [
    "print(ae_object.run_time)\n",
    "print(ae_object.quantum_time)"
   ]
  },
  {
   "cell_type": "markdown",
   "id": "985b1294",
   "metadata": {},
   "source": [
    "### 3.4 IQAE"
   ]
  },
  {
   "cell_type": "code",
   "execution_count": null,
   "id": "19e82fc6",
   "metadata": {},
   "outputs": [],
   "source": [
    "ae_dict.update({\n",
    "    \"ae_type\":'IQAE',\n",
    "    'epsilon': 0.0001,\n",
    "    'alpha': 0.05,\n",
    "    'shots': 1000,\n",
    "})\n",
    "ae_object = AE(\n",
    "    oracle=oracle,\n",
    "    target=target,\n",
    "    index=index,\n",
    "    **ae_dict)\n",
    "ae_object.run()\n",
    "iqae_result = ae_object.ae_pdf"
   ]
  },
  {
   "cell_type": "code",
   "execution_count": null,
   "id": "97a6e136",
   "metadata": {},
   "outputs": [],
   "source": [
    "iqae_result"
   ]
  },
  {
   "cell_type": "code",
   "execution_count": null,
   "id": "a24db7aa",
   "metadata": {},
   "outputs": [],
   "source": [
    "print(\"Absolute Error for IQAE: {}\".format(np.abs(iqae_result['ae'][0] - desired_result)))"
   ]
  },
  {
   "cell_type": "code",
   "execution_count": null,
   "id": "452af784",
   "metadata": {},
   "outputs": [],
   "source": [
    "ae_object.oracle_calls"
   ]
  },
  {
   "cell_type": "code",
   "execution_count": null,
   "id": "8ebaef06",
   "metadata": {},
   "outputs": [],
   "source": [
    "ae_object.max_oracle_depth"
   ]
  },
  {
   "cell_type": "code",
   "execution_count": null,
   "id": "33d0cb64",
   "metadata": {},
   "outputs": [],
   "source": [
    "ae_object.schedule_pdf"
   ]
  },
  {
   "cell_type": "code",
   "execution_count": null,
   "id": "9f05c81f",
   "metadata": {},
   "outputs": [],
   "source": [
    "print(ae_object.run_time)\n",
    "print(ae_object.quantum_time)"
   ]
  },
  {
   "cell_type": "markdown",
   "id": "99fe8e1a",
   "metadata": {},
   "source": [
    "**mIQAE** can be used easily"
   ]
  },
  {
   "cell_type": "code",
   "execution_count": null,
   "id": "cc0b028a",
   "metadata": {},
   "outputs": [],
   "source": [
    "ae_dict.update({\n",
    "    \"ae_type\":'mIQAE',\n",
    "    'epsilon': 0.0001,\n",
    "    'alpha': 0.05,\n",
    "    'shots': 1000,\n",
    "})\n",
    "ae_object = AE(\n",
    "    oracle=oracle,\n",
    "    target=target,\n",
    "    index=index,\n",
    "    **ae_dict)\n",
    "ae_object.run()\n",
    "miqae_result = ae_object.ae_pdf"
   ]
  },
  {
   "cell_type": "code",
   "execution_count": null,
   "id": "81709205",
   "metadata": {},
   "outputs": [],
   "source": [
    "print(\"Absolute Error for IQAE: {}\".format(np.abs(miqae_result['ae'][0] - desired_result)))"
   ]
  },
  {
   "cell_type": "code",
   "execution_count": null,
   "id": "daf93ebe",
   "metadata": {},
   "outputs": [],
   "source": [
    "ae_object.oracle_calls"
   ]
  },
  {
   "cell_type": "code",
   "execution_count": null,
   "id": "32937a57",
   "metadata": {},
   "outputs": [],
   "source": [
    "ae_object.schedule_pdf"
   ]
  },
  {
   "cell_type": "markdown",
   "id": "0aaecc35",
   "metadata": {},
   "source": [
    "### 3.5 RQAE\n",
    "\n",
    "### BE AWARE\n",
    "-----------------\n",
    "\n",
    "The RQAE algorithm provides directly the **Amplitude** of the state so we need to compare vs the square root! This is applied to the **RQAE** variations (i.e. **mRQAE**, **sRQAE** and **eRQAE**)\n",
    "\n",
    "$$\n",
    "    \\begin{array}{l}\n",
    "    &\\mathcal{O}\\longrightarrow \\mathcal{P}.\\\\\n",
    "    & |\\Psi\\rangle \\longrightarrow \\scriptstyle \\dfrac{1}{\\sqrt{0+1+2+3+4+5+6+7+8}}\\left[\\sqrt{0}|0\\rangle+\\sqrt{1}|1\\rangle+\\sqrt{2}|2\\rangle+\\sqrt{3}|3\\rangle+\\sqrt{4}|4\\rangle+\\sqrt{5}|5\\rangle+\\sqrt{6}|6\\rangle+\\sqrt{7}|7\\rangle\\right].\\\\\n",
    "    & a|\\Psi_0\\rangle \\longrightarrow \\dfrac{\\sqrt{1}}{\\sqrt{0+1+2+3+4+5+6+7+8}}|1\\rangle.\\\\\n",
    "    & \\sqrt{1-a^2}|\\Psi_1\\rangle \\longrightarrow \\scriptstyle \\dfrac{1}{\\sqrt{0+1+2+3+4+5+6+7+8}}\\left[\\sqrt{0}|0\\rangle+\\sqrt{2}|2\\rangle+\\sqrt{3}|3\\rangle+\\sqrt{4}|4\\rangle+\\sqrt{5}|5\\rangle+\\sqrt{6}|6\\rangle+\\sqrt{7}|7\\rangle\\right].\\\\\n",
    "    \\end{array}\n",
    "$$"
   ]
  },
  {
   "cell_type": "code",
   "execution_count": null,
   "id": "9046d442",
   "metadata": {},
   "outputs": [],
   "source": [
    "ae_dict.update({\n",
    "    \"ae_type\":'RQAE',\n",
    "    'epsilon': 0.0001,\n",
    "    'gamma': 0.05,\n",
    "    'q': 2,\n",
    "})\n",
    "ae_object = AE(\n",
    "    oracle=oracle,\n",
    "    target=target,\n",
    "    index=index,\n",
    "    **ae_dict)\n",
    "ae_object.run()\n",
    "ae_object.run()\n",
    "rqae_result = ae_object.ae_pdf"
   ]
  },
  {
   "cell_type": "code",
   "execution_count": null,
   "id": "98559939",
   "metadata": {},
   "outputs": [],
   "source": [
    "rqae_result**2"
   ]
  },
  {
   "cell_type": "markdown",
   "id": "0ec985d1-9984-4c12-b02d-8e653599195d",
   "metadata": {},
   "source": [
    "in this case the desired result is "
   ]
  },
  {
   "cell_type": "code",
   "execution_count": null,
   "id": "66bcd775",
   "metadata": {},
   "outputs": [],
   "source": [
    "print(\"Absolute Error for RQAE: {}\".format(np.abs(rqae_result['ae'][0]**2 -desired_result)))"
   ]
  },
  {
   "cell_type": "code",
   "execution_count": null,
   "id": "0b09a87a",
   "metadata": {},
   "outputs": [],
   "source": [
    "ae_object.oracle_calls"
   ]
  },
  {
   "cell_type": "code",
   "execution_count": null,
   "id": "e11cd646",
   "metadata": {},
   "outputs": [],
   "source": [
    "ae_object.max_oracle_depth"
   ]
  },
  {
   "cell_type": "code",
   "execution_count": null,
   "id": "bce48845",
   "metadata": {},
   "outputs": [],
   "source": [
    "ae_object.schedule_pdf"
   ]
  },
  {
   "cell_type": "code",
   "execution_count": null,
   "id": "6841060b",
   "metadata": {},
   "outputs": [],
   "source": [
    "print(ae_object.run_time)\n",
    "print(ae_object.quantum_time)"
   ]
  },
  {
   "cell_type": "markdown",
   "id": "4def1709",
   "metadata": {},
   "source": [
    "**mRQAE** can be used easily"
   ]
  },
  {
   "cell_type": "code",
   "execution_count": null,
   "id": "a7e5215a",
   "metadata": {},
   "outputs": [],
   "source": [
    "ae_dict.update({\n",
    "    \"ae_type\":'mRQAE',\n",
    "    'epsilon': 0.0001,\n",
    "    'gamma': 0.05,\n",
    "    'q': 2,\n",
    "})\n",
    "ae_object = AE(\n",
    "    oracle=oracle,\n",
    "    target=target,\n",
    "    index=index,\n",
    "    **ae_dict)\n",
    "ae_object.run()\n",
    "ae_object.run()\n",
    "mrqae_result = ae_object.ae_pdf"
   ]
  },
  {
   "cell_type": "code",
   "execution_count": null,
   "id": "9d6f0392",
   "metadata": {},
   "outputs": [],
   "source": [
    "print(\"Absolute Error for mRQAE: {}\".format(np.abs(mrqae_result['ae'][0]**2 -desired_result)))"
   ]
  },
  {
   "cell_type": "code",
   "execution_count": null,
   "id": "f08c93e8",
   "metadata": {},
   "outputs": [],
   "source": [
    "ae_object.oracle_calls"
   ]
  },
  {
   "cell_type": "code",
   "execution_count": null,
   "id": "54354753",
   "metadata": {},
   "outputs": [],
   "source": [
    "ae_object.max_oracle_depth"
   ]
  },
  {
   "cell_type": "code",
   "execution_count": null,
   "id": "533ad515",
   "metadata": {},
   "outputs": [],
   "source": [
    "ae_object.schedule_pdf"
   ]
  },
  {
   "cell_type": "markdown",
   "id": "b00d9f78",
   "metadata": {},
   "source": [
    "### 3.6 MCAE"
   ]
  },
  {
   "cell_type": "code",
   "execution_count": null,
   "id": "c0fd1d6d",
   "metadata": {},
   "outputs": [],
   "source": [
    "ae_dict.update({\n",
    "    \"ae_type\":'MCAE',\n",
    "    'shots': 1000\n",
    "})\n",
    "ae_object = AE(\n",
    "    oracle=oracle,\n",
    "    target=target,\n",
    "    index=index,\n",
    "    **ae_dict)\n",
    "\n",
    "ae_object = AE(\n",
    "    oracle=oracle,\n",
    "    target=target,\n",
    "    index=index,\n",
    "    **ae_dict)\n",
    "\n",
    "\n",
    "ae_object.run()\n",
    "mcae_result = ae_object.ae_pdf"
   ]
  },
  {
   "cell_type": "code",
   "execution_count": null,
   "id": "d95acb8b",
   "metadata": {},
   "outputs": [],
   "source": [
    "print(\"Absolute Error for MCAE: {}\".format(np.abs(mcae_result['ae'][0] - desired_result)))"
   ]
  },
  {
   "cell_type": "code",
   "execution_count": null,
   "id": "e5c506c4",
   "metadata": {},
   "outputs": [],
   "source": [
    "mcae_result"
   ]
  },
  {
   "cell_type": "code",
   "execution_count": null,
   "id": "baef113a",
   "metadata": {},
   "outputs": [],
   "source": [
    "ae_object.oracle_calls"
   ]
  },
  {
   "cell_type": "code",
   "execution_count": null,
   "id": "0816b5a5",
   "metadata": {},
   "outputs": [],
   "source": [
    "ae_object.max_oracle_depth"
   ]
  },
  {
   "cell_type": "code",
   "execution_count": null,
   "id": "ccbc83eb",
   "metadata": {},
   "outputs": [],
   "source": [
    "ae_object.schedule_pdf"
   ]
  },
  {
   "cell_type": "code",
   "execution_count": null,
   "id": "25ff945d",
   "metadata": {},
   "outputs": [],
   "source": [
    "print(ae_object.run_time)\n",
    "print(ae_object.quantum_time)"
   ]
  },
  {
   "cell_type": "markdown",
   "id": "d0ca84ee",
   "metadata": {},
   "source": [
    "## 4. Amplitude Estimation Algorithms comparison\n",
    "\n",
    "To compare the performance of the different **AE** algorithms implemented in the **AE** class the package **benchmark.compare_ae_probability.probability_estimation** inside of the **FinancialApplications** software package has been developed. In this module a probability density distribution is loaded into a quantum state and different **AE** algorithms can be used for estimating the amplitude of fixed input state. We refer to the notebook  *CompareAEalgorithmsOnPureProbability.ipynb* (in **benchmark.compare_ae_probability** package) for more info."
   ]
  }
 ],
 "metadata": {
  "kernelspec": {
   "display_name": "Python 3 (ipykernel)",
   "language": "python",
   "name": "python3"
  },
  "language_info": {
   "codemirror_mode": {
    "name": "ipython",
    "version": 3
   },
   "file_extension": ".py",
   "mimetype": "text/x-python",
   "name": "python",
   "nbconvert_exporter": "python",
   "pygments_lexer": "ipython3",
   "version": "3.9.9"
  }
 },
 "nbformat": 4,
 "nbformat_minor": 5
}
