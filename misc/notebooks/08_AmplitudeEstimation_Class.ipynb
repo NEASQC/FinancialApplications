{
 "cells": [
  {
   "cell_type": "markdown",
   "id": "5d4ffe0f",
   "metadata": {},
   "source": [
    "# MonteCarlo AE and Amplitude Estimation class\n",
    "\n",
    "This notebook presents two different python classes:\n",
    "\n",
    "* **MCAE** class implemented into the module *montecarlo_ae* of the package *AE* of library *QQuantLib* (**QQuantLib/AE/montecarlo_ae.py**). In this class the MonteCarlo approach for computing amplitude is presented. This procedure computes the amplitude of particular state for a given oracle in a naive way (basically doing measurements and compute the probability of getting the state).\n",
    "* **AE** class implemented in the *ae_class*  module within the package *AE* of library *QQuantLib* (**QQuantLib/AE/ae_class.py**): this class give an easy access to the different **AE** algorithms implemented into the package *AE*."
   ]
  },
  {
   "cell_type": "code",
   "execution_count": null,
   "id": "f9bcd0b2",
   "metadata": {},
   "outputs": [],
   "source": [
    "import sys\n",
    "sys.path.append(\"../../\")"
   ]
  },
  {
   "cell_type": "code",
   "execution_count": null,
   "id": "7cdab37e",
   "metadata": {},
   "outputs": [],
   "source": [
    "import numpy as np\n",
    "import pandas as pd\n",
    "import matplotlib.pyplot as plt\n",
    "import qat.lang.AQASM as qlm"
   ]
  },
  {
   "cell_type": "code",
   "execution_count": null,
   "id": "1f6632c1",
   "metadata": {},
   "outputs": [],
   "source": [
    "#This cell loads the QLM solver.\n",
    "#QLMaaS == False -> uses PyLinalg\n",
    "#QLMaaS == True -> try to use LinAlg (for using QPU as CESGA QLM one)\n",
    "from QQuantLib.utils.qlm_solver import get_qpu\n",
    "QLMaaS = False\n",
    "linalg_qpu = get_qpu(QLMaaS)\n",
    "print(linalg_qpu)"
   ]
  },
  {
   "cell_type": "code",
   "execution_count": null,
   "id": "3f66bbb7",
   "metadata": {},
   "outputs": [],
   "source": [
    "#See 01_DataLoading_Module_Use for the use of this function\n",
    "from QQuantLib.utils.data_extracting import get_results\n",
    "from QQuantLib.utils.utils import bitfield_to_int"
   ]
  },
  {
   "cell_type": "markdown",
   "id": "a4ea6564",
   "metadata": {},
   "source": [
    "## 0. Oracle generation\n",
    "\n",
    "Before doing any amplitude estimation we want to load some data into the quantum circuit, as this step is only auxiliary to see how the algorithm works, we are just going to load a discrete probability distribution. In this case we will have a circuit with $n=3$ qubits which makes a total of $N = 2^n = 8$ states. The discrete probability distribution that we are going to load is:\n",
    "$$p_d = \\dfrac{(0,1,2,3,4,5,6,7)}{0+1+2+3+4+5+6+7+8}.$$\n"
   ]
  },
  {
   "cell_type": "code",
   "execution_count": null,
   "id": "2254d558",
   "metadata": {},
   "outputs": [],
   "source": [
    "n = 3\n",
    "N = 2**n\n",
    "x = np.arange(N)\n",
    "probability = x/np.sum(x)"
   ]
  },
  {
   "cell_type": "markdown",
   "id": "329f5375",
   "metadata": {},
   "source": [
    "Note that this probability distribution is properly normalised. For loading this probability into the quantum circuit we will use the function *load_probability* from **QQuantLib/DL/data_loading** module. The state that we are going to get is:\n",
    "    $$|\\Psi\\rangle = \\scriptstyle \\dfrac{1}{\\sqrt{0+1+2+3+4+5+6+7+8}}\\left[\\sqrt{0}|0\\rangle+\\sqrt{1}|1\\rangle+\\sqrt{2}|2\\rangle+\\sqrt{3}|3\\rangle+\\sqrt{4}|4\\rangle+\\sqrt{5}|5\\rangle+\\sqrt{6}|6\\rangle+\\sqrt{7}|7\\rangle\\right].$$"
   ]
  },
  {
   "cell_type": "code",
   "execution_count": null,
   "id": "7f8ce227",
   "metadata": {},
   "outputs": [],
   "source": [
    "from QQuantLib.DL.data_loading import load_probability\n",
    "oracle = load_probability(probability)"
   ]
  },
  {
   "cell_type": "code",
   "execution_count": null,
   "id": "a9812f48",
   "metadata": {},
   "outputs": [],
   "source": [
    "%qatdisplay oracle --depth "
   ]
  },
  {
   "cell_type": "code",
   "execution_count": null,
   "id": "f43a6ba3",
   "metadata": {},
   "outputs": [],
   "source": [
    "#Information about the state selected by the oracle\n",
    "target = [0,0,1]\n",
    "index = [0,1,2]"
   ]
  },
  {
   "cell_type": "code",
   "execution_count": null,
   "id": "880546d1",
   "metadata": {},
   "outputs": [],
   "source": [
    "from QQuantLib.utils.utils import bitfield_to_int\n",
    "desired_result = probability[bitfield_to_int(target)]\n",
    "print(\"desired_result: {}\".format(desired_result))"
   ]
  },
  {
   "cell_type": "markdown",
   "id": "6fe0257a",
   "metadata": {},
   "source": [
    "## 1. Monte Carlo Amplitude Estimation (MCAE)\n",
    "\n",
    "In a general way an amplitude estimation problem is the following: given an oracle:\n",
    "\n",
    "$$\\mathcal{O}|0\\rangle = |\\Psi\\rangle = \\sqrt{a}|\\Psi_0\\rangle +\\sqrt{1-a}|\\Psi_1\\rangle,$$\n",
    "\n",
    "where $|\\Psi_0\\rangle$ and $|\\Psi_1\\rangle$ are orthogonal states, we want to estimate $a$.  \n",
    "\n",
    "The **MCAE** class computes in a naive way this $a$ amplitude. The class creates the correspondent quantum circuit of the oracle, perform several measurements and computes the probability of the $|\\Psi_0\\rangle$ state.\n",
    "\n",
    "The inputs for creating the class are:\n",
    "\n",
    "1. Oracle: QLM AbstractGate or QRoutine with the implementation of the Oracle.\n",
    "2. target: this is the marked state in binary representation as a python list\n",
    "3. index: list of the qubits affected by the Oracle operator.\n",
    "\n",
    "Additionally a dictionary with other arguments to configure the algorithm can be provided. Keys for the dictionary can be:\n",
    "\n",
    "* qpu: QLM solver that will be used (if not provide PyLinalg will be used)\n",
    "* mcz_qlm: for using QLM multi-controlled Z gate (True, default) or using multiplexor implementation (False)\n",
    "* shots: int. Number of measurements that will be done over the quantum circuit."
   ]
  },
  {
   "cell_type": "code",
   "execution_count": null,
   "id": "81028cb0",
   "metadata": {},
   "outputs": [],
   "source": [
    "from QQuantLib.AE.montecarlo_ae import MCAE"
   ]
  },
  {
   "cell_type": "code",
   "execution_count": null,
   "id": "5f4fbfd0",
   "metadata": {},
   "outputs": [],
   "source": [
    "mc_dict = {\n",
    "    #QPU\n",
    "    'qpu': linalg_qpu,\n",
    "    #Multicontrolate decomposition\n",
    "    'mcz_qlm': False, \n",
    "    \n",
    "    #shots\n",
    "    'shots': 50,    \n",
    "}"
   ]
  },
  {
   "cell_type": "code",
   "execution_count": null,
   "id": "e2107bce",
   "metadata": {},
   "outputs": [],
   "source": [
    "mcae_object = MCAE(\n",
    "    oracle=oracle,\n",
    "    target=target,\n",
    "    index=index,\n",
    "    **mc_dict)"
   ]
  },
  {
   "cell_type": "markdown",
   "id": "b256d71b",
   "metadata": {},
   "source": [
    "### run method\n",
    "\n",
    "For computing the amplitude of the target state the **run** method should be used. The method return the amplitude of the desired state, this is $a$. \n",
    "\n",
    "Additionally other object attributes are populated:\n",
    "\n",
    "* *ae* amplitude of the desired state: $a$\n",
    "* *schedule_pdf*: pandas DataFrame with the schedule used by the method. In this class is the number of shots used for the computation.\n",
    "* *oracle_calls*: number of total oracle calls for a complete execution of the algorithm.\n",
    "* *max_oracle_depth*: maximum number of applications of the oracle for the complete execution of the algorithm."
   ]
  },
  {
   "cell_type": "code",
   "execution_count": null,
   "id": "026f0d44",
   "metadata": {},
   "outputs": [],
   "source": [
    "mcae_object.run() "
   ]
  },
  {
   "cell_type": "code",
   "execution_count": null,
   "id": "f423222f",
   "metadata": {},
   "outputs": [],
   "source": [
    "mcae_object.ae"
   ]
  },
  {
   "cell_type": "code",
   "execution_count": null,
   "id": "68e66c6e",
   "metadata": {},
   "outputs": [],
   "source": [
    "print(\"Absolute Error: {}\".format(np.abs(mcae_object.ae - desired_result)))"
   ]
  },
  {
   "cell_type": "markdown",
   "id": "63f60f0e",
   "metadata": {},
   "source": [
    "For decreasing the error of the estimation more shots should be given"
   ]
  },
  {
   "cell_type": "code",
   "execution_count": null,
   "id": "591d8a57",
   "metadata": {},
   "outputs": [],
   "source": [
    "mcae_object.shots = 100000\n",
    "mcae_object.run() \n",
    "print(\"Absolute Error: {}\".format(np.abs(mcae_object.ae - desired_result)))"
   ]
  },
  {
   "cell_type": "code",
   "execution_count": null,
   "id": "36951d85",
   "metadata": {},
   "outputs": [],
   "source": [
    "mcae_object.schedule_pdf"
   ]
  },
  {
   "cell_type": "code",
   "execution_count": null,
   "id": "075fb693",
   "metadata": {},
   "outputs": [],
   "source": [
    "mcae_object.oracle_calls"
   ]
  },
  {
   "cell_type": "code",
   "execution_count": null,
   "id": "124d18c7",
   "metadata": {},
   "outputs": [],
   "source": [
    "mcae_object.max_oracle_depth"
   ]
  },
  {
   "cell_type": "code",
   "execution_count": null,
   "id": "bb90f765",
   "metadata": {},
   "outputs": [],
   "source": [
    "mcae_object.run_time"
   ]
  },
  {
   "cell_type": "code",
   "execution_count": null,
   "id": "ac185fae",
   "metadata": {},
   "outputs": [],
   "source": [
    "mcae_object.quantum_time"
   ]
  },
  {
   "cell_type": "markdown",
   "id": "73bf5076",
   "metadata": {},
   "source": [
    "## 2. AE class\n",
    "\n",
    "The **AE** class allows the user to solve an **Amplitude Estimation** problem by providing and oracle and the type of **AE** algorithm user want to use."
   ]
  },
  {
   "cell_type": "markdown",
   "id": "4c87c5c3",
   "metadata": {},
   "source": [
    "### 2.1. The Amplitude Estimation Problem\n",
    "\n",
    "In a general way an amplitude estimation problem is the following: given an oracle:\n",
    "\n",
    "$$\\mathcal{O}|0\\rangle = |\\Psi\\rangle = \\sqrt{a}|\\Psi_0\\rangle +\\sqrt{1-a}|\\Psi_1\\rangle,$$\n",
    "\n",
    "where $|\\Psi_0\\rangle$ and $|\\Psi_1\\rangle$ are orthogonal states, we want to estimate $a$.  \n",
    "\n",
    "where $|\\Psi_0\\rangle$ and $|\\Psi_1\\rangle$ are orthogonal states, we want to estimate $a$.  We can define an associated angle to $\\sqrt{a}$ as $\\sin^2{\\theta} = a$, and the problem is thus rewritten as:\n",
    "$$\\mathcal{O}|0\\rangle = |\\Psi \\rangle = \\sin(\\theta)|\\Psi_0\\rangle +\\cos(\\theta)|\\Psi_1\\rangle,$$\n",
    "\n",
    "The foundations of any amplitude estimation algorithm is the grover operator $\\mathcal{Q}$, built onto the oracle $\\mathcal{O}$, that has the following effect over our state $|\\Psi\\rangle$:\n",
    "\n",
    "$$\\mathcal{G}^{m}|\\Psi\\rangle = |\\Psi \\rangle = \\sin\\left((2m_k+1)\\theta\\right)|\\Psi_0\\rangle +\\cos\\left((2m_k+1)\\theta\\right)|\\Psi_1\\rangle,$$\n",
    "\n",
    "for more information about the grover operator and the amplitude amplification algorithm check the notebook **02_AmplitudeAmplification_Operators.ipynb**.\n"
   ]
  },
  {
   "cell_type": "markdown",
   "id": "6692dbf9",
   "metadata": {},
   "source": [
    "### 2.2 Creating object from AE class\n",
    "\n",
    "We have implemented a python class called **AE** into the **QQuantLib/AE/ae_class** module that allows us to use the all the AE algorithms implemented in the **QQuantLib.AE** package in a transparent way for the user. \n",
    "\n",
    "When class is created following mandatory inputs **MUST** be provided:\n",
    "\n",
    "1. Oracle: QLM AbstractGate or QRoutine with the implementation of the Oracle for creating the Grover operator.\n",
    "2. target: this is the marked state in binary representation as a python list\n",
    "3. index: list of the qubits affected by the Grover operator.\n",
    "4. ae_type: str. String for selecting the algorithm to use. Valid values\n",
    "    * **MLAE**:  for using Maximum Likelihood algorithm (see Notebook 03_Maximum_Likelihood_Amplitude_Estimation_Class.ipynb)\n",
    "    * **CQPEAE**: for using classical Phase Estimation with Quantum Fourier Transformation (**QFT**) for **AE** (see Notebook 04_Classical_Phase_Estimation_Class.ipynb)\n",
    "    * **IQPEAE**: for using classical Phase Estimation with iterative Quantum Fourier Transformation (**QFT**) for **AE** (see Notebook 05_Iterative_Quantum_Phase_Estimation_Class.ipynb)\n",
    "    * **IQAE**: for using Iterative Quantum Amplitude Estimation (see Notebook 06_Iterative_Quantum_Amplitude_Estimation_class.ipynb).\n",
    "    * **RQAE**: for using Real Quantum Amplitude Estimation (see Notebook 07_Real_Quantum_Amplitude_Estimation_class.ipynb)\n",
    "    * **MCAE**: for using naive MonteCarlo measurements (see the first part of present notebook)\n",
    "    \n",
    "If *Oracle*, *target* or *index* is not provide a ValueError is raised.\n",
    "Additionally, other optional inputs can be provided as a python dictionary for configuring the selected algorithms (see the Notebooks before for the each **AE** algorithm parameters. "
   ]
  },
  {
   "cell_type": "code",
   "execution_count": null,
   "id": "4dc38b53",
   "metadata": {},
   "outputs": [],
   "source": [
    "from QQuantLib.AE.ae_class import AE"
   ]
  },
  {
   "cell_type": "markdown",
   "id": "8d17d198",
   "metadata": {},
   "source": [
    "As example we are going to use the example of section 1 where the estimation problem where the estimation problem will be:\n",
    "\n",
    "$$\n",
    "    \\begin{array}{l}\n",
    "    &\\mathcal{O}\\longrightarrow \\mathcal{P}.\\\\\n",
    "    & |\\Psi\\rangle \\longrightarrow \\scriptstyle \\dfrac{1}{\\sqrt{0+1+2+3+4+5+6+7+8}}\\left[\\sqrt{0}|0\\rangle+\\sqrt{1}|1\\rangle+\\sqrt{2}|2\\rangle+\\sqrt{3}|3\\rangle+\\sqrt{4}|4\\rangle+\\sqrt{5}|5\\rangle+\\sqrt{6}|6\\rangle+\\sqrt{7}|7\\rangle\\right].\\\\\n",
    "    & \\sqrt{a}|\\Psi_0\\rangle \\longrightarrow \\dfrac{\\sqrt{1}}{\\sqrt{0+1+2+3+4+5+6+7+8}}|1\\rangle.\\\\\n",
    "    & \\sqrt{1-a}|\\Psi_1\\rangle \\longrightarrow \\scriptstyle \\dfrac{1}{\\sqrt{0+1+2+3+4+5+6+7+8}}\\left[\\sqrt{0}|0\\rangle+\\sqrt{2}|2\\rangle+\\sqrt{3}|3\\rangle+\\sqrt{4}|4\\rangle+\\sqrt{5}|5\\rangle+\\sqrt{6}|6\\rangle+\\sqrt{7}|7\\rangle\\right].\\\\\n",
    "    \\end{array}\n",
    "$$\n",
    "\n",
    "The target state, in this case is $|1\\rangle$. It's binary representation is $001$. This has to be passed to the target variable as a list. Moreover we have to provide the list of qubits where we are acting, in this case is just $[0,1,2]$, the whole register."
   ]
  },
  {
   "cell_type": "code",
   "execution_count": null,
   "id": "16e3d00e",
   "metadata": {},
   "outputs": [],
   "source": [
    "target = [0,0,1]\n",
    "index = [0,1,2]"
   ]
  },
  {
   "cell_type": "code",
   "execution_count": null,
   "id": "19cbe867",
   "metadata": {},
   "outputs": [],
   "source": [
    "from QQuantLib.utils.utils import bitfield_to_int\n",
    "desired_result = probability[bitfield_to_int(target)]\n",
    "print(\"desired_result: {}\".format(desired_result))"
   ]
  },
  {
   "cell_type": "markdown",
   "id": "f21f853c",
   "metadata": {},
   "source": [
    "The python dictionary can be a very general one where all the parameters, for configuring any algorithm can be provided. The class selects for each algorithm the parameters it needs. If there is a parameter not provided for a method the default parameter of the method will be used!!"
   ]
  },
  {
   "cell_type": "code",
   "execution_count": null,
   "id": "6ef02481",
   "metadata": {},
   "outputs": [],
   "source": [
    "m_k = [i for i in range(12)]\n",
    "ae_dict = {\n",
    "    #QPU\n",
    "    'qpu': linalg_qpu,\n",
    "    #Multi controlat decomposition\n",
    "    'mcz_qlm': False, \n",
    "    \n",
    "    #shots\n",
    "    'shots': 100,\n",
    "    \n",
    "    #MLAE\n",
    "    'schedule': [\n",
    "        m_k,\n",
    "        [100]*len(m_k)\n",
    "    ],\n",
    "    'delta' : 1.0e-6,\n",
    "    'ns' : 10000,\n",
    "    \n",
    "    #CQPEAE\n",
    "    'auxiliar_qbits_number': 10,\n",
    "    #IQPEAE\n",
    "    'cbits_number': 6,\n",
    "    #IQAE & RQAQE\n",
    "    'epsilon': 0.001,\n",
    "    #IQAE\n",
    "    'alpha': 0.05,\n",
    "    #RQAE\n",
    "    'gamma': 0.05,\n",
    "    #'q': 1.2\n",
    "}"
   ]
  },
  {
   "cell_type": "code",
   "execution_count": null,
   "id": "94363743",
   "metadata": {},
   "outputs": [],
   "source": [
    "ae_object = AE(\n",
    "    oracle=oracle,\n",
    "    target=target,\n",
    "    index=index,\n",
    "    **ae_dict)"
   ]
  },
  {
   "cell_type": "markdown",
   "id": "df7a4658",
   "metadata": {},
   "source": [
    "The *ae_type* parameter can not be provided initially and can be set in posterior way."
   ]
  },
  {
   "cell_type": "markdown",
   "id": "608d4500",
   "metadata": {},
   "source": [
    "### 2.3 The create_ae_solver method\n",
    "\n",
    "The *create_ae_solver* method allows the user select the **AE** class. When this method is called following attributes are created:\n",
    "\n",
    "* *solver_dict*: python dictionary with the parameters for configuring the selected **AE** class (for selecting the class use the *ae_type* attribute). Only the parameters needed by the class and provided in the input dictionary will be included. If the selected **ae** class needs any parameter that is not included in  the input python dictionary the default value of the class will be used.\n",
    "* *solver_ae*: this is an object created from the different **AE** classes of the **QQuantLib.AE** package (for selecting the class use the *ae_type* attribute). For configuring the methods the *solver_dict* will be used.\n",
    "\n",
    "\n",
    "If *ae_type* is None the *create_ae_solver* method will raise an Error.\n",
    "\n"
   ]
  },
  {
   "cell_type": "code",
   "execution_count": null,
   "id": "2f14220c",
   "metadata": {},
   "outputs": [],
   "source": [
    "#ae_type is None so this cell raises an error\n",
    "ae_object.create_ae_solver()"
   ]
  },
  {
   "cell_type": "code",
   "execution_count": null,
   "id": "ae0477ca",
   "metadata": {},
   "outputs": [],
   "source": [
    "#this is None\n",
    "ae_object.solver_dict"
   ]
  },
  {
   "cell_type": "code",
   "execution_count": null,
   "id": "111e6a70",
   "metadata": {},
   "outputs": [],
   "source": [
    "#Now we select the MLAE method\n",
    "ae_object.ae_type = 'MLAE'\n",
    "ae_object.create_ae_solver()"
   ]
  },
  {
   "cell_type": "code",
   "execution_count": null,
   "id": "1bbaf9dd",
   "metadata": {},
   "outputs": [],
   "source": [
    "#Configuration dictionary for the AE class\n",
    "ae_object.solver_dict"
   ]
  },
  {
   "cell_type": "code",
   "execution_count": null,
   "id": "c9a93d04",
   "metadata": {},
   "outputs": [],
   "source": [
    "#For configuring the parameters of the method the keys from the solver_dict will be used\n",
    "print('From the method: {}'.format(ae_object.solver_ae.schedule))\n",
    "\n",
    "print('From the solver_dict attribute: {}'.format(ae_object.solver_dict['schedule']))"
   ]
  },
  {
   "cell_type": "markdown",
   "id": "27d2d67f",
   "metadata": {},
   "source": [
    "We can change the **AE** algorithm to use"
   ]
  },
  {
   "cell_type": "code",
   "execution_count": null,
   "id": "b5a9b660",
   "metadata": {},
   "outputs": [],
   "source": [
    "ae_object.ae_type = 'IQPEAE'\n",
    "ae_object.create_ae_solver()"
   ]
  },
  {
   "cell_type": "code",
   "execution_count": null,
   "id": "aa7bf1ec",
   "metadata": {},
   "outputs": [],
   "source": [
    "ae_object.solver_ae"
   ]
  },
  {
   "cell_type": "code",
   "execution_count": null,
   "id": "1115a7a3",
   "metadata": {},
   "outputs": [],
   "source": [
    "#Configuration dictionary for the new AE selected class\n",
    "ae_object.solver_dict"
   ]
  },
  {
   "cell_type": "code",
   "execution_count": null,
   "id": "b27fa0d0",
   "metadata": {},
   "outputs": [],
   "source": [
    "ae_object.ae_type = 'RQAE'\n",
    "ae_object.create_ae_solver()\n",
    "#In this case the q parameter is not provided in the input dictionary so it doesn't appears in the solver_dict\n",
    "ae_object.solver_dict"
   ]
  },
  {
   "cell_type": "code",
   "execution_count": null,
   "id": "f35d351e",
   "metadata": {},
   "outputs": [],
   "source": [
    "#The default value for the ae class will be used instead:\n",
    "ae_object.solver_ae.ratio"
   ]
  },
  {
   "cell_type": "markdown",
   "id": "a80f5441",
   "metadata": {},
   "source": [
    "### 2.4 Executing the Algorithm\n",
    "\n",
    "The *solver_ae* attribute is an object of the desired **AE** class so we can use directly its **run** method for executing the algorithm.\n",
    "\n",
    "**BE AWARE!!**\n",
    "This is not the recommended way for using the **AE** class. The **AE** class has its proper *run* method that is the recommended way for executing the class (see section 3). This section is include for pedagogical purposes."
   ]
  },
  {
   "cell_type": "code",
   "execution_count": null,
   "id": "9a55dcb1",
   "metadata": {},
   "outputs": [],
   "source": [
    "m_k = [i for i in range(12)]\n",
    "ae_dict = {\n",
    "    #QPU\n",
    "    'qpu': linalg_qpu,\n",
    "    #Multi controlled decomposition\n",
    "    'mcz_qlm': False, \n",
    "    \n",
    "    #shots\n",
    "    'shots': 100,\n",
    "    \n",
    "    #MLAE\n",
    "    'schedule': [\n",
    "        m_k,\n",
    "        [100]*len(m_k)\n",
    "    ],\n",
    "    'delta' : 1.0e-6,\n",
    "    'ns' : 10000,\n",
    "    \n",
    "    #CQPEAE\n",
    "    'auxiliar_qbits_number': 10,\n",
    "    #IQPEAE\n",
    "    'cbits_number': 6,\n",
    "    #IQAE & RQAQE\n",
    "    'epsilon': 0.001,\n",
    "    #IQAE\n",
    "    'alpha': 0.05,\n",
    "    #RQAE\n",
    "    'gamma': 0.05,\n",
    "    'q': 1.2\n",
    "}"
   ]
  },
  {
   "cell_type": "code",
   "execution_count": null,
   "id": "8633a4da",
   "metadata": {},
   "outputs": [],
   "source": [
    "ae_object = AE(\n",
    "    oracle=oracle,\n",
    "    target=target,\n",
    "    index=index,\n",
    "    **ae_dict)"
   ]
  },
  {
   "cell_type": "code",
   "execution_count": null,
   "id": "2419887b",
   "metadata": {},
   "outputs": [],
   "source": [
    "ae_object.ae_type = 'MLAE'\n",
    "ae_object.create_ae_solver()"
   ]
  },
  {
   "cell_type": "code",
   "execution_count": null,
   "id": "5969bde7",
   "metadata": {},
   "outputs": [],
   "source": [
    "ae_object.solver_ae.run()"
   ]
  },
  {
   "cell_type": "markdown",
   "id": "3741a6da",
   "metadata": {},
   "source": [
    "Additionally all the attributes of the class are available:"
   ]
  },
  {
   "cell_type": "code",
   "execution_count": null,
   "id": "eb9b14ff",
   "metadata": {},
   "outputs": [],
   "source": [
    "ae_object.solver_ae.h_k"
   ]
  },
  {
   "cell_type": "code",
   "execution_count": null,
   "id": "b9386fe0",
   "metadata": {},
   "outputs": [],
   "source": [
    "ae_object.solver_ae.oracle_calls"
   ]
  },
  {
   "cell_type": "code",
   "execution_count": null,
   "id": "9020d585",
   "metadata": {},
   "outputs": [],
   "source": [
    "ae_object.solver_ae.schedule_pdf"
   ]
  },
  {
   "cell_type": "markdown",
   "id": "b57dec77",
   "metadata": {},
   "source": [
    "We can change now the **AE** algorithm"
   ]
  },
  {
   "cell_type": "code",
   "execution_count": null,
   "id": "dec19ac7",
   "metadata": {},
   "outputs": [],
   "source": [
    "ae_object.ae_type = 'IQAE'\n",
    "ae_object.create_ae_solver()\n",
    "ae_object.solver_ae.run()"
   ]
  },
  {
   "cell_type": "markdown",
   "id": "1de35e1a",
   "metadata": {},
   "source": [
    "Again the particular attributes of the solver can be accessed in an easy way"
   ]
  },
  {
   "cell_type": "code",
   "execution_count": null,
   "id": "0cdad09e",
   "metadata": {},
   "outputs": [],
   "source": [
    "[ae_object.solver_ae.ae, ae_object.solver_ae.ae_l, ae_object.solver_ae.ae_u]"
   ]
  },
  {
   "cell_type": "code",
   "execution_count": null,
   "id": "4bbf6d32",
   "metadata": {},
   "outputs": [],
   "source": [
    "ae_object.solver_ae.oracle_calls"
   ]
  },
  {
   "cell_type": "code",
   "execution_count": null,
   "id": "7f997554",
   "metadata": {},
   "outputs": [],
   "source": [
    "ae_object.solver_ae.schedule_pdf"
   ]
  },
  {
   "cell_type": "markdown",
   "id": "036ba597",
   "metadata": {},
   "source": [
    "## 3. AE complete execution\n",
    "\n",
    "The **AE** class has a *run* method that executes, in a transparent way, the *run* method of the solver object and do some post process over the obtained results. Following attributes are populated when the method is executed:\n",
    "\n",
    "* *ae_pdf*: pandas DataFrame with the direct result of the ae. This DataFrame have 3 columns:\n",
    "    * ae: is the desired $\\sqrt{a}$\n",
    "    * ae_l: is the lower bound for the $\\sqrt{a}$ (only for **IQAE** and **RQAE**)\n",
    "    * ae_u: is the upper boudn for the $\\sqrt{a}$ (only for **IQAE** and **RQAE**) \n",
    "* *oracle_calls*: number of total oracle calls for a complete execution of the algorithm\n",
    "* *max_oracle_depth*: maximum number of applications of the oracle for the complete execution of the algorithm.\n",
    "* *schedule_pdf*: attribute that depends of the AE method:\n",
    "    * CQPEAE and IQPEAE: None.\n",
    "    * IQAE, RQAE: pandas DataFrame with the times the Grover-like operator was applied (m_k column) and the correspondent number of shots (shots column)\n",
    "    * MLAE: pandas DataFrame with the times the Grover-like operator was applied (m_k column) and the correspondent number of shots (n_k column) and the number of positive outcomes obtained (h_k)\n",
    "    * MCAE: pandas DataFrame with the number of shots used.\n"
   ]
  },
  {
   "cell_type": "code",
   "execution_count": null,
   "id": "4e4c4ff9",
   "metadata": {},
   "outputs": [],
   "source": [
    "m_k = [i for i in range(12)]\n",
    "ae_dict = {\n",
    "    #QPU\n",
    "    'qpu': linalg_qpu,\n",
    "    #Multi controlled decomposition\n",
    "    'mcz_qlm': False, \n",
    "    \n",
    "    #shots\n",
    "    'shots': 100,\n",
    "    \n",
    "    #MLAE\n",
    "    'schedule': [\n",
    "        m_k,\n",
    "        [100]*len(m_k)\n",
    "    ],\n",
    "    'delta' : 1.0e-6,\n",
    "    'ns' : 10000,\n",
    "    \n",
    "    #CQPEAE\n",
    "    'auxiliar_qbits_number': 10,\n",
    "    #IQPEAE\n",
    "    'cbits_number': 6,\n",
    "    #IQAE & RQAQE\n",
    "    'epsilon': 0.0001,\n",
    "    #IQAE\n",
    "    'alpha': 0.05,\n",
    "    #RQAE\n",
    "    'gamma': 0.05,\n",
    "    'q': 1.2\n",
    "}\n",
    "ae_object = AE(\n",
    "    oracle=oracle,\n",
    "    target=target,\n",
    "    index=index,\n",
    "    **ae_dict)"
   ]
  },
  {
   "cell_type": "markdown",
   "id": "d8cc0f48",
   "metadata": {},
   "source": [
    "### 3.1 MLAE"
   ]
  },
  {
   "cell_type": "code",
   "execution_count": null,
   "id": "4397ceb3",
   "metadata": {},
   "outputs": [],
   "source": [
    "ae_object.ae_type = 'MLAE'"
   ]
  },
  {
   "cell_type": "code",
   "execution_count": null,
   "id": "b853a4ee",
   "metadata": {},
   "outputs": [],
   "source": [
    "ae_object.run()"
   ]
  },
  {
   "cell_type": "code",
   "execution_count": null,
   "id": "852dff3f",
   "metadata": {},
   "outputs": [],
   "source": [
    "mlae_result = ae_object.ae_pdf\n",
    "mlae_result"
   ]
  },
  {
   "cell_type": "code",
   "execution_count": null,
   "id": "b21a7083",
   "metadata": {},
   "outputs": [],
   "source": [
    "print(\"Absolute Error for MLAE: {}\".format(np.abs(mlae_result['ae'][0] - desired_result)))"
   ]
  },
  {
   "cell_type": "code",
   "execution_count": null,
   "id": "60ba4784",
   "metadata": {},
   "outputs": [],
   "source": [
    "ae_object.oracle_calls"
   ]
  },
  {
   "cell_type": "code",
   "execution_count": null,
   "id": "a8b47bcd",
   "metadata": {},
   "outputs": [],
   "source": [
    "ae_object.max_oracle_depth"
   ]
  },
  {
   "cell_type": "code",
   "execution_count": null,
   "id": "8e8da3bf",
   "metadata": {
    "scrolled": true
   },
   "outputs": [],
   "source": [
    "ae_object.schedule_pdf"
   ]
  },
  {
   "cell_type": "code",
   "execution_count": null,
   "id": "13f42147",
   "metadata": {},
   "outputs": [],
   "source": [
    "print(ae_object.run_time)\n",
    "print(ae_object.quantum_time)"
   ]
  },
  {
   "cell_type": "markdown",
   "id": "32bd276e",
   "metadata": {},
   "source": [
    "### 3.2 CQPEAE"
   ]
  },
  {
   "cell_type": "code",
   "execution_count": null,
   "id": "e1b01924",
   "metadata": {},
   "outputs": [],
   "source": [
    "ae_object.ae_type = 'CQPEAE'\n",
    "ae_object.run()\n",
    "cqpeae_result = ae_object.ae_pdf"
   ]
  },
  {
   "cell_type": "code",
   "execution_count": null,
   "id": "f85341ae",
   "metadata": {},
   "outputs": [],
   "source": [
    "cqpeae_result"
   ]
  },
  {
   "cell_type": "code",
   "execution_count": null,
   "id": "53e3ec11",
   "metadata": {},
   "outputs": [],
   "source": [
    "print(\"Absolute Error for CQPEAE: {}\".format(np.abs(cqpeae_result['ae'][0] - desired_result)))"
   ]
  },
  {
   "cell_type": "code",
   "execution_count": null,
   "id": "32b3803a",
   "metadata": {},
   "outputs": [],
   "source": [
    "ae_object.oracle_calls"
   ]
  },
  {
   "cell_type": "code",
   "execution_count": null,
   "id": "4239f95d",
   "metadata": {},
   "outputs": [],
   "source": [
    "ae_object.max_oracle_depth"
   ]
  },
  {
   "cell_type": "code",
   "execution_count": null,
   "id": "e2f1a731",
   "metadata": {},
   "outputs": [],
   "source": [
    "ae_object.schedule_pdf"
   ]
  },
  {
   "cell_type": "code",
   "execution_count": null,
   "id": "6b102ce3",
   "metadata": {},
   "outputs": [],
   "source": [
    "print(ae_object.run_time)\n",
    "print(ae_object.quantum_time)"
   ]
  },
  {
   "cell_type": "markdown",
   "id": "1cb5aa09",
   "metadata": {},
   "source": [
    "### 3.3 IQPEAE"
   ]
  },
  {
   "cell_type": "code",
   "execution_count": null,
   "id": "7b3e1e36",
   "metadata": {},
   "outputs": [],
   "source": [
    "ae_object.ae_type = 'IQPEAE'\n",
    "ae_object.run()\n",
    "iqpeae_result = ae_object.ae_pdf"
   ]
  },
  {
   "cell_type": "code",
   "execution_count": null,
   "id": "95775ab3",
   "metadata": {},
   "outputs": [],
   "source": [
    "iqpeae_result"
   ]
  },
  {
   "cell_type": "code",
   "execution_count": null,
   "id": "16486e32",
   "metadata": {},
   "outputs": [],
   "source": [
    "print(\"Absolute Error for IQPEAE: {}\".format(np.abs(iqpeae_result['ae'][0] - desired_result)))"
   ]
  },
  {
   "cell_type": "code",
   "execution_count": null,
   "id": "a5f87e2f",
   "metadata": {},
   "outputs": [],
   "source": [
    "ae_object.oracle_calls"
   ]
  },
  {
   "cell_type": "code",
   "execution_count": null,
   "id": "6a5f3b01",
   "metadata": {},
   "outputs": [],
   "source": [
    "ae_object.max_oracle_depth"
   ]
  },
  {
   "cell_type": "code",
   "execution_count": null,
   "id": "66e302c1",
   "metadata": {},
   "outputs": [],
   "source": [
    "ae_object.schedule_pdf"
   ]
  },
  {
   "cell_type": "code",
   "execution_count": null,
   "id": "63e3d58f",
   "metadata": {},
   "outputs": [],
   "source": [
    "print(ae_object.run_time)\n",
    "print(ae_object.quantum_time)"
   ]
  },
  {
   "cell_type": "markdown",
   "id": "985b1294",
   "metadata": {},
   "source": [
    "### 3.4 IQAE"
   ]
  },
  {
   "cell_type": "code",
   "execution_count": null,
   "id": "19e82fc6",
   "metadata": {},
   "outputs": [],
   "source": [
    "ae_object.ae_type = 'IQAE'\n",
    "ae_object.run()\n",
    "iqae_result = ae_object.ae_pdf"
   ]
  },
  {
   "cell_type": "code",
   "execution_count": null,
   "id": "97a6e136",
   "metadata": {},
   "outputs": [],
   "source": [
    "iqae_result"
   ]
  },
  {
   "cell_type": "code",
   "execution_count": null,
   "id": "a24db7aa",
   "metadata": {},
   "outputs": [],
   "source": [
    "print(\"Absolute Error for IQAE: {}\".format(np.abs(iqae_result['ae'][0] - desired_result)))"
   ]
  },
  {
   "cell_type": "code",
   "execution_count": null,
   "id": "452af784",
   "metadata": {},
   "outputs": [],
   "source": [
    "ae_object.oracle_calls"
   ]
  },
  {
   "cell_type": "code",
   "execution_count": null,
   "id": "8ebaef06",
   "metadata": {},
   "outputs": [],
   "source": [
    "ae_object.max_oracle_depth"
   ]
  },
  {
   "cell_type": "code",
   "execution_count": null,
   "id": "33d0cb64",
   "metadata": {},
   "outputs": [],
   "source": [
    "ae_object.schedule_pdf"
   ]
  },
  {
   "cell_type": "code",
   "execution_count": null,
   "id": "9f05c81f",
   "metadata": {},
   "outputs": [],
   "source": [
    "print(ae_object.run_time)\n",
    "print(ae_object.quantum_time)"
   ]
  },
  {
   "cell_type": "markdown",
   "id": "0aaecc35",
   "metadata": {},
   "source": [
    "### 3.5 RQAE\n",
    "\n",
    "**BE AWARE** The RQAE algorithm provides directly the **Amplitude** of the state so we need to compare vs the square root!!\n",
    "\n",
    "$$\n",
    "    \\begin{array}{l}\n",
    "    &\\mathcal{O}\\longrightarrow \\mathcal{P}.\\\\\n",
    "    & |\\Psi\\rangle \\longrightarrow \\scriptstyle \\dfrac{1}{\\sqrt{0+1+2+3+4+5+6+7+8}}\\left[\\sqrt{0}|0\\rangle+\\sqrt{1}|1\\rangle+\\sqrt{2}|2\\rangle+\\sqrt{3}|3\\rangle+\\sqrt{4}|4\\rangle+\\sqrt{5}|5\\rangle+\\sqrt{6}|6\\rangle+\\sqrt{7}|7\\rangle\\right].\\\\\n",
    "    & a|\\Psi_0\\rangle \\longrightarrow \\dfrac{\\sqrt{1}}{\\sqrt{0+1+2+3+4+5+6+7+8}}|1\\rangle.\\\\\n",
    "    & \\sqrt{1-a^2}|\\Psi_1\\rangle \\longrightarrow \\scriptstyle \\dfrac{1}{\\sqrt{0+1+2+3+4+5+6+7+8}}\\left[\\sqrt{0}|0\\rangle+\\sqrt{2}|2\\rangle+\\sqrt{3}|3\\rangle+\\sqrt{4}|4\\rangle+\\sqrt{5}|5\\rangle+\\sqrt{6}|6\\rangle+\\sqrt{7}|7\\rangle\\right].\\\\\n",
    "    \\end{array}\n",
    "$$"
   ]
  },
  {
   "cell_type": "code",
   "execution_count": null,
   "id": "9046d442",
   "metadata": {},
   "outputs": [],
   "source": [
    "ae_object.ae_type = 'RQAE'\n",
    "ae_object.run()\n",
    "rqae_result = ae_object.ae_pdf"
   ]
  },
  {
   "cell_type": "code",
   "execution_count": null,
   "id": "98559939",
   "metadata": {},
   "outputs": [],
   "source": [
    "rqae_result**2"
   ]
  },
  {
   "cell_type": "code",
   "execution_count": null,
   "id": "d39c13c1",
   "metadata": {},
   "outputs": [],
   "source": [
    "#in this case the desired result is "
   ]
  },
  {
   "cell_type": "code",
   "execution_count": null,
   "id": "66bcd775",
   "metadata": {},
   "outputs": [],
   "source": [
    "print(\"Absolute Error for RQAE: {}\".format(np.abs(rqae_result['ae'][0]**2 -desired_result)))"
   ]
  },
  {
   "cell_type": "code",
   "execution_count": null,
   "id": "0b09a87a",
   "metadata": {},
   "outputs": [],
   "source": [
    "ae_object.oracle_calls"
   ]
  },
  {
   "cell_type": "code",
   "execution_count": null,
   "id": "e11cd646",
   "metadata": {},
   "outputs": [],
   "source": [
    "ae_object.max_oracle_depth"
   ]
  },
  {
   "cell_type": "code",
   "execution_count": null,
   "id": "bce48845",
   "metadata": {},
   "outputs": [],
   "source": [
    "ae_object.schedule_pdf"
   ]
  },
  {
   "cell_type": "code",
   "execution_count": null,
   "id": "6841060b",
   "metadata": {},
   "outputs": [],
   "source": [
    "print(ae_object.run_time)\n",
    "print(ae_object.quantum_time)"
   ]
  },
  {
   "cell_type": "markdown",
   "id": "b00d9f78",
   "metadata": {},
   "source": [
    "### 3.6 MCAE"
   ]
  },
  {
   "cell_type": "code",
   "execution_count": null,
   "id": "c0fd1d6d",
   "metadata": {},
   "outputs": [],
   "source": [
    "ae_dict.update({'ae_type': 'MLAE'})\n",
    "ae_dict.update({'shots': 1000})\n",
    "\n",
    "ae_object = AE(\n",
    "    oracle=oracle,\n",
    "    target=target,\n",
    "    index=index,\n",
    "    **ae_dict)\n",
    "\n",
    "\n",
    "ae_object.run()\n",
    "mcae_result = ae_object.ae_pdf"
   ]
  },
  {
   "cell_type": "code",
   "execution_count": null,
   "id": "d95acb8b",
   "metadata": {},
   "outputs": [],
   "source": [
    "print(\"Absolute Error for MCAE: {}\".format(np.abs(mcae_result['ae'][0] - desired_result)))"
   ]
  },
  {
   "cell_type": "code",
   "execution_count": null,
   "id": "baef113a",
   "metadata": {},
   "outputs": [],
   "source": [
    "ae_object.oracle_calls"
   ]
  },
  {
   "cell_type": "code",
   "execution_count": null,
   "id": "0816b5a5",
   "metadata": {},
   "outputs": [],
   "source": [
    "ae_object.max_oracle_depth"
   ]
  },
  {
   "cell_type": "code",
   "execution_count": null,
   "id": "ccbc83eb",
   "metadata": {},
   "outputs": [],
   "source": [
    "ae_object.schedule_pdf"
   ]
  },
  {
   "cell_type": "code",
   "execution_count": null,
   "id": "25ff945d",
   "metadata": {},
   "outputs": [],
   "source": [
    "print(ae_object.run_time)\n",
    "print(ae_object.quantum_time)"
   ]
  },
  {
   "cell_type": "code",
   "execution_count": null,
   "id": "d57cfd20",
   "metadata": {},
   "outputs": [],
   "source": []
  }
 ],
 "metadata": {
  "kernelspec": {
   "display_name": "Python 3 (ipykernel)",
   "language": "python",
   "name": "python3"
  },
  "language_info": {
   "codemirror_mode": {
    "name": "ipython",
    "version": 3
   },
   "file_extension": ".py",
   "mimetype": "text/x-python",
   "name": "python",
   "nbconvert_exporter": "python",
   "pygments_lexer": "ipython3",
   "version": "3.9.15"
  }
 },
 "nbformat": 4,
 "nbformat_minor": 5
}
