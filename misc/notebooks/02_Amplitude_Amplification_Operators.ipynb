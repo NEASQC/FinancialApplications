{
 "cells": [
  {
   "cell_type": "markdown",
   "id": "00780e74",
   "metadata": {},
   "source": [
    "# Amplitude Amplification Module"
   ]
  },
  {
   "cell_type": "markdown",
   "id": "c334655b",
   "metadata": {},
   "source": [
    "The present notebook reviews the *amplitude_amplification* module from the *AA* package in the *QQuantLib* library (**QQuantLib/AA/amplitude_amplification.py**). This module implements all the necessary functions for constructing Grover-like operators, which are essential for **amplitude amplification** procedures.\n",
    "\n",
    "This notebook and the associated module are based on the following references:\n",
    "\n",
    "- Brassard, G., Hoyer, P., Mosca, M., & Tapp, A. (2000). Quantum Amplitude Amplification and Estimation. *AMS Contemporary Mathematics Series*, 305. [arXiv:quant-ph/0005055v1](https://arxiv.org/abs/quant-ph/0005055v1)\n",
    "- NEASQC Deliverable: *D5.1: Review of State-of-the-Art for Pricing and Computation of VaR*. [PDF Link](https://www.neasqc.eu/wp-content/uploads/2021/06/NEASQC_D5.1_Review-of-state-of-the-art-for-Pricing-and-Computation-of-VaR_R2.0_Final.pdf)"
   ]
  },
  {
   "cell_type": "code",
   "execution_count": null,
   "id": "53308c7b",
   "metadata": {},
   "outputs": [],
   "source": [
    "import sys\n",
    "sys.path.append(\"../../\")"
   ]
  },
  {
   "cell_type": "code",
   "execution_count": null,
   "id": "f8a4d01d",
   "metadata": {},
   "outputs": [],
   "source": [
    "import numpy as np\n",
    "import pandas as pd\n",
    "import matplotlib.pyplot as plt\n",
    "import qat.lang.AQASM as qlm"
   ]
  },
  {
   "cell_type": "code",
   "execution_count": null,
   "id": "5b35adc1",
   "metadata": {},
   "outputs": [],
   "source": [
    "#This cell loads the QLM solver. See notebook: 00_AboutTheNotebooksAndQPUs.ipynb\n",
    "from QQuantLib.qpu.get_qpu import get_qpu\n",
    "# myqlm qpus: python, c\n",
    "# QLM qpus accessed using Qaptiva Access library: qlmass_linalg, qlmass_mps\n",
    "# QLM qpus: Only in local Quantum Learning Machine: linalg, mps\n",
    "my_qpus = [\"python\", \"c\", \"qlmass_linalg\", \"qlmass_mps\", \"linalg\", \"mps\"]\n",
    "\n",
    "linalg_qpu = get_qpu(my_qpus[1])"
   ]
  },
  {
   "cell_type": "code",
   "execution_count": null,
   "id": "705c2eae",
   "metadata": {},
   "outputs": [],
   "source": [
    "#See 01_DataLoading_Module_Use for the use of this function\n",
    "from QQuantLib.utils.data_extracting import get_results"
   ]
  },
  {
   "cell_type": "markdown",
   "id": "0845ce7c",
   "metadata": {},
   "source": [
    "## 1. Data loading"
   ]
  },
  {
   "cell_type": "markdown",
   "id": "947deec0",
   "metadata": {},
   "source": [
    "Before performing any amplitude amplification, we need to load data into the quantum circuit. As this step is auxiliary and intended only to demonstrate the effect of amplification, we will load a discrete probability distribution. In this case, we will use a circuit with $ n = 3 $ qubits, which results in a total of $ N = 2^n = 8 $ computational basis states. The discrete probability distribution we will load is defined as:\n",
    "$$\n",
    "p_d = \\frac{(0, 1, 2, 3, 4, 5, 6, 7)}{0 + 1 + 2 + 3 + 4 + 5 + 6 + 7}.\n",
    "$$\n",
    "Note that this probability distribution is properly normalized.\n",
    "\n",
    "To achieve this, we will use the `load_probability` function from **QQuantLib/DL/data_loading**. The resulting quantum state can be expressed as:\n",
    "$$\n",
    "|\\Psi\\rangle = \\frac{1}{\\sqrt{0 + 1 + 2 + 3 + 4 + 5 + 6 + 7}} \\left( \\sqrt{0}|0\\rangle + \\sqrt{1}|1\\rangle + \\sqrt{2}|2\\rangle + \\sqrt{3}|3\\rangle + \\sqrt{4}|4\\rangle + \\sqrt{5}|5\\rangle + \\sqrt{6}|6\\rangle + \\sqrt{7}|7\\rangle \\right).\n",
    "$$"
   ]
  },
  {
   "cell_type": "code",
   "execution_count": null,
   "id": "31d8ea85",
   "metadata": {},
   "outputs": [],
   "source": [
    "from QQuantLib.DL.data_loading import load_probability, load_array"
   ]
  },
  {
   "cell_type": "code",
   "execution_count": null,
   "id": "0f08d7a2",
   "metadata": {},
   "outputs": [],
   "source": [
    "n = 3\n",
    "N = 2**n\n",
    "x = np.arange(N)\n",
    "p = x/np.sum(x)"
   ]
  },
  {
   "cell_type": "code",
   "execution_count": null,
   "id": "31d06665",
   "metadata": {},
   "outputs": [],
   "source": [
    "probability_routine = qlm.QRoutine()\n",
    "register = probability_routine.new_wires(n)\n",
    "probability_routine.apply(load_probability(p),register)\n",
    "%qatdisplay probability_routine --svg"
   ]
  },
  {
   "cell_type": "code",
   "execution_count": null,
   "id": "d7c10774",
   "metadata": {},
   "outputs": [],
   "source": [
    "results_loading, _, _, _ = get_results(probability_routine, linalg_qpu=linalg_qpu, shots=0)\n",
    "amplitudes_loading = results_loading[\"Amplitude\"].values\n",
    "results_loading"
   ]
  },
  {
   "cell_type": "code",
   "execution_count": null,
   "id": "6408861a",
   "metadata": {},
   "outputs": [],
   "source": [
    "print(\"Classical probabilities: \", np.sqrt(p))\n",
    "print(\"Quantum probabilities: \",amplitudes_loading)\n",
    "print('Test OK?: ',np.isclose(np.sqrt(p), amplitudes_loading).all())"
   ]
  },
  {
   "cell_type": "markdown",
   "id": "4caf9fd3",
   "metadata": {},
   "source": [
    "Observe that the information stored in the quantum state is equivalent to the data contained in the array $ p $. For further details on how to load data into a quantum circuit, refer to the notebook *01_Data_Loading_Module_Use.ipynb*."
   ]
  },
  {
   "cell_type": "markdown",
   "id": "10473196",
   "metadata": {},
   "source": [
    "## 2. Reflections"
   ]
  },
  {
   "cell_type": "markdown",
   "id": "8b2125cf",
   "metadata": {},
   "source": [
    "**Reflections** are essential components for amplitude amplification. A reflection effectively rotates the phase of a quantum state by $ \\frac{\\pi}{2} $. In simpler terms, for real-valued amplitudes, **it changes the sign of the state**. \n",
    "\n",
    "The function `reflection` from the **QQuantLib/AA/amplitude_amplification** module is used to create these reflections."
   ]
  },
  {
   "cell_type": "code",
   "execution_count": null,
   "id": "2126ac2a",
   "metadata": {},
   "outputs": [],
   "source": [
    "from QQuantLib.AA.amplitude_amplification import reflection"
   ]
  },
  {
   "cell_type": "markdown",
   "id": "f62710bd",
   "metadata": {},
   "source": [
    "Creating a reflection over a quantum state using the aforementioned function involves a two-step process:\n",
    "\n",
    "1. **Creating the Reflection QLM Abstract Gate**  \n",
    "   This is achieved by calling the `reflection` function and specifying the quantum state over which the reflection will be applied. The state must be provided as a Python list when the function is called. For example:\n",
    "   ```python\n",
    "   state = [1, 0, 0, 1]\n",
    "   RG = reflection(state)\n",
    "   ```\n",
    "   The function generates a QLM AbstractGate that represents the reflection operation.\n",
    "2. **Applying the Reflection QLM Abstract Gate**\n",
    "    The resulting reflection gate can then be applied to a QLM Program or QRoutine by specifying the qubits it will act upon. For example:\n",
    "    ```python\n",
    "    qlm_routine.apply(RG, [qbit[0], qbit[1], qbit[2], ...])\n",
    "    ```\n",
    "\n",
    "Let us now explore some examples to illustrate this process.\n",
    "\n",
    "### NOTE\n",
    "\n",
    "By default, the `reflection` function uses the standard QLM implementation for the mandatory multi-controlled Z gate. If the argument `mcz_qlm` is set to `False`, a multiplexor-based version of the multi-controlled Z gate will be used instead"
   ]
  },
  {
   "cell_type": "markdown",
   "id": "429fa6a0",
   "metadata": {},
   "source": [
    "### 2.1 First example"
   ]
  },
  {
   "cell_type": "markdown",
   "id": "3cc54e31",
   "metadata": {},
   "source": [
    "We will begin with a simple example. In this case, our goal is to flip the sign of the state $ |7\\rangle $. To achieve this, we will use the function `reflection`. This function accepts a list as a parameter, where the list specifies which combination of qubits will undergo reflection. Since the binary representation of the state $ |7\\rangle $ is $ 111 $, we need to pass the argument $ [1, 1, 1] $ to the function."
   ]
  },
  {
   "cell_type": "code",
   "execution_count": null,
   "id": "3604e086",
   "metadata": {},
   "outputs": [],
   "source": [
    "reflection1 = qlm.QRoutine()\n",
    "reflection1_register = reflection1.new_wires(n)\n",
    "reflection1.apply(probability_routine,reflection1_register)\n",
    "#Step 1: Creating reflection QLM Abstract Gate\n",
    "ReflectionGate = reflection([1,1,1])\n",
    "#Comment before line and uncoment following for For multiplexor implementation of multi-controlled Z gate\n",
    "#ReflectionGate = reflection([1,1,1], mcz_qlm=False)\n",
    "%qatdisplay ReflectionGate --depth  --svg\n",
    "#Step 2: Applying ReflectionGate to the affected qbits: In present case the reflection gate affects all the qbits of the system\n",
    "reflection1.apply(ReflectionGate, reflection1_register)\n",
    "%qatdisplay reflection1 --depth 1 --svg"
   ]
  },
  {
   "cell_type": "markdown",
   "id": "8ac1d7d9",
   "metadata": {},
   "source": [
    "Now we print the amplitudes stored in the quantum circuit against the ones stored in the array $p$ to see the differences in sign."
   ]
  },
  {
   "cell_type": "code",
   "execution_count": null,
   "id": "3ca5a7cf",
   "metadata": {},
   "outputs": [],
   "source": [
    "results_reflection1, _, _, _ = get_results(reflection1, linalg_qpu=linalg_qpu, shots=0)\n",
    "amplitudes_reflection1 = results_reflection1[\"Amplitude\"].values\n",
    "results_reflection1"
   ]
  },
  {
   "cell_type": "code",
   "execution_count": null,
   "id": "4c328540",
   "metadata": {},
   "outputs": [],
   "source": [
    "print(\"Classical amplitudes: \", np.sqrt(p))\n",
    "print(\"Quantum amplitudes: \",amplitudes_reflection1)"
   ]
  },
  {
   "cell_type": "code",
   "execution_count": null,
   "id": "f16812dc",
   "metadata": {},
   "outputs": [],
   "source": [
    "print('Test OK: ',\n",
    "    np.isclose(np.sqrt(p)[:-1], amplitudes_reflection1[:-1]).all() and\n",
    "    np.isclose(np.sqrt(p)[-1], -amplitudes_reflection1[-1]).all()\n",
    "     )"
   ]
  },
  {
   "cell_type": "markdown",
   "id": "36c91efb",
   "metadata": {},
   "source": [
    "As we see the last state has changed from $0.5$ to $-0.5$."
   ]
  },
  {
   "cell_type": "markdown",
   "id": "295d43ea",
   "metadata": {},
   "source": [
    "### 2.2 Second example"
   ]
  },
  {
   "cell_type": "markdown",
   "id": "75017d19",
   "metadata": {},
   "source": [
    "In this example, we tackle a more complex task: flipping the sign of all states that start with a `1`. These states are:\n",
    "- $ 00\\mathbf{1} \\longrightarrow |1\\rangle $\n",
    "- $ 01\\mathbf{1} \\longrightarrow |3\\rangle $\n",
    "- $ 10\\mathbf{1} \\longrightarrow |5\\rangle $\n",
    "- $ 11\\mathbf{1} \\longrightarrow |7\\rangle $\n",
    "\n",
    "To achieve this, we again use the `reflection` function. However, this time we apply the reflection operation only to the first qubit, as it determines whether the state starts with a `1`. By targeting the first register, we ensure that the sign flip is applied to all states where the first qubit is in the state $ |1\\rangle $."
   ]
  },
  {
   "cell_type": "code",
   "execution_count": null,
   "id": "76508d02",
   "metadata": {
    "scrolled": true
   },
   "outputs": [],
   "source": [
    "reflection2 = qlm.QRoutine()\n",
    "reflection2_register = reflection2.new_wires(n)\n",
    "reflection2.apply(probability_routine,reflection2_register)\n",
    "#Step 1: Creating reflection QLM Abstract Gate\n",
    "ReflectionGate2 = reflection([1])\n",
    "#Comment before line and uncomment following for For multiplexor implementation of multi-controlled Z gate\n",
    "#ReflectionGate2 = reflection([1], mcz_qlm=False) \n",
    "%qatdisplay ReflectionGate2 --depth   --svg\n",
    "#Step 2: Applying ReflectionGate to the affected qubits: In this case the first qubit\n",
    "reflection2.apply(ReflectionGate2,reflection2_register[0])\n",
    "%qatdisplay reflection2 --depth 1 --svg"
   ]
  },
  {
   "cell_type": "markdown",
   "id": "c41e6df8",
   "metadata": {},
   "source": [
    "Now we will see that the positions $1,3,5$ and $7$ have a different sign from the ones in array $p_d$."
   ]
  },
  {
   "cell_type": "code",
   "execution_count": null,
   "id": "3c6cd6cc",
   "metadata": {},
   "outputs": [],
   "source": [
    "results_reflection2, _, _, _ = get_results(reflection2, linalg_qpu=linalg_qpu, shots=0)\n",
    "amplitudes_reflection2 = results_reflection2[\"Amplitude\"].values\n",
    "results_reflection2"
   ]
  },
  {
   "cell_type": "code",
   "execution_count": null,
   "id": "b8a432b7",
   "metadata": {},
   "outputs": [],
   "source": [
    "print(\"Classical amplitudes: \", np.sqrt(p))\n",
    "print(\"Quantum amplitudes: \",amplitudes_reflection2)"
   ]
  },
  {
   "cell_type": "code",
   "execution_count": null,
   "id": "1157839f",
   "metadata": {},
   "outputs": [],
   "source": [
    "print('Test OK: ',\n",
    "    np.isclose(\n",
    "        np.sqrt(p)[[0, 2, 4, 6]],\n",
    "        amplitudes_reflection2[[0, 2, 4, 6]]\n",
    "    ).all() and\n",
    "    np.isclose(\n",
    "        np.sqrt(p)[[1, 3, 5, 7]],\n",
    "        -amplitudes_reflection2[[1, 3, 5, 7]]\n",
    "    ).all()\n",
    ")"
   ]
  },
  {
   "cell_type": "markdown",
   "id": "18f8a41b",
   "metadata": {},
   "source": [
    "### 2.3 Third example"
   ]
  },
  {
   "cell_type": "markdown",
   "id": "2a2916f1",
   "metadata": {},
   "source": [
    "In this example, we will perform a reflection over a more specific set of states: $ |1\\rangle, |3\\rangle, |5\\rangle, |6\\rangle, |7\\rangle $. To achieve this, we can break the process into two sub-reflections:\n",
    "\n",
    "1. **Reflection over $ |1\\rangle, |3\\rangle, |5\\rangle, |7\\rangle $:**  \n",
    "   This reflection was already implemented in **Section 2.2**, where the sign of all states starting with `1` (i.e., $ |1\\rangle, |3\\rangle, |5\\rangle, |7\\rangle $) was flipped.\n",
    "\n",
    "2. **Reflection over $ |6\\rangle $:**  \n",
    "   The remaining state $ |6\\rangle $ can be reflected using the same strategy outlined in **Section 2.1**, where a reflection is applied to a single target state.\n",
    "\n",
    "By combining these two sub-reflections, we can effectively perform the desired reflection over the specified set of states."
   ]
  },
  {
   "cell_type": "code",
   "execution_count": null,
   "id": "6f4bb9c2",
   "metadata": {},
   "outputs": [],
   "source": [
    "reflection3 = qlm.QRoutine()\n",
    "reflection3_register = reflection3.new_wires(n)\n",
    "reflection3.apply(probability_routine,reflection3_register)\n",
    "reflection3.apply(reflection([1]),reflection3_register[0])\n",
    "#Comment before line and uncoment following for For multiplexor implementation of multi-controlled Z gate\n",
    "#reflection3.apply(reflection([1], mcz_qlm=False),reflection3_register[0])\n",
    "reflection3.apply(reflection([1,1,0]),reflection3_register)\n",
    "#Comment before line and uncoment following for For multiplexor implementation of multi-controlled Z gate\n",
    "#reflection3.apply(reflection([1,1,0], mcz_qlm=False),reflection3_register)\n",
    "%qatdisplay reflection3 --depth 2 --svg"
   ]
  },
  {
   "cell_type": "markdown",
   "id": "7ece034d",
   "metadata": {},
   "source": [
    "Now we will see that the positions $1,3,5,6$ and $7$ have a different sign from the ones in array $p_d$."
   ]
  },
  {
   "cell_type": "code",
   "execution_count": null,
   "id": "cd1a0727",
   "metadata": {},
   "outputs": [],
   "source": [
    "results_reflection3, _, _, _ = get_results(reflection3, linalg_qpu=linalg_qpu, shots=0)\n",
    "amplitudes_reflection3 = results_reflection3[\"Amplitude\"].values\n",
    "results_reflection3"
   ]
  },
  {
   "cell_type": "code",
   "execution_count": null,
   "id": "5646fe70",
   "metadata": {},
   "outputs": [],
   "source": [
    "print(\"Classical amplitudes: \", np.sqrt(p))\n",
    "print(\"Quantum amplitudes: \",amplitudes_reflection3)"
   ]
  },
  {
   "cell_type": "code",
   "execution_count": null,
   "id": "053eaef1",
   "metadata": {},
   "outputs": [],
   "source": [
    "print('Test OK: ',\n",
    "    np.isclose(\n",
    "        amplitudes_reflection3[[1, 3, 5, 6, 7]],\n",
    "        -np.sqrt(p)[[1, 3, 5, 6, 7]]\n",
    "    ).all() and\n",
    "    np.isclose(\n",
    "        amplitudes_reflection3[[0, 2, 4]],\n",
    "        np.sqrt(p)[[0, 2, 4]]\n",
    "    ).all()\n",
    ")"
   ]
  },
  {
   "cell_type": "markdown",
   "id": "c55bc024",
   "metadata": {},
   "source": [
    "Note that doing consecutive reflections over sets is a commutative operation **when the sets are disjoint**."
   ]
  },
  {
   "cell_type": "markdown",
   "id": "eebeb409",
   "metadata": {},
   "source": [
    "## 3. Grover operator"
   ]
  },
  {
   "cell_type": "markdown",
   "id": "1835bb5e",
   "metadata": {},
   "source": [
    "In general, the Grover operator operates as follows. Suppose we have an operator (or routine) that performs the transformation:\n",
    "$$\n",
    "\\mathcal{O}|0\\rangle = |\\Psi \\rangle = \\sin(\\theta)|\\Psi_0\\rangle + \\cos(\\theta)|\\Psi_1\\rangle,\n",
    "$$\n",
    "where $|\\Psi_0\\rangle$ and $|\\Psi_1\\rangle$ are orthogonal states. The Grover operator $\\mathcal{G}$ then applies the following transformation:\n",
    "$$\n",
    "|\\Psi \\rangle \\longrightarrow \\mathcal{G}^k|\\Psi\\rangle = \\sin\\left((2k+1)\\theta\\right)|\\Psi_0\\rangle + \\cos\\left((2k+1)\\theta\\right)|\\Psi_1\\rangle.\n",
    "$$\n",
    "\n",
    "This operator is commonly referred to as **amplitude amplification** in the literature, as it *increases* the probability of obtaining the state $|\\Psi_0\\rangle$. However, note that when the angle $(2k+1)\\theta$ exceeds $\\frac{\\pi}{2}$, the probability begins to decrease instead of increasing. Thus, when referring to \"amplification,\" keep in mind that it can have this diminishing effect.\n",
    "\n",
    "The Grover operator $\\mathcal{G}$ can be decomposed into two distinct operators:\n",
    "$$\n",
    "\\mathcal{G} = \\hat{U}_{|\\Psi\\rangle} \\hat{U}_{|\\Psi_{0}\\rangle},\n",
    "$$\n",
    "where $\\hat{U}_{|\\Psi_{0}\\rangle}$ and $\\hat{U}_{|\\Psi\\rangle}$ are defined as:\n",
    "$$\n",
    "\\hat{U}_{|\\Psi_{0}\\rangle} = \\hat{I} - 2|\\Psi_{0}\\rangle \\langle \\Psi_{0}|,\n",
    "$$\n",
    "$$\n",
    "\\hat{U}_{|\\Psi\\rangle} = \\hat{I} - 2|\\Psi\\rangle \\langle \\Psi|.\n",
    "$$\n",
    "\n",
    "In this section, we will review all the operators implemented for constructing the Grover operator."
   ]
  },
  {
   "cell_type": "markdown",
   "id": "b0dc8e01",
   "metadata": {},
   "source": [
    "### 3.2 Operator $\\hat{U}_{|\\Psi_{0}\\rangle}$"
   ]
  },
  {
   "cell_type": "markdown",
   "id": "6941eb52",
   "metadata": {},
   "source": [
    "The first mandatory operator is defined as:\n",
    "$$\n",
    "\\hat{U}_{|\\Psi_{0}\\rangle} = \\hat{I} - 2|\\Psi_{0}\\rangle \\langle \\Psi_{0}|.\n",
    "$$\n",
    "\n",
    "When this operator is applied to the state $|\\Psi\\rangle$, the result is:\n",
    "$$\n",
    "\\hat{U}_{|\\Psi_{0}\\rangle} |\\Psi\\rangle = -\\sin(\\theta)|\\Psi_{0}\\rangle + \\cos(\\theta)|\\Psi_{1}\\rangle.\n",
    "$$\n",
    "\n",
    "Thus, the operator $\\hat{U}_{|\\Psi_{0}\\rangle}$ represents a reflection of the state $|\\Psi_{0}\\rangle$ around the state $|\\Psi_{1}\\rangle$. Graphically, this can be visualized as follows:\n",
    "\n",
    "\n",
    "\n",
    "\n",
    "<img src=\"images/Grover.svg\" width=\"500\">\n",
    "\n",
    "### Implementation in **QQuantLib**\n",
    "\n",
    "The function `create_u0_gate` from the **QQuantLib/AA/amplitude_amplification** module allows us to create an Abstract Gate that performs this operation. Similar to the reflection process, applying $\\hat{U}_{|\\Psi_{0}\\rangle}$ to a quantum state involves a two-step process:\n",
    "\n",
    "1. **Creating the $\\hat{U}_{|\\Psi_{0}\\rangle}$ QLM AbstractGate**  \n",
    "   This is achieved using the `create_u0_gate` function, with the following inputs:\n",
    "   - The first argument is always the `oracle` (i.e., the QLM QRoutine or Program).\n",
    "   - The second argument is a list containing the binary representation of the state whose sign we want to flip (the marked state, `target`).\n",
    "   - The third argument is a list of the qubit registers over which the operation will be applied (`index`).\n",
    "\n",
    "2. **Applying the $\\hat{U}_{|\\Psi_{0}\\rangle}$ QLM AbstractGate**  \n",
    "   Once the gate is created, it can be applied to the specified qubit registers.\n",
    "\n",
    "This process closely mirrors the syntax used for reflections, as `create_u0_gate` is internally implemented using the `reflection` function.\n",
    "\n",
    "---\n",
    "\n",
    "### **NOTE**\n",
    "By default, the standard QLM construction for the multi-controlled Z gate is used. If the argument `mcz_qlm=False` is passed, a multiplexor-based version of the multi-controlled Z gate will be used instead.\n",
    "\n",
    "Next, we provide two examples to illustrate this process."
   ]
  },
  {
   "cell_type": "code",
   "execution_count": null,
   "id": "accdc144",
   "metadata": {},
   "outputs": [],
   "source": [
    "from QQuantLib.AA.amplitude_amplification import create_u0_gate"
   ]
  },
  {
   "cell_type": "markdown",
   "id": "16a31add",
   "metadata": {},
   "source": [
    "#### 3.2.1 First example"
   ]
  },
  {
   "cell_type": "markdown",
   "id": "4fc93839",
   "metadata": {},
   "source": [
    "In this first example, our goal is to mark the state $ |7\\rangle $. Its binary representation is $ 111 $, and we want to apply the operation to the qubit registers `[0, 1, 2]`. Following the arguments outlined above, we call the `create_u0_gate` function with the following inputs:\n",
    "\n",
    "- **First Input**: The `oracle`, which is the QLM Routine containing the loaded probability distribution.\n",
    "- **Second Input**: The state (`target`) we want to mark, provided in binary representation: `[1, 1, 1]`.\n",
    "- **Third Input**: The registers (`index`) over which we want to apply the operation: `[0, 1, 2]`.\n",
    "\n",
    "This configuration ensures that the sign of the state $ |7\\rangle $ is flipped while leaving the other states unaffected."
   ]
  },
  {
   "cell_type": "code",
   "execution_count": null,
   "id": "142f758a",
   "metadata": {},
   "outputs": [],
   "source": [
    "routine_U0_1 = qlm.QRoutine()\n",
    "register_U0_1 = routine_U0_1.new_wires(probability_routine.arity)\n",
    "routine_U0_1.apply(probability_routine,register_U0_1)\n",
    "#Creating U0_gate\n",
    "U0_gate = create_u0_gate(\n",
    "    probability_routine, #oracle\n",
    "    [1,1,1], #marked state\n",
    "    [0,1,2] #affected qbits\n",
    ")\n",
    "#Comment before 5 lines and uncoment following for For multiplexor implementation of multi-controlled Z gate\n",
    "#U0_gate = create_u0_gate(probability_routine, [1,1,1], [0,1,2], mcz_qlm=False)\n",
    "%qatdisplay U0_gate --depth  --svg\n",
    "#Apply U0_gate\n",
    "routine_U0_1.apply(U0_gate,register_U0_1)\n",
    "%qatdisplay routine_U0_1 --depth 2 --svg"
   ]
  },
  {
   "cell_type": "markdown",
   "id": "4b8a5013",
   "metadata": {},
   "source": [
    "If we visualize the circuit with one additional layer of depth, we will observe that it is implemented as a `reflection([1, 1, 1])` acting on the qubit registers `[0, 1, 2]`.\n",
    "\n",
    "Finally, by examining the amplitudes stored in the quantum circuit, we can confirm that only the last element (corresponding to the state $ |7\\rangle $) is affected by the operation."
   ]
  },
  {
   "cell_type": "code",
   "execution_count": null,
   "id": "ec3209a4",
   "metadata": {},
   "outputs": [],
   "source": [
    "results_U0_1,_ ,_ ,_  = get_results(routine_U0_1,linalg_qpu)"
   ]
  },
  {
   "cell_type": "code",
   "execution_count": null,
   "id": "82eae3d4",
   "metadata": {},
   "outputs": [],
   "source": [
    "amplitudes_U0_1 = results_U0_1[\"Amplitude\"].values\n",
    "print(\"Classical probabilities: \", np.sqrt(p))\n",
    "print(\"Quantum probabilities: \",amplitudes_U0_1)"
   ]
  },
  {
   "cell_type": "code",
   "execution_count": null,
   "id": "9115449c",
   "metadata": {},
   "outputs": [],
   "source": [
    "print('Test OK: ',\n",
    "    np.isclose(\n",
    "        np.sqrt(p)[:-1],\n",
    "        amplitudes_U0_1[:-1]\n",
    "    ).all() and\n",
    "    np.isclose(\n",
    "        np.sqrt(p)[-1],\n",
    "        -amplitudes_U0_1[-1]\n",
    "    ).all()\n",
    ")"
   ]
  },
  {
   "cell_type": "markdown",
   "id": "f9f62007",
   "metadata": {},
   "source": [
    "#### 3.2.1 Second example"
   ]
  },
  {
   "cell_type": "markdown",
   "id": "e187c372",
   "metadata": {},
   "source": [
    "In the second example, our goal is to flip the sign (or \"mark\") all states that begin with the digit `1`. These states are:\n",
    "- $ 00\\mathbf{1} \\longrightarrow |1\\rangle $,  \n",
    "- $ 01\\mathbf{1} \\longrightarrow |3\\rangle $,  \n",
    "- $ 10\\mathbf{1} \\longrightarrow |5\\rangle $, and  \n",
    "- $ 11\\mathbf{1} \\longrightarrow |7\\rangle $.  \n",
    "\n",
    "To accomplish this, we will use the `create_u0_gate` function again, but this time we specify that the operation acts only on the first qubit register. The arguments passed to the `U0` function will be as follows:\n",
    "\n",
    "- **First Input**: The oracle (`oracle`), which is the QLM Routine containing the loaded probability distribution.\n",
    "- **Second Input**: The state we want to mark (`taget`), represented in binary form: `[1]`.\n",
    "- **Third Input**: The registers (`index`) over which the operation will act: `[0]`.\n",
    "\n",
    "This configuration ensures that the sign of all states starting with `1` is flipped while leaving the other states unaffected."
   ]
  },
  {
   "cell_type": "code",
   "execution_count": null,
   "id": "62098d23",
   "metadata": {},
   "outputs": [],
   "source": [
    "routine_U0_2 = qlm.QRoutine()\n",
    "register_U0_2 = routine_U0_2.new_wires(probability_routine.arity)\n",
    "routine_U0_2.apply(probability_routine,register_U0_1)\n",
    "#Creating U0_gate\n",
    "U0_2_gate = create_u0_gate(\n",
    "    probability_routine, #oracle\n",
    "    [1], #marked state\n",
    "    [0] #affected qbits\n",
    ")\n",
    "#Comment before 5 lines and uncomment following for For multiplexor implementation of multi-controlled Z gate\n",
    "#U0_2_gate = create_u0_gate(probability_routine, [1], [0], mcz_qlm=False) \n",
    "%qatdisplay U0_2_gate --depth 0 --svg\n",
    "routine_U0_2.apply(U0_2_gate,register_U0_2)\n",
    "#Apply U0_gate\n",
    "%qatdisplay routine_U0_2 --depth 1 --svg"
   ]
  },
  {
   "cell_type": "markdown",
   "id": "9d1e6b10",
   "metadata": {},
   "source": [
    "If we display the circuit with one more layer of depth, we will see that it is implemented as a `reflection([1])` acting on the register `[0]`.\n",
    "\n",
    "Last, we will show the amplitudes stored in the quantum circuit and we will see that only states $|1\\rangle$, $|3\\rangle$, $|5\\rangle$ and $|7\\rangle$ are affected."
   ]
  },
  {
   "cell_type": "code",
   "execution_count": null,
   "id": "f60cbfd4",
   "metadata": {},
   "outputs": [],
   "source": [
    "results_U0_2,_ ,_ ,_ = get_results(routine_U0_2,linalg_qpu)"
   ]
  },
  {
   "cell_type": "code",
   "execution_count": null,
   "id": "7af42efd",
   "metadata": {},
   "outputs": [],
   "source": [
    "amplitudes_U0_2= results_U0_2[\"Amplitude\"].values\n",
    "print(\"Classical probabilities: \", np.sqrt(p))\n",
    "print(\"Quantum probabilities: \",amplitudes_U0_2)"
   ]
  },
  {
   "cell_type": "code",
   "execution_count": null,
   "id": "5f99ee8d",
   "metadata": {},
   "outputs": [],
   "source": [
    "print('Test OK: ',\n",
    "    np.isclose(\n",
    "        np.sqrt(p)[[0, 2, 4, 6]],\n",
    "        amplitudes_U0_2[[0, 2, 4, 6]]\n",
    "    ).all() and\n",
    "    np.isclose(\n",
    "        np.sqrt(p)[[1, 3, 5, 7]],\n",
    "        -amplitudes_U0_2[[1, 3, 5, 7]]\n",
    "    ).all()\n",
    ")"
   ]
  },
  {
   "cell_type": "markdown",
   "id": "ff13bdce",
   "metadata": {},
   "source": [
    "**Note that we cannot use operator `create_u0_gate` to mark states that require more than one reflection. This is the case for example of the set of states $|1\\rangle,|3\\rangle,|5\\rangle,|6\\rangle,|7\\rangle$.**"
   ]
  },
  {
   "cell_type": "markdown",
   "id": "b3166618",
   "metadata": {},
   "source": [
    " ### 3.2 Operator $\\hat{U}_{|\\Psi}\\rangle$"
   ]
  },
  {
   "cell_type": "markdown",
   "id": "6c157aa6",
   "metadata": {},
   "source": [
    "The **diffusion operator** $\\hat{U}_{|\\Psi\\rangle}$ is defined as:\n",
    "\n",
    "$$\n",
    "\\hat{U}_{|\\Psi\\rangle} = \\hat{I} - 2 |\\Psi\\rangle\\langle\\Psi|,\n",
    "$$\n",
    "\n",
    "which represents a reflection of the state $|\\Psi\\rangle$ around the orthogonal state $|\\Psi\\rangle^{\\perp}$, where $|\\Psi\\rangle^{\\perp} \\perp |\\Psi\\rangle$.\n",
    "\n",
    "Using the graphical representation, we can see that:\n",
    "\n",
    "\n",
    "<img src=\"images/StateReflection.svg\" width=\"700\">\n",
    "\n",
    "\n",
    "$$\n",
    "\\hat{U}_{|\\Psi\\rangle} |\\Psi\\rangle = \\hat{I} |\\Psi\\rangle - 2 |\\Psi\\rangle \\langle\\Psi|\\Psi\\rangle = |\\Psi\\rangle - 2 |\\Psi\\rangle = -|\\Psi\\rangle.\n",
    "$$\n",
    "\n",
    "This shows that the diffusion operator inverts the amplitude of the state $|\\Psi\\rangle$.\n",
    "\n",
    "For implementing this operator, the function `create_u_gate` from the **QQuantLib/AA/amplitude_amplification** module will be used. This function requires the oracle as input.\n",
    "\n",
    "#### Note:\n",
    "By default, the QLM (Quantum Learning Machine) construction for the multi-controlled Z gate is used. If the parameter `mcz_qlm=False` is passed, a multiplexor-based version of the multi-controlled Z gate will be utilized instead."
   ]
  },
  {
   "cell_type": "code",
   "execution_count": null,
   "id": "c7eb415f",
   "metadata": {},
   "outputs": [],
   "source": [
    "from QQuantLib.AA.amplitude_amplification import create_u_gate"
   ]
  },
  {
   "cell_type": "code",
   "execution_count": null,
   "id": "d00bc282",
   "metadata": {
    "scrolled": true
   },
   "outputs": [],
   "source": [
    "routine_U = qlm.QRoutine()\n",
    "register_U = routine_U.new_wires(probability_routine.arity)\n",
    "routine_U.apply(probability_routine,register_U)\n",
    "routine_U.apply(create_u_gate(probability_routine),register_U) \n",
    "#Comment before line and uncomment following for For multiplexor implementation of multi-controlled Z gate\n",
    "#routine_U.apply(create_u_gate(probability_routine, mcz_qlm=False),register_U)\n",
    "%qatdisplay routine_U --svg --depth 2"
   ]
  },
  {
   "cell_type": "markdown",
   "id": "81b408a5",
   "metadata": {},
   "source": [
    "When we show the results we will see that all the amplitudes have changed their sign."
   ]
  },
  {
   "cell_type": "code",
   "execution_count": null,
   "id": "c2d9a0d6",
   "metadata": {},
   "outputs": [],
   "source": [
    "results_U,_ ,_ ,_ = get_results(routine_U,linalg_qpu)"
   ]
  },
  {
   "cell_type": "code",
   "execution_count": null,
   "id": "8c15d766",
   "metadata": {},
   "outputs": [],
   "source": [
    "amplitudes_U = results_U[\"Amplitude\"].values\n",
    "print(\"Classical probabilities: \", np.sqrt(p))\n",
    "print(\"Quantum probabilities: \",amplitudes_U)"
   ]
  },
  {
   "cell_type": "code",
   "execution_count": null,
   "id": "c406adac",
   "metadata": {},
   "outputs": [],
   "source": [
    "print('Test OK: ', np.isclose(np.sqrt(p), -amplitudes_U).all())"
   ]
  },
  {
   "cell_type": "markdown",
   "id": "8c91f55b",
   "metadata": {},
   "source": [
    "### 3.3 Grover"
   ]
  },
  {
   "cell_type": "markdown",
   "id": "853753cd",
   "metadata": {},
   "source": [
    "Now we have all the ingredients to create a Grover operator:\n",
    "\n",
    "$$\\hat{Q}=\\hat{U}_{|\\Psi\\rangle} \\hat{U}_{|\\Psi_{0}\\rangle}$$\n",
    "\n",
    "The Grover operator can be implemented by function *grover* from **QQuantLib/AA/amplitude_amplification**. Let's see some examples\n",
    "\n",
    "**NOTE**\n",
    "By default, the QLM construction for the multi-controlled Z gate is used. If we pass **mcz_qlm=False** a multiplexor version of the multi-controlled Z gate will be used."
   ]
  },
  {
   "cell_type": "markdown",
   "id": "b09fb95e",
   "metadata": {},
   "source": [
    "Now that we have all the necessary components, we can define the **Grover operator** as:\n",
    "\n",
    "$$\n",
    "\\hat{Q} = \\hat{U}_{|\\Psi\\rangle} \\hat{U}_{|\\Psi_0\\rangle},\n",
    "$$\n",
    "\n",
    "where $\\hat{U}_{|\\Psi\\rangle}$ is the diffusion operator and $\\hat{U}_{|\\Psi_0\\rangle}$ is the oracle reflection operator. The Grover operator combines these two operations to amplify the amplitude of the desired state in quantum search algorithms.\n",
    "\n",
    "The Grover operator can be implemented using the function `grover` from the **QQuantLib/AA/amplitude_amplification** module. Let's explore some examples.\n",
    "\n",
    "#### Note:\n",
    "By default, the QLM (Quantum Learning Machine) construction for the multi-controlled Z gate is used. If the parameter `mcz_qlm=False` is passed, a multiplexor-based version of the multi-controlled Z gate will be utilized instead."
   ]
  },
  {
   "cell_type": "code",
   "execution_count": null,
   "id": "189fec3b",
   "metadata": {},
   "outputs": [],
   "source": [
    "from QQuantLib.AA.amplitude_amplification import grover"
   ]
  },
  {
   "cell_type": "markdown",
   "id": "a7a8d3ec",
   "metadata": {},
   "source": [
    "As in the case of the $\\hat{U}_{|\\Psi_{0}\\rangle}$ operator, the application of the Grover operator to a quantum state will be a two steps process:\n",
    "\n",
    "1. **Creating the Grover QLM AbstractGate** using the *grover* and providing it, as input, the state that we want to amplify. This is done with the following three arguments:\n",
    "    * The first one is always the oracle (this is the QLM QRoutine of the Program)\n",
    "    * The second one is a list containing the binary representation of the state that we want to amplify (marked state).\n",
    "    * The third one is a list of the registers over which we want to act. \n",
    "2. **Applying Grover QLM AbstractGate** to the registers that will be affected.\n",
    "\n"
   ]
  },
  {
   "cell_type": "markdown",
   "id": "7343c04e",
   "metadata": {},
   "source": [
    "Similar to the $\\hat{U}_{|\\Psi_0\\rangle}$ operator, applying the Grover operator to a quantum state involves a two-step process:\n",
    "\n",
    "1. **Creating the Grover QLM AbstractGate** using the `grover` function and providing it with the necessary inputs to define the state we want to amplify. This requires the following three arguments:\n",
    "   - **Oracle (QLM QRoutine):** The first argument is always the oracle, which is represented as a QLM QRoutine in the program (`oracle`).\n",
    "   - **Marked State (Binary Representation):** The second argument is a list containing the binary representation of the state that we aim to amplify (the marked state, `target`).\n",
    "   - **Target Registers:** The third argument is a list of the registers over which the Grover operator will act (`index`)\n",
    "\n",
    "2. **Applying the Grover QLM AbstractGate** to the specified registers. Once the AbstractGate is created, it is applied to the registers that will be affected by the operation.\n",
    "\n",
    "This two-step process ensures that the Grover operator is correctly configured and applied to achieve amplitude amplification in quantum search algorithms."
   ]
  },
  {
   "cell_type": "markdown",
   "id": "6ddb6db6",
   "metadata": {},
   "source": [
    "### 3.3.1 First example"
   ]
  },
  {
   "cell_type": "markdown",
   "id": "e97c6ddb",
   "metadata": {},
   "source": [
    "In our first example we are going to amplify the probability of obtaining the state $|1\\rangle$."
   ]
  },
  {
   "cell_type": "code",
   "execution_count": null,
   "id": "0fb26ae3",
   "metadata": {
    "scrolled": true
   },
   "outputs": [],
   "source": [
    "grover1 = qlm.QRoutine()\n",
    "grover1_register = grover1.new_wires(n)\n",
    "grover1.apply(probability_routine,grover1_register)\n",
    "#Creating Grover_Gate_gate\n",
    "Grover_Gate = grover(\n",
    "    probability_routine, #oracle\n",
    "    [0,0,1], #marked state\n",
    "    [0,1,2] #affected qubits\n",
    ")\n",
    "#Comment before 5 lines and uncomment following for For multiplexor implementation of multi-controlled Z gate\n",
    "#Grover_Gate = grover(probability_routine, [0,0,1], [0,1,2], mcz_qlm=False)\n",
    "%qatdisplay Grover_Gate --depth 2 --svg\n",
    "#Applying the Grover Gate\n",
    "grover1.apply(Grover_Gate, grover1_register)\n",
    "%qatdisplay grover1 --depth 3 --svg"
   ]
  },
  {
   "cell_type": "markdown",
   "id": "6cf6257f",
   "metadata": {},
   "source": [
    "The critical part is *grover(probability_routine,[0,0,1],[0,1,2])*.\n",
    "The first argument of the function is always the routine that we are going to amplify. \n",
    "In the second argument, we have to specify our target state for amplification. In this case, as we want to amplify the state $|1\\rangle$ we use its binary representation $001$.\n",
    "Last, the third input is an index which specifies over which part of the quantum register we want to act. In this case, as the three quantum registers are involved, we put the three of them $[0,1,2]$. In the next examples, it will become clearer how it works.\n",
    "\n",
    "Now we measure the amplified probabilities"
   ]
  },
  {
   "cell_type": "markdown",
   "id": "2d7680ac",
   "metadata": {},
   "source": [
    "The critical part of the process is the function call:\n",
    "\n",
    "```python\n",
    "grover(probability_routine, [0, 0, 1], [0, 1, 2])\n",
    "```\n",
    "\n",
    "- The first argument of the function is always the routine that corresponds to the `oracle`, which identifies the state we want to amplify. In this case, it is probability_routine.\n",
    "- The second argument specifies the `target` state that we aim to amplify. Since we want to amplify the state ∣1⟩, we provide its binary representation, which is `[0,0,1]`.\n",
    "- The third argument is an `index` list that specifies the subset of the quantum register over which the Grover operator will act. Here, since all three qubits in the quantum register are involved, we include all three indices: `[0,1,2]`.\n",
    "\n",
    "In the following examples, the functionality of these arguments will become clearer.\n",
    "\n",
    "Now, let's proceed to measure the amplified probabilities."
   ]
  },
  {
   "cell_type": "code",
   "execution_count": null,
   "id": "e0b40cb6",
   "metadata": {},
   "outputs": [],
   "source": [
    "results_grover1,_ ,_ ,_ = get_results(grover1,linalg_qpu)\n",
    "probabilities_grover1 = results_grover1[\"Probability\"].values\n",
    "probabilities_grover1"
   ]
  },
  {
   "cell_type": "markdown",
   "id": "887cb312",
   "metadata": {},
   "source": [
    "Let's summarize what we have done so far. In our example, we make the following identifications:\n",
    "\n",
    "$$\n",
    "\\begin{aligned}\n",
    "& \\mathcal{O} \\longrightarrow \\mathcal{P}, \\\\\n",
    "& |\\Psi\\rangle \\longrightarrow \\frac{1}{\\sqrt{0+1+2+3+4+5+6+7+8}} \\left[ \\sqrt{0}|0\\rangle + \\sqrt{1}|1\\rangle + \\sqrt{2}|2\\rangle + \\sqrt{3}|3\\rangle + \\sqrt{4}|4\\rangle + \\sqrt{5}|5\\rangle + \\sqrt{6}|6\\rangle + \\sqrt{7}|7\\rangle \\right], \\\\\n",
    "& \\sin(\\theta)|\\Psi_0\\rangle \\longrightarrow \\frac{\\sqrt{1}}{\\sqrt{0+1+2+3+4+5+6+7+8}} |1\\rangle, \\\\\n",
    "& \\cos(\\theta)|\\Psi_1\\rangle \\longrightarrow \\frac{1}{\\sqrt{0+1+2+3+4+5+6+7+8}} \\left[ \\sqrt{0}|0\\rangle + \\sqrt{2}|2\\rangle + \\sqrt{3}|3\\rangle + \\sqrt{4}|4\\rangle + \\sqrt{5}|5\\rangle + \\sqrt{6}|6\\rangle + \\sqrt{7}|7\\rangle \\right].\n",
    "\\end{aligned}\n",
    "$$\n",
    "\n",
    "After performing the amplification and measuring the probabilities, we obtain the new probability $ p_a = \\sin^2(3\\theta) $ for the state in position $ |1\\rangle $. The original probability was $ p_o = \\sin^2(\\theta) $.\n",
    "\n",
    "To verify that the amplified probability and the original probability are computed correctly, we can recover $\\theta$ from the amplified probability using the formula:\n",
    "$$\n",
    "\\theta = \\frac{\\arcsin\\left(\\sqrt{p_a}\\right)}{3}.\n",
    "$$\n",
    "\n",
    "Substituting this angle back into the expression for the original probability, we get:\n",
    "$$\n",
    "p_o = \\sin^2\\left(\\frac{\\arcsin\\left(\\sqrt{p_a}\\right)}{3}\\right).\n",
    "$$\n",
    "\n",
    "In the next cell, we will confirm that the amplification process has been carried out correctly."
   ]
  },
  {
   "cell_type": "code",
   "execution_count": null,
   "id": "8713afc2",
   "metadata": {},
   "outputs": [],
   "source": [
    "unamplified_grover1 = np.sin(np.arcsin(np.sqrt(probabilities_grover1[1]))/3)**2\n",
    "print(\"Original probabilities: \", p[1])\n",
    "print(\"Quantum probabilities: \",unamplified_grover1)"
   ]
  },
  {
   "cell_type": "markdown",
   "id": "954765a5",
   "metadata": {},
   "source": [
    "### 3.2 Second example"
   ]
  },
  {
   "cell_type": "markdown",
   "id": "86c25955",
   "metadata": {},
   "source": [
    "In this second example we are going to show how to amplify a more complex state. Say that now we want to amplify the state composed by $|0\\rangle,|1\\rangle,|2\\rangle,|3\\rangle$. Now we will see the correspondence of this new setup with the Grover setup:\n",
    "$$\n",
    "    \\begin{array}{l}\n",
    "    &\\mathcal{O}\\longrightarrow \\mathcal{P}.\\\\\n",
    "    & |\\psi\\rangle \\longrightarrow \\scriptstyle \\dfrac{1}{\\sqrt{0+1+2+3+4+5+6+7+8}}\\left[\\sqrt{0}|0\\rangle+\\sqrt{1}|1\\rangle+\\sqrt{2}|2\\rangle+\\sqrt{3}|3\\rangle+\\sqrt{4}|4\\rangle+\\sqrt{5}|5\\rangle+\\sqrt{6}|6\\rangle+\\sqrt{7}|7\\rangle\\right].\\\\\n",
    "    & \\sin(\\theta)|\\phi\\rangle \\longrightarrow \\scriptstyle \\dfrac{1}{\\sqrt{0+1+2+3+4+5+6+7+8}}\\left[\\sqrt{0}|0\\rangle+\\sqrt{1}|1\\rangle+\\sqrt{2}|2\\rangle+\\sqrt{3}|3\\rangle\\right].\\\\\n",
    "    & \\cos(\\theta)|\\phi^\\dagger\\rangle \\longrightarrow \\scriptstyle \\dfrac{1}{\\sqrt{0+1+2+3+4+5+6+7+8}}\\left[\\sqrt{4}|4\\rangle+\\sqrt{5}|5\\rangle+\\sqrt{6}|6\\rangle+\\sqrt{7}|7\\rangle\\right].\\\\\n",
    "    \\end{array}\n",
    "$$\n",
    "In binary representation, the states $|0\\rangle,|2\\rangle,|4\\rangle,|6\\rangle$ are $|\\mathbf{0}00\\rangle,|\\mathbf{0}01\\rangle,|\\mathbf{0}10\\rangle,|\\mathbf{0}11\\rangle$ respectively. Here we are interested in the join probability of getting these states, this is the same as asking for the probability of the leftmost qubit being zero.\n",
    "Before doing an amplification we are going to do the unamplified version."
   ]
  },
  {
   "cell_type": "markdown",
   "id": "199bc998",
   "metadata": {},
   "source": [
    "In this second example, we will demonstrate how to amplify a more complex state. Specifically, we aim to amplify the state composed of $|0\\rangle$, $|1\\rangle$, $|2\\rangle$, and $|3\\rangle$. Below, we outline the correspondence of this new setup with the Grover framework:\n",
    "\n",
    "$$\n",
    "\\begin{aligned}\n",
    "& \\mathcal{O} \\longrightarrow \\mathcal{P}, \\\\\n",
    "& |\\psi\\rangle \\longrightarrow \\frac{1}{\\sqrt{0+1+2+3+4+5+6+7+8}} \\left[ \\sqrt{0}|0\\rangle + \\sqrt{1}|1\\rangle + \\sqrt{2}|2\\rangle + \\sqrt{3}|3\\rangle + \\sqrt{4}|4\\rangle + \\sqrt{5}|5\\rangle + \\sqrt{6}|6\\rangle + \\sqrt{7}|7\\rangle \\right], \\\\\n",
    "& \\sin(\\theta)|\\phi\\rangle \\longrightarrow \\frac{1}{\\sqrt{0+1+2+3+4+5+6+7+8}} \\left[ \\sqrt{0}|0\\rangle + \\sqrt{1}|1\\rangle + \\sqrt{2}|2\\rangle + \\sqrt{3}|3\\rangle \\right], \\\\\n",
    "& \\cos(\\theta)|\\phi^\\dagger\\rangle \\longrightarrow \\frac{1}{\\sqrt{0+1+2+3+4+5+6+7+8}} \\left[ \\sqrt{4}|4\\rangle + \\sqrt{5}|5\\rangle + \\sqrt{6}|6\\rangle + \\sqrt{7}|7\\rangle \\right].\n",
    "\\end{aligned}\n",
    "$$\n",
    "\n",
    "In binary representation, the states $|0\\rangle$, $|1\\rangle$, $|2\\rangle$, and $|3\\rangle$ correspond to $|\\mathbf{0}00\\rangle$, $|\\mathbf{0}01\\rangle$, $|\\mathbf{0}10\\rangle$, and $|\\mathbf{0}11\\rangle$, respectively. Here, we are interested in the joint probability of obtaining these states, which is equivalent to asking for the probability that the leftmost qubit is in the state $|0\\rangle$.\n",
    "\n",
    "Before proceeding with the amplification process, we will first compute the unamplified version of the probabilities."
   ]
  },
  {
   "cell_type": "code",
   "execution_count": null,
   "id": "bfc95190",
   "metadata": {},
   "outputs": [],
   "source": [
    "grover2 = qlm.QRoutine()\n",
    "grover2_register = grover2.new_wires(n)\n",
    "grover2.apply(probability_routine,grover2_register)\n",
    "%qatdisplay grover2 --depth 0 --svg"
   ]
  },
  {
   "cell_type": "code",
   "execution_count": null,
   "id": "38977e34",
   "metadata": {},
   "outputs": [],
   "source": [
    "results_grover2,_,_,_  = get_results(grover2,linalg_qpu = linalg_qpu,qubits = [n-1])\n",
    "results_grover2"
   ]
  },
  {
   "cell_type": "markdown",
   "id": "8e6916b0",
   "metadata": {},
   "source": [
    "When we measure only the leftmost qubit ($q_2$), we are effectively performing the following operation to compute the probabilities of its possible outcomes:\n",
    "\n",
    "$$\n",
    "\\begin{aligned}\n",
    "p_{|0\\rangle} &= \\sin^2(\\theta) = \\frac{1}{0+1+2+3+4+5+6+7+8} \\left[ |\\sqrt{0}|^2 + |\\sqrt{1}|^2 + |\\sqrt{2}|^2 + |\\sqrt{3}|^2 \\right], \\\\\n",
    "p_{|1\\rangle} &= \\cos^2(\\theta) = \\frac{1}{0+1+2+3+4+5+6+7+8} \\left[ |\\sqrt{4}|^2 + |\\sqrt{5}|^2 + |\\sqrt{6}|^2 + |\\sqrt{7}|^2 \\right].\n",
    "\\end{aligned}\n",
    "$$\n",
    "\n",
    "Here, $p_{|0\\rangle}$ represents the probability of measuring the state $|0\\rangle$ for the leftmost qubit, while $p_{|1\\rangle}$ corresponds to the probability of measuring the state $|1\\rangle$. These probabilities are derived from the amplitudes of the respective subspaces.\n",
    "\n",
    "In the next cell, we will verify these results by comparing them with the classical probability calculations."
   ]
  },
  {
   "cell_type": "code",
   "execution_count": null,
   "id": "b55b9987",
   "metadata": {},
   "outputs": [],
   "source": [
    "print(\" Probability of state |0>: \", p[0]+p[1]+p[2]+p[3])\n",
    "print(\" Probability of state |1>: \", p[4]+p[5]+p[6]+p[7])"
   ]
  },
  {
   "cell_type": "markdown",
   "id": "160b53bf",
   "metadata": {},
   "source": [
    "Next, we will amplify the probability of the state marked with the rightmost qubit being $0$. For that, we again use the *grover* function. Apart from the oracle we need to indicate the state that we want to amplify."
   ]
  },
  {
   "cell_type": "markdown",
   "id": "12bcf213",
   "metadata": {},
   "source": [
    "Next, we will amplify the probability of the state where the rightmost qubit is $ |0\\rangle $. To achieve this, we once again utilize the `grover` function. In addition to providing the oracle, we need to specify the state that we aim to amplify.\n",
    "\n",
    "Specifically:\n",
    "- The `oracle` identifies the state(s) to be amplified.\n",
    "- The `target` state is defined by the binary representation of the desired outcome. In this case, we focus on states where the rightmost qubit is $ |0\\rangle $.\n",
    "- The `index`refers to the qubit afected that in this case is $q_2$ (so `[2]`).\n",
    "\n",
    "By applying the Grover operator, we enhance the probability amplitude of the target state, effectively increasing its likelihood of being measured."
   ]
  },
  {
   "cell_type": "code",
   "execution_count": null,
   "id": "e54958d6",
   "metadata": {
    "scrolled": true
   },
   "outputs": [],
   "source": [
    "grover2 = qlm.QRoutine()\n",
    "grover2_register = grover2.new_wires(n)\n",
    "grover2.apply(probability_routine,grover2_register)\n",
    "#Creating Grover_Gate_gate\n",
    "Grover_Gate_2 = grover(\n",
    "    probability_routine, #oracle\n",
    "    [0], #marked state\n",
    "    [n-1] #affected qbits\n",
    ")\n",
    "#Comment before 5 lines and uncoment following for For multiplexor implementation of multi-controlled Z gate\n",
    "Grover_Gate_2 = grover(probability_routine, [0], [n-1], mcz_qlm=False)\n",
    "%qatdisplay Grover_Gate_2 --depth 3 --svg\n",
    "#Applying the Grover Gate\n",
    "grover2.apply(Grover_Gate_2,grover2_register)\n",
    "%qatdisplay grover2 --svg"
   ]
  },
  {
   "cell_type": "markdown",
   "id": "56b797b3",
   "metadata": {},
   "source": [
    "Now we will measure again the probabilities of the leftmost qubit ($q_2$) being zero."
   ]
  },
  {
   "cell_type": "code",
   "execution_count": null,
   "id": "a3ae194e",
   "metadata": {},
   "outputs": [],
   "source": [
    "results_grover2,_,_,_ = get_results(grover2,linalg_qpu = linalg_qpu,qubits = [n-1])\n",
    "results_grover2"
   ]
  },
  {
   "cell_type": "markdown",
   "id": "b52c3773",
   "metadata": {},
   "source": [
    "We clearly observe that the probability of obtaining $ |0\\rangle $ has been increased, while the probability of obtaining $ |1\\rangle $ has correspondingly decreased. This trade-off is a direct result of the amplification process performed by the Grover operator.\n",
    "\n",
    "Moreover, we can establish a correspondence between the amplified probabilities and their unamplified counterparts. This comparison highlights how the Grover algorithm effectively enhances the likelihood of measuring the desired state, in this case, $ |0\\rangle $, by redistributing the probability amplitudes."
   ]
  },
  {
   "cell_type": "code",
   "execution_count": null,
   "id": "b2c60054",
   "metadata": {},
   "outputs": [],
   "source": [
    "unamplified_grover2 = np.sin(np.arcsin(\\\n",
    "                    np.sqrt(results_grover2[\"Probability\"].iloc[0]))/3)**2\n",
    "print(\"Unamplified probability of state |0>: \", unamplified_grover2)\n",
    "print(\"Classical probability of state |0>: \", p[0]+p[1]+p[2]+p[3])\n"
   ]
  },
  {
   "cell_type": "markdown",
   "id": "9a88396e",
   "metadata": {},
   "source": [
    "### NOTE\n",
    "\n",
    "In the module *utils* of package *utils* of the library *QQuantLib*  (**QQuantLib/utils/utils.py**) we have developed the *load_qn_gate* function that allows the use to create several applications of one given gate. We can use it for doing a multiple application of a Grover-like operator:\n",
    "\n",
    "\n",
    "### Note\n",
    "\n",
    "In the `utils` module of the **utils** package within the *QQuantLib* library (**QQuantLib/utils/utils.py**), we have implemented the `load_qn_gate` function, which enables users to create multiple applications of a given quantum gate. This functionality can be particularly useful for applying a Grover-like operator repeatedly in various quantum algorithms.\n",
    "\n",
    "For instance, this function allows you to efficiently define and apply the Grover operator multiple times without having to reconstruct it from scratch each time, streamlining the implementation of amplitude amplification processes."
   ]
  },
  {
   "cell_type": "code",
   "execution_count": null,
   "id": "37ad8ef4",
   "metadata": {},
   "outputs": [],
   "source": [
    "from QQuantLib.utils.utils import load_qn_gate"
   ]
  },
  {
   "cell_type": "code",
   "execution_count": null,
   "id": "c6d37d3c",
   "metadata": {},
   "outputs": [],
   "source": [
    "n_grover = load_qn_gate(grover(probability_routine,[0],[n-1]), 5)"
   ]
  },
  {
   "cell_type": "code",
   "execution_count": null,
   "id": "4b413409",
   "metadata": {},
   "outputs": [],
   "source": [
    "%qatdisplay n_grover --depth 1 --svg"
   ]
  },
  {
   "cell_type": "code",
   "execution_count": null,
   "id": "5e62fcc3",
   "metadata": {},
   "outputs": [],
   "source": []
  }
 ],
 "metadata": {
  "kernelspec": {
   "display_name": "Python 3 (ipykernel)",
   "language": "python",
   "name": "python3"
  },
  "language_info": {
   "codemirror_mode": {
    "name": "ipython",
    "version": 3
   },
   "file_extension": ".py",
   "mimetype": "text/x-python",
   "name": "python",
   "nbconvert_exporter": "python",
   "pygments_lexer": "ipython3",
   "version": "3.9.9"
  }
 },
 "nbformat": 4,
 "nbformat_minor": 5
}
