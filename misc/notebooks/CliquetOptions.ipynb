{
 "cells": [
  {
   "attachments": {
    "image.png": {
     "image/png": "[encoded data removed]"
    }
   },
   "cell_type": "markdown",
   "id": "437c6cf9",
   "metadata": {},
   "source": [
    "# Floored cliquet options\n",
    "\n",
    "Let $T$ be a future point in time and divide the interval $\\left[0, T\\right]$ into $N$ subintervals called reset periods of length $\\Delta_n = T_n − T_{n−1}$, where $\\{ T_n \\}^ N_{n=0}$, $T_0 = 0$, $T_N = T$ are called the reset days. \n",
    "\n",
    "The return of an asset with price process $S_t$ over a reset period $\\left[T_{n−1}, T_n\\right)$ is then defined as\n",
    "\n",
    "$$R_n = \\frac{S_{T_n}}{S_{T_{n-1}}} - 1$$\n",
    "\n",
    "Additionally the *truncated returns* is defined as:\n",
    "\n",
    "$$\\bar{R_n} = \\max \\left( \\min \\left(R_n, C\\right), F\\right)$$\n",
    "\n",
    "where $F$ and $C$ are the floor and cap levels respectively (absence of floor and caps corresponds to $F=-1$ and $C=+\\infty$).\n",
    "\n",
    "The  *truncated returns* is represented by:\n",
    "\n",
    "![image.png](attachment:image.png)\n",
    "\n",
    "\n",
    "A general cliquet option has a payoff $Y$ at time $T$ of:\n",
    "\n",
    "$$Y = \\min\\left( \\max \\left(\\sum_{n=1}^N \\bar{R_n}, F_g\\right), C_g \\right)$$\n",
    "\n",
    "where the global floor $F_g$ and global cap $C_g$ are minimum and maximum returns respectively."
   ]
  },
  {
   "cell_type": "code",
   "execution_count": 1,
   "id": "492b1972",
   "metadata": {},
   "outputs": [],
   "source": [
    "import sys\n",
    "sys.path.append(\"../../\")\n",
    "import numpy as np\n",
    "import pandas as pd\n",
    "import matplotlib.pyplot as plt\n",
    "import qat.lang.AQASM as qlm\n",
    "from copy import deepcopy\n",
    "%matplotlib inline"
   ]
  },
  {
   "cell_type": "code",
   "execution_count": 2,
   "id": "fafa419d",
   "metadata": {},
   "outputs": [],
   "source": [
    "#This cell loads the QLM solver. See notebook: 00_AboutTheNotebooksAndQPUs.ipynb\n",
    "from QQuantLib.qpu.get_qpu import get_qpu\n",
    "# myqlm qpus: python, c\n",
    "# QLM qpus accessed using Qaptiva Access library: qlmass_linalg, qlmass_mps\n",
    "# QLM qpus: Only in local Quantum Learning Machine: linalg, mps\n",
    "my_qpus = [\"python\", \"c\", \"qlmass_linalg\", \"qlmass_mps\", \"linalg\", \"mps\"]\n",
    "\n",
    "linalg_qpu = get_qpu(my_qpus[1])"
   ]
  },
  {
   "cell_type": "markdown",
   "id": "06a1543a",
   "metadata": {},
   "source": [
    "## 1. Getting the Paths\n",
    "\n",
    "To evaluate the final payoff for a cliquet option the first thing we need to build the possible paths the *asset* can follow from one reset day to the other (for all the reset days we want to evaluate the option). These paths will be build under the **Black-Scholes** model. \n",
    "\n",
    "For each posible reset day we need to define a domain discretization of the asset in the following way:\n",
    "\n",
    "* For the initial reset day we need only the initial value of the asset.\n",
    "* For the second reset day we are going to compute $N$ possible paths that starts at the initial reset day.\n",
    "* For the third reset day we are going to build $N$ possible paths for each of the values of the asset at second reset day. So at this day we are going to have $N^2$ possible paths.\n",
    "\n",
    "\n",
    "For each new reset day we need to build $N$ new paths for each possible value for the before reset day. If there are $m$ reset days then at the end reset day we will have $N^m$ possible paths.\n",
    "\n",
    "To build this scheme the *bs_tree* function from **QQuantLib.finance.classical_finance** module will be used. The inputs of the function are :\n",
    "\n",
    "* s_0: initial value of the asset\n",
    "* risk_free_rate: risk free needed rate for building a **Black-Scholes** evolution of the asset.\n",
    "* volatility: volatility of the asset needed for for building a **Black-Scholes** evolution of the asset.\n",
    "* times: list with the reset days we want to compute\n",
    "* discretization : number of points for the discretization of the domain\n",
    "* bounds: for truncating the probability density\n",
    "\n",
    "\n",
    "The *bs_tree* returns the following two objects:\n",
    "\n",
    "* s_t: list with all the posible discretization values of the asset for each reset day (tree format)\n",
    "* p_t: list with all the probabilities for all the different built paths between the initial and the final reset day.\n"
   ]
  },
  {
   "cell_type": "code",
   "execution_count": 3,
   "id": "80e8425f",
   "metadata": {},
   "outputs": [],
   "source": [
    "from QQuantLib.finance.classical_finance import bs_tree"
   ]
  },
  {
   "cell_type": "code",
   "execution_count": 4,
   "id": "b43f6725",
   "metadata": {},
   "outputs": [
    {
     "ename": "TypeError",
     "evalue": "bs_tree() missing 3 required positional arguments: 'maturity', 'number_samples', and 'time_steps'",
     "output_type": "error",
     "traceback": [
      "\u001b[0;31m---------------------------------------------------------------------------\u001b[0m",
      "\u001b[0;31mTypeError\u001b[0m                                 Traceback (most recent call last)",
      "Input \u001b[0;32mIn [4]\u001b[0m, in \u001b[0;36m<cell line: 10>\u001b[0;34m()\u001b[0m\n\u001b[1;32m      7\u001b[0m \u001b[38;5;66;03m#Discretization: 2^n_qbits\u001b[39;00m\n\u001b[1;32m      8\u001b[0m n_qbits \u001b[38;5;241m=\u001b[39m \u001b[38;5;241m5\u001b[39m\n\u001b[0;32m---> 10\u001b[0m tree_s, bs_path_prob \u001b[38;5;241m=\u001b[39m \u001b[43mbs_tree\u001b[49m\u001b[43m(\u001b[49m\n\u001b[1;32m     11\u001b[0m \u001b[43m    \u001b[49m\u001b[43ms_0\u001b[49m\u001b[38;5;241;43m=\u001b[39;49m\u001b[43ms_0\u001b[49m\u001b[43m,\u001b[49m\n\u001b[1;32m     12\u001b[0m \u001b[43m    \u001b[49m\u001b[43mrisk_free_rate\u001b[49m\u001b[38;5;241;43m=\u001b[39;49m\u001b[43mrisk_free_rate\u001b[49m\u001b[43m,\u001b[49m\u001b[43m \u001b[49m\n\u001b[1;32m     13\u001b[0m \u001b[43m    \u001b[49m\u001b[43mvolatility\u001b[49m\u001b[38;5;241;43m=\u001b[39;49m\u001b[43mvolatility\u001b[49m\u001b[43m,\u001b[49m\n\u001b[1;32m     14\u001b[0m \u001b[43m    \u001b[49m\u001b[43mtimes\u001b[49m\u001b[38;5;241;43m=\u001b[39;49m\u001b[43mreset_dates\u001b[49m\u001b[43m,\u001b[49m\n\u001b[1;32m     15\u001b[0m \u001b[43m    \u001b[49m\u001b[43mdiscretization\u001b[49m\u001b[38;5;241;43m=\u001b[39;49m\u001b[43m \u001b[49m\u001b[38;5;241;43m2\u001b[39;49m\u001b[38;5;241;43m*\u001b[39;49m\u001b[38;5;241;43m*\u001b[39;49m\u001b[43mn_qbits\u001b[49m\u001b[43m,\u001b[49m\n\u001b[1;32m     16\u001b[0m \u001b[43m    \u001b[49m\u001b[43mbounds\u001b[49m\u001b[43m \u001b[49m\u001b[38;5;241;43m=\u001b[39;49m\u001b[43m \u001b[49m\u001b[38;5;241;43m7\u001b[39;49m\n\u001b[1;32m     17\u001b[0m \u001b[43m)\u001b[49m\n",
      "\u001b[0;31mTypeError\u001b[0m: bs_tree() missing 3 required positional arguments: 'maturity', 'number_samples', and 'time_steps'"
     ]
    }
   ],
   "source": [
    "#Initial value for the asset\n",
    "s_0 = 1.0\n",
    "risk_free_rate = 0.03\n",
    "volatility = 0.4\n",
    "reset_dates = np.array([0.0, 1.0, 2.0])\n",
    "\n",
    "#Discretization: 2^n_qbits\n",
    "n_qbits = 5\n",
    "\n",
    "tree_s, bs_path_prob = bs_tree(\n",
    "    s_0=s_0,\n",
    "    risk_free_rate=risk_free_rate, \n",
    "    volatility=volatility,\n",
    "    times=reset_dates,\n",
    "    discretization= 2**n_qbits,\n",
    "    bounds = 7\n",
    ")"
   ]
  },
  {
   "cell_type": "markdown",
   "id": "379292f9",
   "metadata": {},
   "source": [
    "The first return of *bs_tree* (*tree_s* variable) contains the possible values of the asset for each reset day.\n",
    "\n",
    "The first element of the *tree_s* is the initial value of the asset. The second element are the posible asset values at the second reset day. "
   ]
  },
  {
   "cell_type": "code",
   "execution_count": null,
   "id": "e1e5594e",
   "metadata": {
    "scrolled": true
   },
   "outputs": [],
   "source": [
    "# First reset day \n",
    "tree_s[0]"
   ]
  },
  {
   "cell_type": "code",
   "execution_count": null,
   "id": "83884ca6",
   "metadata": {},
   "outputs": [],
   "source": [
    "# Second reset day: MUST have 2^n_qbits values\n",
    "print(len(tree_s[1]))"
   ]
  },
  {
   "cell_type": "markdown",
   "id": "395ffa2e",
   "metadata": {},
   "source": [
    "The third element has the values of the asset at the third reset day for each posible value of the second reset day. So it has 2^n_qbits * 2^n_qbits values"
   ]
  },
  {
   "cell_type": "code",
   "execution_count": null,
   "id": "cfab3bf1",
   "metadata": {},
   "outputs": [],
   "source": [
    "print(len(tree_s[2]))"
   ]
  },
  {
   "cell_type": "markdown",
   "id": "7c5b02a6",
   "metadata": {},
   "source": [
    "The firsts $2^n$ values of the third element of the *tree_s* contains the posible asset values for the first asset value of the second step and so on."
   ]
  },
  {
   "cell_type": "code",
   "execution_count": null,
   "id": "551f8d9f",
   "metadata": {},
   "outputs": [],
   "source": [
    "print(\"Possible asset values in third reset day: \\n{}\".format(\n",
    "    tree_s[2][:2**n_qbits]))\n",
    "print(\"For first asset value {} in second reset day: \".format(tree_s[1][0]))"
   ]
  },
  {
   "cell_type": "code",
   "execution_count": null,
   "id": "a3fb7029",
   "metadata": {},
   "outputs": [],
   "source": [
    "print(\"Possible asset values in third reset day: \\n{}\".format(\n",
    "    tree_s[2][2**n_qbits: 2*2**n_qbits]))\n",
    "print(\"For second asset value {} in second reset day: \".format(tree_s[1][1]))"
   ]
  },
  {
   "cell_type": "markdown",
   "id": "654c98d6",
   "metadata": {},
   "source": [
    "The *tree_to_paths* function from **QQuantLib.finance.classical_finance** module transform the *tree_s* variable to a table format where all the possible paths of the asset are stored for each reset day:"
   ]
  },
  {
   "cell_type": "code",
   "execution_count": null,
   "id": "53043dd2",
   "metadata": {},
   "outputs": [],
   "source": [
    "from QQuantLib.finance.classical_finance import tree_to_paths"
   ]
  },
  {
   "cell_type": "code",
   "execution_count": null,
   "id": "93bb2c4f",
   "metadata": {},
   "outputs": [],
   "source": [
    "# Posible path of the assets along the three reset days\n",
    "paths_s = tree_to_paths(tree_s)\n",
    "pdf = pd.DataFrame(paths_s, index=[\"reset_day0\", \"reset_day1\", \"reset_day2\"])"
   ]
  },
  {
   "cell_type": "code",
   "execution_count": null,
   "id": "6aecc85b",
   "metadata": {},
   "outputs": [],
   "source": [
    "pdf"
   ]
  },
  {
   "cell_type": "code",
   "execution_count": null,
   "id": "6992dc40",
   "metadata": {},
   "outputs": [],
   "source": [
    "# Possible paths for the asset\n",
    "for i in range(len(pdf.columns)):\n",
    "    plt.plot(pdf[i], 'o-')"
   ]
  },
  {
   "cell_type": "markdown",
   "id": "93c4b194",
   "metadata": {},
   "source": [
    "The variable *bs_path_prob* (the second output of the *bs_tree*) is a list where element contains the probability of the built paths for each reset day. The last element will contain the probability of all the built paths from the initial reset day to the last one."
   ]
  },
  {
   "cell_type": "code",
   "execution_count": null,
   "id": "67facfdf",
   "metadata": {},
   "outputs": [],
   "source": [
    "bs_path_prob"
   ]
  },
  {
   "cell_type": "code",
   "execution_count": null,
   "id": "8d454798",
   "metadata": {},
   "outputs": [],
   "source": [
    "# Probabilities for all the built paths from initial to last reset day\n",
    "plt.plot(bs_path_prob[-1])\n",
    "plt.xlabel(\"Paths\")\n",
    "plt.ylabel(\"Probability\")"
   ]
  },
  {
   "cell_type": "markdown",
   "id": "c950e841",
   "metadata": {},
   "source": [
    "## 2. Getting the Cliquet Option payoff\n",
    "\n",
    "For each built path we need to compute the associated payoff of the cliquet option. This can be done using the *cliquet_cashflows* from **QQuantLib.finance.classical_finance**. The inputs are:\n",
    "\n",
    "* local_cap: $C$\n",
    "* local_floor: $F$\n",
    "* global_cap: $C_g$\n",
    "* global_floor: $F_g$\n",
    "* paths: the built paths from *tree_to_paths* function\n",
    "\n",
    "The return is the cliquet payoff for each posible path from initial reset day to the last one."
   ]
  },
  {
   "cell_type": "code",
   "execution_count": null,
   "id": "70a5089a",
   "metadata": {},
   "outputs": [],
   "source": [
    "from QQuantLib.finance.classical_finance import cliquet_cashflows"
   ]
  },
  {
   "cell_type": "code",
   "execution_count": null,
   "id": "2c7dd39f",
   "metadata": {},
   "outputs": [],
   "source": [
    "local_cap = 0.1\n",
    "local_floor = -0.1\n",
    "global_cap = 0.2\n",
    "global_floor = -0.2"
   ]
  },
  {
   "cell_type": "code",
   "execution_count": null,
   "id": "1fbd2398",
   "metadata": {},
   "outputs": [],
   "source": [
    "cliqet_payoffs = cliquet_cashflows(\n",
    "    local_cap = local_cap,\n",
    "    local_floor = local_floor,\n",
    "    global_cap = global_cap,\n",
    "    global_floor = global_floor,\n",
    "    paths=paths_s\n",
    ")"
   ]
  },
  {
   "cell_type": "code",
   "execution_count": null,
   "id": "4f8e11f3",
   "metadata": {},
   "outputs": [],
   "source": [
    "# Cliquet Pay Off for each built path\n",
    "plt.plot(cliqet_payoffs)\n",
    "plt.xlabel(\"Paths\")\n",
    "plt.ylabel(\"Cliquet PayOffs\")"
   ]
  },
  {
   "cell_type": "markdown",
   "id": "fc7eb274",
   "metadata": {},
   "source": [
    "## 3. The return of the Cliquet option\n",
    "\n",
    "Now we can compute the return of the cliquet option by computing the expected value of the probability of all the paths and the corresponding payoff"
   ]
  },
  {
   "cell_type": "code",
   "execution_count": null,
   "id": "e829c6b8",
   "metadata": {},
   "outputs": [],
   "source": [
    "cliquet_return = np.dot(bs_path_prob[-1],cliqet_payoffs)\n",
    "\n",
    "print(\"Expected return of the cliquet at the last reset day: {}\".format(\n",
    "    cliquet_return\n",
    "))"
   ]
  },
  {
   "cell_type": "markdown",
   "id": "924819db",
   "metadata": {},
   "source": [
    "We need to discount the risk free rate as usual for know the return at the initial day:"
   ]
  },
  {
   "cell_type": "code",
   "execution_count": null,
   "id": "e0d1d7f0",
   "metadata": {},
   "outputs": [],
   "source": [
    "final_return = np.exp(-risk_free_rate * reset_dates[-1]) * cliquet_return\n",
    "\n",
    "print(\"Final Return: {}\".format(final_return))"
   ]
  },
  {
   "cell_type": "markdown",
   "id": "82168401",
   "metadata": {},
   "source": [
    "## 4. Cliquet Option using *q_solve_integral*\n",
    "\n",
    "The *Cliquet* option return can be computed easily using the *q_solve_integral* function from **QQuantLib.finance.quantum_integration** (see *10_ApplicationTo_Finance_01_IntegralComputing.ipynb*). \n",
    "\n",
    "We only need to provide the probability and the payoff array functions and configure properly  the **AE** algorithm"
   ]
  },
  {
   "cell_type": "code",
   "execution_count": null,
   "id": "fccbb797",
   "metadata": {},
   "outputs": [],
   "source": [
    "from QQuantLib.finance.quantum_integration import q_solve_integral"
   ]
  },
  {
   "cell_type": "code",
   "execution_count": null,
   "id": "db5bc920",
   "metadata": {},
   "outputs": [],
   "source": [
    "#probability definition\n",
    "p_x = bs_path_prob[-1]\n",
    "#probability normalisation\n",
    "p_x_normalisation = np.sum(p_x)\n",
    "norm_p_x = p_x / p_x_normalisation\n",
    "\n",
    "#Function definition\n",
    "f_x = cliqet_payoffs\n",
    "f_x_normalisation = np.max(np.abs(f_x))\n",
    "norm_f_x = f_x / f_x_normalisation"
   ]
  },
  {
   "cell_type": "code",
   "execution_count": null,
   "id": "9e79d9f4",
   "metadata": {},
   "outputs": [],
   "source": [
    "ae_dict = {\n",
    "    #QPU\n",
    "    'qpu': linalg_qpu,\n",
    "    #Multi controlled decomposition\n",
    "    'mcz_qlm': False, \n",
    "    \n",
    "    #shots\n",
    "    'shots': None,\n",
    "    \n",
    "    #MLAE\n",
    "    'schedule': None,\n",
    "    'delta' : None,\n",
    "    'ns' : None,\n",
    "    \n",
    "    #CQPEAE\n",
    "    'auxiliar_qbits_number': None,\n",
    "    \"window\" : None,  \n",
    "    \"kaiser_alpha\" : None,\n",
    "    #IQPEAE\n",
    "    'cbits_number': None,\n",
    "    #IQAE & RQAQE\n",
    "    'epsilon': None,\n",
    "    #IQAE\n",
    "    'alpha': None,\n",
    "    #RQAE\n",
    "    'gamma': None,\n",
    "    'q': None,\n",
    "    #For encoding class\n",
    "    \"multiplexor\": True\n",
    "}"
   ]
  },
  {
   "cell_type": "code",
   "execution_count": null,
   "id": "c91fc07e",
   "metadata": {},
   "outputs": [],
   "source": [
    "ae_dict.update({\n",
    "    \"array_function\":norm_f_x,\n",
    "    \"array_probability\": norm_p_x,\n",
    "})\n",
    "\n",
    "# PayOff can be positive and negative so better use encoding 2\n",
    "ae_dict.update({\"encoding\" : 2})"
   ]
  },
  {
   "cell_type": "markdown",
   "id": "4404c11a",
   "metadata": {},
   "source": [
    "### 4.1 IQAE"
   ]
  },
  {
   "cell_type": "code",
   "execution_count": null,
   "id": "68e5e612",
   "metadata": {},
   "outputs": [],
   "source": [
    "ae_dict.update({\n",
    "    \"ae_type\" : \"IQAE\",\n",
    "    \"epsilon\" : 0.001,\n",
    "    \"alpha\" : 0.05,\n",
    "    \"shots\" : 100\n",
    "})"
   ]
  },
  {
   "cell_type": "code",
   "execution_count": null,
   "id": "a6f210d0",
   "metadata": {},
   "outputs": [],
   "source": [
    "%%time\n",
    "iqae_solution, iqae_object = q_solve_integral(**ae_dict)"
   ]
  },
  {
   "cell_type": "code",
   "execution_count": null,
   "id": "f571313b",
   "metadata": {},
   "outputs": [],
   "source": [
    "iqae_solution * f_x_normalisation * p_x_normalisation"
   ]
  },
  {
   "cell_type": "markdown",
   "id": "be1c46f5",
   "metadata": {},
   "source": [
    "### 4.2 RQAE"
   ]
  },
  {
   "cell_type": "code",
   "execution_count": null,
   "id": "5c1c1168",
   "metadata": {},
   "outputs": [],
   "source": [
    "%%time\n",
    "ae_dict.update({\n",
    "    \"ae_type\" : \"RQAE\",\n",
    "    \"epsilon\" : 0.001,\n",
    "    \"gamma\" : 0.05,\n",
    "    \"q\" : 1.2\n",
    "})\n",
    "rqae_solution, rqae_object = q_solve_integral(**ae_dict)"
   ]
  },
  {
   "cell_type": "code",
   "execution_count": null,
   "id": "655cae38",
   "metadata": {},
   "outputs": [],
   "source": [
    "q_cliquet_return = rqae_solution * f_x_normalisation * p_x_normalisation"
   ]
  },
  {
   "cell_type": "code",
   "execution_count": null,
   "id": "517b4143",
   "metadata": {},
   "outputs": [],
   "source": [
    "q_cliquet_return"
   ]
  },
  {
   "cell_type": "code",
   "execution_count": null,
   "id": "2eced7b3",
   "metadata": {},
   "outputs": [],
   "source": [
    "(cliquet_return < q_cliquet_return[\"ae_u\"]) & (cliquet_return > q_cliquet_return[\"ae_l\"])"
   ]
  },
  {
   "cell_type": "code",
   "execution_count": null,
   "id": "15f59768",
   "metadata": {},
   "outputs": [],
   "source": [
    "rqae_solution"
   ]
  },
  {
   "cell_type": "markdown",
   "id": "9c42ba7c",
   "metadata": {},
   "source": [
    "## 5. ae_clique_return_estimation\n",
    "\n",
    "The *ae_clique_return_estimation* function allows the user compute a cliquet option by configuring an input dictionary:\n"
   ]
  },
  {
   "cell_type": "code",
   "execution_count": null,
   "id": "c9379aec",
   "metadata": {},
   "outputs": [],
   "source": [
    "from QQuantLib.finance.cliqet_return_estimation import ae_clique_return_estimation"
   ]
  },
  {
   "cell_type": "code",
   "execution_count": null,
   "id": "d2617d9f",
   "metadata": {},
   "outputs": [],
   "source": [
    "#Base AE configuration dictionary\n",
    "ae_dict = {\n",
    "    #QPU\n",
    "    'qpu': linalg_qpu,\n",
    "    #Multi controlled decomposition\n",
    "    'mcz_qlm': False, \n",
    "    \n",
    "    #shots\n",
    "    'shots': None,\n",
    "    \n",
    "    #MLAE\n",
    "    'schedule': None,\n",
    "    'delta' : None,\n",
    "    'ns' : None,\n",
    "    \n",
    "    #CQPEAE\n",
    "    'auxiliar_qbits_number': None,\n",
    "    \"window\" : None,  \n",
    "    \"kaiser_alpha\" : None,\n",
    "    #IQPEAE\n",
    "    'cbits_number': None,\n",
    "    #IQAE & RQAQE\n",
    "    'epsilon': None,\n",
    "    #IQAE\n",
    "    'alpha': None,\n",
    "    #RQAE\n",
    "    'gamma': None,\n",
    "    'q': None,\n",
    "    #For encoding class\n",
    "    \"multiplexor\": True\n",
    "}"
   ]
  },
  {
   "cell_type": "code",
   "execution_count": null,
   "id": "37e40095",
   "metadata": {},
   "outputs": [],
   "source": [
    "# Asset configuration\n",
    "asset_config = {\n",
    "    \"n_qbits\" : n_qbits,\n",
    "    \"s_0\": s_0,\n",
    "    \"risk_free_rate\" : risk_free_rate,\n",
    "    \"volatility\" : volatility,\n",
    "    \"reset_dates\" : [0.0, 1.0, 2.0],\n",
    "    \"bounds\": 7\n",
    "}\n",
    "\n",
    "#Cliquet option configuration\n",
    "option_config = {\n",
    "    \"local_cap\" : local_cap,\n",
    "    \"local_floor\" : local_floor,\n",
    "    \"global_cap\" : global_cap,\n",
    "    \"global_floor\": global_floor\n",
    "}\n",
    "\n",
    "other_configuration = {\n",
    "    'qpu': linalg_qpu,\n",
    "    \"save\": False,\n",
    "    \"file_name\": \"./ae_problem.csv\",\n",
    "    \"number_of_tests\": 1\n",
    "}\n",
    "\n",
    "ae_dict.update(asset_config)\n",
    "ae_dict.update(option_config)\n",
    "ae_dict.update(other_configuration)\n",
    "ae_dict.update({\"encoding\" : 2})"
   ]
  },
  {
   "cell_type": "code",
   "execution_count": null,
   "id": "3e50d2d0",
   "metadata": {},
   "outputs": [],
   "source": [
    "ae_dict.update({\n",
    "    \"ae_type\" : \"IQAE\",\n",
    "    \"epsilon\" : 0.001,\n",
    "    \"alpha\" : 0.05,\n",
    "    \"shots\" : 100\n",
    "})"
   ]
  },
  {
   "cell_type": "code",
   "execution_count": null,
   "id": "f39d4280",
   "metadata": {},
   "outputs": [],
   "source": [
    "pdf = ae_clique_return_estimation(**ae_dict)"
   ]
  },
  {
   "cell_type": "code",
   "execution_count": null,
   "id": "ac3ff3af",
   "metadata": {},
   "outputs": [],
   "source": [
    "# Asset configuration\n",
    "pdf[[\n",
    "    \"n_qbits\", \"s_0\", \"risk_free_rate\", \"volatility\",\"bounds\",\n",
    "    \"reset_dates\"\n",
    "]]"
   ]
  },
  {
   "cell_type": "code",
   "execution_count": null,
   "id": "cebadfbd",
   "metadata": {},
   "outputs": [],
   "source": [
    "pdf[[\n",
    "    \"local_cap\", \"local_floor\", \"global_cap\", \"global_floor\"\n",
    "]]"
   ]
  },
  {
   "cell_type": "code",
   "execution_count": null,
   "id": "9497d4a2",
   "metadata": {},
   "outputs": [],
   "source": [
    "#ae configuration\n",
    "pdf[[\n",
    "    'ae_type','schedule', 'delta', 'ns', \n",
    "    'auxiliar_qbits_number', 'cbits_number',\n",
    "    'epsilon', 'alpha', 'gamma', 'q', 'shots',\n",
    "    'mcz_qlm', 'encoding','multiplexor',\n",
    "]]"
   ]
  },
  {
   "cell_type": "code",
   "execution_count": null,
   "id": "af495818",
   "metadata": {},
   "outputs": [],
   "source": [
    "pdf[['payoff_normalisation', 'p_x_normalisation']]"
   ]
  },
  {
   "cell_type": "code",
   "execution_count": null,
   "id": "b988a875",
   "metadata": {},
   "outputs": [],
   "source": [
    "pdf[[\n",
    "    \"ae_l_expectation\", \"ae_expectation\", \n",
    "    \"ae_u_expectation\", \"riemann_expectation\", \"absolute_error\"\n",
    "]]"
   ]
  },
  {
   "cell_type": "code",
   "execution_count": null,
   "id": "9e0cab85",
   "metadata": {},
   "outputs": [],
   "source": [
    "pdf[['finance_exact_price', 'finance_riemann_price', \n",
    "     'finance_price_estimation', 'finance_error_riemann', 'finance_error_exact'\n",
    "]]"
   ]
  },
  {
   "cell_type": "code",
   "execution_count": null,
   "id": "1397a146",
   "metadata": {},
   "outputs": [],
   "source": [
    "ae_dict.update({\n",
    "    \"ae_type\" : \"RQAE\",\n",
    "    \"epsilon\" : 0.001,\n",
    "    \"gamma\" : 0.05,\n",
    "    \"q\" : 1.2\n",
    "})\n",
    "pdf = ae_clique_return_estimation(**ae_dict)"
   ]
  },
  {
   "cell_type": "code",
   "execution_count": null,
   "id": "82d245a2",
   "metadata": {},
   "outputs": [],
   "source": [
    "pdf[\"riemann_expectation\"] > pdf[\"ae_l_expectation\"]"
   ]
  },
  {
   "cell_type": "code",
   "execution_count": null,
   "id": "58979dcf",
   "metadata": {},
   "outputs": [],
   "source": [
    "pdf[\"riemann_expectation\"] < pdf[\"ae_u_expectation\"]"
   ]
  },
  {
   "cell_type": "code",
   "execution_count": null,
   "id": "269e0671",
   "metadata": {},
   "outputs": [],
   "source": [
    "pdf"
   ]
  },
  {
   "cell_type": "code",
   "execution_count": null,
   "id": "d4e56f66",
   "metadata": {},
   "outputs": [],
   "source": []
  }
 ],
 "metadata": {
  "kernelspec": {
   "display_name": "myqlm",
   "language": "python",
   "name": "myqlm"
  },
  "language_info": {
   "codemirror_mode": {
    "name": "ipython",
    "version": 3
   },
   "file_extension": ".py",
   "mimetype": "text/x-python",
   "name": "python",
   "nbconvert_exporter": "python",
   "pygments_lexer": "ipython3",
   "version": "3.9.7"
  }
 },
 "nbformat": 4,
 "nbformat_minor": 5
}
