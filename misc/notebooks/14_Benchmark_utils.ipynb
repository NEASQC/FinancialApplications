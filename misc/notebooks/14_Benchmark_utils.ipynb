{
 "cells": [
  {
   "cell_type": "markdown",
   "id": "8a7c7412",
   "metadata": {},
   "source": [
    "# Benchmark utilities.\n",
    "\n",
    "The present notebook explains how to use the module *benchmark_utils* from **QQuantLib.utils** package. In this module several functions help the user to automatize the creation of price estimation problems\n",
    "\n",
    "Following functions (from **benchmark.benchmark_utils**) will be explained:\n",
    "\n",
    "1. *combination_for_dictionary*\n",
    "2. *combination_for_list*\n",
    "3. *create_pe_problem*\n",
    "4. *create_ae_pe_solution*"
   ]
  },
  {
   "cell_type": "code",
   "execution_count": null,
   "id": "21f88f27",
   "metadata": {},
   "outputs": [],
   "source": [
    "import sys\n",
    "sys.path.append(\"../../\")\n",
    "import numpy as np\n",
    "import pandas as pd\n",
    "import itertools as it\n",
    "import matplotlib.pyplot as plt\n",
    "import json"
   ]
  },
  {
   "cell_type": "markdown",
   "id": "1287bb11",
   "metadata": {},
   "source": [
    "## 1. combination_for_dictionary function\n",
    "\n",
    "\n",
    "The input of this function is a Python dictionary where for each key the values **MUST BE**  a list. For a given key the correspondent list can have one or more elements. For each element of the list, a different output dictionary will be generated. If different keys have corresponding lists with more than one element all possible combinations will be returned by the function.\n",
    "\n",
    "In the following cells, we give an example of how this works:"
   ]
  },
  {
   "cell_type": "code",
   "execution_count": null,
   "id": "c86aa78f",
   "metadata": {},
   "outputs": [],
   "source": [
    "from QQuantLib.utils.benchmark_utils import combination_for_dictionary"
   ]
  },
  {
   "cell_type": "markdown",
   "id": "331b3714",
   "metadata": {},
   "source": [
    "We are going to start with a *probability_dictionary* configuration where we have the following list with more than one element:\n",
    "\n",
    "* *risk_free_rate*  with 2 possible values\n",
    "* *volatility*: with 3 possible values.\n",
    "\n",
    "The **combination_for_dictionary** will create a list of Python dictionaries where all the possibilities will be exhausted: in this case, we will have *risk_free_rate*volatility* number of dictionaries: 2*3=6"
   ]
  },
  {
   "cell_type": "code",
   "execution_count": null,
   "id": "5dbeb3cc",
   "metadata": {},
   "outputs": [],
   "source": [
    "probability_dictionary = {\n",
    "    'probability_type': ['Black-Scholes'],\n",
    "    's_0': [1],\n",
    "    'risk_free_rate': [0.02, 0.05],\n",
    "    'maturity': [1.0],\n",
    "    'volatility': [0.1, 0.3, 0.5]\n",
    "}\n",
    "list_of_probabilities = combination_for_dictionary(probability_dictionary)\n",
    "print(len(list_of_probabilities))"
   ]
  },
  {
   "cell_type": "code",
   "execution_count": null,
   "id": "af165555",
   "metadata": {},
   "outputs": [],
   "source": [
    "list_of_probabilities[0]"
   ]
  },
  {
   "cell_type": "markdown",
   "id": "27dbf998",
   "metadata": {},
   "source": [
    "## 2 combination_for_list function\n",
    "\n",
    "The input of this function is a list of Python dictionaries. Each dictionary should have a key-value pair where the value is a list. This function iterates over each dictionary of the input list, generates all the possible combinations of the dictionary (using the *combination_for_dictionary* function) and finally concatenates all of them.\n",
    "\n",
    "The following cells show how this function works."
   ]
  },
  {
   "cell_type": "code",
   "execution_count": null,
   "id": "9c761822",
   "metadata": {},
   "outputs": [],
   "source": [
    "from QQuantLib.utils.benchmark_utils  import combination_for_list"
   ]
  },
  {
   "cell_type": "markdown",
   "id": "5f3ca860",
   "metadata": {},
   "source": [
    "In the following case, we will have 2 different payoffs (a *European_Put_Option* and a *Futures*) and we want to test several *strikes*. So the *combination_for_list* will create all the possible configurations for each dictionary of the list and concatenate them.\n",
    "\n",
    "So we will have 2 possible dictionaries from the *European_Put_Option* one and 3 combinations from the *futures* one. So our final list will have 5 possible dictionaries."
   ]
  },
  {
   "cell_type": "code",
   "execution_count": null,
   "id": "6541ffb0",
   "metadata": {},
   "outputs": [],
   "source": [
    "payoffs = [\n",
    "    {\n",
    "        'pay_off_type': ['European_Put_Option'],\n",
    "        'strike': [1.5, 2.0],\n",
    "        'coupon': [None]\n",
    "    },\n",
    "    {\n",
    "        'pay_off_type': ['Futures'],\n",
    "        'strike': [0.5, 1.0, 1.5], \n",
    "        'coupon': [None]}\n",
    "]\n",
    "list_for_payoffs = combination_for_list(payoffs)\n",
    "len(list_for_payoffs)"
   ]
  },
  {
   "cell_type": "code",
   "execution_count": null,
   "id": "598fdbb7",
   "metadata": {
    "scrolled": true
   },
   "outputs": [],
   "source": [
    "list_for_payoffs[4]"
   ]
  },
  {
   "cell_type": "markdown",
   "id": "bc554e45",
   "metadata": {},
   "source": [
    "## 3. create_pe_problem function\n",
    "\n",
    "We are going to define a complete **price estimation problem** as a dictionary with all the complete information for generating an option price estimation problem as explained in **/misc/notebooks/12_ApplicationTo_Finance_03_AEPriceEstimation**. This kind of dictionary will need the following keys:\n",
    "\n",
    "* domain_configuration keys: related to the domain of the price estimation problem:\n",
    "    * x0\n",
    "    * xf\n",
    "    * n_qbits\n",
    "* probability_configuration keys: related to the kind of density probability, asset information and market information:\n",
    "    * probability_type\n",
    "    * s_0\n",
    "    * risk_free_rate\n",
    "    * maturity\n",
    "    * volatility\n",
    "* payoff_configuration keys: related to the configuration of derivative option:\n",
    "    * pay_off_type\n",
    "    * strike\n",
    "    * coupon\n",
    "    \n",
    "The **create_pe_problem** function was implemented for automatizing the creation of this **price estimation problem**. \n",
    "\n",
    "The input of this function will be the following three list of dictionaries:\n",
    "\n",
    "* domain_cfg: list of Python dictionaries with different domain configurations.\n",
    "* payoff_cfg: list of Python dictionaries with different payoff configurations. \n",
    "* density_cfg: list of Python dictionaries with different probability configurations.\n",
    "\n",
    "The values of the different dictionaries **MUST BE** a list with one or more elements. The following cell shows an example of the typical input list of dictionaries for the **create_pe_problem** function:"
   ]
  },
  {
   "cell_type": "code",
   "execution_count": null,
   "id": "1800588e",
   "metadata": {},
   "outputs": [],
   "source": [
    "domain_cfg = [{'x0': [0.01], 'xf': [5.0], 'n_qbits': [5]}]\n",
    "density_cfg = [{\n",
    "    'probability_type': ['Black-Scholes'], 's_0': [1], 'risk_free_rate': [0.05],\n",
    "    'maturity': [1.0], 'volatility': [0.5]\n",
    "}]\n",
    "payoff_cfg = [{'pay_off_type': ['European_Call_Option'], 'strike': [0.5], 'coupon': [None]}]"
   ]
  },
  {
   "cell_type": "markdown",
   "id": "80ad23c2",
   "metadata": {},
   "source": [
    "The **create_pe_problem** function allows to create all the possible **price estimation** problems combinations from the inputs."
   ]
  },
  {
   "cell_type": "code",
   "execution_count": null,
   "id": "938df073",
   "metadata": {},
   "outputs": [],
   "source": [
    "from QQuantLib.utils.benchmark_utils import create_pe_problem"
   ]
  },
  {
   "cell_type": "code",
   "execution_count": null,
   "id": "3ebb1b90",
   "metadata": {},
   "outputs": [],
   "source": [
    "#In this example only one complete price estimation problem is created.\n",
    "pe_problem = create_pe_problem(domain_cfg, density_cfg, payoff_cfg)"
   ]
  },
  {
   "cell_type": "code",
   "execution_count": null,
   "id": "12d54e4d",
   "metadata": {},
   "outputs": [],
   "source": [
    "pe_problem"
   ]
  },
  {
   "cell_type": "markdown",
   "id": "a1cb4f57",
   "metadata": {},
   "source": [
    "If any of the keys of any of the inputs have more than one element then all possible combinations will be generated:"
   ]
  },
  {
   "cell_type": "code",
   "execution_count": null,
   "id": "ad3ce5d1",
   "metadata": {},
   "outputs": [],
   "source": [
    "#Here we have a list with 2 elements\n",
    "domain_cfg = [{'x0': [0.01], 'xf': [5.0], 'n_qbits': [5, 7]}]\n",
    "#And here another two elements\n",
    "density_cfg = [{\n",
    "    'probability_type': ['Black-Scholes'], 's_0': [1], 'risk_free_rate': [0.05, 0.1],\n",
    "    'maturity': [1.0], 'volatility': [0.5]\n",
    "}]\n",
    "\n",
    "#In this case the function generates 4 possible price estimation problems\n",
    "pe_problem = create_pe_problem(domain_cfg, density_cfg, payoff_cfg)\n",
    "print(len(pe_problem))"
   ]
  },
  {
   "cell_type": "code",
   "execution_count": null,
   "id": "b4c4f8b6",
   "metadata": {},
   "outputs": [],
   "source": [
    "pe_problem[0]"
   ]
  },
  {
   "cell_type": "code",
   "execution_count": null,
   "id": "42b8dc6e",
   "metadata": {},
   "outputs": [],
   "source": [
    "pe_problem[3]"
   ]
  },
  {
   "cell_type": "markdown",
   "id": "7f2eb041",
   "metadata": {},
   "source": [
    "The inputs of the *create_pe_problem* are list of dictionaries so for each input we can provide several dictionaries. The function will return all the possible combinations again!!"
   ]
  },
  {
   "cell_type": "code",
   "execution_count": null,
   "id": "0451055a",
   "metadata": {},
   "outputs": [],
   "source": [
    "#In this case we have 7 different payoffs\n",
    "payoff_cfg = [\n",
    "    {'pay_off_type': ['European_Call_Option'], 'strike': [0.5], 'coupon': [None]},\n",
    "    {'pay_off_type': ['European_Put_Option'], 'strike': [1.5], 'coupon': [None]},\n",
    "    {'pay_off_type': ['Futures'], 'strike': [0.5, 1.0, 1.5], 'coupon': [None]},\n",
    "    {'pay_off_type': ['Digital_Call_Option'], 'strike': [0.5], 'coupon': [1.0]},\n",
    "    {'pay_off_type': ['Digital_Put_Option'], 'strike': [1.5], 'coupon': [1.0]}]\n",
    "\n",
    "#The domain cfg have 2 different domain configurations\n",
    "#The density_cfg have 2 different probability configurations\n",
    "#So 2*2*7=28 different price estimation problems will be generated\n",
    "pe_problem = create_pe_problem(domain_cfg, density_cfg, payoff_cfg)\n",
    "print(len(pe_problem))"
   ]
  },
  {
   "cell_type": "markdown",
   "id": "a4051978",
   "metadata": {},
   "source": [
    "## 4. create_ae_pe_solution_list function\n",
    " \n",
    "Now, we have a complete list of price estimation problems (**pe_problem**) and we want to solve each one with different **AE** algorithms and configurations. \n",
    "\n",
    "Let's imagine, for example, we have the following **AE** configuration scheme:\n",
    "\n"
   ]
  },
  {
   "cell_type": "code",
   "execution_count": null,
   "id": "8213240c",
   "metadata": {},
   "outputs": [],
   "source": [
    "ae_config = [\n",
    "    {\n",
    "        \"ae_type\": [\"IQAE\"],\n",
    "\n",
    "        \"epsilon\": [1.0e-2, 1.0e-3, 1.0e-4, 1.0e-5, 1.0e-6],\n",
    "\n",
    "        \"alpha\": [0.05],\n",
    "\n",
    "        \"gamma\": [None],\n",
    "        \"q\": [None],\n",
    "\n",
    "        \"encoding\" : [0, 2],\n",
    "        \"multiplexor\":  [True],\n",
    "\n",
    "        \"mcz_qlm\": [False],\n",
    "        \"file\": [\"IQAE\"],\n",
    "        \"shots\": [100]\n",
    "\n",
    "    },\n",
    "    {\n",
    "        \"ae_type\": [\"RQAE\"],\n",
    "\n",
    "        \"epsilon\": [1.0e-2, 1.0e-3, 1.0e-4, 1.0e-5, 1.0e-6],\n",
    "\n",
    "        \"alpha\": [None],\n",
    "\n",
    "        \"gamma\": [0.05],\n",
    "        \"q\": [2, 5, 10],\n",
    "        \n",
    "        \"encoding\" : [2],\n",
    "        \"multiplexor\":  [True],\n",
    "\n",
    "        \"mcz_qlm\": [False],\n",
    "        \"file\": [\"RQAE\"],\n",
    "        \"shots\": [100]\n",
    "    },\n",
    "]"
   ]
  },
  {
   "cell_type": "markdown",
   "id": "64cc78cc",
   "metadata": {},
   "source": [
    "So we want to execute each one of the 27 price estimations problems with each possible **AE** configuration from **ae_config**.\n",
    "\n",
    "First, we can use *combination_for_list* function to create all the possible **AE** configurations that we want to use. In this case will be:\n",
    "\n",
    "* 10 configurations for the first dictionary (IQAE one)\n",
    "* 15  configurations for the second dictionary (RQAE one)\n",
    "\n",
    "So in total 10 + 15 = 25 combibnations"
   ]
  },
  {
   "cell_type": "code",
   "execution_count": null,
   "id": "f6ffb59d",
   "metadata": {},
   "outputs": [],
   "source": [
    "ae_combinations = combination_for_list(ae_config)\n",
    "print(len(ae_combinations))"
   ]
  },
  {
   "cell_type": "markdown",
   "id": "20ee8fc1",
   "metadata": {},
   "source": [
    "Now we can combine the 27 different price estimation problems with all the 25 different **AE** configurations using the *create_ae_pe_solution* function. So in this case we are going to generate: 25 * 27 = 700 complete Amplitude Estimation price problems"
   ]
  },
  {
   "cell_type": "code",
   "execution_count": null,
   "id": "d597ffc9",
   "metadata": {},
   "outputs": [],
   "source": [
    "from QQuantLib.utils.benchmark_utils import create_ae_pe_solution"
   ]
  },
  {
   "cell_type": "code",
   "execution_count": null,
   "id": "a78d889d",
   "metadata": {},
   "outputs": [],
   "source": [
    "final_list = create_ae_pe_solution(ae_combinations, pe_problem)"
   ]
  },
  {
   "cell_type": "code",
   "execution_count": null,
   "id": "02c83c16",
   "metadata": {},
   "outputs": [],
   "source": [
    "len(final_list)"
   ]
  }
 ],
 "metadata": {
  "kernelspec": {
   "display_name": "Python 3 (ipykernel)",
   "language": "python",
   "name": "python3"
  },
  "language_info": {
   "codemirror_mode": {
    "name": "ipython",
    "version": 3
   },
   "file_extension": ".py",
   "mimetype": "text/x-python",
   "name": "python",
   "nbconvert_exporter": "python",
   "pygments_lexer": "ipython3",
   "version": "3.9.9"
  }
 },
 "nbformat": 4,
 "nbformat_minor": 5
}
