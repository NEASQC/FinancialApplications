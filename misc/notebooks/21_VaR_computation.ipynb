{
 "cells": [
  {
   "cell_type": "markdown",
   "id": "f808eb1c",
   "metadata": {},
   "source": [
    "# VaR Computations\n",
    "\n",
    "Given a **PDF** $F(\\textbf{X})$ and a confidence level $\\alpha$, the corresponding **Value at Risk**, $VaR_\\alpha(\\textbf{X})$, can be defined as the smallest $\\tilde{\\textbf{x}}$ such that:\n",
    "\n",
    "$$F[\\textbf{X} \\leq \\tilde{\\textbf{x}}]\\geq (1-\\alpha).$$\n",
    "\n",
    "\n",
    "Once the **PQC**, which we use as a surrogate model of complex and time-consuming financial distribution $F(\\textbf{X})$, is trained, It can be used for perform easily **VaR** computations by evaluating it in different domain points. \n",
    "\n",
    "The present notebook explains how to perform this computations."
   ]
  },
  {
   "cell_type": "code",
   "execution_count": null,
   "id": "457ba7c2",
   "metadata": {},
   "outputs": [],
   "source": [
    "import json\n",
    "import sys\n",
    "import numpy as np \n",
    "import pandas as pd\n",
    "import matplotlib.pyplot as plt\n",
    "sys.path.append(\"../../\")"
   ]
  },
  {
   "cell_type": "markdown",
   "id": "867f51f2",
   "metadata": {},
   "source": [
    "## 1. Load the Data\n",
    "\n",
    "First the complete training and testing data will be loaded."
   ]
  },
  {
   "cell_type": "code",
   "execution_count": null,
   "id": "92d360bd",
   "metadata": {},
   "outputs": [],
   "source": [
    "from QQuantLib.qml4var.data_utils import get_dataset"
   ]
  },
  {
   "cell_type": "code",
   "execution_count": null,
   "id": "6d20d633",
   "metadata": {},
   "outputs": [],
   "source": [
    "data_file = \"qml4var_data/2024_10_04_BS\"\n",
    "x_train, y_train, x_test, y_test = get_dataset(data_file)"
   ]
  },
  {
   "cell_type": "markdown",
   "id": "a2c02f5b",
   "metadata": {},
   "source": [
    "Here only the testing data will be needed."
   ]
  },
  {
   "cell_type": "code",
   "execution_count": null,
   "id": "6da17cec",
   "metadata": {},
   "outputs": [],
   "source": [
    "plt.plot(x_test, y_test, '-')\n",
    "plt.legend([\"Testing Data\", \"Training Data\"])"
   ]
  },
  {
   "cell_type": "markdown",
   "id": "efb6cebb",
   "metadata": {},
   "source": [
    "## 2 Get the PQC\n",
    "\n",
    "Now the architecture will be loaded."
   ]
  },
  {
   "cell_type": "code",
   "execution_count": null,
   "id": "6f49b248",
   "metadata": {},
   "outputs": [],
   "source": [
    "from QQuantLib.qml4var.architectures import hardware_efficient_ansatz, \\\n",
    "    z_observable, normalize_data"
   ]
  },
  {
   "cell_type": "code",
   "execution_count": null,
   "id": "6c01b373",
   "metadata": {},
   "outputs": [],
   "source": [
    "pqc_json_file = \"qml4var_data/pqc.json\"\n",
    "with open(pqc_json_file) as json_file:\n",
    "    pqc_info = json.load(json_file)\n",
    "print(pqc_info)"
   ]
  },
  {
   "cell_type": "code",
   "execution_count": null,
   "id": "5479695c",
   "metadata": {},
   "outputs": [],
   "source": [
    "# build the PQC\n",
    "pqc, weigths_names, features_names = hardware_efficient_ansatz(**pqc_info)\n",
    "observable = z_observable(**pqc_info)\n",
    "circuit = pqc.to_circ()\n",
    "circuit.display()"
   ]
  },
  {
   "cell_type": "markdown",
   "id": "2fd50881",
   "metadata": {},
   "source": [
    "## 3. Get QPU info\n",
    "\n",
    "Now we load the configuration that we are going to use for the **QPU**"
   ]
  },
  {
   "cell_type": "code",
   "execution_count": null,
   "id": "50ba5aae",
   "metadata": {},
   "outputs": [],
   "source": [
    "from QQuantLib.utils.benchmark_utils import combination_for_list"
   ]
  },
  {
   "cell_type": "code",
   "execution_count": null,
   "id": "501ec7f8",
   "metadata": {},
   "outputs": [],
   "source": [
    "json_qpu = \"../../benchmark/qml4var/JSONs/qpu_ideal.json\"\n",
    "with open(json_qpu) as json_file:\n",
    "    qpu_dict = json.load(json_file)\n",
    "qpu_list = combination_for_list(qpu_dict)\n",
    "qpu_dict = qpu_list[0]\n",
    "print(qpu_dict)"
   ]
  },
  {
   "cell_type": "markdown",
   "id": "8a90ed36",
   "metadata": {},
   "source": [
    "## 4. Loading Trained Weights\n",
    "\n",
    "We are going to use the weights presented in the *mse_loss_function.csv* and the *qdml_loss_function.csv* as the trained ones."
   ]
  },
  {
   "cell_type": "markdown",
   "id": "2642e8ea",
   "metadata": {},
   "source": [
    "### 4.1. Trained weights using MSE\n",
    "\n",
    "The *mse_loss_function.csv* contains the info of the 100 trainings with **MSE** as the *loss function*"
   ]
  },
  {
   "cell_type": "code",
   "execution_count": null,
   "id": "d60d11b8",
   "metadata": {},
   "outputs": [],
   "source": [
    "mse = pd.read_csv(\n",
    "    \"qml4var_data/mse_loss_function.csv\",\n",
    "    sep=\";\"\n",
    ")"
   ]
  },
  {
   "cell_type": "markdown",
   "id": "0fb19930",
   "metadata": {},
   "source": [
    "### 4.2. Trained weights using $R_{L^2, \\bar{L}^2}^{S_{\\chi}}$\n",
    "\n",
    "The *qdml_loss_function.csv* contains the info of the 100 trainings with $R_{L^2, \\bar{L}^2}^{S_{\\chi}}$ as the *loss function*"
   ]
  },
  {
   "cell_type": "code",
   "execution_count": null,
   "id": "7282afa9",
   "metadata": {},
   "outputs": [],
   "source": [
    "qdml = pd.read_csv(\n",
    "    \"qml4var_data/qdml_loss_function.csv\",\n",
    "    sep=\";\"\n",
    ")"
   ]
  },
  {
   "cell_type": "markdown",
   "id": "02733634",
   "metadata": {},
   "source": [
    "## 5. PQC Evaluation Workflow\n",
    "\n",
    "Here we build the PQC for evaluation. Given weights, the function evaluates the **PQC** for the input weights and data."
   ]
  },
  {
   "cell_type": "code",
   "execution_count": null,
   "id": "f2f6881e",
   "metadata": {},
   "outputs": [],
   "source": [
    "from QQuantLib.qml4var.myqlm_workflows import workflow_for_cdf"
   ]
  },
  {
   "cell_type": "code",
   "execution_count": null,
   "id": "966491da",
   "metadata": {},
   "outputs": [],
   "source": [
    "input_dict = {\n",
    "    \"pqc\" : pqc, \n",
    "    \"observable\" : observable, \n",
    "    \"weights_names\" : weigths_names,\n",
    "    \"features_names\" : features_names,\n",
    "    \"nbshots\" : 0,\n",
    "    \"qpu_info\" : qpu_dict,\n",
    "}  \n",
    "dask_client = None"
   ]
  },
  {
   "cell_type": "markdown",
   "id": "1e2ed6d6",
   "metadata": {},
   "source": [
    "from distributed import Client\n",
    "dask_info = \"/home/cesga/gferro/Codigo/qlm_cVar/dask_cluster_ft3/scheduler_info.json\"\n",
    "dask_client = Client(scheduler_file=dask_info)\n",
    "cdf = lambda w_: workflow_for_cdf(\n",
    "    w_,\n",
    "    x_test,\n",
    "    dask_client=dask_client,\n",
    "    **input_dict\n",
    ")  "
   ]
  },
  {
   "cell_type": "markdown",
   "id": "cc7de813",
   "metadata": {},
   "source": [
    "## 6.VaR computations.\n",
    "\n",
    "First we compute the **VaR** using the testing data. In the *y_test* variable we have stored the complete **CDF** for the domain of the problem so we can compute the *VaR* easily.\n",
    "\n",
    "The **CDF** should be shifted!!!"
   ]
  },
  {
   "cell_type": "code",
   "execution_count": null,
   "id": "f3de1ae2",
   "metadata": {},
   "outputs": [],
   "source": [
    "alpha = 0.05\n",
    "\n",
    "VaR = x_test[y_test + np.abs(np.min(y_test)) < 1.0-alpha][-1]\n",
    "print(\"VaR value: {}\".format(VaR))"
   ]
  },
  {
   "cell_type": "markdown",
   "id": "f96ddd97",
   "metadata": {},
   "source": [
    "### 6.1 Using MSE\n",
    "\n",
    "First we compute the **VaR** for all the trained models using **MSE**. We are going to use the same formula for computing the true VaR, using the predictions of the **PQC**, for all the trained weights, over the complete domain defined by *x_test*. \n"
   ]
  },
  {
   "cell_type": "code",
   "execution_count": null,
   "id": "4d91a5cd",
   "metadata": {},
   "outputs": [],
   "source": [
    "# First we predict the CDF for all the points of the domain using the differents trained weights\n",
    "mse_cdf = []\n",
    "for i, w in mse.iterrows():\n",
    "    step = cdf(w[weigths_names])[\"y_predict_cdf\"]\n",
    "    mse_cdf.append(step)    "
   ]
  },
  {
   "cell_type": "code",
   "execution_count": null,
   "id": "fc5afa11",
   "metadata": {},
   "outputs": [],
   "source": [
    "# Var computation for all the predictions\n",
    "mse_var = []\n",
    "for step in mse_cdf:\n",
    "    mse_var.append(x_test[step + np.abs(np.min(step)) < 1.0-alpha][-1][0])"
   ]
  },
  {
   "cell_type": "markdown",
   "id": "fb28a522",
   "metadata": {},
   "source": [
    "### 6.2 Using $R_{L^2, \\bar{L}^2}^{S_{\\chi}}$\n",
    "\n",
    "Now we compute the VaR for all the trained models using $R_{L^2, \\bar{L}^2}^{S_{\\chi}}$. The procedure will be the same"
   ]
  },
  {
   "cell_type": "code",
   "execution_count": null,
   "id": "b5e1e10a",
   "metadata": {},
   "outputs": [],
   "source": [
    "# First we predict the CDF for all the points of the domain using the differents trained weights\n",
    "qdml_cdf = []\n",
    "for i, w in qdml.iterrows():\n",
    "    step = cdf(w[weigths_names])[\"y_predict_cdf\"]\n",
    "    qdml_cdf.append(step)    "
   ]
  },
  {
   "cell_type": "code",
   "execution_count": null,
   "id": "603b709d",
   "metadata": {},
   "outputs": [],
   "source": [
    "# Var computation for all the predictions\n",
    "qdml_var = []\n",
    "for step in qdml_cdf:\n",
    "    qdml_var.append(x_test[step + np.abs(np.min(step)) < 1.0-alpha][-1][0])"
   ]
  },
  {
   "cell_type": "code",
   "execution_count": null,
   "id": "d2a14548",
   "metadata": {},
   "outputs": [],
   "source": [
    "# Plot hte obtained VaRs\n",
    "plt.hist(mse_var, bins=20)\n",
    "plt.hist(qdml_var, bins=20)\n",
    "\n",
    "plt.xlabel(r\"$VaR$\")\n",
    "plt.legend([\"MSE\", r\"$R_{L^2, \\bar{L}^2}^{S_{\\chi}}$\"])\n",
    "plt.title(\"Comparison of VaRs\")\n",
    "#Plot where the True value of the VaR is\n",
    "plt.axvline(VaR)"
   ]
  },
  {
   "attachments": {
    "image.png": {
     "image/png": "[encoded data removed]"
    }
   },
   "cell_type": "markdown",
   "id": "d7e60c17",
   "metadata": {},
   "source": [
    "As can be seen the **VaR** computed with the modelt trained using the $R_{L^2, \\bar{L}^2}^{S_{\\chi}}$ loss works bettern than the **MSE**.\n",
    "\n",
    "![image.png](attachment:image.png)\n",
    "\n",
    "This can be better shown when computing the absolute error between the computed and the true VaR:"
   ]
  },
  {
   "cell_type": "code",
   "execution_count": null,
   "id": "2dc74b00",
   "metadata": {
    "scrolled": true
   },
   "outputs": [],
   "source": [
    "plt.hist(np.array(mse_var) - VaR, bins=20)\n",
    "plt.hist(np.array(qdml_var) - VaR, bins=20)\n",
    "plt.xlabel(r\"$VaR-VaR_{True}$\")\n",
    "plt.legend([\"MSE\", r\"$R_{L^2, \\bar{L}^2}^{S_{\\chi}}$\"])\n",
    "plt.title(\"Comparison of error in VaR\")"
   ]
  },
  {
   "attachments": {
    "image.png": {
     "image/png": "[encoded data removed]"
    }
   },
   "cell_type": "markdown",
   "id": "6b614313",
   "metadata": {},
   "source": [
    "As can be seen the trained models with $R_{L^2, \\bar{L}^2}^{S_{\\chi}}$ has lower error than the **MSE** ones:\n",
    "\n",
    "![image.png](attachment:image.png)"
   ]
  }
 ],
 "metadata": {
  "kernelspec": {
   "display_name": "Python 3 (ipykernel)",
   "language": "python",
   "name": "python3"
  },
  "language_info": {
   "codemirror_mode": {
    "name": "ipython",
    "version": 3
   },
   "file_extension": ".py",
   "mimetype": "text/x-python",
   "name": "python",
   "nbconvert_exporter": "python",
   "pygments_lexer": "ipython3",
   "version": "3.9.9"
  }
 },
 "nbformat": 4,
 "nbformat_minor": 5
}
