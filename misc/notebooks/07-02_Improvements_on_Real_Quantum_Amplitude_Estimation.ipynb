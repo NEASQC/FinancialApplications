{
 "cells": [
  {
   "cell_type": "markdown",
   "id": "921cf770",
   "metadata": {},
   "source": [
    "# Improvements on RQAE algorithms\n",
    "\n",
    "Several modifications over the **RQAE** were developed in the **QQuantLib** library. These modifications can be found inside the **QQuantLib.AE** package in the following modules and clasess:\n",
    "\n",
    "* Modified **RQAE** in the **mRQAE** class inside the *modified_real_quantum_ae* module.\n",
    "* Shots version of the **RQAE** in the **sRQAE** class inside the *shots_real_quantum_ae* module.\n",
    "* Extended **RQAE** in the **eRQAE** class inside the *extended_real_quantum_ae* module.\n",
    "\n",
    "\n",
    "All these modifications use the **RQAE** quantum circuits shown in section 3 of jupyter notebook: *07_Real_Quantum_Amplitude_Estimation_class*. The main difference is how the classical part is configured in each variation. Playing with the classical part the performance of the **RQAE** algorithm can be improved a lot and even can achieved better performances than other **AE** algorithms like **IQAE** or **mIQAE**.\n",
    "\n",
    "All these implementations work in the same way than the original **RQAE** class"
   ]
  },
  {
   "cell_type": "code",
   "execution_count": null,
   "id": "2bee1480",
   "metadata": {},
   "outputs": [],
   "source": [
    "import sys\n",
    "sys.path.append(\"../../\")"
   ]
  },
  {
   "cell_type": "code",
   "execution_count": null,
   "id": "f082c964",
   "metadata": {},
   "outputs": [],
   "source": [
    "import numpy as np\n",
    "import pandas as pd\n",
    "import matplotlib.pyplot as plt\n",
    "import qat.lang.AQASM as qlm"
   ]
  },
  {
   "cell_type": "code",
   "execution_count": null,
   "id": "a9a239b8",
   "metadata": {},
   "outputs": [],
   "source": [
    "%matplotlib inline"
   ]
  },
  {
   "cell_type": "code",
   "execution_count": null,
   "id": "b73a1d7a",
   "metadata": {},
   "outputs": [],
   "source": [
    "#This cell loads the QLM solver. See notebook: 00_AboutTheNotebooksAndQPUs.ipynb\n",
    "from QQuantLib.qpu.get_qpu import get_qpu\n",
    "# myqlm qpus\n",
    "myqlm_qpus = [\"python\", \"c\"]\n",
    "# QLM qpus accessed using Qaptiva Access library\n",
    "qlmass_qpus = [\"qlmass_linalg\", \"qlmass_mps\"]\n",
    "# QLM qpus: Only in local Quantum Learning Machine\n",
    "qlm_qpus = [\"linalg\", \"mps\"]\n",
    "\n",
    "linalg_qpu = get_qpu(myqlm_qpus[1])#This cell loads the QLM solver. QPU = [qlmass, python, c]\n",
    "from QQuantLib.qpu.get_qpu import get_qpu\n",
    "QPU = [\"qlmass\", \"python\", \"c\"]\n",
    "linalg_qpu = get_qpu(QPU[2])"
   ]
  },
  {
   "cell_type": "code",
   "execution_count": null,
   "id": "892e87a7",
   "metadata": {},
   "outputs": [],
   "source": [
    "#See 01_DataLoading_Module_Use for the use of this function\n",
    "from QQuantLib.utils.data_extracting import get_results\n",
    "from QQuantLib.utils.utils import bitfield_to_int"
   ]
  },
  {
   "cell_type": "markdown",
   "id": "67d7d0c4",
   "metadata": {},
   "source": [
    "## 1. Oracle generation\n",
    "\n",
    "Before doing any amplitude estimation we want to load some data into the quantum circuit, as this step is only auxiliary to see how the algorithm works, we are just going to load a discrete probability distribution. In this case, we will have a circuit with $n=3$ qubits which makes a total of $N = 2^n = 8$ states. The discrete probability distribution that we are going to load is:\n",
    "$$p_d = \\dfrac{(0,1,2,3,4,5,6,7)}{0+1+2+3+4+5+6+7+8}.$$\n",
    "\n",
    "Note that this probability distribution is properly normalised. For loading this probability into the quantum circuit we will use the function *load_probability* from **QQuantLib/DL/data_loading** module. The state that we are going to get is:\n",
    "    $$|\\Psi\\rangle = \\scriptstyle \\dfrac{1}{\\sqrt{0+1+2+3+4+5+6+7+8}}\\left[\\sqrt{0}|0\\rangle+\\sqrt{1}|1\\rangle+\\sqrt{2}|2\\rangle+\\sqrt{3}|3\\rangle+\\sqrt{4}|4\\rangle+\\sqrt{5}|5\\rangle+\\sqrt{6}|6\\rangle+\\sqrt{7}|7\\rangle\\right].$$"
   ]
  },
  {
   "cell_type": "code",
   "execution_count": null,
   "id": "26aa7824",
   "metadata": {},
   "outputs": [],
   "source": [
    "from QQuantLib.DL.data_loading import load_probability\n",
    "# For comparing RQAE modifications\n",
    "\n",
    "n = 3\n",
    "N = 2**n\n",
    "x = np.arange(N)\n",
    "probability = x/np.sum(x)\n",
    "oracle = load_probability(probability)\n",
    "\n",
    "#First we create the class\n",
    "target = [0,0,1]\n",
    "index = [0,1,2]\n",
    "a = np.sqrt(probability[bitfield_to_int(target)])\n",
    "print('We want to estimate: ', a)"
   ]
  },
  {
   "cell_type": "markdown",
   "id": "daa1ab49",
   "metadata": {},
   "source": [
    "## 2. RQAE original algorithm\n",
    "\n",
    "For comparison purpouses we are going to execute the original RQAE algorithm"
   ]
  },
  {
   "cell_type": "code",
   "execution_count": null,
   "id": "c5d4d48f",
   "metadata": {},
   "outputs": [],
   "source": [
    "from QQuantLib.AE.real_quantum_ae import RQAE"
   ]
  },
  {
   "cell_type": "code",
   "execution_count": null,
   "id": "2cc3a223",
   "metadata": {},
   "outputs": [],
   "source": [
    "epsilon = 0.001\n",
    "q = 2\n",
    "gamma = 0.05"
   ]
  },
  {
   "cell_type": "code",
   "execution_count": null,
   "id": "b7c5291c",
   "metadata": {},
   "outputs": [],
   "source": [
    "rqae_dict = {\n",
    "    'qpu': linalg_qpu,    \n",
    "    'epsilon': epsilon,\n",
    "    'ratio': q,\n",
    "    'gamma': gamma,\n",
    "    'mcz_qlm': False\n",
    "}\n",
    "rqae_ = RQAE(oracle, target = target, index = [0,1,2], **rqae_dict)\n",
    "_ = rqae_.run()\n",
    "print('a_estimated: {}. RQAE: {}.'.format(a, rqae_.ae))\n",
    "print('Errors: RQAE: {}.'.format(np.abs(a - rqae_.ae)))\n",
    "print(\"Oracle calls: RQAE: {}.\".format(rqae_.oracle_calls))"
   ]
  },
  {
   "cell_type": "markdown",
   "id": "acf37bc5",
   "metadata": {},
   "source": [
    "As explained in *07_Real_Quantum_Amplitude_Estimation_class.ipynb* notebook *display_information* provides info abput the asymptotic bounds of the RQAE for a given $\\epsilon$, $\\gamma$ and $q$"
   ]
  },
  {
   "cell_type": "code",
   "execution_count": null,
   "id": "e5900b20",
   "metadata": {},
   "outputs": [],
   "source": [
    "rqae_.display_information(ratio=q, epsilon=epsilon, gamma=gamma)"
   ]
  },
  {
   "cell_type": "markdown",
   "id": "3fe39bec",
   "metadata": {},
   "source": [
    "## 3. Modified RQAE (mRQAE)\n",
    "\n",
    "\n",
    "In the original **RQAE** algorithm the failure probability at each step of the algorithm, $\\gamma_i$, is kept constant. In the **mRQAE** this failure probability (and the corresponding number of shots) changes with the amplification of the step. It can be show that setting this probability to \n",
    "\n",
    "$$\\gamma_i =\\frac{0.5 * \\gamma * (q - 1) * (2k + 1)}{q * (2 * k_{max} + 1)}$$ \n",
    "\n",
    "where $q$ is the ratio, $k$ the number of grover operators to apply, $\\gamma$ the final probability failure desired and $k_{max}$ the maximum number of times the Grover operator will be applied (depends on the desired $\\epsilon$) the asymptotyc query behaviuor is improved over the **RQAE** one:\n",
    "\n",
    "* RQAE query complexity: $\\sim \\frac{1}{\\epsilon} \\log \\left( \\frac{1}{\\alpha} \\log \\left(\\frac{1}{\\epsilon}\\right)\\right)$\n",
    "* mRQAE query complexity: $\\sim \\frac{1} {\\epsilon} \\log \\frac{1}{\\alpha}$"
   ]
  },
  {
   "cell_type": "code",
   "execution_count": null,
   "id": "77e9faf6",
   "metadata": {},
   "outputs": [],
   "source": [
    "from QQuantLib.AE.modified_real_quantum_ae import mRQAE\n",
    "\n",
    "mrqae_dict = {\n",
    "    'qpu': linalg_qpu,    \n",
    "    'epsilon': epsilon,\n",
    "    'ratio': q,\n",
    "    'gamma': gamma,\n",
    "    'mcz_qlm': False\n",
    "}\n",
    "\n",
    "mrqae_ = mRQAE(oracle, target = target, index = [0,1,2], **mrqae_dict)\n",
    "_ = mrqae_.run()\n",
    "\n",
    "\n",
    "print('a_estimated: {}. RQAE: {}. mRQAE: {}'.format(a, rqae_.ae, mrqae_.ae))\n",
    "print('Errors: RQAE: {}. mRQAE: {}'.format(\n",
    "    np.abs(a - rqae_.ae), np.abs(mrqae_.ae-a))\n",
    ")\n",
    "print(\"Oracle calls: RQAE: {}. mRQAE: {}\".format(rqae_.oracle_calls, mrqae_.oracle_calls))"
   ]
  },
  {
   "cell_type": "markdown",
   "id": "a55fc505",
   "metadata": {},
   "source": [
    "We can compare the bounds for both methods by calling the method *compute_info* that provides info about the bounds onf the algorithm"
   ]
  },
  {
   "cell_type": "code",
   "execution_count": null,
   "id": "a520b4ab",
   "metadata": {},
   "outputs": [],
   "source": [
    "eps_list= np.logspace(-1, -11)\n",
    "rqae_grover = [rqae_.compute_info(ratio=q, epsilon=x, gamma=gamma)[\"n_oracle\"] for x in eps_list]\n",
    "mrqae_grover = [mrqae_.compute_info(ratio=q, epsilon=x, gamma=gamma)[\"n_oracle\"] for x in eps_list]\n",
    "\n",
    "plt.plot(eps_list, rqae_grover)\n",
    "plt.plot(eps_list, mrqae_grover)\n",
    "plt.xscale(\"log\")\n",
    "plt.yscale(\"log\")\n",
    "xmin, xmax, ymin, ymax = plt.axis()\n",
    "plt.xlim(xmax, xmin)\n",
    "plt.legend([\"RQAE\", \"mRQAE\"])\n",
    "plt.xlabel(r\"$\\epsilon$\")\n",
    "plt.ylabel(r\"Oracle Calls\")"
   ]
  },
  {
   "cell_type": "markdown",
   "id": "5d8bccf8",
   "metadata": {},
   "source": [
    "__Experimentally the *mRQAE* has a better performance than the original *RQAE* (lower oracle call for same desired epsilons)__\n",
    "\n",
    "The *display_information* summarizes the asymptotic bounds for a **mRQAE** given an input: $\\epsilon$, $\\gamma$ and $q$"
   ]
  },
  {
   "cell_type": "code",
   "execution_count": null,
   "id": "bf515995",
   "metadata": {},
   "outputs": [],
   "source": [
    "mrqae_.display_information(ratio=q, epsilon=epsilon, gamma=gamma)"
   ]
  },
  {
   "cell_type": "markdown",
   "id": "8fddb6e4",
   "metadata": {},
   "source": [
    "## 4. RQAE with shots\n",
    "\n",
    "In the original **RQAE** the number of shots for each iteration is fixed internally in the algorithm. In the class **sRQAE** from the module **QQuantLib.AE.shots_real_quantum_ae** a **RQAE** version where the user can provide the number of shots as inputs (like in the **IQAE** and **mIQAE** algorithms) was developed. \n",
    "\n",
    "By providing an input number of shots to the **sRQAE** algortihm better performances can be achieved experimentally (lower calls to the oracle for the same desired $\\epsilon$, $\\gamma$ and $q$) compared with **RQAE** and even with **mRQAE**"
   ]
  },
  {
   "cell_type": "code",
   "execution_count": null,
   "id": "75310c49",
   "metadata": {},
   "outputs": [],
   "source": [
    "from QQuantLib.AE.shots_real_quantum_ae import sRQAE"
   ]
  },
  {
   "cell_type": "code",
   "execution_count": null,
   "id": "a6b1e88d",
   "metadata": {},
   "outputs": [],
   "source": [
    "srqae_dict = {\n",
    "    'qpu': linalg_qpu,    \n",
    "    'epsilon': epsilon,\n",
    "    'ratio': q,\n",
    "    'gamma': gamma,\n",
    "    'shots': 100, # Now we provide shots!!\n",
    "    'mcz_qlm': False\n",
    "}\n",
    "\n",
    "srqae_ = sRQAE(oracle, target = target, index = [0,1,2], **srqae_dict)\n",
    "_ = srqae_.run()"
   ]
  },
  {
   "cell_type": "code",
   "execution_count": null,
   "id": "9e0207bd",
   "metadata": {},
   "outputs": [],
   "source": [
    "print('a_estimated: {}. RQAE: {}. mRQAE: {}. sRQAE'.format(a, rqae_.ae, mrqae_.ae, srqae_.ae))\n",
    "print('Errors: RQAE: {}. mRQAE: {}. sRQAE: {}'.format(\n",
    "    np.abs(a - rqae_.ae), np.abs(mrqae_.ae-a), np.abs(srqae_.ae-a)\n",
    ")\n",
    ")\n",
    "print(\"Oracle calls: RQAE: {}. mRQAE: {}. sRQAE: {}\".format(\n",
    "    rqae_.oracle_calls, mrqae_.oracle_calls, srqae_.oracle_calls\n",
    "))"
   ]
  },
  {
   "cell_type": "markdown",
   "id": "1bad99af",
   "metadata": {},
   "source": [
    "**BE AWARE**\n",
    "\n",
    "In **RQAE** with shots the asymptotic query behaviour depends on number of shots so we do not provide any information about them. So *display_information* do not provide any value"
   ]
  },
  {
   "cell_type": "code",
   "execution_count": null,
   "id": "da5b9749",
   "metadata": {},
   "outputs": [],
   "source": [
    "srqae_.display_information(epsilon=epsilon, gamma=gamma, ratio = q)"
   ]
  },
  {
   "cell_type": "markdown",
   "id": "1595d921",
   "metadata": {},
   "source": [
    "## 5. Extended RQAE.\n",
    "\n",
    "Last modification provided for **RQAE** algorithm is the *extended RQAE* algorithm implemented in the class **eRQAE** of the module **QQuantLib.AE.extended_real_quantum_ae**.  In this case the user can guide the evolution of the number of Grover applications ($k$) and the failure probabiliy ($\\gamma_i$) at each step of the algorithm. For guiding this evolution **eRQAE** uses 2 list (schedules) of the same lenght: one for guiding the evolution of $k$ and another for the evolution of $\\gamma_i$.\n",
    "\n",
    "For helping the user to design these schedules four different functions in the **QQuantLib.AE.extended_real_quantum_ae** module were developed:\n",
    "1. *schedule_exponential_constant*\n",
    "2. *schedule_exponential_exponential*\n",
    "3. *schedule_linear_linear*\n",
    "4. *schedule_linear_constant*\n",
    "\n",
    "The **eRQAE** class uses these functions for creating the used schedules. The user can select the different functions and their parameters by providing to the **eRQAE** class the keyword argument *erqae_schedule*. This *erqae_schedule* is a Python dictionary with the following format:\n",
    "\n",
    "**{\"type\": type, \"ratio_slope_k\": ratio_slope_k, \"ratio_slope_gamma\": ratio_slope_gamma}**\n",
    "\n",
    "Where:\n",
    "\n",
    "* type: a string that indicates the scheduling function to use:\n",
    "    * \"exp_const\" for *schedule_exponential_constant* function.\n",
    "    * \"exp_exp\" for *schedule_exponential_exponential* function.\n",
    "    * \"linear_linear\" for *schedule_linear_linear* function.\n",
    "    * \"linear_const\" for *schedule_linear_constant* function.\n",
    "* ratio_slope_k: ratio or slope for $k$ schedule\n",
    "* ratio_slope_gamma: ratio or slope for $\\gamma$ schedule.\n",
    "\n",
    "\n",
    "Under the hood the **eRQAE** class call to a select function called **select_schedule** (in the **QQuantLib.AE.extended_real_quantum_ae** module) that acts as a selector function of the different scheduling functions. The inputs of the **select_schedule** are:\n",
    "* *erqae_schedule*: python dictionary with the same format that the keyword argument: **erqae_schedule**\n",
    "* epsilon: the desired $\\epsilon$ to achieve.\n",
    "* gamma: the desired $\\gamma$ to achieve.\n",
    "\n",
    "In the following subsections we explain the different scheduling functions and how to configure them."
   ]
  },
  {
   "cell_type": "code",
   "execution_count": null,
   "id": "26590461",
   "metadata": {},
   "outputs": [],
   "source": [
    "from QQuantLib.AE.extended_real_quantum_ae import select_schedule, eRQAE"
   ]
  },
  {
   "cell_type": "markdown",
   "id": "0dc9a8be",
   "metadata": {},
   "source": [
    "### 5.1 schedule_exponential_constant\n",
    "\n",
    "In this case we want a exponential evolution (schedule) for the $k$ and a constant one for the failure probability $\\gamma_i$. In this case the input *erqae_schedule* dictionary will have the following format:\n",
    "* type: exp_const\n",
    "* ratio_slope_k: desired ratio\n",
    "* ratio_slope_gamma: None.\n",
    "\n",
    "We can use the **select_schedule** for getting the obtained schedules:\n"
   ]
  },
  {
   "cell_type": "code",
   "execution_count": null,
   "id": "750cc945",
   "metadata": {},
   "outputs": [],
   "source": [
    "# the erqae_schedule dictionary\n",
    "exp_k_const_gamma = {\n",
    "    \"type\" : \"exp_const\",\n",
    "    \"ratio_slope_k\": 3.5,\n",
    "    \"ratio_slope_gamma\": None\n",
    "}\n",
    "\n",
    "k_exp, gamma_cte = select_schedule(exp_k_const_gamma, epsilon=epsilon, gamma=gamma)\n",
    "fig, ax1 = plt.subplots()\n",
    "ax2 = ax1.twinx()\n",
    "\n",
    "ax1.plot(k_exp, 'bo-')\n",
    "ax2.plot(gamma_cte, 'ro-')\n",
    "ax1.set_ylabel('k schedule', color='b')\n",
    "ax2.set_ylabel(r'$\\gamma$ scshdule', color='r')"
   ]
  },
  {
   "cell_type": "code",
   "execution_count": null,
   "id": "fd642314",
   "metadata": {},
   "outputs": [],
   "source": [
    "# we use the before erqae_schedule dictioanry\n",
    "erqae_exp_k_const_gamma_dict = {\n",
    "    'qpu': linalg_qpu,    \n",
    "    'epsilon': epsilon,\n",
    "    'ratio': q,\n",
    "    'gamma': gamma,\n",
    "    'erqae_schedule': exp_k_const_gamma,\n",
    "    'mcz_qlm': False\n",
    "}\n",
    "\n",
    "erqae_k_exp_gamma_cte = eRQAE(oracle, target = target, index = [0,1,2], **erqae_exp_k_const_gamma_dict)\n",
    "_ = erqae_k_exp_gamma_cte.run()\n",
    "\n",
    "print(\"### Schedule: exponential in k constant in gamma ####\")\n",
    "print('a_estimated: {}. RQAE: {}. eRQAE: {}'.format(a, rqae_.ae, erqae_k_exp_gamma_cte.ae))\n",
    "print('Errors: RQAE: {}. eRQAE: {}.'.format(\n",
    "    np.abs(a - rqae_.ae), np.abs(erqae_k_exp_gamma_cte.ae-a),\n",
    ")\n",
    ")\n",
    "print(\"Oracle calls: RQAE: {}. eRQAE: {}.\".format(\n",
    "    rqae_.oracle_calls, erqae_k_exp_gamma_cte.oracle_calls,\n",
    "))"
   ]
  },
  {
   "cell_type": "markdown",
   "id": "1cef416e",
   "metadata": {},
   "source": [
    "### 5.2 schedule_exponential_exponential \n",
    "\n",
    "In this case we want a exponential schedule for the $k$ and for the failure probability $\\gamma_i$. In this case the input *erqae_schedule* dictionary will have the following format:\n",
    "* type: exp_exp\n",
    "* ratio_slope_k: desired ratio for k\n",
    "* ratio_slope_gamma: desired ratio for gamma\n",
    "\n",
    "**BE AWARE**\n",
    "The ratio for $\\gamma$ can be positive or negative:\n",
    "* When ratio_slope_gamma > 0: lower probability failures at the initial steps. The probability failure is increasing with the different steps\n",
    "* When ratio_slope_gamma < 0: higher probability failures at the initial steps. The probability failure is decreasing with the different steps\n",
    "\n",
    "We can use the **select_schedule** for getting the obtained schedules:\n"
   ]
  },
  {
   "cell_type": "code",
   "execution_count": null,
   "id": "009d04b3",
   "metadata": {},
   "outputs": [],
   "source": [
    "# the erqae_schedule dictionary\n",
    "exp_k_exp_gamma = {\n",
    "    \"type\" : \"exp_exp\",\n",
    "    \"ratio_slope_k\": 2.5,\n",
    "    \"ratio_slope_gamma\": 3.5\n",
    "}\n",
    "\n",
    "k_exp, gamma_exp = select_schedule(exp_k_exp_gamma, epsilon=epsilon, gamma=gamma)\n",
    "fig, ax1 = plt.subplots()\n",
    "ax2 = ax1.twinx()\n",
    "\n",
    "ax1.plot(k_exp, 'bo-')\n",
    "ax2.plot(gamma_exp, 'ro-')\n",
    "ax1.set_ylabel('K schedule', color='b')\n",
    "ax2.set_ylabel(r'$\\gamma$ scshdule', color='r')"
   ]
  },
  {
   "cell_type": "code",
   "execution_count": null,
   "id": "05e32ab9",
   "metadata": {},
   "outputs": [],
   "source": [
    "# we use the before erqae_schedule dictioanry\n",
    "exp_k_exp_gamma_dict = {\n",
    "    'qpu': linalg_qpu,    \n",
    "    'epsilon': epsilon,\n",
    "    'ratio': q,\n",
    "    'gamma': gamma,\n",
    "    'erqae_schedule': exp_k_exp_gamma,\n",
    "    'shots': 100, # Now we provide shots!!\n",
    "    'mcz_qlm': False\n",
    "}\n",
    "\n",
    "erqae_exp_k_exp_gamma = eRQAE(oracle, target = target, index = [0,1,2], **exp_k_exp_gamma_dict)\n",
    "_ = erqae_exp_k_exp_gamma.run()\n",
    "\n",
    "print(\"### Schedule: exponential in k exponential in gamma ####\")\n",
    "print('a_estimated: {}. RQAE: {}. eRQAE: {}'.format(a, rqae_.ae, erqae_exp_k_exp_gamma.ae))\n",
    "print('Errors: RQAE: {}. eRQAE: {}.'.format(\n",
    "    np.abs(a - rqae_.ae), np.abs(erqae_exp_k_exp_gamma.ae-a),\n",
    ")\n",
    ")\n",
    "print(\"Oracle calls: RQAE: {}. eRQAE: {}.\".format(\n",
    "    rqae_.oracle_calls, erqae_exp_k_exp_gamma.oracle_calls,\n",
    "))"
   ]
  },
  {
   "cell_type": "code",
   "execution_count": null,
   "id": "42767094",
   "metadata": {},
   "outputs": [],
   "source": [
    "#Neagtive ratio fo gamma\n",
    "# the erqae_schedule dictionary\n",
    "exp_k_exp_gamma = {\n",
    "    \"type\" : \"exp_exp\",\n",
    "    \"ratio_slope_k\": 2.5,\n",
    "    \"ratio_slope_gamma\": -3.5\n",
    "}\n",
    "\n",
    "k_exp, gamma_exp = select_schedule(exp_k_exp_gamma, epsilon=epsilon, gamma=gamma)\n",
    "fig, ax1 = plt.subplots()\n",
    "ax2 = ax1.twinx()\n",
    "\n",
    "ax1.plot(k_exp, 'bo-')\n",
    "ax2.plot(gamma_exp, 'ro-')\n",
    "ax1.set_ylabel('K schedule', color='b')\n",
    "ax2.set_ylabel(r'$\\gamma$ scshdule', color='r')"
   ]
  },
  {
   "cell_type": "code",
   "execution_count": null,
   "id": "2115010c",
   "metadata": {},
   "outputs": [],
   "source": [
    "# we use the before erqae_schedule dictioanry\n",
    "exp_k_exp_gamma_dict = {\n",
    "    'qpu': linalg_qpu,    \n",
    "    'epsilon': epsilon,\n",
    "    'ratio': q,\n",
    "    'gamma': gamma,\n",
    "    'erqae_schedule': exp_k_exp_gamma,\n",
    "    'shots': 100, # Now we provide shots!!\n",
    "    'mcz_qlm': False\n",
    "}\n",
    "\n",
    "erqae_exp_k_exp_gamma = eRQAE(oracle, target = target, index = [0,1,2], **exp_k_exp_gamma_dict)\n",
    "_ = erqae_exp_k_exp_gamma.run()\n",
    "\n",
    "print(\"### Schedule: exponential in k exponential in gamma ####\")\n",
    "print('a_estimated: {}. RQAE: {}. eRQAE: {}'.format(a, rqae_.ae, erqae_exp_k_exp_gamma.ae))\n",
    "print('Errors: RQAE: {}. eRQAE: {}.'.format(\n",
    "    np.abs(a - rqae_.ae), np.abs(erqae_exp_k_exp_gamma.ae-a),\n",
    ")\n",
    ")\n",
    "print(\"Oracle calls: RQAE: {}. eRQAE: {}.\".format(\n",
    "    rqae_.oracle_calls, erqae_exp_k_exp_gamma.oracle_calls,\n",
    "))"
   ]
  },
  {
   "cell_type": "markdown",
   "id": "21a282ad",
   "metadata": {},
   "source": [
    "### 5.3 schedule_linear_linear \n",
    "\n",
    "In this case we want a linear schedule for the $k$ and for the failure probability $\\gamma_i$. In this case the input *erqae_schedule* dictionary will have the following format:\n",
    "* type: linear_linear\n",
    "* ratio_slope_k: desired slope for k\n",
    "* ratio_slope_gamma: desired slope for gamma\n",
    "\n",
    "**BE AWARE**\n",
    "The slope for $\\gamma$ can be positive or negative:\n",
    "* When ratio_slope_gamma > 0: lower probability failures at the initial steps. The probability failure is increasing with the different steps\n",
    "* When ratio_slope_gamma < 0: higher probability failures at the initial steps. The probability failure is decreasing with the different steps\n",
    "\n",
    "We can use the **select_schedule** for getting the obtained schedules:\n"
   ]
  },
  {
   "cell_type": "code",
   "execution_count": null,
   "id": "b10383c4",
   "metadata": {},
   "outputs": [],
   "source": [
    "# the erqae_schedule dictionary\n",
    "linear_k_linear_gamma = {\n",
    "    \"type\" : \"linear_linear\",\n",
    "    \"ratio_slope_k\": 2.5,\n",
    "    \"ratio_slope_gamma\": 4.5\n",
    "}\n",
    "\n",
    "k_linear, gamma_linear = select_schedule(linear_k_linear_gamma, epsilon=epsilon, gamma=gamma)\n",
    "fig, ax1 = plt.subplots()\n",
    "ax2 = ax1.twinx()\n",
    "\n",
    "ax1.plot(k_linear, 'bo-')\n",
    "ax2.plot(gamma_linear, 'ro-')\n",
    "ax1.set_ylabel('K schedule', color='b')\n",
    "ax2.set_ylabel(r'$\\gamma$ scshdule', color='r')"
   ]
  },
  {
   "cell_type": "code",
   "execution_count": null,
   "id": "b439f31d",
   "metadata": {},
   "outputs": [],
   "source": [
    "# we use the before erqae_schedule dictioanry\n",
    "linear_k_linear_gamma_dict = {\n",
    "    'qpu': linalg_qpu,    \n",
    "    'epsilon': epsilon,\n",
    "    'ratio': q,\n",
    "    'gamma': gamma,\n",
    "    'erqae_schedule': linear_k_linear_gamma,\n",
    "    'shots': 100, # Now we provide shots!!\n",
    "    'mcz_qlm': False\n",
    "}\n",
    "\n",
    "erqae_linear_k_linear_gamma = eRQAE(oracle, target = target, index = [0,1,2], **linear_k_linear_gamma_dict)\n",
    "_ = erqae_linear_k_linear_gamma.run()\n",
    "\n",
    "\n",
    "print(\"### Schedule: linear in k linear in gamma ####\")\n",
    "print('a_estimated: {}. RQAE: {}. eRQAE: {}'.format(a, rqae_.ae, erqae_linear_k_linear_gamma.ae))\n",
    "print('Errors: RQAE: {}. eRQAE: {}.'.format(\n",
    "    np.abs(a - rqae_.ae), np.abs(erqae_linear_k_linear_gamma.ae-a),\n",
    ")\n",
    ")\n",
    "print(\"Oracle calls: RQAE: {}. eRQAE: {}.\".format(\n",
    "    rqae_.oracle_calls, erqae_linear_k_linear_gamma.oracle_calls,\n",
    "))"
   ]
  },
  {
   "cell_type": "code",
   "execution_count": null,
   "id": "9383cdb7",
   "metadata": {},
   "outputs": [],
   "source": [
    "#Negative gamma slope\n",
    "# the erqae_schedule dictionary\n",
    "linear_k_linear_gamma = {\n",
    "    \"type\" : \"linear_linear\",\n",
    "    \"ratio_slope_k\": 2.5,\n",
    "    \"ratio_slope_gamma\": -4.5\n",
    "}\n",
    "\n",
    "k_linear, gamma_linear = select_schedule(linear_k_linear_gamma, epsilon=epsilon, gamma=gamma)\n",
    "fig, ax1 = plt.subplots()\n",
    "ax2 = ax1.twinx()\n",
    "\n",
    "ax1.plot(k_linear, 'bo-')\n",
    "ax2.plot(gamma_linear, 'ro-')\n",
    "ax1.set_ylabel('K schedule', color='b')\n",
    "ax2.set_ylabel(r'$\\gamma$ scshdule', color='r')"
   ]
  },
  {
   "cell_type": "code",
   "execution_count": null,
   "id": "ad8780bf",
   "metadata": {
    "scrolled": true
   },
   "outputs": [],
   "source": [
    "# we use the before erqae_schedule dictioanry\n",
    "linear_k_linear_gamma_dict = {\n",
    "    'qpu': linalg_qpu,    \n",
    "    'epsilon': epsilon,\n",
    "    'ratio': q,\n",
    "    'gamma': gamma,\n",
    "    'erqae_schedule': linear_k_linear_gamma,\n",
    "    'shots': 100, # Now we provide shots!!\n",
    "    'mcz_qlm': False\n",
    "}\n",
    "\n",
    "erqae_linear_k_linear_gamma = eRQAE(oracle, target = target, index = [0,1,2], **linear_k_linear_gamma_dict)\n",
    "_ = erqae_linear_k_linear_gamma.run()\n",
    "\n",
    "\n",
    "print(\"### Schedule: linear in k linear in gamma ####\")\n",
    "print('a_estimated: {}. RQAE: {}. eRQAE: {}'.format(a, rqae_.ae, erqae_linear_k_linear_gamma.ae))\n",
    "print('Errors: RQAE: {}. eRQAE: {}.'.format(\n",
    "    np.abs(a - rqae_.ae), np.abs(erqae_linear_k_linear_gamma.ae-a),\n",
    ")\n",
    ")\n",
    "print(\"Oracle calls: RQAE: {}. eRQAE: {}.\".format(\n",
    "    rqae_.oracle_calls, erqae_linear_k_linear_gamma.oracle_calls,\n",
    "))"
   ]
  },
  {
   "cell_type": "markdown",
   "id": "cafaadc1",
   "metadata": {},
   "source": [
    "### 5.4 schedule_linear_constant \n",
    "\n",
    "In this case we want a linear schedule for the $k$ and a constant one for the failure probability $\\gamma_i$. In this case the input *erqae_schedule* dictionary will have the following format:\n",
    "* type: linear_const\n",
    "* ratio_slope_k: desired slope for k\n",
    "* ratio_slope_gamma: None\n",
    "\n",
    "\n",
    "We can use the **select_schedule** for getting the obtained schedules:\n"
   ]
  },
  {
   "cell_type": "code",
   "execution_count": null,
   "id": "26684d33",
   "metadata": {},
   "outputs": [],
   "source": [
    "#Negative gamma slope\n",
    "# the erqae_schedule dictionary\n",
    "linear_k_cte_gamma = {\n",
    "    \"type\" : \"linear_const\",\n",
    "    \"ratio_slope_k\": 2.5,\n",
    "    \"ratio_slope_gamma\": None\n",
    "}\n",
    "\n",
    "k_linear, gamma_cte = select_schedule(linear_k_cte_gamma, epsilon=epsilon, gamma=gamma)\n",
    "fig, ax1 = plt.subplots()\n",
    "ax2 = ax1.twinx()\n",
    "\n",
    "ax1.plot(k_linear, 'bo-')\n",
    "ax2.plot(gamma_cte, 'ro-')\n",
    "ax1.set_ylabel('K schedule', color='b')\n",
    "ax2.set_ylabel(r'$\\gamma$ scshdule', color='r')"
   ]
  },
  {
   "cell_type": "code",
   "execution_count": null,
   "id": "6a42fe85",
   "metadata": {},
   "outputs": [],
   "source": [
    "# we use the before erqae_schedule dictioanry\n",
    "linear_k_cte_gamma_dict = {\n",
    "    'qpu': linalg_qpu,    \n",
    "    'epsilon': epsilon,\n",
    "    'ratio': q,\n",
    "    'gamma': gamma,\n",
    "    'erqae_schedule': linear_k_cte_gamma,\n",
    "    'shots': 100, # Now we provide shots!!\n",
    "    'mcz_qlm': False\n",
    "}\n",
    "\n",
    "erqae_linear_k_cte_gamma = eRQAE(oracle, target = target, index = [0,1,2], **linear_k_cte_gamma_dict)\n",
    "_ = erqae_linear_k_cte_gamma.run()\n",
    "\n",
    "\n",
    "print(\"### Schedule: linear in k constant in gamma ####\")\n",
    "print('a_estimated: {}. RQAE: {}. eRQAE: {}'.format(a, rqae_.ae, erqae_linear_k_cte_gamma.ae))\n",
    "print('Errors: RQAE: {}. eRQAE: {}.'.format(\n",
    "    np.abs(a - rqae_.ae), np.abs(erqae_linear_k_cte_gamma.ae-a),\n",
    ")\n",
    ")\n",
    "print(\"Oracle calls: RQAE: {}. eRQAE: {}.\".format(\n",
    "    rqae_.oracle_calls, erqae_linear_k_cte_gamma.oracle_calls,\n",
    "))"
   ]
  },
  {
   "cell_type": "markdown",
   "id": "3729d4b0",
   "metadata": {},
   "source": [
    "**BE AWARE**\n",
    "\n",
    "In **eRQAE** the asymptotic query behaviour depends on the selected schedule so we do not provide any information about them. So *display_information* do not provide any value"
   ]
  },
  {
   "cell_type": "code",
   "execution_count": null,
   "id": "0583aeb6",
   "metadata": {},
   "outputs": [],
   "source": [
    "erqae_linear_k_cte_gamma.display_information(epsilon=epsilon, gamma=gamma, ratio = q)"
   ]
  }
 ],
 "metadata": {
  "kernelspec": {
   "display_name": "Python 3 (ipykernel)",
   "language": "python",
   "name": "python3"
  },
  "language_info": {
   "codemirror_mode": {
    "name": "ipython",
    "version": 3
   },
   "file_extension": ".py",
   "mimetype": "text/x-python",
   "name": "python",
   "nbconvert_exporter": "python",
   "pygments_lexer": "ipython3",
   "version": "3.9.9"
  }
 },
 "nbformat": 4,
 "nbformat_minor": 5
}
