{
 "cells": [
  {
   "cell_type": "markdown",
   "id": "9fb07d3a",
   "metadata": {},
   "source": [
    "# Iterative Quantum Amplitude Estimation (IQAE) module\n",
    "\n",
    "The present notebook reviews the **Iterative Quantum Amplitude Estimation (IQAE)** algorithm.  \n",
    "\n",
    "**BE AWARE**: This algorithm is different from the **Iterative Quantum Phase Estimation (IQPE)**. The latter is an algorithm for pure *phase estimation* of a unitary operator, while the former is an algorithm for directly solving the **Amplitude Estimation** problem based on the *amplification* capabilities of a Grover operator.  \n",
    "\n",
    "The **IQAE** algorithm has been implemented in the module *iterative_quantum_ae* of the package **AE** in the library `QQuantLib` (**QQuantLib/AE/iterative_quantum_ae**). This algorithm is encapsulated in a Python class called `IQAE`.  \n",
    "\n",
    "The present notebook and modules are based on the following references:  \n",
    "\n",
    "- **Grinko, D., Gacon, J., Zoufal, C., & Woerner, S.**  \n",
    "  Iterative Quantum Amplitude Estimation. npj Quantum Information **7**, (2021).  \n",
    "  [https://www.nature.com/articles/s41534-021-00379-1](https://www.nature.com/articles/s41534-021-00379-1)  \n",
    "\n",
    "- NEASQC deliverable:  \n",
    "  *D5.1: Review of state-of-the-art for Pricing and Computation of VaR*  \n",
    "  [https://www.neasqc.eu/wp-content/uploads/2021/06/NEASQC_D5.1_Review-of-state-of-the-art-for-Pricing-and-Computation-of-VaR_R2.0_Final.pdf](https://www.neasqc.eu/wp-content/uploads/2021/06/NEASQC_D5.1_Review-of-state-of-the-art-for-Pricing-and-Computation-of-VaR_R2.0_Final.pdf)"
   ]
  },
  {
   "cell_type": "code",
   "execution_count": null,
   "id": "404b8ec1",
   "metadata": {},
   "outputs": [],
   "source": [
    "import sys\n",
    "sys.path.append(\"../../\")"
   ]
  },
  {
   "cell_type": "code",
   "execution_count": null,
   "id": "490d094b",
   "metadata": {},
   "outputs": [],
   "source": [
    "import numpy as np\n",
    "import pandas as pd\n",
    "import matplotlib.pyplot as plt\n",
    "import qat.lang.AQASM as qlm"
   ]
  },
  {
   "cell_type": "code",
   "execution_count": null,
   "id": "21276b3d",
   "metadata": {},
   "outputs": [],
   "source": [
    "%matplotlib inline"
   ]
  },
  {
   "cell_type": "code",
   "execution_count": null,
   "id": "34403ec1",
   "metadata": {},
   "outputs": [],
   "source": [
    "#This cell loads the QLM solver. See notebook: 00_AboutTheNotebooksAndQPUs.ipynb\n",
    "from QQuantLib.qpu.get_qpu import get_qpu\n",
    "# myqlm qpus: python, c\n",
    "# QLM qpus accessed using Qaptiva Access library: qlmass_linalg, qlmass_mps\n",
    "# QLM qpus: Only in local Quantum Learning Machine: linalg, mps\n",
    "my_qpus = [\"python\", \"c\", \"qlmass_linalg\", \"qlmass_mps\", \"linalg\", \"mps\"]\n",
    "linalg_qpu = get_qpu(my_qpus[1])"
   ]
  },
  {
   "cell_type": "code",
   "execution_count": null,
   "id": "3453cf5d",
   "metadata": {},
   "outputs": [],
   "source": [
    "#See 01_DataLoading_Module_Use for the use of this function\n",
    "from QQuantLib.utils.data_extracting import get_results\n",
    "from QQuantLib.utils.utils import bitfield_to_int, measure_state_probability"
   ]
  },
  {
   "cell_type": "markdown",
   "id": "55146c4c",
   "metadata": {},
   "source": [
    "## 1. Oracle generation"
   ]
  },
  {
   "cell_type": "markdown",
   "id": "8a27ad6c",
   "metadata": {},
   "source": [
    "Before performing any amplitude estimation, we first need to load data into the quantum circuit. As this step is auxiliary and intended to demonstrate how the algorithm works, we will simply load a discrete probability distribution. \n",
    "\n",
    "In this example, we will use a quantum circuit with $ n = 3 $ qubits, which corresponds to a total of $ N = 2^n = 8 $ computational basis states. The discrete probability distribution we aim to load is defined as:\n",
    "\n",
    "$$\n",
    "p_d = \\frac{(0, 1, 2, 3, 4, 5, 6, 7)}{0 + 1 + 2 + 3 + 4 + 5 + 6 + 7}.\n",
    "$$\n",
    "\n",
    "This distribution assigns probabilities proportional to the integers $ 0 $ through $ 7 $, normalized by their sum to ensure that the total probability equals 1."
   ]
  },
  {
   "cell_type": "code",
   "execution_count": null,
   "id": "d0b21bcf",
   "metadata": {},
   "outputs": [],
   "source": [
    "n = 3\n",
    "x = np.arange(2**n)\n",
    "probability = x/np.sum(x)"
   ]
  },
  {
   "cell_type": "markdown",
   "id": "175f110e",
   "metadata": {},
   "source": [
    "Note that this probability distribution is properly normalised. For loading this probability into the quantum circuit we will use the function `load_probability` from **QQuantLib/DL/data_loading** module. The state that we are going to get is:\n",
    "    $$|\\Psi\\rangle = \\scriptstyle \\dfrac{1}{\\sqrt{0+1+2+3+4+5+6+7+8}}\\left[\\sqrt{0}|0\\rangle+\\sqrt{1}|1\\rangle+\\sqrt{2}|2\\rangle+\\sqrt{3}|3\\rangle+\\sqrt{4}|4\\rangle+\\sqrt{5}|5\\rangle+\\sqrt{6}|6\\rangle+\\sqrt{7}|7\\rangle\\right].$$"
   ]
  },
  {
   "cell_type": "code",
   "execution_count": null,
   "id": "b05056d1",
   "metadata": {},
   "outputs": [],
   "source": [
    "from QQuantLib.DL.data_loading import load_probability"
   ]
  },
  {
   "cell_type": "code",
   "execution_count": null,
   "id": "aab2e90d",
   "metadata": {},
   "outputs": [],
   "source": [
    "oracle = load_probability(probability)"
   ]
  },
  {
   "cell_type": "markdown",
   "id": "08b1fdf8",
   "metadata": {},
   "source": [
    "For more information about loading data into the quantum circuit see the notebook *01_DataLoading_Module_Use*."
   ]
  },
  {
   "cell_type": "markdown",
   "id": "54dfee71",
   "metadata": {},
   "source": [
    "## 2. IQAE Algorithm\n",
    "\n",
    "The problem of amplitude estimation can be stated as follows. Given an oracle operator $\\mathcal{A}$:\n",
    "$$\n",
    "\\mathcal{A}|0\\rangle = |\\Psi\\rangle = \\sqrt{a}|\\Psi_0\\rangle + \\sqrt{1-a}|\\Psi_1\\rangle,\n",
    "$$\n",
    "where $|\\Psi_0\\rangle$ and $|\\Psi_1\\rangle$ are orthogonal states, the goal is to estimate $\\sqrt{a}$. We can define an associated angle $\\theta$ such that $\\sin^2{\\theta} = a$, rewriting the problem as:\n",
    "$$\n",
    "\\mathcal{A}|0\\rangle = |\\Psi\\rangle = \\sin(\\theta)|\\Psi_0\\rangle + \\cos(\\theta)|\\Psi_1\\rangle. \\tag{1}\n",
    "$$\n",
    "\n",
    "The foundation of any amplitude estimation algorithm is the Grover-like operator $\\mathcal{Q}$ derived from the oracle operator $\\mathcal{A}$:\n",
    "$$\n",
    "\\mathcal{Q}(\\mathcal{A}) = \\mathcal{A} \\left(\\hat{I} - 2|0\\rangle\\langle 0|\\right) \\mathcal{A}^\\dagger \\left(\\hat{I} - 2|\\Psi_0\\rangle\\langle \\Psi_0|\\right).\n",
    "$$\n",
    "This Grover-like operator has the following effect on the state $|\\Psi\\rangle$:\n",
    "$$\n",
    "\\mathcal{Q}^{m_k}|\\Psi\\rangle = \\mathcal{Q}^{m_k} \\mathcal{A} |0\\rangle = \\sin\\left((2m_k+1)\\theta\\right)|\\Psi_0\\rangle + \\cos\\left((2m_k+1)\\theta\\right)|\\Psi_1\\rangle,\n",
    "$$\n",
    "where $m_k$ is an integer parameter.\n",
    "\n",
    "Using these ingredients, the **IQAE** algorithm, given an input error $\\epsilon$ and a confidence interval $\\alpha$, allows us to estimate $(\\theta_l, \\theta_u)$ such that the angle $\\theta$ of the **Amplitude Estimation (AE)** problem satisfies:\n",
    "$$\n",
    "P\\big[\\theta \\in [\\theta_l, \\theta_u]\\big] > 1 - \\alpha\n",
    "$$\n",
    "and\n",
    "$$\n",
    "\\frac{\\theta_u - \\theta_l}{2} \\leq \\epsilon.\n",
    "$$\n",
    "\n",
    "This result can be directly extended to $a = \\sin^2{\\theta}$, so the **IQAE** algorithm provides $(a_l, a_u)$ that satisfies:\n",
    "$$\n",
    "P\\big[a \\in [a_l, a_u]\\big] > 1 - \\alpha\n",
    "$$\n",
    "and\n",
    "$$\n",
    "\\frac{a_u - a_l}{2} \\leq \\epsilon.\n",
    "$$"
   ]
  },
  {
   "cell_type": "markdown",
   "id": "029e0cf4",
   "metadata": {},
   "source": [
    "### 2.1 The `IQAE` Class\n",
    "\n",
    "We have implemented a Python class called `IQAE` in the **QQuantLib/AE/iterative_quantum_ae** module, which allows us to use the **IQAE** algorithm.\n",
    "\n",
    "When creating the `IQAE` class, we followed the conventions used in the `MLAE` class from the **QQuantLib/AE/maximum_likelihood_ae** module. The following are the mandatory inputs for initializing the `IQAE` class:\n",
    "\n",
    "1. `oracle`: A QLM `AbstractGate` or `QRoutine` that implements the Oracle for constructing the Grover operator.\n",
    "2. `target`: The marked state in binary representation, provided as a Python list.\n",
    "3. `index`: A list of qubits affected by the Grover operator.\n",
    "\n",
    "Additionally, there are optional inputs for configuring the algorithm, which can be provided as a Python dictionary:\n",
    "- `qpu`: The QLM solver to be used (default: PyLinalg).\n",
    "- `epsilon` ($\\epsilon$): The desired precision. Ensures that the width of the interval is at most $2\\epsilon$ (default: 0.01).\n",
    "- `alpha` ($\\alpha$): The confidence level. Ensures that the probability of $a$ not lying within the given interval is at most $\\alpha$ (default: 0.05).\n",
    "- `shots`: The number of shots for each iteration of the algorithm (default: 100).\n",
    "- `mcz_qlm`: A flag to use the QLM multi-controlled Z gate (`True`, default) or a multiplexor implementation (`False`).\n",
    "\n",
    "---\n",
    "\n",
    "#### Example\n",
    "\n",
    "To demonstrate how the `IQAE` class and the algorithm work, consider the following amplitude estimation problem:\n",
    "\n",
    "$$\n",
    "|\\Psi\\rangle = \\mathcal{A}|0\\rangle = \\dfrac{1}{\\sqrt{0+1+2+3+4+5+6+7+8}} \\left[\\sqrt{0}|0\\rangle + \\sqrt{1}|1\\rangle + \\sqrt{2}|2\\rangle + \\sqrt{3}|3\\rangle + \\sqrt{4}|4\\rangle + \\sqrt{5}|5\\rangle + \\sqrt{6}|6\\rangle + \\sqrt{7}|7\\rangle \\right]. \\tag{2}\n",
    "$$\n",
    "\n",
    "By comparing Equation (2) with Equation (1):\n",
    "\n",
    "$$\n",
    "\\sqrt{a}|\\Psi_0\\rangle = \\sin(\\theta)|\\Psi_0\\rangle = \\dfrac{\\sqrt{1}}{\\sqrt{0+1+2+3+4+5+6+7+8}}|1\\rangle,\n",
    "$$\n",
    "\n",
    "and\n",
    "\n",
    "$$\n",
    "\\sqrt{1-a}|\\Psi_1\\rangle = \\cos(\\theta)|\\Psi_1\\rangle = \\dfrac{1}{\\sqrt{0+1+2+3+4+5+6+7+8}} \\left[\\sqrt{0}|0\\rangle + \\sqrt{2}|2\\rangle + \\sqrt{3}|3\\rangle + \\sqrt{4}|4\\rangle + \\sqrt{5}|5\\rangle + \\sqrt{6}|6\\rangle + \\sqrt{7}|7\\rangle \\right].\n",
    "$$\n",
    "\n",
    "In this case, the target state is $|1\\rangle$, whose binary representation is $001$. This must be passed to the `target` variable as a list (`[0, 0, 1]`). Additionally, we need to provide the list of qubits where the operation is being performed. In this example, it is $[0, 1, 2]$, corresponding to the entire register.\n",
    "\n",
    "This setup allows us to estimate the amplitude $\\sqrt{a}$ using the **IQAE** algorithm."
   ]
  },
  {
   "cell_type": "code",
   "execution_count": null,
   "id": "7d4db8e0",
   "metadata": {},
   "outputs": [],
   "source": [
    "#import the class\n",
    "from QQuantLib.AE.iterative_quantum_ae import IQAE"
   ]
  },
  {
   "cell_type": "code",
   "execution_count": null,
   "id": "b69dc476",
   "metadata": {},
   "outputs": [],
   "source": [
    "target = [0,0,1]\n",
    "index = [0,1,2]\n",
    "a = probability[bitfield_to_int(target)]\n",
    "\n",
    "print('Real Value of a: ', a)\n",
    "\n",
    "epsilon = 0.001\n",
    "shots = 100\n",
    "alpha = 0.05\n"
   ]
  },
  {
   "cell_type": "code",
   "execution_count": null,
   "id": "64ac7c41",
   "metadata": {},
   "outputs": [],
   "source": [
    "iqae_dict = {\n",
    "    'epsilon': epsilon,\n",
    "    'shots': shots,\n",
    "    'alpha': alpha,\n",
    "    'qpu': linalg_qpu,\n",
    "    'mcz_qlm': True    \n",
    "}\n",
    "\n",
    "iqae = IQAE(oracle, target = target, index = [0,1,2], **iqae_dict)"
   ]
  },
  {
   "cell_type": "markdown",
   "id": "22f6678c",
   "metadata": {},
   "source": [
    "When the class is created the based oracle Grover operator is created too and can be acces using the `_grover_oracle`  property of the class"
   ]
  },
  {
   "cell_type": "code",
   "execution_count": null,
   "id": "bb18b3a0",
   "metadata": {},
   "outputs": [],
   "source": [
    "c=iqae._grover_oracle\n",
    "%qatdisplay c --svg --depth 2"
   ]
  },
  {
   "cell_type": "markdown",
   "id": "2a356220",
   "metadata": {},
   "source": [
    "### 2.2 IQAE Algorithm Scheme\n",
    "\n",
    "As explained, the inputs for the **IQAE** algorithm are:\n",
    "- Error in the estimation of the angle $\\theta$: $\\epsilon$.\n",
    "- Confidence interval for $\\theta$: $\\alpha$.\n",
    "\n",
    "The main steps of the **IQAE** algorithm, in a simplified form, are as follows:\n",
    "\n",
    "1. **Initialization**: The algorithm initializes the limits for the angle to be estimated, $\\theta$, to $[\\theta_l, \\theta_u] = [0, \\frac{\\pi}{2}]$.\n",
    "\n",
    "2. **Calculation of Maximum Iterations**: The algorithm calculates the maximum number of iterations $T$ required to satisfy the error estimation $\\epsilon$:\n",
    "   $$\n",
    "   T(\\epsilon) \\in \\mathbb{N} \\; / \\; T(\\epsilon) \\geq \\log_2\\left(\\frac{\\pi}{8\\epsilon}\\right).\n",
    "   $$\n",
    "   In the context of the **IQAE** algorithm, an iteration corresponds to the selection of a different integer $k$.\n",
    "\n",
    "3. **Selection of $k$**: This is the critical routine of the algorithm. The routine attempts to find the largest $k$ (up to a fixed limit) such that $(4k+2)\\theta_l$ and $(4k+2)\\theta_u$ are entirely contained within either the $[0, \\pi]$ or $[\\pi, 2\\pi]$ semi-plane. If this condition is met, the selection routine returns the $k$ and the corresponding semi-plane.\n",
    "\n",
    "4. **Circuit Creation for Selected $k$**: For the selected $k$, the **IQAE** algorithm creates the corresponding quantum circuit to perform:\n",
    "   $$\n",
    "   \\mathcal{G}^{m}|\\Psi\\rangle = |\\Psi\\rangle = \\sin\\left((2m_k+1)\\theta\\right)|\\Psi_0\\rangle + \\cos\\left((2m_k+1)\\theta\\right)|\\Psi_1\\rangle.\n",
    "   $$\n",
    "\n",
    "5. **Probability Estimation**: Using $N$ shots, compute the probability $a_k$ of obtaining $|\\Psi_0\\rangle$, which is given by:\n",
    "   $$\n",
    "   P(|\\Psi_0\\rangle, k) = \\sin^2((2k+1)\\theta) = \\frac{1 - \\cos((4k+2)\\theta)}{2} = a_k.\n",
    "   $$\n",
    "\n",
    "6. **Error Calculation**: Using the number of measurements $N$, $T$, and $\\alpha$, the algorithm calculates $\\epsilon_{a_k}$ using:\n",
    "   $$\n",
    "   \\epsilon_{a_k} = \\sqrt{\\frac{1}{2N} \\log\\left(\\frac{2T}{\\alpha}\\right)}.\n",
    "   $$\n",
    "\n",
    "7. **Computation of Limits for $a_k$**: Using $\\epsilon_{a_k}$, the algorithm computes the limits for $a_k$: $a_k^{\\text{min}}$ and $a_k^{\\text{max}}$.\n",
    "\n",
    "8. **Computation of $\\theta_k^{\\text{min}}$ and $\\theta_k^{\\text{max}}$**: The algorithm computes $\\theta_k^{\\text{min}}$ and $\\theta_k^{\\text{max}}$ from $a_k^{\\text{min}}$ and $a_k^{\\text{max}}$, using:\n",
    "   $$\n",
    "   a_k = \\frac{1 - \\cos((4k+2)\\theta)}{2},\n",
    "   $$\n",
    "   and the fact that $a_k^{\\text{min}}$ and $a_k^{\\text{max}}$ lie in one of the semi-planes: $[0, \\pi]$ or $[\\pi, 2\\pi]$ (as determined by the selection routine in step 3).\n",
    "\n",
    "9. **Updating $\\theta_l$ and $\\theta_u$**: The algorithm updates $\\theta_l$ and $\\theta_u$ using $\\theta_k^{\\text{min}}$ and $\\theta_k^{\\text{max}}$, respectively, and the fact that the rotation due to $k$ applications of the Grover operator is $(4k+2)\\theta$.\n",
    "\n",
    "At the end of each iteration, $\\theta_u - \\theta_l$ becomes smaller than at the beginning. The algorithm stops when $\\theta_u - \\theta_l \\leq 2\\epsilon$.\n",
    "\n",
    "---\n",
    "\n",
    "**NOTE**:\n",
    "1. To ensure that $\\theta_u - \\theta_l \\leq 2\\epsilon$, the number of iterations should not exceed $T$, where:\n",
    "   $$\n",
    "   T(\\epsilon) \\geq \\log_2\\left(\\frac{\\pi}{8\\epsilon}\\right).\n",
    "   $$\n",
    "\n",
    "2. To ensure that $P\\big[\\theta \\in [\\theta_l, \\theta_u]\\big] > 1 - \\alpha$, it is mandatory that the error of each iteration satisfies:\n",
    "   $$\n",
    "   \\epsilon_{a_k} = \\sqrt{\\frac{1}{2N} \\log\\left(\\frac{2T}{\\alpha}\\right)}.\n",
    "   $$"
   ]
  },
  {
   "cell_type": "markdown",
   "id": "bf9801d3",
   "metadata": {},
   "source": [
    "### 2.3 Example of IQAE Workflow\n",
    "\n",
    "Section 2.3 provides a simple illustration of the **IQAE** algorithm scheme. In this section, we present an example to provide intuition about how the **IQAE** algorithm operates. We will divide the algorithm into three main steps:\n",
    "\n",
    "- **Initialization**.\n",
    "- **First Iteration with $k = 0$**.\n",
    "- **Subsequent Iterations with $k \\geq 1$**."
   ]
  },
  {
   "cell_type": "markdown",
   "id": "ba870805",
   "metadata": {},
   "source": [
    "#### 2.3.1 Initialization\n",
    "\n",
    "We need to do the initialization of the algorithm (setting the initial $\\theta_l$, $\\theta_u$) and getting the maximum number of iterations from $\\epsilon$ ($T(\\epsilon)$)"
   ]
  },
  {
   "cell_type": "code",
   "execution_count": null,
   "id": "87971438",
   "metadata": {},
   "outputs": [],
   "source": [
    "#Initialization of IQAE\n",
    "\n",
    "[theta_l,theta_u] = [0.0,np.pi/2]\n",
    "k=0\n",
    "#True for semiplane [0,pi]\n",
    "flag = True\n",
    "#Number of shots\n",
    "shots = 100\n",
    "#Number of iterations\n",
    "T = int(np.ceil(np.log2(np.pi/(8*iqae.epsilon)))+1)\n",
    "\n",
    "print('Max number of IQAE iterations: ',T)\n"
   ]
  },
  {
   "cell_type": "markdown",
   "id": "4e8364e3",
   "metadata": {},
   "source": [
    "#### 2.3.2 First iteration with $k=0$.\n",
    "\n",
    "In the first iteration, we are going to set $k=0$. Then we execute the complete iteration workflow:"
   ]
  },
  {
   "cell_type": "code",
   "execution_count": null,
   "id": "46146632",
   "metadata": {},
   "outputs": [],
   "source": [
    "#First step\n",
    "N=shots\n",
    "print('#################### First Iteration k= {}. Start #################'.format(k))\n",
    "print('k = ', k)\n",
    "K = 4*k+2\n",
    "print('K = 4*k+2= ', K)\n",
    "DeltaTheta_initial = np.abs(theta_u-theta_l)\n",
    "print('Creating the Quantum circuit with k= ', k)\n",
    "routine = qlm.QRoutine()\n",
    "wires = routine.new_wires(iqae.oracle.arity)\n",
    "routine.apply(iqae.oracle,wires)\n",
    "for j in range(k):\n",
    "    routine.apply(iqae._grover_oracle,wires)\n",
    "    \n",
    "print('Computing the probabiliy of measure |Phi_0>')\n",
    "results,_,_,_, = get_results(\n",
    "    routine,linalg_qpu = linalg_qpu,\n",
    "    shots = 10,\n",
    "    qubits = iqae.index\n",
    ")\n",
    "#Probability of measure |Phi_0>\n",
    "\n",
    "a = measure_state_probability(results, iqae.target)\n",
    "print('probability of measure |Phi_0> for {}: {} (a)'.format(k, a))\n",
    "#Getting the error for a\n",
    "epsilon_a = iqae.chebysev_bound(N,alpha/T)\n",
    "print('epsilon for iteration {}: {}'.format(k, epsilon_a))\n",
    "#using epsilon we compute new a limits\n",
    "a_max = np.minimum(a+epsilon_a,1.0)\n",
    "a_min = np.maximum(a-epsilon_a,0.0)\n",
    "#getting theta_min and theta_min from a_min,a_max\n",
    "[theta_min,theta_max] = iqae.invert_sector(a_min,a_max,flag)\n",
    "#Updating theta_l and theta_u from theta_min,theta_max and K\n",
    "theta_l = (2*np.pi*np.floor(K*theta_l/(2*np.pi))+theta_min)/K\n",
    "theta_u = (2*np.pi*np.floor(K*theta_u/(2*np.pi))+theta_max)/K\n",
    "print('New: [theta_l, theta_u]= [{}, {}]'.format(theta_l, theta_u))\n",
    "DeltaTheta_present = np.abs(theta_u-theta_l)\n",
    "print('#################### First Iteration k= {}. End #################'.format(k))"
   ]
  },
  {
   "cell_type": "code",
   "execution_count": null,
   "id": "0d621517",
   "metadata": {},
   "outputs": [],
   "source": [
    "c = routine.to_circ()\n",
    "%qatdisplay c --depth 0 --svg"
   ]
  },
  {
   "cell_type": "markdown",
   "id": "4b209589",
   "metadata": {},
   "source": [
    "Now we compare the difference between the olds and the new $\\theta_u$ and $\\theta_l$"
   ]
  },
  {
   "cell_type": "code",
   "execution_count": null,
   "id": "eef8e652",
   "metadata": {},
   "outputs": [],
   "source": [
    "print('Initial Delta Theta: ', DeltaTheta_initial)\n",
    "print('Final Delta Theta: ', DeltaTheta_present)"
   ]
  },
  {
   "cell_type": "markdown",
   "id": "f43ba940",
   "metadata": {},
   "source": [
    "As can be seen the difference now is lower"
   ]
  },
  {
   "cell_type": "markdown",
   "id": "41b144dc",
   "metadata": {},
   "source": [
    "#### 2.3.3 Next Iterations with $ k \\geq 0 $\n",
    "\n",
    "In the subsequent iterations, the first step is to determine the $ k $ for the current iteration. As explained in Step 3 of Section 2.2, this is the **critical** routine of the algorithm. This **routine** uses the current values of $ \\theta_l $, $ \\theta_u $, and the $ k $ from the previous iteration to compute the largest $ k $ (up to a predefined limit) that ensures $ (4k+2)\\theta_l $ and $ (4k+2)\\theta_u $ are entirely contained within either the $ [0, \\pi] $ or $ [\\pi, 2\\pi] $ semi-plane.\n",
    "\n",
    "This is achieved using the `find_next_k` method of the class. The method requires the following inputs:\n",
    "- `k`: The $ k $ value from the previous iteration.\n",
    "- `theta_lower`: The current lower bound $ \\theta_l $.\n",
    "- `theta_upper`: The current upper bound $ \\theta_u $.\n",
    "- `flag`: A flag for tracking the semi-plane (True for $ [0, \\pi] $).\n",
    "- `r`: A parameter of the routine (default value is 2).\n",
    "\n",
    "The outputs of the method will be:\n",
    "- `k`: The new $ k $ for the current iteration.\n",
    "- `flag`: The semi-plane where $ (4k+2)\\theta_l $ and $ (4k+2)\\theta_u $ will be contained (True for $ [0, \\pi] $).\n",
    "\n",
    "To execute the complete iteration, run the following cell."
   ]
  },
  {
   "cell_type": "code",
   "execution_count": null,
   "id": "1a5a774d",
   "metadata": {
    "scrolled": false
   },
   "outputs": [],
   "source": [
    "print('Searching for the new k')\n",
    "[k,flag] = iqae.find_next_k(k,theta_l,theta_u,flag)\n",
    "\n",
    "print('#################### ITERATION with k = {}. Start #################'.format(k))\n",
    "print('New k= ', k)\n",
    "K = 4*k+2\n",
    "print('New K= 4*k+2= ', K)\n",
    "\n",
    "DeltaTheta_initial = np.abs(theta_u-theta_l)\n",
    "\n",
    "print('Creating the Quantum circuit with k= ', k)\n",
    "routine = qlm.QRoutine()\n",
    "wires = routine.new_wires(iqae.oracle.arity)\n",
    "routine.apply(iqae.oracle,wires)\n",
    "for j in range(k):\n",
    "    routine.apply(iqae._grover_oracle,wires)\n",
    "    \n",
    "print('Computing the probability of measure |Phi_0>')    \n",
    "results,_,_,_ = get_results(\n",
    "    routine,linalg_qpu = linalg_qpu,\n",
    "    shots = N,\n",
    "    qubits = iqae.index\n",
    ")\n",
    "#Probability of measure |Phi_0>\n",
    "#a = results['Probability'].iloc[bitfield_to_int(iqae.target)]\n",
    "a = measure_state_probability(results, iqae.target)\n",
    "print('probability of measure |Phi_0> for {}: {} (a)'.format(k, a))\n",
    "\n",
    "#Getting the error for a\n",
    "epsilon_a = iqae.chebysev_bound(N,alpha/T)\n",
    "print('epsilon for iteration {}: {}'.format(k, epsilon_a))\n",
    "#using epsilon we compute new a limits\n",
    "a_max = np.minimum(a+epsilon_a,1.0)\n",
    "a_min = np.maximum(a-epsilon_a,0.0)\n",
    "#getting theta_min and theta_min from a_min,a_max\n",
    "[theta_min,theta_max] = iqae.invert_sector(a_min,a_max,flag)\n",
    "#Updating theta_l and theta_u from theta_min,theta_max and K\n",
    "theta_l = (2*np.pi*np.floor(K*theta_l/(2*np.pi))+theta_min)/K\n",
    "theta_u = (2*np.pi*np.floor(K*theta_u/(2*np.pi))+theta_max)/K\n",
    "print('New: [theta_l, theta_u]= [{}, {}]'.format(theta_l, theta_u))\n",
    "DeltaTheta_present = np.abs(theta_u-theta_l)\n",
    "\n",
    "print('#################### ITERATION with k = {}. End #################'.format(k))\n",
    "print('Initial Delta Theta: ', DeltaTheta_initial)\n",
    "print('Final Delta Theta: ', DeltaTheta_present)"
   ]
  },
  {
   "cell_type": "code",
   "execution_count": null,
   "id": "a5436604",
   "metadata": {},
   "outputs": [],
   "source": [
    "c = routine.to_circ()\n",
    "%qatdisplay c --depth 0 --svg"
   ]
  },
  {
   "cell_type": "markdown",
   "id": "063b53ec",
   "metadata": {},
   "source": [
    "In order to do several iterations execute the cell several times."
   ]
  },
  {
   "cell_type": "code",
   "execution_count": null,
   "id": "92960459",
   "metadata": {
    "scrolled": false
   },
   "outputs": [],
   "source": [
    "print('Is enough: ', DeltaTheta_present < iqae.epsilon)"
   ]
  },
  {
   "cell_type": "markdown",
   "id": "849d4e25",
   "metadata": {},
   "source": [
    "Sometimes the routine for finding the new $k$ cannot get a proper new $k$, then the old $k$ is used again. To avoid repeat the same $k$ a lot of times we can accumulate the measurements done for one $k$ and use them for calculating the step error $\\epsilon_{a_{k}}$"
   ]
  },
  {
   "cell_type": "markdown",
   "id": "2069676c",
   "metadata": {},
   "source": [
    "## 3. IQAE Complete Execution\n",
    "\n",
    "In Section 2.4, the basic scheme of the **IQAE** algorithm was outlined for pedagogical purposes. The `IQAE` class encapsulates the code presented in Section 2.4 (while implementing additional optimizations for better performance) in a user-friendly manner. It is expected that users of the `IQAE` class will primarily interact with the following methods:\n",
    "- `iqae` method\n",
    "- `run` method\n",
    "- `display_information` method\n",
    "\n",
    "### 3.1 The `iqae` Method\n",
    "\n",
    "To execute the complete algorithm using the `IQAE` class, the `iqae` method is used. This method accepts the following inputs:\n",
    "- `epsilon` ($\\epsilon$): Error in the estimation of the angle $\\theta$ (default: 0.01).\n",
    "- `shots`: Number of shots for the measurement of the circuit ($N_{\\text{shots}}$) (default: 100).\n",
    "- `alpha` ($\\alpha$): Confidence interval for $\\theta$ (default: 0.05).\n",
    "\n",
    "This method returns the limits for the $a$ estimation: $(a_{\\min}, a_{\\max})$."
   ]
  },
  {
   "cell_type": "code",
   "execution_count": null,
   "id": "6ac1f598",
   "metadata": {},
   "outputs": [],
   "source": [
    "#First we create the class\n",
    "target = [0,0,1]\n",
    "index = [0,1,2]\n",
    "a = probability[bitfield_to_int(target)]\n",
    "\n",
    "epsilon = 0.001\n",
    "shots = 100\n",
    "alpha = 0.05\n",
    "\n",
    "iqae_dict = {\n",
    "    'epsilon': epsilon,\n",
    "    'shots': shots,\n",
    "    'alpha': alpha,\n",
    "    'qpu': linalg_qpu,\n",
    "    'mcz_qlm': True    \n",
    "}\n",
    "\n",
    "iqae = IQAE(oracle, target = target, index = [0,1,2], **iqae_dict)"
   ]
  },
  {
   "cell_type": "code",
   "execution_count": null,
   "id": "d038939d",
   "metadata": {},
   "outputs": [],
   "source": [
    "epsilon_t = 0.001\n",
    "[a_l, a_u]=iqae.iqae(\n",
    "    epsilon = epsilon_t,\n",
    "    shots = 500,\n",
    "    alpha=0.01\n",
    ")"
   ]
  },
  {
   "cell_type": "code",
   "execution_count": null,
   "id": "8a8044b7",
   "metadata": {},
   "outputs": [],
   "source": [
    "print('Bounds for a: [a_l, a_u] = [{}, {}]'.format(a_l, a_u))\n",
    "a_estimated = (a_u+a_l)/2.0\n",
    "print('a_estimated: ', a_estimated)\n",
    "print('Real Value of a: ', a)\n",
    "print('|a_l-a_estimated| = ', np.abs(a_estimated-a))\n",
    "print('Error estimation wanted: ', epsilon_t)"
   ]
  },
  {
   "cell_type": "markdown",
   "id": "0840e20a",
   "metadata": {},
   "source": [
    "We can obtain the complete statistics of all the circuits used during the algorithm execution calling the `circuit_statistics` attribute"
   ]
  },
  {
   "cell_type": "code",
   "execution_count": null,
   "id": "34dec7bb",
   "metadata": {},
   "outputs": [],
   "source": [
    "iqae.circuit_statistics"
   ]
  },
  {
   "cell_type": "markdown",
   "id": "dca98814",
   "metadata": {},
   "source": [
    "### 3.2 `display_information` method\n",
    "\n",
    "The `display_information` method gives some information of the inner working of the **IQAE** algorithm. The inputs are the same that for the *iqae* method."
   ]
  },
  {
   "cell_type": "code",
   "execution_count": null,
   "id": "ffd6a641",
   "metadata": {},
   "outputs": [],
   "source": [
    "iqae.display_information(\n",
    "    epsilon = iqae.epsilon,\n",
    "    shots= iqae.shots, \n",
    "    alpha = iqae.alpha\n",
    ")"
   ]
  },
  {
   "cell_type": "markdown",
   "id": "e5a0cf15",
   "metadata": {},
   "source": [
    "### 3.3 The `run` Method\n",
    "\n",
    "A `run` method has been implemented for the direct execution of the **IQAE** algorithm. In this case, the user can configure all the properties of the `IQAE` class, and the `run` method will execute the algorithm using the predefined attributes of the class. \n",
    "\n",
    "The method returns the estimation of $ a = \\frac{a_u + a_l}{2} $. Additionally, the `run` method populates the following class attributes:\n",
    "\n",
    "- `ae_l`: The lower limit for $ a $: $ a_l $.\n",
    "- `ae_u`: The upper limit for $ a $: $ a_u $.\n",
    "- `theta_l`: The lower limit for $ \\theta $: $ \\theta_l $.\n",
    "- `theta_u`: The upper limit for $ \\theta $: $ \\theta_u $.\n",
    "- `ae`: The amplitude estimation parameter, computed as $ a = \\frac{a_u + a_l}{2} $.\n",
    "- `theta`: The estimated angle $ \\theta = \\frac{\\theta_u + \\theta_l}{2} $.\n",
    "- `run_time`: The elapsed time for the execution of the `run` method."
   ]
  },
  {
   "cell_type": "code",
   "execution_count": null,
   "id": "81801b38",
   "metadata": {},
   "outputs": [],
   "source": [
    "#First we create the class\n",
    "target = [0,0,1]\n",
    "index = [0,1,2]\n",
    "a = probability[bitfield_to_int(target)]\n",
    "\n",
    "epsilon = 0.001\n",
    "shots = 100\n",
    "alpha = 0.05\n",
    "\n",
    "iqae_dict = {\n",
    "    'epsilon': epsilon,\n",
    "    'shots': shots,\n",
    "    'alpha': alpha,\n",
    "    'qpu': linalg_qpu,\n",
    "    'mcz_qlm': True       \n",
    "}\n",
    "\n",
    "iqae = IQAE(oracle, target = target, index = [0,1,2], **iqae_dict)"
   ]
  },
  {
   "cell_type": "code",
   "execution_count": null,
   "id": "9239f4dd",
   "metadata": {},
   "outputs": [],
   "source": [
    "a_estimated = iqae.run()"
   ]
  },
  {
   "cell_type": "code",
   "execution_count": null,
   "id": "a529d575",
   "metadata": {},
   "outputs": [],
   "source": [
    "print('a_estimated: ', a_estimated)\n",
    "print('Real Value of a: ', a)\n",
    "print('Bounds for a: [iqae.ae_l, iqae.ae_u] = [{}, {}]'.format(iqae.ae_l, iqae.ae_u))\n",
    "print('Bounds for theta: [iqae.theta_l, iqae.theta_u] = [{}, {}]'.format(iqae.theta_l, iqae.theta_u))\n",
    "print('Estimated theta: iqae.theta = ', iqae.theta)\n",
    "print('Estimated a: iqae.ae = ', iqae.ae)"
   ]
  },
  {
   "cell_type": "code",
   "execution_count": null,
   "id": "4d2a3403",
   "metadata": {},
   "outputs": [],
   "source": [
    "print(' a_real-iqae.ae: ', abs(iqae.ae-a))\n",
    "print('Epsilon: ', iqae.epsilon)\n",
    "print('iqae error: ', iqae.ae_u-iqae.ae_l)"
   ]
  },
  {
   "cell_type": "code",
   "execution_count": null,
   "id": "a4027c67",
   "metadata": {
    "scrolled": true
   },
   "outputs": [],
   "source": [
    "print(\"Elapsed time for the run method: \", iqae.run_time)"
   ]
  },
  {
   "cell_type": "code",
   "execution_count": null,
   "id": "2660d0e2",
   "metadata": {},
   "outputs": [],
   "source": [
    "c = iqae._grover_oracle\n",
    "%qatdisplay c --depth 3 --svg"
   ]
  },
  {
   "cell_type": "markdown",
   "id": "5625800d",
   "metadata": {},
   "source": [
    "When the *run* method is executed following class attributes are populated:\n",
    "\n",
    "* `circuit_statistics`: Python dictionary with the statistics of each circuit used during the algorithm execution. Each key of the dictionary corresponds with a $k$ application of the Grover-like operator used and its associated value is a Python dictionary with the complete statistical information of the circuit created for each $k$ value.\n",
    "* `schedule_pdf`: pandas DataFrame with the complete schedule used in the algorithm execution. The schedule lists the number of applications Grover-like applications and the number of shots used for measurements.\n",
    "* `oracle_calls`: number of total oracle calls for a complete execution of the algorithm.\n",
    "* `max_oracle_depth`: maximum number of applications of the oracle for the complete execution of the algorithm."
   ]
  },
  {
   "cell_type": "code",
   "execution_count": null,
   "id": "b4f2a402",
   "metadata": {
    "scrolled": true
   },
   "outputs": [],
   "source": [
    "#Print gates statistic of each used circuit\n",
    "iqae.circuit_statistics"
   ]
  },
  {
   "cell_type": "code",
   "execution_count": null,
   "id": "63fdd587",
   "metadata": {
    "scrolled": true
   },
   "outputs": [],
   "source": [
    "iqae.schedule_pdf"
   ]
  },
  {
   "cell_type": "code",
   "execution_count": null,
   "id": "84fa9ce8",
   "metadata": {},
   "outputs": [],
   "source": [
    "#Total number of oracle calls\n",
    "print(\"The total number of the oracle calls for the IQAE was: {}\".format(iqae.oracle_calls))"
   ]
  },
  {
   "cell_type": "code",
   "execution_count": null,
   "id": "0edca7b3",
   "metadata": {},
   "outputs": [],
   "source": [
    "#Number of maximum oracle applications\n",
    "iqae.max_oracle_depth"
   ]
  },
  {
   "cell_type": "code",
   "execution_count": null,
   "id": "090be7ac",
   "metadata": {},
   "outputs": [],
   "source": [
    "iqae.quantum_times"
   ]
  },
  {
   "cell_type": "code",
   "execution_count": null,
   "id": "b3cf8b46",
   "metadata": {},
   "outputs": [],
   "source": [
    "iqae.quantum_time"
   ]
  },
  {
   "cell_type": "code",
   "execution_count": null,
   "id": "b8140294",
   "metadata": {},
   "outputs": [],
   "source": [
    "iqae.run_time"
   ]
  },
  {
   "cell_type": "markdown",
   "id": "3550d6d0",
   "metadata": {},
   "source": [
    "## 4. Modified IQAE\n",
    "\n",
    "The modified Iterative Quantum Amplitude Estimation (**mIQAE**) algorithm represents an improvement over the **IQAE** algorithm, offering enhanced performance. The **mIQAE** algorithm is described in the following paper:\n",
    "\n",
    "- **Fukuzawa, Shion**, **Ho, Christopher**, **Irani, Sandy**, and **Zion, Jasen**: *Modified Iterative Quantum Amplitude Estimation is Asymptotically Optimal*. 2023 Proceedings of the Symposium on Algorithm Engineering and Experiments (ALENEX). Society for Industrial and Applied Mathematics.\n",
    "\n",
    "The primary contribution of the **mIQAE** algorithm is its ability to adapt the probability of failure, $\\alpha_i$, and the corresponding number of shots at each step of the algorithm. In contrast, the failure probability in the **IQAE** algorithm remains constant across all steps. This modification allows the **mIQAE** algorithm to achieve superior query performance compared to the original **IQAE**:\n",
    "\n",
    "- **IQAE** query complexity: $\\sim \\frac{1}{\\epsilon} \\log \\left( \\frac{1}{\\alpha} \\log \\left(\\frac{1}{\\epsilon}\\right)\\right)$\n",
    "- **mIQAE** query complexity: $\\sim \\frac{1}{\\epsilon} \\log \\frac{1}{\\alpha}$\n",
    "\n",
    "The **mIQAE** algorithm has been implemented in the **QQuantLib.AE** package, specifically in the module *modified_iterative_quantum_ae*, within the class `mIQAE`. \n",
    "\n",
    "The functionality of the `mIQAE` class is identical to that of the `IQAE` class, ensuring a seamless transition for users familiar with the original implementation."
   ]
  },
  {
   "cell_type": "code",
   "execution_count": null,
   "id": "f777b18b",
   "metadata": {},
   "outputs": [],
   "source": [
    "from QQuantLib.AE.modified_iterative_quantum_ae import mIQAE"
   ]
  },
  {
   "cell_type": "code",
   "execution_count": null,
   "id": "291615f8",
   "metadata": {},
   "outputs": [],
   "source": [
    "#First we create the class\n",
    "target = [0,0,1]\n",
    "index = [0,1,2]\n",
    "a = probability[bitfield_to_int(target)]\n",
    "\n",
    "epsilon = 0.001\n",
    "shots = 100\n",
    "alpha = 0.05\n",
    "\n",
    "miqae_dict = {\n",
    "    'epsilon': epsilon,\n",
    "    'shots': shots,\n",
    "    'alpha': alpha,\n",
    "    'qpu': linalg_qpu,\n",
    "    'mcz_qlm': True       \n",
    "}\n",
    "\n",
    "miqae = mIQAE(oracle, target = target, index = [0,1,2], **miqae_dict)"
   ]
  },
  {
   "cell_type": "code",
   "execution_count": null,
   "id": "7398fbee",
   "metadata": {},
   "outputs": [],
   "source": [
    "# Run method works in the same way than IQAE class\n",
    "a_estimated_miqae = miqae.run()"
   ]
  },
  {
   "cell_type": "code",
   "execution_count": null,
   "id": "58c68e6d",
   "metadata": {},
   "outputs": [],
   "source": [
    "print('a_estimated: ', a_estimated_miqae)\n",
    "print('Real Value of a: ', a)\n",
    "print('Bounds for a: [miqae.ae_l, miqae.ae_u] = [{}, {}]'.format(miqae.ae_l, miqae.ae_u))\n",
    "print('Bounds for theta: [miqae.theta_l, miqae.theta_u] = [{}, {}]'.format(miqae.theta_l, miqae.theta_u))\n",
    "print('Estimated theta: iqae.theta = ', miqae.theta)\n",
    "print('Estimated a: iqae.ae = ', miqae.ae)"
   ]
  },
  {
   "cell_type": "code",
   "execution_count": null,
   "id": "c64c748d",
   "metadata": {},
   "outputs": [],
   "source": [
    "print(' a_real-miqae.ae: ', abs(miqae.ae-a))\n",
    "print('Epsilon: ', iqae.epsilon)\n",
    "print('miqae error: ', miqae.ae_u-miqae.ae_l)"
   ]
  },
  {
   "cell_type": "code",
   "execution_count": null,
   "id": "a0c1e084",
   "metadata": {},
   "outputs": [],
   "source": [
    "#Total number of oracle calls\n",
    "print(\"The total number of the oracle calls for the mIQAE was: {}\".format(miqae.oracle_calls))"
   ]
  },
  {
   "cell_type": "code",
   "execution_count": null,
   "id": "d58f5afb",
   "metadata": {},
   "outputs": [],
   "source": [
    "# Comparing IQAE and mIQAE\n",
    "\n",
    "print(\"IQAE estimation: {}. mIQAE estimation: {}\".format(iqae.ae, miqae.ae))\n",
    "print(\"IQAE error: {}. mIQAE erro: {}\".format(abs(iqae.ae-a), abs(miqae.ae-a)))\n",
    "print(\"Number of Oracle Calls: IQAE: {}. mIQAE: {}\".format(iqae.oracle_calls, miqae.oracle_calls))"
   ]
  },
  {
   "cell_type": "markdown",
   "id": "0a547554",
   "metadata": {},
   "source": [
    "We can compare the bounds for both methods by calling the method `compute_info` that provides info about the bounds onf the algorithm"
   ]
  },
  {
   "cell_type": "code",
   "execution_count": null,
   "id": "a265c34b",
   "metadata": {},
   "outputs": [],
   "source": [
    "eps_list= np.logspace(-1, -7)\n",
    "iqae_grover = [iqae.compute_info(x, shots=100, alpha=0.05)[\"n_oracle\"] for x in eps_list]\n",
    "miqae_grover = [miqae.compute_info(x, shots=100, alpha=0.05)[\"n_oracle\"] for x in eps_list]"
   ]
  },
  {
   "cell_type": "code",
   "execution_count": null,
   "id": "1718d57f",
   "metadata": {
    "scrolled": true
   },
   "outputs": [],
   "source": [
    "plt.plot(eps_list, iqae_grover)\n",
    "plt.plot(eps_list, miqae_grover)\n",
    "plt.xscale(\"log\")\n",
    "plt.yscale(\"log\")\n",
    "xmin, xmax, ymin, ymax = plt.axis()\n",
    "plt.xlim(xmax, xmin)\n",
    "plt.legend([\"IQAE\", \"mIQAE\"])\n",
    "plt.xlabel(r\"$\\epsilon$\")\n",
    "plt.ylabel(r\"Oracle Calls\")"
   ]
  }
 ],
 "metadata": {
  "kernelspec": {
   "display_name": "Python 3 (ipykernel)",
   "language": "python",
   "name": "python3"
  },
  "language_info": {
   "codemirror_mode": {
    "name": "ipython",
    "version": 3
   },
   "file_extension": ".py",
   "mimetype": "text/x-python",
   "name": "python",
   "nbconvert_exporter": "python",
   "pygments_lexer": "ipython3",
   "version": "3.9.9"
  }
 },
 "nbformat": 4,
 "nbformat_minor": 5
}
