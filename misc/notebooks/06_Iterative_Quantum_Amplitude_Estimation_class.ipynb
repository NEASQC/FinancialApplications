{
 "cells": [
  {
   "cell_type": "markdown",
   "id": "3db5dafe",
   "metadata": {},
   "source": [
    "# Iterative Quantum Amplitude Estimation (IQAE) module"
   ]
  },
  {
   "cell_type": "markdown",
   "id": "7d6cb636",
   "metadata": {},
   "source": [
    "Present notebook reviews the **Iterative Quantum Amplitude Estimation** (**IQAE**) algorithm. \n",
    "\n",
    "**BE AWARE** this algorithm is different from the **Iterative Quantum Phase Estimation** (**IQPE**). The second one is an algorithm for pure *phase estimation* of an unitary operator meanwhile the first one is an algorithm for direct solving of **Amplitude Estimation** problem based on the *amplification* capabilities of a Grover operator. \n",
    "\n",
    "The **IQAE** algorithm was implemented into the module *iterative_quantum_ae* of the package *AE* of library *QQuantLib* (**QQuantLib/AE/iterative_quantum_ae.py**). This algorithm was developed as a python class called: *IQAE*"
   ]
  },
  {
   "cell_type": "markdown",
   "id": "bcf02895",
   "metadata": {},
   "source": [
    "Present notebook and modules are based on the following references:\n",
    "\n",
    "* *Grinko, D., Gacon, J., Zoufal, C. & Woerner, S.*. Iterative Quantum Amplitude Estimation. npj Quantum Information 7, 2021. https://www.nature.com/articles/s41534-021-00379-1\n",
    "\n",
    "* NEASQC deliverable: *D5.1: Review of state-of-the-art for Pricing and Computation of VaR https://www.neasqc.eu/wp-content/uploads/2021/06/NEASQC_D5.1_Review-of-state-of-the-art-for-Pricing-and-Computation-of-VaR_R2.0_Final.pdf*"
   ]
  },
  {
   "cell_type": "code",
   "execution_count": null,
   "id": "404b8ec1",
   "metadata": {},
   "outputs": [],
   "source": [
    "import sys\n",
    "sys.path.append(\"../../\")"
   ]
  },
  {
   "cell_type": "code",
   "execution_count": null,
   "id": "490d094b",
   "metadata": {},
   "outputs": [],
   "source": [
    "import numpy as np\n",
    "import pandas as pd\n",
    "import matplotlib.pyplot as plt\n",
    "import qat.lang.AQASM as qlm"
   ]
  },
  {
   "cell_type": "code",
   "execution_count": null,
   "id": "21276b3d",
   "metadata": {},
   "outputs": [],
   "source": [
    "%matplotlib inline"
   ]
  },
  {
   "cell_type": "code",
   "execution_count": null,
   "id": "34403ec1",
   "metadata": {},
   "outputs": [],
   "source": [
    "#This cell loads the QLM solver.\n",
    "#QLMaaS == False -> uses PyLinalg\n",
    "#QLMaaS == True -> try to use LinAlg (for using QPU as CESGA QLM one)\n",
    "from QQuantLib.utils.qlm_solver import get_qpu\n",
    "QLMaaS = False\n",
    "linalg_qpu = get_qpu(QLMaaS)"
   ]
  },
  {
   "cell_type": "code",
   "execution_count": null,
   "id": "3453cf5d",
   "metadata": {},
   "outputs": [],
   "source": [
    "#See 01_DataLoading_Module_Use for the use of this function\n",
    "from QQuantLib.utils.data_extracting import get_results\n",
    "from QQuantLib.utils.utils import bitfield_to_int, measure_state_probability"
   ]
  },
  {
   "cell_type": "markdown",
   "id": "55146c4c",
   "metadata": {},
   "source": [
    "## 1. Oracle generation"
   ]
  },
  {
   "cell_type": "markdown",
   "id": "71279f09",
   "metadata": {},
   "source": [
    "Before doing any amplitude estimation we want to load some data into the quantum circuit, as this step is only auxiliary to see how the algorithm works, we are just going to load a discrete probability distribution. In this case we will have a circuit with $n=3$ qubits which makes a total of $N = 2^n = 8$ states. The discrete probability distribution that we are going to load is:\n",
    "$$p_d = \\dfrac{(0,1,2,3,4,5,6,7)}{0+1+2+3+4+5+6+7+8}.$$\n"
   ]
  },
  {
   "cell_type": "code",
   "execution_count": null,
   "id": "d0b21bcf",
   "metadata": {},
   "outputs": [],
   "source": [
    "n = 3\n",
    "x = np.arange(2**n)\n",
    "probability = x/np.sum(x)"
   ]
  },
  {
   "cell_type": "markdown",
   "id": "716492db",
   "metadata": {},
   "source": [
    "Note that this probability distribution is properly normalised. For loading this probability into the quantum circuit we will use the function *load_probability* from **QQuantLib/DL/data_loading** module. The state that we are going to get is:\n",
    "    $$|\\Psi\\rangle = \\scriptstyle \\dfrac{1}{\\sqrt{0+1+2+3+4+5+6+7+8}}\\left[\\sqrt{0}|0\\rangle+\\sqrt{1}|1\\rangle+\\sqrt{2}|2\\rangle+\\sqrt{3}|3\\rangle+\\sqrt{4}|4\\rangle+\\sqrt{5}|5\\rangle+\\sqrt{6}|6\\rangle+\\sqrt{7}|7\\rangle\\right].$$"
   ]
  },
  {
   "cell_type": "code",
   "execution_count": null,
   "id": "b05056d1",
   "metadata": {},
   "outputs": [],
   "source": [
    "from QQuantLib.DL.data_loading import load_probability"
   ]
  },
  {
   "cell_type": "code",
   "execution_count": null,
   "id": "aab2e90d",
   "metadata": {},
   "outputs": [],
   "source": [
    "oracle = load_probability(probability)"
   ]
  },
  {
   "cell_type": "markdown",
   "id": "08b1fdf8",
   "metadata": {},
   "source": [
    "For more information about loading data into the quantum circuit see the notebook *01_DataLoading_Module_Use*."
   ]
  },
  {
   "cell_type": "markdown",
   "id": "a08e43a5",
   "metadata": {},
   "source": [
    "## 2. IQAE algorithm."
   ]
  },
  {
   "cell_type": "markdown",
   "id": "c977b4c6",
   "metadata": {},
   "source": [
    "### 2.1 The Amplitude Estimation Problem\n",
    "\n",
    "The problem of amplitude estimation is the following. Given an oracle:\n",
    "\n",
    "$$\\mathcal{O}|0\\rangle = |\\Psi\\rangle = \\sqrt{a}|\\Psi_0\\rangle +\\sqrt{1-a}|\\Psi_1\\rangle,$$\n",
    "\n",
    "where $|\\Psi_0\\rangle$ and $|\\Psi_1\\rangle$ are orthogonal states, we want to estimate $a$.  We can define an associated angle to $\\sqrt{a}$ as $\\sin^2{\\theta} = a$, and the problem is thus rewritten as:\n",
    "$$\\mathcal{O}|0\\rangle = |\\Psi \\rangle = \\sin(\\theta)|\\Psi_0\\rangle +\\cos(\\theta)|\\Psi_1\\rangle,$$\n",
    "\n",
    "The foundations of any amplitude estimation algorithm is the grover operator $\\mathcal{Q}$, built onto the oracle $\\mathcal{O}$, that has the following effect over our state $|\\Psi\\rangle$:\n",
    "\n",
    "$$\\mathcal{G}^{m}|\\Psi\\rangle = |\\Psi \\rangle = \\sin\\left((2m_k+1)\\theta\\right)|\\Psi_0\\rangle +\\cos\\left((2m_k+1)\\theta\\right)|\\Psi_1\\rangle,$$\n",
    "\n",
    "for more information about the grover operator and the amplitude amplification algorithm check the notebook **02_AmplitudeAmplification_Operators.ipynb**.\n",
    "\n",
    "\n"
   ]
  },
  {
   "cell_type": "markdown",
   "id": "bdc418d8",
   "metadata": {},
   "source": [
    "### 2.2 IQAE algorithm summary\n",
    "\n",
    "Given an error $\\epsilon$ and a confident interval $\\alpha$, the **IAQE** algorithm allows to estimate $(\\theta_l, \\theta_u)$ such that the $\\theta$ angle of the Amplitude Estimation problem satisfies that:\n",
    "\n",
    "$$P\\big[\\theta \\in [\\theta_l, \\theta_u]\\big] \\gt 1-\\alpha$$\n",
    "\n",
    "and\n",
    "\n",
    "$$\\frac{\\theta_u-\\theta_l}{2} \\leq \\epsilon$$\n",
    "\n",
    "\n",
    "This result can be extended in a straightforward way to $a=\\sin^2{\\theta}$, so the **IQPE** algorithm will provide $(a_l, a_u)$ that satisfies:\n",
    "\n",
    "$$P\\big[a \\in [a_l, a_u]\\big] \\gt 1-\\alpha$$\n",
    "\n",
    "and\n",
    "\n",
    "$$\\frac{a_u-a_l}{2} \\leq \\epsilon$$\n"
   ]
  },
  {
   "cell_type": "markdown",
   "id": "585ab1ff",
   "metadata": {},
   "source": [
    "### 2.3 Creating object from IQAE class"
   ]
  },
  {
   "cell_type": "markdown",
   "id": "c4c29943",
   "metadata": {},
   "source": [
    "We have implemented a python class called **IQAE** into the **QQuantLib/AE/iterative_quantum_ae** module that allows us to use the **IQAE** algorithm."
   ]
  },
  {
   "cell_type": "markdown",
   "id": "35d74afa",
   "metadata": {},
   "source": [
    "For creating the **IQAE** class the conventions used in **MLAE class** from **QQuantLib/AE/maximum_likelihood_ae.py** module should be followed: \n",
    "\n",
    "We have some mandatory inputs:\n",
    "\n",
    "1. Oracle: QLM AbstractGate or QRoutine with the implementation of the Oracle for creating the Grover operator.\n",
    "2. target: this is the marked state in binary representation as a python list\n",
    "3. index: list of the qubits affected by the Grover operator.\n",
    "\n",
    "And some optional inputs, used for algorithm configuration, that can be given as a python dictionary:\n",
    "* qpu: QLM solver that will be used\n",
    "* epsilon ($\\epsilon$): the precision. Ensures that the width of the interval is (see Section 2.2), at most, $2\\epsilon$ (default: 0.01).\n",
    "* alpha ($\\alpha$): the accuracy. Ensures that the probability of $a$ not laying within the given interval (see Section 2.2) is, at most, $\\alpha$ (default: 0.05).\n",
    "* shots: the number of shots on each iteration of the algorithm (default: 100).\n",
    "* mcz_qlm: for using QLM multi-controlled Z gate (True, default) or using multiplexor implementation (False)\n"
   ]
  },
  {
   "cell_type": "code",
   "execution_count": null,
   "id": "7d4db8e0",
   "metadata": {},
   "outputs": [],
   "source": [
    "#import the class\n",
    "from QQuantLib.AE.iterative_quantum_ae import IQAE"
   ]
  },
  {
   "cell_type": "markdown",
   "id": "d94f4a5d",
   "metadata": {},
   "source": [
    "For showing how our class and the algorithm works, we will define the following amplitude estimation problem:\n",
    "$$\n",
    "    \\begin{array}{l}\n",
    "    &\\mathcal{O}\\longrightarrow \\mathcal{P}.\\\\\n",
    "    & |\\Psi\\rangle \\longrightarrow \\scriptstyle \\dfrac{1}{\\sqrt{0+1+2+3+4+5+6+7+8}}\\left[\\sqrt{0}|0\\rangle+\\sqrt{1}|1\\rangle+\\sqrt{2}|2\\rangle+\\sqrt{3}|3\\rangle+\\sqrt{4}|4\\rangle+\\sqrt{5}|5\\rangle+\\sqrt{6}|6\\rangle+\\sqrt{7}|7\\rangle\\right].\\\\\n",
    "    & \\sqrt{a}|\\Psi_0\\rangle \\longrightarrow \\dfrac{\\sqrt{1}}{\\sqrt{0+1+2+3+4+5+6+7+8}}|1\\rangle.\\\\\n",
    "    & \\sqrt{1-a}|\\Psi_1\\rangle \\longrightarrow \\scriptstyle \\dfrac{1}{\\sqrt{0+1+2+3+4+5+6+7+8}}\\left[\\sqrt{0}|0\\rangle+\\sqrt{2}|2\\rangle+\\sqrt{3}|3\\rangle+\\sqrt{4}|4\\rangle+\\sqrt{5}|5\\rangle+\\sqrt{6}|6\\rangle+\\sqrt{7}|7\\rangle\\right].\\\\\n",
    "    \\end{array}\n",
    "$$\n",
    "\n",
    "The target state, in this case is $|1\\rangle$. It's binary representation is $001$. This has to be passed to the target variable as a list. Moreover we have to provide the list of qubits where we are acting, in this case is just $[0,1,2]$, the whole register.\n",
    "\n"
   ]
  },
  {
   "cell_type": "code",
   "execution_count": null,
   "id": "b69dc476",
   "metadata": {},
   "outputs": [],
   "source": [
    "target = [0,0,1]\n",
    "index = [0,1,2]\n",
    "a = probability[bitfield_to_int(target)]\n",
    "\n",
    "print('Real Value of a: ', a)\n",
    "\n",
    "epsilon = 0.001\n",
    "shots = 100\n",
    "alpha = 0.05\n"
   ]
  },
  {
   "cell_type": "code",
   "execution_count": null,
   "id": "64ac7c41",
   "metadata": {},
   "outputs": [],
   "source": [
    "iqae_dict = {\n",
    "    'epsilon': epsilon,\n",
    "    'shots': shots,\n",
    "    'alpha': alpha,\n",
    "    'qpu': linalg_qpu,\n",
    "    'mcz_qlm': True    \n",
    "}\n",
    "\n",
    "iqae = IQAE(oracle, target = target, index = [0,1,2], **iqae_dict)"
   ]
  },
  {
   "cell_type": "markdown",
   "id": "22f6678c",
   "metadata": {},
   "source": [
    "When the class is created the based oracle Grover operator is created too and can be acces using the **\\_grover_oracle**  property of the class"
   ]
  },
  {
   "cell_type": "code",
   "execution_count": null,
   "id": "bb18b3a0",
   "metadata": {},
   "outputs": [],
   "source": [
    "c=iqae._grover_oracle\n",
    "%qatdisplay c --svg --depth 3"
   ]
  },
  {
   "cell_type": "markdown",
   "id": "0f13e5fe",
   "metadata": {},
   "source": [
    "### 2.4 IQAE algorithm scheme.\n",
    "\n",
    "\n",
    "As explained, the inputs for the **IQAE** algorithm are:\n",
    "\n",
    "* Error in the estimation of the angle $\\theta$: $\\epsilon$.\n",
    "* Confidence interval for the $\\theta$: $\\alpha$.\n",
    "\n",
    "The main steps of the **IQAE** algorithm, in a simplified way, are:\n",
    "\n",
    "1. The algorithm initialize the limits for the angle to estimation, $\\theta$, to $[\\theta_l, \\theta_u] = [0, \\frac{\\pi}{2}]$.\n",
    "2. The algorithm calculates the maximum number of iterations $T$ that should be necesary in order to satisfy the error estimation $\\epsilon$:\n",
    "    * $T(\\epsilon) \\in \\mathcal{N} \\; / \\;T(\\epsilon) \\geq \\log_2(\\frac{\\pi}{8\\epsilon})$\n",
    "    * In the framework of the **IQAE** algorithm an iteration is a selection of a different integer $k$\n",
    "\n",
    "4. Selection of $k$ in a algorithm iteration. **This is the critical routine of the algorithm**: the routine tries to obtain the biggest $k$ (until some fixed limit) that ensures that $(4*k+2)\\theta_l$ and $(4*k+2)\\theta_u$ are contained totally in the $[0,\\pi]$ or the $[\\pi, 2\\pi]$ semi plane. If this is obtained the selection routine will return the $k$ and the semi plane.\n",
    "5. For a selected $k$ the **IQAE** algorithm creates the corresponding circuit for doing:\n",
    "    * $$\\mathcal{G}^{m}|\\Psi\\rangle = |\\Psi \\rangle = \\sin\\left((2m_k+1)\\theta\\right)|\\Psi_0\\rangle +\\cos\\left((2m_k+1)\\theta\\right)|\\Psi_1\\rangle,$$\n",
    "\n",
    "6. Using $N$ shots compute the probability $a_k$ of obtaing the $|\\Psi_0\\rangle$ that will be:\n",
    "\n",
    "$$P(|\\Psi_0\\rangle, k) = \\sin^2((2*+1)\\theta) = \\frac{1-\\cos((4k+2)\\theta)}{2}=a_k$$\n",
    "\n",
    "7. Using the number of measurements $N$, $T$ and $\\alpha$ the algorithm calculates $\\epsilon_{a_k}$ using:\n",
    "\n",
    "    * $\\epsilon_{a_{k}} = \\sqrt{\\frac{1}{2N}\\log(\\frac{2T}{\\alpha})}$\n",
    "\n",
    "8. Using the $\\epsilon_{a_{k}}$ the algorithm computes some limits for $a_k$: $a_{k}^{min}$ and $a_{k}^{max}$\n",
    "\n",
    "9. The algorithm computes $\\theta_{k}^{min}$ and  $\\theta_{k}^{max}$ from $a_{k}^{min}$ and $a_{k}^{max}$, using:\n",
    "    * $a_k = \\frac{1-\\cos((4k+2)\\theta)}{2}$\n",
    "    * and the fact that $a_{k}^{min}$ and $a_{k}^{max}$ should be in one the semiplanes: $[0,\\pi]$ or the $[\\pi, 2\\pi]$ (this is given by the selection routine of step 3)\n",
    "\n",
    "10. Updating $\\theta_l$ and $\\theta_u$ using $\\theta_{k}^{min}$ and $\\theta_{k}^{max}$ respectively and the fact that the rotation due to $k$ aplication of Grover algorithm is $(4k+2)\\theta$\n",
    "\n",
    "At the end of each iteration $\\theta_l-\\theta_u$ is lower than at the begining. When $\\theta_u-\\theta_l \\leq 2\\epsilon$ the algorithm stops. \n",
    "\n",
    "**NOTE**\n",
    "\n",
    "1. For ensure that $\\theta_u-\\theta_l \\leq 2\\epsilon$ is necessary that the number if iterations should be at most equal to T ($T(\\epsilon) \\geq \\log_2(\\frac{\\pi}{8\\epsilon})$).\n",
    "2. For ensure that $P\\big[\\theta \\in [\\theta_l, \\theta_u]\\big] \\gt 1-\\alpha$ is mandatory that the error of each iteration should be: $\\epsilon_{a_{k}} = \\sqrt{\\frac{1}{2N}\\log(\\frac{2T}{\\alpha})}$\n",
    "\n"
   ]
  },
  {
   "cell_type": "markdown",
   "id": "cea0ccb5",
   "metadata": {},
   "source": [
    "### 2.5 Example of IQAE workflow\n",
    "\n",
    "Section 2.4 present a simple plot of the **IQAE** algorithm scheme. In present section we show an example of how this scheme is used for getting some intuition of how the **IQAE** algorithm works. We will split the algorithm in 3 steps:\n",
    "\n",
    "* Initialization.\n",
    "* First iteration with $k=0$.\n",
    "* Next iterations with $k\\geq 0$"
   ]
  },
  {
   "cell_type": "markdown",
   "id": "ba870805",
   "metadata": {},
   "source": [
    "#### 2.5.1 Initialization\n",
    "\n",
    "We need to do the initialization of the algorithm (setting the initial $\\theta_l$, $\\theta_u$) and getting the maximum number of iterations from $\\epsilon$ ($T(\\epsilon)$)"
   ]
  },
  {
   "cell_type": "code",
   "execution_count": null,
   "id": "87971438",
   "metadata": {},
   "outputs": [],
   "source": [
    "#Initialization of IQAE\n",
    "\n",
    "[theta_l,theta_u] = [0.0,np.pi/2]\n",
    "k=0\n",
    "#True for semiplane [0,pi]\n",
    "flag = True\n",
    "#Number of shots\n",
    "shots = 100\n",
    "#Number of iterations\n",
    "T = int(np.ceil(np.log2(np.pi/(8*iqae.epsilon)))+1)\n",
    "\n",
    "print('Max number of IQAE iterations: ',T)\n"
   ]
  },
  {
   "cell_type": "markdown",
   "id": "4e8364e3",
   "metadata": {},
   "source": [
    "#### 2.5.2 First iteration with $k=0$.\n",
    "\n",
    "In the first iteration we are going to set $k=0$. Then we execute the complete iteration workflow:"
   ]
  },
  {
   "cell_type": "code",
   "execution_count": null,
   "id": "46146632",
   "metadata": {},
   "outputs": [],
   "source": [
    "#First step\n",
    "N=shots\n",
    "print('#################### First Iteration k= {}. Start #################'.format(k))\n",
    "print('k = ', k)\n",
    "K = 4*k+2\n",
    "print('K = 4*k+2= ', K)\n",
    "DeltaTheta_initial = np.abs(theta_u-theta_l)\n",
    "print('Creating the Quantum circuit with k= ', k)\n",
    "routine = qlm.QRoutine()\n",
    "wires = routine.new_wires(iqae.oracle.arity)\n",
    "routine.apply(iqae.oracle,wires)\n",
    "for j in range(k):\n",
    "    routine.apply(iqae._grover_oracle,wires)\n",
    "    \n",
    "print('Computing the probabiliy of measure |Phi_0>')\n",
    "results,_,_,_, = get_results(\n",
    "    routine,linalg_qpu = linalg_qpu,\n",
    "    shots = 10,\n",
    "    qubits = iqae.index\n",
    ")\n",
    "#Probability of measure |Phi_0>\n",
    "\n",
    "a = measure_state_probability(results, iqae.target)\n",
    "print('probability of measure |Phi_0> for {}: {} (a)'.format(k, a))\n",
    "#Getting the error for a\n",
    "epsilon_a = iqae.chebysev_bound(N,alpha/T)\n",
    "print('epsilon for iteration {}: {}'.format(k, epsilon_a))\n",
    "#using epsilon we compute new a limits\n",
    "a_max = np.minimum(a+epsilon_a,1.0)\n",
    "a_min = np.maximum(a-epsilon_a,0.0)\n",
    "#getting theta_min and theta_min from a_min,a_max\n",
    "[theta_min,theta_max] = iqae.invert_sector(a_min,a_max,flag)\n",
    "#Updating theta_l and theta_u from theta_min,theta_max and K\n",
    "theta_l = (2*np.pi*np.floor(K*theta_l/(2*np.pi))+theta_min)/K\n",
    "theta_u = (2*np.pi*np.floor(K*theta_u/(2*np.pi))+theta_max)/K\n",
    "print('New: [theta_l, theta_u]= [{}, {}]'.format(theta_l, theta_u))\n",
    "DeltaTheta_present = np.abs(theta_u-theta_l)\n",
    "print('#################### First Iteration k= {}. End #################'.format(k))"
   ]
  },
  {
   "cell_type": "markdown",
   "id": "4b209589",
   "metadata": {},
   "source": [
    "Now we compare the difference between the olds and the new $\\theta_u$ and $\\theta_l$"
   ]
  },
  {
   "cell_type": "code",
   "execution_count": null,
   "id": "eef8e652",
   "metadata": {},
   "outputs": [],
   "source": [
    "print('Initial Delta Theta: ', DeltaTheta_initial)\n",
    "print('Final Delta Theta: ', DeltaTheta_present)"
   ]
  },
  {
   "cell_type": "markdown",
   "id": "f43ba940",
   "metadata": {},
   "source": [
    "As can be seen the difference now is lower"
   ]
  },
  {
   "cell_type": "markdown",
   "id": "def39c9d",
   "metadata": {},
   "source": [
    "#### 2.5.3 Next iterations with $k\\geq 0$"
   ]
  },
  {
   "cell_type": "markdown",
   "id": "52a7a751",
   "metadata": {},
   "source": [
    "In the next iterations the first step is getting the $k$ for the correspondent iteration. As explained in step 3 of Section 2.3 this is the **critical** routine of the algorithm. This **routine** will use the currents $\\theta_l$, $\\theta_u$ and the before step $k$ for computing the biggest $k$ (until some limit) that will ensure that $(4*k+2)\\theta_l$ and $(4*k+2)\\theta_u$ are contained totally in the $[0,\\pi]$ or the $[\\pi, 2\\pi]$ semi plane. This is done by the *find_next_k* method of the class. This method need as input:\n",
    "\n",
    "* k: $k$ of the before iteration\n",
    "* theta_lower: $\\theta_l$\n",
    "* theta_upper: $\\theta_u$\n",
    "* flag: flag for keeping the track of the semi plane (True for $[0, \\pi]$)\n",
    "* r: parameter of the routine (default 2). \n",
    "\n",
    "The outputs of the method will be:\n",
    "* k: the new $k$ for the current iteration.\n",
    "* flag: semi plane where $(4*k+2)\\theta_l$ and $(4*k+2)\\theta_u$ will be contained (True for $[0, \\pi]$)\n",
    " \n",
    "For executing the complete iteration execute the following cell"
   ]
  },
  {
   "cell_type": "code",
   "execution_count": null,
   "id": "1a5a774d",
   "metadata": {
    "scrolled": false
   },
   "outputs": [],
   "source": [
    "print('Searching for the new k')\n",
    "[k,flag] = iqae.find_next_k(k,theta_l,theta_u,flag)\n",
    "\n",
    "print('#################### ITERATION with k = {}. Start #################'.format(k))\n",
    "print('New k= ', k)\n",
    "K = 4*k+2\n",
    "print('New K= 4*k+2= ', K)\n",
    "\n",
    "DeltaTheta_initial = np.abs(theta_u-theta_l)\n",
    "\n",
    "print('Creating the Quantum circuit with k= ', k)\n",
    "routine = qlm.QRoutine()\n",
    "wires = routine.new_wires(iqae.oracle.arity)\n",
    "routine.apply(iqae.oracle,wires)\n",
    "for j in range(k):\n",
    "    routine.apply(iqae._grover_oracle,wires)\n",
    "    \n",
    "print('Computing the probability of measure |Phi_0>')    \n",
    "results,_,_,_ = get_results(\n",
    "    routine,linalg_qpu = linalg_qpu,\n",
    "    shots = N,\n",
    "    qubits = iqae.index\n",
    ")\n",
    "#Probability of measure |Phi_0>\n",
    "#a = results['Probability'].iloc[bitfield_to_int(iqae.target)]\n",
    "a = measure_state_probability(results, iqae.target)\n",
    "print('probability of measure |Phi_0> for {}: {} (a)'.format(k, a))\n",
    "\n",
    "#Getting the error for a\n",
    "epsilon_a = iqae.chebysev_bound(N,alpha/T)\n",
    "print('epsilon for iteration {}: {}'.format(k, epsilon_a))\n",
    "#using epsilon we compute new a limits\n",
    "a_max = np.minimum(a+epsilon_a,1.0)\n",
    "a_min = np.maximum(a-epsilon_a,0.0)\n",
    "#getting theta_min and theta_min from a_min,a_max\n",
    "[theta_min,theta_max] = iqae.invert_sector(a_min,a_max,flag)\n",
    "#Updating theta_l and theta_u from theta_min,theta_max and K\n",
    "theta_l = (2*np.pi*np.floor(K*theta_l/(2*np.pi))+theta_min)/K\n",
    "theta_u = (2*np.pi*np.floor(K*theta_u/(2*np.pi))+theta_max)/K\n",
    "print('New: [theta_l, theta_u]= [{}, {}]'.format(theta_l, theta_u))\n",
    "DeltaTheta_present = np.abs(theta_u-theta_l)\n",
    "\n",
    "print('#################### ITERATION with k = {}. End #################'.format(k))\n",
    "print('Initial Delta Theta: ', DeltaTheta_initial)\n",
    "print('Final Delta Theta: ', DeltaTheta_present)"
   ]
  },
  {
   "cell_type": "markdown",
   "id": "063b53ec",
   "metadata": {},
   "source": [
    "In order to do several iterations execute the cell several times."
   ]
  },
  {
   "cell_type": "code",
   "execution_count": null,
   "id": "92960459",
   "metadata": {
    "scrolled": true
   },
   "outputs": [],
   "source": [
    "print('Is enough: ', DeltaTheta_present < iqae.epsilon)"
   ]
  },
  {
   "cell_type": "markdown",
   "id": "849d4e25",
   "metadata": {},
   "source": [
    "Sometimes the routine for finding the new $k$ cannot get a proper new $k$, then the old $k$ is used again. In order to avoid repeat the same $k$ a lot of times we can accumulate the measurements done for one $k$ and using them for calculating the step error $\\epsilon_{a_{k}}$"
   ]
  },
  {
   "cell_type": "markdown",
   "id": "500c7955",
   "metadata": {},
   "source": [
    "## 3. IQAE complete execution.\n",
    "\n",
    "In section 2.4 the basic scheme of the **IQAE** algorithm was plotted for pedagogical purposes. The **IQAE** class deals with the code presented in section 2.4 (in fact implement some improvements for getting a better performance) in transparent way. It is expected that the user of the **IQAE** class only executes following methods:\n",
    "\n",
    "* *iqae* method.\n",
    "* *run* method\n",
    "* *display_information* method"
   ]
  },
  {
   "cell_type": "markdown",
   "id": "039b90b5",
   "metadata": {},
   "source": [
    "### 3.1 The *iqae* method\n",
    "\n",
    "In order to execute the complete algorithm using the **IQAE** class the *iqae* method is used. This method has the following inputs:\n",
    "\n",
    "* epsilon ($\\epsilon$): error in the estimation of the angle $\\theta$ (default: 0.01).\n",
    "* shots: number of shots for the measurement of the circuit ($N_{shots}$ (default: 100).\n",
    "* alpha ($\\alpha$): confidence interval for the $\\theta$ (default: 0.05).\n",
    "\n",
    "This method returns the limits for the $a$ estimation: $(a_{\\min},a_{\\max})$"
   ]
  },
  {
   "cell_type": "code",
   "execution_count": null,
   "id": "6ac1f598",
   "metadata": {},
   "outputs": [],
   "source": [
    "#First we create the class\n",
    "target = [0,0,1]\n",
    "index = [0,1,2]\n",
    "a = probability[bitfield_to_int(target)]\n",
    "\n",
    "epsilon = 0.001\n",
    "shots = 100\n",
    "alpha = 0.05\n",
    "\n",
    "iqae_dict = {\n",
    "    'epsilon': epsilon,\n",
    "    'shots': shots,\n",
    "    'alpha': alpha,\n",
    "    'qpu': linalg_qpu,\n",
    "    'mcz_qlm': True    \n",
    "}\n",
    "\n",
    "iqae = IQAE(oracle, target = target, index = [0,1,2], **iqae_dict)"
   ]
  },
  {
   "cell_type": "code",
   "execution_count": null,
   "id": "d038939d",
   "metadata": {},
   "outputs": [],
   "source": [
    "epsilon_t = 0.001\n",
    "[a_l, a_u]=iqae.iqae(\n",
    "    epsilon = epsilon_t,\n",
    "    shots = 500,\n",
    "    alpha=0.01\n",
    ")"
   ]
  },
  {
   "cell_type": "code",
   "execution_count": null,
   "id": "8a8044b7",
   "metadata": {},
   "outputs": [],
   "source": [
    "print('Bounds for a: [a_l, a_u] = [{}, {}]'.format(a_l, a_u))\n",
    "a_estimated = (a_u+a_l)/2.0\n",
    "print('a_estimated: ', a_estimated)\n",
    "print('Real Value of a: ', a)\n",
    "print('|a_l-a_estimated| = ', np.abs(a_estimated-a))\n",
    "print('Error estimation wanted: ', epsilon_t)"
   ]
  },
  {
   "cell_type": "markdown",
   "id": "0840e20a",
   "metadata": {},
   "source": [
    "Additionally the **iqae** method populate the *time_pdf* property where several elapsed times were stored for different iterations of the algorithm. \n",
    "\n",
    "The *iqae_overheating* column in *time_pdf* property is the time for pure *iqae* parts of each iteration (time for finding the next k and the time for invert sector)"
   ]
  },
  {
   "cell_type": "code",
   "execution_count": null,
   "id": "bda479b0",
   "metadata": {},
   "outputs": [],
   "source": [
    "iqae.time_pdf"
   ]
  },
  {
   "cell_type": "code",
   "execution_count": null,
   "id": "34dec7bb",
   "metadata": {},
   "outputs": [],
   "source": [
    "iqae.circuit_statistics"
   ]
  },
  {
   "cell_type": "markdown",
   "id": "dca98814",
   "metadata": {},
   "source": [
    "### 3.2 *display_information* method\n",
    "\n",
    "The display method gives some information of the inner working of the **IQAE** algorithm. The inputs are the same that for the *iqae* method."
   ]
  },
  {
   "cell_type": "code",
   "execution_count": null,
   "id": "ffd6a641",
   "metadata": {},
   "outputs": [],
   "source": [
    "iqae.display_information(\n",
    "    epsilon = iqae.epsilon,\n",
    "    shots= iqae.shots, \n",
    "    alpha = iqae.alpha\n",
    ")"
   ]
  },
  {
   "cell_type": "markdown",
   "id": "98c50ad8",
   "metadata": {},
   "source": [
    "### 3.3 The *run* method\n",
    "\n",
    "Finally a *run* method for a direct implementation of the **IQAE** algorithm was implemented. In this case the user can configure all the properties of the **IQAE** class and the *run* method will execute the method using the fixed attributes of the class. Finally the method returns the estimation of $a=\\frac{a_u+a_l}{2}$. Additionally the *run* method populates following class attributes:\n",
    "\n",
    "* *ae_l*: the lower limit for a $a_l$.\n",
    "* *ae_u*: the upper limit for a $a_u$.\n",
    "* *theta_l*: the lower limit for $\\theta$: $theta_l$.\n",
    "* *theta_u*: the upper limit for $\\theta$: $theta_u$.\n",
    "* *ae*: the amplitude estimation parameter computing as: $a=\\frac{a_u+a_l}{2}$\n",
    "* *theta*: the estimated $\\theta=\\frac{\\theta_u+\\theta_l}{2}$\n",
    "* *run_time*: the elpased time of the **run** method."
   ]
  },
  {
   "cell_type": "code",
   "execution_count": null,
   "id": "81801b38",
   "metadata": {},
   "outputs": [],
   "source": [
    "#First we create the class\n",
    "target = [0,0,1]\n",
    "index = [0,1,2]\n",
    "a = probability[bitfield_to_int(target)]\n",
    "\n",
    "epsilon = 0.001\n",
    "shots = 100\n",
    "alpha = 0.05\n",
    "\n",
    "iqae_dict = {\n",
    "    'epsilon': epsilon,\n",
    "    'shots': shots,\n",
    "    'alpha': alpha,\n",
    "    'qpu': linalg_qpu,\n",
    "    'mcz_qlm': True       \n",
    "}\n",
    "\n",
    "iqae = IQAE(oracle, target = target, index = [0,1,2], **iqae_dict)"
   ]
  },
  {
   "cell_type": "code",
   "execution_count": null,
   "id": "9239f4dd",
   "metadata": {},
   "outputs": [],
   "source": [
    "a_estimated = iqae.run()"
   ]
  },
  {
   "cell_type": "code",
   "execution_count": null,
   "id": "a529d575",
   "metadata": {},
   "outputs": [],
   "source": [
    "print('a_estimated: ', a_estimated)\n",
    "print('Real Value of a: ', a)\n",
    "print('Bounds for a: [iqae.ae_l, iqae.ae_u] = [{}, {}]'.format(iqae.ae_l, iqae.ae_u))\n",
    "print('Bounds for theta: [iqae.theta_l, iqae.theta_u] = [{}, {}]'.format(iqae.theta_l, iqae.theta_u))\n",
    "print('Estimated theta: iqae.theta = ', iqae.theta)\n",
    "print('Estimated a: iqae.ae = ', iqae.ae)"
   ]
  },
  {
   "cell_type": "code",
   "execution_count": null,
   "id": "4d2a3403",
   "metadata": {},
   "outputs": [],
   "source": [
    "print(' a_real-iqae.ae: ', abs(iqae.ae-a))\n",
    "print('Epsilon: ', iqae.epsilon)\n",
    "print('iqae error: ', iqae.ae_u-iqae.ae_l)"
   ]
  },
  {
   "cell_type": "code",
   "execution_count": null,
   "id": "a4027c67",
   "metadata": {
    "scrolled": true
   },
   "outputs": [],
   "source": [
    "print(\"Elapsed time for the run method: \", iqae.run_time)"
   ]
  },
  {
   "cell_type": "code",
   "execution_count": null,
   "id": "2660d0e2",
   "metadata": {},
   "outputs": [],
   "source": [
    "c = iqae._grover_oracle\n",
    "%qatdisplay c --depth 3"
   ]
  },
  {
   "cell_type": "markdown",
   "id": "5625800d",
   "metadata": {},
   "source": [
    "When the *run* method is executed following class attributes are populated:\n",
    "\n",
    "* *circuit_statistics*: python dictionary with the statistics of each circuit used during the algorithm execution. Each key of the dictionary corresponds with a $k$ applications of the Grover-like operator used and its associated value is a python dictionary with the complete statistical information of the circuit created for each $k$ value.\n",
    "* *schedule_pdf*: pandas DataFrame withe the complete schedule used in the algorithm execution. The schedule list the number of applications Grover-like applications and the number of shots used for measurements.\n",
    "* *oracle_calls*: number of total oracle calls for a complete execution of the algorithm.\n",
    "* *max_oracle_depth*: maximum number of applications of the oracle for the complete execution of the algorithm."
   ]
  },
  {
   "cell_type": "code",
   "execution_count": null,
   "id": "b4f2a402",
   "metadata": {
    "scrolled": true
   },
   "outputs": [],
   "source": [
    "#Print gates statistic of each used circuit\n",
    "iqae.circuit_statistics"
   ]
  },
  {
   "cell_type": "code",
   "execution_count": null,
   "id": "63fdd587",
   "metadata": {
    "scrolled": true
   },
   "outputs": [],
   "source": [
    "iqae.schedule_pdf"
   ]
  },
  {
   "cell_type": "code",
   "execution_count": null,
   "id": "84fa9ce8",
   "metadata": {},
   "outputs": [],
   "source": [
    "#Total number of oracle calls\n",
    "print(\"The total number of the oracle calls for the IQAE was: {}\".format(iqae.oracle_calls))"
   ]
  },
  {
   "cell_type": "code",
   "execution_count": null,
   "id": "0edca7b3",
   "metadata": {},
   "outputs": [],
   "source": [
    "#Number of maximum oracle applications\n",
    "iqae.max_oracle_depth"
   ]
  },
  {
   "cell_type": "code",
   "execution_count": null,
   "id": "090be7ac",
   "metadata": {},
   "outputs": [],
   "source": [
    "iqae.quantum_times"
   ]
  },
  {
   "cell_type": "code",
   "execution_count": null,
   "id": "b3cf8b46",
   "metadata": {},
   "outputs": [],
   "source": [
    "iqae.quantum_time"
   ]
  },
  {
   "cell_type": "code",
   "execution_count": null,
   "id": "b8140294",
   "metadata": {},
   "outputs": [],
   "source": [
    "iqae.run_time"
   ]
  },
  {
   "cell_type": "code",
   "execution_count": null,
   "id": "045cc007",
   "metadata": {},
   "outputs": [],
   "source": []
  }
 ],
 "metadata": {
  "kernelspec": {
   "display_name": "Python 3 (ipykernel)",
   "language": "python",
   "name": "python3"
  },
  "language_info": {
   "codemirror_mode": {
    "name": "ipython",
    "version": 3
   },
   "file_extension": ".py",
   "mimetype": "text/x-python",
   "name": "python",
   "nbconvert_exporter": "python",
   "pygments_lexer": "ipython3",
   "version": "3.9.9"
  }
 },
 "nbformat": 4,
 "nbformat_minor": 5
}
