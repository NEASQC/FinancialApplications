{
 "cells": [
  {
   "cell_type": "markdown",
   "id": "7a9496d2",
   "metadata": {},
   "source": [
    "# Extended Real Quantum Amplitude Estimation (RQAE) module"
   ]
  },
  {
   "cell_type": "markdown",
   "id": "7d6cb636",
   "metadata": {},
   "source": [
    "The present notebook explain how the **extended Real Quantum Amplitude Estimation** (*eRQAE*) is implemented into the **QQuantLib** library.\n",
    "\n",
    "The **eRQAE** algorithm is a modification of the **Real Quantum Amplitude Estimation** (RQAE) algorithms where the amplification steps can be guided by the user by providing a scheduler. The **eRQAE** keeps the benefits of the original **RQAE** (estimating the amplitude and its corresponding sign) by allows to the user guide the amplification steps to get a better perfomance (better relation between desired error and calls to the oracle) than the  **RQAE** one.\n",
    "\n",
    "The **eRQAE** algorithm was implemented as a Python class (*eRQAE*) inside the *extended_real_quantum_ae* module within the package *AE* of the library *QQuantLib* (**QQuantLib/AE/extended_real_quantum_ae.py**)."
   ]
  },
  {
   "cell_type": "markdown",
   "id": "bcf02895",
   "metadata": {},
   "source": [
    "The **eRQAE** algorithm is based in the **RQAE** algorithm:\n",
    "\n",
    "* Manzano, A., Musso, D. & Leitao, Á. Real quantum amplitude estimation. EPJ Quantum Technol. 10, 2 (2023) (https://epjquantumtechnology.springeropen.com/articles/10.1140/epjqt/s40507-023-00159-0#citeas)\n"
   ]
  },
  {
   "cell_type": "code",
   "execution_count": null,
   "id": "404b8ec1",
   "metadata": {},
   "outputs": [],
   "source": [
    "import sys\n",
    "sys.path.append(\"../../\")"
   ]
  },
  {
   "cell_type": "code",
   "execution_count": null,
   "id": "490d094b",
   "metadata": {},
   "outputs": [],
   "source": [
    "import numpy as np\n",
    "import pandas as pd\n",
    "import matplotlib.pyplot as plt\n",
    "import qat.lang.AQASM as qlm"
   ]
  },
  {
   "cell_type": "code",
   "execution_count": null,
   "id": "21276b3d",
   "metadata": {},
   "outputs": [],
   "source": [
    "%matplotlib inline"
   ]
  },
  {
   "cell_type": "code",
   "execution_count": null,
   "id": "34403ec1",
   "metadata": {
    "scrolled": true
   },
   "outputs": [],
   "source": [
    "#This cell loads the QLM solver. QPU = [qlmass, python, c]\n",
    "from QQuantLib.qpu.get_qpu import get_qpu\n",
    "QPU = [\"qlmass\", \"python\", \"c\"]\n",
    "linalg_qpu = get_qpu(QPU[2])"
   ]
  },
  {
   "cell_type": "code",
   "execution_count": null,
   "id": "3453cf5d",
   "metadata": {},
   "outputs": [],
   "source": [
    "#See 01_DataLoading_Module_Use for the use of this function\n",
    "from QQuantLib.utils.data_extracting import get_results\n",
    "from QQuantLib.utils.utils import bitfield_to_int"
   ]
  },
  {
   "cell_type": "markdown",
   "id": "55146c4c",
   "metadata": {},
   "source": [
    "## 1. Oracle generation"
   ]
  },
  {
   "cell_type": "markdown",
   "id": "71279f09",
   "metadata": {},
   "source": [
    "Before doing any amplitude estimation we want to load some data into the quantum circuit, as this step is only auxiliary to see how the algorithm works, we are just going to load a discrete probability distribution. In this case, we will have a circuit with $n=3$ qubits which makes a total of $N = 2^n = 8$ states. The discrete probability distribution that we are going to load is:\n",
    "$$p_d = \\dfrac{(0,1,2,3,4,5,6,7)}{0+1+2+3+4+5+6+7+8}.$$\n"
   ]
  },
  {
   "cell_type": "code",
   "execution_count": null,
   "id": "d0b21bcf",
   "metadata": {},
   "outputs": [],
   "source": [
    "n = 3\n",
    "N = 2**n\n",
    "x = np.arange(N)\n",
    "probability = x/np.sum(x)"
   ]
  },
  {
   "cell_type": "markdown",
   "id": "716492db",
   "metadata": {},
   "source": [
    "Note that this probability distribution is properly normalised. For loading this probability into the quantum circuit we will use the function *load_probability* from **QQuantLib/DL/data_loading** module. The state that we are going to get is:\n",
    "    $$|\\Psi\\rangle = \\scriptstyle \\dfrac{1}{\\sqrt{0+1+2+3+4+5+6+7+8}}\\left[\\sqrt{0}|0\\rangle+\\sqrt{1}|1\\rangle+\\sqrt{2}|2\\rangle+\\sqrt{3}|3\\rangle+\\sqrt{4}|4\\rangle+\\sqrt{5}|5\\rangle+\\sqrt{6}|6\\rangle+\\sqrt{7}|7\\rangle\\right].$$"
   ]
  },
  {
   "cell_type": "code",
   "execution_count": null,
   "id": "b05056d1",
   "metadata": {},
   "outputs": [],
   "source": [
    "from QQuantLib.DL.data_loading import load_probability"
   ]
  },
  {
   "cell_type": "code",
   "execution_count": null,
   "id": "aab2e90d",
   "metadata": {},
   "outputs": [],
   "source": [
    "oracle = load_probability(probability)"
   ]
  },
  {
   "cell_type": "code",
   "execution_count": null,
   "id": "a30747ef",
   "metadata": {},
   "outputs": [],
   "source": [
    "%qatdisplay oracle --svg"
   ]
  },
  {
   "cell_type": "markdown",
   "id": "08b1fdf8",
   "metadata": {},
   "source": [
    "For more information about loading data into the quantum circuit see the notebook *01_DataLoading_Module_Use*."
   ]
  },
  {
   "cell_type": "markdown",
   "id": "208218b4",
   "metadata": {},
   "source": [
    "## 2. eRQAE class"
   ]
  },
  {
   "cell_type": "markdown",
   "id": "e82c9c6e",
   "metadata": {},
   "source": [
    "### 2.1 The Amplitude Estimation Problem\n",
    "\n",
    "The **eRQAE** algorithm is a modification of the **RQAE** one so it solves the **amplitude estimation** problem when a little variation is added.  In this case, given an oracle:\n",
    "\n",
    "$$\\mathcal{0}|0\\rangle = |\\Psi\\rangle = a|\\Psi_0\\rangle +\\sqrt{1-a^2}|\\Psi_1\\rangle, \\tag{1}$$\n",
    "\n",
    "where $|\\Psi_0\\rangle$ and $|\\Psi_1\\rangle$ are orthogonal states, *we want to estimate the real parameter $a$ (so $a$ can take values in the domain $[-1,1]$)*\n",
    "\n",
    "**BE AWARE** \n",
    "\n",
    "In Notebooks: *03_Maximum_Likelihood_Amplitude_Estimation_Class.ipynb*, *04_Classical_Phase_Estimation_Class.ipynb*, *05_Iterative_Quantum_Phase_Estimation_Class.ipynb*, *06_Iterative_Quantum_Amplitude_Estimation_class.ipynb* we want to estimate $\\sqrt{a}$ meanwhile in this new problem we want to estimate $a$\n"
   ]
  },
  {
   "cell_type": "markdown",
   "id": "6dcb170e",
   "metadata": {},
   "source": [
    "### 2.2 eRQAE algorithm output\n",
    "\n",
    "Given an error $\\epsilon$ and a confident interval $\\gamma$, the **eRQAE** algorithm allows to estimate the $a$, from the amplitude estimation problem presented in *Section 2.1*, satisfying:\n",
    "\n",
    "$$P\\big[a \\in [a_l, a_u]\\big] \\gt 1-\\gamma$$\n",
    "\n",
    "and\n",
    "\n",
    "$$\\frac{a_u-a_l}{2} \\leq \\epsilon$$\n"
   ]
  },
  {
   "cell_type": "markdown",
   "id": "a29251c7",
   "metadata": {},
   "source": [
    "To show how our **RQAE** class works, we will define the following amplitude estimation problem:\n",
    "\n",
    "$$|\\Psi\\rangle = \\mathcal{A}|0\\rangle = \\dfrac{1}{\\sqrt{0+1+2+3+4+5+6+7+8}}\\left[\\sqrt{0}|0\\rangle+\\sqrt{1}|1\\rangle+\\sqrt{2}|2\\rangle+\\sqrt{3}|3\\rangle+\\sqrt{4}|4\\rangle+\\sqrt{5}|5\\rangle+\\sqrt{6}|6\\rangle+\\sqrt{7}|7\\rangle\\right] \\tag{2}$$\n",
    "\n",
    "So comparing (2) with (1):\n",
    "\n",
    "$$a|\\Psi_0\\rangle =  \\dfrac{\\sqrt{1}}{\\sqrt{0+1+2+3+4+5+6+7+8}}|1\\rangle$$\n",
    "\n",
    "and \n",
    "\n",
    "$$\\sqrt{1-a^2}|\\Psi_1\\rangle = \\dfrac{1}{\\sqrt{0+1+2+3+4+5+6+7+8}}\\left[\\sqrt{0}|0\\rangle+\\sqrt{2}|2\\rangle+\\sqrt{3}|3\\rangle+\\sqrt{4}|4\\rangle+\\sqrt{5}|5\\rangle+\\sqrt{6}|6\\rangle+\\sqrt{7}|7\\rangle\\right].$$\n",
    "\n",
    "The target state, in this case, is $|1\\rangle$. Its binary representation is $001$. This has to be passed to the target variable as a list. Moreover, we have to provide the list of qubits where we are acting, in this case is just $[0,1,2]$, the whole register."
   ]
  },
  {
   "cell_type": "markdown",
   "id": "d2da4da9",
   "metadata": {},
   "source": [
    "### 2.3 Creating object from RQAE class\n",
    "\n",
    "We have implemented and python class called **eRQAE** into the **QQuantLib/AE/extended_real_quantum_ae** module that allows us to use the **eRQAE** algorithm.\n",
    "\n",
    "For creating the **eRQAE** class the conventions used in **MLAE class** from **QQuantLib/AE/maximum_likelihood_ae.py** module should be followed: \n",
    "\n",
    "We have some mandatory inputs:\n",
    "\n",
    "1. Oracle: QLM AbstractGate or QRoutine with the implementation of the Oracle for creating the Grover operator.\n",
    "2. target: this is the marked state in binary representation as a Python list. \n",
    "3. index: list of the qubits affected by the Grover operator. \n",
    "\n",
    "And some optional inputs, used for algorithm configuration, that can be given as a Python dictionary:\n",
    "* qpu: QLM solver that will be used\n",
    "* epsilon ($\\epsilon$): the precision. Ensures that the width of the interval is (see Section 2.2), at most, $2\\epsilon$ (default: 0.01).\n",
    "* gamma ($\\gamma$): the accuracy. Ensures that the probability of $a$ not laying within the given interval (see Section 2.2) is, at most, $\\gamma$ (default: 0.05).\n",
    "* mcz_qlm: for using QLM multi-controlled Z gate (True, default) or using multiplexor implementation (False)\n",
    "* erqae_schedule: Python dictionary that allows to build the amplification schedule of the algorithm\n",
    "\n",
    "The new part of the **eRQAE** algorihtm is that the user can guide the amplification schedule of the algorightm . \n",
    "\n",
    "We explain how to fix this in the following sub section"
   ]
  },
  {
   "cell_type": "markdown",
   "id": "b3b951fd",
   "metadata": {},
   "source": [
    "#### The **eRQAE** schedule\n",
    "\n",
    "To guide the amplification steps during the **eRQAE** algorithm execution the user can provided to the algorithm the two following inputs:\n",
    "\n",
    "* **Amplification list**: is a list where the user proposes amplifications for each step of the algorithm. This is at each step the user propose what is the number of times the corresponding **Grover** operator will be applied ($k_i$)\n",
    "* **Confidence list**: is a list where the user proposes the confidence level for each step of the algorithm. \n",
    "\n",
    "For example the user can want a scheduler that increases the amplification in an exponential way meanwhile the confidence can only "
   ]
  },
  {
   "cell_type": "code",
   "execution_count": null,
   "id": "cf010f69",
   "metadata": {},
   "outputs": [],
   "source": [
    "from QQuantLib.AE.extended_real_quantum_ae import select_schedule"
   ]
  },
  {
   "cell_type": "code",
   "execution_count": null,
   "id": "765cab81",
   "metadata": {},
   "outputs": [],
   "source": [
    "schedule_exp_cons = {\n",
    "    \"type\": \"exp_const\",\n",
    "    \"ratio_slope_k\": 2,\n",
    "    \"ratio_slope_gamma\": None\n",
    "}\n",
    "\n",
    "schedule_exp_exp = {\n",
    "    \"type\": \"exp_exp\",\n",
    "    \"ratio_slope_k\": 2,\n",
    "    \"ratio_slope_gamma\": 2\n",
    "}\n",
    "\n",
    "schedule_lin_lin = {\n",
    "    \"type\": \"linear_linear\",\n",
    "    \"ratio_slope_k\": 2,\n",
    "    \"ratio_slope_gamma\": 2\n",
    "}"
   ]
  },
  {
   "cell_type": "code",
   "execution_count": null,
   "id": "54be7542",
   "metadata": {},
   "outputs": [],
   "source": [
    "epsilon = 0.01\n",
    "gamma = 0.05"
   ]
  },
  {
   "cell_type": "code",
   "execution_count": null,
   "id": "555df9d0",
   "metadata": {},
   "outputs": [],
   "source": [
    "list_k, list_gamma = select_schedule(schedule_exp_cons, epsilon, gamma)\n",
    "fig, ax1 = plt.subplots()\n",
    "ax1.set_title('Amplitude: Exponential. Confidence: Constant')\n",
    "ax1.plot(list_k, '-o')\n",
    "ax2 = ax1.twinx()\n",
    "ax2.plot(list_gamma, '-o', color=\"r\")\n",
    "ax1.set_ylabel('Amplification schedule')\n",
    "ax2.set_ylabel('Confidence schedule')\n",
    "fig.legend([\"Amplification schedule\", \"Confidence schedule\"],\n",
    "           loc='upper left', bbox_to_anchor=(0.2, 0.8))\n"
   ]
  },
  {
   "cell_type": "code",
   "execution_count": null,
   "id": "92bb287a",
   "metadata": {},
   "outputs": [],
   "source": [
    "list_k, list_gamma = select_schedule(schedule_exp_exp, epsilon, gamma)\n",
    "\n",
    "fig, ax1 = plt.subplots()\n",
    "ax1.set_title('Amplitude: Exponential. Confidence: Exponential')\n",
    "ax1.plot(list_k, '-o')\n",
    "ax2 = ax1.twinx()\n",
    "ax2.plot(list_gamma, '-o', color=\"r\")\n",
    "ax1.set_ylabel('Amplification schedule')\n",
    "ax2.set_ylabel('Confidence schedule')\n",
    "fig.legend([\"Amplification schedule\", \"Confidence schedule\"],\n",
    "           loc='upper left', bbox_to_anchor=(0.2, 0.8))\n"
   ]
  },
  {
   "cell_type": "code",
   "execution_count": null,
   "id": "d3818be7",
   "metadata": {},
   "outputs": [],
   "source": [
    "list_k, list_gamma = select_schedule(schedule_lin_lin, epsilon, gamma)\n",
    "\n",
    "fig, ax1 = plt.subplots()\n",
    "ax1.plot(list_k, '-o')\n",
    "ax1.set_title('Amplitude: Linear. Confidence: Linear')\n",
    "ax2 = ax1.twinx()\n",
    "ax2.plot(list_gamma, '-o', color=\"r\")\n",
    "ax1.set_ylabel('Amplification schedule')\n",
    "ax2.set_ylabel('Confidence schedule')\n",
    "fig.legend([\"Amplification schedule\", \"Confidence schedule\"],\n",
    "           loc='upper left', bbox_to_anchor=(0.2, 0.8))\n"
   ]
  },
  {
   "cell_type": "markdown",
   "id": "a51f35a9",
   "metadata": {},
   "source": [
    "## OPA"
   ]
  },
  {
   "cell_type": "code",
   "execution_count": null,
   "id": "c3dc1ade",
   "metadata": {},
   "outputs": [],
   "source": [
    "#import the class\n",
    "from QQuantLib.AE.extended_real_quantum_ae import eRQAE"
   ]
  },
  {
   "cell_type": "code",
   "execution_count": null,
   "id": "62f7ee9a",
   "metadata": {},
   "outputs": [],
   "source": [
    "target = [0,0,1]\n",
    "index = [0,1,2]\n",
    "\n",
    "#We want to estimate the probability of target.\n",
    "#In the RQAE solution the $a$ is codified as an amplitude not as a probability\n",
    "a_real = np.sqrt(probability[bitfield_to_int(target)])\n",
    "\n",
    "print('We want to estimate: ', a_real)\n",
    "\n",
    "\n",
    "\n",
    "rqae_dict = {\n",
    "    'qpu': linalg_qpu,\n",
    "    'mcz_qlm': True,\n",
    "    \"epsilon\" : 0.001,\n",
    "    \"gamma\": 0.05,\n",
    "    'erqae_schedule': schedule_exp_cons\n",
    "    \n",
    "}\n",
    "\n",
    "e_rqae = eRQAE(oracle,target = [0,0,1],index = [0,1,2], **rqae_dict)"
   ]
  },
  {
   "cell_type": "code",
   "execution_count": null,
   "id": "aadcd2c0",
   "metadata": {},
   "outputs": [],
   "source": [
    "print(\"epsilon: \", e_rqae.epsilon)\n",
    "print(\"gamma: \", e_rqae.gamma)\n",
    "print(\"erqae_schedule: \", e_rqae.erqae_schedule)\n",
    "print(\"schedule_k: \", e_rqae.schedule_k)\n",
    "print(\"schedule_gamma: \", e_rqae.schedule_gamma)"
   ]
  },
  {
   "cell_type": "markdown",
   "id": "e5c5e726",
   "metadata": {},
   "source": [
    "### 2.4 The *erqae* method\n",
    "\n",
    "To execute the complete algorithm using the **eRQAE** class the *erqae* method can be used. \n",
    "\n",
    " This method has the following inputs:\n",
    "* epsilon ($\\epsilon$): error in the estimation of $a$ (default: 0.01).\n",
    "* gamma ($\\gamma$): confidence interval for the $a$ estimation (default: 0.05).\n",
    "* schedule_k : list with the amplification schedule\n",
    "* schedule_gamma : list with the confidence schedule\n",
    "\n",
    "This method returns the limits for the $a$ estimation: $(a_{\\min},a_{\\max})$"
   ]
  },
  {
   "cell_type": "markdown",
   "id": "579eaacf",
   "metadata": {},
   "source": [
    "#### Schedule: amplification exponential confidence constant"
   ]
  },
  {
   "cell_type": "code",
   "execution_count": null,
   "id": "4a873231",
   "metadata": {},
   "outputs": [],
   "source": [
    "schedule_exp_cons = {\n",
    "    \"type\": \"exp_const\",\n",
    "    \"ratio_slope_k\": 2,\n",
    "    \"ratio_slope_gamma\": None\n",
    "}\n",
    "list_k, list_gamma = select_schedule(\n",
    "    schedule_exp_cons, rqae_dict[\"epsilon\"], rqae_dict[\"gamma\"])\n",
    "bounds = e_rqae.erqae(\n",
    "    epsilon=rqae_dict[\"epsilon\"], \n",
    "    gamma=rqae_dict[\"gamma\"],\n",
    "    schedule_k=list_k,\n",
    "    schedule_gamma=list_gamma\n",
    ")"
   ]
  },
  {
   "cell_type": "code",
   "execution_count": null,
   "id": "df70f641",
   "metadata": {
    "scrolled": true
   },
   "outputs": [],
   "source": [
    "print('Bounds for a: [a_l, a_u] = [{}, {}]'.format(bounds[0], bounds[1]))\n",
    "a_estimated = (bounds[0]+bounds[1])/2.0\n",
    "print('a_estimated: ', a_estimated)\n",
    "print('a real: ', a_real)\n",
    "print('|a_l-a_estimated| = ', np.abs(a_estimated-a_real))\n",
    "print('Error estimation wanted: ', 0.01)"
   ]
  },
  {
   "cell_type": "code",
   "execution_count": null,
   "id": "8c3921ff",
   "metadata": {},
   "outputs": [],
   "source": [
    "if (a_real>=bounds[0])&(a_real<=bounds[1]):\n",
    "    print(\"Correct\")\n",
    "else:\n",
    "    print(\"Incorrect\")"
   ]
  },
  {
   "cell_type": "markdown",
   "id": "94db8903",
   "metadata": {},
   "source": [
    "#### Schedule: amplification exponential confidence exponential"
   ]
  },
  {
   "cell_type": "code",
   "execution_count": null,
   "id": "beb40ab8",
   "metadata": {},
   "outputs": [],
   "source": [
    "schedule_exp_exp = {\n",
    "    \"type\": \"exp_exp\",\n",
    "    \"ratio_slope_k\": 2,\n",
    "    \"ratio_slope_gamma\": 2\n",
    "}\n",
    "list_k, list_gamma = select_schedule(\n",
    "    schedule_exp_exp, rqae_dict[\"epsilon\"], rqae_dict[\"gamma\"])\n",
    "print(list_k)\n",
    "print(list_gamma)\n",
    "bounds = e_rqae.erqae(\n",
    "    epsilon=rqae_dict[\"epsilon\"], \n",
    "    gamma=rqae_dict[\"gamma\"],\n",
    "    schedule_k=list_k,\n",
    "    schedule_gamma=list_gamma\n",
    ")"
   ]
  },
  {
   "cell_type": "code",
   "execution_count": null,
   "id": "1759f4bc",
   "metadata": {},
   "outputs": [],
   "source": [
    "print('Bounds for a: [a_l, a_u] = [{}, {}]'.format(bounds[0], bounds[1]))\n",
    "a_estimated = (bounds[0]+bounds[1])/2.0\n",
    "print('a_estimated: ', a_estimated)\n",
    "print('a real: ', a_real)\n",
    "print('|a_l-a_estimated| = ', np.abs(a_estimated-a_real))\n",
    "print('Error estimation wanted: ', 0.01)"
   ]
  },
  {
   "cell_type": "markdown",
   "id": "85b3cdee",
   "metadata": {},
   "source": [
    "#### Schedule: amplification linear confidence linear"
   ]
  },
  {
   "cell_type": "code",
   "execution_count": null,
   "id": "6bb6e16b",
   "metadata": {},
   "outputs": [],
   "source": [
    "schedule_lin_lin = {\n",
    "    \"type\": \"linear_linear\",\n",
    "    \"ratio_slope_k\": 2,\n",
    "    \"ratio_slope_gamma\": 2\n",
    "}\n",
    "list_k, list_gamma = select_schedule(\n",
    "    schedule_lin_lin, rqae_dict[\"epsilon\"], rqae_dict[\"gamma\"])\n",
    "print(list_k)\n",
    "print(list_gamma)\n",
    "bounds = e_rqae.erqae(\n",
    "    epsilon=rqae_dict[\"epsilon\"], \n",
    "    gamma=rqae_dict[\"gamma\"],\n",
    "    schedule_k=list_k,\n",
    "    schedule_gamma=list_gamma\n",
    ")"
   ]
  },
  {
   "cell_type": "code",
   "execution_count": null,
   "id": "5e363208",
   "metadata": {},
   "outputs": [],
   "source": [
    "print('Bounds for a: [a_l, a_u] = [{}, {}]'.format(bounds[0], bounds[1]))\n",
    "a_estimated = (bounds[0]+bounds[1])/2.0\n",
    "print('a_estimated: ', a_estimated)\n",
    "print('a real: ', a_real)\n",
    "print('|a_l-a_estimated| = ', np.abs(a_estimated-a_real))\n",
    "print('Error estimation wanted: ', 0.01)"
   ]
  },
  {
   "cell_type": "markdown",
   "id": "5fa049fb",
   "metadata": {},
   "source": [
    "### 2.6 The *run* method\n",
    "\n",
    "Finally, a *run* method for direct implementation of the **eRQAE** algorithm was implemented. In this case, the user can configure all the properties of the **eRQAE** class and the *run* method will execute the method using the fixed attributes of the class. Finally, the method returns the estimation of $a=\\frac{a_u+a_l}{2}$. Additionally, the *run* method populates the following class attributes:\n",
    "\n",
    "* *ae_l*: the lower limit for a $a_l$.\n",
    "* *ae_u*: the upper limit for a $a_u$.\n",
    "* *ae*: the amplitude estimation parameter calculated as: $a=\\frac{a_u+a_l}{2}$\n",
    "* *run_time*: elapsed time for a complete execution of the **run** method.\n"
   ]
  },
  {
   "cell_type": "markdown",
   "id": "30e8dd3a",
   "metadata": {},
   "source": [
    "#### Schedule: amplification exponential confidence constant"
   ]
  },
  {
   "cell_type": "code",
   "execution_count": null,
   "id": "512dc36e",
   "metadata": {},
   "outputs": [],
   "source": [
    "#First we create the class\n",
    "target = [0,0,1]\n",
    "index = [0,1,2]\n",
    "\n",
    "#We want to estimate the probability of target.\n",
    "#In the RQAE solution the $a$ is codified as an amplitude not as a probability\n",
    "a_real = np.sqrt(probability[bitfield_to_int(target)])\n",
    "\n",
    "print('We want to estimate: ', a_real)\n",
    "\n",
    "epsilon = 0.001\n",
    "gamma = 0.01\n",
    "schedule_exp_cons = {\n",
    "    \"type\": \"exp_const\",\n",
    "    \"ratio_slope_k\": 2,\n",
    "    \"ratio_slope_gamma\": None\n",
    "}\n",
    "\n",
    "\n",
    "rqae_dict = {\n",
    "    'qpu': linalg_qpu,\n",
    "    'mcz_qlm': True,\n",
    "    \"epsilon\" : epsilon,\n",
    "    \"gamma\": gamma,\n",
    "    'erqae_schedule': schedule_exp_cons\n",
    "    \n",
    "}\n",
    "\n",
    "e_rqae = eRQAE(oracle,target = [0,0,1],index = [0,1,2], **rqae_dict)\n",
    "print(e_rqae.schedule_k)\n",
    "print(e_rqae.schedule_gamma)"
   ]
  },
  {
   "cell_type": "code",
   "execution_count": null,
   "id": "941b5f77",
   "metadata": {},
   "outputs": [],
   "source": [
    "a_estimated = e_rqae.run()"
   ]
  },
  {
   "cell_type": "code",
   "execution_count": null,
   "id": "37ab46b3",
   "metadata": {},
   "outputs": [],
   "source": [
    "print('a_estimated: ', a_estimated)\n",
    "print('Real Value of a: ', a_real)\n",
    "print('Bounds for a: [rqae.a_l, rqae.a_u] = [{}, {}]'.format(\n",
    "    e_rqae.ae_l, e_rqae.ae_u))\n",
    "print('Estimated a: rqae.a= ', e_rqae.ae)\n",
    "print('|a_l-a_estimated| = ', np.abs(a_real-e_rqae.ae))\n",
    "print('Error estimation wanted: ', e_rqae.epsilon)"
   ]
  },
  {
   "cell_type": "code",
   "execution_count": null,
   "id": "510c18f7",
   "metadata": {},
   "outputs": [],
   "source": [
    "print(\"Elapsed time of a run method: \", e_rqae.run_time)"
   ]
  },
  {
   "cell_type": "markdown",
   "id": "1583e54c",
   "metadata": {},
   "source": [
    "When the *run* method is executed following class attributes are populated:\n",
    "\n",
    "* *circuit_statistics*: python dictionary with the statistics of each circuit used during the algorithm execution. Each key of the dictionary corresponds with a $k$ application of the Grover-like operator used and its associated value is a Python dictionary with the complete statistical information of the circuit created for each $k$ value.\n",
    "* *schedule_pdf*: pandas DataFrame with the complete schedule used in the algorithm execution. The schedule lists the number of applications Grover-like applications and the number of shots used for measurements.\n",
    "* *oracle_calls*: number of total oracle calls for a complete execution of the algorithm.\n",
    "* *max_oracle_depth*: maximum number of applications of the oracle for the complete execution of the algorithm."
   ]
  },
  {
   "cell_type": "code",
   "execution_count": null,
   "id": "453350d9",
   "metadata": {
    "scrolled": true
   },
   "outputs": [],
   "source": [
    "e_rqae.circuit_statistics"
   ]
  },
  {
   "cell_type": "code",
   "execution_count": null,
   "id": "59622b23",
   "metadata": {},
   "outputs": [],
   "source": [
    "e_rqae.schedule_pdf"
   ]
  },
  {
   "cell_type": "code",
   "execution_count": null,
   "id": "f74b8fed",
   "metadata": {},
   "outputs": [],
   "source": [
    "#Total number of oracle calls\n",
    "print(\"The total number of the oracle calls was: {}\".format(\n",
    "    e_rqae.oracle_calls))"
   ]
  },
  {
   "cell_type": "code",
   "execution_count": null,
   "id": "002b528b",
   "metadata": {},
   "outputs": [],
   "source": [
    "#Number of maximum oracle applications\n",
    "e_rqae.max_oracle_depth"
   ]
  },
  {
   "cell_type": "code",
   "execution_count": null,
   "id": "4fe8183f",
   "metadata": {},
   "outputs": [],
   "source": [
    "e_rqae.quantum_time"
   ]
  },
  {
   "cell_type": "code",
   "execution_count": null,
   "id": "a70130db",
   "metadata": {},
   "outputs": [],
   "source": [
    "e_rqae.run_time"
   ]
  },
  {
   "cell_type": "markdown",
   "id": "0628a3aa",
   "metadata": {},
   "source": [
    "#### Schedule: amplification exponential confidence exponential"
   ]
  },
  {
   "cell_type": "code",
   "execution_count": null,
   "id": "0769059b",
   "metadata": {},
   "outputs": [],
   "source": [
    "#First we create the class\n",
    "target = [0,0,1]\n",
    "index = [0,1,2]\n",
    "\n",
    "#We want to estimate the probability of target.\n",
    "#In the RQAE solution the $a$ is codified as an amplitude not as a probability\n",
    "a_real = np.sqrt(probability[bitfield_to_int(target)])\n",
    "\n",
    "print('We want to estimate: ', a_real)\n",
    "\n",
    "epsilon = 0.001\n",
    "gamma = 0.01\n",
    "schedule_exp_exp = {\n",
    "    \"type\": \"exp_exp\",\n",
    "    \"ratio_slope_k\": 2,\n",
    "    \"ratio_slope_gamma\": 2\n",
    "}\n",
    "\n",
    "\n",
    "rqae_dict = {\n",
    "    'qpu': linalg_qpu,\n",
    "    'mcz_qlm': True,\n",
    "    \"epsilon\" : epsilon,\n",
    "    \"gamma\": gamma,\n",
    "    'erqae_schedule': schedule_exp_exp\n",
    "    \n",
    "}\n",
    "\n",
    "e_rqae = eRQAE(oracle,target = [0,0,1],index = [0,1,2], **rqae_dict)\n",
    "print(e_rqae.schedule_k)\n",
    "print(e_rqae.schedule_gamma)"
   ]
  },
  {
   "cell_type": "code",
   "execution_count": null,
   "id": "8f09f2d5",
   "metadata": {},
   "outputs": [],
   "source": [
    "a_estimated = e_rqae.run()"
   ]
  },
  {
   "cell_type": "code",
   "execution_count": null,
   "id": "d971da61",
   "metadata": {
    "scrolled": true
   },
   "outputs": [],
   "source": [
    "print('a_estimated: ', a_estimated)\n",
    "print('Real Value of a: ', a_real)\n",
    "print('Bounds for a: [rqae.a_l, rqae.a_u] = [{}, {}]'.format(\n",
    "    e_rqae.ae_l, e_rqae.ae_u))\n",
    "print('Estimated a: rqae.a= ', e_rqae.ae)\n",
    "print('|a_l-a_estimated| = ', np.abs(a_real-e_rqae.ae))\n",
    "print('Error estimation wanted: ', e_rqae.epsilon)\n",
    "#Total number of oracle calls\n",
    "print(\"The total number of the oracle calls was: {}\".format(\n",
    "    e_rqae.oracle_calls))"
   ]
  },
  {
   "cell_type": "markdown",
   "id": "800706e0",
   "metadata": {},
   "source": [
    "#### Schedule: amplification linear confidence linear"
   ]
  },
  {
   "cell_type": "code",
   "execution_count": null,
   "id": "78393144",
   "metadata": {},
   "outputs": [],
   "source": [
    "#First we create the class\n",
    "target = [0,0,1]\n",
    "index = [0,1,2]\n",
    "\n",
    "#We want to estimate the probability of target.\n",
    "#In the RQAE solution the $a$ is codified as an amplitude not as a probability\n",
    "a_real = np.sqrt(probability[bitfield_to_int(target)])\n",
    "\n",
    "print('We want to estimate: ', a_real)\n",
    "\n",
    "epsilon = 0.001\n",
    "gamma = 0.01\n",
    "schedule_lin_lin = {\n",
    "    \"type\": \"linear_linear\",\n",
    "    \"ratio_slope_k\": 2,\n",
    "    \"ratio_slope_gamma\": 2\n",
    "}\n",
    "\n",
    "\n",
    "rqae_dict = {\n",
    "    'qpu': linalg_qpu,\n",
    "    'mcz_qlm': True,\n",
    "    \"epsilon\" : epsilon,\n",
    "    \"gamma\": gamma,\n",
    "    'erqae_schedule': schedule_lin_lin\n",
    "    \n",
    "}\n",
    "\n",
    "e_rqae = eRQAE(oracle,target = [0,0,1],index = [0,1,2], **rqae_dict)\n",
    "print(e_rqae.schedule_k)\n",
    "print(e_rqae.schedule_gamma)"
   ]
  },
  {
   "cell_type": "code",
   "execution_count": null,
   "id": "32293fb1",
   "metadata": {},
   "outputs": [],
   "source": [
    "a_estimated = e_rqae.run()"
   ]
  },
  {
   "cell_type": "code",
   "execution_count": null,
   "id": "eb07a6ae",
   "metadata": {
    "scrolled": false
   },
   "outputs": [],
   "source": [
    "print('a_estimated: ', a_estimated)\n",
    "print('Real Value of a: ', a_real)\n",
    "print('Bounds for a: [rqae.a_l, rqae.a_u] = [{}, {}]'.format(\n",
    "    e_rqae.ae_l, e_rqae.ae_u))\n",
    "print('Estimated a: rqae.a= ', e_rqae.ae)\n",
    "print('|a_l-a_estimated| = ', np.abs(a_real-e_rqae.ae))\n",
    "print('Error estimation wanted: ', e_rqae.epsilon)\n",
    "#Total number of oracle calls\n",
    "print(\"The total number of the oracle calls was: {}\".format(\n",
    "    e_rqae.oracle_calls))"
   ]
  },
  {
   "cell_type": "code",
   "execution_count": null,
   "id": "c96a01e8",
   "metadata": {},
   "outputs": [],
   "source": [
    "e_rqae.schedule_pdf"
   ]
  },
  {
   "cell_type": "markdown",
   "id": "d7c714dc",
   "metadata": {},
   "source": [
    "## 3. Compatibility with AE class"
   ]
  },
  {
   "cell_type": "code",
   "execution_count": null,
   "id": "91b1efe4",
   "metadata": {},
   "outputs": [],
   "source": [
    "from QQuantLib.AE.ae_class import AE"
   ]
  },
  {
   "cell_type": "code",
   "execution_count": null,
   "id": "aac227ec",
   "metadata": {},
   "outputs": [],
   "source": [
    "\n",
    "target = [0,0,1]\n",
    "index = [0,1,2]\n",
    "\n",
    "a_real = np.sqrt(probability[bitfield_to_int(target)])\n",
    "\n",
    "print('We want to estimate: ', a_real)\n",
    "ae_dict = {\n",
    "    #QPU\n",
    "    'qpu': linalg_qpu,\n",
    "    #Multi controlat decomposition\n",
    "    'mcz_qlm': False, \n",
    "    \n",
    "    #shots\n",
    "    'shots': 100,\n",
    "    \n",
    "    #MLAE\n",
    "    'schedule': [],\n",
    "    'delta' : 1.0e-6,\n",
    "    'ns' : 10000,\n",
    "    \n",
    "    #CQPEAE\n",
    "    'auxiliar_qbits_number': 10,\n",
    "    #IQPEAE\n",
    "    'cbits_number': 6,\n",
    "    #IQAE & RQAQE\n",
    "    'epsilon': 0.001,\n",
    "    #IQAE\n",
    "    'alpha': 0.05,\n",
    "    #RQAE\n",
    "    'gamma': 0.05,\n",
    "    'q': 1.2,\n",
    "    #eRQAE\n",
    "    'erqae_schedule': {\n",
    "        \"type\": \"linear_linear\",\n",
    "        \"ratio_slope_k\": 2, \n",
    "        \"ratio_slope_gamma\": 2\n",
    "    }\n",
    "}\n"
   ]
  },
  {
   "cell_type": "code",
   "execution_count": null,
   "id": "bafa5df6",
   "metadata": {},
   "outputs": [],
   "source": [
    "ae_object = AE(\n",
    "    oracle=oracle,\n",
    "    target=target,\n",
    "    index=index,\n",
    "    **ae_dict)\n",
    "ae_object.ae_type = 'eRQAE'"
   ]
  },
  {
   "cell_type": "code",
   "execution_count": null,
   "id": "99a82085",
   "metadata": {},
   "outputs": [],
   "source": [
    "ae_object.run()"
   ]
  },
  {
   "cell_type": "code",
   "execution_count": null,
   "id": "4257982c",
   "metadata": {},
   "outputs": [],
   "source": [
    "print('Real Value of a: ', a_real)\n",
    "print('a_estimated: ', ae_object.ae_pdf[\"ae\"])"
   ]
  },
  {
   "cell_type": "code",
   "execution_count": null,
   "id": "a0717901",
   "metadata": {},
   "outputs": [],
   "source": [
    "ae_object.schedule_pdf"
   ]
  },
  {
   "cell_type": "code",
   "execution_count": null,
   "id": "2d27a34f",
   "metadata": {},
   "outputs": [],
   "source": [
    "ae_object.oracle_calls"
   ]
  },
  {
   "cell_type": "markdown",
   "id": "99389acb",
   "metadata": {},
   "source": [
    "## 4. Compatibility with q_integration"
   ]
  },
  {
   "cell_type": "code",
   "execution_count": null,
   "id": "e5588605",
   "metadata": {},
   "outputs": [],
   "source": [
    "from QQuantLib.finance.quantum_integration import q_solve_integral"
   ]
  },
  {
   "cell_type": "code",
   "execution_count": null,
   "id": "1b72da7c",
   "metadata": {},
   "outputs": [],
   "source": [
    "#Negative Riemann sum!!\n",
    "\n",
    "a = np.pi\n",
    "\n",
    "b = np.pi + np.pi / 4.0\n",
    "\n",
    "#n will define the maximum numbers of our domain\n",
    "n = 5\n",
    "x = np.linspace(a, b, 2 ** n)\n",
    "\n",
    "#function definition\n",
    "f_x = np.sin(x)\n",
    "#function normalisation\n",
    "f_x_normalisation = np.max(np.abs(f_x)) + 1e-8\n",
    "norm_f_x = f_x / f_x_normalisation\n",
    "\n",
    "#probability definition\n",
    "p_x = x\n",
    "#probability normalisation\n",
    "p_x_normalisation = np.sum(p_x) + 1e-8\n",
    "norm_p_x = p_x / p_x_normalisation\n",
    "\n",
    "#Desired Integral\n",
    "riemman = np.sum(p_x * f_x)"
   ]
  },
  {
   "cell_type": "code",
   "execution_count": null,
   "id": "15e96162",
   "metadata": {},
   "outputs": [],
   "source": [
    "riemman"
   ]
  },
  {
   "cell_type": "code",
   "execution_count": null,
   "id": "b9c73849",
   "metadata": {},
   "outputs": [],
   "source": [
    "#Testing normalised conditions!\n",
    "\n",
    "print('p(x) condition: {}'.format(np.sum(norm_p_x) <= 1))\n",
    "print('f(x) condition: {}'.format(np.max(np.abs(norm_f_x)) <= 1))"
   ]
  },
  {
   "cell_type": "code",
   "execution_count": null,
   "id": "1e180f5c",
   "metadata": {},
   "outputs": [],
   "source": [
    "fig, ax1 = plt.subplots()\n",
    "ax1.plot(x, norm_p_x, label='p(x)')\n",
    "ax1.set_ylabel('p(x)', color = 'b')\n",
    "ax1.tick_params(axis='y', labelcolor='b')\n",
    "ax2 = ax1.twinx()\n",
    "ax2.plot(x, norm_f_x, color='r', label = 'f(x)')\n",
    "ax2.set_ylabel('f(x)', color='r')\n",
    "ax2.tick_params(axis='y', labelcolor='r')\n",
    "fig.legend(['p(x)', 'f(x)'])"
   ]
  },
  {
   "cell_type": "code",
   "execution_count": null,
   "id": "0f6e8081",
   "metadata": {},
   "outputs": [],
   "source": [
    "ae_dict = {\n",
    "    'qpu': linalg_qpu,\n",
    "    #Multi controlat decomposition\n",
    "    'mcz_qlm': False,   \n",
    "    #For encoding class\n",
    "    \"multiplexor\": True,   \n",
    "    #eRQAE\n",
    "    'erqae_schedule': {\n",
    "        \"type\": \"linear_linear\",\n",
    "        \"ratio_slope_k\": 2, \n",
    "        \"ratio_slope_gamma\": 2\n",
    "    },\n",
    "    'gamma': 0.05,    \n",
    "    'epsilon': 0.001,    \n",
    "}\n",
    "ae_dict.update({\n",
    "    \"array_function\":norm_f_x,\n",
    "    \"array_probability\": norm_p_x,\n",
    "})\n",
    "ae_dict.update({\"ae_type\" : \"eRQAE\"})\n",
    "ae_dict.update({\"encoding\" : 2})"
   ]
  },
  {
   "cell_type": "code",
   "execution_count": null,
   "id": "33da137f",
   "metadata": {},
   "outputs": [],
   "source": [
    "%%time\n",
    "erqae_solution, erqae_object = q_solve_integral(**ae_dict)\n",
    "erqae_rieman = erqae_solution*f_x_normalisation*p_x_normalisation\n",
    "print(\"eRQAE Riemann :{}. Riemann: {}\".format(\n",
    "    erqae_rieman['ae'].iloc[0], riemman))\n",
    "print(\"Absolute Error: {}\".format(\n",
    "    np.abs(erqae_rieman['ae'].iloc[0] - riemman)))"
   ]
  }
 ],
 "metadata": {
  "kernelspec": {
   "display_name": "Python 3 (ipykernel)",
   "language": "python",
   "name": "python3"
  },
  "language_info": {
   "codemirror_mode": {
    "name": "ipython",
    "version": 3
   },
   "file_extension": ".py",
   "mimetype": "text/x-python",
   "name": "python",
   "nbconvert_exporter": "python",
   "pygments_lexer": "ipython3",
   "version": "3.9.9"
  }
 },
 "nbformat": 4,
 "nbformat_minor": 5
}
