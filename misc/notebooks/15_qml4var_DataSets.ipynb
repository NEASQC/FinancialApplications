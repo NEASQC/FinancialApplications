{
 "cells": [
  {
   "cell_type": "markdown",
   "id": "8a59f8c4",
   "metadata": {},
   "source": [
    "# Building the DataSets\n",
    "\n",
    "This notebook provides instructions on creating the datasets for training Parametric Quantum Circuits (**PQC**). As explained in **14_qml4var_Intro.ipynb**, in addition to using a **CDF** for sampling the training data, it is also necessary to construct a function to generate the empirical cumulative distribution function (**ECDF**)."
   ]
  },
  {
   "cell_type": "code",
   "execution_count": null,
   "id": "ea915d40",
   "metadata": {},
   "outputs": [],
   "source": [
    "import sys \n",
    "sys.path.append(\"../../\")\n",
    "import numpy as np\n",
    "import matplotlib.pyplot as plt\n",
    "from scipy.stats import norm\n",
    "from itertools import product"
   ]
  },
  {
   "cell_type": "markdown",
   "id": "60b03626",
   "metadata": {},
   "source": [
    "## 1. Empirical Distribution Function.\n",
    "\n",
    "Given a dataset with $K$ samples:\n",
    "\n",
    "$$\\{\\textbf{x}^k\\}, \\; k=0,1, \\cdots,K-1$$\n",
    "\n",
    "where each sample is m-dimensional, i.e $\\textbf{x}=\\{x_0, x_1, \\cdots x_{m-1}\\}$, the corresponding **ECDF** can be calculated as:\n",
    "\n",
    "\n",
    "$$F^*_{\\text{emp}}(\\textbf{x}) = \\dfrac{1}{K}\\sum_{k = 0}^{K - 1}\\textbf{1}_{\\textbf{x}^k\\leq \\textbf{x}}.$$ \n",
    "\n",
    "\n",
    "where $\\textbf{1}_{\\textbf{x}^k\\leq \\textbf{x}}$ is an indicator function equals to 1 if $\\textbf{x}^k \\leq \\textbf{x}$ and 0 otherwise.\n",
    "\n",
    "The *empirical_cdf* from **QQuantLib.qml4var.data_utils** can be used to compute the corresponding **ECDF** for a given input data.\n"
   ]
  },
  {
   "cell_type": "code",
   "execution_count": null,
   "id": "5adbd8e2",
   "metadata": {},
   "outputs": [],
   "source": [
    "from QQuantLib.qml4var.data_utils import empirical_cdf"
   ]
  },
  {
   "cell_type": "code",
   "execution_count": null,
   "id": "8fce46c2",
   "metadata": {},
   "outputs": [],
   "source": [
    "n_points_train = 10\n",
    "number_of_features = 1"
   ]
  },
  {
   "cell_type": "code",
   "execution_count": null,
   "id": "0702a157",
   "metadata": {},
   "outputs": [],
   "source": [
    "x_train = np.random.normal(size=(n_points_train, number_of_features))\n",
    "#x_train = np.random.randn(n_points_train)\n",
    "emp_train = empirical_cdf(x_train)"
   ]
  },
  {
   "cell_type": "code",
   "execution_count": null,
   "id": "90d086a5",
   "metadata": {},
   "outputs": [],
   "source": [
    "domain = np.arange(-4, 4, 8/100)\n",
    "cdf_normal = norm.cdf(domain)\n",
    "plt.plot(domain, cdf_normal, '-')\n",
    "plt.plot(x_train, emp_train, 'o')\n",
    "plt.legend([\"CDF\", \"Empirical CDF\"])"
   ]
  },
  {
   "cell_type": "markdown",
   "id": "fcdfd492",
   "metadata": {},
   "source": [
    "When more samples are used to compute the **ECDF**, it becomes a closer approximation to the original **CDF**."
   ]
  },
  {
   "cell_type": "code",
   "execution_count": null,
   "id": "619754f8",
   "metadata": {},
   "outputs": [],
   "source": [
    "n_points_train = 200\n",
    "number_of_features = 1\n",
    "x_train = np.random.normal(size=(n_points_train, number_of_features))\n",
    "#x_train = np.random.randn(n_points_train)\n",
    "emp_train = empirical_cdf(x_train)\n",
    "plt.plot(domain, cdf_normal, '-')\n",
    "plt.plot(x_train, emp_train, 'o')\n",
    "plt.legend([\"CDF\", \"Empirical CDF\"])"
   ]
  },
  {
   "cell_type": "markdown",
   "id": "68b2f8eb",
   "metadata": {},
   "source": [
    "### 2D example\n",
    "\n",
    "\n",
    "The *empirical_cdf* function from **QQuantLib.qml4var.data_utils** is versatile and can compute the ECDF for datasets with varying numbers of features. To illustrate its functionality, we can plot an example using a dataset with 2D input features, which allows for a clear visual representation."
   ]
  },
  {
   "cell_type": "code",
   "execution_count": null,
   "id": "24b21ef7",
   "metadata": {},
   "outputs": [],
   "source": [
    "# Computes ECDF\n",
    "n_points_train = 20\n",
    "number_of_features = 2\n",
    "x_train2D = np.random.normal(size=(n_points_train, number_of_features))\n",
    "emp_train2D = empirical_cdf(x_train2D)"
   ]
  },
  {
   "cell_type": "code",
   "execution_count": null,
   "id": "d1027e3f",
   "metadata": {},
   "outputs": [],
   "source": [
    "# Computes True CDF\n",
    "from scipy.stats import multivariate_normal\n",
    "means_ = [0]*number_of_features\n",
    "covs_ = [[int(i==j) for j in range(number_of_features)] for i in range(number_of_features)]\n",
    "var = multivariate_normal(mean=means_, cov=covs_)\n",
    "domain2d = np.linspace([-2] * number_of_features , [2] * number_of_features, 100)\n",
    "domain2d = np.array(list(product(*[domain2d[:,i] for i in range(domain2d.shape[1])])))\n",
    "cdf_2D = var.cdf(domain2d)\n",
    "# Plot in 3d\n",
    "fig = plt.figure()\n",
    "ax1 = fig.add_subplot(projection='3d')\n",
    "ax1.plot3D(x_train2D[:, 0], x_train2D[:, 1], emp_train2D, 'o')\n",
    "ax1.plot3D(domain2d[:, 0], domain2d[:, 1], cdf_2D, '-', alpha=0.5)\n",
    "ax1.view_init(elev=21, azim=-170)"
   ]
  },
  {
   "cell_type": "markdown",
   "id": "e2e2eee3",
   "metadata": {},
   "source": [
    "Again when more samples are provided closer the approximation"
   ]
  },
  {
   "cell_type": "code",
   "execution_count": null,
   "id": "41ee6b8d",
   "metadata": {},
   "outputs": [],
   "source": [
    "# Computes ECDF\n",
    "n_points_train = 2000\n",
    "number_of_features = 2\n",
    "x_train2D = np.random.normal(size=(n_points_train, number_of_features))\n",
    "emp_train2D = empirical_cdf(x_train2D)\n",
    "# Plot in 3d\n",
    "fig = plt.figure()\n",
    "ax1 = fig.add_subplot(projection='3d')\n",
    "\n",
    "ax1.plot3D(x_train2D[:, 0], x_train2D[:, 1], emp_train2D, 'o')\n",
    "ax1.plot3D(domain2d[:, 0], domain2d[:, 1], cdf_2D, '-', alpha=0.8)\n",
    "ax1.view_init(elev=10, azim=-170)"
   ]
  },
  {
   "cell_type": "markdown",
   "id": "b1a582fb",
   "metadata": {},
   "source": [
    "## 2. DataSets\n",
    "\n",
    "To perform tests with the **QQuantLib.qml4var** package two different datasets will be created:\n",
    "\n",
    "* Random Dataset.\n",
    "* Black-Scholes Dataset.\n",
    "\n",
    "Both datasets can be generated using the data_sets module from the **benchmark.qml4var** package, which is part of the *FinancialApplications* software library.\n"
   ]
  },
  {
   "cell_type": "markdown",
   "id": "d59a5d37",
   "metadata": {},
   "source": [
    "### 2.1 Random Dataset\n",
    "\n",
    "The function *create_random_data* from the **benchmark.qml4var.data_sets** module generates training and testing datasets for a random **CDF**. The inputs for the function include the following keyword arguments:\n",
    "\n",
    "* n_points_train : number of points for the training dataset.\n",
    "* n_points_test : number of points for the testing dataset.\n",
    "* minval : minimum value for the testing dataset.\n",
    "* maxval : maximum value for the testing dataset.\n",
    "* features_number:  number of features.\n",
    "\n",
    "The *minval* and *maxval* define the domain range, which ensures that the generated data points lie within this interval.\n",
    "\n",
    "The function returns:\n",
    "\n",
    "* train_x : samples obtained from the random **CDF** (this will be the features of the training dataset). \n",
    "    * *shape = (n_points_train, features_number)*\n",
    "* train_y : these are the labels (or targets) for the training data computed using the *empirical_cdf* function from **QQuantLib.qml4var.data_utils**. \n",
    "    * *shape = (n_points_train, 1)*\n",
    "* test_x: features for the testing dataset for the random **CDF** within the domain defined by *minval* and *maxval*.\n",
    "    * *shape = (n_points_test, features_number)*\n",
    "* test_y: labels (or targets) for the testing dataset, generated directly using the actual random CDF (not the empirical distribution). \n",
    "    * *shape = (n_points_test, 1)*\n",
    " \n",
    "\n",
    "The *test_x and the *test_y* are a discretization (with *n_points_test*) over the desired domain (defined by *minval* and *maxval*) of the random **CDF**."
   ]
  },
  {
   "cell_type": "code",
   "execution_count": null,
   "id": "69823bcc",
   "metadata": {},
   "outputs": [],
   "source": [
    "from benchmark.qml4var.data_sets import create_random_data"
   ]
  },
  {
   "cell_type": "code",
   "execution_count": null,
   "id": "a0a20890",
   "metadata": {},
   "outputs": [],
   "source": [
    "cfg_random = {\n",
    "    \"n_points_train\": 10, \n",
    "    \"n_points_test\" : 100,\n",
    "    \"minval\" : -np.pi,\n",
    "    \"maxval\" : np.pi,\n",
    "    \"features_number\" : 1\n",
    "}\n",
    "random_x_train, random_y_train, random_x_test, random_y_test = create_random_data(\n",
    "    **cfg_random\n",
    ")"
   ]
  },
  {
   "cell_type": "code",
   "execution_count": null,
   "id": "21be268d",
   "metadata": {},
   "outputs": [],
   "source": [
    "print(random_x_train.shape)\n",
    "print(random_y_train.shape)\n",
    "print(random_x_test.shape)\n",
    "print(random_y_test.shape)"
   ]
  },
  {
   "cell_type": "code",
   "execution_count": null,
   "id": "8c60fa78",
   "metadata": {
    "scrolled": false
   },
   "outputs": [],
   "source": [
    "plt.plot(random_x_train, random_y_train, \"o\")\n",
    "plt.plot(random_x_test, random_y_test, \"-\")\n",
    "plt.xlabel(\"Domain\")\n",
    "plt.ylabel(\"CDF\")\n",
    "plt.legend([\"Training Dataset\", \"Testing Dataset\"])\n",
    "plt.title(\"Random Dataset\")"
   ]
  },
  {
   "attachments": {
    "image-3.png": {
     "image/png": "[encoded data removed]"
    }
   },
   "cell_type": "markdown",
   "id": "d66efd3e",
   "metadata": {},
   "source": [
    "The typycal output of the *create_random_data* function is shown in the following graph:\n",
    "\n",
    "\n",
    "![image-3.png](attachment:image-3.png)\n",
    "\n",
    "The $x$-values of the training data (represented by blue dots) are generated by sampling from the random **CDF**, while the corresponding $y$-values are obtained using the **ECDF**. On the other hand, the test data (represented by the orange line) corresponds to the random **CDF** over the specified domain, which is defined by the *minval* and *maxval* values."
   ]
  },
  {
   "cell_type": "markdown",
   "id": "67c85529",
   "metadata": {},
   "source": [
    "Additionally the *create_random_data* can deal with multiple features.\n",
    "\n",
    "**BE AWARE**\n",
    "\n",
    "When more than 1 features are used the testing data will provide the cartesian product for each feature domain. So if yo want 100 points for testing dataset and want 2 features the testing dataset will have 10000 samples!"
   ]
  },
  {
   "cell_type": "code",
   "execution_count": null,
   "id": "6a8d5b31",
   "metadata": {},
   "outputs": [],
   "source": [
    "cfg_random = {\n",
    "    \"n_points_train\": 1000, \n",
    "    \"n_points_test\" : 100,\n",
    "    \"minval\" : -np.pi,\n",
    "    \"maxval\" : np.pi,\n",
    "    \"features_number\" : 2\n",
    "}\n",
    "random_x_train, random_y_train, random_x_test, random_y_test = create_random_data(\n",
    "    **cfg_random\n",
    ")"
   ]
  },
  {
   "cell_type": "code",
   "execution_count": null,
   "id": "22513c89",
   "metadata": {},
   "outputs": [],
   "source": [
    "print(random_x_test.shape)"
   ]
  },
  {
   "cell_type": "code",
   "execution_count": null,
   "id": "9becee8d",
   "metadata": {
    "scrolled": false
   },
   "outputs": [],
   "source": [
    "# Plot in 3d\n",
    "fig = plt.figure()\n",
    "ax1 = fig.add_subplot(1,1,1,projection='3d')\n",
    "\n",
    "ax1.plot3D(random_x_train[:, 0], random_x_train[:, 1], random_y_train[:,0], 'o')\n",
    "ax1.plot3D(random_x_test[:, 0], random_x_test[:, 1], random_y_test[:,0], '-', alpha=0.7)\n",
    "ax1.view_init(elev=20, azim=-167)"
   ]
  },
  {
   "cell_type": "markdown",
   "id": "9c15332c",
   "metadata": {},
   "source": [
    "### 2.2 create_bs_data\n",
    "\n",
    "This function generates the training and testing dataset for a **Black-Scholes (BS)** (a log normal) **CDF**. \n",
    "\n",
    "In addition to the arguments that can be provided to the *create_random_data*, the folllowing arguments can be provided to configure the **BS** distribution.\n",
    "\n",
    "* s_0 : initial value of the stock\n",
    "* risk_free_rate: risk free rate\n",
    "* volatility: volatility of the stock\n",
    "* maturity: maturity of the stock\n",
    "\n",
    "\n",
    "The function returns:\n",
    "\n",
    "* x_train : these are samples obtained from the configured **BS CDF**.\n",
    "    * *shape = (n_points_train, 1)*\n",
    "* y_train : these are the labels (or targets) for the x_train. These labels were obtained by using an **empirical distribtution function** (see  https://en.wikipedia.org/wiki/Empirical_distribution_function) on the x_train data (function *empirical_distribution_function* from **datasets** module).\n",
    "    * *shape = (n_points_train, 1)*\n",
    "* x_test: this is the data obtained from the **BS CDF** between the domain defined by *minval* and *maxval*.\n",
    "    * *shape = (n_points_test, 1)*\n",
    "* y_test: these are the labels (or targets) for the x_test. In this case we **DO NOT** use the empirical distribtution function. We use the actual **BS CDF** for generating it.\n",
    "    * *shape = (n_points_test, 1)*\n",
    "\n",
    "\n",
    "The *x_test* and the *y_test* are the discretization (with *n_points_test*) over the desired domain (defined by *minval* and *maxval*) of the **BS CDF**.\n",
    "\n",
    "The user can provide a keyword arguments to the function. The user can find a JSON file for configuring in an easy way the the Black-Scholes distribution dataset (*bs.json*)\n",
    "\n",
    "**BE AWARE**\n",
    "\n",
    "Only for 1 input feature!!!"
   ]
  },
  {
   "cell_type": "code",
   "execution_count": null,
   "id": "e2583fea",
   "metadata": {},
   "outputs": [],
   "source": [
    "from benchmark.qml4var.data_sets import create_bs_data"
   ]
  },
  {
   "cell_type": "code",
   "execution_count": null,
   "id": "1cb7e22b",
   "metadata": {},
   "outputs": [],
   "source": [
    "import json"
   ]
  },
  {
   "cell_type": "markdown",
   "id": "eaca29c4",
   "metadata": {},
   "source": [
    "Some configuration JSONs for **BS** (and for random) can be found in the *benchmark/qml4var/JSONs/* folder of the *FinancialApplications*. We are going to use the *bs.json* for directly load the configuration:"
   ]
  },
  {
   "cell_type": "code",
   "execution_count": null,
   "id": "31063e73",
   "metadata": {},
   "outputs": [],
   "source": [
    "bs_json = \"../../benchmark/qml4var/JSONs/bs.json\"\n",
    "with open(bs_json) as json_file:\n",
    "    bs_cfg = json.load(json_file)\n",
    "bs_cfg"
   ]
  },
  {
   "cell_type": "code",
   "execution_count": null,
   "id": "a6eea494",
   "metadata": {},
   "outputs": [],
   "source": [
    "bs_x_train, bs_y_train, bs_x_test, bs_y_test = create_bs_data(**bs_cfg)   \n",
    "plt.plot(bs_x_train, bs_y_train, 'o')\n",
    "plt.plot(bs_x_test, bs_y_test, '-')\n",
    "plt.xlabel(\"Domain\")\n",
    "plt.ylabel(\"CDF\")\n",
    "plt.legend([\"Train\", \"Test\"])\n",
    "plt.title(\"Black-Scholes\")"
   ]
  },
  {
   "cell_type": "code",
   "execution_count": null,
   "id": "37227b8b",
   "metadata": {},
   "outputs": [],
   "source": [
    "bs_y_test.shape"
   ]
  },
  {
   "attachments": {
    "image.png": {
     "image/png": "[encoded data removed]"
    }
   },
   "cell_type": "markdown",
   "id": "3d89d5fa",
   "metadata": {},
   "source": [
    "The typycal output of the *create_bs_data* function is showed in the following graph:\n",
    "\n",
    "![image.png](attachment:image.png)"
   ]
  },
  {
   "cell_type": "markdown",
   "id": "4f134de1",
   "metadata": {},
   "source": [
    "## 3. data_sets.py command line usage\n",
    "\n",
    "The module *data_sets* can be used directly from command line for generating and store the datasets in a desired location.\n",
    "\n",
    "For getting a help the user can execute: \n",
    "\n",
    "    python data_sets.py -h\n",
    "\n",
    "    usage: data_sets.py [-h] [-json JSON_ARG] [-folder FOLDER_PATH] [-base_name BASE_NAME]\n",
    "                        [--save]\n",
    "\n",
    "    optional arguments:\n",
    "      -h, --help            show this help message and exit\n",
    "      -json JSON_ARG        JSON file with the data configuration\n",
    "      -folder FOLDER_PATH   Path for storing data\n",
    "      -base_name BASE_NAME  Base name for csv with datasets\n",
    "      --save                For saving datasets\n",
    "\n",
    "Example:\n",
    "\n",
    "    python data_sets.py -json bs.json -folder ./dataset_folder -base_name data_01 --save\n",
    "    \n",
    "    This command will use the JSON file bs.json to build a dataset using the **BS CDF**. The data will be saved under the *dataset_folder*. The generated files will be: data_01_training.csv, and data_01_testing.csv. \n",
    "    \n",
    "Inside the JSONs files a key called *distribution* should be provided. Depending on the value a random (*random* value) or a **BS** (*bs* value) **CDF** will be generated."
   ]
  }
 ],
 "metadata": {
  "kernelspec": {
   "display_name": "Python 3 (ipykernel)",
   "language": "python",
   "name": "python3"
  },
  "language_info": {
   "codemirror_mode": {
    "name": "ipython",
    "version": 3
   },
   "file_extension": ".py",
   "mimetype": "text/x-python",
   "name": "python",
   "nbconvert_exporter": "python",
   "pygments_lexer": "ipython3",
   "version": "3.9.9"
  }
 },
 "nbformat": 4,
 "nbformat_minor": 5
}
