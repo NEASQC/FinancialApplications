{
 "cells": [
  {
   "cell_type": "markdown",
   "id": "da716ab9",
   "metadata": {},
   "source": [
    "# Training Results\n",
    "\n",
    "Present notebook compares the performance of training a **PQC** when uses as *loss function* the standard *MSE* versus our $R_{L^2, \\bar{L}^2}^{S_{\\chi}}$ proposal.\n",
    "\n",
    "For this comparison, we have generated data from a **BS CDF** (see *15_qml4var_DataSets.ipynb*) and used it for training the same **PQC** using the 2 aforementioned *loss function*. The used **PQC** was:\n",
    "\n",
    "* *hardware_efficient_ansatz* function from **QQuantLib.qml4var.architectures** module.\n",
    "* 2 qubits by feature\n",
    "* 3 layers\n",
    "* base_frecuency: 1.0833078115826873\n",
    "* shift_feature: -1.6791271079531653\n",
    "\n",
    "\n",
    "The training procedure was the same for the 2 losses:\n",
    "\n",
    "* Number Of Epochs: 200\n",
    "* Number Of shots : 0\n",
    "* Adam Optimizer:\n",
    "    * learning_rate : 0.1\n",
    "    * $\\beta_1$ : 0.9\n",
    "    * $\\beta_1$ : 0.999\n",
    "    \n",
    "For each loss function, 100 training sessions were conducted, and the final weights were recorded for each session.\n",
    "\n",
    "In the **misc/notebooks/qml4var_data** folder of the *FinancialApplications* software application the followings files can be found:\n",
    "\n",
    "* *2024_10_04_BS_training.csv*: CSV file with the training data. The x values were obtained by sampling from a **BS CDF** and the corresponding y values were obtained from the *empirical distribution function* (as explained *15_qml4var_DataSets.ipynb*)\n",
    "* 2024_10_04_BS_training.csv*: CSV with the testing data. This is the actual **BS CDF** over the whole domain-\n",
    "* *data.json*: JSON file with the information for generating the datasets.\n",
    "* *pqc.json*: JSON file with the information for building the **PQC**\n",
    "* *optimizer_info.json*: JSON file with the training information.\n",
    "* *mse_loss_function.csv*: CSV file with the information for the 100 pieces of training using the *MSE* loss function.\n",
    "* *qdml_loss_function.csv*: CSV file with the information for the 100 trainings using the $R_{L^2, \\bar{L}^2}^{S_{\\chi}}$ loss function.\n"
   ]
  },
  {
   "cell_type": "code",
   "execution_count": null,
   "id": "49bcb3b8",
   "metadata": {},
   "outputs": [],
   "source": [
    "import json\n",
    "import sys\n",
    "import numpy as np \n",
    "import pandas as pd\n",
    "import matplotlib.pyplot as plt\n",
    "sys.path.append(\"../../\")\n",
    "dask_client=None"
   ]
  },
  {
   "cell_type": "markdown",
   "id": "d74fd206",
   "metadata": {},
   "source": [
    "## 1. Load the Data\n",
    "\n",
    "First the complete training and testing data will be loaded."
   ]
  },
  {
   "cell_type": "code",
   "execution_count": null,
   "id": "b8605a08",
   "metadata": {},
   "outputs": [],
   "source": [
    "from QQuantLib.qml4var.data_utils import get_dataset"
   ]
  },
  {
   "cell_type": "code",
   "execution_count": null,
   "id": "093a5136",
   "metadata": {},
   "outputs": [],
   "source": [
    "data_file = \"qml4var_data/2024_10_04_BS\"\n",
    "x_train, y_train, x_test, y_test = get_dataset(data_file)"
   ]
  },
  {
   "cell_type": "code",
   "execution_count": null,
   "id": "5b4110f5",
   "metadata": {},
   "outputs": [],
   "source": [
    "plt.plot(x_test, y_test, '-')\n",
    "plt.plot(x_train, y_train, 'o')\n",
    "plt.legend([\"Testing Data\", \"Training Data\"])"
   ]
  },
  {
   "cell_type": "markdown",
   "id": "c3690aae",
   "metadata": {},
   "source": [
    "## 2 Get the PQC\n",
    "\n",
    "Now the architecture will be loaded."
   ]
  },
  {
   "cell_type": "code",
   "execution_count": null,
   "id": "41faae80",
   "metadata": {},
   "outputs": [],
   "source": [
    "from QQuantLib.qml4var.architectures import hardware_efficient_ansatz, \\\n",
    "    z_observable, normalize_data"
   ]
  },
  {
   "cell_type": "code",
   "execution_count": null,
   "id": "b0ac7f8d",
   "metadata": {},
   "outputs": [],
   "source": [
    "pqc_json_file = \"qml4var_data/pqc.json\"\n",
    "with open(pqc_json_file) as json_file:\n",
    "    pqc_info = json.load(json_file)\n",
    "print(pqc_info)"
   ]
  },
  {
   "cell_type": "code",
   "execution_count": null,
   "id": "79ace089",
   "metadata": {},
   "outputs": [],
   "source": [
    "# build the PQC\n",
    "pqc, weigths_names, features_names = hardware_efficient_ansatz(**pqc_info)\n",
    "observable = z_observable(**pqc_info)\n",
    "circuit = pqc.to_circ()\n",
    "circuit.display()"
   ]
  },
  {
   "cell_type": "markdown",
   "id": "02a42698",
   "metadata": {},
   "source": [
    "## 3. Get QPU info"
   ]
  },
  {
   "cell_type": "code",
   "execution_count": null,
   "id": "10b60080",
   "metadata": {},
   "outputs": [],
   "source": [
    "from QQuantLib.utils.benchmark_utils import combination_for_list"
   ]
  },
  {
   "cell_type": "code",
   "execution_count": null,
   "id": "5ed5c35d",
   "metadata": {},
   "outputs": [],
   "source": [
    "json_qpu = \"../../benchmark/qml4var/JSONs/qpu_ideal.json\"\n",
    "with open(json_qpu) as json_file:\n",
    "    qpu_dict = json.load(json_file)\n",
    "qpu_list = combination_for_list(qpu_dict)\n",
    "qpu_dict = qpu_list[0]\n",
    "print(qpu_dict)"
   ]
  },
  {
   "cell_type": "markdown",
   "id": "2e32648a",
   "metadata": {},
   "source": [
    "## 4. PQC Evaluation Workflow\n",
    "\n",
    "Here we build the PQC for evaluation. Given weights, the function evaluates the **PQC** for the input weights and data."
   ]
  },
  {
   "cell_type": "code",
   "execution_count": null,
   "id": "a1d3994e",
   "metadata": {
    "scrolled": true
   },
   "outputs": [],
   "source": [
    "from QQuantLib.qml4var.myqlm_workflows import workflow_for_cdf"
   ]
  },
  {
   "cell_type": "code",
   "execution_count": null,
   "id": "e9f89189",
   "metadata": {},
   "outputs": [],
   "source": [
    "from distributed import Client\n",
    "dask_info = \"/home/cesga/gferro/Codigo/qlm_cVar/dask_cluster_ft3/scheduler_info.json\"\n",
    "dask_client = Client(scheduler_file=dask_info)\n",
    "cdf = lambda w_: workflow_for_cdf(\n",
    "    w_,\n",
    "    x_test,\n",
    "    dask_client=dask_client,\n",
    "    **input_dict\n",
    ")  "
   ]
  },
  {
   "cell_type": "code",
   "execution_count": null,
   "id": "0c7e6754",
   "metadata": {},
   "outputs": [],
   "source": [
    "def pqc_evaluation(weights, x_train, x_test, dask_client=None, **input_dict):\n",
    "    train_dataset_cdf = lambda w_: workflow_for_cdf(\n",
    "        w_,\n",
    "        x_train,\n",
    "        dask_client=dask_client,\n",
    "        **input_dict\n",
    "    )  \n",
    "    test_dataset_cdf = lambda w_: workflow_for_cdf(\n",
    "        w_,\n",
    "        x_test,\n",
    "        dask_client=dask_client,\n",
    "        **input_dict\n",
    "    )\n",
    "    weights_list = list(weights.values)\n",
    "    yp_train = train_dataset_cdf(weights_list)['y_predict_cdf']\n",
    "    yp_test = test_dataset_cdf(weights_list)['y_predict_cdf']\n",
    "    return yp_train, yp_test "
   ]
  },
  {
   "cell_type": "code",
   "execution_count": null,
   "id": "a06cc741",
   "metadata": {},
   "outputs": [],
   "source": [
    "input_dict = {\n",
    "    \"pqc\" : pqc, \n",
    "    \"observable\" : observable, \n",
    "    \"weights_names\" : weigths_names,\n",
    "    \"features_names\" : features_names,\n",
    "    \"nbshots\" : 0,\n",
    "    \"qpu_info\" : qpu_dict,\n",
    "}    "
   ]
  },
  {
   "cell_type": "markdown",
   "id": "74032144",
   "metadata": {},
   "source": [
    "## 5. Trained weights using MSE\n",
    "\n",
    "The *mse_loss_function.csv* contains the info of the 100 trainings with **MSE** as the *loss function*"
   ]
  },
  {
   "cell_type": "code",
   "execution_count": null,
   "id": "db9a989e",
   "metadata": {},
   "outputs": [],
   "source": [
    "mse = pd.read_csv(\n",
    "    \"qml4var_data/mse_loss_function.csv\",\n",
    "    sep=\";\"\n",
    ")"
   ]
  },
  {
   "cell_type": "markdown",
   "id": "117174e1",
   "metadata": {},
   "source": [
    "We can plug some weights into the *pqc_evaluation* function and get the prediction for training and testing data for the **MSE**:"
   ]
  },
  {
   "cell_type": "code",
   "execution_count": null,
   "id": "2553b26d",
   "metadata": {},
   "outputs": [],
   "source": [
    "weights_mse = mse[weigths_names].iloc[0]"
   ]
  },
  {
   "cell_type": "code",
   "execution_count": null,
   "id": "2cbaaf1c",
   "metadata": {},
   "outputs": [],
   "source": [
    "yp_train, yp_test  =pqc_evaluation(weights_mse, x_train, x_test, dask_client=dask_client,**input_dict)"
   ]
  },
  {
   "cell_type": "code",
   "execution_count": null,
   "id": "06a7bba7",
   "metadata": {},
   "outputs": [],
   "source": [
    "plt.plot(x_train, y_train, 'o')\n",
    "plt.plot(x_train, yp_train, 'o')\n",
    "plt.legend([\"Training Data\", \"Prediction\"])\n",
    "plt.title(\"MSE Loss. Trianing Data\")"
   ]
  },
  {
   "cell_type": "code",
   "execution_count": null,
   "id": "61dcde77",
   "metadata": {},
   "outputs": [],
   "source": [
    "plt.plot(x_test, y_test, '-')\n",
    "plt.plot(x_test, yp_test, 'o')\n",
    "plt.legend([\"Testing Data\", \"Prediction\"])\n",
    "plt.title(\"MSE Loss. Testing Data\")"
   ]
  },
  {
   "cell_type": "markdown",
   "id": "29748194",
   "metadata": {},
   "source": [
    "## 6. Trained weights using $R_{L^2, \\bar{L}^2}^{S_{\\chi}}$\n",
    "\n",
    "The *qdml_loss_function.csv* contains the info of the 100 trainings with $R_{L^2, \\bar{L}^2}^{S_{\\chi}}$ as the *loss function*"
   ]
  },
  {
   "cell_type": "code",
   "execution_count": null,
   "id": "b464f2ab",
   "metadata": {},
   "outputs": [],
   "source": [
    "qdml = pd.read_csv(\n",
    "    \"qml4var_data/qdml_loss_function.csv\",\n",
    "    sep=\";\"\n",
    ")"
   ]
  },
  {
   "cell_type": "markdown",
   "id": "6f0a10a2",
   "metadata": {},
   "source": [
    "We can plug some weights into the *pqc_evaluation* function and get the prediction for training and testing data for the $R_{L^2, \\bar{L}^2}^{S_{\\chi}}$ :"
   ]
  },
  {
   "cell_type": "code",
   "execution_count": null,
   "id": "fe7c8e57",
   "metadata": {},
   "outputs": [],
   "source": [
    "weights_qdml = qdml[weigths_names].iloc[0]"
   ]
  },
  {
   "cell_type": "code",
   "execution_count": null,
   "id": "a47fe9f9",
   "metadata": {},
   "outputs": [],
   "source": [
    "yp_train, yp_test  =pqc_evaluation(\n",
    "    weights_qdml, x_train, x_test, dask_client=dask_client, **input_dict)"
   ]
  },
  {
   "cell_type": "code",
   "execution_count": null,
   "id": "8f8e3259",
   "metadata": {},
   "outputs": [],
   "source": [
    "plt.plot(x_train, y_train, 'o')\n",
    "plt.plot(x_train, yp_train, 'o')\n",
    "plt.legend([\"Training Data\", \"Prediction\"])\n",
    "plt.title(r\"$R_{L^2, \\bar{L}^2}^{S_{\\chi}}$. Training Data\")"
   ]
  },
  {
   "cell_type": "code",
   "execution_count": null,
   "id": "25310942",
   "metadata": {},
   "outputs": [],
   "source": [
    "plt.plot(x_test, y_test, '-')\n",
    "plt.plot(x_test, yp_test, 'o')\n",
    "plt.legend([\"Testing Data\", \"Prediction\"])\n",
    "plt.title(r\"$R_{L^2, \\bar{L}^2}^{S_{\\chi}}$. Testing Data\")"
   ]
  },
  {
   "cell_type": "markdown",
   "id": "74aaf1fc",
   "metadata": {},
   "source": [
    "As can be seen the performance of the **PQC** trained using the $$R_{L^2, \\bar{L}^2}^{S_{\\chi}}$$ is better than the trained with the **MSE**:"
   ]
  },
  {
   "cell_type": "markdown",
   "id": "8bcc68d1",
   "metadata": {},
   "source": [
    "## 7 Comparison of all trainings\n",
    "\n",
    "We can compare the performance over all the trainings for the 2 different **loss functions**."
   ]
  },
  {
   "cell_type": "code",
   "execution_count": null,
   "id": "c846e370",
   "metadata": {},
   "outputs": [],
   "source": [
    "Predict_Train_mse = []\n",
    "Predict_Test_mse = []\n",
    "for i, w in mse[weigths_names].iterrows():\n",
    "    train_p, test_p = pqc_evaluation(\n",
    "        w, x_train, x_test, dask_client=dask_client, **input_dict\n",
    "    )\n",
    "    Predict_Train_mse.append(train_p)\n",
    "    Predict_Test_mse.append(test_p)"
   ]
  },
  {
   "cell_type": "markdown",
   "id": "5cfdc5c2",
   "metadata": {},
   "source": [
    "We want to evaluate the model in the complete domain so we are going to use the testing data."
   ]
  },
  {
   "cell_type": "code",
   "execution_count": null,
   "id": "391808e0",
   "metadata": {},
   "outputs": [],
   "source": [
    "final_mse = pd.DataFrame(Predict_Test_mse).T"
   ]
  },
  {
   "cell_type": "code",
   "execution_count": null,
   "id": "a3a2ae0f",
   "metadata": {},
   "outputs": [],
   "source": [
    "color = 'orange'\n",
    "plt.plot(x_test, y_test, '-')\n",
    "plt.plot(x_test, final_mse.mean(axis=1), '-')\n",
    "plt.fill_between(\n",
    "    x_test[:,0], \n",
    "    final_mse.quantile(q=0.25, axis=1), \n",
    "    final_mse.quantile(q=0.75, axis=1),\n",
    "    color = color, alpha=0.5)\n",
    "plt.legend([\"Testing Data\", \"Mean Prediction\"])\n",
    "plt.title(\"MSE Loss. Testing Data\")"
   ]
  },
  {
   "cell_type": "code",
   "execution_count": null,
   "id": "95f3ce8f",
   "metadata": {},
   "outputs": [],
   "source": [
    "Predict_Train_qdml = []\n",
    "Predict_Test_qdml = []\n",
    "for i, w in qdml[weigths_names].iterrows():\n",
    "    train_p, test_p = pqc_evaluation(\n",
    "        w, x_train, x_test, dask_client=dask_client, **input_dict\n",
    "    )\n",
    "    Predict_Train_qdml.append(train_p)\n",
    "    Predict_Test_qdml.append(test_p)"
   ]
  },
  {
   "cell_type": "code",
   "execution_count": null,
   "id": "208348fe",
   "metadata": {},
   "outputs": [],
   "source": [
    "# Plot Mean and Quartiles\n",
    "final_qdml = pd.DataFrame(Predict_Test_qdml).T\n",
    "color = 'orange'\n",
    "plt.plot(x_test, y_test, '-')\n",
    "plt.plot(x_test, final_qdml.mean(axis=1), '-')\n",
    "plt.fill_between(\n",
    "    x_test[:,0], \n",
    "    final_qdml.quantile(q=0.25, axis=1), \n",
    "    final_qdml.quantile(q=0.75, axis=1),\n",
    "    color = color, alpha=0.5)\n",
    "plt.legend([\"Testing Data\", \"Mean Prediction\"])\n",
    "plt.title(r\"$R_{L^2, \\bar{L}^2}^{S_{\\chi}}$. Testing Data\")"
   ]
  },
  {
   "attachments": {
    "image-2.png": {
     "image/png": "[encoded data removed]"
    }
   },
   "cell_type": "markdown",
   "id": "802ce508",
   "metadata": {},
   "source": [
    "Performance for **PQC** trained using **MSE**\n",
    "\n",
    "![image-2.png](attachment:image-2.png)"
   ]
  },
  {
   "attachments": {
    "image-2.png": {
     "image/png": "[encoded data removed]"
    }
   },
   "cell_type": "markdown",
   "id": "dc6a83f3",
   "metadata": {},
   "source": [
    "Performance for **PQC**s trained using $R_{L^2, \\bar{L}^2}^{S_{\\chi}}$ loss\n",
    "\n",
    "![image-2.png](attachment:image-2.png)\n",
    "\n",
    "As can be see, under the same training conditions **PQC**s trained using $R_{L^2, \\bar{L}^2}^{S_{\\chi}}$ has a better performance over the complete domain than the trained using **MSE**."
   ]
  }
 ],
 "metadata": {
  "kernelspec": {
   "display_name": "Python 3 (ipykernel)",
   "language": "python",
   "name": "python3"
  },
  "language_info": {
   "codemirror_mode": {
    "name": "ipython",
    "version": 3
   },
   "file_extension": ".py",
   "mimetype": "text/x-python",
   "name": "python",
   "nbconvert_exporter": "python",
   "pygments_lexer": "ipython3",
   "version": "3.9.9"
  }
 },
 "nbformat": 4,
 "nbformat_minor": 5
}
