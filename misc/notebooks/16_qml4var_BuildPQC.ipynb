{
 "cells": [
  {
   "cell_type": "markdown",
   "id": "cd65d6db",
   "metadata": {},
   "source": [
    "# Build the PQCs for CDF and PDF\n",
    "\n",
    "This notebook provides instructions for building the Parametric Quantum Circuits (**PQC**) for computing **CDF** and their corresponding **PDF**\n"
   ]
  },
  {
   "cell_type": "code",
   "execution_count": null,
   "id": "fdbb92b7",
   "metadata": {},
   "outputs": [],
   "source": [
    "import sys \n",
    "sys.path.append(\"../../\")\n",
    "import numpy as np\n",
    "import pandas as pd\n",
    "import matplotlib.pyplot as plt"
   ]
  },
  {
   "cell_type": "markdown",
   "id": "50ab96fc",
   "metadata": {},
   "source": [
    "## 1. PQC for computing CDFs\n",
    "\n",
    "\n",
    "The fundamental idea is to use a **PQC** as a surrogate model, denoted $F^*(\\textbf{x}, \\theta)$, to approximate a more complex and computationally expensive financial distribution $F(\\textbf{x})$. This surrogate model allows for efficient Value at Risk (VaR) computations.\n",
    "\n",
    "In this approach, the **PQC** is characterized by a unitary operator $U(\\textbf{x}, \\theta)$, where $\\textbf{x}$ represents the input features, and $\\theta$ are the trainable parameters. The evaluation of the CDF for a given input $\\textbf{x}$ is performed by measuring an observable $M$ after applying the parametric quantum circuit. Mathematically, the CDF approximation is given by:\n",
    "\n",
    "$$F^*(\\textbf{x})=\\langle{0}|U^{\\dagger}(\\textbf{x};\\theta )MU(\\textbf{x}; \\theta) |0\\rangle$$\n",
    "\n",
    "\n",
    "Under the module **QQuantLib.qml4var.architectures** several examples of **PQC** architectures and **Observables** were implemented into the **EVIDEN myqlm** software. In this notebook we review the two following functions from this module.\n",
    "\n",
    "* hardware_efficient_ansatz\n",
    "* z_observable\n",
    "\n",
    "\n",
    "\n",
    "\n"
   ]
  },
  {
   "cell_type": "markdown",
   "id": "6f4ab01d",
   "metadata": {},
   "source": [
    "### 1.1 hardware_efficient_ansatz\n",
    "\n",
    "\n",
    "The *hardware_efficient_ansatz* function from **QQuantLib.qml4var.architectures** module constructs a hardware-efficient ansatz **PQC**. The architecture consists of multiple layers, where each layer alternates between parametrized single-qubit rotations and controlled-NOT (CNOT) gates arranged in a ladder configuration. The rotation gates serve different purposes:\n",
    "\n",
    "* $R_X$ gates: These are used to encode the trainable weights ($\\theta$). \n",
    "* $R_Y$ gates: These are used to encode the input features ($\\textbf{x}$).\n",
    "\n",
    "The *hardware_efficient_ansatz* function receives a keyword arguments that allow configuring the **PQC**. Mandatory keys are:\n",
    "\n",
    "* features_number : number of input features.\n",
    "* n_qubits_by_feature : number of qubits used for encoding each possible feature.\n",
    "* n_layers : number of layers the ansatz will have.\n",
    "* base_frecuency : slope for feature normalization (applied to $R_Y$)\n",
    "* shift_feature : shift for feature normalization (applied to $R_Y$)\n",
    "\n",
    "The function returns:\n",
    "\n",
    "* QLM Program implementation of the desired **PQC**\n",
    "* weights_names : list with names used in the **PQC** for the weights\n",
    "* features_names : list with names used in the **PQC** for the features."
   ]
  },
  {
   "cell_type": "code",
   "execution_count": null,
   "id": "2ceb7389",
   "metadata": {},
   "outputs": [],
   "source": [
    "from QQuantLib.qml4var.architectures import hardware_efficient_ansatz"
   ]
  },
  {
   "cell_type": "code",
   "execution_count": null,
   "id": "42f435c4",
   "metadata": {},
   "outputs": [],
   "source": [
    "pqc_cfg = {\n",
    "    \"features_number\" : 1,\n",
    "    \"n_qubits_by_feature\" : 2,\n",
    "    \"n_layers\": 2    \n",
    "}\n",
    "pqc_cfg.update({\n",
    "    \"base_frecuency\" : [1.0] * pqc_cfg[\"features_number\"],\n",
    "    \"shift_feature\" : [0.0] * pqc_cfg[\"features_number\"],\n",
    "})\n"
   ]
  },
  {
   "cell_type": "code",
   "execution_count": null,
   "id": "e60ece96",
   "metadata": {},
   "outputs": [],
   "source": [
    "pqc, weights_names, features_names = hardware_efficient_ansatz(**pqc_cfg)"
   ]
  },
  {
   "cell_type": "code",
   "execution_count": null,
   "id": "478d6a3f",
   "metadata": {},
   "outputs": [],
   "source": [
    "# plot PQC\n",
    "circuit = pqc.to_circ()\n",
    "circuit.display()"
   ]
  },
  {
   "cell_type": "markdown",
   "id": "a5400deb",
   "metadata": {},
   "source": [
    "As can be seen in the circuit of the Figure, the parametric gates of the **PQC** have well-defined names depending if the parameter is a trainable weight (*weights* strings like) or an input feature (*feature* strings like).\n",
    "\n",
    "**BE AWARE**\n",
    "The user can build its own **PQC** architectures but always has to differentiate what of the **PQC** parameters are trainable weights and what are input features. Additionally, two different Python lists should be generated: a list with the name of the weights (*weights_names* variable) and another with the name of the input features (*features_names*)"
   ]
  },
  {
   "cell_type": "code",
   "execution_count": null,
   "id": "0ff10a86",
   "metadata": {},
   "outputs": [],
   "source": [
    "#Names of the PQC parameters related to trainable weights\n",
    "print(weights_names)\n",
    "#Names of the PQC parameters related to input features\n",
    "print(features_names)"
   ]
  },
  {
   "cell_type": "markdown",
   "id": "6a4ff725",
   "metadata": {},
   "source": [
    "#### base_frecuency and shift_feature keywords\n",
    "\n",
    "To have a better trainable **PQC** it is useful to normalize the features. This can be done by providing to the *hardware_efficient_ansatz* the *base_frecuency* and the *shift_feature* arguments. The value provided to the gate that implements the feature encoding will be then:\n",
    "\n",
    "$$base\\_frecuency * feature + shift\\_feature$$\n",
    "\n",
    "To compute the *base_frecuency* and the *shift_feature* the *normalize_data* function from the **QQuantLib.qml4var.architectures** module can be used. The inputs of this function are:\n",
    "\n",
    "* min_value: list with minimum values that the features can take.\n",
    "* max_value: list with maximum values that the features can take.\n",
    "* min_x: list with the values of the feature encoding gate corresponding to the minimum values of the features.\n",
    "* max_x: list with the values of the feature encoding gate corresponding to the minimum values of the features."
   ]
  },
  {
   "cell_type": "code",
   "execution_count": null,
   "id": "b785a8f4",
   "metadata": {},
   "outputs": [],
   "source": [
    "from QQuantLib.qml4var.architectures import normalize_data"
   ]
  },
  {
   "cell_type": "code",
   "execution_count": null,
   "id": "068baa4b",
   "metadata": {},
   "outputs": [],
   "source": [
    "# In this case:\n",
    "# min-> -0.5 pi\n",
    "minval =0.1\n",
    "# max-> 0.5 pi\n",
    "maxval = 3.0\n",
    "base_frecuency, shift_feature = normalize_data(\n",
    "    [minval] * pqc_cfg[\"features_number\"],\n",
    "    [maxval] * pqc_cfg[\"features_number\"],\n",
    "    [-0.5*np.pi] * pqc_cfg[\"features_number\"],\n",
    "    [0.5*np.pi] * pqc_cfg[\"features_number\"]   \n",
    ")"
   ]
  },
  {
   "cell_type": "code",
   "execution_count": null,
   "id": "79216e27",
   "metadata": {},
   "outputs": [],
   "source": [
    "# Update with the normalization info\n",
    "pqc_cfg.update({\n",
    "    \"base_frecuency\" : base_frecuency,\n",
    "    \"shift_feature\" : shift_feature    \n",
    "})   \n",
    "print(pqc_cfg)"
   ]
  },
  {
   "cell_type": "code",
   "execution_count": null,
   "id": "9f92a87d",
   "metadata": {},
   "outputs": [],
   "source": [
    "pqc, weights_names, features_names = hardware_efficient_ansatz(**pqc_cfg)"
   ]
  },
  {
   "cell_type": "code",
   "execution_count": null,
   "id": "9006ff73",
   "metadata": {},
   "outputs": [],
   "source": [
    "# plot PQC\n",
    "circuit = pqc.to_circ()\n",
    "circuit.display()"
   ]
  },
  {
   "cell_type": "markdown",
   "id": "de5709d6",
   "metadata": {},
   "source": [
    "### 1.2 The Observable\n",
    "\n",
    "Once we have defined the **PQC** we need to build the desired observable to compute. This can be with the *z_observable* from *architectures*. In this case, we create a $Z$ measurment for all the qubits of the **PQC**. The function need as arguments:\n",
    "\n",
    "* features_number\n",
    "* n_qubits_by_feature\n",
    "\n",
    "that will be used for computing the total number of qubits of the **PQC**. The same keywords that can be provided to *hardware_efficient_ansatz* can be provided to the *z_observable*\n",
    "\n",
    "The user can define their own observables but should be passed the total number of qubits of the **PQC**"
   ]
  },
  {
   "cell_type": "code",
   "execution_count": null,
   "id": "9fc93880",
   "metadata": {},
   "outputs": [],
   "source": [
    "from QQuantLib.qml4var.architectures import z_observable"
   ]
  },
  {
   "cell_type": "code",
   "execution_count": null,
   "id": "c923df9f",
   "metadata": {},
   "outputs": [],
   "source": [
    "observable = z_observable(**pqc_cfg)"
   ]
  },
  {
   "cell_type": "code",
   "execution_count": null,
   "id": "d751d10e",
   "metadata": {},
   "outputs": [],
   "source": [
    "observable"
   ]
  },
  {
   "cell_type": "markdown",
   "id": "f8ff242f",
   "metadata": {},
   "source": [
    "## 2. Computing the PDF.\n",
    "\n",
    "In addition to a **PQC** for computing the **CDF** ($F^*(\\textbf{x}, \\theta)$), our training workflow will need to compute the corresponding **PDF** of the **CDF**: \n",
    "\n",
    "$$f^*(\\textbf{x}, \\theta) = \\frac{\\partial^m F^*(\\textbf{x}, \\theta)}{\\partial x_{m-1} \\cdots \\partial x_1 \\partial x_0}$$\n",
    "\n",
    "To compute these derivatives for an input **PQC** the parameter shift rule should be applied to the **features** parameters consecutively (so first we apply the parameter shift rule to the the first *feature* parameter obtaining several circuits. Over each obtained circuit we need to apply the parameter shift rule to the second *feature* parameter and so on). \n",
    "\n",
    "The *compute_pdf_from_pqc* function from **QQuantLib.qml4var.architectures** builds all these mandatory circuits for a given **PQC** and the desired parameter features.\n",
    "\n",
    "This function needs:\n",
    "\n",
    "* batch: QLM Batch. A batch with the job with the **PQC** and the **Observable**.\n",
    "* parameters: list with the names of the *features* parameters of the **PQC** for obtaining the derivatives.\n",
    "\n",
    "The functions returns a QLM Batch with all the jobs with quantum circuits mandatory for computing the **PDF**. \n",
    "\n",
    "**BE AWARE**\n",
    "\n",
    "The jobs of the returned Batch computes directly the expected value with the corresponding multiplicative factors. So for a fixed input and weights, the user only needs to sum up all the values returned for each executed job for computing the corresponding **PDF** evaluation."
   ]
  },
  {
   "cell_type": "code",
   "execution_count": null,
   "id": "294df521",
   "metadata": {},
   "outputs": [],
   "source": [
    "from QQuantLib.qml4var.architectures import compute_pdf_from_pqc\n",
    "from qat.core import Batch"
   ]
  },
  {
   "cell_type": "code",
   "execution_count": null,
   "id": "3f58d41e",
   "metadata": {},
   "outputs": [],
   "source": [
    "# Generate the Batch\n",
    "job = Batch([pqc.to_circ().to_job(observable=observable)])"
   ]
  },
  {
   "cell_type": "code",
   "execution_count": null,
   "id": "86d00afe",
   "metadata": {},
   "outputs": [],
   "source": [
    "# Build the jobs for computing the PDF\n",
    "pdf_jobs = compute_pdf_from_pqc(job, features_names)"
   ]
  },
  {
   "cell_type": "code",
   "execution_count": null,
   "id": "c366a64c",
   "metadata": {},
   "outputs": [],
   "source": [
    "# Obtained Circuit\n",
    "for job in pdf_jobs:\n",
    "    job.circuit().display()"
   ]
  }
 ],
 "metadata": {
  "kernelspec": {
   "display_name": "Python 3 (ipykernel)",
   "language": "python",
   "name": "python3"
  },
  "language_info": {
   "codemirror_mode": {
    "name": "ipython",
    "version": 3
   },
   "file_extension": ".py",
   "mimetype": "text/x-python",
   "name": "python",
   "nbconvert_exporter": "python",
   "pygments_lexer": "ipython3",
   "version": "3.12.7"
  }
 },
 "nbformat": 4,
 "nbformat_minor": 5
}
