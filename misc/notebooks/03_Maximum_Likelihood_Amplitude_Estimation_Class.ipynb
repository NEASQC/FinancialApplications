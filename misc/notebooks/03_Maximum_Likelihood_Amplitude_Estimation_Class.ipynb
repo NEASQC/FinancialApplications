{
 "cells": [
  {
   "cell_type": "markdown",
   "id": "7a9496d2",
   "metadata": {},
   "source": [
    "# Maximum Likelihood Amplitude Estimation (MLAE) module"
   ]
  },
  {
   "cell_type": "markdown",
   "id": "0dd1e8c8",
   "metadata": {},
   "source": [
    "The present notebook provides an overview of the **Maximum Likelihood Amplitude Estimation (MLAE)** algorithm, which has been implemented in the `maximum_likelihood_ae` module of the **AE** package within the *QQuantLib* library (**QQuantLib/AE/maximum_likelihood_ae.py**). \n",
    "\n",
    "Within this module, the **MLAE** algorithm is encapsulated as a Python class, allowing for modular and reusable implementation. This approach facilitates its integration into larger quantum computing workflows and applications.\n",
    "\n",
    "The content of this notebook and the associated module are based on the following references:\n",
    "\n",
    "- **Suzuki, Y., Uno, S., Raymond, R., Tanaka, T., Onodera, T., & Yamamoto, N.**  \n",
    "  *Amplitude Estimation without Phase Estimation.*  \n",
    "  Quantum Information Processing, 19(2), 2020.  \n",
    "  [https://arxiv.org/abs/1904.10246](https://arxiv.org/abs/1904.10246)\n",
    "\n",
    "- **NEASQC Deliverable: D5.1**  \n",
    "  *Review of State-of-the-Art for Pricing and Computation of VaR.*  \n",
    "  [https://www.neasqc.eu/wp-content/uploads/2021/06/NEASQC_D5.1_Review-of-state-of-the-art-for-Pricing-and-Computation-of-VaR_R2.0_Final.pdf](https://www.neasqc.eu/wp-content/uploads/2021/06/NEASQC_D5.1_Review-of-state-of-the-art-for-Pricing-and-Computation-of-VaR_R2.0_Final.pdf)"
   ]
  },
  {
   "cell_type": "code",
   "execution_count": null,
   "id": "404b8ec1",
   "metadata": {},
   "outputs": [],
   "source": [
    "import sys\n",
    "sys.path.append(\"../../\")"
   ]
  },
  {
   "cell_type": "code",
   "execution_count": null,
   "id": "490d094b",
   "metadata": {},
   "outputs": [],
   "source": [
    "import numpy as np\n",
    "import pandas as pd\n",
    "import matplotlib.pyplot as plt\n",
    "import qat.lang.AQASM as qlm"
   ]
  },
  {
   "cell_type": "code",
   "execution_count": null,
   "id": "21276b3d",
   "metadata": {},
   "outputs": [],
   "source": [
    "%matplotlib inline"
   ]
  },
  {
   "cell_type": "code",
   "execution_count": null,
   "id": "34403ec1",
   "metadata": {},
   "outputs": [],
   "source": [
    "#This cell loads the QLM solver. See notebook: 00_AboutTheNotebooksAndQPUs.ipynb\n",
    "from QQuantLib.qpu.get_qpu import get_qpu\n",
    "# myqlm qpus: python, c\n",
    "# QLM qpus accessed using Qaptiva Access library: qlmass_linalg, qlmass_mps\n",
    "# QLM qpus: Only in local Quantum Learning Machine: linalg, mps\n",
    "my_qpus = [\"python\", \"c\", \"qlmass_linalg\", \"qlmass_mps\", \"linalg\", \"mps\"]\n",
    "\n",
    "linalg_qpu = get_qpu(my_qpus[1])"
   ]
  },
  {
   "cell_type": "code",
   "execution_count": null,
   "id": "3453cf5d",
   "metadata": {},
   "outputs": [],
   "source": [
    "#See 01_DataLoading_Module_Use for the use of this function\n",
    "from QQuantLib.utils.data_extracting import get_results"
   ]
  },
  {
   "cell_type": "code",
   "execution_count": null,
   "id": "ad0cca52",
   "metadata": {},
   "outputs": [],
   "source": [
    "#For transform bits to int\n",
    "from QQuantLib.utils.utils import bitfield_to_int"
   ]
  },
  {
   "cell_type": "markdown",
   "id": "55146c4c",
   "metadata": {},
   "source": [
    "## 1. Oracle generation"
   ]
  },
  {
   "cell_type": "markdown",
   "id": "71279f09",
   "metadata": {},
   "source": [
    "Before performing any amplitude estimation, we first need to load data into the quantum circuit. As this step is auxiliary and intended to demonstrate how the algorithm works, we will simply load a discrete probability distribution. \n",
    "\n",
    "In this example, we will use a quantum circuit with $ n = 3 $ qubits, which corresponds to a total of $ N = 2^n = 8 $ computational basis states. The discrete probability distribution we aim to load is defined as:\n",
    "\n",
    "$$\n",
    "p_d = \\frac{(0, 1, 2, 3, 4, 5, 6, 7)}{0 + 1 + 2 + 3 + 4 + 5 + 6 + 7}.\n",
    "$$\n",
    "\n",
    "This distribution assigns probabilities proportional to the integers $ 0 $ through $ 7 $, normalized by their sum to ensure that the total probability equals 1."
   ]
  },
  {
   "cell_type": "code",
   "execution_count": null,
   "id": "d0b21bcf",
   "metadata": {},
   "outputs": [],
   "source": [
    "n = 3\n",
    "N = 2**n\n",
    "x = np.arange(N)\n",
    "probability = x/np.sum(x)"
   ]
  },
  {
   "cell_type": "markdown",
   "id": "716492db",
   "metadata": {},
   "source": [
    "Note that this probability distribution is properly normalised. For loading this probability into the quantum circuit we will use the function `load_probability` from **QQuantLib/DL/data_loading** module. The state that we are going to get is:\n",
    "    $$|\\Psi\\rangle = \\scriptstyle \\dfrac{1}{\\sqrt{0+1+2+3+4+5+6+7+8}}\\left[\\sqrt{0}|0\\rangle+\\sqrt{1}|1\\rangle+\\sqrt{2}|2\\rangle+\\sqrt{3}|3\\rangle+\\sqrt{4}|4\\rangle+\\sqrt{5}|5\\rangle+\\sqrt{6}|6\\rangle+\\sqrt{7}|7\\rangle\\right].$$"
   ]
  },
  {
   "cell_type": "code",
   "execution_count": null,
   "id": "b05056d1",
   "metadata": {},
   "outputs": [],
   "source": [
    "from QQuantLib.DL.data_loading import load_probability"
   ]
  },
  {
   "cell_type": "code",
   "execution_count": null,
   "id": "aab2e90d",
   "metadata": {},
   "outputs": [],
   "source": [
    "oracle = load_probability(probability)"
   ]
  },
  {
   "cell_type": "code",
   "execution_count": null,
   "id": "a29bce05",
   "metadata": {},
   "outputs": [],
   "source": [
    "%qatdisplay oracle --svg"
   ]
  },
  {
   "cell_type": "markdown",
   "id": "08b1fdf8",
   "metadata": {},
   "source": [
    "For more information about loading data into the quantum circuit see the notebook *01_DataLoading_Module_Use*."
   ]
  },
  {
   "cell_type": "markdown",
   "id": "a08e43a5",
   "metadata": {},
   "source": [
    "## 2. MLAE algorithm step by step."
   ]
  },
  {
   "cell_type": "markdown",
   "id": "d0f8dff6",
   "metadata": {},
   "source": [
    "The problem of amplitude estimation can be formulated as follows. Given an oracle operator $\\mathcal{A}$, we have:\n",
    "\n",
    "$$\n",
    "\\mathcal{A}|0\\rangle = |\\Psi\\rangle = \\sqrt{a}|\\Psi_0\\rangle + \\sqrt{1-a}|\\Psi_1\\rangle,\n",
    "$$\n",
    "\n",
    "where $|\\Psi_0\\rangle$ and $|\\Psi_1\\rangle$ are orthogonal states. The goal is to estimate the value of $\\sqrt{a}$. To simplify the problem, we associate an angle $\\theta$ with $\\sqrt{a}$ such that $\\sin^2{\\theta} = a$. Consequently, the state $|\\Psi\\rangle$ can be rewritten as:\n",
    "\n",
    "$$\n",
    "\\mathcal{A}|0\\rangle = |\\Psi\\rangle = \\sin(\\theta)|\\Psi_0\\rangle + \\cos(\\theta)|\\Psi_1\\rangle. \\tag{1}\n",
    "$$\n",
    "\n",
    "We have implemented a Python class named `MLAE` in the **QQuantLib/AE/maximum_likelihood_ae** module, which provides tools to implement the **MLAE** algorithm. In this section, we will describe the structure of the class step by step and provide an overview of the fundamental principles behind the **MLAE** algorithm."
   ]
  },
  {
   "cell_type": "code",
   "execution_count": null,
   "id": "94fc7b24",
   "metadata": {},
   "outputs": [],
   "source": [
    "#import the class\n",
    "from QQuantLib.AE.maximum_likelihood_ae import MLAE"
   ]
  },
  {
   "cell_type": "markdown",
   "id": "7d4d68ff",
   "metadata": {},
   "source": [
    "To create an object from the **MLAE** class, the following mandatory arguments must be provided:\n",
    "\n",
    "1. `oracle`: A QLM `AbstractGate` or `QRoutine` that implements the oracle required for constructing the Grover operator.\n",
    "2. `target`: The marked state in its binary representation, specified as a Python list.\n",
    "3. `index`: A list of qubits that will be affected by the Grover operator.\n",
    "\n",
    "The `MLAE` class internally creates the Grover operator using the `grover` function from the module **QQuantLib/AA/amplitude_amplification**. Consequently, the arguments required for the `MLAE` class are similar to those of the `grover` function (for a detailed explanation, see the notebook **02_AmplitudeAmplification_Operators.ipynb**).\n",
    "\n",
    "Additionally, an optional dictionary can be provided to configure the algorithm further. The keys for this dictionary include:\n",
    "\n",
    "- `qpu`: Specifies the QLM solver to be used. If not provided, the default solver will be used.\n",
    "- `delta`: A float value to set the tolerance threshold for avoiding division-by-zero warnings during computations.\n",
    "- `optimizer`: The optimizer to be used for solving the optimization problem within the MLAE algorithm (see below for more details).\n",
    "- `schedule`: A scheduler that determines how the Grover operator is applied throughout the MLAE algorithm (see below for more details).\n",
    "- `mcz_qlm`: A boolean flag indicating whether to use the QLM multi-controlled Z gate (`True`, default) or the multiplexor-based implementation (`False`).\n",
    "\n",
    "These configurations allow for fine-tuning the behavior of the MLAE algorithm to suit specific use cases and computational environments."
   ]
  },
  {
   "cell_type": "markdown",
   "id": "f8722ea5",
   "metadata": {},
   "source": [
    "### 2.1 Creating object from MLAE class"
   ]
  },
  {
   "cell_type": "markdown",
   "id": "28b25b73",
   "metadata": {},
   "source": [
    "To demonstrate how the **MLAE** class and the algorithm work, we will define the following amplitude estimation problem:\n",
    "\n",
    "$$\n",
    "|\\Psi\\rangle = \\mathcal{A}|0\\rangle = \\frac{1}{\\sqrt{0+1+2+3+4+5+6+7+8}} \\left[ \\sqrt{0}|0\\rangle + \\sqrt{1}|1\\rangle + \\sqrt{2}|2\\rangle + \\sqrt{3}|3\\rangle + \\sqrt{4}|4\\rangle + \\sqrt{5}|5\\rangle + \\sqrt{6}|6\\rangle + \\sqrt{7}|7\\rangle \\right]. \\tag{2}\n",
    "$$\n",
    "\n",
    "By comparing equation (2) with equation (1):\n",
    "\n",
    "$$\n",
    "\\sin(\\theta)|\\Psi_0\\rangle = \\frac{\\sqrt{1}}{\\sqrt{0+1+2+3+4+5+6+7+8}} |1\\rangle,\n",
    "$$\n",
    "\n",
    "and\n",
    "\n",
    "$$\n",
    "\\cos(\\theta)|\\Psi_1\\rangle = \\frac{1}{\\sqrt{0+1+2+3+4+5+6+7+8}} \\left[ \\sqrt{0}|0\\rangle + \\sqrt{2}|2\\rangle + \\sqrt{3}|3\\rangle + \\sqrt{4}|4\\rangle + \\sqrt{5}|5\\rangle + \\sqrt{6}|6\\rangle + \\sqrt{7}|7\\rangle \\right].\n",
    "$$\n",
    "\n",
    "In this example, the target state is $ |1\\rangle $, whose binary representation is $ [0, 0, 1] $. This binary representation must be passed as a list to the `target` variable. Additionally, we need to specify the list of qubits on which the Grover operator will act. In this case, it is the entire register: $ [0, 1, 2] $.\n",
    "\n",
    "Thus, the mandatory arguments for creating an instance of the **MLAE** class are:\n",
    "- `oracle`: A QLM `AbstractGate` or `QRoutine` that implements the oracle.\n",
    "- `target`: `[0, 0, 1]` (binary representation of the target state $ |1\\rangle $).\n",
    "- `index`: `[0, 1, 2]` (list of qubits affected by the Grover operator).\n",
    "\n",
    "Furthermore, we will provide the QLM solver via the `qpu` key in an input Python dictionary to configure the algorithm."
   ]
  },
  {
   "cell_type": "code",
   "execution_count": null,
   "id": "b69dc476",
   "metadata": {},
   "outputs": [],
   "source": [
    "mlae_dict = {\n",
    "    'qpu': linalg_qpu,\n",
    "    'mcz_qlm': True\n",
    "}\n",
    "target = [0,0,1]\n",
    "index = [0,1,2]\n",
    "mlae = MLAE(\n",
    "    oracle,\n",
    "    target = target,\n",
    "    index = index, \n",
    "    **mlae_dict\n",
    ")"
   ]
  },
  {
   "cell_type": "markdown",
   "id": "f72b5b48",
   "metadata": {},
   "source": [
    "### 2.2 Application of the grover operator"
   ]
  },
  {
   "cell_type": "markdown",
   "id": "9a2a5c94",
   "metadata": {},
   "source": [
    "The foundation of any amplitude estimation algorithm lies in the Grover-like operator $\\mathcal{Q}$, which is constructed from the oracle operator $\\mathcal{A}$ as follows:\n",
    "\n",
    "$$\n",
    "\\mathcal{Q}(\\mathcal{A}) = \\mathcal{A} \\left(\\hat{I} - 2|0\\rangle\\langle 0|\\right) \\mathcal{A}^\\dagger \\left(\\hat{I} - 2|\\Psi_0\\rangle\\langle \\Psi_0|\\right).\n",
    "$$\n",
    "\n",
    "This operator has a specific effect on the state $|\\Psi\\rangle$, which can be expressed as:\n",
    "\n",
    "$$\n",
    "\\mathcal{Q}^{m_k} |\\Psi\\rangle = \\mathcal{Q}^{m_k} \\mathcal{A} |0\\rangle = \\sin\\left((2m_k + 1)\\theta\\right)|\\Psi_0\\rangle + \\cos\\left((2m_k + 1)\\theta\\right)|\\Psi_1\\rangle,\n",
    "$$\n",
    "\n",
    "where $m_k$ represents the number of times the Grover-like operator is applied. For a deeper understanding of the Grover operator and the amplitude amplification algorithm, refer to the notebook **02_AmplitudeAmplification_Operators.ipynb**.\n",
    "\n",
    "The process of generating the corresponding Grover operator is handled automatically within the **MLAE** class when an instance is created. To observe the Grover operator in action, you can use the method `run_step` of the class. The inputs for this method are:\n",
    "\n",
    "- `m_k`: The number of times the Grover-like operator will be applied.\n",
    "- `n_k`: The number of measurement shots.\n",
    "\n",
    "The method returns:\n",
    "\n",
    "- `h_k`: The number of positive outcomes (i.e., the number of times the target state $|\\Psi_0\\rangle$ is measured).\n",
    "\n",
    "This functionality allows for the iterative application of the Grover operator, enabling the estimation of the desired amplitude through repeated measurements and statistical analysis."
   ]
  },
  {
   "cell_type": "code",
   "execution_count": null,
   "id": "b8c07891",
   "metadata": {},
   "outputs": [],
   "source": [
    "m_k = 3\n",
    "n_k = 100\n",
    "h_k, circuit = mlae.run_step(m_k,n_k)\n",
    "print('h_k: '+str(h_k))"
   ]
  },
  {
   "cell_type": "code",
   "execution_count": null,
   "id": "39910dd0",
   "metadata": {},
   "outputs": [],
   "source": [
    "%qatdisplay circuit --depth 0 --svg"
   ]
  },
  {
   "cell_type": "markdown",
   "id": "1dfc0347",
   "metadata": {},
   "source": [
    "From the number of positive outcomes, it is straightforward to estimate the probability of obtaining the state $ |1\\rangle $ (the positive outcome):\n",
    "\n",
    "$$\n",
    "\\sin^2\\left((2m_k + 1)\\hat{\\theta}\\right) = \\frac{h_k}{n_k} = \\hat{p}(|\\Psi_0\\rangle) \\approx p(|\\Psi_0\\rangle).\n",
    "$$\n",
    "\n",
    "Here, we use the $\\hat{}$ notation to distinguish between estimated values ($\\hat{\\theta}$, $\\hat{p}(|\\Psi_0\\rangle)$) and their true counterparts ($\\theta$, $p(|\\Psi_0\\rangle)$).\n",
    "\n",
    "Thus, we obtain an initial estimation of our target amplitude:"
   ]
  },
  {
   "cell_type": "code",
   "execution_count": null,
   "id": "bbf223cb",
   "metadata": {},
   "outputs": [],
   "source": [
    "angle_estimation = np.arcsin(np.sqrt(h_k/n_k))/(2*m_k+1)\n",
    "estimation = np.sin(angle_estimation)**2"
   ]
  },
  {
   "cell_type": "code",
   "execution_count": null,
   "id": "5f997262",
   "metadata": {},
   "outputs": [],
   "source": [
    "print(\"First estimation: \",estimation)\n",
    "print(\"Exact probability: \",probability[bitfield_to_int(target)])"
   ]
  },
  {
   "cell_type": "markdown",
   "id": "b6eab0ff",
   "metadata": {},
   "source": [
    "The question now is, ¿how can we consistently improve this result?"
   ]
  },
  {
   "cell_type": "markdown",
   "id": "19f558c2",
   "metadata": {},
   "source": [
    "### 2.3 The Likelihood"
   ]
  },
  {
   "cell_type": "markdown",
   "id": "cd958155",
   "metadata": {},
   "source": [
    "To enhance our results, we will conduct multiple experiments and combine their information into a single, more accurate result. This process relies on the concept of **likelihood**. But first, what exactly is likelihood?\n",
    "\n",
    "In general, the **likelihood** $ L(a|b) $ represents the probability of observing $ b $ given $ a $. Mathematically, this can be expressed as:\n",
    "$$\n",
    "L(a|b) = p(b|a).\n",
    "$$\n",
    "\n",
    "In our specific case, given the result of an experiment $ h_k $, we are interested in determining the probability that a particular angle $ \\theta $ generated this result:\n",
    "$$\n",
    "p(\\theta|h_k).\n",
    "$$\n",
    "\n",
    "From all possible values of $ \\theta $, we propose the one with the highest probability as our solution. However, computing $ p(\\theta|h_k) $ directly is not straightforward. Instead, we compute $ p(h_k|\\theta) $, which is proportional to $ p(\\theta|h_k) $ by Bayes' theorem. The associated likelihood is defined as:\n",
    "$$\n",
    "L(\\theta|h_k) = p(h_k|\\theta).\n",
    "$$\n",
    "\n",
    "The value of this likelihood is given by:\n",
    "$$\n",
    "L(\\theta|h_k) = \\sin^2\\left((2m_k + 1)\\theta\\right)^{h_k} \\cos^2\\left((2m_k + 1)\\theta\\right)^{n_k - h_k}.\n",
    "$$\n",
    "\n",
    "This formula arises because each measurement is independent, the probability of obtaining the state $ |1\\rangle $ is $ \\sin^2\\left((2m_k + 1)\\theta\\right) $, and the probability of obtaining the state $ |0\\rangle $ is $ \\cos^2\\left((2m_k + 1)\\theta\\right) $.\n",
    "\n",
    "To compute the likelihood for a given experiment, you can use the function `likelihood`. The inputs for this function are:\n",
    "- `angle`: The angle $ \\theta $ for which the likelihood is being computed.\n",
    "- `m_k`: The number of times the Grover-like operator is applied.\n",
    "- `n_k`: The total number of measurement shots.\n",
    "- `h_k`: The number of positive outcomes (i.e., the number of times the target state $ |1\\rangle $ is measured).\n",
    "\n",
    "The function returns:\n",
    "- `l_k`: The likelihood of the given angle $ \\theta $."
   ]
  },
  {
   "cell_type": "code",
   "execution_count": null,
   "id": "10ea1d3a",
   "metadata": {},
   "outputs": [],
   "source": [
    "print('m_k: '+str(m_k)+' n_k: '+str(n_k)+' h_k: '+str(h_k))\n",
    "theta = np.linspace(0+mlae.delta,np.pi/2-mlae.delta,100)\n",
    "l_k = np.zeros(len(theta))\n",
    "for i in range(len(theta)):\n",
    "    l_k[i] = mlae.likelihood(theta[i],m_k,n_k,h_k)"
   ]
  },
  {
   "cell_type": "code",
   "execution_count": null,
   "id": "4a659270",
   "metadata": {},
   "outputs": [],
   "source": [
    "plt.plot(theta,l_k, '-', label = r\"$L(\\theta|h_k)$\")\n",
    "plt.axvline(angle_estimation,color = 'r', label = r\"$\\hat{\\theta}$\")\n",
    "plt.xlabel(r'$\\theta$')\n",
    "plt.ylabel('Likelihood')\n",
    "plt.grid()\n",
    "plt.legend()"
   ]
  },
  {
   "cell_type": "markdown",
   "id": "07304759",
   "metadata": {},
   "source": [
    "In blue is depicted the likelihood function for different values of $\\theta$. In red we have the estimation we made in the previous section."
   ]
  },
  {
   "cell_type": "markdown",
   "id": "c18f68db",
   "metadata": {},
   "source": [
    "### 2.4 The Cost Function "
   ]
  },
  {
   "cell_type": "markdown",
   "id": "727295ec",
   "metadata": {},
   "source": [
    "As we observed in the previous graph, multiple values of $ \\theta $ can maximize the likelihood function. However, by combining information from different experiments $(m_k, h_k)$, we can achieve more accurate estimations.\n",
    "\n",
    "To achieve this, we define a **combined likelihood** as follows:\n",
    "\n",
    "$$\n",
    "L(\\theta, \\mathbf{h}) = \\prod_{k=0}^M l_k(\\theta, h_k),\n",
    "$$\n",
    "\n",
    "where:\n",
    "$$\n",
    "\\mathbf{h} = (h_0, h_1, \\dots, h_M).\n",
    "$$\n",
    "\n",
    "Rather than directly solving the maximization problem, we reformulate it as an equivalent minimization problem by introducing the **cost function** $ C(\\theta) $, which is defined as:\n",
    "\n",
    "$$\n",
    "C(\\theta) = -\\log\\left(L(\\theta, \\mathbf{h})\\right).\n",
    "$$\n",
    "\n",
    "The process for computing the **cost function** involves the following steps:\n",
    "\n",
    "1. **Selecting the schedule of experiments**:\n",
    "   - First, we need to define the set of experiments $(m_k, h_k)$ using a **schedule**, which is a Python list containing two elements:\n",
    "     - **1st element**: A list specifying the number of applications of the Grover operator, e.g., $ m_k = [1, 2, 3, 5, 7] $.\n",
    "     - **2nd element**: A list specifying the number of measurement shots for each corresponding value in $ m_k $, e.g., $ n_k = [100, 200, 50, 50, 100] $.\n",
    "   - For example, the schedule would be:\n",
    "     $$\n",
    "     \\text{schedule} = [m_k, n_k] = [[1, 2, 3, 5, 7], [100, 200, 50, 50, 100]].\n",
    "     $$\n",
    "\n",
    "2. **Running the experiments**:\n",
    "   - For each pair $(m_k, n_k)$ in the schedule, execute the `run_step` method to obtain the corresponding number of positive outcomes $ h_k $. This step is automated by the `run_schedule` method of the class.\n",
    "\n",
    "3. **Computing the cost function**:\n",
    "   - Using the results $(m_k, n_k, h_k)$ obtained from the experiments, compute the total cost function for different values of $ \\theta \\in [0, \\frac{\\pi}{2}] $ using the `cost_function` static method.\n",
    "\n",
    "This approach allows us to systematically evaluate and minimize the cost function, leading to a more precise estimation of the target amplitude."
   ]
  },
  {
   "cell_type": "markdown",
   "id": "893d6450",
   "metadata": {},
   "source": [
    "#### 2.4.1 Configure the Schedule"
   ]
  },
  {
   "cell_type": "markdown",
   "id": "3ff0898c",
   "metadata": {},
   "source": [
    "As we mentioned earlier, our goal is to combine information from multiple experiments to improve the accuracy of our amplitude estimation. Each experiment can be characterized by two key parameters: \n",
    "\n",
    "1. **$m_k$**: The number of applications of the Grover oracle.\n",
    "2. **$n_k$**: The number of measurement shots.\n",
    "\n",
    "A collection of these pairs $(m_k, n_k)$ is referred to as a **schedule**. The schedule provides a structured way to define and organize the sequence of experiments.\n",
    "\n",
    "When creating an instance of the **MLAE** class, the schedule can be specified using the keyword argument `schedule`. This allows the algorithm to systematically execute the defined sequence of experiments and combine their results for more precise estimations."
   ]
  },
  {
   "cell_type": "code",
   "execution_count": null,
   "id": "834415a3",
   "metadata": {},
   "outputs": [],
   "source": [
    "m_k = [0,1,2,4,8,16]\n",
    "n_k = [10]*len(m_k)\n",
    "schedule = [m_k,n_k]\n",
    "\n",
    "target = [0,0,1]\n",
    "index = [0,1,2]\n",
    "\n",
    "#Schedule not provide\n",
    "mlae_dict = {\n",
    "    'qpu': linalg_qpu,\n",
    "    'schedule': schedule,\n",
    "    'mcz_qlm': True    \n",
    "}\n",
    "mlae = MLAE(\n",
    "    oracle,\n",
    "    target = target,\n",
    "    index = index, \n",
    "    **mlae_dict\n",
    ")\n",
    "\n",
    "print('Schedule: \\n', mlae.schedule)\n"
   ]
  },
  {
   "cell_type": "markdown",
   "id": "a7426174",
   "metadata": {},
   "source": [
    "We don't need to define the schedule at initialization. In this case following default schedule will be loaded:\n",
    "\n",
    "* $m_k$ = [0, 1, 2, 3, 4, 5, 6, 7, 8, 9]\n",
    "* $n_k$ = [100, 100, 100, 100, 100, 100, 100, 100, 100, 100]\n",
    "\n",
    "Additionally, we can define the schedule after initialization by simply assigning an attribute schedule to the schedule we want"
   ]
  },
  {
   "cell_type": "code",
   "execution_count": null,
   "id": "8bccb701",
   "metadata": {},
   "outputs": [],
   "source": [
    "#Schedule not provide\n",
    "mlae_dict = {\n",
    "    'qpu': linalg_qpu,\n",
    "    'mcz_qlm': True     \n",
    "}\n",
    "target = [0,0,1]\n",
    "index = [0,1,2]\n",
    "mlae = MLAE(\n",
    "    oracle,\n",
    "    target = target,\n",
    "    index = index, \n",
    "    **mlae_dict\n",
    ")\n",
    "\n",
    "print('Default Schedule: \\n', mlae.schedule)\n",
    "\n",
    "#New Schedule\n",
    "m_k = [0,1,2,4,8,16]\n",
    "n_k = [10]*len(m_k)\n",
    "schedule = [m_k,n_k]\n",
    "mlae.schedule = schedule\n",
    "\n",
    "print('New Schedule: \\n', mlae.schedule)"
   ]
  },
  {
   "cell_type": "markdown",
   "id": "a777d5ec",
   "metadata": {},
   "source": [
    "#### 2.4.2 run_schedule"
   ]
  },
  {
   "cell_type": "markdown",
   "id": "2d7c8bf3",
   "metadata": {},
   "source": [
    "Once the schedule is properly configured, we can utilize the `run_schedule` method to execute the application of the Grover operator according to the specified order in the schedule. This method requires the schedule as input and returns an array containing the results of $ h_k $ for each pair $(m_k, n_k)$ defined in the schedule.\n"
   ]
  },
  {
   "cell_type": "code",
   "execution_count": null,
   "id": "9e61fc7a",
   "metadata": {},
   "outputs": [],
   "source": [
    "#Creating the class\n",
    "mlae_dict = {\n",
    "    'qpu': linalg_qpu,\n",
    "    'mcz_qlm': True \n",
    "}\n",
    "target = [0,0,1]\n",
    "index = [0,1,2]\n",
    "mlae = MLAE(\n",
    "    oracle,\n",
    "    target = target,\n",
    "    index = index, \n",
    "    **mlae_dict\n",
    ")"
   ]
  },
  {
   "cell_type": "code",
   "execution_count": null,
   "id": "a3a102ca",
   "metadata": {},
   "outputs": [],
   "source": [
    "#Configure the schedule\n",
    "#applications of Grover operator\n",
    "m_k = [0, 1, 2, 3, 4, 5]\n",
    "#Shots for each application of Grover operator\n",
    "n_k = [100 for i in m_k]\n",
    "shedule = [m_k, n_k]\n",
    "#execution of the run_schedule method\n",
    "h_k = mlae.run_schedule(shedule)\n",
    "print('h_k: ', h_k)"
   ]
  },
  {
   "cell_type": "markdown",
   "id": "f3c2d4a9",
   "metadata": {},
   "source": [
    "#### 2.4.3 cost_function"
   ]
  },
  {
   "cell_type": "markdown",
   "id": "092fe78a",
   "metadata": {},
   "source": [
    "Now that we have all the necessary inputs ($m_k$, $n_k$, $h_k$), we can compute the desired **cost function** $C$. To do this, we use the static method `cost_function` of the **MLAE** class. This method accepts the following parameters:\n",
    "\n",
    "- `theta`: The angle for which the cost function is being evaluated.\n",
    "- `m_k`: The number of applications of the Grover operator for each experiment.\n",
    "- `n_k`: The number of measurement shots for each experiment.\n",
    "- `h_k`: The number of positive outcomes (i.e., the number of times the target state was measured) for each experiment.\n",
    "\n",
    "The method computes the **Cost Function** $C(\\theta)$ for the given angle $\\theta$.\n",
    "\n",
    "To evaluate the cost function over a range of angles, we can define an array of $\\theta$ values between $[0, \\frac{\\pi}{2}]$ and compute the cost function for each value in this array.\n",
    "\n",
    "#### Note:\n",
    "To avoid numerical issues at the boundary angles $0$ and $\\frac{\\pi}{2}$, we utilize the `delta` property of the **MLAE** class. This ensures that the computations remain stable by introducing a small tolerance around these critical points."
   ]
  },
  {
   "cell_type": "code",
   "execution_count": null,
   "id": "f14510e4",
   "metadata": {},
   "outputs": [],
   "source": [
    "#Posible angles\n",
    "angles = np.linspace(0+mlae.delta,np.pi/2-mlae.delta,50)\n",
    "cost = np.zeros(len(angles))\n",
    "#Calculate cost function for each angle\n",
    "for i in range(len(angles)):\n",
    "    cost[i] = mlae.cost_function(angles[i], m_k, n_k, h_k)"
   ]
  },
  {
   "cell_type": "code",
   "execution_count": null,
   "id": "9a02b5af",
   "metadata": {},
   "outputs": [],
   "source": [
    "#We can plot the Cost Function\n",
    "plt.plot(angles,cost, '-o', label = r\"$C(\\theta)$\")\n",
    "plt.title('Cost function')\n",
    "plt.grid()\n",
    "plt.xlabel(r\"$\\theta$\")\n",
    "plt.ylabel(r\"$C(\\theta)$\")\n",
    "plt.legend()"
   ]
  },
  {
   "cell_type": "markdown",
   "id": "6a0b8f47",
   "metadata": {},
   "source": [
    "We will employ a useful technique by using the `partial` function from the `functools` package to create a new cost function based on the `cost_function` method of the `MLAE` class. In this new cost function, we will fix the values of $m_k$, $n_k$, and $h_k$ that were obtained from the experiments. \n",
    "\n",
    "This approach allows us to simplify the computation process: when calling the new function, we only need to provide the angle $\\theta$ as a variable input. The previously obtained values of $m_k$, $n_k$, and $h_k$ will act as constants within this new function, ensuring they are consistently used in the calculation of the cost function.\n",
    "\n",
    "By doing so, we streamline the evaluation of the cost function for different angles $\\theta$, making it easier to find the optimal value that minimizes the cost."
   ]
  },
  {
   "cell_type": "code",
   "execution_count": null,
   "id": "872e841e",
   "metadata": {},
   "outputs": [],
   "source": [
    "#Little trick: We are going to use the partial from functools for giving the m_k, n_k and h_k\n",
    "from functools import partial\n",
    "#Usign partial we create a cost_function using as base the cost_function method from the MLAE class\n",
    "#were the m_k, n_k and h_k will be fixed to the values we desire. Now this new cost_function only needs\n",
    "#the angle for return the cost using the m_k, n_k and h_k we provide previously as constant values\n",
    "partial_cost_function = partial(mlae.cost_function, m_k = m_k, n_k=n_k, h_k=h_k)"
   ]
  },
  {
   "cell_type": "code",
   "execution_count": null,
   "id": "ddee9342",
   "metadata": {},
   "outputs": [],
   "source": [
    "#Possible angles\n",
    "angles = np.linspace(0+mlae.delta,np.pi/2-mlae.delta,50)\n",
    "partial_cost = np.zeros(len(angles))\n",
    "#Calculate cost function for each angle\n",
    "for i in range(len(angles)):\n",
    "    partial_cost[i] = partial_cost_function(angles[i])"
   ]
  },
  {
   "cell_type": "code",
   "execution_count": null,
   "id": "db6dc6e0",
   "metadata": {},
   "outputs": [],
   "source": [
    "#We can plot the Cost Function\n",
    "plt.plot(angles,partial_cost, '-o', label = r\"$C(\\theta)$\")\n",
    "plt.title('Cost function')\n",
    "plt.grid()\n",
    "plt.xlabel(r\"$\\theta$\")\n",
    "plt.ylabel(r\"$C(\\theta)$\")\n",
    "plt.legend()"
   ]
  },
  {
   "cell_type": "markdown",
   "id": "7f52264b",
   "metadata": {},
   "source": [
    "### 2.5 Optimization of the Cost Function\n",
    "\n",
    "So far, we have defined the **cost function** $ C $ as:\n",
    "\n",
    "$$\n",
    "C(\\theta) = -\\log\\left(L(\\theta, \\mathbf{h})\\right),\n",
    "$$\n",
    "\n",
    "where $ L(\\theta, \\mathbf{h}) $ is the combined likelihood function based on the experimental results.\n",
    "\n",
    "The goal is to find the optimal angle $\\theta^*$ that minimizes the cost function:\n",
    "\n",
    "$$\n",
    "\\theta^* = \\arg \\min_{\\theta} C(\\theta).\n",
    "$$\n",
    "\n",
    "Once $\\theta^*$ is determined, we can compute the desired value of $ a $ using:\n",
    "\n",
    "$$\n",
    "a = \\sin^2(\\theta^*).\n",
    "$$\n",
    "\n",
    "This computation can be performed straightforwardly by identifying the minimum value in the `cost_function` array and retrieving the corresponding angle $\\theta$. This approach allows us to efficiently estimate the target amplitude $ a $ based on the experimental data."
   ]
  },
  {
   "cell_type": "code",
   "execution_count": null,
   "id": "94b95a37",
   "metadata": {},
   "outputs": [],
   "source": [
    "#straightforward approach\n",
    "print('Minimum of the Cost Function: ', min(partial_cost))\n",
    "theta_min = angles[np.argmin(partial_cost)]\n",
    "print('theta_min: ', theta_min)"
   ]
  },
  {
   "cell_type": "code",
   "execution_count": null,
   "id": "5b8a6a16",
   "metadata": {},
   "outputs": [],
   "source": [
    "#Complete plot\n",
    "plt.plot(angles,partial_cost, '-o', label = r\"$C(\\theta)$\")\n",
    "plt.axvline(theta_min,color = 'r', label = r\"$\\theta^*$\")\n",
    "plt.title(r'Cost function and $\\theta_{min}$')\n",
    "plt.grid()\n",
    "plt.xlabel(r\"$\\theta$\")\n",
    "plt.ylabel(r\"$C(\\theta)$\")\n",
    "plt.legend()"
   ]
  },
  {
   "cell_type": "markdown",
   "id": "f2673c98",
   "metadata": {},
   "source": [
    "The straightforward approach described earlier provides a good approximation of the optimal angle $\\theta^*$, but its accuracy depends on the granularity of the $\\theta$ values used to compute the cost function. To achieve a more precise result, a better approach is to employ an optimization routine to find the minimum of the `cost_function`.\n",
    "\n",
    "One effective method is to use the **brute force optimization** routine from the **SciPy optimization module**. This routine systematically evaluates the cost function over a specified range and step size, ensuring a thorough search for the global minimum. For more details on the `brute` optimization routine, you can refer to the official SciPy documentation:\n",
    "\n",
    "[SciPy Optimize Brute Documentation](https://docs.scipy.org/doc/scipy/reference/generated/scipy.optimize.brute.html)\n",
    "\n",
    "In the following cells, we demonstrate how to apply the `brute` optimization routine to find the minimum of the `cost_function` efficiently."
   ]
  },
  {
   "cell_type": "code",
   "execution_count": null,
   "id": "11418e7e",
   "metadata": {},
   "outputs": [],
   "source": [
    "import scipy.optimize as so"
   ]
  },
  {
   "cell_type": "code",
   "execution_count": null,
   "id": "052c0d6a",
   "metadata": {},
   "outputs": [],
   "source": [
    "#We create a function optimizer that receives as input a function of one variable\n",
    "theta_domain = [(0+mlae.delta, 0.5*np.pi-mlae.delta)]\n",
    "optimizer = lambda x: so.brute(func=x, ranges=theta_domain, Ns=1000)"
   ]
  },
  {
   "cell_type": "code",
   "execution_count": null,
   "id": "51bdb164",
   "metadata": {},
   "outputs": [],
   "source": [
    "#We use the optimizer define in before cell given as input the new_cost_function\n",
    "theta_optimized = optimizer(partial_cost_function)\n",
    "print('theta_optimized: ', theta_optimized)\n",
    "print('Cost Function at theta_optimized: ', partial_cost_function(theta_optimized))\n",
    "print('a estimated from theta_optimized: ', np.sin(theta_optimized)**2)\n",
    "print(\"Classical result: \",probability[bitfield_to_int(target)])"
   ]
  },
  {
   "cell_type": "code",
   "execution_count": null,
   "id": "b7c7780e",
   "metadata": {},
   "outputs": [],
   "source": [
    "#Now we can plot again all the stuff\n",
    "plt.plot(angles,partial_cost, '-o', label = r\"$C(\\theta)$\")\n",
    "plt.axvline(theta_optimized,color = 'r', label = r\"$\\theta_{optimized}$\")\n",
    "plt.grid()\n",
    "plt.xlabel(r\"$\\theta$\")\n",
    "plt.ylabel(r\"$C(\\theta)$\")\n",
    "plt.legend()"
   ]
  },
  {
   "cell_type": "markdown",
   "id": "07c1a92e",
   "metadata": {},
   "source": [
    "### 2.6 Complete Algorithm execution\n",
    "\n",
    "The **MLAE** class automates the step-by-step process explained in the previous sections through the `mlae` method. Once an instance of the class is created, users can execute the `mlae` method to perform a complete execution of the **MLAE** algorithm.\n",
    "\n",
    "#### Inputs:\n",
    "- `schedule`: A predefined list specifying the number of Grover operator applications ($m_k$) and the corresponding number of measurement shots ($n_k$) for each experiment.\n",
    "- `optimizer`: The optimization routine to be used, which should be passed as a **lambda function**. This function must accept another function (with one variable, the angle to optimize) as its input.\n",
    "\n",
    "#### Outputs:\n",
    "- `result`: The result returned by the optimizer, containing details about the optimization process, such as the optimal angle $\\theta^*$.\n",
    "- `h_k`: A list of positive outcomes ($h_k$) obtained from each experiment conducted according to the schedule.\n",
    "- `cost_function_partial`: A Python function representing the cost function where the values of $m_k$, $n_k$, and $h_k$ are fixed to the results obtained during the experiments.\n",
    "\n",
    "#### Additional Feature:\n",
    "This method also updates the `optimizer_time` property of the class, which measures the time taken for the optimization process. This allows users to evaluate the computational efficiency of the algorithm.\n",
    "\n",
    "By encapsulating all these functionalities into a single method, the `MLAE` class provides a streamlined and user-friendly interface for performing amplitude estimation with maximum likelihood techniques.\n"
   ]
  },
  {
   "cell_type": "code",
   "execution_count": null,
   "id": "82b64152",
   "metadata": {},
   "outputs": [],
   "source": [
    "target = [0,0,1]\n",
    "index = [0,1,2]\n",
    "\n",
    "#Creating the class\n",
    "mlae_dict = {\n",
    "    'qpu': linalg_qpu,\n",
    "    'mcz_qlm': True     \n",
    "}\n",
    "\n",
    "mlae = MLAE(\n",
    "    oracle,\n",
    "    target = target,\n",
    "    index = index, \n",
    "    **mlae_dict\n",
    ")\n",
    "\n",
    "\n",
    "#Schedule configuration\n",
    "m_k = [0, 1, 2, 3, 4, 5]\n",
    "n_k = [100 for i in m_k]\n",
    "shedule = [m_k, n_k]\n",
    "\n",
    "#Optimizer Configuration\n",
    "import scipy.optimize as so\n",
    "#We create a function optimizer that receives as input the cost_function we create before\n",
    "theta_domain = [(0+mlae.delta, 0.5*np.pi-mlae.delta)]\n",
    "optimizer = lambda f: so.brute(func=f, ranges=theta_domain, Ns=1000)"
   ]
  },
  {
   "cell_type": "code",
   "execution_count": null,
   "id": "f8831289",
   "metadata": {},
   "outputs": [],
   "source": [
    "result, h_k, partial_cost_funtion = mlae.mlae(shedule, optimizer)"
   ]
  },
  {
   "cell_type": "code",
   "execution_count": null,
   "id": "e435a70b",
   "metadata": {},
   "outputs": [],
   "source": [
    "print(result)"
   ]
  },
  {
   "cell_type": "code",
   "execution_count": null,
   "id": "04b4492c",
   "metadata": {},
   "outputs": [],
   "source": [
    "print(h_k)"
   ]
  },
  {
   "cell_type": "code",
   "execution_count": null,
   "id": "a0d1e63e",
   "metadata": {},
   "outputs": [],
   "source": [
    "print('Optimization time: ', mlae.optimizer_time)"
   ]
  },
  {
   "cell_type": "code",
   "execution_count": null,
   "id": "b8f60b20",
   "metadata": {},
   "outputs": [],
   "source": [
    "#We can use the returned partial_cost_function to do some graphs\n",
    "\n",
    "angles = np.linspace(0+mlae.delta,np.pi/2-mlae.delta,50)\n",
    "cost_partial = partial_cost_funtion(angles)\n",
    "theta_optimized = result[0]\n",
    "\n",
    "plt.plot(angles, cost_partial, '-o', label = r\"$C(\\theta)$\")\n",
    "plt.axvline(theta_optimized, color = 'r', label = r\"$\\theta_{optimized}$\")\n",
    "plt.grid()\n",
    "plt.xlabel(r\"$\\theta$\")\n",
    "plt.ylabel(r\"$C(\\theta)$\")\n",
    "plt.legend()"
   ]
  },
  {
   "cell_type": "code",
   "execution_count": null,
   "id": "ddfbd3d4",
   "metadata": {},
   "outputs": [],
   "source": [
    "#Printing the circuit for the oracle\n",
    "c = mlae._grover_oracle\n",
    "%qatdisplay c --depth 0 --svg"
   ]
  },
  {
   "cell_type": "markdown",
   "id": "68f252a7",
   "metadata": {},
   "source": [
    "#### The optimizer"
   ]
  },
  {
   "cell_type": "markdown",
   "id": "31549aef",
   "metadata": {},
   "source": [
    "To determine the angle that minimizes the cost function, a minimization algorithm must be employed. When creating an instance of the class, the optimizer can be specified using the `optimizer` key and can later be accessed via the `optimizer` property. By default, the `optimizer` is initialized to the **brute** optimization algorithm from the `scipy.optimize` module.\n",
    "\n",
    "Additionally, the optimizer can be redefined after initialization by simply assigning a new value to the `optimizer` attribute. This flexibility allows users to choose the most suitable optimization method for their specific problem.\n",
    "\n",
    "#### Note:\n",
    "The optimizer provided to the class must be a function of a single variable: the angle $\\theta$. This can be easily achieved using **lambda functions**, which allow for concise definition of the required optimization function.\n",
    "\n",
    "In this example, we will demonstrate the use of the **differential evolution** algorithm from the **SciPy** library as the optimizer. Differential evolution is a global optimization technique that is particularly effective for complex cost functions."
   ]
  },
  {
   "cell_type": "code",
   "execution_count": null,
   "id": "33ffb132",
   "metadata": {},
   "outputs": [],
   "source": [
    "import scipy.optimize as so"
   ]
  },
  {
   "cell_type": "markdown",
   "id": "99862e9d",
   "metadata": {},
   "source": [
    "The *differential evolution* algorithm just needs as input the function to be minimized and the bounds where the minimization is done."
   ]
  },
  {
   "cell_type": "code",
   "execution_count": null,
   "id": "4d52cec9",
   "metadata": {},
   "outputs": [],
   "source": [
    "bounds = [[0.+mlae.delta,np.pi/2-mlae.delta]]\n",
    "differential_evolution = lambda f: so.differential_evolution(f,bounds = bounds)"
   ]
  },
  {
   "cell_type": "code",
   "execution_count": null,
   "id": "fb724887",
   "metadata": {},
   "outputs": [],
   "source": [
    "result, h_k, new_cost_function = mlae.mlae(schedule, differential_evolution)"
   ]
  },
  {
   "cell_type": "markdown",
   "id": "2a5150a0",
   "metadata": {},
   "source": [
    "Remember that, the result of the function optimize is the result given by the optimizer. In this case, the function differential evolution gives as output an object. The result of the minimization is stored in the attribute *x*."
   ]
  },
  {
   "cell_type": "code",
   "execution_count": null,
   "id": "cd1037b6",
   "metadata": {},
   "outputs": [],
   "source": [
    "print('Optimization time: ', mlae.optimizer_time)"
   ]
  },
  {
   "cell_type": "code",
   "execution_count": null,
   "id": "6bfd1838",
   "metadata": {},
   "outputs": [],
   "source": [
    "angle = result.x\n",
    "print(\"Quantum result: \",np.sin(angle)**2)\n",
    "print(\"Classical result: \",probability[bitfield_to_int(target)])"
   ]
  },
  {
   "cell_type": "markdown",
   "id": "23f74848",
   "metadata": {},
   "source": [
    "### BE AWARE!!!"
   ]
  },
  {
   "cell_type": "markdown",
   "id": "1fdd33cb",
   "metadata": {},
   "source": [
    "**Brief comment on the optimizer**. As we saw before, the cost function it is not convex, i.e. it has multiple local minima. If we pass a local optimizer such as *Nelder-Mead*, we won't get a good result. Next, we give an example."
   ]
  },
  {
   "cell_type": "code",
   "execution_count": null,
   "id": "e437d271",
   "metadata": {},
   "outputs": [],
   "source": [
    "bounds = [[0.+mlae.delta,np.pi/2-mlae.delta]]\n",
    "#Initial angle value\n",
    "x0 = [0.8]\n",
    "nelder_mead = lambda f: so.minimize(f, x0 = x0, bounds = bounds, method = \"Nelder-Mead\")"
   ]
  },
  {
   "cell_type": "code",
   "execution_count": null,
   "id": "0d33a8ee",
   "metadata": {},
   "outputs": [],
   "source": [
    "#Remember: if uses other optimizer  than default one the use optimize method instead of run one\n",
    "mlae.optimizer = nelder_mead\n",
    "result, h_k, new_cost_function = mlae.mlae(schedule, nelder_mead)"
   ]
  },
  {
   "cell_type": "code",
   "execution_count": null,
   "id": "5ab90715",
   "metadata": {},
   "outputs": [],
   "source": [
    "angles = np.linspace(0++mlae.delta,np.pi/2-mlae.delta,100)\n",
    "cost = np.zeros(len(angles))\n",
    "for i in range(len(angles)):\n",
    "    cost[i] = new_cost_function(angles[i])"
   ]
  },
  {
   "cell_type": "code",
   "execution_count": null,
   "id": "68325f70",
   "metadata": {},
   "outputs": [],
   "source": [
    "print('Nelder-Mead result: ', result.x)\n",
    "print('Classical result: ', np.arcsin(probability[bitfield_to_int(target)]**0.5))"
   ]
  },
  {
   "cell_type": "code",
   "execution_count": null,
   "id": "46ef9b5e",
   "metadata": {},
   "outputs": [],
   "source": [
    "plt.plot(angles,cost,'-o', label = r\"$C(\\theta)$\")\n",
    "plt.axvline(result.x,color = 'r',label = r\"$\\theta^*$\")\n",
    "plt.axvline(x0[0],color = 'g',label = r\"$\\theta_{initial}$\")\n",
    "plt.axvline(angles[cost.argmin()],color = 'b',label = r\"$\\arg \\min_{\\theta} C(\\theta)$\")\n",
    "plt.title('Nealder-Mead optimization result')\n",
    "plt.grid()\n",
    "plt.xlabel(r\"$\\theta$\")\n",
    "plt.ylabel(r\"$C(\\theta)$\")\n",
    "plt.legend()"
   ]
  },
  {
   "cell_type": "markdown",
   "id": "a742539f",
   "metadata": {},
   "source": [
    "As can be seen in the graph the *Nelder-Mead* has a bad initialization and optimizer and get stack in a local minimum."
   ]
  },
  {
   "cell_type": "markdown",
   "id": "e4987ad1",
   "metadata": {},
   "source": [
    "## 3. Summarize and how to use"
   ]
  },
  {
   "cell_type": "markdown",
   "id": "de7cefcc",
   "metadata": {},
   "source": [
    "In section 2 the complete algorithm in a detailed step-by-step was explained. The methods shown in this section were shown only for pedagogical purposes but users **SHOULD NOT** use them.\n",
    "\n",
    "Users should only use one of the following two methods:\n",
    "\n",
    "* **mlae** method.\n",
    "* **run** method.\n",
    "\n",
    "First, given an Oracle user should create the class:"
   ]
  },
  {
   "cell_type": "markdown",
   "id": "36f9bd7f",
   "metadata": {},
   "source": [
    "In Section 2, the complete algorithm was explained in detail through a step-by-step breakdown. The methods described in that section were presented for pedagogical purposes only and are **not intended for direct use** by end users.\n",
    "\n",
    "For practical applications, users should exclusively utilize one of the following two methods provided by the class:\n",
    "\n",
    "- **`mlae` method**: In this case the method needs the schedule and optimizer as inputs.\n",
    "- **`run` method**: This method executes the algorithm using the configuration provided when the `MLAE`class was instantiated..\n",
    "\n",
    "#### Creating an Instance of the Class:\n",
    "\n",
    "First, given an Oracle, users should create an instance of the class. This initialization step sets up the necessary components, such as the Oracle operator, target state, and qubit indices, ensuring the algorithm is properly configured for execution."
   ]
  },
  {
   "cell_type": "code",
   "execution_count": null,
   "id": "765e69b8",
   "metadata": {},
   "outputs": [],
   "source": [
    "target = [0,0,1]\n",
    "index = [0,1,2]\n",
    "\n",
    "#Creating the class\n",
    "mlae_dict = {\n",
    "    'qpu': linalg_qpu,\n",
    "    'mcz_qlm': True    \n",
    "}\n",
    "\n",
    "mlae = MLAE(\n",
    "    oracle,\n",
    "    target = target,\n",
    "    index = index, \n",
    "    **mlae_dict\n",
    ")\n"
   ]
  },
  {
   "cell_type": "markdown",
   "id": "ff34e33a",
   "metadata": {},
   "source": [
    "### 3.1 *mlae* method\n",
    "\n",
    "This method was explained in *Section 2.6*. The user should provide a scheduler and an optimizer. Users can use the defaults in a straightforward way:"
   ]
  },
  {
   "cell_type": "code",
   "execution_count": null,
   "id": "bcb90e69",
   "metadata": {},
   "outputs": [],
   "source": [
    "#Default Schedule, default optimizer\n",
    "result, h_k, partial_cost_function = mlae.mlae(mlae.schedule, mlae.optimizer)"
   ]
  },
  {
   "cell_type": "code",
   "execution_count": null,
   "id": "a75c0dea",
   "metadata": {},
   "outputs": [],
   "source": [
    "print(\"Quantum result theta: \",result)\n",
    "print(\"Quantum result a: \",np.sin(result**2))\n",
    "print('Classical result: ', probability[bitfield_to_int(target)])\n",
    "print('Test OK: ',abs(np.sin(result**2)-probability[bitfield_to_int(target)]) < 0.005)"
   ]
  },
  {
   "cell_type": "code",
   "execution_count": null,
   "id": "0fed4b2b",
   "metadata": {},
   "outputs": [],
   "source": [
    "print('Optimizer time: ',mlae.optimizer_time)"
   ]
  },
  {
   "cell_type": "markdown",
   "id": "a5c809f3",
   "metadata": {},
   "source": [
    "### 3.2 *run* method\n",
    "\n",
    "Additionally, users can configure all the properties of the **MLAE** class and directly invoke the `run` method. This method executes the `mlae` method using the attributes of the **MLAE** class, such as the `schedule` and `optimizer`, and returns the desired value $ a = \\sin^2(\\theta^*) $. \n",
    "\n",
    "Upon execution, the `run` method populates the following properties of the class:\n",
    "\n",
    "- `h_k`: A list of positive outcomes ($h_k$) corresponding to the schedule used.\n",
    "- `theta`: The estimated angle $\\theta^*$ obtained from a complete execution of the **MLAE** algorithm.\n",
    "- `ae`: The amplitude estimation parameter extracted from the `theta` property, calculated as $ a = \\sin^2(\\theta^*) $.\n",
    "- `partial_cost_function`: A cost function where the variables $m_k$, $n_k$, and $h_k$ are fixed to their respective values from the used schedule. This function accepts only the angle $\\theta$ as input.\n",
    "- `run_time`: The elapsed time for a complete execution of the `run` method.\n",
    "\n",
    "#### Warning:\n",
    "The `run` method was specifically designed to work with the **brute** optimization algorithm from the **scipy.optimize** module, which is the default optimizer for the **MLAE** class. If users wish to use alternative optimization algorithms, they **should use the `mlae` method instead** to ensure compatibility and correct functionality."
   ]
  },
  {
   "cell_type": "code",
   "execution_count": null,
   "id": "1537903b",
   "metadata": {},
   "outputs": [],
   "source": [
    "target = [0,0,1]\n",
    "index = [0,1,2]\n",
    "\n",
    "m_k = [1, 2, 4, 8, 16]\n",
    "n_k = [100 for i in m_k]\n",
    "\n",
    "schedule = [m_k, n_k]\n",
    "\n",
    "\n",
    "#Creating the class\n",
    "mlae_dict = {\n",
    "    'qpu': linalg_qpu,\n",
    "    'schedule': schedule,\n",
    "    'mcz_qlm': True \n",
    "}\n",
    "\n",
    "mlae = MLAE(\n",
    "    oracle,\n",
    "    target = target,\n",
    "    index = index, \n",
    "    **mlae_dict\n",
    ")\n",
    "\n",
    "estimated_a = mlae.run()"
   ]
  },
  {
   "cell_type": "code",
   "execution_count": null,
   "id": "b751de9d",
   "metadata": {},
   "outputs": [],
   "source": [
    "print('estimated_a: ', estimated_a)\n",
    "#populated properties\n",
    "print('mlae.h_k: ', mlae.h_k)\n",
    "print('mlae.theta: ', mlae.theta)\n",
    "print('mlae.a: ', mlae.ae)"
   ]
  },
  {
   "cell_type": "code",
   "execution_count": null,
   "id": "ef1f4069",
   "metadata": {},
   "outputs": [],
   "source": [
    "angles = np.linspace(0+mlae.delta,np.pi/2-mlae.delta,100)\n",
    "#using partial_cost_function attribute\n",
    "\n",
    "plt.plot(angles, mlae.partial_cost_function(angles), '-o', label = r\"$C(\\theta)$\")\n",
    "plt.axvline(mlae.theta, color = 'r', label = r\"$\\theta^*$\")\n",
    "plt.grid()\n",
    "plt.xlabel(r\"$\\theta$\")\n",
    "plt.ylabel(r\"$C(\\theta)$\")\n",
    "plt.legend()"
   ]
  },
  {
   "cell_type": "code",
   "execution_count": null,
   "id": "79772271",
   "metadata": {},
   "outputs": [],
   "source": [
    "print(\"Quantum result a: \", estimated_a)\n",
    "print('Classical result: ', probability[bitfield_to_int(target)])\n",
    "print('Test OK: ',abs(estimated_a-probability[bitfield_to_int(target)]) < 0.005)"
   ]
  },
  {
   "cell_type": "code",
   "execution_count": null,
   "id": "9b3cd3ec",
   "metadata": {
    "scrolled": true
   },
   "outputs": [],
   "source": [
    "#For draw the used oracle\n",
    "grover = mlae._grover_oracle\n",
    "%qatdisplay grover --depth 3 --svg"
   ]
  },
  {
   "cell_type": "markdown",
   "id": "02ddd8eb",
   "metadata": {},
   "source": [
    "Upon executing the `run` method, the following class attributes are populated to provide detailed information about the algorithm's execution:\n",
    "\n",
    "- `circuit_statistics`: A Python dictionary containing statistics for each quantum circuit used during the algorithm's execution. Each key in the dictionary corresponds to a specific $m_k$ value, and its associated value is another dictionary that holds the complete statistical information of the circuit created for that $m_k$.\n",
    "\n",
    "- `schedule_pdf`: A pandas DataFrame that stores the complete schedule, including the values of $m_k$ (number of Grover operator applications) and $n_k$ (number of measurement shots), along with the corresponding measurements ($h_k$).\n",
    "\n",
    "- `oracle_calls`: The total number of oracle calls made during the entire execution of the algorithm.\n",
    "\n",
    "- `max_oracle_depth`: The maximum number of applications of the oracle throughout the algorithm's execution, representing the deepest level of Grover operator applications.\n",
    "\n",
    "These attributes provide valuable insights into the performance and resource usage of the algorithm, enabling users to analyze and optimize its behavior effectively."
   ]
  },
  {
   "cell_type": "code",
   "execution_count": null,
   "id": "86278fbb",
   "metadata": {
    "scrolled": true
   },
   "outputs": [],
   "source": [
    "mlae.circuit_statistics"
   ]
  },
  {
   "cell_type": "code",
   "execution_count": null,
   "id": "608e3385",
   "metadata": {},
   "outputs": [],
   "source": [
    "#Complete schedule and the correspondent measurements done\n",
    "mlae.schedule_pdf"
   ]
  },
  {
   "cell_type": "code",
   "execution_count": null,
   "id": "5784380e",
   "metadata": {},
   "outputs": [],
   "source": [
    "#Total number of oracle calls\n",
    "print(\"The total number of the oracle calls for the MLAE was: {}\".format(mlae.oracle_calls))"
   ]
  },
  {
   "cell_type": "code",
   "execution_count": null,
   "id": "5c78dc0b",
   "metadata": {},
   "outputs": [],
   "source": [
    "#Number of maximum oracle applications\n",
    "mlae.max_oracle_depth"
   ]
  },
  {
   "cell_type": "code",
   "execution_count": null,
   "id": "e6e68cc3",
   "metadata": {},
   "outputs": [],
   "source": [
    "mlae.quantum_time"
   ]
  },
  {
   "cell_type": "code",
   "execution_count": null,
   "id": "8551a05b",
   "metadata": {},
   "outputs": [],
   "source": [
    "mlae.run_time"
   ]
  }
 ],
 "metadata": {
  "kernelspec": {
   "display_name": "Python 3 (ipykernel)",
   "language": "python",
   "name": "python3"
  },
  "language_info": {
   "codemirror_mode": {
    "name": "ipython",
    "version": 3
   },
   "file_extension": ".py",
   "mimetype": "text/x-python",
   "name": "python",
   "nbconvert_exporter": "python",
   "pygments_lexer": "ipython3",
   "version": "3.9.9"
  }
 },
 "nbformat": 4,
 "nbformat_minor": 5
}
