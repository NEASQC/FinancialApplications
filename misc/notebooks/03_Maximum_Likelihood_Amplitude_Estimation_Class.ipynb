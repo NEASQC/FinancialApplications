{
 "cells": [
  {
   "cell_type": "markdown",
   "id": "7a9496d2",
   "metadata": {},
   "source": [
    "# Maximum Likelihood Amplitude Estimation (MLAE) module"
   ]
  },
  {
   "cell_type": "markdown",
   "id": "7d6cb636",
   "metadata": {},
   "source": [
    "Present notebook reviews the **Maximum Likelihood Amplitude Estimation** algorithm (**MLAE**) which was implemented into the module *maximum_likelihood_ae* of package *AE* of library *QQuantLib* (**QQuantLib/AE/maximum_likelihood_ae.py**). \n",
    "\n",
    "Inside this module we have implemented the **MLAE** as a python class."
   ]
  },
  {
   "cell_type": "markdown",
   "id": "bcf02895",
   "metadata": {},
   "source": [
    "Present notebook and module are based on the following references:\n",
    "\n",
    "* *Suzuki, Y., Uno, S., Raymond, R., Tanaka, T., Onodera, T., & Yamamoto, N.*. Amplitude estimation without phase estimation. Quantum Information Processing, 19(2), 2020. https://arxiv.org/abs/1904.10246\n",
    "\n",
    "* NEASQC deliverable: *D5.1: Review of state-of-the-art for Pricing and Computation of VaR https://www.neasqc.eu/wp-content/uploads/2021/06/NEASQC_D5.1_Review-of-state-of-the-art-for-Pricing-and-Computation-of-VaR_R2.0_Final.pdf*"
   ]
  },
  {
   "cell_type": "code",
   "execution_count": null,
   "id": "404b8ec1",
   "metadata": {},
   "outputs": [],
   "source": [
    "import sys\n",
    "sys.path.append(\"../../\")"
   ]
  },
  {
   "cell_type": "code",
   "execution_count": null,
   "id": "490d094b",
   "metadata": {},
   "outputs": [],
   "source": [
    "import numpy as np\n",
    "import pandas as pd\n",
    "import matplotlib.pyplot as plt\n",
    "import qat.lang.AQASM as qlm"
   ]
  },
  {
   "cell_type": "code",
   "execution_count": null,
   "id": "21276b3d",
   "metadata": {},
   "outputs": [],
   "source": [
    "%matplotlib inline"
   ]
  },
  {
   "cell_type": "code",
   "execution_count": null,
   "id": "34403ec1",
   "metadata": {},
   "outputs": [],
   "source": [
    "#This cell loads the QLM solver.\n",
    "#QLMaaS == False -> uses PyLinalg\n",
    "#QLMaaS == True -> try to use LinAlg (for using QPU as CESGA QLM one)\n",
    "from QQuantLib.utils.qlm_solver import get_qpu\n",
    "QLMaaS = False\n",
    "linalg_qpu = get_qpu(QLMaaS)"
   ]
  },
  {
   "cell_type": "code",
   "execution_count": null,
   "id": "3453cf5d",
   "metadata": {},
   "outputs": [],
   "source": [
    "#See 01_DataLoading_Module_Use for the use of this function\n",
    "from QQuantLib.utils.data_extracting import get_results"
   ]
  },
  {
   "cell_type": "code",
   "execution_count": null,
   "id": "ad0cca52",
   "metadata": {},
   "outputs": [],
   "source": [
    "#For transform bits to int\n",
    "from QQuantLib.utils.utils import bitfield_to_int"
   ]
  },
  {
   "cell_type": "markdown",
   "id": "55146c4c",
   "metadata": {},
   "source": [
    "## 1. Oracle generation"
   ]
  },
  {
   "cell_type": "markdown",
   "id": "71279f09",
   "metadata": {},
   "source": [
    "Before doing any amplitude estimation we want to load some data into the quantum circuit, as this step is only auxiliary to see how the algorithm works, we are just going to load a discrete probability distribution. In this case we will have a circuit with $n=3$ qubits which makes a total of $N = 2^n = 8$ states. The discrete probability distribution that we are going to load is:\n",
    "$$p_d = \\dfrac{(0,1,2,3,4,5,6,7)}{0+1+2+3+4+5+6+7+8}.$$\n"
   ]
  },
  {
   "cell_type": "code",
   "execution_count": null,
   "id": "d0b21bcf",
   "metadata": {},
   "outputs": [],
   "source": [
    "n = 3\n",
    "N = 2**n\n",
    "x = np.arange(N)\n",
    "probability = x/np.sum(x)"
   ]
  },
  {
   "cell_type": "markdown",
   "id": "716492db",
   "metadata": {},
   "source": [
    "Note that this probability distribution is properly normalised. For loading this probability into the quantum circuit we will use the function *load_probability* from **QQuantLib/DL/data_loading** module. The state that we are going to get is:\n",
    "    $$|\\Psi\\rangle = \\scriptstyle \\dfrac{1}{\\sqrt{0+1+2+3+4+5+6+7+8}}\\left[\\sqrt{0}|0\\rangle+\\sqrt{1}|1\\rangle+\\sqrt{2}|2\\rangle+\\sqrt{3}|3\\rangle+\\sqrt{4}|4\\rangle+\\sqrt{5}|5\\rangle+\\sqrt{6}|6\\rangle+\\sqrt{7}|7\\rangle\\right].$$"
   ]
  },
  {
   "cell_type": "code",
   "execution_count": null,
   "id": "b05056d1",
   "metadata": {},
   "outputs": [],
   "source": [
    "from QQuantLib.DL.data_loading import load_probability"
   ]
  },
  {
   "cell_type": "code",
   "execution_count": null,
   "id": "aab2e90d",
   "metadata": {},
   "outputs": [],
   "source": [
    "oracle = load_probability(probability)"
   ]
  },
  {
   "cell_type": "code",
   "execution_count": null,
   "id": "a29bce05",
   "metadata": {},
   "outputs": [],
   "source": [
    "%qatdisplay oracle --svg"
   ]
  },
  {
   "cell_type": "markdown",
   "id": "08b1fdf8",
   "metadata": {},
   "source": [
    "For more information about loading data into the quantum circuit see the notebook *01_DataLoading_Module_Use*."
   ]
  },
  {
   "cell_type": "markdown",
   "id": "a08e43a5",
   "metadata": {},
   "source": [
    "## 2. MLAE algorithm step by step."
   ]
  },
  {
   "cell_type": "markdown",
   "id": "c977b4c6",
   "metadata": {},
   "source": [
    "The problem of amplitude estimation is the following. Given an oracle:\n",
    "\n",
    "$$\\mathcal{0}|0\\rangle = |\\Psi\\rangle = \\sqrt{a}|\\Psi_0\\rangle +\\sqrt{1-a}|\\Psi_1\\rangle,$$\n",
    "\n",
    "where $|\\Psi_0\\rangle$ and $|\\Psi_1\\rangle$ are orthogonal states, we want to estimate $\\sqrt{a}$. We can define an associated angle to $\\sqrt{a}$ as $\\sin^2{\\theta} = a$, and the problem is thus rewritten as:\n",
    "$$\\mathcal{O}|0\\rangle = |\\Psi \\rangle = \\sin(\\theta)|\\Psi_0\\rangle +\\cos(\\theta)|\\Psi_1\\rangle,$$\n",
    "\n",
    "\n",
    "We have implemented and python class called **MLAE** into the **QQuantLib/AE/maximum_likelihood_ae** module that allows us implement the **MLAE** algorithm. In this section we are going to describe the class step by step and explain the basics of the **MLAE** algorithm."
   ]
  },
  {
   "cell_type": "code",
   "execution_count": null,
   "id": "94fc7b24",
   "metadata": {},
   "outputs": [],
   "source": [
    "#import the class\n",
    "from QQuantLib.AE.maximum_likelihood_ae import MLAE"
   ]
  },
  {
   "cell_type": "markdown",
   "id": "d8721bad",
   "metadata": {},
   "source": [
    "For creating the corresponding object from class **MLAE** following mandatory arguments should be provided:\n",
    "\n",
    "1. Oracle: QLM AbstractGate or QRoutine with the implementation of the Oracle for creating the Grover operator.\n",
    "2. target: this is the marked state in binary representation as a python list\n",
    "3. index: list of the qbits affected by the Grover operator.\n",
    "\n",
    "The MLAE class creates the Grover operator using the function *grover* from module **QQuantLib/AA/amplitude_amplification**. So the arguments of the **MLAE** class are similar to the arguments of this function (see notebook **02_AmplitudeAmplification_Operators.ipynb** for a detailed explanation)\n",
    "\n",
    "Additionally a dictionary with other arguments to configure the algorithm can be provided. Keys for the dictionary can be:\n",
    "* qpu: QLM solver that will be used (if not provide PyLinalg will be used)\n",
    "* delta: float for setting the tolerance for avoiding division by zero warnings\n",
    "* optimizer:  optimizer for solving the optimization problem of the MLAE algorithm (see below)\n",
    "* schedule: scheduler for applying the grover operator in the MLAE algorithm (see below)\n",
    "* mcz_qlm: for using QLM multi-controlled Z gate (True, default) or using multiplexor implementation (False)"
   ]
  },
  {
   "cell_type": "markdown",
   "id": "f8722ea5",
   "metadata": {},
   "source": [
    "### 2.1 Creating object from MLAE class"
   ]
  },
  {
   "cell_type": "markdown",
   "id": "d94f4a5d",
   "metadata": {},
   "source": [
    "For showing how our class and the algorithm works, we will define the following amplitude estimation problem:\n",
    "$$\n",
    "    \\begin{array}{l}\n",
    "    &\\mathcal{O}\\longrightarrow \\mathcal{P}.\\\\\n",
    "    & |\\Psi\\rangle \\longrightarrow \\scriptstyle \\dfrac{1}{\\sqrt{0+1+2+3+4+5+6+7+8}}\\left[\\sqrt{0}|0\\rangle+\\sqrt{1}|1\\rangle+\\sqrt{2}|2\\rangle+\\sqrt{3}|3\\rangle+\\sqrt{4}|4\\rangle+\\sqrt{5}|5\\rangle+\\sqrt{6}|6\\rangle+\\sqrt{7}|7\\rangle\\right].\\\\\n",
    "    & \\sin(\\theta)|\\Psi_0\\rangle \\longrightarrow \\dfrac{\\sqrt{1}}{\\sqrt{0+1+2+3+4+5+6+7+8}}|1\\rangle.\\\\\n",
    "    & \\cos(\\theta)|\\Psi_1\\rangle \\longrightarrow \\scriptstyle \\dfrac{1}{\\sqrt{0+1+2+3+4+5+6+7+8}}\\left[\\sqrt{0}|0\\rangle+\\sqrt{2}|2\\rangle+\\sqrt{3}|3\\rangle+\\sqrt{4}|4\\rangle+\\sqrt{5}|5\\rangle+\\sqrt{6}|6\\rangle+\\sqrt{7}|7\\rangle\\right].\\\\\n",
    "    \\end{array}\n",
    "$$\n",
    "The target state, in this case is $|1\\rangle$. It's binary representation is $001$. This has to be passed to the target variable as a list. Moreover we have to provide the list of qubits where we are acting, in this case is just $[0,1,2]$, the whole register. So mandatory arguments will be:\n",
    "* oracle: QLM AbstractGate\n",
    "* target: [0, 0, 1]\n",
    "* index: [0, 1, 2]\n",
    "\n",
    "Additionally we will provide the qlm solver into the *qpu* key of an input python dictionary"
   ]
  },
  {
   "cell_type": "code",
   "execution_count": null,
   "id": "b69dc476",
   "metadata": {},
   "outputs": [],
   "source": [
    "mlae_dict = {\n",
    "    'qpu': linalg_qpu,\n",
    "    'mcz_qlm': True\n",
    "}\n",
    "target = [0,0,1]\n",
    "index = [0,1,2]\n",
    "mlae = MLAE(\n",
    "    oracle,\n",
    "    target = target,\n",
    "    index = index, \n",
    "    **mlae_dict\n",
    ")"
   ]
  },
  {
   "cell_type": "markdown",
   "id": "f72b5b48",
   "metadata": {},
   "source": [
    "### 2.2 Application of the grover operator"
   ]
  },
  {
   "cell_type": "markdown",
   "id": "9a2a5c94",
   "metadata": {},
   "source": [
    "The foundations of any amplitude estimation algorithm is the grover operator $\\mathcal{Q}$. We recall that the grover operator has the following effect over our state $|\\Psi\\rangle$:\n",
    "\n",
    "$$\\mathcal{G}^{m}|\\Psi\\rangle = |\\Psi \\rangle = \\sin\\left((2m_k+1)\\theta\\right)|\\Psi_0\\rangle +\\cos\\left((2m_k+1)\\theta\\right)|\\Psi_1\\rangle,$$\n",
    "for more information about the grover operator and the amplitude amplification algorithm check the notebook **02_AmplitudeAmplification_Operators.ipynb**.\n",
    "\n",
    "The process of generating the corresponding grover oracle is handled automatically in the class when we instance it. To see the grover operator in action we can call the method *run_step* of the class. The input of the method is:\n",
    "\n",
    "* m_k: the number of times the Grover-like operator will be applied.\n",
    "* n_k : number of shots.\n",
    "\n",
    "The method returns:\n",
    "* h_k: number of positive outcomes"
   ]
  },
  {
   "cell_type": "code",
   "execution_count": null,
   "id": "b8c07891",
   "metadata": {},
   "outputs": [],
   "source": [
    "m_k = 3\n",
    "n_k = 100\n",
    "h_k, circuit = mlae.run_step(m_k,n_k)\n",
    "print('h_k: '+str(h_k))"
   ]
  },
  {
   "cell_type": "code",
   "execution_count": null,
   "id": "39910dd0",
   "metadata": {},
   "outputs": [],
   "source": [
    "%qatdisplay circuit --depth  --svg"
   ]
  },
  {
   "cell_type": "markdown",
   "id": "1dfc0347",
   "metadata": {},
   "source": [
    "From the number of positive outcomes it is straightforward to estimate the probability of getting the state $|1\\rangle$ (the positive outcome):\n",
    "$$ \\sin^2\\left((2m_k+1)\\hat{\\theta}\\right) = \\dfrac{h_k}{n_k} = \\hat{p}(|\\Psi_0\\rangle)\\approx p(|\\Psi_0\\rangle).$$\n",
    "Here we use the $\\hat{}$ to distinguish between the estimated values from the real ones.\n",
    "So we have a first estimation of our target amplitude:"
   ]
  },
  {
   "cell_type": "code",
   "execution_count": null,
   "id": "bbf223cb",
   "metadata": {},
   "outputs": [],
   "source": [
    "angle_estimation = np.arcsin(np.sqrt(h_k/n_k))/(2*m_k+1)\n",
    "estimation = np.sin(angle_estimation)**2"
   ]
  },
  {
   "cell_type": "code",
   "execution_count": null,
   "id": "5f997262",
   "metadata": {},
   "outputs": [],
   "source": [
    "print(\"First estimation: \",estimation)\n",
    "print(\"Exact probability: \",probability[bitfield_to_int(target)])"
   ]
  },
  {
   "cell_type": "markdown",
   "id": "b6eab0ff",
   "metadata": {},
   "source": [
    "The question now is, ¿how can we consistently improve this result?"
   ]
  },
  {
   "cell_type": "markdown",
   "id": "19f558c2",
   "metadata": {},
   "source": [
    "### 2.3 The Likelihood"
   ]
  },
  {
   "cell_type": "markdown",
   "id": "96f7aaab",
   "metadata": {},
   "source": [
    "To improve our results we will throw different experiments and combine its information into a single result. To do so we will use the likelihood. First, what is the **likelihood**?\n",
    "\n",
    "In general, the likelihood $L(a|b)$ is the probability of obtaining $b$ conditioned to $a$, that is $L(a|b) = p(b|a)$.\n",
    "\n",
    "In our specific case, given the result of an experiment $h_k$ we want to know the probability of an angle $\\theta$ being the one that has generated it:\n",
    "$$p(\\theta|h_k).$$\n",
    "From all the possible values of theta we will propose as a solution the one with most probability.\n",
    "\n",
    "As computing $p(\\theta|h_k)$ is not completely straightforward we will compute instead $p(h_k|\\theta)$ which is proportional to the other one by Bayes's theorem. The associated likelihood is $L(\\theta|h_k) = p(h_k|\\theta)$. The value of this likelihood is:\n",
    "\n",
    "$$L(\\theta|h_k) = \\sin^2\\left((2m_k+1)\\theta\\right)^{h_k}\\cos^2\\left((2m_k+1)\\theta\\right)^{n_k-h_k}.$$\n",
    "\n",
    "This is because each measurement is independent of the other measurements, the probability of obtaining the state $|1\\rangle$ is given by $\\sin^2\\left((2m_k+1)\\theta\\right)$  and the probability of the state $|0\\rangle$ is given by $\\cos^2\\left((2m_k+1)\\theta\\right)$.\n",
    "\n",
    "To compute the likelihood for a given experiment we can use the function *likelihood*. The input of the method is:\n",
    "\n",
    "* angle : the angle.\n",
    "* m_k: the number of times the Grover-like operator will be applied.\n",
    "* n_k : number of shots.\n",
    "* h_k: number of positive outcomes\n",
    "\n",
    "The method returns:\n",
    "* l_k: likelihood of the angle\n",
    "\n",
    "\n"
   ]
  },
  {
   "cell_type": "code",
   "execution_count": null,
   "id": "10ea1d3a",
   "metadata": {},
   "outputs": [],
   "source": [
    "print('m_k: '+str(m_k)+' n_k: '+str(n_k)+' h_k: '+str(h_k))\n",
    "theta = np.linspace(0+mlae.delta,np.pi/2-mlae.delta,100)\n",
    "l_k = np.zeros(len(theta))\n",
    "for i in range(len(theta)):\n",
    "    l_k[i] = mlae.likelihood(theta[i],m_k,n_k,h_k)"
   ]
  },
  {
   "cell_type": "code",
   "execution_count": null,
   "id": "4a659270",
   "metadata": {},
   "outputs": [],
   "source": [
    "plt.plot(theta,l_k, '-', label = r\"$L(\\theta|h_k)$\")\n",
    "plt.axvline(angle_estimation,color = 'r', label = r\"$\\hat{\\theta}$\")\n",
    "plt.xlabel(r'$\\theta$')\n",
    "plt.ylabel('Likelihood')\n",
    "plt.grid()\n",
    "plt.legend()"
   ]
  },
  {
   "cell_type": "markdown",
   "id": "07304759",
   "metadata": {},
   "source": [
    "In blue is depicted the likelihood function for different values of $\\theta$. In red we have the estimation we made in the previous section."
   ]
  },
  {
   "cell_type": "markdown",
   "id": "c18f68db",
   "metadata": {},
   "source": [
    "### 2.4 The Cost Function "
   ]
  },
  {
   "cell_type": "markdown",
   "id": "900d83ab",
   "metadata": {},
   "source": [
    "As we see in the last graph, there are multiple values that maximize the likelihood function. If we combine the information from different $(m_k,h_k)$ we can get better estimations.\n",
    "\n",
    "Therefore we define a combined likelihood as:\n",
    "$$L(\\theta,\\mathbf{h}) = \\prod_{k = 0}^M l_k(\\theta,h_k).$$\n",
    "$$\\mathbf{h} = (h_0, h_1,...,h_M)$$\n",
    "\n",
    "Instead of dealing with the maximization problem, we define the equivalent minimization problem which substituting the combined likelihood with the **cost function** $C$:\n",
    "\n",
    "$$C(\\theta) = -\\log\\left(L(\\theta,\\mathbf{h})\\right)$$\n",
    "\n",
    "For computing the **Cost Function** following steps should be followed:\n",
    "\n",
    "1. First we need to select the different $(m_k,h_k)$ experiments. This is done using the **schedule** that will be a python list of 2 elements:\n",
    "    * 1st element: list with the number of applications of the grover operator, for example: m_k = [1, 2, 3, 5, 7] \n",
    "    * 2nd element list with the number of shots used for each application of the 1st element, for example: n_k = [100, 200, 50, 50, 100]\n",
    "    * In the before examples the schedule will be: schedule =[m_k, n_k] = [[1, 2, 3, 5, 7], [100, 200, 50, 50, 100]]\n",
    "2. For each pair ($m_k$, $n_k$) of the schedule run the *run_step* method and get the correspondent $h_k$. This will be done by the *run_schedule* method of the class     \n",
    "3. Using ($m_k$, $n_k$, $h_k$) we can compute the total cost function for different $\\theta \\in [0, \\frac{\\pi}{2}]$ using the *cost_function* static method.\n",
    "\n"
   ]
  },
  {
   "cell_type": "markdown",
   "id": "893d6450",
   "metadata": {},
   "source": [
    "#### 2.4.1 Configure the Schedule"
   ]
  },
  {
   "cell_type": "markdown",
   "id": "4ea96084",
   "metadata": {},
   "source": [
    "As we said, we want to combine the information of different experiments. In general each experiment can be characterised by the number of applications of the grover oracle $m_k$ and the number of shots $n_k$. A list of both is what we call a **schedule**.\n",
    "\n",
    "The schedule can be given when the class **MLAE** using the key *schedule*. "
   ]
  },
  {
   "cell_type": "code",
   "execution_count": null,
   "id": "834415a3",
   "metadata": {},
   "outputs": [],
   "source": [
    "m_k = [0,1,2,4,8,16]\n",
    "n_k = [10]*len(m_k)\n",
    "schedule = [m_k,n_k]\n",
    "\n",
    "target = [0,0,1]\n",
    "index = [0,1,2]\n",
    "\n",
    "#Schedule not provide\n",
    "mlae_dict = {\n",
    "    'qpu': linalg_qpu,\n",
    "    'schedule': schedule,\n",
    "    'mcz_qlm': True    \n",
    "}\n",
    "mlae = MLAE(\n",
    "    oracle,\n",
    "    target = target,\n",
    "    index = index, \n",
    "    **mlae_dict\n",
    ")\n",
    "\n",
    "print('Schedule: \\n', mlae.schedule)\n"
   ]
  },
  {
   "cell_type": "markdown",
   "id": "a7426174",
   "metadata": {},
   "source": [
    "We don't need to define the schedule at initialization. In this case following default schedule will be loaded:\n",
    "\n",
    "* $m_k$ = [0, 1, 2, 3, 4, 5, 6, 7, 8, 9]\n",
    "* $n_k$ = [100, 100, 100, 100, 100, 100, 100, 100, 100, 100]\n",
    "\n",
    "Additionally, we can define the schedule after initialization by simply assigning attribute schedule to the schedule we want"
   ]
  },
  {
   "cell_type": "code",
   "execution_count": null,
   "id": "8bccb701",
   "metadata": {},
   "outputs": [],
   "source": [
    "#Schedule not provide\n",
    "mlae_dict = {\n",
    "    'qpu': linalg_qpu,\n",
    "    'mcz_qlm': True     \n",
    "}\n",
    "target = [0,0,1]\n",
    "index = [0,1,2]\n",
    "mlae = MLAE(\n",
    "    oracle,\n",
    "    target = target,\n",
    "    index = index, \n",
    "    **mlae_dict\n",
    ")\n",
    "\n",
    "print('Default Schedule: \\n', mlae.schedule)\n",
    "\n",
    "#New Schedule\n",
    "m_k = [0,1,2,4,8,16]\n",
    "n_k = [10]*len(m_k)\n",
    "schedule = [m_k,n_k]\n",
    "mlae.schedule = schedule\n",
    "\n",
    "print('New Schedule: \\n', mlae.schedule)"
   ]
  },
  {
   "cell_type": "markdown",
   "id": "a777d5ec",
   "metadata": {},
   "source": [
    "#### 2.4.2 run_schedule"
   ]
  },
  {
   "cell_type": "markdown",
   "id": "2d7c8bf3",
   "metadata": {},
   "source": [
    "Once we have the schedule properly configured we can use the *run_schedule* method for executing the application of the Grover operator following the schedule order. This method needs the schedule and provide and a array with the different results of $h_k$ for each pair ($m_k$, $n_k$) of the schedule.\n"
   ]
  },
  {
   "cell_type": "code",
   "execution_count": null,
   "id": "9e61fc7a",
   "metadata": {},
   "outputs": [],
   "source": [
    "#Creating the class\n",
    "mlae_dict = {\n",
    "    'qpu': linalg_qpu,\n",
    "    'mcz_qlm': True \n",
    "}\n",
    "target = [0,0,1]\n",
    "index = [0,1,2]\n",
    "mlae = MLAE(\n",
    "    oracle,\n",
    "    target = target,\n",
    "    index = index, \n",
    "    **mlae_dict\n",
    ")"
   ]
  },
  {
   "cell_type": "code",
   "execution_count": null,
   "id": "a3a102ca",
   "metadata": {},
   "outputs": [],
   "source": [
    "#Configure the schedule\n",
    "#applications of Grover operator\n",
    "m_k = [0, 1, 2, 3, 4, 5]\n",
    "#Shots for each application of Grover operator\n",
    "n_k = [100 for i in m_k]\n",
    "shedule = [m_k, n_k]\n",
    "#execution of the run_schedule method\n",
    "h_k = mlae.run_schedule(shedule)\n",
    "print('h_k: ', h_k)"
   ]
  },
  {
   "cell_type": "markdown",
   "id": "f3c2d4a9",
   "metadata": {},
   "source": [
    "#### 2.4.3 cost_function"
   ]
  },
  {
   "cell_type": "markdown",
   "id": "c306146b",
   "metadata": {},
   "source": [
    "Now we have all the necessary input ($m_k$, $n_k$, $h_k$) for computing the desired **cost function** $C$. We can use the static method of the class **cost_function**. This method receives:\n",
    "\n",
    "* $\\theta$\n",
    "* $m_k$\n",
    "* $n_k$\n",
    "* $h_k$\n",
    "\n",
    "and computes the corresponding **Cost Function** for angle $\\theta$. \n",
    "\n",
    "So we can define an array of $\\theta$ between $[0, \\frac{\\pi}{2}]$ and get the **Cost Function** for each value\n",
    "\n",
    "**Note** \n",
    "\n",
    "To avoid problems with angles 0 and $\\frac{\\pi}{2}$ we use the delta property of the **MLAE** class"
   ]
  },
  {
   "cell_type": "code",
   "execution_count": null,
   "id": "f14510e4",
   "metadata": {},
   "outputs": [],
   "source": [
    "#Posible angles\n",
    "angles = np.linspace(0+mlae.delta,np.pi/2-mlae.delta,50)\n",
    "cost = np.zeros(len(angles))\n",
    "#Calculate cost function for each angle\n",
    "for i in range(len(angles)):\n",
    "    cost[i] = mlae.cost_function(angles[i], m_k, n_k, h_k)"
   ]
  },
  {
   "cell_type": "code",
   "execution_count": null,
   "id": "9a02b5af",
   "metadata": {},
   "outputs": [],
   "source": [
    "#We can plot the Cost Function\n",
    "plt.plot(angles,cost, '-o', label = r\"$C(\\theta)$\")\n",
    "plt.title('Cost function')\n",
    "plt.grid()\n",
    "plt.xlabel(r\"$\\theta$\")\n",
    "plt.ylabel(r\"$C(\\theta)$\")\n",
    "plt.legend()"
   ]
  },
  {
   "cell_type": "markdown",
   "id": "e09b85c5",
   "metadata": {},
   "source": [
    "We are going to use a little trick: We are going to use the *partial* function from *functools* package for creating a new cost_function based on the *cost_function* method of the **MLAE** class. For this new cost_function we are going to provided the obtained $m_k$, $n_k$ and $h_k$ as a fixed values. So we only need to provide the angle to this new function in order to obtain the cost_function and the obtained $m_k$, $n_k$ and $h_k$ will be used as constants"
   ]
  },
  {
   "cell_type": "code",
   "execution_count": null,
   "id": "872e841e",
   "metadata": {},
   "outputs": [],
   "source": [
    "#Little trick: We are going to use the partial from functools for giving the m_k, n_k and h_k\n",
    "from functools import partial\n",
    "#Usign partial we create a cost_function using as base the cost_function method from the MLAE class\n",
    "#were the m_k, n_k and h_k will be fixed to the values we desire. Now this new cost_function only needs\n",
    "#the angle for return the cost using the m_k, n_k and h_k we provide previously as constant values\n",
    "partial_cost_function = partial(mlae.cost_function, m_k = m_k, n_k=n_k, h_k=h_k)"
   ]
  },
  {
   "cell_type": "code",
   "execution_count": null,
   "id": "ddee9342",
   "metadata": {},
   "outputs": [],
   "source": [
    "#Possible angles\n",
    "angles = np.linspace(0+mlae.delta,np.pi/2-mlae.delta,50)\n",
    "partial_cost = np.zeros(len(angles))\n",
    "#Calculate cost function for each angle\n",
    "for i in range(len(angles)):\n",
    "    partial_cost[i] = partial_cost_function(angles[i])"
   ]
  },
  {
   "cell_type": "code",
   "execution_count": null,
   "id": "db6dc6e0",
   "metadata": {},
   "outputs": [],
   "source": [
    "#We can plot the Cost Function\n",
    "plt.plot(angles,partial_cost, '-o', label = r\"$C(\\theta)$\")\n",
    "plt.title('Cost function')\n",
    "plt.grid()\n",
    "plt.xlabel(r\"$\\theta$\")\n",
    "plt.ylabel(r\"$C(\\theta)$\")\n",
    "plt.legend()"
   ]
  },
  {
   "cell_type": "markdown",
   "id": "7f52264b",
   "metadata": {},
   "source": [
    "### 2.5 Optimization of the Cost Function\n",
    "\n",
    "So far we have the **cost function** $C$:\n",
    "\n",
    "$$C(\\theta) = -\\log\\left(L(\\theta,\\mathbf{h})\\right)$$\n",
    "\n",
    "The idea is the is to find the $\\theta^*$ that minimizes the cost function:\n",
    "$$\\theta^* = \\arg \\min_{\\theta} C(\\theta)$$\n",
    "\n",
    "With this $\\theta^*$ we can compute the desired $a=sin^2(\\theta^*)$. \n",
    "\n",
    "This can be done following a straightforward way: finding the lower value of the cost_function array and the correspondent angle:"
   ]
  },
  {
   "cell_type": "code",
   "execution_count": null,
   "id": "94b95a37",
   "metadata": {},
   "outputs": [],
   "source": [
    "#straightforward approach\n",
    "print('Minimum of the Cost Function: ', min(partial_cost))\n",
    "theta_min = angles[np.argmin(partial_cost)]\n",
    "print('theta_min: ', theta_min)"
   ]
  },
  {
   "cell_type": "code",
   "execution_count": null,
   "id": "5b8a6a16",
   "metadata": {},
   "outputs": [],
   "source": [
    "#Complete plot\n",
    "plt.plot(angles,partial_cost, '-o', label = r\"$C(\\theta)$\")\n",
    "plt.axvline(theta_min,color = 'r', label = r\"$\\theta^*$\")\n",
    "plt.title(r'Cost function and $\\theta_{min}$')\n",
    "plt.grid()\n",
    "plt.xlabel(r\"$\\theta$\")\n",
    "plt.ylabel(r\"$C(\\theta)$\")\n",
    "plt.legend()"
   ]
  },
  {
   "cell_type": "markdown",
   "id": "f2673c98",
   "metadata": {},
   "source": [
    "So this straightforward approximation give us a good approximation but depends on the number of $\\theta$ we use to compute the cost function. \n",
    "\n",
    "A better approach is to use an optimization routine for getting the minimum of the new *cost_function* function.\n",
    "\n",
    "For example from **scipy optimization** module we can use the **brute** optimization routine in order to do this as can be seen in the following cells:\n",
    "\n",
    "https://docs.scipy.org/doc/scipy/reference/generated/scipy.optimize.brute.html\n"
   ]
  },
  {
   "cell_type": "code",
   "execution_count": null,
   "id": "11418e7e",
   "metadata": {},
   "outputs": [],
   "source": [
    "import scipy.optimize as so"
   ]
  },
  {
   "cell_type": "code",
   "execution_count": null,
   "id": "052c0d6a",
   "metadata": {},
   "outputs": [],
   "source": [
    "#We create a function optimizer that receives as input a function of one variable\n",
    "theta_domain = [(0+mlae.delta, 0.5*np.pi-mlae.delta)]\n",
    "optimizer = lambda x: so.brute(func=x, ranges=theta_domain, Ns=1000)"
   ]
  },
  {
   "cell_type": "code",
   "execution_count": null,
   "id": "51bdb164",
   "metadata": {},
   "outputs": [],
   "source": [
    "#We use the optimizer define in before cell given as input the new_cost_function\n",
    "theta_optimized = optimizer(partial_cost_function)\n",
    "print('theta_optimized: ', theta_optimized)\n",
    "print('Cost Function at theta_optimized: ', partial_cost_function(theta_optimized))\n",
    "print('a estimated from theta_optimized: ', np.sin(theta_optimized)**2)\n",
    "print(\"Classical result: \",probability[bitfield_to_int(target)])"
   ]
  },
  {
   "cell_type": "code",
   "execution_count": null,
   "id": "b7c7780e",
   "metadata": {
    "scrolled": true
   },
   "outputs": [],
   "source": [
    "#Now we can plot again all the staff\n",
    "plt.plot(angles,partial_cost, '-o', label = r\"$C(\\theta)$\")\n",
    "plt.axvline(theta_optimized,color = 'r', label = r\"$\\theta_{optimized}$\")\n",
    "plt.grid()\n",
    "plt.xlabel(r\"$\\theta$\")\n",
    "plt.ylabel(r\"$C(\\theta)$\")\n",
    "plt.legend()"
   ]
  },
  {
   "cell_type": "markdown",
   "id": "07c1a92e",
   "metadata": {},
   "source": [
    "### 2.6 Complete Algorithm execution\n",
    "\n",
    "**MLAE** class implements the step by step parts explained in the before sections in an automated way by using the *mlae* method. Once the class is created, user can execute mlae method in order to do a complete execution of **MLAE** algorithm. \n",
    "\n",
    "The inputs of this method are:\n",
    "\n",
    "* schedule.\n",
    "* optimizer: the optimizer should be passed as a **lambda function** which input will be a function on one variable (the angle to optimize).\n",
    "\n",
    "The outputs of this method are:\n",
    "\n",
    "* result: optimizer result\n",
    "* h_k : list with positive outcomes of each experiment done according the schedule\n",
    "* cost_function_partial : python function with the cost function where the $m_k$, $n_k$ and the $h_k$ are fixed to the results obtained.\n",
    "\n",
    "Additionally this method overwrite the **optimizer_time** property of the class that measures the time for the optimization process."
   ]
  },
  {
   "cell_type": "code",
   "execution_count": null,
   "id": "82b64152",
   "metadata": {},
   "outputs": [],
   "source": [
    "target = [0,0,1]\n",
    "index = [0,1,2]\n",
    "\n",
    "#Creating the class\n",
    "mlae_dict = {\n",
    "    'qpu': linalg_qpu,\n",
    "    'mcz_qlm': True     \n",
    "}\n",
    "\n",
    "mlae = MLAE(\n",
    "    oracle,\n",
    "    target = target,\n",
    "    index = index, \n",
    "    **mlae_dict\n",
    ")\n",
    "\n",
    "\n",
    "#Schedule configuration\n",
    "m_k = [0, 1, 2, 3, 4, 5]\n",
    "n_k = [100 for i in m_k]\n",
    "shedule = [m_k, n_k]\n",
    "\n",
    "#Optimizer Configuration\n",
    "import scipy.optimize as so\n",
    "#We create a function optimizer that receives as input the cost_function we create before\n",
    "theta_domain = [(0+mlae.delta, 0.5*np.pi-mlae.delta)]\n",
    "optimizer = lambda f: so.brute(func=f, ranges=theta_domain, Ns=1000)"
   ]
  },
  {
   "cell_type": "code",
   "execution_count": null,
   "id": "f8831289",
   "metadata": {},
   "outputs": [],
   "source": [
    "result, h_k, partial_cost_funtion = mlae.mlae(shedule, optimizer)"
   ]
  },
  {
   "cell_type": "code",
   "execution_count": null,
   "id": "e435a70b",
   "metadata": {},
   "outputs": [],
   "source": [
    "print(result)"
   ]
  },
  {
   "cell_type": "code",
   "execution_count": null,
   "id": "04b4492c",
   "metadata": {},
   "outputs": [],
   "source": [
    "print(h_k)"
   ]
  },
  {
   "cell_type": "code",
   "execution_count": null,
   "id": "a0d1e63e",
   "metadata": {},
   "outputs": [],
   "source": [
    "print('Optimization time: ', mlae.optimizer_time)"
   ]
  },
  {
   "cell_type": "code",
   "execution_count": null,
   "id": "b8f60b20",
   "metadata": {
    "scrolled": true
   },
   "outputs": [],
   "source": [
    "#We can use the returned partial_cost_function to do some graphs\n",
    "\n",
    "angles = np.linspace(0+mlae.delta,np.pi/2-mlae.delta,50)\n",
    "cost_partial = partial_cost_funtion(angles)\n",
    "theta_optimized = result[0]\n",
    "\n",
    "plt.plot(angles, cost_partial, '-o', label = r\"$C(\\theta)$\")\n",
    "plt.axvline(theta_optimized, color = 'r', label = r\"$\\theta_{optimized}$\")\n",
    "plt.grid()\n",
    "plt.xlabel(r\"$\\theta$\")\n",
    "plt.ylabel(r\"$C(\\theta)$\")\n",
    "plt.legend()"
   ]
  },
  {
   "cell_type": "code",
   "execution_count": null,
   "id": "ddfbd3d4",
   "metadata": {},
   "outputs": [],
   "source": [
    "#Printing the circuit for the oracle\n",
    "c = mlae._grover_oracle\n",
    "%qatdisplay c --depth 3"
   ]
  },
  {
   "cell_type": "markdown",
   "id": "68f252a7",
   "metadata": {},
   "source": [
    "#### The optimizer"
   ]
  },
  {
   "cell_type": "markdown",
   "id": "a09dc8b9",
   "metadata": {},
   "source": [
    "To find the angle that minimizes the cost function we need to use a minimization algorithm. When the class is created the optimizer can be provided using the key *optimizer* and can be access with property *optimizer*. By default, *optimizer* property will be initialized to the **brute** optimization algorithm from *scipy.optimize*.\n",
    "\n",
    "Additionally, we can define the optimizer after initialization by simply assigning attribute *optimizer* to the optimizer we want.\n",
    "\n",
    "**NOTE**\n",
    "\n",
    "The optimizer that we have to pass to the class needs to be a function of just one variable: the angle. This is straightforward using lambda functions. \n",
    "\n",
    "\n",
    "In this case, we will do an example with differential-evolution algorithm from the scipy library."
   ]
  },
  {
   "cell_type": "code",
   "execution_count": null,
   "id": "33ffb132",
   "metadata": {},
   "outputs": [],
   "source": [
    "import scipy.optimize as so"
   ]
  },
  {
   "cell_type": "markdown",
   "id": "99862e9d",
   "metadata": {},
   "source": [
    "The *differential evolution* algorithm just needs as input the function to be minimized and the bounds where the minimization is done."
   ]
  },
  {
   "cell_type": "code",
   "execution_count": null,
   "id": "4d52cec9",
   "metadata": {},
   "outputs": [],
   "source": [
    "bounds = [[0.+mlae.delta,np.pi/2-mlae.delta]]\n",
    "differential_evolution = lambda f: so.differential_evolution(f,bounds = bounds)"
   ]
  },
  {
   "cell_type": "code",
   "execution_count": null,
   "id": "fb724887",
   "metadata": {},
   "outputs": [],
   "source": [
    "result, h_k, new_cost_function = mlae.mlae(schedule, differential_evolution)"
   ]
  },
  {
   "cell_type": "markdown",
   "id": "2a5150a0",
   "metadata": {},
   "source": [
    "Remember that, the result of the function optimize is the result given by the optimizer. In this case, the function differential evolution gives as output an object. The result of the minimization is stored in the attribute *x*."
   ]
  },
  {
   "cell_type": "code",
   "execution_count": null,
   "id": "cd1037b6",
   "metadata": {},
   "outputs": [],
   "source": [
    "print('Optimization time: ', mlae.optimizer_time)"
   ]
  },
  {
   "cell_type": "code",
   "execution_count": null,
   "id": "6bfd1838",
   "metadata": {},
   "outputs": [],
   "source": [
    "angle = result.x\n",
    "print(\"Quantum result: \",np.sin(angle)**2)\n",
    "print(\"Classical result: \",probability[bitfield_to_int(target)])"
   ]
  },
  {
   "cell_type": "markdown",
   "id": "23f74848",
   "metadata": {},
   "source": [
    "### BE AWARE!!!"
   ]
  },
  {
   "cell_type": "markdown",
   "id": "1fdd33cb",
   "metadata": {},
   "source": [
    "**Brief comment on the optimizer**. As we saw before, the cost function it is not convex, i.e. it has multiple local minima. If we pass a local optimizer such as *Nelder-Mead*, we won't get a good result. Next we give an example."
   ]
  },
  {
   "cell_type": "code",
   "execution_count": null,
   "id": "e437d271",
   "metadata": {},
   "outputs": [],
   "source": [
    "bounds = [[0.+mlae.delta,np.pi/2-mlae.delta]]\n",
    "#Initial angle value\n",
    "x0 = [0.8]\n",
    "nelder_mead = lambda f: so.minimize(f, x0 = x0, bounds = bounds, method = \"Nelder-Mead\")"
   ]
  },
  {
   "cell_type": "code",
   "execution_count": null,
   "id": "0d33a8ee",
   "metadata": {},
   "outputs": [],
   "source": [
    "#Remember: if uses other optimizer  than default one the use optimize method instead of run one\n",
    "mlae.optimizer = nelder_mead\n",
    "result, h_k, new_cost_function = mlae.mlae(schedule, nelder_mead)"
   ]
  },
  {
   "cell_type": "code",
   "execution_count": null,
   "id": "5ab90715",
   "metadata": {},
   "outputs": [],
   "source": [
    "angles = np.linspace(0++mlae.delta,np.pi/2-mlae.delta,100)\n",
    "cost = np.zeros(len(angles))\n",
    "for i in range(len(angles)):\n",
    "    cost[i] = new_cost_function(angles[i])"
   ]
  },
  {
   "cell_type": "code",
   "execution_count": null,
   "id": "68325f70",
   "metadata": {},
   "outputs": [],
   "source": [
    "print('Nelder-Mead result: ', result.x)\n",
    "print('Classical result: ', np.arcsin(probability[bitfield_to_int(target)]**0.5))"
   ]
  },
  {
   "cell_type": "code",
   "execution_count": null,
   "id": "46ef9b5e",
   "metadata": {},
   "outputs": [],
   "source": [
    "plt.plot(angles,cost,'-o', label = r\"$C(\\theta)$\")\n",
    "plt.axvline(result.x,color = 'r',label = r\"$\\theta^*$\")\n",
    "plt.axvline(x0[0],color = 'g',label = r\"$\\theta_{initial}$\")\n",
    "plt.axvline(angles[cost.argmin()],color = 'b',label = r\"$\\arg \\min_{\\theta} C(\\theta)}$\")\n",
    "plt.title('Nealder-Mead optimization result')\n",
    "plt.grid()\n",
    "plt.xlabel(r\"$\\theta$\")\n",
    "plt.ylabel(r\"$C(\\theta)$\")\n",
    "plt.legend()"
   ]
  },
  {
   "cell_type": "markdown",
   "id": "a742539f",
   "metadata": {},
   "source": [
    "As can be seen in the graph the *Nelder-Mead* has a bad initialization and optimizer and get stack in a local minimum."
   ]
  },
  {
   "cell_type": "markdown",
   "id": "e4987ad1",
   "metadata": {},
   "source": [
    "## 3. Summarize and how to use"
   ]
  },
  {
   "cell_type": "markdown",
   "id": "de7cefcc",
   "metadata": {},
   "source": [
    "In section 2 the complete algorithm in a detailed step by step was explained. The methods shown in this section were shown only for pedagogical purposes but users **SHOULD NOT** use them.\n",
    "\n",
    "Users should only use one of the following two methods:\n",
    "\n",
    "* **mlae** method.\n",
    "* **run** method.\n",
    "\n",
    "First, given an oracle user should create the class:"
   ]
  },
  {
   "cell_type": "code",
   "execution_count": null,
   "id": "765e69b8",
   "metadata": {},
   "outputs": [],
   "source": [
    "target = [0,0,1]\n",
    "index = [0,1,2]\n",
    "\n",
    "#Creating the class\n",
    "mlae_dict = {\n",
    "    'qpu': linalg_qpu,\n",
    "    'mcz_qlm': True    \n",
    "}\n",
    "\n",
    "mlae = MLAE(\n",
    "    oracle,\n",
    "    target = target,\n",
    "    index = index, \n",
    "    **mlae_dict\n",
    ")\n"
   ]
  },
  {
   "cell_type": "markdown",
   "id": "ff34e33a",
   "metadata": {},
   "source": [
    "### 3.1 *mlae* method\n",
    "\n",
    "This method was explained in *Section 2.6*. User should provide an scheduler and a optimizer. User can use the defaults in a straightforward way:"
   ]
  },
  {
   "cell_type": "code",
   "execution_count": null,
   "id": "bcb90e69",
   "metadata": {},
   "outputs": [],
   "source": [
    "#Default Schedule, default optimizer\n",
    "result, h_k, partial_cost_function = mlae.mlae(mlae.schedule, mlae.optimizer)"
   ]
  },
  {
   "cell_type": "code",
   "execution_count": null,
   "id": "a75c0dea",
   "metadata": {},
   "outputs": [],
   "source": [
    "print(\"Quantum result theta: \",result)\n",
    "print(\"Quantum result a: \",np.sin(result**2))\n",
    "print('Classical result: ', probability[bitfield_to_int(target)])\n",
    "print('Test OK: ',abs(np.sin(result**2)-probability[bitfield_to_int(target)]) < 0.005)"
   ]
  },
  {
   "cell_type": "code",
   "execution_count": null,
   "id": "0fed4b2b",
   "metadata": {},
   "outputs": [],
   "source": [
    "print('Optimizer time: ',mlae.optimizer_time)"
   ]
  },
  {
   "cell_type": "markdown",
   "id": "f54bc986",
   "metadata": {},
   "source": [
    "### 3.2 *run* method\n",
    "\n",
    "Additionally, user can configure all the properties of th **MLAE** class, and use directly the *run* method. This method execute the **mlae** method using the attributes of the *MLAE* class (*schedule* and *optimizer*) and return the desired $a=sin^2(\\theta^*)$ value. Additionally, the *run* method populates following properties:\n",
    "\n",
    "* *h_k*: positive outcomes for the schedule used.\n",
    "* *theta*: estimated angle from a complete **MLAE** algorithm execution.\n",
    "* *ae* amplitude estimation looked parameter extracted from *theta* property: $a=sin^2(\\theta^*)$.\n",
    "* *partial_cost_function*: this is the cost_function where the $m_k$, $n_k$ and $h_k$ variables are fixed to the correspondent values of the used schedule and the obtained $m_k$ values. Only angle $\\theta$ can de given to this function.\n",
    "* *run_time*: this is the elapsed time of a complete *run* method\n",
    "\n",
    "**WARNING**\n",
    "\n",
    "*run* method was implemented for using the **brute** optimization algorithm from **scipy.optimize** (i.e. the default optimizer of the **MLAE** class). If user wants to use other optimizer algorithm the method to use **should be** the *mlae* one!!!"
   ]
  },
  {
   "cell_type": "code",
   "execution_count": null,
   "id": "1537903b",
   "metadata": {},
   "outputs": [],
   "source": [
    "target = [0,0,1]\n",
    "index = [0,1,2]\n",
    "\n",
    "m_k = [1, 2, 4, 8, 16]\n",
    "n_k = [100 for i in m_k]\n",
    "\n",
    "schedule = [m_k, n_k]\n",
    "\n",
    "\n",
    "#Creating the class\n",
    "mlae_dict = {\n",
    "    'qpu': linalg_qpu,\n",
    "    'schedule': schedule,\n",
    "    'mcz_qlm': True \n",
    "}\n",
    "\n",
    "mlae = MLAE(\n",
    "    oracle,\n",
    "    target = target,\n",
    "    index = index, \n",
    "    **mlae_dict\n",
    ")\n",
    "\n",
    "estimated_a = mlae.run()"
   ]
  },
  {
   "cell_type": "code",
   "execution_count": null,
   "id": "b751de9d",
   "metadata": {},
   "outputs": [],
   "source": [
    "print('estimated_a: ', estimated_a)\n",
    "#populated properties\n",
    "print('mlae.h_k: ', mlae.h_k)\n",
    "print('mlae.theta: ', mlae.theta)\n",
    "print('mlae.a: ', mlae.ae)"
   ]
  },
  {
   "cell_type": "code",
   "execution_count": null,
   "id": "ef1f4069",
   "metadata": {},
   "outputs": [],
   "source": [
    "angles = np.linspace(0+mlae.delta,np.pi/2-mlae.delta,100)\n",
    "#using partial_cost_function attribute\n",
    "\n",
    "plt.plot(angles, mlae.partial_cost_function(angles), '-o', label = r\"$C(\\theta)$\")\n",
    "plt.axvline(mlae.theta, color = 'r', label = r\"$\\theta^*$\")\n",
    "plt.grid()\n",
    "plt.xlabel(r\"$\\theta$\")\n",
    "plt.ylabel(r\"$C(\\theta)$\")\n",
    "plt.legend()"
   ]
  },
  {
   "cell_type": "code",
   "execution_count": null,
   "id": "79772271",
   "metadata": {},
   "outputs": [],
   "source": [
    "print(\"Quantum result a: \", estimated_a)\n",
    "print('Classical result: ', probability[bitfield_to_int(target)])\n",
    "print('Test OK: ',abs(estimated_a-probability[bitfield_to_int(target)]) < 0.005)"
   ]
  },
  {
   "cell_type": "code",
   "execution_count": null,
   "id": "9b3cd3ec",
   "metadata": {
    "scrolled": true
   },
   "outputs": [],
   "source": [
    "#For draw the used oracle\n",
    "grover = mlae._grover_oracle\n",
    "%qatdisplay grover --depth 3"
   ]
  },
  {
   "cell_type": "markdown",
   "id": "02ddd8eb",
   "metadata": {},
   "source": [
    "When the *run* method is executed following class attributes are populated:\n",
    "\n",
    "* *circuit_statistics*: python dictionary with the statistics of each circuit used during the algorithm execution. Each key of the dictionary corresponds with a $m_K$ used and its associated value is a python dictionary with the complete statistical information of the circuit create for the $m_k$ value.\n",
    "* *schedule_pdf*: pandas DataFrame where the complete schedule ($m_k$ and $n_k$) and the correspondent measurements ($h_k$) are stored.\n",
    "* *oracle_calls*: number of total oracle calls for a complete execution of the algorithm\n",
    "* *max_oracle_depth*: maximum number of applications of the oracle for the complete execution of the algorithm.\n"
   ]
  },
  {
   "cell_type": "code",
   "execution_count": null,
   "id": "86278fbb",
   "metadata": {
    "scrolled": true
   },
   "outputs": [],
   "source": [
    "mlae.circuit_statistics"
   ]
  },
  {
   "cell_type": "code",
   "execution_count": null,
   "id": "608e3385",
   "metadata": {},
   "outputs": [],
   "source": [
    "#Complete schedule and the correspondent measurements done\n",
    "mlae.schedule_pdf"
   ]
  },
  {
   "cell_type": "code",
   "execution_count": null,
   "id": "5784380e",
   "metadata": {
    "scrolled": false
   },
   "outputs": [],
   "source": [
    "#Total number of oracle calls\n",
    "print(\"The total number of the oracle calls for the MLAE was: {}\".format(mlae.oracle_calls))"
   ]
  },
  {
   "cell_type": "code",
   "execution_count": null,
   "id": "5c78dc0b",
   "metadata": {},
   "outputs": [],
   "source": [
    "#Number of maximum oracle applications\n",
    "mlae.max_oracle_depth"
   ]
  },
  {
   "cell_type": "code",
   "execution_count": null,
   "id": "e6e68cc3",
   "metadata": {},
   "outputs": [],
   "source": [
    "mlae.quantum_time"
   ]
  },
  {
   "cell_type": "code",
   "execution_count": null,
   "id": "8551a05b",
   "metadata": {},
   "outputs": [],
   "source": [
    "mlae.run_time"
   ]
  }
 ],
 "metadata": {
  "kernelspec": {
   "display_name": "Python 3 (ipykernel)",
   "language": "python",
   "name": "python3"
  },
  "language_info": {
   "codemirror_mode": {
    "name": "ipython",
    "version": 3
   },
   "file_extension": ".py",
   "mimetype": "text/x-python",
   "name": "python",
   "nbconvert_exporter": "python",
   "pygments_lexer": "ipython3",
   "version": "3.9.9"
  }
 },
 "nbformat": 4,
 "nbformat_minor": 5
}
