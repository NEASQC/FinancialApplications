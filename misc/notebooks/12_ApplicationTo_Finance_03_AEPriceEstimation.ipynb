{
 "cells": [
  {
   "cell_type": "markdown",
   "id": "792a8e12",
   "metadata": {},
   "source": [
    "# AE Price Estimation\n",
    "\n",
    "This notebook presents the *ae_estimation_price* function inside the module *ae_price_estimation* of the package *finance* from *QQuantLib* (**QQuantLib/finance/ae_price_estimation.py**).\n",
    "\n",
    "This function allows the user to solve an input **option price estimation** problem using **amplitude estimation** algorithms. \n",
    "\n",
    "The *ae_estimation_price* functions use the **DensityProbability** and the **PayOff** python classes (explained in notebook **11_ApplicationTo_Finance_02_ClassicalFinance**) for creating the correspondent arrays $p(x)$ and $f(x)$ defined in a domain $x \\in [x_0,x_f]$. Then the functions try to compute the expected value\n",
    "\n",
    "$$\\mathbb{E}[f]=\\int_{x_0}^{x_f}p(x)f(x)dx$$\n",
    "\n",
    "using the **q_solve_integral** function explained in notebook **10_ApplicationTo_Finance_01_IntegralComputing**. \n",
    "\n",
    "Once the **q_solve_integral** function computes the desired expectation the *ae_estimation_price* functions compute the *option* prices estimation using:\n",
    "\n",
    "$$V(t, S(t)) = e^{r(T-t)} \\int_{x_0}^{x_f}p(x)f(x)dx$$ \n"
   ]
  },
  {
   "cell_type": "code",
   "execution_count": null,
   "id": "d6a10151",
   "metadata": {},
   "outputs": [],
   "source": [
    "import sys\n",
    "sys.path.append(\"../../\")\n",
    "import numpy as np\n",
    "import pandas as pd\n",
    "import matplotlib.pyplot as plt\n",
    "%matplotlib inline"
   ]
  },
  {
   "cell_type": "code",
   "execution_count": null,
   "id": "d2a198c6",
   "metadata": {},
   "outputs": [],
   "source": [
    "#This cell loads the QLM solver. QPU = [qlmass, python, c]\n",
    "from QQuantLib.qpu.get_qpu import get_qpu\n",
    "QPU = [\"qlmass\", \"python\", \"c\"]\n",
    "linalg_qpu = get_qpu(QPU[2])"
   ]
  },
  {
   "cell_type": "code",
   "execution_count": null,
   "id": "fd82de61",
   "metadata": {},
   "outputs": [],
   "source": [
    "from QQuantLib.finance.ae_price_estimation import ae_price_estimation"
   ]
  },
  {
   "cell_type": "markdown",
   "id": "b5f766aa",
   "metadata": {},
   "source": [
    "## 1. ae_price_estimation input\n",
    "\n",
    "The input of the *ae_price_estimation* will be a complete Python dictionary. This Python dictionary needs to have all the mandatory keys for defining an option price estimation problem and solving it with the properly configured **AE** algorithm. \n",
    "\n",
    "For pedagogical reasons, we can split this input dictionary in the following sub-dictionaries:\n",
    "\n",
    "1. Domain configuration.\n",
    "2. Probability Density configuration \n",
    "3. PayOff configuration\n",
    "4. AE configuration\n",
    "5. Other configuration\n"
   ]
  },
  {
   "cell_type": "markdown",
   "id": "15e006c8",
   "metadata": {},
   "source": [
    "### 1.1 Domain configuration:\n",
    "\n",
    "This will be the dictionary for configuring the domain and the discretization of our problem. \n",
    "\n",
    "So in our case, the domain of the problem will be:\n",
    "\n",
    "$$x \\in [x_0,x_f]$$\n",
    "\n",
    "and for its discretization:\n",
    "\n",
    "$$[x_0,x_f]=\\{[x_0, x_1]U [x_1, x_2]U ...U [x_{2^n-1}, x_f]\\}$$ \n",
    "\n",
    "The keys for this *domain* dictionary will be:\n",
    "\n",
    "* *x0*: the start point of the domain\n",
    "* *xf*: the end point of the domain\n",
    "* *n_qbits*: for splitting the domain in $2^{n\\_qbits}$ intervals"
   ]
  },
  {
   "cell_type": "code",
   "execution_count": null,
   "id": "38a53e30",
   "metadata": {},
   "outputs": [],
   "source": [
    "#Domain configuration\n",
    "domain_configuration = {\n",
    "    'x0': 0.01,\n",
    "    'xf': 5.0,\n",
    "    'n_qbits': 5,      \n",
    "}"
   ]
  },
  {
   "cell_type": "markdown",
   "id": "7e071a31",
   "metadata": {},
   "source": [
    "### 1.2 Probability Density Configuration \n",
    "\n",
    "This dictionary will have the information related to the underlying asset of the option, the information of the market and the time when the probability density will be evaluated (in general this will be the *maturity* of the option). This dictionary will need all the mandatory keys for configuring properly the *DensityProbability* (from **QQuantLib.finance.probability_class**).\n",
    "\n",
    "* *probability_type*: string with probability density type we want to use. Only 'Black-Scholes' is available (it is expected to implement more density probability functions in the future...)\n",
    "* *s_0*: Initial value of the asset $S$.\n",
    "* *risk_free_rate*: the risk-free rate of the market.\n",
    "* *maturity*: this is the time for computing the probability distribution of the asset value. When we work with option this time will be the *maturity* of the option.\n",
    "* *volatility*: volatility of the asset up to the initial time.\n"
   ]
  },
  {
   "cell_type": "code",
   "execution_count": null,
   "id": "52e1f959",
   "metadata": {},
   "outputs": [],
   "source": [
    "#Probability density configuration\n",
    "probability_configuration = {\n",
    "    'probability_type': 'Black-Scholes',\n",
    "    's_0': 1,\n",
    "    'risk_free_rate': 0.05,\n",
    "    'maturity': 1.0,\n",
    "    'volatility': 0.5,    \n",
    "}"
   ]
  },
  {
   "cell_type": "markdown",
   "id": "9ed7e64b",
   "metadata": {},
   "source": [
    "### 1.3 PayOff configuration \n",
    "\n",
    "This dictionary will have the mandatory keys for configuring the *PayOff* (from **QQuantLib.finance.payoff_class**). In general will be related to the type of the option, the strike etc...\n",
    "\n",
    "* *pay_off_type*: this will be the type of option we want. At this moment following options are available:\n",
    "    * European_Call_Option\n",
    "    * European_Put_Option\n",
    "    * Digital_Call_Option\n",
    "    * Digital_Put_Option\n",
    "    * Futures\n",
    "* *strike*: strike of the derivative product.\n",
    "* *coupon*: this for *Digital_Call_Option* and *Digital_Put_Option*."
   ]
  },
  {
   "cell_type": "code",
   "execution_count": null,
   "id": "4b3c4975",
   "metadata": {},
   "outputs": [],
   "source": [
    "#PayOff Configuration\n",
    "payoff_configuration = {\n",
    "    'pay_off_type': 'European_Call_Option',\n",
    "    'strike': 0.5,\n",
    "    'coupon': None,        \n",
    "}"
   ]
  },
  {
   "cell_type": "markdown",
   "id": "4f856ab2",
   "metadata": {},
   "source": [
    "### 1.4 Encoding configuration\n",
    "\n",
    "This dictionary will have all the mandatory keys to configure the encoding of the $p(x)$ and $f(x)$ arrays into the quantum circuit. These keys will be used for configuring properly the *Encoding* class (from **QQuantLib.DL.encoding_protocols**) used inside the *q_solve_integral* function (from **QQuantLib.finance.quantum_integration**):\n",
    "\n",
    "* *encoding*: type of encoding used. It can be 0, 1 or 2.\n",
    "* *multiplexor*: for using multiplexor constructions for controlled by state gates.\n"
   ]
  },
  {
   "cell_type": "code",
   "execution_count": null,
   "id": "ba7e8906",
   "metadata": {},
   "outputs": [],
   "source": [
    "#For encoding class\n",
    "encoding_configuration = {\n",
    "    \"encoding\" : 0, #1,2\n",
    "    \"multiplexor\": True,        \n",
    "}"
   ]
  },
  {
   "cell_type": "markdown",
   "id": "02e9e8fa",
   "metadata": {},
   "source": [
    "### 1.5 AE configuration\n",
    "\n",
    "This dictionary will have all the mandatory keys for configuring the *AE* technique used for solving the integral. These keys will be used for configuring properly the *q_solve_integral* function (from **QQuantLib.finance.quantum_integration**) which needs the *AE* class (from **QQuantLib.AE.ae_class**):\n",
    "\n",
    "* *ae_type*: **AE** algorithm used. It can be: *MLAE, IQAE, RQAE, CQPEAE, IQPEAE*.\n",
    "* *schedule*: schedule used for the *MLAE*\n",
    "* *delta*: parameter for *MLAE*\n",
    "* *ns*: parameter for *MLAE*\n",
    "* *auxiliar_qbits_number*: number of auxiliary qubits used in *CQPEAE*\n",
    "* *cbits_number*: number of classical bits used in *IQPEAE*\n",
    "* *epsilon*: desired error for the estimation. Used in *IQAE, RQAE*\n",
    "* *alpha*: confidence for *IQAE* method.\n",
    "* *gamma*: confidence for *RQAE* method.\n",
    "* *q*: amplification of the Grover applications used in *RQAE*\n",
    "* *shots*: number of measurements performed in the quantum circuit: used in *IQAE, CQPEAE, IQPEAE*.\n",
    "* *mcz_qlm*: if **True** multiplexor version of the multi-controlled Z gate will be used. If **False** QLM default implementation will be used."
   ]
  },
  {
   "cell_type": "code",
   "execution_count": null,
   "id": "08cc8003",
   "metadata": {},
   "outputs": [],
   "source": [
    "m_k = [0, 1, 2, 3, 4, 5, 6, 7, 8]\n",
    "ae_configuration = {\n",
    "    #Amplitude Estimation selection\n",
    "    'ae_type': 'MLAE', #IQAE, RQAE, CQPEAE, IQPEAE    \n",
    "    \n",
    "    #MLAE configuration\n",
    "    'schedule': [\n",
    "        m_k,\n",
    "        [100]*len(m_k)\n",
    "    ],\n",
    "    'delta' : 1.0e-7,\n",
    "    'ns' : 10000,\n",
    "    \n",
    "    #CQPEAE configuration\n",
    "    'auxiliar_qbits_number': 14,\n",
    "    \n",
    "    #IQPEAE configuration\n",
    "    'cbits_number': 10,  \n",
    "    \n",
    "    #IQAE & RQAQE\n",
    "    'epsilon': 0.0001,\n",
    "    #IQAE\n",
    "    'alpha': 0.05,\n",
    "    #RQAE\n",
    "    'gamma': 0.05,\n",
    "    'q': 1.2,\n",
    "    \n",
    "    #shots\n",
    "    'shots': 100,      \n",
    "    #Multi controlled decomposition\n",
    "    'mcz_qlm': False,\n",
    "    \n",
    "\n",
    "        \n",
    "}"
   ]
  },
  {
   "cell_type": "markdown",
   "id": "36dde070",
   "metadata": {},
   "source": [
    "### 1.5 Other configuration\n",
    "\n",
    "This dictionary will be related to other configuration keys like:\n",
    "\n",
    "* *qpu*: type of **QPU** used for simulating the **AE** algorithms\n",
    "* *save*: boolean for saving or not the results\n",
    "* *file_name*: string with the complete path for saving results\n",
    "* *number_of_tests*: for doing several repetitions of the solution of a complete give ae problem"
   ]
  },
  {
   "cell_type": "code",
   "execution_count": null,
   "id": "1f8af3ec",
   "metadata": {},
   "outputs": [],
   "source": [
    "other_configuration = {\n",
    "    'qpu': linalg_qpu,\n",
    "    \"save\": False,\n",
    "    \"file_name\": \"./ae_problem.csv\",\n",
    "    \"number_of_tests\": 1\n",
    "}"
   ]
  },
  {
   "cell_type": "code",
   "execution_count": null,
   "id": "b4bd7c67",
   "metadata": {},
   "outputs": [],
   "source": [
    "price_estimation_configuration = {}\n",
    "price_estimation_configuration.update(domain_configuration)\n",
    "price_estimation_configuration.update(probability_configuration)\n",
    "price_estimation_configuration.update(payoff_configuration)\n",
    "price_estimation_configuration.update(encoding_configuration)\n",
    "price_estimation_configuration.update(ae_configuration)\n",
    "price_estimation_configuration.update(other_configuration)"
   ]
  },
  {
   "cell_type": "code",
   "execution_count": null,
   "id": "34696765",
   "metadata": {},
   "outputs": [],
   "source": [
    "price_estimation_configuration"
   ]
  },
  {
   "cell_type": "markdown",
   "id": "2d2c5331",
   "metadata": {},
   "source": [
    "## 2. ae_price_estimation workflow\n",
    "\n",
    "The *ae_price_estimation* function will execute the following workflow:\n",
    "\n",
    "1. Creates the discretized domain using the keys from the *domain_configuration* of the input dictionary.\n",
    "2. Using the *probability_configuration* of the input dictionary creates a properly configured **DensityProbability** object. \n",
    "3. Uses the **DensityProbability** object and the domain discretization for creating the numpy array $p(x)$ for the probability distribution.\n",
    "4. Using the *payoff_configuration*  of the input dictionary creates a properly configured **PayOff** object. \n",
    "5. Uses the **PayOff** object and the domain discretization for creating the numpy array $f(x)$ for the payoff of the selected derivative option.\n",
    "6. Normalisation of the $p(x)$ and $f(x)$ arrays.\n",
    "7. Adding the normalised numpy arrays to the input dictionary.\n",
    "8. Execute the *q_solve_integral*. The input of this function will be the Python dictionary of step 7:\n",
    "    * 8.1 The *q_solve_integral* function uses the *encoding_configuration* for configuring properly the *Encoding* class.\n",
    "    * 8.2 The *q_solve_integral* function uses the *ae_configuration* for configuring properly the *AE* class.\n",
    "    * 8.3 The *q_solve_integral* function executes the *ae* algorithm for computing the estimation of the amplitude and the desired integral. \n",
    "9. The *q_solve_integral* will return the desired expected value computed using **AE** integral techniques. \n",
    "10. Post-process of the results for providing the price estimation solution.\n",
    "\n",
    "The output of the *ae_price_estimation* function will be a pandas DataFrame with all the configuration provided information, and the results.\n"
   ]
  },
  {
   "cell_type": "code",
   "execution_count": null,
   "id": "e7256fe7",
   "metadata": {},
   "outputs": [],
   "source": [
    "pdf = ae_price_estimation(**price_estimation_configuration)"
   ]
  },
  {
   "cell_type": "code",
   "execution_count": null,
   "id": "a52fab91",
   "metadata": {
    "scrolled": true
   },
   "outputs": [],
   "source": [
    "pdf"
   ]
  },
  {
   "cell_type": "code",
   "execution_count": null,
   "id": "fd0ec771",
   "metadata": {},
   "outputs": [],
   "source": [
    "pdf.columns"
   ]
  },
  {
   "cell_type": "markdown",
   "id": "c01da435",
   "metadata": {},
   "source": [
    "The returned DataFrame has a lot of information. \n",
    "\n",
    "For traceability we have include all the keys of the input dictionary:"
   ]
  },
  {
   "cell_type": "code",
   "execution_count": null,
   "id": "9205638d",
   "metadata": {},
   "outputs": [],
   "source": [
    "#Domain configuration\n",
    "pdf[['x0', 'xf', 'n_qbits']]"
   ]
  },
  {
   "cell_type": "code",
   "execution_count": null,
   "id": "1249908c",
   "metadata": {},
   "outputs": [],
   "source": [
    "#Probability configuration\n",
    "pdf[['probability_type', 's_0', 'risk_free_rate','maturity', 'volatility']]"
   ]
  },
  {
   "cell_type": "code",
   "execution_count": null,
   "id": "b6496c4c",
   "metadata": {},
   "outputs": [],
   "source": [
    "#PayOff configuration\n",
    "pdf[['pay_off_type', 'strike', 'coupon']]"
   ]
  },
  {
   "cell_type": "code",
   "execution_count": null,
   "id": "0c69704b",
   "metadata": {},
   "outputs": [],
   "source": [
    "#ae configuration\n",
    "pdf[[\n",
    "    'ae_type','schedule', 'delta', 'ns', 'auxiliar_qbits_number', 'cbits_number',\n",
    "    'epsilon', 'alpha', 'gamma', 'q', 'shots', 'mcz_qlm', 'encoding','multiplexor']]"
   ]
  },
  {
   "cell_type": "code",
   "execution_count": null,
   "id": "0c8c6e95",
   "metadata": {},
   "outputs": [],
   "source": [
    "#other configuration\n",
    "pdf[['qpu', 'save', 'file_name', 'number_of_tests']]"
   ]
  },
  {
   "cell_type": "markdown",
   "id": "03a66087",
   "metadata": {},
   "source": [
    "The normalisation of the numpy arrays $p(x)$ and $f(x)$ are included too:"
   ]
  },
  {
   "cell_type": "code",
   "execution_count": null,
   "id": "3131685d",
   "metadata": {},
   "outputs": [],
   "source": [
    "pdf[['payoff_normalisation', 'p_x_normalisation']]"
   ]
  },
  {
   "cell_type": "markdown",
   "id": "72e3df03",
   "metadata": {},
   "source": [
    "The columns related to the **AE** integration are:\n",
    "\n",
    "* *riemman_expectation*: this is the expectation computed as a Riemann, this is the scalar product of the $p(x)$ and the $f(x)$ arrays. \n",
    "* *ae_expectation*: expectation computed using **AE** integration techniques.\n",
    "* *ae_l_expectation*: lower value of the expectation computed using **AE** integration techniques (for **IQAE** and **RQAE**)\n",
    "* *ae_u_expectation*: upper value of the expectation computed using **AE** integration techniques (for **IQAE** and **RQAE**)\n",
    "* *absolute_error*: absolute difference between the **AE** integral estimation and the desired integral (*riemann_expectation*)"
   ]
  },
  {
   "cell_type": "code",
   "execution_count": null,
   "id": "788f15b9",
   "metadata": {},
   "outputs": [],
   "source": [
    "pdf[[\n",
    "    \"ae_l_expectation\", \"ae_expectation\", \n",
    "    \"ae_u_expectation\", \"riemann_expectation\", \"absolute_error\"]]"
   ]
  },
  {
   "cell_type": "code",
   "execution_count": null,
   "id": "7869a17a",
   "metadata": {},
   "outputs": [],
   "source": [
    "(np.abs(pdf[\"ae_expectation\"] - pdf[\"riemann_expectation\"]), pdf[\"absolute_error\"])"
   ]
  },
  {
   "cell_type": "markdown",
   "id": "0c445e72",
   "metadata": {},
   "source": [
    "The columns related with the finance quantities allways beginf by *finance* and are:\n",
    "\n",
    "* *finance_exact_price*: the price of the option computed using an analytical Black-Scholes model\n",
    "* *finance_riemann_price*: the price of the option when the discount of the risk free ratio is taken into account when using the Riemman aproximation: $\\text{riemann_expectation} \\; e ^{ r *T}$ with $r$, the *risk free ratio* and $T$ the *maturity*\n",
    "* *finance_price_estimation*: the price estiamtion of the option using **AE**. This is with the discount of the risk free ratio: $\\text{ae_expectation} \\; e ^{ r *T}$ with $r$, the *risk free ratio* and $T$ the *maturity*\n",
    "* *finance_error_riemann* : error between the estimated price option and the Rieman obtained price: $|\\text{finance_price_estimation} -\\text{finance_riemann_price}|$\n",
    "* *finance_error_exact*: error between the estimated price option and the exact Rieman obtained price: $|\\text{finance_price_estimation} -\\text{finance_exact_price}|$"
   ]
  },
  {
   "cell_type": "code",
   "execution_count": null,
   "id": "6068236b",
   "metadata": {
    "scrolled": true
   },
   "outputs": [],
   "source": [
    "pdf[['finance_exact_price', 'finance_riemann_price', \n",
    "     'finance_price_estimation', 'finance_error_riemann', 'finance_error_exact'\n",
    "]]"
   ]
  },
  {
   "cell_type": "code",
   "execution_count": null,
   "id": "4e2973c8",
   "metadata": {
    "scrolled": true
   },
   "outputs": [],
   "source": [
    "# The different errors that are delivered\n",
    "pdf[[\n",
    "    'absolute_error', 'finance_error_riemann', 'finance_error_exact']]"
   ]
  },
  {
   "cell_type": "markdown",
   "id": "42dbcbdb",
   "metadata": {},
   "source": [
    "Finally, other important information is provided:\n",
    "\n",
    "* *schedule_pdf*: this  is the number of Grover-like operator applications and the number of shots for each application (this is valid for **MLAE**, **IQAE** and **RQAE**)\n",
    "* *oracle_calls*: total number of calls to the oracle for getting the obtained solution.\n",
    "* *max_oracle_depth*: maximum number of Grover-like operator applications for getting the obtained solution.\n",
    "* *run_time*:  simulation time for getting the obtained solution.\n",
    "* *circuit_stasts*: gate statistics of the different quantum circuits used.\n"
   ]
  },
  {
   "cell_type": "code",
   "execution_count": null,
   "id": "6acfdd87",
   "metadata": {},
   "outputs": [],
   "source": [
    "pdf[['schedule_pdf']].iloc[0].values"
   ]
  },
  {
   "cell_type": "code",
   "execution_count": null,
   "id": "8f91f739",
   "metadata": {},
   "outputs": [],
   "source": [
    "pdf[['oracle_calls', 'max_oracle_depth', 'run_time']]"
   ]
  },
  {
   "cell_type": "code",
   "execution_count": null,
   "id": "3a41b3c4",
   "metadata": {
    "scrolled": true
   },
   "outputs": [],
   "source": [
    "pdf['circuit_stasts'].iloc[0]"
   ]
  },
  {
   "cell_type": "markdown",
   "id": "93ff236a",
   "metadata": {},
   "source": [
    "## 3. Considerations\n",
    "\n",
    "Several considerations about the *ae_price_estimation* function are summarised in this section."
   ]
  },
  {
   "cell_type": "markdown",
   "id": "8afb7153",
   "metadata": {},
   "source": [
    "### 3.1 Encoding considerations.\n",
    "\n",
    "As explained in notebook *09_DataEncodingClass.ipynb* there are 3 different encodings: 0, 1 y 2. The encoding 0 can be used for encoding strictly defined positive functions $f(x)$. If this condition is not satisfied then encodings 1 and 2 should be used. For pure price estimation, the payoffs will satisfy this condition so encoding 0 is enough. In our case, encoding 0 can be used for:\n",
    "\n",
    "* European_Call_Option\n",
    "* European_Put_Option\n",
    "* Digital_Call_Option\n",
    "* Digital_Put_Option\n",
    "\n",
    "In the case of the *Futures* the function can not satisfy the positive defined function $f(x)$ so for this derivative product encodings 1 and 2 should be used!!"
   ]
  },
  {
   "cell_type": "code",
   "execution_count": null,
   "id": "c80cfdf3",
   "metadata": {},
   "outputs": [],
   "source": [
    "#Future with encoding 0\n",
    "price_estimation_configuration.update({\n",
    "    'pay_off_type': 'Futures',\n",
    "    'strike': 0.8,\n",
    "    'encoding': 0,\n",
    "    'ae_type': 'IQAE'\n",
    "})"
   ]
  },
  {
   "cell_type": "code",
   "execution_count": null,
   "id": "62b5ad14",
   "metadata": {},
   "outputs": [],
   "source": [
    "pdf_future = ae_price_estimation(**price_estimation_configuration)"
   ]
  },
  {
   "cell_type": "code",
   "execution_count": null,
   "id": "7110eada",
   "metadata": {},
   "outputs": [],
   "source": [
    "#Amplitude Estimation Integral computation results\n",
    "pdf_future[[\n",
    "    \"ae_l_expectation\", \"ae_expectation\", \n",
    "    \"ae_u_expectation\", \"riemann_expectation\", \"absolute_error\"]]"
   ]
  },
  {
   "cell_type": "code",
   "execution_count": null,
   "id": "af4dde7e",
   "metadata": {},
   "outputs": [],
   "source": [
    "# Finance related prices\n",
    "pdf_future[['finance_exact_price', 'finance_riemann_price', \n",
    "     'finance_price_estimation', 'finance_error_riemann', 'finance_error_exact'\n",
    "]]"
   ]
  },
  {
   "cell_type": "markdown",
   "id": "a3d6fe6e",
   "metadata": {},
   "source": [
    "As can be seen in the before cells the solution for our future using encoding 0 is very bad. Encoding 1 or 2 should be used instead!!"
   ]
  },
  {
   "cell_type": "code",
   "execution_count": null,
   "id": "ffbe55d8",
   "metadata": {},
   "outputs": [],
   "source": [
    "#Future with encoding 2\n",
    "price_estimation_configuration.update({\n",
    "    'pay_off_type': 'Futures',\n",
    "    'strike': 0.8,\n",
    "    'encoding': 2,\n",
    "    'ae_type': 'IQAE'\n",
    "})"
   ]
  },
  {
   "cell_type": "code",
   "execution_count": null,
   "id": "6726859e",
   "metadata": {},
   "outputs": [],
   "source": [
    "pdf_future = ae_price_estimation(**price_estimation_configuration)"
   ]
  },
  {
   "cell_type": "code",
   "execution_count": null,
   "id": "64448b38",
   "metadata": {},
   "outputs": [],
   "source": [
    "#Amplitude Estimation Integral computation results\n",
    "pdf_future[[\n",
    "    \"ae_l_expectation\", \"ae_expectation\", \n",
    "    \"ae_u_expectation\", \"riemann_expectation\", \"absolute_error\"]]"
   ]
  },
  {
   "cell_type": "code",
   "execution_count": null,
   "id": "69492e89",
   "metadata": {},
   "outputs": [],
   "source": [
    "# Finance related prices\n",
    "pdf_future[['finance_exact_price', 'finance_riemann_price', \n",
    "     'finance_price_estimation', 'finance_error_riemann', 'finance_error_exact'\n",
    "]]"
   ]
  },
  {
   "cell_type": "markdown",
   "id": "ea987834",
   "metadata": {},
   "source": [
    "With the encoding 2 the solution of the Future is now well estimated!!!"
   ]
  },
  {
   "cell_type": "markdown",
   "id": "27a6d6dc",
   "metadata": {},
   "source": [
    "### 3.2 Encoding 0 and RQAE method.\n",
    "\n",
    "When using the encoding 0 the **RQAE** technique can not be used. Instead of an error a warning is raised. The *ae_price_estimation* function provides output pandas DataFrame but the columns related with the results will have a None."
   ]
  },
  {
   "cell_type": "code",
   "execution_count": null,
   "id": "f960fbed",
   "metadata": {},
   "outputs": [],
   "source": [
    "#Future with encoding 0\n",
    "price_estimation_configuration.update({\n",
    "    'pay_off_type': 'Futures',\n",
    "    'strike': 0.8,\n",
    "    'encoding': 0,\n",
    "    'ae_type': 'RQAE'\n",
    "})"
   ]
  },
  {
   "cell_type": "code",
   "execution_count": null,
   "id": "83c85e20",
   "metadata": {},
   "outputs": [],
   "source": [
    "pdf_future = ae_price_estimation(**price_estimation_configuration)"
   ]
  },
  {
   "cell_type": "code",
   "execution_count": null,
   "id": "b0b0ac07",
   "metadata": {},
   "outputs": [],
   "source": [
    "pdf_future"
   ]
  },
  {
   "cell_type": "code",
   "execution_count": null,
   "id": "00ba3286",
   "metadata": {},
   "outputs": [],
   "source": [
    "#Amplitude Estimation Integral computation results\n",
    "pdf_future[[\n",
    "    \"ae_l_expectation\", \"ae_expectation\", \n",
    "    \"ae_u_expectation\", \"riemann_expectation\", \"absolute_error\"]]"
   ]
  },
  {
   "cell_type": "code",
   "execution_count": null,
   "id": "46a540fc",
   "metadata": {},
   "outputs": [],
   "source": [
    "# Finance related prices\n",
    "pdf_future[['finance_exact_price', 'finance_riemann_price', \n",
    "     'finance_price_estimation', 'finance_error_riemann', 'finance_error_exact'\n",
    "]]"
   ]
  },
  {
   "cell_type": "markdown",
   "id": "3126851a",
   "metadata": {},
   "source": [
    "### 3.3 Negative integrals and RQAE\n",
    "\n",
    "For pure option price estimation (European_Call_Option, European_Put_Option, Digital_Call_Option, Digital_Put_Option) the price always will be positive so all the **AE** methods can be used (of course the 3 encoding methods can be used). However, there are other financial products where the expected return is needed and it is not necessarily positive (for example de Futures). In these cases, the use of encoding 1 or 2 is not enough for getting the correct results. If the solution is negative the only **AE** technique suitable will be the **RQAE** one."
   ]
  },
  {
   "cell_type": "code",
   "execution_count": null,
   "id": "de1356a0",
   "metadata": {},
   "outputs": [],
   "source": [
    "#Future with encoding 2\n",
    "price_estimation_configuration.update({\n",
    "    'pay_off_type': 'Futures',\n",
    "    'strike': 1.5,\n",
    "    'encoding': 2,\n",
    "    'ae_type': 'IQAE'\n",
    "})"
   ]
  },
  {
   "cell_type": "code",
   "execution_count": null,
   "id": "0248ea5f",
   "metadata": {},
   "outputs": [],
   "source": [
    "pdf_future = ae_price_estimation(**price_estimation_configuration)"
   ]
  },
  {
   "cell_type": "code",
   "execution_count": null,
   "id": "86551835",
   "metadata": {},
   "outputs": [],
   "source": [
    "#Amplitude Estimation Integral computation results\n",
    "pdf_future[[\n",
    "    \"ae_l_expectation\", \"ae_expectation\", \n",
    "    \"ae_u_expectation\", \"riemann_expectation\", \"absolute_error\"]]"
   ]
  },
  {
   "cell_type": "code",
   "execution_count": null,
   "id": "00e9f12c",
   "metadata": {},
   "outputs": [],
   "source": [
    "# Finance related prices\n",
    "pdf_future[['finance_exact_price', 'finance_riemann_price', \n",
    "     'finance_price_estimation', 'finance_error_riemann', 'finance_error_exact'\n",
    "]]"
   ]
  },
  {
   "cell_type": "markdown",
   "id": "1d299085",
   "metadata": {},
   "source": [
    "As can be seen when the expectation is negative the **AE** method fails despite of the encoding procedure"
   ]
  },
  {
   "cell_type": "code",
   "execution_count": null,
   "id": "fc80ab33",
   "metadata": {},
   "outputs": [],
   "source": [
    "#Future with encoding 2\n",
    "price_estimation_configuration.update({\n",
    "    'pay_off_type': 'Futures',\n",
    "    'strike': 1.5,\n",
    "    'encoding': 2,\n",
    "    'ae_type': 'RQAE'\n",
    "})\n",
    "pdf_future = ae_price_estimation(**price_estimation_configuration)"
   ]
  },
  {
   "cell_type": "code",
   "execution_count": null,
   "id": "4a007fff",
   "metadata": {},
   "outputs": [],
   "source": [
    "#Amplitude Estimation Integral computation results\n",
    "pdf_future[[\n",
    "    \"ae_l_expectation\", \"ae_expectation\", \n",
    "    \"ae_u_expectation\", \"riemann_expectation\", \"absolute_error\"]]"
   ]
  },
  {
   "cell_type": "code",
   "execution_count": null,
   "id": "ce832375",
   "metadata": {},
   "outputs": [],
   "source": [
    "# Finance related prices\n",
    "pdf_future[['finance_exact_price', 'finance_riemann_price', \n",
    "     'finance_price_estimation', 'finance_error_riemann', 'finance_error_exact'\n",
    "]]"
   ]
  },
  {
   "cell_type": "markdown",
   "id": "4e5c6873",
   "metadata": {},
   "source": [
    "As can be seen the **RQAE** algorithm give us the correct value!!!"
   ]
  },
  {
   "cell_type": "markdown",
   "id": "a050af8b",
   "metadata": {},
   "source": [
    "### 3.4 CQPEAE and IQPEAE  techniques\n",
    "\n",
    "The *ae_price_estimation* can be used with all the encodings and all the **AE** algorithms implemented in the **QQuantLib**. However, a piece of advice should be given when **CQPEAE** and **IQPEAE** algorithms are used. These algorithms used pure **Quantum Phase Estimation** for computing the integrals. These kinds of methods are very computing demand and usually large simulation times are needed for solving the price estimation problem. "
   ]
  }
 ],
 "metadata": {
  "kernelspec": {
   "display_name": "Python 3 (ipykernel)",
   "language": "python",
   "name": "python3"
  },
  "language_info": {
   "codemirror_mode": {
    "name": "ipython",
    "version": 3
   },
   "file_extension": ".py",
   "mimetype": "text/x-python",
   "name": "python",
   "nbconvert_exporter": "python",
   "pygments_lexer": "ipython3",
   "version": "3.9.9"
  }
 },
 "nbformat": 4,
 "nbformat_minor": 5
}
