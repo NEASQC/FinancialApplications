{
 "cells": [
  {
   "cell_type": "markdown",
   "id": "5e2e6127",
   "metadata": {},
   "source": [
    "# AE Price Estimation\n",
    "\n",
    "This notebook introduces the `ae_estimation_price` function, which is part of the *ae_price_estimation* module in the *finance* package of *QQuantLib* (**QQuantLib/finance/ae_price_estimation**).\n",
    "\n",
    "This function enables users to solve an input **option price estimation** problem using **amplitude estimation** algorithms. \n",
    "\n",
    "The `ae_estimation_price` function utilizes the `DensityProbability` and `PayOff` Python classes (explained in notebook **11_ApplicationTo_Finance_02_ClassicalFinance**) to create the corresponding arrays $ p(x) $ and $ f(x) $ defined over a domain $ x \\in [x_0, x_f] $. Subsequently, the function attempts to compute the expected value:\n",
    "\n",
    "$$\n",
    "\\mathbb{E}[f] = \\int_{x_0}^{x_f} p(x) f(x) dx\n",
    "$$\n",
    "\n",
    "using the `q_solve_integral` function, as explained in notebook **10_ApplicationTo_Finance_01_IntegralComputing**.\n",
    "\n",
    "Once the `q_solve_integral` function calculates the desired expectation, the `ae_estimation_price` function estimates the option price using:\n",
    "\n",
    "$$\n",
    "V(t, S(t)) = e^{-r(T-t)} \\int_{x_0}^{x_f} p(x) f(x) dx\n",
    "$$"
   ]
  },
  {
   "cell_type": "code",
   "execution_count": null,
   "id": "d6a10151",
   "metadata": {},
   "outputs": [],
   "source": [
    "import sys\n",
    "sys.path.append(\"../../\")\n",
    "import numpy as np\n",
    "import pandas as pd\n",
    "import matplotlib.pyplot as plt\n",
    "%matplotlib inline"
   ]
  },
  {
   "cell_type": "code",
   "execution_count": null,
   "id": "d2a198c6",
   "metadata": {},
   "outputs": [],
   "source": [
    "#This cell loads the QLM solver. See notebook: 00_AboutTheNotebooksAndQPUs.ipynb\n",
    "from QQuantLib.qpu.get_qpu import get_qpu\n",
    "# myqlm qpus: python, c\n",
    "# QLM qpus accessed using Qaptiva Access library: qlmass_linalg, qlmass_mps\n",
    "# QLM qpus: Only in local Quantum Learning Machine: linalg, mps\n",
    "my_qpus = [\"python\", \"c\", \"qlmass_linalg\", \"qlmass_mps\", \"linalg\", \"mps\"]\n",
    "\n",
    "linalg_qpu = get_qpu(my_qpus[1])"
   ]
  },
  {
   "cell_type": "code",
   "execution_count": null,
   "id": "fd82de61",
   "metadata": {},
   "outputs": [],
   "source": [
    "from QQuantLib.finance.ae_price_estimation import ae_price_estimation"
   ]
  },
  {
   "cell_type": "markdown",
   "id": "f986e055",
   "metadata": {},
   "source": [
    "## 1. ae_price_estimation Input\n",
    "\n",
    "The input for `ae_price_estimation` is a complete Python dictionary that must include all the necessary keys to define an option price estimation problem and solve it using a properly configured **Amplitude Estimation (AE)** algorithm.\n",
    "\n",
    "For clarity, this input dictionary can be divided into the following sub-dictionaries:\n",
    "\n",
    "1. **Domain Configuration**\n",
    "2. **Probability Density Configuration**\n",
    "3. **PayOff Configuration**\n",
    "4. **Encoding Configration**\n",
    "5. **AE Configuration**\n",
    "6. **Other Configuration**\n",
    "\n",
    "### 1.1 Domain Configuration\n",
    "\n",
    "This dictionary configures the domain and discretization of the problem. In this case, the domain of the problem is defined as:\n",
    "\n",
    "$$\n",
    "x \\in [x_0, x_f]\n",
    "$$\n",
    "\n",
    "For discretization, the domain is split into:\n",
    "\n",
    "$$\n",
    "[x_0, x_f] = \\{[x_0, x_1] \\cup [x_1, x_2] \\cup \\dots \\cup [x_{2^n-1}, x_f]\\}\n",
    "$$\n",
    "\n",
    "The keys for this *domain* dictionary are:\n",
    "\n",
    "- `x0`: The starting point of the domain.\n",
    "- `xf`: The ending point of the domain.\n",
    "- `n_qbits`: The number of qubits used to divide the domain into $ 2^{n\\_qbits} $ intervals."
   ]
  },
  {
   "cell_type": "code",
   "execution_count": null,
   "id": "38a53e30",
   "metadata": {},
   "outputs": [],
   "source": [
    "#Domain configuration\n",
    "domain_configuration = {\n",
    "    'x0': 0.01,\n",
    "    'xf': 5.0,\n",
    "    'n_qbits': 5,      \n",
    "}"
   ]
  },
  {
   "cell_type": "markdown",
   "id": "e436708c",
   "metadata": {},
   "source": [
    "### 1.2 Probability Density Configuration\n",
    "\n",
    "This dictionary contains information related to the underlying asset of the option, market conditions, and the time at which the probability density will be evaluated (typically the *maturity* of the option). This dictionary requires all the necessary keys to properly configure the *DensityProbability* class (from **QQuantLib.finance.probability_class**).\n",
    "\n",
    "- `probability_type`: A string specifying the type of probability density to use. Currently, only 'Black-Scholes' is available (additional probability density functions are expected to be implemented in the future).\n",
    "- `s_0`: The initial value of the asset $ S $.\n",
    "- `risk_free_rate`: The risk-free rate of the market.\n",
    "- `maturity`: The time at which the probability distribution of the asset's value is computed. When working with options, this corresponds to the *maturity* of the option.\n",
    "- `volatility`: The volatility of the asset up to the initial time."
   ]
  },
  {
   "cell_type": "code",
   "execution_count": null,
   "id": "52e1f959",
   "metadata": {},
   "outputs": [],
   "source": [
    "#Probability density configuration\n",
    "probability_configuration = {\n",
    "    'probability_type': 'Black-Scholes',\n",
    "    's_0': 1,\n",
    "    'risk_free_rate': 0.05,\n",
    "    'maturity': 1.0,\n",
    "    'volatility': 0.5,    \n",
    "}"
   ]
  },
  {
   "cell_type": "markdown",
   "id": "cd29e8ee",
   "metadata": {},
   "source": [
    "### 1.3 PayOff Configuration\n",
    "\n",
    "This dictionary includes the mandatory keys for configuring the *PayOff* class (from **QQuantLib.finance.payoff_class**). It generally pertains to the type of option, the strike price, and other relevant parameters.\n",
    "\n",
    "- `pay_off_type`: Specifies the type of option desired. The following options are currently available:\n",
    "  - European_Call_Option\n",
    "  - European_Put_Option\n",
    "  - Digital_Call_Option\n",
    "  - Digital_Put_Option\n",
    "  - Futures\n",
    "\n",
    "- `strike`: The strike price of the derivative product.\n",
    "\n",
    "- `coupon`: Relevant for *Digital_Call_Option* and *Digital_Put_Option*."
   ]
  },
  {
   "cell_type": "code",
   "execution_count": null,
   "id": "4b3c4975",
   "metadata": {},
   "outputs": [],
   "source": [
    "#PayOff Configuration\n",
    "payoff_configuration = {\n",
    "    'pay_off_type': 'European_Call_Option',\n",
    "    'strike': 0.5,\n",
    "    'coupon': None,        \n",
    "}"
   ]
  },
  {
   "cell_type": "markdown",
   "id": "d1b452fa",
   "metadata": {},
   "source": [
    "### 1.4 Encoding Configuration\n",
    "\n",
    "This dictionary contains all the necessary keys to configure the encoding of the $ p(x) $ and $ f(x) $ arrays into the quantum circuit. These keys are used to properly set up the *Encoding* class (from **QQuantLib.DL.encoding_protocols**) utilized within the `q_solve_integral` function (from **QQuantLib.finance.quantum_integration**).\n",
    "\n",
    "- `encoding`: The type of encoding used. It can take values 0, 1, or 2.\n",
    "- `multiplexor`: A flag for using multiplexor constructions for gates controlled by state."
   ]
  },
  {
   "cell_type": "code",
   "execution_count": null,
   "id": "ba7e8906",
   "metadata": {},
   "outputs": [],
   "source": [
    "#For encoding class\n",
    "encoding_configuration = {\n",
    "    \"encoding\" : 0, #1,2\n",
    "    \"multiplexor\": True,        \n",
    "}"
   ]
  },
  {
   "cell_type": "markdown",
   "id": "3fb472b9",
   "metadata": {},
   "source": [
    "### 1.5 AE Configuration\n",
    "\n",
    "This dictionary contains all the necessary keys for configuring the *Amplitude Estimation (AE)* technique used to solve the integral. These keys are used to properly set up the *q_solve_integral* function (from **QQuantLib.finance.quantum_integration**), which relies on the *AE* class (from **QQuantLib.AE.ae_class**).\n",
    "\n",
    "The keys for the **AE** configuration will depend on **AE** algorithm selected. See the different related Notebooks for their names."
   ]
  },
  {
   "cell_type": "code",
   "execution_count": null,
   "id": "08cc8003",
   "metadata": {},
   "outputs": [],
   "source": [
    "m_k = [0, 1, 2, 3, 4, 5, 6, 7, 8]\n",
    "ae_configuration = {\n",
    "    #Amplitude Estimation selection\n",
    "    'ae_type': 'MLAE', #IQAE, RQAE, CQPEAE, IQPEAE    \n",
    "    \n",
    "    #MLAE configuration\n",
    "    'schedule': [\n",
    "        m_k,\n",
    "        [100]*len(m_k)\n",
    "    ],\n",
    "    'delta' : 1.0e-7,\n",
    "    'ns' : 10000,\n",
    "    \n",
    "    #CQPEAE configuration\n",
    "    'auxiliar_qbits_number': 14,\n",
    "    \"window\" : None,\n",
    "    \"kaiser_alpha\" : None,\n",
    "    \n",
    "    \n",
    "    #IQPEAE configuration\n",
    "    'cbits_number': 10,  \n",
    "    \n",
    "    #IQAE & RQAQE\n",
    "    'epsilon': 0.001,\n",
    "    #IQAE\n",
    "    'alpha': 0.05,\n",
    "    #RQAE\n",
    "    'gamma': 0.05,\n",
    "    'q': 1.2,\n",
    "    #eRQAE\n",
    "    \"erqae_schedule\": None,\n",
    "    \n",
    "    #shots: applit to IQAE, CQPEAE, IQPEA, sRQAE\n",
    "    'shots': 100,      \n",
    "    #Multi controlled decomposition\n",
    "    'mcz_qlm': False, \n",
    "}"
   ]
  },
  {
   "cell_type": "markdown",
   "id": "36dde070",
   "metadata": {},
   "source": [
    "### 1.5 Other configuration\n",
    "\n",
    "This dictionary will be related to other configuration keys like:\n",
    "\n",
    "- `qpu: type of **QPU** used for simulating the **AE** algorithms\n",
    "- `save`: boolean for saving or not the results\n",
    "- `file_name`: string with the complete path for saving results\n",
    "- `number_of_tests`: for doing several repetitions of the solution of a complete give ae problem"
   ]
  },
  {
   "cell_type": "code",
   "execution_count": null,
   "id": "1f8af3ec",
   "metadata": {},
   "outputs": [],
   "source": [
    "other_configuration = {\n",
    "    'qpu': linalg_qpu,\n",
    "    \"save\": False,\n",
    "    \"file_name\": \"./ae_problem.csv\",\n",
    "    \"number_of_tests\": 1\n",
    "}"
   ]
  },
  {
   "cell_type": "code",
   "execution_count": null,
   "id": "b4bd7c67",
   "metadata": {},
   "outputs": [],
   "source": [
    "price_estimation_configuration = {}\n",
    "price_estimation_configuration.update(domain_configuration)\n",
    "price_estimation_configuration.update(probability_configuration)\n",
    "price_estimation_configuration.update(payoff_configuration)\n",
    "price_estimation_configuration.update(encoding_configuration)\n",
    "price_estimation_configuration.update(ae_configuration)\n",
    "price_estimation_configuration.update(other_configuration)"
   ]
  },
  {
   "cell_type": "code",
   "execution_count": null,
   "id": "34696765",
   "metadata": {},
   "outputs": [],
   "source": [
    "price_estimation_configuration"
   ]
  },
  {
   "cell_type": "markdown",
   "id": "0b30dc97",
   "metadata": {},
   "source": [
    "## 2. ae_price_estimation Workflow\n",
    "\n",
    "The `ae_price_estimation` function executes the following workflow:\n",
    "\n",
    "1. **Domain Creation**: Creates the discretized domain using the keys from the *domain_configuration* section of the input dictionary.\n",
    "\n",
    "2. **Probability Density Configuration**: Uses the *probability_configuration* section of the input dictionary to create a properly configured **DensityProbability** object.\n",
    "\n",
    "3. **Probability Distribution Array**: Utilizes the `DensityProbability` object and the domain discretization to generate the NumPy array $ p(x) $ for the probability distribution.\n",
    "\n",
    "4. **Payoff Configuration**: Uses the *payoff_configuration* section of the input dictionary to create a properly configured `PayOff`object.\n",
    "\n",
    "5. **Payoff Array**: Utilizes the `PayOff` object and the domain discretization to generate the NumPy array $ f(x) $ for the payoff of the selected derivative option.\n",
    "\n",
    "6. **Normalization**: Normalizes the $ p(x) $ and $ f(x) $ arrays.\n",
    "\n",
    "7. **Input Dictionary Update**: Adds the normalized NumPy arrays to the input dictionary.\n",
    "\n",
    "8. **Quantum Integral Solution**:\n",
    "    - **Encoding Configuration**: The `q_solve_integral` function uses the *encoding_configuration* section to configure the `Encoding` class appropriately.\n",
    "    - **AE Configuration**: The `q_solve_integral` function uses the *ae_configuration* section to configure the `AE` class appropriately.\n",
    "    - **Amplitude Estimation Execution**: The `q_solve_integral` function executes the *AE* algorithm to compute the estimation of the amplitude and the desired integral.\n",
    "\n",
    "9. **Expected Value Calculation**: The `q_solve_integral` function returns the desired expected value computed using **AE** integral techniques.\n",
    "\n",
    "10. **Post-Processing**: Processes the results to provide the price estimation solution.\n",
    "\n",
    "The output of the `ae_price_estimation` function is a pandas DataFrame containing all the configuration information provided, along with the results.\n"
   ]
  },
  {
   "cell_type": "code",
   "execution_count": null,
   "id": "e7256fe7",
   "metadata": {},
   "outputs": [],
   "source": [
    "pdf = ae_price_estimation(**price_estimation_configuration)"
   ]
  },
  {
   "cell_type": "code",
   "execution_count": null,
   "id": "a52fab91",
   "metadata": {
    "scrolled": true
   },
   "outputs": [],
   "source": [
    "pdf"
   ]
  },
  {
   "cell_type": "code",
   "execution_count": null,
   "id": "fd0ec771",
   "metadata": {},
   "outputs": [],
   "source": [
    "pdf.columns"
   ]
  },
  {
   "cell_type": "markdown",
   "id": "c01da435",
   "metadata": {},
   "source": [
    "The returned DataFrame has a lot of information. \n",
    "\n",
    "For traceability we have include all the keys of the input dictionary:"
   ]
  },
  {
   "cell_type": "code",
   "execution_count": null,
   "id": "9205638d",
   "metadata": {},
   "outputs": [],
   "source": [
    "#Domain configuration\n",
    "pdf[['x0', 'xf', 'n_qbits']]"
   ]
  },
  {
   "cell_type": "code",
   "execution_count": null,
   "id": "1249908c",
   "metadata": {},
   "outputs": [],
   "source": [
    "#Probability configuration\n",
    "pdf[['probability_type', 's_0', 'risk_free_rate','maturity', 'volatility']]"
   ]
  },
  {
   "cell_type": "code",
   "execution_count": null,
   "id": "b6496c4c",
   "metadata": {},
   "outputs": [],
   "source": [
    "#PayOff configuration\n",
    "pdf[['pay_off_type', 'strike', 'coupon']]"
   ]
  },
  {
   "cell_type": "code",
   "execution_count": null,
   "id": "0c69704b",
   "metadata": {},
   "outputs": [],
   "source": [
    "#ae configuration\n",
    "pdf[[\n",
    "    'ae_type','schedule', 'delta', 'ns', 'auxiliar_qbits_number', 'cbits_number',\n",
    "    'epsilon', 'alpha', 'gamma', 'q', 'shots', 'mcz_qlm', 'encoding','multiplexor', \"erqae_schedule\"]]"
   ]
  },
  {
   "cell_type": "code",
   "execution_count": null,
   "id": "0c8c6e95",
   "metadata": {},
   "outputs": [],
   "source": [
    "#other configuration\n",
    "pdf[['qpu', 'save', 'file_name', 'number_of_tests']]"
   ]
  },
  {
   "cell_type": "markdown",
   "id": "03a66087",
   "metadata": {},
   "source": [
    "The normalisation of the numpy arrays $p(x)$ and $f(x)$ are included too:"
   ]
  },
  {
   "cell_type": "code",
   "execution_count": null,
   "id": "3131685d",
   "metadata": {},
   "outputs": [],
   "source": [
    "pdf[['payoff_normalisation', 'p_x_normalisation']]"
   ]
  },
  {
   "cell_type": "markdown",
   "id": "72e3df03",
   "metadata": {},
   "source": [
    "The columns related to the **AE** integration are:\n",
    "\n",
    "- `riemman_expectation`: this is the expectation computed as a Riemann, this is the scalar product of the $p(x)$ and the $f(x)$ arrays. \n",
    "- `ae_expectation`: expectation computed using **AE** integration techniques.\n",
    "- `ae_l_expectation`: lower value of the expectation computed using **AE** integration techniques (for **IQAE** and **RQAE**)\n",
    "- `ae_u_expectation`: upper value of the expectation computed using **AE** integration techniques (for **IQAE** and **RQAE**)\n",
    "- `absolute_error`: absolute difference between the **AE** integral estimation and the desired integral (*riemann_expectation*)"
   ]
  },
  {
   "cell_type": "code",
   "execution_count": null,
   "id": "788f15b9",
   "metadata": {},
   "outputs": [],
   "source": [
    "pdf[[\n",
    "    \"ae_l_expectation\", \"ae_expectation\", \n",
    "    \"ae_u_expectation\", \"riemann_expectation\", \"absolute_error\"]]"
   ]
  },
  {
   "cell_type": "code",
   "execution_count": null,
   "id": "7869a17a",
   "metadata": {},
   "outputs": [],
   "source": [
    "(np.abs(pdf[\"ae_expectation\"] - pdf[\"riemann_expectation\"]), pdf[\"absolute_error\"])"
   ]
  },
  {
   "cell_type": "markdown",
   "id": "0c445e72",
   "metadata": {},
   "source": [
    "The columns related with the finance quantities allways beginf by *finance* and are:\n",
    "\n",
    "- `finance_exact_price`: the price of the option computed using an analytical Black-Scholes model\n",
    "- `finance_riemann_price`: the price of the option when the discount of the risk free ratio is taken into account when using the Riemman aproximation: $$riemann\\_expectation * \\; e ^{ r *T}$$ with $r$, the *risk free ratio* and $T$ the *maturity*\n",
    "- `finance_price_estimation`: the price estimation of the option using **AE**. This is with the discount of the risk free ratio: $$ae\\_expectation * \\; e ^{ r *T}$$ with $r$, the *risk free ratio* and $T$ the *maturity*\n",
    "- `finance_error_riemann` : error between the estimated price option and the Rieman obtained price: $$| finance\\_price\\_estimation -finance\\_riemann\\_price|$$\n",
    "- `finance_error_exact`: error between the estimated price option and the exact Rieman obtained price: $$| finance\\_price\\_estimation - finance\\_exact\\_price |$$"
   ]
  },
  {
   "cell_type": "code",
   "execution_count": null,
   "id": "6068236b",
   "metadata": {
    "scrolled": true
   },
   "outputs": [],
   "source": [
    "pdf[['finance_exact_price', 'finance_riemann_price', \n",
    "     'finance_price_estimation', 'finance_error_riemann', 'finance_error_exact'\n",
    "]]"
   ]
  },
  {
   "cell_type": "code",
   "execution_count": null,
   "id": "4e2973c8",
   "metadata": {
    "scrolled": true
   },
   "outputs": [],
   "source": [
    "# The different errors that are delivered\n",
    "pdf[[\n",
    "    'absolute_error', 'finance_error_riemann', 'finance_error_exact']]"
   ]
  },
  {
   "cell_type": "markdown",
   "id": "42dbcbdb",
   "metadata": {},
   "source": [
    "Finally, other important information is provided:\n",
    "\n",
    "- `schedule_pdf`: this  is the number of Grover-like operator applications and the number of shots for each application (this is valid for **MLAE**, **IQAE** and **RQAE**)\n",
    "- `oracle_calls`: total number of calls to the oracle for getting the obtained solution.\n",
    "- `max_oracle_depth`: maximum number of Grover-like operator applications for getting the obtained solution.\n",
    "- `run_time`:  simulation time for getting the obtained solution."
   ]
  },
  {
   "cell_type": "code",
   "execution_count": null,
   "id": "6acfdd87",
   "metadata": {},
   "outputs": [],
   "source": [
    "pdf[['schedule_pdf']].iloc[0].values"
   ]
  },
  {
   "cell_type": "code",
   "execution_count": null,
   "id": "8f91f739",
   "metadata": {},
   "outputs": [],
   "source": [
    "pdf[['oracle_calls', 'max_oracle_depth', 'run_time']]"
   ]
  },
  {
   "cell_type": "markdown",
   "id": "93ff236a",
   "metadata": {},
   "source": [
    "## 3. Considerations\n",
    "\n",
    "Several considerations about the *ae_price_estimation* function are summarised in this section."
   ]
  },
  {
   "cell_type": "markdown",
   "id": "8afb7153",
   "metadata": {},
   "source": [
    "### 3.1 Encoding considerations.\n",
    "\n",
    "As explained in notebook *09_DataEncodingClass.ipynb* there are 3 different encodings: 0, 1 y 2. The encoding 0 can be used for encoding strictly defined positive functions $f(x)$. If this condition is not satisfied then encodings 1 and 2 should be used. For pure price estimation, the payoffs will satisfy this condition so encoding 0 is enough. In our case, encoding 0 can be used for:\n",
    "\n",
    "* European_Call_Option\n",
    "* European_Put_Option\n",
    "* Digital_Call_Option\n",
    "* Digital_Put_Option\n",
    "\n",
    "In the case of the *Futures* the function can not satisfy the positive defined function $f(x)$ so for this derivative product encodings 1 and 2 should be used!!"
   ]
  },
  {
   "cell_type": "code",
   "execution_count": null,
   "id": "c80cfdf3",
   "metadata": {},
   "outputs": [],
   "source": [
    "#Future with encoding 0\n",
    "price_estimation_configuration.update({\n",
    "    'pay_off_type': 'Futures',\n",
    "    'strike': 0.8,\n",
    "    'encoding': 0,\n",
    "    'ae_type': 'IQAE'\n",
    "})"
   ]
  },
  {
   "cell_type": "code",
   "execution_count": null,
   "id": "62b5ad14",
   "metadata": {},
   "outputs": [],
   "source": [
    "pdf_future = ae_price_estimation(**price_estimation_configuration)"
   ]
  },
  {
   "cell_type": "code",
   "execution_count": null,
   "id": "7110eada",
   "metadata": {},
   "outputs": [],
   "source": [
    "#Amplitude Estimation Integral computation results\n",
    "pdf_future[[\n",
    "    \"ae_l_expectation\", \"ae_expectation\", \n",
    "    \"ae_u_expectation\", \"riemann_expectation\", \"absolute_error\"]]"
   ]
  },
  {
   "cell_type": "code",
   "execution_count": null,
   "id": "af4dde7e",
   "metadata": {},
   "outputs": [],
   "source": [
    "# Finance related prices\n",
    "pdf_future[['finance_exact_price', 'finance_riemann_price', \n",
    "     'finance_price_estimation', 'finance_error_riemann', 'finance_error_exact'\n",
    "]]"
   ]
  },
  {
   "cell_type": "markdown",
   "id": "a3d6fe6e",
   "metadata": {},
   "source": [
    "As can be seen in the before cells the solution for our future using encoding 0 is very bad. Encoding 1 or 2 should be used instead!!"
   ]
  },
  {
   "cell_type": "code",
   "execution_count": null,
   "id": "ffbe55d8",
   "metadata": {},
   "outputs": [],
   "source": [
    "#Future with encoding 2\n",
    "price_estimation_configuration.update({\n",
    "    'pay_off_type': 'Futures',\n",
    "    'strike': 0.8,\n",
    "    'encoding': 2,\n",
    "    'ae_type': 'IQAE'\n",
    "})"
   ]
  },
  {
   "cell_type": "code",
   "execution_count": null,
   "id": "6726859e",
   "metadata": {},
   "outputs": [],
   "source": [
    "pdf_future = ae_price_estimation(**price_estimation_configuration)"
   ]
  },
  {
   "cell_type": "code",
   "execution_count": null,
   "id": "64448b38",
   "metadata": {},
   "outputs": [],
   "source": [
    "#Amplitude Estimation Integral computation results\n",
    "pdf_future[[\n",
    "    \"ae_l_expectation\", \"ae_expectation\", \n",
    "    \"ae_u_expectation\", \"riemann_expectation\", \"absolute_error\"]]"
   ]
  },
  {
   "cell_type": "code",
   "execution_count": null,
   "id": "69492e89",
   "metadata": {},
   "outputs": [],
   "source": [
    "# Finance related prices\n",
    "pdf_future[['finance_exact_price', 'finance_riemann_price', \n",
    "     'finance_price_estimation', 'finance_error_riemann', 'finance_error_exact'\n",
    "]]"
   ]
  },
  {
   "cell_type": "markdown",
   "id": "ea987834",
   "metadata": {},
   "source": [
    "With the encoding 2 the solution of the Future is now well estimated!!!"
   ]
  },
  {
   "cell_type": "markdown",
   "id": "27a6d6dc",
   "metadata": {},
   "source": [
    "### 3.2 Encoding 0 and RQAE methods.\n",
    "\n",
    "When using the encoding 0 the **RQAE** technique (and its variants like **eRQAE**, **mRQAE** and **sRQAE**) can not be used. Instead of an error a warning is raised. The *ae_price_estimation* function provides output pandas DataFrame but the columns related with the results will have a None."
   ]
  },
  {
   "cell_type": "code",
   "execution_count": null,
   "id": "f960fbed",
   "metadata": {},
   "outputs": [],
   "source": [
    "#Future with encoding 0\n",
    "price_estimation_configuration.update({\n",
    "    'pay_off_type': 'Futures',\n",
    "    'strike': 0.8,\n",
    "    'encoding': 0,\n",
    "    'ae_type': 'RQAE'#eRQAE, sRQAE, mRQAE\n",
    "})"
   ]
  },
  {
   "cell_type": "code",
   "execution_count": null,
   "id": "83c85e20",
   "metadata": {},
   "outputs": [],
   "source": [
    "pdf_future = ae_price_estimation(**price_estimation_configuration)"
   ]
  },
  {
   "cell_type": "code",
   "execution_count": null,
   "id": "b0b0ac07",
   "metadata": {},
   "outputs": [],
   "source": [
    "pdf_future"
   ]
  },
  {
   "cell_type": "code",
   "execution_count": null,
   "id": "00ba3286",
   "metadata": {},
   "outputs": [],
   "source": [
    "#Amplitude Estimation Integral computation results\n",
    "pdf_future[[\n",
    "    \"ae_l_expectation\", \"ae_expectation\", \n",
    "    \"ae_u_expectation\", \"riemann_expectation\", \"absolute_error\"]]"
   ]
  },
  {
   "cell_type": "code",
   "execution_count": null,
   "id": "46a540fc",
   "metadata": {},
   "outputs": [],
   "source": [
    "# Finance related prices\n",
    "pdf_future[['finance_exact_price', 'finance_riemann_price', \n",
    "     'finance_price_estimation', 'finance_error_riemann', 'finance_error_exact'\n",
    "]]"
   ]
  },
  {
   "cell_type": "markdown",
   "id": "3126851a",
   "metadata": {},
   "source": [
    "### 3.3 Negative integrals and RQAE\n",
    "\n",
    "For pure option price estimation (European_Call_Option, European_Put_Option, Digital_Call_Option, Digital_Put_Option) the price always will be positive so all the **AE** methods can be used (of course the 3 encoding methods can be used). However, there are other financial products where the expected return is needed and it is not necessarily positive (for example de Futures). In these cases, the use of encoding 1 or 2 is not enough for getting the correct results. If the solution is negative the only **AE** technique suitable will be the **RQAE** or their variants (**sRQAE**, **mRQAE** or **eRQAE**)."
   ]
  },
  {
   "cell_type": "code",
   "execution_count": null,
   "id": "de1356a0",
   "metadata": {},
   "outputs": [],
   "source": [
    "#Future with encoding 2\n",
    "price_estimation_configuration.update({\n",
    "    'pay_off_type': 'Futures',\n",
    "    'strike': 1.5,\n",
    "    'encoding': 2,\n",
    "    'ae_type': 'IQAE'\n",
    "})"
   ]
  },
  {
   "cell_type": "code",
   "execution_count": null,
   "id": "0248ea5f",
   "metadata": {},
   "outputs": [],
   "source": [
    "pdf_future = ae_price_estimation(**price_estimation_configuration)"
   ]
  },
  {
   "cell_type": "code",
   "execution_count": null,
   "id": "86551835",
   "metadata": {},
   "outputs": [],
   "source": [
    "#Amplitude Estimation Integral computation results\n",
    "pdf_future[[\n",
    "    \"ae_l_expectation\", \"ae_expectation\", \n",
    "    \"ae_u_expectation\", \"riemann_expectation\", \"absolute_error\"]]"
   ]
  },
  {
   "cell_type": "code",
   "execution_count": null,
   "id": "00e9f12c",
   "metadata": {},
   "outputs": [],
   "source": [
    "# Finance related prices\n",
    "pdf_future[['finance_exact_price', 'finance_riemann_price', \n",
    "     'finance_price_estimation', 'finance_error_riemann', 'finance_error_exact'\n",
    "]]"
   ]
  },
  {
   "cell_type": "markdown",
   "id": "1d299085",
   "metadata": {},
   "source": [
    "As can be seen when the expectation is negative the **AE** method fails despite of the encoding procedure"
   ]
  },
  {
   "cell_type": "code",
   "execution_count": null,
   "id": "fc80ab33",
   "metadata": {},
   "outputs": [],
   "source": [
    "#Future with encoding 2\n",
    "price_estimation_configuration.update({\n",
    "    'pay_off_type': 'Futures',\n",
    "    'strike': 1.5,\n",
    "    'encoding': 2,\n",
    "    'ae_type': 'RQAE'\n",
    "})\n",
    "pdf_future = ae_price_estimation(**price_estimation_configuration)"
   ]
  },
  {
   "cell_type": "code",
   "execution_count": null,
   "id": "4a007fff",
   "metadata": {},
   "outputs": [],
   "source": [
    "#Amplitude Estimation Integral computation results\n",
    "pdf_future[[\n",
    "    \"ae_l_expectation\", \"ae_expectation\", \n",
    "    \"ae_u_expectation\", \"riemann_expectation\", \"absolute_error\"]]"
   ]
  },
  {
   "cell_type": "code",
   "execution_count": null,
   "id": "ce832375",
   "metadata": {},
   "outputs": [],
   "source": [
    "# Finance related prices\n",
    "pdf_future[['finance_exact_price', 'finance_riemann_price', \n",
    "     'finance_price_estimation', 'finance_error_riemann', 'finance_error_exact'\n",
    "]]"
   ]
  },
  {
   "cell_type": "markdown",
   "id": "4e5c6873",
   "metadata": {},
   "source": [
    "As can be seen the **RQAE** algorithm give us the correct value!!!"
   ]
  },
  {
   "cell_type": "markdown",
   "id": "26af0c9a",
   "metadata": {},
   "source": [
    "#### mRQAE"
   ]
  },
  {
   "cell_type": "code",
   "execution_count": null,
   "id": "8fd0e676",
   "metadata": {},
   "outputs": [],
   "source": [
    "#Future with encoding 2\n",
    "price_estimation_configuration.update({\n",
    "    'pay_off_type': 'Futures',\n",
    "    'strike': 1.5,\n",
    "    'encoding': 2,\n",
    "    'ae_type': 'mRQAE'\n",
    "})\n",
    "pdf_future_mrqae = ae_price_estimation(**price_estimation_configuration)\n",
    "#Amplitude Estimation Integral computation results\n",
    "print(pdf_future_mrqae[[\n",
    "    \"ae_l_expectation\", \"ae_expectation\", \n",
    "    \"ae_u_expectation\", \"riemann_expectation\", \"absolute_error\"]]\n",
    ")\n",
    "print(# Finance related prices\n",
    "pdf_future_mrqae[['finance_exact_price', 'finance_riemann_price', \n",
    "     'finance_price_estimation', 'finance_error_riemann', 'finance_error_exact'\n",
    "]])"
   ]
  },
  {
   "cell_type": "markdown",
   "id": "d75d22e0",
   "metadata": {},
   "source": [
    "#### sRQAE"
   ]
  },
  {
   "cell_type": "code",
   "execution_count": null,
   "id": "9154d787",
   "metadata": {},
   "outputs": [],
   "source": [
    "#Future with encoding 2\n",
    "price_estimation_configuration.update({\n",
    "    'pay_off_type': 'Futures',\n",
    "    'strike': 1.5,\n",
    "    'encoding': 2,\n",
    "    'ae_type': 'sRQAE',\n",
    "    'shots': 378\n",
    "})\n",
    "pdf_future_srqae = ae_price_estimation(**price_estimation_configuration)\n",
    "#Amplitude Estimation Integral computation results\n",
    "print(pdf_future_srqae[[\n",
    "    \"ae_l_expectation\", \"ae_expectation\", \n",
    "    \"ae_u_expectation\", \"riemann_expectation\", \"absolute_error\"]]\n",
    ")\n",
    "print(# Finance related prices\n",
    "pdf_future_srqae[['finance_exact_price', 'finance_riemann_price', \n",
    "     'finance_price_estimation', 'finance_error_riemann', 'finance_error_exact'\n",
    "]])"
   ]
  },
  {
   "cell_type": "code",
   "execution_count": null,
   "id": "a49a1b73",
   "metadata": {},
   "outputs": [],
   "source": [
    "pdf_future_srqae[\"shots\"]"
   ]
  },
  {
   "cell_type": "markdown",
   "id": "dc4726b5",
   "metadata": {},
   "source": [
    "#### eRQAE"
   ]
  },
  {
   "cell_type": "code",
   "execution_count": null,
   "id": "588e234c",
   "metadata": {},
   "outputs": [],
   "source": [
    "#Future with encoding 2\n",
    "\n",
    "price_estimation_configuration.update({\n",
    "    'pay_off_type': 'Futures',\n",
    "    'strike': 1.5,\n",
    "    'encoding': 2,\n",
    "    'ae_type': 'eRQAE',\n",
    "    'erqae_schedule': {\n",
    "        \"type\": \"linear_linear\",\n",
    "        \"ratio_slope_k\": 2, \n",
    "        \"ratio_slope_gamma\": 2\n",
    "    }\n",
    "})\n",
    "pdf_future_erqae = ae_price_estimation(**price_estimation_configuration)\n",
    "#Amplitude Estimation Integral computation results\n",
    "print(pdf_future_erqae[[\n",
    "    \"ae_l_expectation\", \"ae_expectation\", \n",
    "    \"ae_u_expectation\", \"riemann_expectation\", \"absolute_error\"]]\n",
    ")\n"
   ]
  },
  {
   "cell_type": "code",
   "execution_count": null,
   "id": "e5b2335e",
   "metadata": {},
   "outputs": [],
   "source": [
    "pdf_future_erqae[['finance_exact_price', 'finance_riemann_price', \n",
    "     'finance_price_estimation', 'finance_error_riemann', 'finance_error_exact'\n",
    "]]"
   ]
  },
  {
   "cell_type": "code",
   "execution_count": null,
   "id": "1d41cb2c",
   "metadata": {},
   "outputs": [],
   "source": [
    "pdf_future_erqae[\"erqae_schedule\"]"
   ]
  },
  {
   "cell_type": "markdown",
   "id": "a050af8b",
   "metadata": {},
   "source": [
    "### 3.4 CQPEAE and IQPEAE  techniques\n",
    "\n",
    "The *ae_price_estimation* can be used with all the encodings and all the **AE** algorithms implemented in the **QQuantLib**. However, a piece of advice should be given when **CQPEAE** and **IQPEAE** algorithms are used. These algorithms used pure **Quantum Phase Estimation** for computing the integrals. These kinds of methods are very computing demand and usually large simulation times are needed for solving the price estimation problem. "
   ]
  },
  {
   "cell_type": "markdown",
   "id": "161fb64d",
   "metadata": {},
   "source": [
    "## 4. Loading PayOffs by Parts\n",
    "\n",
    "As explained in this and other notebooks, a key challenge when using **AE** estimation for computing integrals (or expected values) arises when the function to be integrated is negative over some part of the domain. While Encoding 1 and 2 can address this issue, most **AE** algorithms (except **RQAE**) fail if the final integral is negative, as they return the probability rather than the amplitude.\n",
    "\n",
    "One solution to this problem is to separately load the positive and negative parts of the function, execute the **AE** estimation for each part, and then post-process the results to obtain the final result. The workflow is as follows:\n",
    "\n",
    "1. Load the positive part of $ f(x) $ and use the **AE** algorithm to obtain the estimation $ a^+ $ (and its corresponding semi-difference bounded interval: $ \\epsilon_a^+ $, if provided by the **AE** algorithm).\n",
    "2. Load the negative part of $ f(x) $ (in this case, load the absolute value of the function: $ |f(x)| $) and use the **AE** algorithm to obtain the estimation $ a^- $ (and its corresponding semi-difference bounded interval: $ \\epsilon_a^- $, if provided by the **AE** algorithm). Note that $ a^- > 0 $.\n",
    "3. Post-process the obtained results to calculate the final estimation: $ a_{final} = a^+ - a^- $.\n",
    "4. The associated semi-difference bound interval will be the sum of the obtained intervals: $ \\epsilon_a = \\epsilon_a^+ + \\epsilon_a^- $.\n",
    "\n",
    "With this procedure, any **AE** algorithm can be used to estimate the desired integral. Additionally, this approach is compatible with all encodings: 0 (or square encoding), 1, and 2 (or direct encoding).\n",
    "\n",
    "The `ae_price_estimation_step_po` function from the **QQuantLib.finance.ae_price_estimation_step_payoff** module implements this procedure for a complete price estimation problem and **AE** algorithm. This function operates similarly to the *ae_price_estimation* function described in this notebook.\n",
    "\n",
    "The `ae_price_estimation_step_po` function returns a pandas DataFrame with the same configuration as that returned by the **ae_price_estimation** function, but it includes additional columns for the negative and positive estimation parts:\n",
    "- `ae_positive_part`: Estimation of the positive part.\n",
    "- `ae_l_positive_part`: Lower bound for the positive part estimation.\n",
    "- `ae_u_positive_part`: Upper bound for the positive part estimation.\n",
    "- `ae_negative_part`: Estimation of the negative part.\n",
    "- `ae_l_negative_part`: Lower bound for the negative part estimation.\n",
    "- `ae_u_negative_part`: Upper bound for the negative part estimation."
   ]
  },
  {
   "cell_type": "code",
   "execution_count": null,
   "id": "6773011d",
   "metadata": {},
   "outputs": [],
   "source": [
    "from QQuantLib.finance.ae_price_estimation_step_payoff import ae_price_estimation_step_po"
   ]
  },
  {
   "cell_type": "code",
   "execution_count": null,
   "id": "b7867ee4",
   "metadata": {},
   "outputs": [],
   "source": [
    "future_pe_conf = {\n",
    "    # Domain\n",
    "    'x0': 0.01,\n",
    "    'xf': 5.0,\n",
    "    'n_qbits': 5,       \n",
    "    # Probability\n",
    "    'probability_type': 'Black-Scholes',\n",
    "    's_0': 1,\n",
    "    'risk_free_rate': 0.05,\n",
    "    'maturity': 1.0,\n",
    "    'volatility': 0.5,    \n",
    "    # PayOff\n",
    "    'pay_off_type': 'Futures',\n",
    "    'strike': 1.5,\n",
    "    #AE Configuration\n",
    "    #MLAE configuration\n",
    "    'schedule': [\n",
    "        m_k,\n",
    "        [100]*len(m_k)\n",
    "    ],\n",
    "    'delta' : 1.0e-7,\n",
    "    'ns' : 10000,\n",
    "    \n",
    "    #CQPEAE configuration\n",
    "    'auxiliar_qbits_number': 14,\n",
    "    \n",
    "    #IQPEAE configuration\n",
    "    'cbits_number': 10,  \n",
    "    \n",
    "    #IQAE & RQAQE\n",
    "    'epsilon': 0.0001,\n",
    "    #IQAE\n",
    "    'alpha': 0.05,\n",
    "    #RQAE\n",
    "    'gamma': 0.05,\n",
    "    'q': 2.0,\n",
    "    #eRQAE\n",
    "    \"erqae_schedule\": None,\n",
    "    \n",
    "    #shots: applit to IQAE, CQPEAE, IQPEA, sRQAE\n",
    "    'shots': 100,      \n",
    "    #Multi controlled decomposition\n",
    "    'mcz_qlm': False,    \n",
    "}\n",
    "future_pe_conf.update({\"qpu\": linalg_qpu})"
   ]
  },
  {
   "cell_type": "code",
   "execution_count": null,
   "id": "18dced44",
   "metadata": {},
   "outputs": [],
   "source": [
    "# We are going to use the square encoding\n",
    "future_pe_conf.update({\"encoding\": 0})\n",
    "future_pe_conf.update({\"ae_type\": \"IQAE\"})\n",
    "\n",
    "step_future_square = ae_price_estimation_step_po(\n",
    "    **future_pe_conf)"
   ]
  },
  {
   "cell_type": "code",
   "execution_count": null,
   "id": "0d0923f4",
   "metadata": {},
   "outputs": [],
   "source": [
    "# positive part estimation\n",
    "step_future_square[[\"ae_positive_part\", \"ae_l_positive_part\", \"ae_u_positive_part\"]]"
   ]
  },
  {
   "cell_type": "code",
   "execution_count": null,
   "id": "c2f47025",
   "metadata": {},
   "outputs": [],
   "source": [
    "# negative part estimation\n",
    "step_future_square[[\"ae_negative_part\", \"ae_l_negative_part\", \"ae_u_negative_part\"]]"
   ]
  },
  {
   "cell_type": "markdown",
   "id": "c3017b7d",
   "metadata": {},
   "source": [
    "Now the estimation is correct:"
   ]
  },
  {
   "cell_type": "code",
   "execution_count": null,
   "id": "64193742",
   "metadata": {},
   "outputs": [],
   "source": [
    "step_future_square[\n",
    "    [\"ae_expectation\", \"measured_epsilon\", \"riemann_expectation\", \"absolute_error\"]\n",
    "]"
   ]
  },
  {
   "cell_type": "code",
   "execution_count": null,
   "id": "d62a8867",
   "metadata": {},
   "outputs": [],
   "source": [
    "step_future_square[\n",
    "    ['finance_exact_price', 'finance_riemann_price', \n",
    "     'finance_price_estimation', 'finance_error_riemann', 'finance_error_exact']\n",
    "]"
   ]
  },
  {
   "cell_type": "code",
   "execution_count": null,
   "id": "2e456219",
   "metadata": {},
   "outputs": [],
   "source": [
    "# We are going to use the direct encoding\n",
    "future_pe_conf.update({\"encoding\": 2})\n",
    "future_pe_conf.update({\"ae_type\": \"IQAE\"})\n",
    "\n",
    "step_future_square = ae_price_estimation_step_po(\n",
    "    **future_pe_conf)"
   ]
  },
  {
   "cell_type": "markdown",
   "id": "3d4e0764",
   "metadata": {},
   "source": [
    "Again the estimation is correct"
   ]
  },
  {
   "cell_type": "code",
   "execution_count": null,
   "id": "7141c5f9",
   "metadata": {},
   "outputs": [],
   "source": [
    "step_future_square[\n",
    "    [\"ae_expectation\", \"measured_epsilon\", \"riemann_expectation\", \"absolute_error\"]\n",
    "]"
   ]
  },
  {
   "cell_type": "code",
   "execution_count": null,
   "id": "dc8e03a6",
   "metadata": {},
   "outputs": [],
   "source": [
    "step_future_square[\n",
    "    ['finance_exact_price', 'finance_riemann_price', \n",
    "     'finance_price_estimation', 'finance_error_riemann', 'finance_error_exact']\n",
    "]"
   ]
  },
  {
   "cell_type": "markdown",
   "id": "84d6beab",
   "metadata": {},
   "source": [
    "## 5. Amplitude Estimation Algorithms comparison\n",
    "\n",
    "The **benchmark.q_ae_price.benchmark_ae_option_price.py** script allows to the user generate, in an easy way, combinations of different price estimation problems and **AE** algorithm configurations for feeding to the **ae_price_estimation** function of the **QQuantLib.finance.ae_price_estimation** module.\n",
    "\n",
    "\n",
    "The **benchmark.q_ae_price.benchmark_ae_option_price_step_po.py** script allows to the user generate, in an easy way, combinations of different price estimation problems and **AE** algorithm configurations for feeding to the **ae_price_estimation_step_po** of the **QQuantLib.finance.ae_price_estimation_step_payoff** module.\n",
    "\n",
    "These two scripts can be used for generating benchmark simulations automatically. We refer to the notebook  *Compare_AE_algorithms_On_PriceEstimation.ipynb* (in **benchmark.q_ae_price** package) for more info."
   ]
  }
 ],
 "metadata": {
  "kernelspec": {
   "display_name": "Python 3 (ipykernel)",
   "language": "python",
   "name": "python3"
  },
  "language_info": {
   "codemirror_mode": {
    "name": "ipython",
    "version": 3
   },
   "file_extension": ".py",
   "mimetype": "text/x-python",
   "name": "python",
   "nbconvert_exporter": "python",
   "pygments_lexer": "ipython3",
   "version": "3.9.9"
  }
 },
 "nbformat": 4,
 "nbformat_minor": 5
}
