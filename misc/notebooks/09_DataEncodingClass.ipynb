{
 "cells": [
  {
   "cell_type": "markdown",
   "id": "1a164c1a",
   "metadata": {},
   "source": [
    "# Encoding Data Class\n",
    "\n",
    "The present notebook reviews the **Encoding** class from the *encoding_protocols* module from the **QQuantLib.DL.encoding_protocols** file.\n",
    "\n",
    "The **Encoding** class is a Python one whose main objective is to create a quantum circuit for encoding some input data, in a  transparent way for the user of the library. The output quantum circuit can be used as an oracle for **Amplitude Estimation** problems. In this class up to 3 different encoding methods were implemented."
   ]
  },
  {
   "cell_type": "code",
   "execution_count": null,
   "id": "02a448dd",
   "metadata": {},
   "outputs": [],
   "source": [
    "import sys\n",
    "sys.path.append(\"../../\")\n",
    "import numpy as np\n",
    "import pandas as pd\n",
    "import qat.lang.AQASM as qlm\n",
    "import matplotlib.pyplot as plt\n",
    "%matplotlib inline\n",
    "from scipy import integrate"
   ]
  },
  {
   "cell_type": "code",
   "execution_count": null,
   "id": "e5fe6305",
   "metadata": {},
   "outputs": [],
   "source": [
    "#This cell loads the QLM solver. See notebook: 00_AboutTheNotebooksAndQPUs.ipynb\n",
    "from QQuantLib.qpu.get_qpu import get_qpu\n",
    "# myqlm qpus: python, c\n",
    "# QLM qpus accessed using Qaptiva Access library: qlmass_linalg, qlmass_mps\n",
    "# QLM qpus: Only in local Quantum Learning Machine: linalg, mps\n",
    "my_qpus = [\"python\", \"c\", \"qlmass_linalg\", \"qlmass_mps\", \"linalg\", \"mps\"]\n",
    "linalg_qpu = get_qpu(my_qpus[1])"
   ]
  },
  {
   "cell_type": "code",
   "execution_count": null,
   "id": "b851b92b",
   "metadata": {},
   "outputs": [],
   "source": [
    "from QQuantLib.utils.data_extracting  import get_results"
   ]
  },
  {
   "cell_type": "markdown",
   "id": "9efd1508",
   "metadata": {},
   "source": [
    "## 1. Encoding Problem\n",
    "\n",
    "The main objective behind the **Encoding** class is to create, in a transparent way for the user, a quantum oracle circuit that can be used for computing integrals using **Amplitude Estimation** algorithms. \n",
    "\n",
    "Let $p(x)$ a probability distribution and $f(x)$ a function defined over an interval $[a, b] \\subset \\mathbf{R}$, our main idea is to compute the expected value of the function $f(x)$ when $x$ follows a probability distribution $p(x)$ between the interval $[a, b]$ using **AE** techniques (and of course the **AE** class created in the **QQuantLib.AE.ae_class**). The expected value can be computed as the following integral:\n",
    "\n",
    "$$I = \\int_a^bp(x)f(x)dx$$\n",
    "\n",
    " \n",
    "In this case, we are going to approximate this integral as a Riemann sum so:\n",
    "\n",
    "\n",
    "$$P=\\{[x_0, x_1], [x_1, x_2], ..., [x_{n-1}, x_n]\\}$$ \n",
    "\n",
    "such that:\n",
    "\n",
    "$$a = x_0 < x_1 < x_2 < ... < x_n=b$$\n",
    "\n",
    "Then \n",
    "\n",
    "$$I= \\int_a^bp(x)f(x)dx \\approx S = \\sum_i^np(x_i)f(x_i)*\\Delta x_i$$\n",
    "\n",
    "The final objective is to create a quantum circuit, where the before Riemann sum is codified into the amplitude of one of the *eigen-state* of the $|\\Psi\\rangle$ state.\n",
    "\n",
    "For doing this several algorithms were identified and implemented in our Python class.\n",
    "\n",
    "The $p(x)$ and the $f(x)$ functions will be encoded as arrays so a discretization is needed. \n"
   ]
  },
  {
   "cell_type": "markdown",
   "id": "28c99cc2",
   "metadata": {},
   "source": [
    "### Instantiate the class\n",
    "\n",
    "For creating the encoding quantum circuit we can instantiate the **Encoding** class from the *encoding_protocols* module. This class have the following inputs:\n",
    "\n",
    "* *array_function*: numpy array with the discretization of the of the function $f(x)$. This is mandatory.\n",
    "* *array_probability*: numpy array with the discretization of the probability $p(x)$. This can be None, then the uniform distribution will be used.\n",
    "* *encoding*: integer for indicating the encoding procedure to use.\n",
    "\n",
    "Additionally, a Python dictionary with other configuration settings can be provided to the class. The main  key of this dictionary will be:\n",
    "\n",
    "* *multiplexor*: boolean variable for using (or not) multiplexors.\n",
    "\n",
    "Additionally, some attributes are created when the class is instantiated:\n",
    "\n",
    "* *oracle*: where the *QLM AbstractGate* of the desired oracle will be stored.\n",
    "* *co_target*:  list of ints with the state the oracle marks in binary representation.\n",
    "* *co_index*: list of ints with the registers over the oracle will act.\n",
    "* *p_gate*; where the *QLM AbstractGate* of the operator $\\mathbf{U}_p$ will be stored.\n",
    "* *function_gate*; where the *QLM AbstractGate* of the operator $\\mathbf{U}_f$ will be stored.\n",
    "* **encoding_normalization**: this will be the normalisation due to the encoding procedure. So to recover the integral of the amplitude of the state where we want to codify it we need **ALWAYS** multiply the amplitude by this attribute!!"
   ]
  },
  {
   "cell_type": "code",
   "execution_count": null,
   "id": "0ec79337",
   "metadata": {},
   "outputs": [],
   "source": [
    "from QQuantLib.DL.encoding_protocols import Encoding"
   ]
  },
  {
   "cell_type": "markdown",
   "id": "38e44693",
   "metadata": {},
   "source": [
    "### BE AWARE!! Input restrictions\n",
    "\n",
    "There are some **MANDATORY** conditions that the numpy inputs arrays provided to the class should be satisfied:\n",
    "\n",
    "* All the arrays must be of dimension $2^n$ where $n$ is an integer number. In this case, the $n$ will be related to the number of qubits used for creating the quantum circuit.\n",
    "* $f(x)$ **MUST BE** properly normalised: $f(x_i) \\leq 1 \\forall i$\n",
    "* $p(x)$, if provided, **MUST BE** properly normalised: $\\sum_{i=0}^{2^{n}} p(x_i) = 1$\n",
    "\n",
    "If any of these conditions is not satisfied an Error will be raised!!!"
   ]
  },
  {
   "cell_type": "code",
   "execution_count": null,
   "id": "730b30ed",
   "metadata": {
    "scrolled": true
   },
   "outputs": [],
   "source": [
    "#Bad interval number\n",
    "a = 0\n",
    "b = 5.0\n",
    "domain_y = np.linspace(a, b, 10)\n",
    "#Our discretized function\n",
    "f_y = domain_y*domain_y\n",
    "\n",
    "#Our discretized probability distribution\n",
    "p_y = domain_y\n",
    "\n",
    "#Raise an error because bad interval number\n",
    "class_encoding0 = Encoding(array_function=f_y, array_probability=p_y, encoding=0)"
   ]
  },
  {
   "cell_type": "code",
   "execution_count": null,
   "id": "608457e0",
   "metadata": {},
   "outputs": [],
   "source": [
    "#Bad function normalisation\n",
    "a = 0\n",
    "b = 5.0\n",
    "n = 6\n",
    "\n",
    "#domain \n",
    "domain_y = np.linspace(a, b, 2**n)\n",
    "\n",
    "#Our discretized function\n",
    "f_y = domain_y*domain_y\n",
    "\n",
    "#Our discretized probability distribution\n",
    "p_y = domain_y\n",
    "\n",
    "#Raise an error because function is not properly normalised\n",
    "class_encoding0 = Encoding(array_function=f_y, array_probability=p_y, encoding=0)"
   ]
  },
  {
   "cell_type": "code",
   "execution_count": null,
   "id": "9a6eacca",
   "metadata": {},
   "outputs": [],
   "source": [
    "#Bad probability normalisation\n",
    "a = 0\n",
    "b = 5.0\n",
    "n = 6\n",
    "\n",
    "#domain \n",
    "domain_y = np.linspace(a, b, 2**n)\n",
    "\n",
    "#Our discretized function\n",
    "f_y = domain_y*domain_y\n",
    "f_y = f_y / np.max(f_y)\n",
    "print(np.max(f_y))\n",
    "\n",
    "#Our discretized probability distribution (bad one)\n",
    "p_y = domain_y\n",
    "\n",
    "#Raise an error because probability is not properly normalised\n",
    "class_encoding0 = Encoding(array_function=f_y, array_probability=p_y, encoding=0)"
   ]
  },
  {
   "cell_type": "code",
   "execution_count": null,
   "id": "62271f32",
   "metadata": {},
   "outputs": [],
   "source": [
    "# All properly configured\n",
    "a = 0\n",
    "b = 5.0\n",
    "n = 6\n",
    "\n",
    "#domain \n",
    "domain_y = np.linspace(a, b, 2**n)\n",
    "\n",
    "#Our discretized function\n",
    "f_y = domain_y*domain_y\n",
    "#normalisation for function\n",
    "f_y = f_y / np.max(f_y)\n",
    "print(np.max(f_y))\n",
    "\n",
    "#Our discretized probability distribution\n",
    "p_y = domain_y\n",
    "#normalisation for probability\n",
    "p_y = p_y / np.sum(p_y)\n",
    "\n",
    "#Raise an error because probability is not properly normalised\n",
    "class_encoding0 = Encoding(array_function=f_y, array_probability=p_y, encoding=0)"
   ]
  },
  {
   "cell_type": "markdown",
   "id": "b3d8e99a",
   "metadata": {},
   "source": [
    "In last cell all was properly configured so not error are raised!! Now we can continue explaining the class. "
   ]
  },
  {
   "cell_type": "markdown",
   "id": "f5697349",
   "metadata": {},
   "source": [
    "## 2. Encoding Procedures\n",
    "\n",
    "3 different procedures were implemented in the class. Each procedure can be selected by giving a number between 0 and 2 to the encoding attribute of the class. When the encoding changes all the class attributes are reset!!\n",
    "\n",
    "First, we created the mandatory data for encoding"
   ]
  },
  {
   "cell_type": "code",
   "execution_count": null,
   "id": "11d0edaf",
   "metadata": {},
   "outputs": [],
   "source": [
    "a = np.pi/4.0\n",
    "b = np.pi/2.0\n",
    "#number of qbits\n",
    "n = 6\n",
    "#Our domain\n",
    "domain_x = np.linspace(a, b, 2**n)\n",
    "#Our discretized probability distribution\n",
    "p_x = domain_x\n",
    "#Our discretized function\n",
    "f_x = np.sin(domain_x)"
   ]
  },
  {
   "cell_type": "code",
   "execution_count": null,
   "id": "7f156b6c",
   "metadata": {},
   "outputs": [],
   "source": [
    "plt.plot(domain_x, p_x, 'o')\n",
    "plt.plot(domain_x, f_x, 'o')\n",
    "plt.xlabel('x')\n",
    "plt.ylabel('y')\n",
    "plt.legend(['p(x)', 'f(x)'])"
   ]
  },
  {
   "cell_type": "code",
   "execution_count": null,
   "id": "d37d90ab",
   "metadata": {},
   "outputs": [],
   "source": [
    "#Normalisations!!!\n",
    "p_x_normalisation = np.sum(p_x) + 1e-8\n",
    "norm_p_x = p_x / p_x_normalisation\n",
    "print(\"Probability properly normalised?: {}\".format(np.sum(norm_p_x) <= 1.0))\n",
    "f_x_normalisation = np.max(f_x) +  1e-8\n",
    "norm_f_x = f_x / f_x_normalisation\n",
    "print(\"Function properly normalised?: {}\".format(np.max(norm_f_x) <= 1.0))"
   ]
  },
  {
   "cell_type": "code",
   "execution_count": null,
   "id": "e08ef6a9",
   "metadata": {},
   "outputs": [],
   "source": [
    "plt.plot(domain_x, norm_p_x, 'o')\n",
    "plt.plot(domain_x, norm_f_x, 'o')\n",
    "plt.xlabel('x')\n",
    "plt.ylabel('y')\n",
    "plt.legend(['p(x)', 'f(x)'])"
   ]
  },
  {
   "cell_type": "code",
   "execution_count": null,
   "id": "0d225da7",
   "metadata": {},
   "outputs": [],
   "source": [
    "#Our idea is computing the following result:\n",
    "Riemman = np.sum(norm_p_x*norm_f_x)\n",
    "\n",
    "print(\"We want to load: {}\".format(Riemman))"
   ]
  },
  {
   "cell_type": "code",
   "execution_count": null,
   "id": "9d8f29b0",
   "metadata": {},
   "outputs": [],
   "source": [
    "#Testing the normalisations\n",
    "np.sum(norm_p_x*norm_f_x) *  p_x_normalisation * f_x_normalisation == np.sum(p_x*f_x)"
   ]
  },
  {
   "cell_type": "markdown",
   "id": "b4b326a4",
   "metadata": {},
   "source": [
    "### 2.1 Encoding Procedure 0 (a.k.a. square encoding)\n",
    "\n",
    "This encoding algorithm was originally proposed by Grover and Rudolph:\n",
    "\n",
    "* *Grover, Lov and Rudolph, Terry*. Creating superpositions that correspond to efficiently integrable probability distributions. arXiv (2002). https://arxiv.org/abs/quant-ph/0208112\n",
    "\n",
    "If we have discretized $p(x)$ and $f(x)$ in $2^n$ intervals the encoding 0 procedure is the following:\n",
    "\n",
    "1. Initialize $n+1$ qubits:\n",
    "\n",
    "$$|0\\rangle\\otimes|0\\rangle_n$$\n",
    "\n",
    "2. Create a $\\mathbf{U}_p$ operator for loading $p(x_i)$ array (this will be created using the *load_probability* function from **QQuantLib.DL.data_loading** module). This operator will be applied over the first $n$ qubits in the following way:\n",
    "\n",
    "$$\\left(I\\otimes \\mathbf{U}_p \\right)|0\\rangle\\otimes|0\\rangle_{n} = |0\\rangle\\otimes \\sum_{i=0}^{2^{n}-1}\\sqrt{p(x_i)}|i\\rangle_{n} \\tag{1}$$\n",
    "\n",
    "3. Create a $\\mathbf{U}_f$ operator for loading $\\sqrt{f(x_i)}$ array (this will be created using the *load_array* function from **QQuantLib.DL.data_loading** module). This operator will act in the following way:\n",
    "\n",
    "$$\\mathbf{U}_f|i\\rangle|0\\rangle = |i\\rangle\\left(\\sqrt{f(x_i)}|0\\rangle + \\sqrt{1-f(x_i)}|1\\rangle \\right) \\tag{2}$$\n",
    "\n",
    "4. Apply the $\\mathbf{U}_f$ operator over the $n+1$ qubits:\n",
    "\n",
    "$$|\\Psi\\rangle = \\mathbf{U}_f\\left(I\\otimes \\mathbf{U}_p \\right)|0\\rangle\\otimes|0\\rangle_{n}\\tag{3}$$\n",
    "\n",
    "5. Applying equation $(1)$ on $(3)$:\n",
    "$$|\\Psi\\rangle = \\mathbf{U}_f \\left(|0\\rangle\\otimes \\sum_{i=0}^{2^{n}-1}\\sqrt{p(x_i)}|i\\rangle_{n}\\right) = \\sum_{i=0}^{2^{n}-1}\\sqrt{p(x_i)} \\mathbf{U}_f \\left(|0\\rangle\\otimes|i\\rangle_{n}\\right)$$\n",
    "\n",
    "6. Applying equation $(2)$:\n",
    "\n",
    "$$|\\Psi\\rangle \n",
    "= \\sum_{i=0}^{2^{n}-1}|i\\rangle_{n}\\otimes\\left(\\sqrt{p(x_i)f(x_i)}|0\\rangle + \\sqrt{p(x_i)(1-f(x_i))}|1\\rangle \\right) \\tag{4}$$\n",
    "\n",
    "With the above procedure, we have encoded the quantity:\n",
    "$$\\sum_{i=0}^{2^{n}-1}\\sqrt{p(x_i)f(x_i)}$$\n",
    "into the amplitude of the state $|0\\rangle$ of the additional qubit. \n",
    "\n",
    "To see this, we are going to compute the probability of measuring the state $|0\\rangle$ in the additional qubit in the equation $(4)$. This will be the sum of the probabilities of measuring each possible state $|0\\rangle\\otimes|i\\rangle_n$\n",
    "\n",
    "\n",
    "$$\\mathbf{P}_{|0 \\rangle} = \\sum_{j=0}^{2^n-1}\\mathbf{P}_{|j\\rangle_n|0\\rangle} \\tag{5}$$\n",
    "\n",
    "Where:\n",
    "\n",
    "$$\\mathbf{P}_{|j\\rangle_n|0\\rangle} =\\left| \\; \\langle j_n 0|\\Psi\\rangle \\; \\right|^2$$\n",
    "\n",
    "And \n",
    "\n",
    "$$\\langle j_n 0| = \\big( |j\\rangle_n \\otimes |0\\rangle \\big) \\dagger$$\n",
    "\n",
    "Using $(4)$ and $\\langle 1|0\\rangle = 0$:\n",
    "\n",
    "\n",
    "$$\\mathbf{P}_{|j\\rangle^n|0\\rangle} = \\left| \\sum_{i=0}^{2^n+1}\\sqrt{p(x_i)*f(x_i)}\\; _n\\langle j|i\\rangle_n \\langle 0|0\\rangle \\right|^2 $$\n",
    "\n",
    "Using  $_n\\langle j|i\\rangle_n = \\delta_{ji}$:\n",
    "\n",
    "$$\\mathbf{P}_{|j\\rangle^n|0\\rangle} = \\left|\\sqrt{p(x_j)*f(x_j)} \\right|^2 = \\left| p(x_j)*f(x_j) \\right| \\tag{6}$$\n",
    "\n",
    "So using $(6)$ in $(5)$:\n",
    "\n",
    "$$\\mathbf{P}_{|0 \\rangle} = \\sum_{j=0}^{2^n-1} \\left| p(x_j)*f(x_j) \\right| \\tag{7}$$\n",
    "\n",
    "For selecting this encoding procedure in the **Encode** class the *encoding* attribute of the class must be set to **0**. For getting the oracle corresponding to the encode the *oracle_encoding_0* method should be used.\n",
    "\n",
    "**BE AWARE In this case the *encoding_normalization* attribute will be 1.0**\n"
   ]
  },
  {
   "cell_type": "code",
   "execution_count": null,
   "id": "815be794",
   "metadata": {},
   "outputs": [],
   "source": [
    "class_encoding0 = Encoding(array_function=norm_f_x, array_probability=norm_p_x, encoding=0)\n",
    "\n",
    "print(class_encoding0.encoding)"
   ]
  },
  {
   "cell_type": "code",
   "execution_count": null,
   "id": "25d9104a",
   "metadata": {},
   "outputs": [],
   "source": [
    "class_encoding0.oracle_encoding_0()"
   ]
  },
  {
   "cell_type": "code",
   "execution_count": null,
   "id": "09d86f26",
   "metadata": {
    "scrolled": true
   },
   "outputs": [],
   "source": [
    "#The desired oracle is stored in the oracle property of the class\n",
    "c = class_encoding0.oracle\n",
    "%qatdisplay c --depth 0 --svg\n",
    "#Additionally we can get the U_p operator\n",
    "c = class_encoding0.p_gate\n",
    "%qatdisplay c --depth 1 --svg\n",
    "#And we can get the U_f operator\n",
    "c = class_encoding0.function_gate\n",
    "%qatdisplay c --depth 1 --svg"
   ]
  },
  {
   "cell_type": "markdown",
   "id": "82ccc21b",
   "metadata": {},
   "source": [
    "In order to see that all works properly we can compute the probability of getting the state $|0\\rangle$ into the additional qubit. This can be done using the *get_results* from **QQuantLib.utils.data_extracting** module."
   ]
  },
  {
   "cell_type": "code",
   "execution_count": null,
   "id": "259f8a1d",
   "metadata": {},
   "outputs": [],
   "source": [
    "encoding0_results,_,_,_ = get_results(class_encoding0.oracle, linalg_qpu=linalg_qpu, qubits=[class_encoding0.oracle.arity-1])"
   ]
  },
  {
   "cell_type": "code",
   "execution_count": null,
   "id": "7c48207c",
   "metadata": {},
   "outputs": [],
   "source": [
    "encoding0_results"
   ]
  },
  {
   "cell_type": "code",
   "execution_count": null,
   "id": "79ca9347",
   "metadata": {},
   "outputs": [],
   "source": [
    "#The solution should be equal to the scalar product of the loaded probability and function (this is the normalised ones)\n",
    "print(\"Encoding normalisation: {}\".format(class_encoding0.encoding_normalization))\n",
    "np.isclose(\n",
    "    encoding0_results['Probability'].iloc[0]*class_encoding0.encoding_normalization, \n",
    "    np.sum(norm_p_x*norm_f_x)\n",
    ")"
   ]
  },
  {
   "cell_type": "code",
   "execution_count": null,
   "id": "4d6686fe",
   "metadata": {
    "scrolled": true
   },
   "outputs": [],
   "source": [
    "#Additionally undoing the normalisation constants we get the desired Riemann sum!!\n",
    "np.isclose(\n",
    "    encoding0_results['Probability'].iloc[0] * class_encoding0.encoding_normalization *  p_x_normalisation * f_x_normalisation, \n",
    "    np.sum(p_x*f_x)\n",
    ")"
   ]
  },
  {
   "cell_type": "markdown",
   "id": "6c5e08e9",
   "metadata": {},
   "source": [
    "### Uniform distributions for probability\n",
    "\n",
    "If no *array_probability* is provided to the class a uniform distribution (based on the provided *array_function*) is used. In this case, Hadamard gates will be applied to the first $n$ qubits.  In this case equation $(4)$ can be written as:\n",
    "\n",
    "$$|\\Psi\\rangle \n",
    "= \\frac{1}{\\sqrt{2^n}} \\sum_{i=0}^{2^{n}-1}|i\\rangle_{n}\\otimes\\left(\\sqrt{f(x_i)}|0\\rangle + \\sqrt{1-f(x_i)}|1\\rangle \\right) \\tag{4.2}$$\n",
    "\n",
    "And equation $(7)$ can be written as:\n",
    "\n",
    "$$\\mathbf{P}_{|0 \\rangle} = \\frac{1}{2^n} \\sum_{j=0}^{2^n-1} \\left| f(x_j) \\right| \\tag{7.2}$$\n",
    "\n",
    "The uniform probability distribution can be used for computing pure integrals of functions.\n",
    "\n",
    "**BE AWARE In this case the *encoding_normalization* attribute will be: $2^n$**"
   ]
  },
  {
   "cell_type": "code",
   "execution_count": null,
   "id": "324ba062",
   "metadata": {},
   "outputs": [],
   "source": [
    "#Raise an error because probability is not properly normalised\n",
    "class_encoding0 = Encoding(array_function=norm_f_x, encoding=0)\n",
    "print(class_encoding0.encoding)\n",
    "class_encoding0.oracle_encoding_0()"
   ]
  },
  {
   "cell_type": "code",
   "execution_count": null,
   "id": "3b08c79c",
   "metadata": {},
   "outputs": [],
   "source": [
    "#The desired oracle is stored in the oracle property of the class\n",
    "c = class_encoding0.oracle\n",
    "%qatdisplay c --depth 0 --svg\n",
    "#Additionally we can get the U_p operator\n",
    "c = class_encoding0.p_gate\n",
    "%qatdisplay c --depth 1 --svg\n",
    "#And we can get the U_f operator\n",
    "c = class_encoding0.function_gate\n",
    "%qatdisplay c --depth 1 --svg"
   ]
  },
  {
   "cell_type": "code",
   "execution_count": null,
   "id": "0bcd06d6",
   "metadata": {},
   "outputs": [],
   "source": [
    "encoding0_results,_,_,_ = get_results(class_encoding0.oracle, linalg_qpu=linalg_qpu, qubits=[class_encoding0.oracle.arity-1])"
   ]
  },
  {
   "cell_type": "code",
   "execution_count": null,
   "id": "82e871c9",
   "metadata": {},
   "outputs": [],
   "source": [
    "encoding0_results"
   ]
  },
  {
   "cell_type": "code",
   "execution_count": null,
   "id": "9140a95c",
   "metadata": {},
   "outputs": [],
   "source": [
    "#Now using (7.2) we can compute the sum of the terms of the normalised function array\n",
    "print(\"Encoding normalisation: {}\".format(class_encoding0.encoding_normalization))\n",
    "np.isclose(\n",
    "    encoding0_results['Probability'].iloc[0] * class_encoding0.encoding_normalization,\n",
    "    np.sum(norm_f_x)\n",
    ")"
   ]
  },
  {
   "cell_type": "code",
   "execution_count": null,
   "id": "124bdecb",
   "metadata": {},
   "outputs": [],
   "source": [
    "#Additionally undoing the normalisation constant we get the desired Rieman sum!!\n",
    "np.isclose(\n",
    "    encoding0_results['Probability'].iloc[0] * class_encoding0.encoding_normalization * f_x_normalisation,\n",
    "    np.sum(f_x)\n",
    ")"
   ]
  },
  {
   "cell_type": "markdown",
   "id": "36546084",
   "metadata": {},
   "source": [
    "### BE AWARE!! Encoding problems of Procedure 0\n",
    "\n",
    "One of the main problems of the first encoding procedure is that the function must be positive definite. If any of the values of the input array $f(x_i)$ is negative their contribution to the final sum $\\mathbf{P}_{|0 \\rangle} = \\sum_{j=0}^{2^n-1} \\left| p(x_j)*f(x_j) \\right|$ will not be done in the proper way.\n",
    "\n",
    "Instead of raising an Error in this type of situation, we prefer raising a Warning and allowing the complete oracle creation when the *oracle_encoding_0* method is called.\n",
    "\n",
    "For take into account these cases the operator  $\\mathbf{U}_f$ (step 3 of the procedure) wil encode $\\sqrt{|f(x_i)|}$ instead of $\\sqrt{f(x_i)}$. \n",
    "\n",
    "Here we developed an explicit example:"
   ]
  },
  {
   "cell_type": "code",
   "execution_count": null,
   "id": "e60b2641",
   "metadata": {},
   "outputs": [],
   "source": [
    "a = np.pi-np.pi/2.0\n",
    "b = np.pi+np.pi/4.0\n",
    "#number of qbits\n",
    "n = 6\n",
    "#Our domain\n",
    "domain_x = np.linspace(a, b, 2**n)\n",
    "#Our discretized probability distribution\n",
    "p_x = domain_x\n",
    "#Our discretized function\n",
    "f_x = np.sin(domain_x)\n",
    "plt.plot(domain_x, f_x, 'o')\n",
    "plt.xlabel('x')\n",
    "plt.ylabel('y')\n",
    "plt.legend(['p(x)', 'f(x)'])\n",
    "\n",
    "\n",
    "#Normalisations!!!\n",
    "p_x_normalisation = np.sum(p_x) + 1e-8\n",
    "norm_p_x = p_x / p_x_normalisation\n",
    "print(\"Probability properly normalised?: {}\".format(np.sum(norm_p_x) <= 1.0))\n",
    "f_x_normalisation = np.max(f_x) +  1e-8\n",
    "norm_f_x = f_x / f_x_normalisation\n",
    "print(\"Function properly normalised?: {}\".format(np.max(norm_f_x) <= 1.0))"
   ]
  },
  {
   "cell_type": "code",
   "execution_count": null,
   "id": "823b1dfb",
   "metadata": {},
   "outputs": [],
   "source": [
    "#Raise a Warning because some elements of the function array are negative\n",
    "class_encoding0 = Encoding(array_function=norm_f_x, array_probability=norm_p_x, encoding=0)\n",
    "class_encoding0.oracle_encoding_0()"
   ]
  },
  {
   "cell_type": "code",
   "execution_count": null,
   "id": "6bd79b35",
   "metadata": {},
   "outputs": [],
   "source": [
    "encoding0_results,_,_,_ = get_results(class_encoding0.oracle, linalg_qpu=linalg_qpu, qubits=[class_encoding0.oracle.arity-1])"
   ]
  },
  {
   "cell_type": "code",
   "execution_count": null,
   "id": "be4522ca",
   "metadata": {},
   "outputs": [],
   "source": [
    "encoding0_results"
   ]
  },
  {
   "cell_type": "code",
   "execution_count": null,
   "id": "67de4888",
   "metadata": {},
   "outputs": [],
   "source": [
    "#Using equation (7) we compute the desired integral and this will FAIL\n",
    "print(\"Encoding normalisation: {}\".format(class_encoding0.encoding_normalization))\n",
    "np.isclose(\n",
    "    encoding0_results['Probability'].iloc[0] * class_encoding0.encoding_normalization *  p_x_normalisation * f_x_normalisation,\n",
    "    np.sum(p_x*f_x)\n",
    ")"
   ]
  },
  {
   "cell_type": "code",
   "execution_count": null,
   "id": "edd624bd",
   "metadata": {},
   "outputs": [],
   "source": [
    "#This is because with the procedure 0 we encoded the sum of the absolute values:\n",
    "\n",
    "np.isclose(\n",
    "    encoding0_results['Probability'].iloc[0] * class_encoding0.encoding_normalization *  p_x_normalisation * f_x_normalisation,\n",
    "    np.sum(np.abs(p_x*f_x)) # BE AWARE NOW WE USE ABSOLUTE VALUES\n",
    ")"
   ]
  },
  {
   "cell_type": "markdown",
   "id": "95a4537d",
   "metadata": {},
   "source": [
    "### 2.2 Encoding Procedure 1.\n",
    "\n",
    "As explained at the end of the before section when the function $f(x)$ is not strictly positive defined the codified value it is not the desired one. \n",
    "\n",
    "A second encoding procedure was developed to solve this issue:\n",
    "\n",
    "1. Initialize a $n+2$ qubits state.\n",
    "$$|0\\rangle \\otimes |0\\rangle \\otimes|0\\rangle_{n}$$\n",
    "\n",
    "2. Apply the uniform distribution over the $n$ qubits state:\n",
    "\n",
    "$$\\big(I \\otimes I \\otimes H^{\\otimes n}\\big)\\big(|0\\rangle \\otimes |0\\rangle \\otimes|0\\rangle_{n}\\big) = |0\\rangle \\otimes |0\\rangle \\otimes H^{\\otimes n}|0\\rangle_{n}=\n",
    "\\frac{1}{\\sqrt{2^n}} \\sum_{i=0}^{2^{n}-1}|0\\rangle \\otimes |0\\rangle \\otimes|i\\rangle_{n}\\tag{8}$$\n",
    "\n",
    "3. Create the two operators $\\mathbf{U}_p$ and $\\mathbf{U}_f$ for encoding $p(x)$ and $f(x)$, respectively. These operators will be created using the *load_array* function from the **QQuantLib.DL.data_loading** module. These operators act in the following way:\n",
    "\n",
    "$$\\mathbf{U}_p|i\\rangle_n \\otimes |0\\rangle = |i\\rangle_n \\otimes \\left(p(x_i)|0\\rangle + (1-p(x_i))|1\\rangle \\right) \\tag{9}$$\n",
    "$$\\mathbf{U}_f|i\\rangle_n \\otimes |0\\rangle = |i\\rangle_n \\otimes \\left(f(x_i)|0\\rangle + (1-f(x_i))|1\\rangle \\right) \\tag{10}$$\n",
    "\n",
    "4. Apply the operator $\\mathbf{U}_p$  on one of the additional qubits and in the other $n$ registers on the equation $(8)$:\n",
    "\n",
    "\n",
    "$$ \\left( I \\otimes \\mathbf{U}_p \\right)  \\big(I \\otimes I \\otimes H^{\\otimes n}\\big)\\big(|0\\rangle \\otimes |0\\rangle \\otimes|0\\rangle_{n}\\big) = \\left( I \\otimes \\mathbf{U}_p \\right) \\frac{1}{\\sqrt{2^n}} \\sum_{i=0}^{2^{n}-1}|0\\rangle \\otimes |0\\rangle \\otimes|i\\rangle_{n}= \\frac{1}{\\sqrt{2^n}} \\sum_{i=0}^{2^{n}-1}|0\\rangle \\otimes \\mathbf{U}_p \\left(|0\\rangle \\otimes|i\\rangle_{n}\\right) \\tag{11}$$\n",
    "\n",
    "5. Applying $(9)$ in $(11)$:\n",
    "\n",
    "\n",
    "$$ \\left( I \\otimes \\mathbf{U}_p \\right)  \\big(I \\otimes I \\otimes H^{\\otimes n}\\big)\\big(|0\\rangle \\otimes |0\\rangle \\otimes|0\\rangle_{n}\\big) = \\frac{1}{\\sqrt{2^n}} \\sum_{i=0}^{2^{n}-1}|0\\rangle  \\otimes \\big(p(x_i)|0\\rangle + (1-p(x_i))|1\\rangle \\big) \\otimes |i\\rangle_n \\tag{12}$$\n",
    "\n",
    "6. Apply the operator $\\mathbf{U}_f$ to the other additional qubit and in the other $n$ registers on the equation $(12)$:\n",
    "\n",
    "$$ \\left(\\mathbf{U}_f \\otimes I  \\right) \\left( I \\otimes \\mathbf{U}_p \\right)  \\big(I \\otimes I \\otimes H^{\\otimes n}\\big)\\big(|0\\rangle \\otimes |0\\rangle \\otimes|0\\rangle_{n}\\big) = \\frac{1}{\\sqrt{2^n}} \\sum_{i=0}^{2^{n}-1} \\mathbf{U}_f \\big(|0\\rangle \\otimes |i\\rangle_n \\big) \\otimes \\big(p(x_i)|0\\rangle + (1-p(x_i))|1\\rangle \\big) \\tag{13}$$\n",
    "\n",
    "7. Using $(10)$ in $(13)$:\n",
    "\n",
    "$$ \\frac{1}{\\sqrt{2^n}} \\sum_{i=0}^{2^{n}-1} |i\\rangle_n \\otimes \\big(f(x_i)|0\\rangle + (1-f(x_i))|1\\rangle \\big) \\otimes \\big(p(x_i)|0\\rangle + (1-p(x_i))|1\\rangle \\big) \\tag{14}$$\n",
    "\n",
    "8. Reordering $(14)$\n",
    "\n",
    "$$ \\frac{1}{\\sqrt{2^n}} \\sum_{i=0}^{2^{n}-1} p(x_i)f(x_i) |i\\rangle_n \\otimes |0\\rangle \\otimes |0\\rangle + \\big( ... |i\\rangle_n \\otimes |0\\rangle \\otimes |1\\rangle \\big) +  \\big( ... |i\\rangle_n \\otimes |1\\rangle \\otimes |0\\rangle \\big) + \\big( ... |i\\rangle_n \\otimes |1\\rangle \\otimes |1\\rangle \\big)$$\n",
    "\n",
    "9. The terms with $|i\\rangle_n \\otimes |0\\rangle \\otimes |1\\rangle$, $|i\\rangle_n \\otimes |1\\rangle \\otimes |0\\rangle$ and $|i\\rangle_n \\otimes |1\\rangle \\otimes |1\\rangle$ are not interested for us so we can omit them into the above expresion so we arrive to $(15)$:\n",
    "\n",
    "$$ \\left(\\mathbf{U}_f \\otimes I  \\right) \\left( I \\otimes \\mathbf{U}_p \\right)  \\big(I \\otimes I \\otimes H^{\\otimes n}\\big)\\big(|0\\rangle \\otimes |0\\rangle \\otimes|0\\rangle_{n}\\big) = \\frac{1}{\\sqrt{2^n}} \\sum_{i=0}^{2^{n}-1} p(x_i)f(x_i) |i\\rangle_n \\otimes |0\\rangle \\otimes |0\\rangle \\; + \\; ... \\tag{15}$$\n",
    "\n",
    "10. Finally the uniform distribution is applied again to the $n$ first qubits (so applying uniform distribution to $(15)$):\n",
    "\n",
    "$$|\\Psi\\rangle =  \\big(I \\otimes I \\otimes H^{\\otimes n}\\big) \\left(\\mathbf{U}_f \\otimes I  \\right) \\left( I \\otimes \\mathbf{U}_p \\right)  \\big(I \\otimes I \\otimes H^{\\otimes n}\\big)\\big(|0\\rangle \\otimes |0\\rangle \\otimes|0\\rangle_{n}\\big) = \n",
    "\\frac{1}{\\sqrt{2^n}} \\sum_{i=0}^{2^{n}-1} p(x_i)f(x_i) |0\\rangle \\otimes |0\\rangle \\otimes H^{\\otimes n} |i\\rangle_n \\; + \\; ...  \\tag{16}$$\n",
    "\n",
    "11 . The uniform distribution acting over any $|i\\rangle_n$ state can be expressed as:\n",
    "\n",
    "$$H^{\\otimes n}|i\\rangle_{n} = \\frac{1}{\\sqrt{2^n}}\\sum_{j=0}^{2^{n}-1} (-1)^{ij}|j\\rangle_n=\\frac{1}{\\sqrt{2^n}}[|0\\rangle_n + \\sum_{j=1}^{2^{n}-1} (-1)^{ij}|j\\rangle_n] \\tag{17}$$ \n",
    "\n",
    "12. Finally applying $(17)$ to $(16)$ we arrive at the final stage of the procedure (now we are interested only in the state $|0\\rangle \\otimes |0\\rangle \\otimes |0\\rangle_n $):\n",
    "\n",
    "\n",
    "$$|\\Psi\\rangle =  \\big(I \\otimes I \\otimes H^{\\otimes n}\\big) \\left(\\mathbf{U}_f \\otimes I  \\right) \\left( I \\otimes \\mathbf{U}_p \\right)  \\big(I \\otimes I \\otimes H^{\\otimes n}\\big)\\big(|0\\rangle \\otimes |0\\rangle \\otimes|0\\rangle_{n}\\big) = \\frac{1}{2^n} \\sum_{i=0}^{2^{n}-1} p(x_i)f(x_i) |0\\rangle \\otimes |0\\rangle \\otimes |0\\rangle_n \\; + \\; ... \\tag{18}$$\n",
    "\n",
    "13. The desired Riemman sum is then codified into the amplitude of the state: $|0\\rangle \\otimes |0\\rangle \\otimes |0\\rangle_n$\n",
    "\n",
    "$$\\mathbf{P}_{|0\\rangle_n|0\\rangle|0\\rangle} = \\left| \\; \\langle 0 0 0_n |\\Psi\\rangle \\; \\right|^2 \\tag{19}$$\n",
    "\n",
    "Where: \n",
    "$$\\langle 0 0 0_n | = \\big( |0\\rangle \\otimes |0\\rangle \\otimes |0\\rangle_n\\big)\\dagger $$\n",
    "\n",
    "14. So using $(18$) into $(19)$:\n",
    "\n",
    "$$\\mathbf{P}_{|0\\rangle_n|0\\rangle|0\\rangle} = \\left| \\; \\langle 0 0 0_n |\\frac{1}{2^n} \\sum_{i=0}^{2^{n}-1} p(x_i)f(x_i) |0\\rangle \\otimes |0\\rangle \\otimes |0\\rangle_n \\right|^2 = \\left| \\frac{1}{2^n} \\sum_{i=0}^{2^{n}-1} p(x_i)f(x_i) \\right|^2 \\tag{20}$$\n",
    "\n",
    "15. With this encoding procedure the desired integral will be then:\n",
    "\n",
    "$$\\sum_{i=0}^{2^{n}-1} p(x_i)f(x_i) = {2^n} \\sqrt{\\mathbf{P}_{|0\\rangle_n|0\\rangle|0\\rangle}} \\tag{21}$$\n",
    "\n",
    "For selecting this encoding procedure in the **Encode** class the *encoding* attribute of the class must be set to **1**. For getting the oracle corresponding to the encode the *oracle_encoding_1* method should be used.\n",
    "\n",
    "**BE AWARE In this case the *encoding_normalization* attribute will be: $2^n$**\n",
    "\n",
    "**BE AWARE** In this encoding the *array_probability* **CAN NOT BE NONE**. An error will be raised when the *oracle_encoding_1* method is used and *array_probability* is not provided!!"
   ]
  },
  {
   "cell_type": "code",
   "execution_count": null,
   "id": "7033ebd4",
   "metadata": {},
   "outputs": [],
   "source": [
    "#Encoding type 1\n",
    "class_encoding1 = Encoding(array_function=norm_f_x, array_probability=norm_p_x, encoding=1)"
   ]
  },
  {
   "cell_type": "code",
   "execution_count": null,
   "id": "e18c87d1",
   "metadata": {},
   "outputs": [],
   "source": [
    "#execute the correspondient encoding method\n",
    "class_encoding1.oracle_encoding_1()"
   ]
  },
  {
   "cell_type": "code",
   "execution_count": null,
   "id": "22a73b97",
   "metadata": {},
   "outputs": [],
   "source": [
    "#The desired oracle is stored in the oracle property of the class\n",
    "c = class_encoding1.oracle\n",
    "%qatdisplay c --depth 0 --svg\n",
    "#Additionally we can get the U_p operator\n",
    "c = class_encoding1.p_gate\n",
    "%qatdisplay c --depth 0 --svg\n",
    "#And we can get the U_f operator\n",
    "c = class_encoding1.function_gate\n",
    "%qatdisplay c --depth 0 --svg"
   ]
  },
  {
   "cell_type": "markdown",
   "id": "ce8844b4",
   "metadata": {},
   "source": [
    "In order to see that all works properly we can compute the probability of getting the state $|0\\rangle \\otimes |0\\rangle \\otimes |0\\rangle_n$. This can be done using the *get_results* from **QQuantLib.utils.data_extracting** module."
   ]
  },
  {
   "cell_type": "code",
   "execution_count": null,
   "id": "6852701d",
   "metadata": {},
   "outputs": [],
   "source": [
    "encoding1_results,_,_,_ = get_results(class_encoding1.oracle, linalg_qpu=linalg_qpu)"
   ]
  },
  {
   "cell_type": "code",
   "execution_count": null,
   "id": "57c2b575",
   "metadata": {
    "scrolled": true
   },
   "outputs": [],
   "source": [
    "encoding1_results"
   ]
  },
  {
   "cell_type": "code",
   "execution_count": null,
   "id": "cdc378d6",
   "metadata": {
    "scrolled": true
   },
   "outputs": [],
   "source": [
    "#The solution should be equal to the scalar product of the loaded probability and function (this is the normalised ones)\n",
    "print(\"Encoding normalisation: {}\".format(class_encoding1.encoding_normalization))\n",
    "measure_0 = encoding1_results['Probability'].iloc[0]\n",
    "np.isclose(\n",
    "    np.sqrt(measure_0) * class_encoding1.encoding_normalization, \n",
    "    np.sum(norm_p_x*norm_f_x)\n",
    ")"
   ]
  },
  {
   "cell_type": "code",
   "execution_count": null,
   "id": "96bcb04d",
   "metadata": {
    "scrolled": true
   },
   "outputs": [],
   "source": [
    "#Additionally undoing the normalisation constants we get the desired Riemann sum!!\n",
    "np.isclose(\n",
    "    np.sqrt(measure_0) * class_encoding1.encoding_normalization *  p_x_normalisation * f_x_normalisation, \n",
    "    np.sum(p_x*f_x)\n",
    ")"
   ]
  },
  {
   "cell_type": "code",
   "execution_count": null,
   "id": "a9fc6c30",
   "metadata": {},
   "outputs": [],
   "source": [
    "#If array_probability is not provide and encoding 1 is used an error is raised\n",
    "\n",
    "#Encoding type 1\n",
    "class_encoding1 = Encoding(array_function=norm_f_x, encoding=1)\n",
    "#Error will be raised\n",
    "class_encoding1.oracle_encoding_1()"
   ]
  },
  {
   "cell_type": "markdown",
   "id": "636ec684",
   "metadata": {},
   "source": [
    "### 2.3 Encoding Procedure 2 (a.k.a direct encoding)\n",
    "\n",
    "The main problem of the encoding 1 procedure is that 2 additional qubits are needed. A third procedure with only $n+1$ qubits and that properly computes the desired sum is provided now:\n",
    "\n",
    "1. Initialize $n+1$ qubits:\n",
    "\n",
    "$$|0\\rangle\\otimes|0\\rangle_n$$\n",
    "\n",
    "2. Create a $\\mathbf{U}_p$ operator for loading $p(x_i)$ array (this will be created using the *load_probability* function from **QQuantLib.DL.data_loading** module). This operator will be applied over the first $n$ qubits in the following way:\n",
    "\n",
    "$$\\left(I\\otimes \\mathbf{U}_p \\right)|0\\rangle\\otimes|0\\rangle_{n} = |0\\rangle\\otimes \\sum_{i=0}^{2^{n}-1}\\sqrt{p(x_i)}|i\\rangle_{n} \\tag{22}$$\n",
    "\n",
    "3. Create a $\\mathbf{U}_f$ operator for loading $f(x_i)$ array (this will be created using the *load_array* function from **QQuantLib.DL.data_loading** module). This operator will act in the following way:\n",
    "\n",
    "$$\\mathbf{U}_f|i\\rangle_n \\otimes |0\\rangle = |i\\rangle_n \\otimes \\big(f(x_i)|0\\rangle +  \\left( 1-f(x_i) \\right)|1\\rangle \\big) \\tag{23}$$\n",
    "\n",
    "4. Apply the $\\mathbf{U}_f$ operator over $n+1$ qubits:\n",
    "\n",
    "$$\\mathbf{U}_f\\left(I\\otimes \\mathbf{U}_p \\right)|0\\rangle\\otimes|0\\rangle_{n}\\tag{24}$$\n",
    "\n",
    "5. Applying equation $(22)$ on $(24)$:\n",
    "$$\\mathbf{U}_f\\left(I\\otimes \\mathbf{U}_p \\right)|0\\rangle\\otimes|0\\rangle_{n} = \\mathbf{U}_f \\left(|0\\rangle\\otimes \\sum_{i=0}^{2^{n}-1}\\sqrt{p(x_i)}|i\\rangle_{n}\\right) = \\sum_{i=0}^{2^{n}-1}\\sqrt{p(x_i)} \\mathbf{U}_f \\big(|0\\rangle\\otimes|i\\rangle_{n}\\big) \\tag{25}$$\n",
    "\n",
    "6. Applying equation $(23)$ on $(25)$:\n",
    "\n",
    "$$\\mathbf{U}_f\\left(I\\otimes \\mathbf{U}_p \\right)|0\\rangle\\otimes|0\\rangle_{n} = \\sum_{i=0}^{2^{n}-1}|i\\rangle_{n}\\otimes\\left(\\sqrt{p(x_i)}f(x_i)|0\\rangle + \\sqrt{p(x_i)}(1-f(x_i))|1\\rangle \\right) \\tag{26}$$\n",
    "\n",
    "7. Finally the transpose of the $\\mathbf{U}_p$ operator will be applied over the first $n$ qubits:\n",
    "\n",
    "$$|\\Psi \\rangle = \\left(I\\otimes \\mathbf{U}_p \\dagger \\right) \\mathbf{U}_f \\left(I\\otimes \\mathbf{U}_p \\right) |0\\rangle\\otimes|0\\rangle_{n} \\tag{27}$$\n",
    "\n",
    "8. Using $(26)$ into $(27)$:\n",
    "\n",
    "$$|\\Psi \\rangle = \\left(I\\otimes \\mathbf{U}_p \\dagger \\right) \\sum_{i=0}^{2^{n}-1}|i\\rangle_{n}\\otimes\\left(\\sqrt{p(x_i)}f(x_i)|0\\rangle + \\sqrt{p(x_i)}(1-f(x_i))|1\\rangle \\right)$$\n",
    "$$|\\Psi \\rangle = \\sum_{i=0}^{2^{n}-1} \\sqrt{p(x_i)}f(x_i) \\left( I\\otimes \\mathbf{U}_p \\dagger \\right) \\big( |0\\rangle \\otimes |i\\rangle_{n} \\big) + \\sum_{i=0}^{2^{n}-1} \\sqrt{p(x_i)}(1-f(x_i)) \\left( I\\otimes \\mathbf{U}_p \\dagger \\right) \\big( |1\\rangle \\otimes |i\\rangle_{n} \\big)$$\n",
    "\n",
    "9. We are interested only in $|0\\rangle \\otimes |i\\rangle_{n}$ so we don't need to take into account other terms, so the above equation can be expressed as:\n",
    "\n",
    "$$|\\Psi \\rangle = \\left(I\\otimes \\mathbf{U}_p \\dagger \\right) \\mathbf{U}_f \\left(I\\otimes \\mathbf{U}_p \\right) |0\\rangle\\otimes|0\\rangle_{n} = \\sum_{i=0}^{2^{n}-1} \\sqrt{p(x_i)}f(x_i) \\left( I\\otimes \\mathbf{U}_p \\dagger \\right) \\big( |0\\rangle \\otimes |i\\rangle_{n} \\big) \\; + \\; ... = \\sum_{i=0}^{2^{n}-1} \\sqrt{p(x_i)}f(x_i) |0\\rangle \\otimes \\mathbf{U}_p \\dagger |i\\rangle_{n} \\; + \\; ... \\tag{28}$$\n",
    "\n",
    "10. It can be proved that (see **/misc/botebooks/other_staff/04_Encoding02_Demo.ipynb**)\n",
    "\n",
    "$$\\mathbf{U}_p \\dagger |i\\rangle_{n} = \\sqrt{p(x_i)} |0\\rangle_{n} + \\sum_{j=1}^{2^n-1} u_{ij}|j\\rangle_{n} \\tag{29}$$\n",
    "\n",
    "where $u_{ij}$ are coeficients from the $\\mathbf{U}_p$ operator when $j\\gt 1$ (we are not interested in them!!)\n",
    "\n",
    "11. So plugin $(29)$ into $(28)$:\n",
    "\n",
    "\n",
    "$$|\\Psi \\rangle = \\sum_{i=0}^{2^{n}-1} \\sqrt{p(x_i)}f(x_i) \\sqrt{p(x_i)} |0\\rangle \\otimes |0\\rangle_{n} + \\sum_{j=1}^{2^n-1} \\sqrt{p(x_i)}f(x_i) u_{ij}|0\\rangle \\otimes |j\\rangle_{n} \\; + \\; ...$$\n",
    "\n",
    "12. We are only interested in the $|0\\rangle \\otimes |0\\rangle_{n}$ so the other terms will be not taking into account. So our final procedure will be:\n",
    "\n",
    "\n",
    "$$|\\Psi \\rangle = \\left(I\\otimes \\mathbf{U}_p \\dagger \\right) \\mathbf{U}_f \\left(I\\otimes \\mathbf{U}_p \\right) |0\\rangle\\otimes|0\\rangle_{n} = \\sum_{i=0}^{2^{n}-1} p(x_i) f(x_i) |0\\rangle \\otimes |0\\rangle_{n} \\; + \\; ... \\tag{30}$$\n",
    "\n",
    "13. The desired Riemann sum is then codified into the amplitude of the state: $|0\\rangle \\otimes |0\\rangle_n$\n",
    "\n",
    "$$\\mathbf{P}_{|0\\rangle_n|0\\rangle} = \\left| \\; \\langle 0 0_n |\\Psi\\rangle \\; \\right|^2 \\tag{31}$$\n",
    "\n",
    "Where: \n",
    "$$\\langle 0 0_n | = \\big( |0\\rangle \\otimes |0\\rangle_n\\big)\\dagger $$\n",
    "\n",
    "14. So using $(30$) into $(31)$:\n",
    "\n",
    "$$\\mathbf{P}_{|0\\rangle_n|0\\rangle} = \\left| \\; \\langle 0 0_n |\\sum_{i=0}^{2^{n}-1} p(x_i)f(x_i) |0\\rangle \\otimes |0\\rangle_n \\right|^2 =  \\left|  \\sum_{i=0}^{2^{n}-1} p(x_i)f(x_i) \\right|^2 \\tag{32}$$\n",
    "\n",
    "15. With this encoding procedure the desired integral will be then:\n",
    "\n",
    "$$\\sum_{i=0}^{2^{n}-1} p(x_i)f(x_i) = \\sqrt{\\mathbf{P}_{|0\\rangle_n|0\\rangle}} \\tag{33}$$\n",
    "\n",
    "For selecting this encoding procedure in the **Encode** class the *encoding* attribute of the class must be set to **2**. For getting the oracle corresponding to the encode the *oracle_encoding_2* method should be used.\n",
    "\n",
    "**BE AWARE In this case the *encoding_normalization* attribute will be: 1.0**"
   ]
  },
  {
   "cell_type": "code",
   "execution_count": null,
   "id": "3b88c0e3",
   "metadata": {},
   "outputs": [],
   "source": [
    "#Encoding type 2\n",
    "class_encoding2 = Encoding(array_function=norm_f_x, array_probability=norm_p_x, encoding=2)"
   ]
  },
  {
   "cell_type": "code",
   "execution_count": null,
   "id": "4f6c021c",
   "metadata": {},
   "outputs": [],
   "source": [
    "#execute the correspondent encoding method\n",
    "class_encoding2.oracle_encoding_2()"
   ]
  },
  {
   "cell_type": "code",
   "execution_count": null,
   "id": "1e329c79",
   "metadata": {},
   "outputs": [],
   "source": [
    "#The desired oracle is stored in the oracle property of the class\n",
    "c = class_encoding2.oracle\n",
    "%qatdisplay c --depth 0 --svg\n",
    "#Additionally we can get the U_p operator\n",
    "c = class_encoding2.p_gate\n",
    "%qatdisplay c --depth 0 --svg\n",
    "#And we can get the U_f operator\n",
    "c = class_encoding2.function_gate\n",
    "%qatdisplay c --depth 0 --svg"
   ]
  },
  {
   "cell_type": "code",
   "execution_count": null,
   "id": "b0de7031",
   "metadata": {},
   "outputs": [],
   "source": [
    "encoding2_results,_,_,_ = get_results(class_encoding2.oracle, linalg_qpu=linalg_qpu)"
   ]
  },
  {
   "cell_type": "code",
   "execution_count": null,
   "id": "67aa6b06",
   "metadata": {},
   "outputs": [],
   "source": [
    "#The solution should be equal to the scalar product of the loaded probability and function (this is the normalised ones)\n",
    "measure_0_enc2 = encoding2_results['Probability'].iloc[0]\n",
    "print(\"Encoding normalisation: {}\".format(class_encoding2.encoding_normalization))\n",
    "np.isclose(\n",
    "    np.sqrt(measure_0_enc2) * class_encoding2.encoding_normalization,\n",
    "    np.sum(norm_p_x*norm_f_x)\n",
    ")"
   ]
  },
  {
   "cell_type": "code",
   "execution_count": null,
   "id": "a9cbc014",
   "metadata": {},
   "outputs": [],
   "source": [
    "#Additionally undoing the normalisation constants we get the desired Riemann sum!!\n",
    "np.isclose(\n",
    "    np.sqrt(measure_0_enc2) * class_encoding2.encoding_normalization *  p_x_normalisation * f_x_normalisation, \n",
    "    np.sum(p_x*f_x)\n",
    ")"
   ]
  },
  {
   "cell_type": "markdown",
   "id": "aa09f409",
   "metadata": {},
   "source": [
    "### Uniform distributions for probability\n",
    "\n",
    "If not *array_probability* is provided to the class a uniform distribution (based on the provided *array_function*) is used. In this case, Hadamard gates will be applied to the first $n$ qubits. In this case equation $(30)$ we change $\\mathbf{U}_p$ by $H^{\\otimes n}$:\n",
    "\n",
    "$$|\\Psi \\rangle = \\left(I\\otimes H^{\\otimes n} \\right) \\mathbf{U}_f \\left(I\\otimes H^{\\otimes n} \\right) |0\\rangle\\otimes|0\\rangle_{n} = \\frac{1}{2^n} \\sum_{i=0}^{2^{n}-1} f(x_i) |0\\rangle \\otimes |0\\rangle_{n} \\; + \\; ... \\tag{30.2}$$\n",
    "\n",
    "And equation $(32)$ can be written as:\n",
    "\n",
    "$$\\mathbf{P}_{|0\\rangle_n|0\\rangle} = \\left|  \\frac{1}{2^n} \\sum_{i=0}^{2^{n}-1} f(x_i) \\right|^2 \\tag{32.2}$$\n",
    "\n",
    "With the uniform probability distribution we can compute the Riemann sum of a function $f(x)$ (so we can compute their integral!!):\n",
    "\n",
    "$$\\sum_{i=0}^{2^{n}-1} f(x_i) = 2^n \\sqrt{\\mathbf{P}_{|0\\rangle_n|0\\rangle}}$$\n",
    "\n",
    "**BE AWARE In this case the *encoding_normalization* attribute will be: $2^n$**"
   ]
  },
  {
   "cell_type": "code",
   "execution_count": null,
   "id": "5f0dfc46",
   "metadata": {},
   "outputs": [],
   "source": [
    "#Encoding type 2. Uniform distribution\n",
    "class_encoding2 = Encoding(array_function=norm_f_x, encoding=2)\n",
    "#execute the correspondent encoding method\n",
    "class_encoding2.oracle_encoding_2()\n",
    "#The desired oracle is stored in the oracle property of the class\n",
    "c = class_encoding2.oracle\n",
    "%qatdisplay c --depth 0 --svg\n",
    "#Additionally we can get the U_p operator\n",
    "c = class_encoding2.p_gate\n",
    "%qatdisplay c --depth 1 --svg\n",
    "#And we can get the U_f operator\n",
    "c = class_encoding2.function_gate\n",
    "%qatdisplay c --depth  --svg"
   ]
  },
  {
   "cell_type": "code",
   "execution_count": null,
   "id": "6e9627be",
   "metadata": {},
   "outputs": [],
   "source": [
    "encoding2_results,_,_,_ = get_results(class_encoding2.oracle, linalg_qpu=linalg_qpu)"
   ]
  },
  {
   "cell_type": "code",
   "execution_count": null,
   "id": "4a550cfd",
   "metadata": {},
   "outputs": [],
   "source": [
    "#Now using (30.2) we can compute the sum of the terms of the normalised function array\n",
    "measure_0_enc2 = encoding2_results['Probability'].iloc[0]\n",
    "print(\"Encoding normalisation: {}\".format(class_encoding2.encoding_normalization))\n",
    "np.isclose(\n",
    "    np.sqrt(measure_0_enc2) * class_encoding2.encoding_normalization ,\n",
    "    np.sum(norm_f_x) #Only the normalised function is needed\n",
    ")"
   ]
  },
  {
   "cell_type": "code",
   "execution_count": null,
   "id": "b66673fe",
   "metadata": {},
   "outputs": [],
   "source": [
    "#Additionally undoing the normalisation constant we get the desired Riemann sum!!\n",
    "np.isclose(\n",
    "    np.sqrt(measure_0_enc2) * class_encoding2.encoding_normalization * f_x_normalisation, \n",
    "    np.sum(f_x)\n",
    ")"
   ]
  }
 ],
 "metadata": {
  "kernelspec": {
   "display_name": "myqlm_tes",
   "language": "python",
   "name": "myqlm_tes"
  },
  "language_info": {
   "codemirror_mode": {
    "name": "ipython",
    "version": 3
   },
   "file_extension": ".py",
   "mimetype": "text/x-python",
   "name": "python",
   "nbconvert_exporter": "python",
   "pygments_lexer": "ipython3",
   "version": "3.10.14"
  }
 },
 "nbformat": 4,
 "nbformat_minor": 5
}
