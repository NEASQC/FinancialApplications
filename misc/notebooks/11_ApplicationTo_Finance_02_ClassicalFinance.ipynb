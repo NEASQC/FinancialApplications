{
 "cells": [
  {
   "cell_type": "markdown",
   "id": "b125e486",
   "metadata": {},
   "source": [
    "# Application of Amplitude Estimation to Finance: Classical Finance\n",
    "\n",
    "In this notebook, we will explore various concepts related to the estimation of *fair* option prices. Additionally, the following modules will be reviewed:\n",
    "\n",
    "- **classical_finance**: This module implements several functions for computing payoffs for different financial derivatives and probability distributions.\n",
    "- **probability_class**: This module includes the implementation of the **DensityProbability** Python class, which allows for the creation of probability distributions required for pricing derivative options.\n",
    "- **payoff_class**: This module implements the **PayOff** Python class, which computes the payoff for various types of derivative options.\n",
    "\n",
    "All these modules are part of the *finance* package within *QQuantLib* (**QQuantLib/finance**)."
   ]
  },
  {
   "cell_type": "code",
   "execution_count": null,
   "id": "83bba602",
   "metadata": {},
   "outputs": [],
   "source": [
    "import sys\n",
    "sys.path.append(\"../../\")"
   ]
  },
  {
   "cell_type": "code",
   "execution_count": null,
   "id": "db0cdcb4",
   "metadata": {},
   "outputs": [],
   "source": [
    "import numpy as np\n",
    "import pandas as pd\n",
    "import matplotlib.pyplot as plt"
   ]
  },
  {
   "cell_type": "code",
   "execution_count": null,
   "id": "eb15bf8e",
   "metadata": {},
   "outputs": [],
   "source": [
    "%matplotlib inline"
   ]
  },
  {
   "cell_type": "markdown",
   "id": "d5032d7d",
   "metadata": {},
   "source": [
    "## 1. The Problem\n",
    "\n",
    "We have a **financial asset** whose value at time $ t $ is $ S(t) $. The **volatility** of the asset is $ \\sigma $, and the **risk-free rate** is $ r $. Under these assumptions, we will create a **derivative contract** based on the evolution of the underlying asset with a fixed duration, known as the **maturity**, $ T $. This product will be characterized by its **return**, which is a function dependent on the price of the underlying at $ T $: $ f = f(S_T) $, where $ S_T = S(t=T) $. \n",
    "\n",
    "The key question is: **What is the 'fair' price of our derivative contract at time $ t $ when the underlying is $ S(t) $: $ V_f(S(t), t) $?**\n",
    "\n",
    "Thus, we have:\n",
    "- $ S = S(t) $: Price of the underlying at $ t $.\n",
    "- $ \\sigma $: Volatility of the underlying.\n",
    "- **Risk-free rate**: $ r $.\n",
    "- Return of the financial product: $ f = f(S_T) $.\n",
    "\n",
    "And we aim to determine:\n",
    "- $ V_f(S(t), t) $: The fair price of the derivative contract."
   ]
  },
  {
   "cell_type": "markdown",
   "id": "9c5f384a",
   "metadata": {},
   "source": [
    "## 2. Black-Scholes Model\n",
    "\n",
    "One model for obtaining $ V_f(S(t), t) $ is the **Black-Scholes** model, which relies on the following assumptions:\n",
    "\n",
    "1. The underlying $ S(t) $ follows a log-normal random walk.\n",
    "2. The risk-free interest rate $ r $ is a known function of time $ t $.\n",
    "3. There are no dividends on the underlying $ S $.\n",
    "4. Dynamic **delta hedging** (a risk elimination strategy) is applied.\n",
    "5. No arbitrage opportunities exist.\n",
    "\n",
    "Under these conditions, the **Black-Scholes** model describes the evolution of the asset $ S $ using the following **Stochastic Differential Equation (SDE)**:\n",
    "$$\n",
    "dS = \\mu S dt + \\sigma S dW\n",
    "$$\n",
    "where $ dW $ represents a Wiener process:\n",
    "$$\n",
    "dW \\sim \\mathcal{N}(0, \\delta t), \\quad \\mathbf{E}[dW] = 0, \\quad \\mathbf{E}[dW^2] = dt.\n",
    "$$\n",
    "\n",
    "To establish a relationship between the underlying $ S $ and the price of the financial product $ V $, two approaches can be followed:\n",
    "\n",
    "1. **Black-Scholes Partial Differential Equation (PDE):**\n",
    "   $$\n",
    "   \\frac{\\partial V}{\\partial t} + \\frac{1}{2} \\sigma^2 S^2 \\frac{\\partial^2 V}{\\partial S^2} + r S \\frac{\\partial V}{\\partial S} - rV = 0\n",
    "   $$\n",
    "\n",
    "2. **Expectation Computation Approach** (based on the Girsanov theorem):\n",
    "   $$\n",
    "   V(t, S(t)) = e^{-r(T-t)} \\mathbb{E}[f(S_T \\mid \\mathcal{F}_t)]\n",
    "   $$\n",
    "   where $ \\mathcal{F}_t $ represents the market information available up to time $ t $."
   ]
  },
  {
   "cell_type": "markdown",
   "id": "e4b51a19",
   "metadata": {},
   "source": [
    "## 3. Price of Derivative Contract\n",
    "\n",
    "So far, we have:\n",
    "1. A financial asset with value $ S(t) $, volatility $ \\sigma $, and risk-free rate $ r $.\n",
    "2. A **derivative contract** based on the financial asset $ S $ with maturity $ T $ and a return function $ f = f(S(t), T) $.\n",
    "\n",
    "In the *expectation approach*, the desired *fair* price of the option is given by:\n",
    "$$\n",
    "V(t, S(t)) = e^{-r(T-t)} \\mathbb{E}[f(S_T \\mid \\mathcal{F}_t)]\n",
    "$$\n",
    "\n",
    "In general, to solve this problem, numerous **Monte Carlo** simulations of the evolution of the asset $ S $ between time $ t $ and the *maturity* $ T $ are performed under a specific financial model (such as **Black-Scholes** or **Heston**). The primary goal is to obtain the probability distribution of the asset at the maturity time:\n",
    "$$\n",
    "p(S_T; t, S(t))\n",
    "$$\n",
    "\n",
    "Once this function is obtained, it can be plugged into the expectation formula, yielding the standard method for calculating the *fair* price of options:\n",
    "$$\n",
    "V(t, S(t)) = e^{-r(T-t)} \\mathbb{E}[f(S_T \\mid \\mathcal{F}_t)] = \\int_0^\\infty p(S_T; t, S(t)) f(S_T) dS_T\n",
    "$$"
   ]
  },
  {
   "cell_type": "markdown",
   "id": "e5907bef",
   "metadata": {},
   "source": [
    "## 4. Black-Scholes Probability Distribution\n",
    "\n",
    "In the case of the pure **Black-Scholes** model, this probability distribution has an analytical form (the **Black-Scholes** probability distribution):\n",
    "\n",
    "$$\n",
    "P_{BS}(S_T; t, S(t)) = \\frac{1}{S_T \\sigma \\sqrt{2\\pi(T-t)}} \\exp\\left(-\\frac{(\\log S_T - \\mu)^2}{2\\sigma^2(T-t)}\\right)\n",
    "$$\n",
    "\n",
    "where\n",
    "\n",
    "$$\n",
    "\\mu = \\left(r - \\frac{1}{2}\\sigma^2\\right)(T-t) + \\log S(t)\n",
    "$$\n",
    "\n",
    "Thus, the price of the financial product at time $ t $ and $ S(t) $ is given by:\n",
    "\n",
    "$$\n",
    "V(t, S(t)) = e^{-r(T-t)} \\mathbb{E}_{P_{BS}}[f] = e^{-r(T-t)} \\int_0^\\infty P_{BS}(S_T; t, S(t)) f(S_T) dS_T\n",
    "$$\n",
    "\n",
    "The *return* of the financial product at the maturity time is the **Payoff** of the product: $ f(S_T) = \\text{Payoff}(S_T) $.\n",
    "\n",
    "This **Black-Scholes** probability density function is implemented in the `bs_probability` function from the `classical_finance` module (**QQuantLib/finance/classical_finance.py**)."
   ]
  },
  {
   "cell_type": "code",
   "execution_count": null,
   "id": "e58efd5e",
   "metadata": {},
   "outputs": [],
   "source": [
    "from QQuantLib.finance.classical_finance import bs_probability"
   ]
  },
  {
   "cell_type": "code",
   "execution_count": null,
   "id": "5ee57bdc",
   "metadata": {},
   "outputs": [],
   "source": [
    "#Parameters of out model\n",
    "S0 = 2\n",
    "r = 0.04\n",
    "sigma = 0.1\n",
    "#maturity time for the derivative contract\n",
    "T = 300/365 #300 days"
   ]
  },
  {
   "cell_type": "code",
   "execution_count": null,
   "id": "799ec883",
   "metadata": {},
   "outputs": [],
   "source": [
    "n_qbits = 5\n",
    "x = np.linspace(1,3,2**n_qbits)\n",
    "prob_bs = bs_probability(s_t=x, s_0=S0,risk_free_rate=r,volatility=sigma,maturity=T)"
   ]
  },
  {
   "cell_type": "code",
   "execution_count": null,
   "id": "5493043e",
   "metadata": {},
   "outputs": [],
   "source": [
    "#Black-Scholes Probability density\n",
    "plt.plot(x, prob_bs)\n",
    "plt.xlabel(r'$S_T$')\n",
    "plt.ylabel(r'$P(S_T, S_0)$')\n",
    "plt.title(r'Black-Scholes Probability density. r= {} $\\sigma$= {}. $S_0$= {}'.format(r, sigma, S0))"
   ]
  },
  {
   "cell_type": "markdown",
   "id": "122bcbcf",
   "metadata": {},
   "source": [
    "So in the before graph we plot the probability of the value of the underlying S at maturity time T, following the **Black Scholes** model when risk free rate is $r$ and volatility of S is $\\sigma$ and the initial value of the underlying is $S_0$.\n"
   ]
  },
  {
   "cell_type": "markdown",
   "id": "6640c71f",
   "metadata": {},
   "source": [
    "### 4.1 DensityProbability Class\n",
    "\n",
    "The `DensityProbability` class is a Python implementation designed to easily obtain the **Black-Scholes** probability distribution (with the intention of adding other financial probability distributions in the future). It is implemented in the *probability_class* module within the **finance** package.\n",
    "\n",
    "The only mandatory input for creating this class is:\n",
    "\n",
    "- `probability_type`: A string specifying the type of probability density to load (e.g., \"Black-Scholes\"). More probability distributions are expected to be added in the future.\n",
    "\n",
    "The parameters required for the probability density should be provided as a dictionary. These parameters must align with the definition of the desired probability density function. The most common parameters include:\n",
    "\n",
    "- `s_0`: Initial value of the asset ($ S(t) $).\n",
    "- `risk_free_rate`: The risk-free rate.\n",
    "- `volatility`: Volatility of the asset.\n",
    "- `maturity`: The time at which the probability distribution over the asset's value is desired.\n",
    "\n",
    "The main attribute of the class is `probability`, which represents the desired probability density function with the provided parameters fixed.\n",
    "\n",
    "In general, the primary use of this class is to define the behavior of an asset and obtain its probability distribution at a specified *maturity* time."
   ]
  },
  {
   "cell_type": "code",
   "execution_count": null,
   "id": "cd631e0c",
   "metadata": {},
   "outputs": [],
   "source": [
    "from QQuantLib.finance.probability_class import DensityProbability"
   ]
  },
  {
   "cell_type": "code",
   "execution_count": null,
   "id": "5902a916",
   "metadata": {},
   "outputs": [],
   "source": [
    "#Configuration  of a probability density\n",
    "probability_type = \"Black-Scholes\"\n",
    "\n",
    "density_dict = {\n",
    "    \"s_0\": 2.0,\n",
    "    \"risk_free_rate\": 0.05,\n",
    "    \"maturity\": 0.5,\n",
    "    \"volatility\": 0.5    \n",
    "}"
   ]
  },
  {
   "cell_type": "code",
   "execution_count": null,
   "id": "a2ef8f72",
   "metadata": {},
   "outputs": [],
   "source": [
    "bs_pdf = DensityProbability(probability_type, **density_dict)"
   ]
  },
  {
   "cell_type": "markdown",
   "id": "5af00445",
   "metadata": {},
   "source": [
    "As can be seen the *probability* property of the class is a function (in fact is a python partial function of the probability density desired)."
   ]
  },
  {
   "cell_type": "code",
   "execution_count": null,
   "id": "ee513f21",
   "metadata": {},
   "outputs": [],
   "source": [
    "type(bs_pdf.probability)"
   ]
  },
  {
   "cell_type": "code",
   "execution_count": null,
   "id": "568bb135",
   "metadata": {},
   "outputs": [],
   "source": [
    "x = np.linspace(0.1, 6.0, 2**9)\n",
    "plt.plot(x, bs_pdf.probability(x))"
   ]
  },
  {
   "cell_type": "code",
   "execution_count": null,
   "id": "bc51f374",
   "metadata": {},
   "outputs": [],
   "source": [
    "#Playing with Black-Scholes\n",
    "\n",
    "list_of_functions = []\n",
    "#Lista = [1.0, 2.0, 3.0] #for s_0\n",
    "#Lista = [0.2, 0.4, 0.6, 0.8, 1.0, 1.2] #for maturity\n",
    "#Lista = [0.01, 0.02, 0.03, 0.04, 0.05] #for risk_free_rate\n",
    "Lista = [0.05, 0.1, 0.15, 0.2, 0.25, 0.3, 0.35, 0.4, 0.45, 0.5] #for volatility\n",
    "\n",
    "for i in Lista:\n",
    "    step_dict = density_dict\n",
    "    #step_dict.update({\"s_0\": i})\n",
    "    #step_dict.update({\"maturity\": i})\n",
    "    step_dict.update({\"volatility\": i})\n",
    "    #step_dict.update({\"risk_free_rate\": i})\n",
    "    step_c = DensityProbability(probability_type, **step_dict) \n",
    "    list_of_functions.append(step_c.probability)\n",
    "x = np.linspace(0.1, 3.0, 100)\n",
    "for func in list_of_functions:\n",
    "    plt.plot(x, func(x))\n",
    "plt.legend(Lista)    "
   ]
  },
  {
   "cell_type": "markdown",
   "id": "e3ddbde2",
   "metadata": {},
   "source": [
    "## 5. Options\n",
    "\n",
    "As explained earlier, the price of a derivative financial product at time $ t $ and $ S(t) $ is given by:\n",
    "\n",
    "$$\n",
    "V(t, S(t)) = e^{-r(T-t)} \\mathbb{E}_{P_{BS}}[f] = e^{-r(T-t)} \\int_0^\\infty P_{BS}(S_T; t, S(t)) f(S_T) dS_T \\tag{1}\n",
    "$$\n",
    "\n",
    "One of the most popular types of derivative products is **options**, which allow the holder to buy (**call option**) or sell (**put option**) the underlying asset at maturity $ T $ for a specified price called the **strike** ($ K $). From a mathematical perspective, the most important aspect of an option is its return, which is typically a *non-linear* function of the underlying asset and the **strike**.\n",
    "\n",
    "In the *classical_finance* module, returns for several types of **options** have been implemented. For a clear and consistent management of different return options, a Python class called `PayOff` has been implemented in the *payoff_class* module of the *finance* package (**QQuantLib/finance/payoff_class.py**).\n",
    "\n",
    "To instantiate the class, an input Python dictionary should be provided. The main keys include:\n",
    "\n",
    "- `pay_off_type*`: This specifies the type of option desired. Currently, the following options are available:\n",
    "  - `European_Call_Option`\n",
    "  - `European_Put_Option`\n",
    "  - `Digital_Call_Option`\n",
    "  - `Digital_Put_Option`\n",
    "  - `Futures`\n",
    "\n",
    "- `strike`: The strike price of the derivative product.\n",
    "\n",
    "- `coupon`: This is relevant for *Digital_Call_Option* and *Digital_Put_Option*.\n",
    "\n",
    "The payoffs are obtained from the **QQuantLib/utils/classical_finance** module. Therefore, the keys of the input dictionary should match the keys required for configuring the payoffs in that module.\n",
    "\n",
    "The class creates the following two properties:\n",
    "\n",
    "- `pay_off`: A function representing the desired payoff with the appropriate configuration provided by the input dictionary.\n",
    "\n",
    "- `pay_off_bs`: Provides the exact price of the payoff under the **Black-Scholes** model (the parameter configuration for the **Black-Scholes** model must be included in the input dictionary!)."
   ]
  },
  {
   "cell_type": "code",
   "execution_count": null,
   "id": "bb599223",
   "metadata": {},
   "outputs": [],
   "source": [
    "from QQuantLib.finance.payoff_class import PayOff"
   ]
  },
  {
   "cell_type": "markdown",
   "id": "76cd2a66",
   "metadata": {},
   "source": [
    "### 5.1 European Call Option\n",
    "\n",
    "This derivative allows the holder to buy an underlying asset S at a maturity time $T$ at a fixed price $K$ (**strike**) independently of the value of $S_T$. The return of this option at a time $t$ is:\n",
    "\n",
    "$$f(t, K) = \\max(0, S(t)-K)$$\n",
    "\n",
    "And the final payoff (the return at the maturity time $T$) will be:\n",
    "\n",
    "$$Payoff(S_T, T, K)= \\max(0, S_T-K)=(S_T-K)^+$$\n"
   ]
  },
  {
   "cell_type": "code",
   "execution_count": null,
   "id": "9bedf4a8",
   "metadata": {},
   "outputs": [],
   "source": [
    "#dictionary for option configuration\n",
    "eco_payoff = {\n",
    "    \"pay_off_type\": \"European_Call_Option\",\n",
    "    \"strike\": 0.5,\n",
    "}\n",
    "\n",
    "eco = PayOff(**eco_payoff)"
   ]
  },
  {
   "cell_type": "markdown",
   "id": "876ee251",
   "metadata": {},
   "source": [
    "As can be seen the two properties are python partial functions where the payoff parameters are fixed"
   ]
  },
  {
   "cell_type": "code",
   "execution_count": null,
   "id": "58bf9232",
   "metadata": {},
   "outputs": [],
   "source": [
    "print(type(eco.pay_off))\n",
    "print(type(eco.pay_off_bs))"
   ]
  },
  {
   "cell_type": "markdown",
   "id": "7d5c7ff6",
   "metadata": {},
   "source": [
    "The *pay_off* property can compute the expected return for an input asset value!!"
   ]
  },
  {
   "cell_type": "code",
   "execution_count": null,
   "id": "303df1e2",
   "metadata": {},
   "outputs": [],
   "source": [
    "x = np.linspace(0.1, 7.0, 2**9)\n",
    "plt.plot(x, eco.pay_off(x))"
   ]
  },
  {
   "cell_type": "markdown",
   "id": "59b1df9e",
   "metadata": {},
   "source": [
    "Now we can use the probability density class defined before and the call option pay off for getting the desired price value of our option using the equation $(1)$:"
   ]
  },
  {
   "cell_type": "code",
   "execution_count": null,
   "id": "28c0943e",
   "metadata": {},
   "outputs": [],
   "source": [
    "#This will be BS probability density\n",
    "bs_pdf = DensityProbability(probability_type, **density_dict)\n",
    "\n",
    "#Equation (1) for BS and call option pay off\n",
    "call_option_price = np.sum(bs_pdf.probability(x) * eco.pay_off(x)) * np.exp(\n",
    "    -density_dict['risk_free_rate']*density_dict['maturity']\n",
    ")\n",
    "\n",
    "print(\"call_option_price: {}\".format(call_option_price))"
   ]
  },
  {
   "cell_type": "markdown",
   "id": "4f64bb53",
   "metadata": {},
   "source": [
    "#### Call option under Black-Scholes\n",
    "\n",
    "The call option under the **Black-Scholes** model has an analytical solution for computing the *fair* price:\n",
    "\n",
    "$$V(S_0, K, T)=  e^{rT} \\int_0^\\infty P_{BS} (S_T; S_0) Payoff(S_T, K, T)dS_T=e^{rT} \\int_0^\\infty P_{BS} (S_T; S_0)(S_T-K)^+dS_T$$\n",
    "\n",
    "where\n",
    "\n",
    "$$P_{BS} (S_T; S_0) = \\frac{1}{S_T\\sigma\\sqrt{2\\pi T}}exp\\big({-\\frac{(\\log S_T -\\mu)^2}{2\\sigma^2 T}}\\big)$$\n",
    "\n",
    "and \n",
    "$$\\mu = (r-\\frac{1}{2}\\sigma^2)T+\\log S_0$$\n",
    "\n",
    "The value for a European Call Option under the **Black-Scholes** model has an exact solution:\n",
    " \n",
    "$$V(S(t), t)= S(t)*\\Phi(d_1)-Ke^{-r*(T-t)}\\Phi(d_2) \\tag{2}$$\n",
    " \n",
    "where:\n",
    "\n",
    "$$d_1 = \\frac{log(\\frac{S(t)}{K})+(r+\\frac{1}{2}\\sigma^2)(T-t)}{\\sigma\\sqrt{T-t}}  \\tag{3}$$\n",
    "$$d_2 = \\frac{log(\\frac{S(t)}{K})+(r-\\frac{1}{2}\\sigma^2)(T-t)}{\\sigma\\sqrt{T-t}} \\tag{4}$$\n",
    "$$\\Phi(x)=\\frac{1}{\\sqrt{2\\pi}}\\int_{-\\infty}^{x} e^{\\frac{-1}{2}\\phi^2}d\\phi \\tag{5}$$\n",
    "\n",
    "\n",
    "The **pay_off_bs** property allows the user to compute the equation $(2)$ by providing an input Python dictionary with the parameters of the **Black-Scholes** model!!"
   ]
  },
  {
   "cell_type": "code",
   "execution_count": null,
   "id": "d61f4a1b",
   "metadata": {},
   "outputs": [],
   "source": [
    "print(\"Analytical price of the Call option under BS model: \", eco.pay_off_bs(**density_dict))"
   ]
  },
  {
   "cell_type": "markdown",
   "id": "d0c8f75c",
   "metadata": {},
   "source": [
    "### 5.2 European Put Option\n",
    "\n",
    "This derivative allows the holder to sell an underlying asset S at a maturity time $T$ at a fixed price $K$ (**strike**) independently of the value of $S_T$. The return of this option at a time $t$ is:\n",
    "\n",
    "$$f(t, K) = \\max(0, K-S(t))$$\n",
    "\n",
    "And the final payoff (the return at the maturity time $T$) will be:\n",
    "\n",
    "$$Payoff(S_T, T, K)= \\max(0, K-S_T)=(K-S_T)^+$$\n"
   ]
  },
  {
   "cell_type": "code",
   "execution_count": null,
   "id": "4012b501",
   "metadata": {},
   "outputs": [],
   "source": [
    "epo_payoff = {\n",
    "    \"pay_off_type\": \"European_Put_Option\",\n",
    "    \"strike\": 1.5,\n",
    "}\n",
    "\n",
    "epo = PayOff(**epo_payoff)"
   ]
  },
  {
   "cell_type": "code",
   "execution_count": null,
   "id": "7fd8a8d1",
   "metadata": {},
   "outputs": [],
   "source": [
    "x = np.linspace(0.1, 5.5, 2**7)\n",
    "plt.plot(x, epo.pay_off(x))"
   ]
  },
  {
   "cell_type": "code",
   "execution_count": null,
   "id": "befd972a",
   "metadata": {},
   "outputs": [],
   "source": [
    "#This will be BS probability density\n",
    "bs_pdf = DensityProbability(probability_type, **density_dict)\n",
    "\n",
    "#Equation (1) for BS and put option pay off\n",
    "put_option_price = np.sum(bs_pdf.probability(x) * epo.pay_off(x)) * np.exp(\n",
    "    -density_dict['risk_free_rate']*density_dict['maturity']\n",
    ")\n",
    "\n",
    "print(\"put_option_price: {}\".format(put_option_price))"
   ]
  },
  {
   "cell_type": "markdown",
   "id": "16000c3b",
   "metadata": {},
   "source": [
    "#### Put option under the Black-Scholes Model\n",
    "\n",
    "The put option has an analytical price when **Black-Scholes** model is used. \n",
    "\n",
    "$$V(S(t), t)= Ke^{-r*(T-t)}\\Phi(-d_2) - S(t)*\\Phi(-d_1) \\tag{6}$$\n",
    "\n",
    "where $d_1$, $d_2$ and $\\Phi$ are defined following: $(3)$, $(4)$ and $(5)$ respectively.\n",
    "\n",
    "The **pay_off_bs** allows the user to compute it by passing the correspondent parameters for the **Black-Scholes**:\n"
   ]
  },
  {
   "cell_type": "code",
   "execution_count": null,
   "id": "026b6603",
   "metadata": {
    "scrolled": true
   },
   "outputs": [],
   "source": [
    "print(\"Analytical price of the Put option under BS model: \", epo.pay_off_bs(**density_dict))"
   ]
  },
  {
   "cell_type": "markdown",
   "id": "11103cd5",
   "metadata": {},
   "source": [
    "### 5.3 Digital Call Option\n",
    "\n",
    "It is a special case of the call option where the return is a step function. It has an analytical price under the **Black-Scholes** model"
   ]
  },
  {
   "cell_type": "code",
   "execution_count": null,
   "id": "9c6f4e02",
   "metadata": {},
   "outputs": [],
   "source": [
    "dco_payoff = {\n",
    "    \"pay_off_type\": \"Digital_Call_Option\",\n",
    "    \"strike\": 0.5,\n",
    "    \"coupon\": 1.0\n",
    "}\n",
    "\n",
    "dco = PayOff(**dco_payoff)"
   ]
  },
  {
   "cell_type": "code",
   "execution_count": null,
   "id": "3517c9d5",
   "metadata": {},
   "outputs": [],
   "source": [
    "x = np.linspace(0.1, 4.0, 2**7)\n",
    "plt.plot(x, dco.pay_off(x))"
   ]
  },
  {
   "cell_type": "code",
   "execution_count": null,
   "id": "5f94e71b",
   "metadata": {},
   "outputs": [],
   "source": [
    "print(\"Analytical price of the Digital Call Option under  BS model: \", dco.pay_off_bs(**density_dict))\n",
    "\n",
    "dco_option_price = np.sum(dco.pay_off(x, **density_dict)*bs_pdf.probability(x)) * np.exp(\n",
    "    -density_dict['risk_free_rate']*density_dict['maturity']\n",
    ")\n",
    "print(\"Approximate Digital Call Option price: \", dco_option_price)"
   ]
  },
  {
   "cell_type": "markdown",
   "id": "e629c854",
   "metadata": {},
   "source": [
    "### 5.3 Digital Put Option\n",
    "\n",
    "It is a special case of the put option where the return is a step function. It has an analytical price under the **Black-Scholes** model"
   ]
  },
  {
   "cell_type": "code",
   "execution_count": null,
   "id": "100744d4",
   "metadata": {},
   "outputs": [],
   "source": [
    "dpo_payoff = {\n",
    "    \"pay_off_type\": \"Digital_Put_Option\",\n",
    "    \"strike\": 1.5,\n",
    "    \"coupon\": 1.0    \n",
    "}\n",
    "\n",
    "dpo = PayOff(**dpo_payoff)"
   ]
  },
  {
   "cell_type": "code",
   "execution_count": null,
   "id": "0d8ade93",
   "metadata": {},
   "outputs": [],
   "source": [
    "x = np.linspace(0.1, 4.0, 2**7)\n",
    "plt.plot(x, dpo.pay_off(x))"
   ]
  },
  {
   "cell_type": "code",
   "execution_count": null,
   "id": "7f1a771f",
   "metadata": {},
   "outputs": [],
   "source": [
    "print(\"Analytical price of the Digital Put Option under  BS model: \", dpo.pay_off_bs(**density_dict))\n",
    "\n",
    "dpo_option_price = np.sum(dpo.pay_off(x, **density_dict)*bs_pdf.probability(x)) * np.exp(\n",
    "    -density_dict['risk_free_rate']*density_dict['maturity']\n",
    ")\n",
    "print(\"Approximate Digital Call Option price: \", dpo_option_price)"
   ]
  },
  {
   "cell_type": "markdown",
   "id": "b2208ccc",
   "metadata": {},
   "source": [
    "## 5.4 Futures\n",
    "\n",
    "The return of a future is a lineal function:\n",
    "\n",
    "$$Payoff(S_T, T, K)= S_T-K$$\n",
    "\n",
    "In this case the returns can be **negative**!!!"
   ]
  },
  {
   "cell_type": "code",
   "execution_count": null,
   "id": "8bd92a49",
   "metadata": {},
   "outputs": [],
   "source": [
    "future_po_dict = {\n",
    "    \"pay_off_type\": \"Futures\",\n",
    "    \"strike\": 1.5,   \n",
    "}\n",
    "\n",
    "future = PayOff(**future_po_dict)"
   ]
  },
  {
   "cell_type": "code",
   "execution_count": null,
   "id": "e617fae2",
   "metadata": {},
   "outputs": [],
   "source": [
    "x = np.linspace(0.1, 5.5, 2**9)\n",
    "plt.plot(x, future.pay_off(x))"
   ]
  },
  {
   "cell_type": "code",
   "execution_count": null,
   "id": "e7cec456",
   "metadata": {
    "scrolled": true
   },
   "outputs": [],
   "source": [
    "print(\"Analytical price of the Future under the BS model: \", future.pay_off_bs(**density_dict))\n",
    "\n",
    "future_price = np.sum(future.pay_off(x, **density_dict)*bs_pdf.probability(x)) * np.exp(\n",
    "    -density_dict['risk_free_rate']*density_dict['maturity']\n",
    ")\n",
    "\n",
    "print(\"Approximate Future price : \", future_price)"
   ]
  },
  {
   "cell_type": "markdown",
   "id": "990e1f2f",
   "metadata": {},
   "source": [
    "**BE AWARE** \n",
    "\n",
    "In the case of the futures the option price can be **Negative**. This is related with a option that generates losses (it is very important knows when this can happen to avoid it!!)"
   ]
  },
  {
   "cell_type": "code",
   "execution_count": null,
   "id": "bbab8240",
   "metadata": {},
   "outputs": [],
   "source": [
    "future_po_dict = {\n",
    "    \"pay_off_type\": \"Futures\",\n",
    "    \"strike\": 2.5,   \n",
    "}\n",
    "\n",
    "future = PayOff(**future_po_dict)\n",
    "print(\"Analytical price of the Future under the BS model: \", future.pay_off_bs(**density_dict))\n",
    "future_price = np.sum(future.pay_off(x, **density_dict)*bs_pdf.probability(x)) * np.exp(\n",
    "    -density_dict['risk_free_rate']*density_dict['maturity']\n",
    ")\n",
    "\n",
    "print(\"Approximate Future price : \", future_price)"
   ]
  },
  {
   "cell_type": "markdown",
   "id": "447c842d",
   "metadata": {},
   "source": [
    "## 6. Summary\n",
    "\n",
    "This notebook has presented several modules for dealing with different derivative options, their payoff and their price estimation. \n",
    "\n",
    "As explained in general for getting the *fair* price of the option at a time $t$ is mandatory to compute the expectation value of the distribution probability of the underlying asset at the maturity time of the option multiplied by the payoff of the option (equation $(1)$). \n",
    "\n",
    "For computing the integral of this expected value the **Amplitude Estimation** algorithms, developed on the **QQuantLib**, can be used. \n",
    "\n",
    "The `AE` and the `Encoding` classes in addition to the `DensityProbability` and the `PayOff` classes (and the *quantum_integration* module) allow the user to build fast implementations for solving option price estimation problems using quantum **AE** techniques!!"
   ]
  }
 ],
 "metadata": {
  "kernelspec": {
   "display_name": "Python 3 (ipykernel)",
   "language": "python",
   "name": "python3"
  },
  "language_info": {
   "codemirror_mode": {
    "name": "ipython",
    "version": 3
   },
   "file_extension": ".py",
   "mimetype": "text/x-python",
   "name": "python",
   "nbconvert_exporter": "python",
   "pygments_lexer": "ipython3",
   "version": "3.9.9"
  }
 },
 "nbformat": 4,
 "nbformat_minor": 5
}
